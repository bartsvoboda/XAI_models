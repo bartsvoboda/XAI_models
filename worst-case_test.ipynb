{
 "cells": [
  {
   "cell_type": "code",
   "execution_count": 76,
   "metadata": {},
   "outputs": [],
   "source": [
    "import dalex as dx\n",
    "from sklearn.tree import DecisionTreeClassifier\n",
    "from interpret.glassbox import ExplainableBoostingClassifier\n",
    "from interpret.glassbox import DecisionListClassifier\n",
    "from sklearn.linear_model import LogisticRegression\n",
    "from sklearn.naive_bayes import GaussianNB\n",
    "\n",
    "\n",
    "clfs = {\n",
    "    \"CART\": DecisionTreeClassifier(random_state=1234),\n",
    "    \"EBM\": ExplainableBoostingClassifier(),\n",
    "    \"LR_l2\": LogisticRegression(penalty=\"l2\",random_state=1234),\n",
    "    \"GNB\": GaussianNB(),\n",
    "    \"LR\": LogisticRegression(penalty=\"none\", random_state=1234),\n",
    "    \"DL\": DecisionListClassifier(random_state=1234) \n",
    "}\n",
    "\n",
    "datasets = ['breast', 'campus', 'churn', 'climate',\n",
    "            'compas', 'diabetes', 'german', 'heart',\n",
    "            'adult', 'student', 'bank', 'credit']"
   ]
  },
  {
   "cell_type": "code",
   "execution_count": 77,
   "metadata": {},
   "outputs": [],
   "source": [
    "from sklearn.base import clone \n",
    "from sklearn import metrics\n",
    "import pandas as pd\n",
    "\n",
    "import helper\n",
    "import importlib\n",
    "importlib.reload(helper)\n",
    "from sklearn.pipeline import make_pipeline\n",
    "\n",
    "dataset = \"heart\"\n",
    "\n",
    "from sklearn.model_selection import train_test_split\n",
    "\n",
    "X=pd.read_csv(f\"./datasets/cleaned/{dataset}_X.csv\")\n",
    "X = X.drop(\"Unnamed: 0\", axis=1)\n",
    "y = pd.read_csv(f\"./semi-syntetic_dataset/CART/{dataset}_y.csv\")\n",
    "\n",
    "features_types_df = pd.read_csv(f\"./datasets/cleaned/datatypes/{dataset}.csv\")\n",
    "\n",
    "feature_inidices = list(map(int, list(features_types_df)))\n",
    "features_names = list(features_types_df.T[0])\n",
    "features_types = list(map(int, list(features_types_df.T[1])))\n",
    "\n",
    "preprocess = helper.select_preprocessing_for_many_feat(feature_inidices, features_types, features_names)"
   ]
  },
  {
   "cell_type": "code",
   "execution_count": 78,
   "metadata": {},
   "outputs": [],
   "source": [
    "from sklearn.model_selection import train_test_split\n",
    "X_train, X_test, y_train, y_test = train_test_split(X, y, train_size=0.8)"
   ]
  },
  {
   "cell_type": "code",
   "execution_count": 79,
   "metadata": {},
   "outputs": [
    {
     "data": {
      "text/plain": [
       "LogisticRegression(penalty='none', random_state=1234)"
      ]
     },
     "execution_count": 79,
     "metadata": {},
     "output_type": "execute_result"
    }
   ],
   "source": [
    "clfs[\"LR\"]"
   ]
  },
  {
   "cell_type": "code",
   "execution_count": 80,
   "metadata": {},
   "outputs": [
    {
     "data": {
      "text/plain": [
       "Pipeline(steps=[('columntransformer',\n",
       "                 ColumnTransformer(transformers=[('onehotencoder',\n",
       "                                                  OneHotEncoder(handle_unknown='ignore',\n",
       "                                                                sparse=False),\n",
       "                                                  ['Sex', 'cp', 'Place']),\n",
       "                                                 ('standardscaler',\n",
       "                                                  StandardScaler(),\n",
       "                                                  ['Age', 'trestbps', 'chol',\n",
       "                                                   'fbs', 'restecg', 'thalach',\n",
       "                                                   'exang', 'oldpeak'])])),\n",
       "                ('explainableboostingclassifier',\n",
       "                 ExplainableBoostingClassifier(feature_names=['fe...\n",
       "                                                              'categorical',\n",
       "                                                              'categorical',\n",
       "                                                              'categorical',\n",
       "                                                              'categorical',\n",
       "                                                              'categorical',\n",
       "                                                              'categorical',\n",
       "                                                              'categorical',\n",
       "                                                              'categorical',\n",
       "                                                              'continuous',\n",
       "                                                              'continuous',\n",
       "                                                              'continuous',\n",
       "                                                              'continuous',\n",
       "                                                              'continuous',\n",
       "                                                              'continuous',\n",
       "                                                              'continuous',\n",
       "                                                              'continuous',\n",
       "                                                              'interaction',\n",
       "                                                              'interaction',\n",
       "                                                              'interaction',\n",
       "                                                              'interaction',\n",
       "                                                              'interaction',\n",
       "                                                              'interaction',\n",
       "                                                              'interaction',\n",
       "                                                              'interaction',\n",
       "                                                              'interaction',\n",
       "                                                              'interaction']))])"
      ]
     },
     "execution_count": 80,
     "metadata": {},
     "output_type": "execute_result"
    }
   ],
   "source": [
    "heart_lr = make_pipeline(\n",
    "    preprocess,\n",
    "    clfs[\"EBM\"]\n",
    ")\n",
    "heart_lr.fit(X, y)"
   ]
  },
  {
   "cell_type": "code",
   "execution_count": 81,
   "metadata": {},
   "outputs": [
    {
     "data": {
      "text/plain": [
       "Pipeline(steps=[('columntransformer',\n",
       "                 ColumnTransformer(transformers=[('onehotencoder',\n",
       "                                                  OneHotEncoder(handle_unknown='ignore',\n",
       "                                                                sparse=False),\n",
       "                                                  ['Sex', 'cp', 'Place']),\n",
       "                                                 ('standardscaler',\n",
       "                                                  StandardScaler(),\n",
       "                                                  ['Age', 'trestbps', 'chol',\n",
       "                                                   'fbs', 'restecg', 'thalach',\n",
       "                                                   'exang', 'oldpeak'])])),\n",
       "                ('decisiontreeclassifier',\n",
       "                 DecisionTreeClassifier(random_state=1234))])"
      ]
     },
     "execution_count": 81,
     "metadata": {},
     "output_type": "execute_result"
    }
   ],
   "source": [
    "heart_cart = make_pipeline(\n",
    "    preprocess,\n",
    "    clfs[\"CART\"]\n",
    ")\n",
    "heart_cart.fit(X, y)"
   ]
  },
  {
   "cell_type": "code",
   "execution_count": 82,
   "metadata": {},
   "outputs": [
    {
     "name": "stdout",
     "output_type": "stream",
     "text": [
      "Preparation of a new explainer is initiated\n",
      "\n",
      "  -> data              : 457 rows 11 cols\n",
      "  -> target variable   : Parameter 'y' was a pandas.DataFrame. Converted to a numpy.ndarray.\n",
      "  -> target variable   : 457 values\n",
      "  -> model_class       : interpret.glassbox.ebm.ebm.ExplainableBoostingClassifier (default)\n",
      "  -> label             : Heart LR pipeline\n",
      "  -> predict function  : <function yhat_proba_default at 0x7f2dc844c700> will be used (default)\n",
      "  -> predict function  : Accepts only pandas.DataFrame, numpy.ndarray causes problems.\n",
      "  -> predicted values  : min = 0.0191, mean = 0.457, max = 0.977\n",
      "  -> model type        : classification will be used (default)\n",
      "  -> residual function : difference between y and yhat (default)\n",
      "  -> residuals         : min = -0.908, mean = 0.00202, max = 0.913\n",
      "  -> model_info        : package sklearn\n",
      "\n",
      "A new explainer has been created!\n"
     ]
    }
   ],
   "source": [
    "heart_lr_exp = dx.Explainer(heart_lr, X, y,\n",
    "                            label=\"Heart LR pipeline\"\n",
    ")"
   ]
  },
  {
   "cell_type": "code",
   "execution_count": 83,
   "metadata": {},
   "outputs": [
    {
     "name": "stdout",
     "output_type": "stream",
     "text": [
      "Preparation of a new explainer is initiated\n",
      "\n",
      "  -> data              : 457 rows 11 cols\n",
      "  -> target variable   : Parameter 'y' was a pandas.DataFrame. Converted to a numpy.ndarray.\n",
      "  -> target variable   : 457 values\n",
      "  -> model_class       : sklearn.tree._classes.DecisionTreeClassifier (default)\n",
      "  -> label             : Heart CART pipeline\n",
      "  -> predict function  : <function yhat_proba_default at 0x7f2dc844c700> will be used (default)\n",
      "  -> predict function  : Accepts only pandas.DataFrame, numpy.ndarray causes problems.\n",
      "  -> predicted values  : min = 0.0, mean = 0.46, max = 1.0\n",
      "  -> model type        : classification will be used (default)\n",
      "  -> residual function : difference between y and yhat (default)\n",
      "  -> residuals         : min = 0.0, mean = 0.0, max = 0.0\n",
      "  -> model_info        : package sklearn\n",
      "\n",
      "A new explainer has been created!\n"
     ]
    }
   ],
   "source": [
    "heart_cart_exp = dx.Explainer(heart_cart, X, y,\n",
    "                            label=\"Heart CART pipeline\"\n",
    ")"
   ]
  },
  {
   "cell_type": "code",
   "execution_count": 84,
   "metadata": {},
   "outputs": [
    {
     "name": "stderr",
     "output_type": "stream",
     "text": [
      "Calculating ceteris paribus: 100%|██████████| 2/2 [00:02<00:00,  1.05s/it]\n"
     ]
    },
    {
     "data": {
      "text/html": [
       "<div>\n",
       "<style scoped>\n",
       "    .dataframe tbody tr th:only-of-type {\n",
       "        vertical-align: middle;\n",
       "    }\n",
       "\n",
       "    .dataframe tbody tr th {\n",
       "        vertical-align: top;\n",
       "    }\n",
       "\n",
       "    .dataframe thead th {\n",
       "        text-align: right;\n",
       "    }\n",
       "</style>\n",
       "<table border=\"1\" class=\"dataframe\">\n",
       "  <thead>\n",
       "    <tr style=\"text-align: right;\">\n",
       "      <th></th>\n",
       "      <th>_vname_</th>\n",
       "      <th>_label_</th>\n",
       "      <th>_x_</th>\n",
       "      <th>_yhat_</th>\n",
       "      <th>_ids_</th>\n",
       "    </tr>\n",
       "  </thead>\n",
       "  <tbody>\n",
       "    <tr>\n",
       "      <th>0</th>\n",
       "      <td>Age</td>\n",
       "      <td>Heart LR pipeline</td>\n",
       "      <td>28.00</td>\n",
       "      <td>0.467384</td>\n",
       "      <td>0</td>\n",
       "    </tr>\n",
       "    <tr>\n",
       "      <th>1</th>\n",
       "      <td>Age</td>\n",
       "      <td>Heart LR pipeline</td>\n",
       "      <td>28.47</td>\n",
       "      <td>0.467384</td>\n",
       "      <td>0</td>\n",
       "    </tr>\n",
       "    <tr>\n",
       "      <th>2</th>\n",
       "      <td>Age</td>\n",
       "      <td>Heart LR pipeline</td>\n",
       "      <td>28.94</td>\n",
       "      <td>0.467384</td>\n",
       "      <td>0</td>\n",
       "    </tr>\n",
       "    <tr>\n",
       "      <th>3</th>\n",
       "      <td>Age</td>\n",
       "      <td>Heart LR pipeline</td>\n",
       "      <td>29.41</td>\n",
       "      <td>0.467384</td>\n",
       "      <td>0</td>\n",
       "    </tr>\n",
       "    <tr>\n",
       "      <th>4</th>\n",
       "      <td>Age</td>\n",
       "      <td>Heart LR pipeline</td>\n",
       "      <td>29.88</td>\n",
       "      <td>0.467384</td>\n",
       "      <td>0</td>\n",
       "    </tr>\n",
       "    <tr>\n",
       "      <th>...</th>\n",
       "      <td>...</td>\n",
       "      <td>...</td>\n",
       "      <td>...</td>\n",
       "      <td>...</td>\n",
       "      <td>...</td>\n",
       "    </tr>\n",
       "    <tr>\n",
       "      <th>197</th>\n",
       "      <td>chol</td>\n",
       "      <td>Heart LR pipeline</td>\n",
       "      <td>578.88</td>\n",
       "      <td>0.599329</td>\n",
       "      <td>0</td>\n",
       "    </tr>\n",
       "    <tr>\n",
       "      <th>198</th>\n",
       "      <td>chol</td>\n",
       "      <td>Heart LR pipeline</td>\n",
       "      <td>584.91</td>\n",
       "      <td>0.599329</td>\n",
       "      <td>0</td>\n",
       "    </tr>\n",
       "    <tr>\n",
       "      <th>199</th>\n",
       "      <td>chol</td>\n",
       "      <td>Heart LR pipeline</td>\n",
       "      <td>590.94</td>\n",
       "      <td>0.599329</td>\n",
       "      <td>0</td>\n",
       "    </tr>\n",
       "    <tr>\n",
       "      <th>200</th>\n",
       "      <td>chol</td>\n",
       "      <td>Heart LR pipeline</td>\n",
       "      <td>596.97</td>\n",
       "      <td>0.599329</td>\n",
       "      <td>0</td>\n",
       "    </tr>\n",
       "    <tr>\n",
       "      <th>201</th>\n",
       "      <td>chol</td>\n",
       "      <td>Heart LR pipeline</td>\n",
       "      <td>603.00</td>\n",
       "      <td>0.599329</td>\n",
       "      <td>0</td>\n",
       "    </tr>\n",
       "  </tbody>\n",
       "</table>\n",
       "<p>202 rows × 5 columns</p>\n",
       "</div>"
      ],
      "text/plain": [
       "    _vname_            _label_     _x_    _yhat_  _ids_\n",
       "0       Age  Heart LR pipeline   28.00  0.467384      0\n",
       "1       Age  Heart LR pipeline   28.47  0.467384      0\n",
       "2       Age  Heart LR pipeline   28.94  0.467384      0\n",
       "3       Age  Heart LR pipeline   29.41  0.467384      0\n",
       "4       Age  Heart LR pipeline   29.88  0.467384      0\n",
       "..      ...                ...     ...       ...    ...\n",
       "197    chol  Heart LR pipeline  578.88  0.599329      0\n",
       "198    chol  Heart LR pipeline  584.91  0.599329      0\n",
       "199    chol  Heart LR pipeline  590.94  0.599329      0\n",
       "200    chol  Heart LR pipeline  596.97  0.599329      0\n",
       "201    chol  Heart LR pipeline  603.00  0.599329      0\n",
       "\n",
       "[202 rows x 5 columns]"
      ]
     },
     "execution_count": 84,
     "metadata": {},
     "output_type": "execute_result"
    }
   ],
   "source": [
    "pd_lr = heart_lr_exp.model_profile(variables=[\"Age\", \"chol\"])\n",
    "pd_lr.result "
   ]
  },
  {
   "cell_type": "code",
   "execution_count": 85,
   "metadata": {},
   "outputs": [
    {
     "name": "stderr",
     "output_type": "stream",
     "text": [
      "Calculating ceteris paribus: 100%|██████████| 11/11 [00:10<00:00,  1.07it/s]\n"
     ]
    },
    {
     "data": {
      "application/vnd.plotly.v1+json": {
       "config": {
        "displaylogo": false,
        "modeBarButtonsToRemove": [
         "sendDataToCloud",
         "lasso2d",
         "autoScale2d",
         "select2d",
         "zoom2d",
         "pan2d",
         "zoomIn2d",
         "zoomOut2d",
         "resetScale2d",
         "toggleSpikelines",
         "hoverCompareCartesian",
         "hoverClosestCartesian"
        ],
        "plotlyServerURL": "https://plot.ly",
        "staticPlot": false,
        "toImageButtonOptions": {
         "height": null,
         "width": null
        }
       },
       "data": [
        {
         "alignmentgroup": "True",
         "base": [
          0.4684513445081519,
          0.4684513445081519,
          0.4684513445081519
         ],
         "customdata": [
          [
           0.43270526744537924,
           "Heart LR pipeline",
           "Place"
          ],
          [
           0.5982358310863038,
           "Heart LR pipeline",
           "Place"
          ],
          [
           0.46143126838712184,
           "Heart LR pipeline",
           "Place"
          ]
         ],
         "hovertemplate": "<b>%{hovertext}</b><br><br>mean_prediction=%{base:.3f}<br>prediction=%{customdata[0]:.3f}<extra></extra>",
         "hovertext": [
          "Heart LR pipeline",
          "Heart LR pipeline",
          "Heart LR pipeline"
         ],
         "legendgroup": "Heart LR pipeline",
         "marker": {
          "color": "#46bac2",
          "pattern": {
           "shape": ""
          }
         },
         "name": "Heart LR pipeline",
         "offsetgroup": "Heart LR pipeline",
         "orientation": "v",
         "showlegend": true,
         "textposition": "auto",
         "type": "bar",
         "x": [
          "Hungary",
          "Switzerland",
          "VA"
         ],
         "xaxis": "x",
         "y": [
          -0.03574607706277266,
          0.12978448657815195,
          -0.007020076121030061
         ],
         "yaxis": "y"
        }
       ],
       "layout": {
        "annotations": [
         {
          "font": {
           "size": 13
          },
          "showarrow": false,
          "text": "Place",
          "x": 0.5,
          "xanchor": "center",
          "xref": "paper",
          "y": 1,
          "yanchor": "bottom",
          "yref": "paper"
         },
         {
          "font": {
           "size": 13
          },
          "showarrow": false,
          "text": "prediction",
          "textangle": -90,
          "x": -0.07,
          "xref": "paper",
          "y": 0.5,
          "yref": "paper"
         }
        ],
        "barmode": "group",
        "font": {
         "color": "#371ea3"
        },
        "height": 489,
        "hovermode": "x unified",
        "legend": {
         "font": {
          "size": 11
         },
         "itemsizing": "constant",
         "orientation": "h",
         "title": {
          "font": {
           "size": 12
          },
          "text": "label"
         },
         "tracegroupgap": 0,
         "x": 1,
         "xanchor": "right",
         "y": 1.0613496932515338,
         "yanchor": "bottom"
        },
        "margin": {
         "b": 71,
         "r": 30,
         "t": 78
        },
        "shapes": [
         {
          "layer": "below",
          "line": {
           "color": "#371ea3",
           "dash": "dot",
           "width": 1.5
          },
          "type": "line",
          "x0": 0,
          "x1": 1,
          "xref": "x domain",
          "y0": 0.4684513445081519,
          "y1": 0.4684513445081519,
          "yref": "y"
         }
        ],
        "template": {
         "data": {
          "scatter": [
           {
            "type": "scatter"
           }
          ]
         }
        },
        "title": {
         "font": {
          "size": 16
         },
         "text": "Aggregated Profiles",
         "x": 0.15
        },
        "xaxis": {
         "anchor": "y",
         "automargin": true,
         "domain": [
          0,
          1
         ],
         "fixedrange": true,
         "gridwidth": 2,
         "showticklabels": true,
         "tickcolor": "white",
         "ticklen": 10,
         "ticks": "outside",
         "title": {
          "text": ""
         },
         "type": "category"
        },
        "yaxis": {
         "anchor": "x",
         "automargin": true,
         "domain": [
          0,
          1
         ],
         "fixedrange": true,
         "gridwidth": 2,
         "range": [
          0.41615221108128675,
          0.6147888874503963
         ],
         "tickcolor": "white",
         "ticklen": 3,
         "ticks": "outside",
         "title": {
          "text": ""
         },
         "type": "linear",
         "zeroline": false
        }
       }
      }
     },
     "metadata": {},
     "output_type": "display_data"
    }
   ],
   "source": [
    "pd_lr_cat = heart_lr_exp.model_profile(variable_type=\"categorical\")\n",
    "pd_lr_cat.plot()"
   ]
  },
  {
   "cell_type": "code",
   "execution_count": 86,
   "metadata": {},
   "outputs": [
    {
     "name": "stderr",
     "output_type": "stream",
     "text": [
      "Calculating ceteris paribus: 100%|██████████| 2/2 [00:00<00:00, 14.60it/s]\n"
     ]
    },
    {
     "data": {
      "text/html": [
       "<div>\n",
       "<style scoped>\n",
       "    .dataframe tbody tr th:only-of-type {\n",
       "        vertical-align: middle;\n",
       "    }\n",
       "\n",
       "    .dataframe tbody tr th {\n",
       "        vertical-align: top;\n",
       "    }\n",
       "\n",
       "    .dataframe thead th {\n",
       "        text-align: right;\n",
       "    }\n",
       "</style>\n",
       "<table border=\"1\" class=\"dataframe\">\n",
       "  <thead>\n",
       "    <tr style=\"text-align: right;\">\n",
       "      <th></th>\n",
       "      <th>_vname_</th>\n",
       "      <th>_label_</th>\n",
       "      <th>_x_</th>\n",
       "      <th>_yhat_</th>\n",
       "      <th>_ids_</th>\n",
       "    </tr>\n",
       "  </thead>\n",
       "  <tbody>\n",
       "    <tr>\n",
       "      <th>0</th>\n",
       "      <td>Age</td>\n",
       "      <td>Heart CART pipeline</td>\n",
       "      <td>28.00</td>\n",
       "      <td>0.486667</td>\n",
       "      <td>0</td>\n",
       "    </tr>\n",
       "    <tr>\n",
       "      <th>1</th>\n",
       "      <td>Age</td>\n",
       "      <td>Heart CART pipeline</td>\n",
       "      <td>28.47</td>\n",
       "      <td>0.486667</td>\n",
       "      <td>0</td>\n",
       "    </tr>\n",
       "    <tr>\n",
       "      <th>2</th>\n",
       "      <td>Age</td>\n",
       "      <td>Heart CART pipeline</td>\n",
       "      <td>28.94</td>\n",
       "      <td>0.486667</td>\n",
       "      <td>0</td>\n",
       "    </tr>\n",
       "    <tr>\n",
       "      <th>3</th>\n",
       "      <td>Age</td>\n",
       "      <td>Heart CART pipeline</td>\n",
       "      <td>29.41</td>\n",
       "      <td>0.486667</td>\n",
       "      <td>0</td>\n",
       "    </tr>\n",
       "    <tr>\n",
       "      <th>4</th>\n",
       "      <td>Age</td>\n",
       "      <td>Heart CART pipeline</td>\n",
       "      <td>29.88</td>\n",
       "      <td>0.486667</td>\n",
       "      <td>0</td>\n",
       "    </tr>\n",
       "    <tr>\n",
       "      <th>...</th>\n",
       "      <td>...</td>\n",
       "      <td>...</td>\n",
       "      <td>...</td>\n",
       "      <td>...</td>\n",
       "      <td>...</td>\n",
       "    </tr>\n",
       "    <tr>\n",
       "      <th>197</th>\n",
       "      <td>chol</td>\n",
       "      <td>Heart CART pipeline</td>\n",
       "      <td>578.88</td>\n",
       "      <td>0.596667</td>\n",
       "      <td>0</td>\n",
       "    </tr>\n",
       "    <tr>\n",
       "      <th>198</th>\n",
       "      <td>chol</td>\n",
       "      <td>Heart CART pipeline</td>\n",
       "      <td>584.91</td>\n",
       "      <td>0.596667</td>\n",
       "      <td>0</td>\n",
       "    </tr>\n",
       "    <tr>\n",
       "      <th>199</th>\n",
       "      <td>chol</td>\n",
       "      <td>Heart CART pipeline</td>\n",
       "      <td>590.94</td>\n",
       "      <td>0.596667</td>\n",
       "      <td>0</td>\n",
       "    </tr>\n",
       "    <tr>\n",
       "      <th>200</th>\n",
       "      <td>chol</td>\n",
       "      <td>Heart CART pipeline</td>\n",
       "      <td>596.97</td>\n",
       "      <td>0.596667</td>\n",
       "      <td>0</td>\n",
       "    </tr>\n",
       "    <tr>\n",
       "      <th>201</th>\n",
       "      <td>chol</td>\n",
       "      <td>Heart CART pipeline</td>\n",
       "      <td>603.00</td>\n",
       "      <td>0.596667</td>\n",
       "      <td>0</td>\n",
       "    </tr>\n",
       "  </tbody>\n",
       "</table>\n",
       "<p>202 rows × 5 columns</p>\n",
       "</div>"
      ],
      "text/plain": [
       "    _vname_              _label_     _x_    _yhat_  _ids_\n",
       "0       Age  Heart CART pipeline   28.00  0.486667      0\n",
       "1       Age  Heart CART pipeline   28.47  0.486667      0\n",
       "2       Age  Heart CART pipeline   28.94  0.486667      0\n",
       "3       Age  Heart CART pipeline   29.41  0.486667      0\n",
       "4       Age  Heart CART pipeline   29.88  0.486667      0\n",
       "..      ...                  ...     ...       ...    ...\n",
       "197    chol  Heart CART pipeline  578.88  0.596667      0\n",
       "198    chol  Heart CART pipeline  584.91  0.596667      0\n",
       "199    chol  Heart CART pipeline  590.94  0.596667      0\n",
       "200    chol  Heart CART pipeline  596.97  0.596667      0\n",
       "201    chol  Heart CART pipeline  603.00  0.596667      0\n",
       "\n",
       "[202 rows x 5 columns]"
      ]
     },
     "execution_count": 86,
     "metadata": {},
     "output_type": "execute_result"
    }
   ],
   "source": [
    "pd_cart = heart_cart_exp.model_profile(variables=[\"Age\", \"chol\"])\n",
    "pd_cart.result "
   ]
  },
  {
   "cell_type": "code",
   "execution_count": 87,
   "metadata": {},
   "outputs": [
    {
     "data": {
      "application/vnd.plotly.v1+json": {
       "config": {
        "displaylogo": false,
        "modeBarButtonsToRemove": [
         "sendDataToCloud",
         "lasso2d",
         "autoScale2d",
         "select2d",
         "zoom2d",
         "pan2d",
         "zoomIn2d",
         "zoomOut2d",
         "resetScale2d",
         "toggleSpikelines",
         "hoverCompareCartesian",
         "hoverClosestCartesian"
        ],
        "plotlyServerURL": "https://plot.ly",
        "staticPlot": false,
        "toImageButtonOptions": {
         "height": null,
         "width": null
        }
       },
       "data": [
        {
         "customdata": [
          [
           0.4489691681898686,
           "Heart LR pipeline",
           "Age"
          ],
          [
           0.4489691681898686,
           "Heart LR pipeline",
           "Age"
          ],
          [
           0.4489691681898686,
           "Heart LR pipeline",
           "Age"
          ],
          [
           0.4489691681898686,
           "Heart LR pipeline",
           "Age"
          ],
          [
           0.4489691681898686,
           "Heart LR pipeline",
           "Age"
          ],
          [
           0.4489691681898686,
           "Heart LR pipeline",
           "Age"
          ],
          [
           0.4489691681898686,
           "Heart LR pipeline",
           "Age"
          ],
          [
           0.4489691681898686,
           "Heart LR pipeline",
           "Age"
          ],
          [
           0.4489691681898686,
           "Heart LR pipeline",
           "Age"
          ],
          [
           0.4489691681898686,
           "Heart LR pipeline",
           "Age"
          ],
          [
           0.4489691681898686,
           "Heart LR pipeline",
           "Age"
          ],
          [
           0.4489691681898686,
           "Heart LR pipeline",
           "Age"
          ],
          [
           0.4489691681898686,
           "Heart LR pipeline",
           "Age"
          ],
          [
           0.4489691681898686,
           "Heart LR pipeline",
           "Age"
          ],
          [
           0.4489691681898686,
           "Heart LR pipeline",
           "Age"
          ],
          [
           0.4489691681898686,
           "Heart LR pipeline",
           "Age"
          ],
          [
           0.4489691681898686,
           "Heart LR pipeline",
           "Age"
          ],
          [
           0.4489691681898686,
           "Heart LR pipeline",
           "Age"
          ],
          [
           0.4489691681898686,
           "Heart LR pipeline",
           "Age"
          ],
          [
           0.4489691681898686,
           "Heart LR pipeline",
           "Age"
          ],
          [
           0.4489691681898686,
           "Heart LR pipeline",
           "Age"
          ],
          [
           0.4489691681898686,
           "Heart LR pipeline",
           "Age"
          ],
          [
           0.4489691681898686,
           "Heart LR pipeline",
           "Age"
          ],
          [
           0.4489691681898686,
           "Heart LR pipeline",
           "Age"
          ],
          [
           0.4489691681898686,
           "Heart LR pipeline",
           "Age"
          ],
          [
           0.4489691681898686,
           "Heart LR pipeline",
           "Age"
          ],
          [
           0.4489691681898686,
           "Heart LR pipeline",
           "Age"
          ],
          [
           0.4489691681898686,
           "Heart LR pipeline",
           "Age"
          ],
          [
           0.4489691681898686,
           "Heart LR pipeline",
           "Age"
          ],
          [
           0.4489691681898686,
           "Heart LR pipeline",
           "Age"
          ],
          [
           0.4489691681898686,
           "Heart LR pipeline",
           "Age"
          ],
          [
           0.4489691681898686,
           "Heart LR pipeline",
           "Age"
          ],
          [
           0.4489691681898686,
           "Heart LR pipeline",
           "Age"
          ],
          [
           0.4489691681898686,
           "Heart LR pipeline",
           "Age"
          ],
          [
           0.4489691681898686,
           "Heart LR pipeline",
           "Age"
          ],
          [
           0.4489691681898686,
           "Heart LR pipeline",
           "Age"
          ],
          [
           0.4489691681898686,
           "Heart LR pipeline",
           "Age"
          ],
          [
           0.4489691681898686,
           "Heart LR pipeline",
           "Age"
          ],
          [
           0.4489691681898686,
           "Heart LR pipeline",
           "Age"
          ],
          [
           0.4489691681898686,
           "Heart LR pipeline",
           "Age"
          ],
          [
           0.4489691681898686,
           "Heart LR pipeline",
           "Age"
          ],
          [
           0.4489691681898686,
           "Heart LR pipeline",
           "Age"
          ],
          [
           0.4489691681898686,
           "Heart LR pipeline",
           "Age"
          ],
          [
           0.4489691681898686,
           "Heart LR pipeline",
           "Age"
          ],
          [
           0.4489691681898686,
           "Heart LR pipeline",
           "Age"
          ],
          [
           0.4489691681898686,
           "Heart LR pipeline",
           "Age"
          ],
          [
           0.4489691681898686,
           "Heart LR pipeline",
           "Age"
          ],
          [
           0.4489691681898686,
           "Heart LR pipeline",
           "Age"
          ],
          [
           0.4489691681898686,
           "Heart LR pipeline",
           "Age"
          ],
          [
           0.4489691681898686,
           "Heart LR pipeline",
           "Age"
          ],
          [
           0.4489691681898686,
           "Heart LR pipeline",
           "Age"
          ],
          [
           0.4489691681898686,
           "Heart LR pipeline",
           "Age"
          ],
          [
           0.4489691681898686,
           "Heart LR pipeline",
           "Age"
          ],
          [
           0.4489691681898686,
           "Heart LR pipeline",
           "Age"
          ],
          [
           0.4489691681898686,
           "Heart LR pipeline",
           "Age"
          ],
          [
           0.4489691681898686,
           "Heart LR pipeline",
           "Age"
          ],
          [
           0.4489691681898686,
           "Heart LR pipeline",
           "Age"
          ],
          [
           0.4489691681898686,
           "Heart LR pipeline",
           "Age"
          ],
          [
           0.4489691681898686,
           "Heart LR pipeline",
           "Age"
          ],
          [
           0.4489691681898686,
           "Heart LR pipeline",
           "Age"
          ],
          [
           0.4489691681898686,
           "Heart LR pipeline",
           "Age"
          ],
          [
           0.4489691681898686,
           "Heart LR pipeline",
           "Age"
          ],
          [
           0.4489691681898686,
           "Heart LR pipeline",
           "Age"
          ],
          [
           0.4489691681898686,
           "Heart LR pipeline",
           "Age"
          ],
          [
           0.4489691681898686,
           "Heart LR pipeline",
           "Age"
          ],
          [
           0.4489691681898686,
           "Heart LR pipeline",
           "Age"
          ],
          [
           0.4489691681898686,
           "Heart LR pipeline",
           "Age"
          ],
          [
           0.4489691681898686,
           "Heart LR pipeline",
           "Age"
          ],
          [
           0.4489691681898686,
           "Heart LR pipeline",
           "Age"
          ],
          [
           0.4489691681898686,
           "Heart LR pipeline",
           "Age"
          ],
          [
           0.4489691681898686,
           "Heart LR pipeline",
           "Age"
          ],
          [
           0.4489691681898686,
           "Heart LR pipeline",
           "Age"
          ],
          [
           0.4489691681898686,
           "Heart LR pipeline",
           "Age"
          ],
          [
           0.4489691681898686,
           "Heart LR pipeline",
           "Age"
          ],
          [
           0.4489691681898686,
           "Heart LR pipeline",
           "Age"
          ],
          [
           0.4489691681898686,
           "Heart LR pipeline",
           "Age"
          ],
          [
           0.4489691681898686,
           "Heart LR pipeline",
           "Age"
          ],
          [
           0.4489691681898686,
           "Heart LR pipeline",
           "Age"
          ],
          [
           0.4489691681898686,
           "Heart LR pipeline",
           "Age"
          ],
          [
           0.4489691681898686,
           "Heart LR pipeline",
           "Age"
          ],
          [
           0.4489691681898686,
           "Heart LR pipeline",
           "Age"
          ],
          [
           0.4489691681898686,
           "Heart LR pipeline",
           "Age"
          ],
          [
           0.4489691681898686,
           "Heart LR pipeline",
           "Age"
          ],
          [
           0.4489691681898686,
           "Heart LR pipeline",
           "Age"
          ],
          [
           0.4489691681898686,
           "Heart LR pipeline",
           "Age"
          ],
          [
           0.4489691681898686,
           "Heart LR pipeline",
           "Age"
          ],
          [
           0.4489691681898686,
           "Heart LR pipeline",
           "Age"
          ],
          [
           0.4489691681898686,
           "Heart LR pipeline",
           "Age"
          ],
          [
           0.4489691681898686,
           "Heart LR pipeline",
           "Age"
          ],
          [
           0.4489691681898686,
           "Heart LR pipeline",
           "Age"
          ],
          [
           0.4489691681898686,
           "Heart LR pipeline",
           "Age"
          ],
          [
           0.4489691681898686,
           "Heart LR pipeline",
           "Age"
          ],
          [
           0.4489691681898686,
           "Heart LR pipeline",
           "Age"
          ],
          [
           0.4489691681898686,
           "Heart LR pipeline",
           "Age"
          ],
          [
           0.4489691681898686,
           "Heart LR pipeline",
           "Age"
          ],
          [
           0.4489691681898686,
           "Heart LR pipeline",
           "Age"
          ],
          [
           0.4489691681898686,
           "Heart LR pipeline",
           "Age"
          ],
          [
           0.4489691681898686,
           "Heart LR pipeline",
           "Age"
          ],
          [
           0.4489691681898686,
           "Heart LR pipeline",
           "Age"
          ],
          [
           0.4489691681898686,
           "Heart LR pipeline",
           "Age"
          ],
          [
           0.4489691681898686,
           "Heart LR pipeline",
           "Age"
          ]
         ],
         "hovertemplate": "<b>%{hovertext}</b><br><br>prediction=%{y:.3f}<br>mean_prediction=%{customdata[0]:.3f}<extra></extra>",
         "hovertext": [
          "Heart LR pipeline",
          "Heart LR pipeline",
          "Heart LR pipeline",
          "Heart LR pipeline",
          "Heart LR pipeline",
          "Heart LR pipeline",
          "Heart LR pipeline",
          "Heart LR pipeline",
          "Heart LR pipeline",
          "Heart LR pipeline",
          "Heart LR pipeline",
          "Heart LR pipeline",
          "Heart LR pipeline",
          "Heart LR pipeline",
          "Heart LR pipeline",
          "Heart LR pipeline",
          "Heart LR pipeline",
          "Heart LR pipeline",
          "Heart LR pipeline",
          "Heart LR pipeline",
          "Heart LR pipeline",
          "Heart LR pipeline",
          "Heart LR pipeline",
          "Heart LR pipeline",
          "Heart LR pipeline",
          "Heart LR pipeline",
          "Heart LR pipeline",
          "Heart LR pipeline",
          "Heart LR pipeline",
          "Heart LR pipeline",
          "Heart LR pipeline",
          "Heart LR pipeline",
          "Heart LR pipeline",
          "Heart LR pipeline",
          "Heart LR pipeline",
          "Heart LR pipeline",
          "Heart LR pipeline",
          "Heart LR pipeline",
          "Heart LR pipeline",
          "Heart LR pipeline",
          "Heart LR pipeline",
          "Heart LR pipeline",
          "Heart LR pipeline",
          "Heart LR pipeline",
          "Heart LR pipeline",
          "Heart LR pipeline",
          "Heart LR pipeline",
          "Heart LR pipeline",
          "Heart LR pipeline",
          "Heart LR pipeline",
          "Heart LR pipeline",
          "Heart LR pipeline",
          "Heart LR pipeline",
          "Heart LR pipeline",
          "Heart LR pipeline",
          "Heart LR pipeline",
          "Heart LR pipeline",
          "Heart LR pipeline",
          "Heart LR pipeline",
          "Heart LR pipeline",
          "Heart LR pipeline",
          "Heart LR pipeline",
          "Heart LR pipeline",
          "Heart LR pipeline",
          "Heart LR pipeline",
          "Heart LR pipeline",
          "Heart LR pipeline",
          "Heart LR pipeline",
          "Heart LR pipeline",
          "Heart LR pipeline",
          "Heart LR pipeline",
          "Heart LR pipeline",
          "Heart LR pipeline",
          "Heart LR pipeline",
          "Heart LR pipeline",
          "Heart LR pipeline",
          "Heart LR pipeline",
          "Heart LR pipeline",
          "Heart LR pipeline",
          "Heart LR pipeline",
          "Heart LR pipeline",
          "Heart LR pipeline",
          "Heart LR pipeline",
          "Heart LR pipeline",
          "Heart LR pipeline",
          "Heart LR pipeline",
          "Heart LR pipeline",
          "Heart LR pipeline",
          "Heart LR pipeline",
          "Heart LR pipeline",
          "Heart LR pipeline",
          "Heart LR pipeline",
          "Heart LR pipeline",
          "Heart LR pipeline",
          "Heart LR pipeline",
          "Heart LR pipeline",
          "Heart LR pipeline",
          "Heart LR pipeline",
          "Heart LR pipeline",
          "Heart LR pipeline",
          "Heart LR pipeline"
         ],
         "legendgroup": "Heart LR pipeline",
         "line": {
          "color": "#46bac2",
          "dash": "solid",
          "width": 2
         },
         "marker": {
          "symbol": "circle"
         },
         "mode": "lines",
         "name": "Heart LR pipeline",
         "opacity": 1,
         "orientation": "v",
         "showlegend": true,
         "type": "scatter",
         "x": [
          28,
          28.47,
          28.94,
          29.41,
          29.88,
          30.35,
          30.82,
          31.29,
          31.759999999999998,
          32.23,
          32.7,
          33.17,
          33.64,
          34.11,
          34.58,
          35.05,
          35.519999999999996,
          35.99,
          36.46,
          36.93,
          37.4,
          37.87,
          38.34,
          38.81,
          39.28,
          39.75,
          40.22,
          40.69,
          41.16,
          41.629999999999995,
          42.1,
          42.57,
          43.04,
          43.51,
          43.98,
          44.45,
          44.92,
          45.39,
          45.86,
          46.33,
          46.8,
          47.269999999999996,
          47.739999999999995,
          48.209999999999994,
          48.68,
          49.15,
          49.62,
          50.09,
          50.56,
          51.03,
          51.5,
          51.97,
          52.44,
          52.91,
          53.379999999999995,
          53.849999999999994,
          54.32,
          54.79,
          55.26,
          55.73,
          56.2,
          56.67,
          57.14,
          57.61,
          58.08,
          58.55,
          59.019999999999996,
          59.489999999999995,
          59.959999999999994,
          60.43,
          60.9,
          61.37,
          61.839999999999996,
          62.309999999999995,
          62.78,
          63.25,
          63.72,
          64.19,
          64.66,
          65.13,
          65.6,
          66.07,
          66.53999999999999,
          67.00999999999999,
          67.47999999999999,
          67.94999999999999,
          68.41999999999999,
          68.89,
          69.36,
          69.83,
          70.3,
          70.77,
          71.24,
          71.71000000000001,
          72.18,
          72.65,
          73.12,
          73.59,
          74.06,
          74.53,
          75
         ],
         "xaxis": "x",
         "y": [
          0.4673842021271305,
          0.4673842021271305,
          0.4673842021271305,
          0.4673842021271305,
          0.4673842021271305,
          0.4673842021271305,
          0.4673842021271305,
          0.4673842021271305,
          0.4673842021271305,
          0.4673842021271305,
          0.4673842021271305,
          0.4673842021271305,
          0.4673842021271305,
          0.4673842021271305,
          0.4659351582288686,
          0.4659351582288686,
          0.45491012569704,
          0.45491012569704,
          0.45491012569704,
          0.42740417487918736,
          0.42740417487918736,
          0.44857628379332465,
          0.44857628379332465,
          0.4196460410404462,
          0.4196460410404462,
          0.4196460410404462,
          0.4196460410404462,
          0.4115993417639178,
          0.4115993417639178,
          0.4063798586025845,
          0.4063798586025845,
          0.4168872856508306,
          0.4168872856508306,
          0.41577033952827624,
          0.41577033952827624,
          0.41577033952827624,
          0.40999070976903645,
          0.40999070976903645,
          0.4540232368421298,
          0.4540232368421298,
          0.4569212357890395,
          0.4569212357890395,
          0.45519870917388167,
          0.45519870917388167,
          0.458715273480627,
          0.458715273480627,
          0.458715273480627,
          0.458715273480627,
          0.45075593001032577,
          0.45075593001032577,
          0.45075593001032577,
          0.45075593001032577,
          0.45075593001032577,
          0.44966425361977663,
          0.44966425361977663,
          0.44966425361977663,
          0.44966425361977663,
          0.4492087051522822,
          0.4492087051522822,
          0.46118591041343443,
          0.46118591041343443,
          0.4582408415592255,
          0.4582408415592255,
          0.45710001045326226,
          0.45710001045326226,
          0.45200738032127485,
          0.45200738032127485,
          0.45200738032127485,
          0.4492486423217472,
          0.4492486423217472,
          0.4492486423217472,
          0.4492486423217472,
          0.4796620945979787,
          0.4796620945979787,
          0.48101301452900874,
          0.48101301452900874,
          0.4787519704383629,
          0.4787519704383629,
          0.47401337299769464,
          0.47401337299769464,
          0.44860129130231724,
          0.44860129130231724,
          0.44860129130231724,
          0.44860129130231724,
          0.44860129130231724,
          0.44860129130231724,
          0.44860129130231724,
          0.42697301998486475,
          0.42697301998486475,
          0.42697301998486475,
          0.42697301998486475,
          0.42697301998486475,
          0.42697301998486475,
          0.42697301998486475,
          0.42697301998486475,
          0.45285711206875573,
          0.45285711206875573,
          0.45285711206875573,
          0.45285711206875573,
          0.37138425912434525,
          0.37138425912434525
         ],
         "yaxis": "y"
        },
        {
         "customdata": [
          [
           0.4489691681898686,
           "Heart LR pipeline",
           "chol"
          ],
          [
           0.4489691681898686,
           "Heart LR pipeline",
           "chol"
          ],
          [
           0.4489691681898686,
           "Heart LR pipeline",
           "chol"
          ],
          [
           0.4489691681898686,
           "Heart LR pipeline",
           "chol"
          ],
          [
           0.4489691681898686,
           "Heart LR pipeline",
           "chol"
          ],
          [
           0.4489691681898686,
           "Heart LR pipeline",
           "chol"
          ],
          [
           0.4489691681898686,
           "Heart LR pipeline",
           "chol"
          ],
          [
           0.4489691681898686,
           "Heart LR pipeline",
           "chol"
          ],
          [
           0.4489691681898686,
           "Heart LR pipeline",
           "chol"
          ],
          [
           0.4489691681898686,
           "Heart LR pipeline",
           "chol"
          ],
          [
           0.4489691681898686,
           "Heart LR pipeline",
           "chol"
          ],
          [
           0.4489691681898686,
           "Heart LR pipeline",
           "chol"
          ],
          [
           0.4489691681898686,
           "Heart LR pipeline",
           "chol"
          ],
          [
           0.4489691681898686,
           "Heart LR pipeline",
           "chol"
          ],
          [
           0.4489691681898686,
           "Heart LR pipeline",
           "chol"
          ],
          [
           0.4489691681898686,
           "Heart LR pipeline",
           "chol"
          ],
          [
           0.4489691681898686,
           "Heart LR pipeline",
           "chol"
          ],
          [
           0.4489691681898686,
           "Heart LR pipeline",
           "chol"
          ],
          [
           0.4489691681898686,
           "Heart LR pipeline",
           "chol"
          ],
          [
           0.4489691681898686,
           "Heart LR pipeline",
           "chol"
          ],
          [
           0.4489691681898686,
           "Heart LR pipeline",
           "chol"
          ],
          [
           0.4489691681898686,
           "Heart LR pipeline",
           "chol"
          ],
          [
           0.4489691681898686,
           "Heart LR pipeline",
           "chol"
          ],
          [
           0.4489691681898686,
           "Heart LR pipeline",
           "chol"
          ],
          [
           0.4489691681898686,
           "Heart LR pipeline",
           "chol"
          ],
          [
           0.4489691681898686,
           "Heart LR pipeline",
           "chol"
          ],
          [
           0.4489691681898686,
           "Heart LR pipeline",
           "chol"
          ],
          [
           0.4489691681898686,
           "Heart LR pipeline",
           "chol"
          ],
          [
           0.4489691681898686,
           "Heart LR pipeline",
           "chol"
          ],
          [
           0.4489691681898686,
           "Heart LR pipeline",
           "chol"
          ],
          [
           0.4489691681898686,
           "Heart LR pipeline",
           "chol"
          ],
          [
           0.4489691681898686,
           "Heart LR pipeline",
           "chol"
          ],
          [
           0.4489691681898686,
           "Heart LR pipeline",
           "chol"
          ],
          [
           0.4489691681898686,
           "Heart LR pipeline",
           "chol"
          ],
          [
           0.4489691681898686,
           "Heart LR pipeline",
           "chol"
          ],
          [
           0.4489691681898686,
           "Heart LR pipeline",
           "chol"
          ],
          [
           0.4489691681898686,
           "Heart LR pipeline",
           "chol"
          ],
          [
           0.4489691681898686,
           "Heart LR pipeline",
           "chol"
          ],
          [
           0.4489691681898686,
           "Heart LR pipeline",
           "chol"
          ],
          [
           0.4489691681898686,
           "Heart LR pipeline",
           "chol"
          ],
          [
           0.4489691681898686,
           "Heart LR pipeline",
           "chol"
          ],
          [
           0.4489691681898686,
           "Heart LR pipeline",
           "chol"
          ],
          [
           0.4489691681898686,
           "Heart LR pipeline",
           "chol"
          ],
          [
           0.4489691681898686,
           "Heart LR pipeline",
           "chol"
          ],
          [
           0.4489691681898686,
           "Heart LR pipeline",
           "chol"
          ],
          [
           0.4489691681898686,
           "Heart LR pipeline",
           "chol"
          ],
          [
           0.4489691681898686,
           "Heart LR pipeline",
           "chol"
          ],
          [
           0.4489691681898686,
           "Heart LR pipeline",
           "chol"
          ],
          [
           0.4489691681898686,
           "Heart LR pipeline",
           "chol"
          ],
          [
           0.4489691681898686,
           "Heart LR pipeline",
           "chol"
          ],
          [
           0.4489691681898686,
           "Heart LR pipeline",
           "chol"
          ],
          [
           0.4489691681898686,
           "Heart LR pipeline",
           "chol"
          ],
          [
           0.4489691681898686,
           "Heart LR pipeline",
           "chol"
          ],
          [
           0.4489691681898686,
           "Heart LR pipeline",
           "chol"
          ],
          [
           0.4489691681898686,
           "Heart LR pipeline",
           "chol"
          ],
          [
           0.4489691681898686,
           "Heart LR pipeline",
           "chol"
          ],
          [
           0.4489691681898686,
           "Heart LR pipeline",
           "chol"
          ],
          [
           0.4489691681898686,
           "Heart LR pipeline",
           "chol"
          ],
          [
           0.4489691681898686,
           "Heart LR pipeline",
           "chol"
          ],
          [
           0.4489691681898686,
           "Heart LR pipeline",
           "chol"
          ],
          [
           0.4489691681898686,
           "Heart LR pipeline",
           "chol"
          ],
          [
           0.4489691681898686,
           "Heart LR pipeline",
           "chol"
          ],
          [
           0.4489691681898686,
           "Heart LR pipeline",
           "chol"
          ],
          [
           0.4489691681898686,
           "Heart LR pipeline",
           "chol"
          ],
          [
           0.4489691681898686,
           "Heart LR pipeline",
           "chol"
          ],
          [
           0.4489691681898686,
           "Heart LR pipeline",
           "chol"
          ],
          [
           0.4489691681898686,
           "Heart LR pipeline",
           "chol"
          ],
          [
           0.4489691681898686,
           "Heart LR pipeline",
           "chol"
          ],
          [
           0.4489691681898686,
           "Heart LR pipeline",
           "chol"
          ],
          [
           0.4489691681898686,
           "Heart LR pipeline",
           "chol"
          ],
          [
           0.4489691681898686,
           "Heart LR pipeline",
           "chol"
          ],
          [
           0.4489691681898686,
           "Heart LR pipeline",
           "chol"
          ],
          [
           0.4489691681898686,
           "Heart LR pipeline",
           "chol"
          ],
          [
           0.4489691681898686,
           "Heart LR pipeline",
           "chol"
          ],
          [
           0.4489691681898686,
           "Heart LR pipeline",
           "chol"
          ],
          [
           0.4489691681898686,
           "Heart LR pipeline",
           "chol"
          ],
          [
           0.4489691681898686,
           "Heart LR pipeline",
           "chol"
          ],
          [
           0.4489691681898686,
           "Heart LR pipeline",
           "chol"
          ],
          [
           0.4489691681898686,
           "Heart LR pipeline",
           "chol"
          ],
          [
           0.4489691681898686,
           "Heart LR pipeline",
           "chol"
          ],
          [
           0.4489691681898686,
           "Heart LR pipeline",
           "chol"
          ],
          [
           0.4489691681898686,
           "Heart LR pipeline",
           "chol"
          ],
          [
           0.4489691681898686,
           "Heart LR pipeline",
           "chol"
          ],
          [
           0.4489691681898686,
           "Heart LR pipeline",
           "chol"
          ],
          [
           0.4489691681898686,
           "Heart LR pipeline",
           "chol"
          ],
          [
           0.4489691681898686,
           "Heart LR pipeline",
           "chol"
          ],
          [
           0.4489691681898686,
           "Heart LR pipeline",
           "chol"
          ],
          [
           0.4489691681898686,
           "Heart LR pipeline",
           "chol"
          ],
          [
           0.4489691681898686,
           "Heart LR pipeline",
           "chol"
          ],
          [
           0.4489691681898686,
           "Heart LR pipeline",
           "chol"
          ],
          [
           0.4489691681898686,
           "Heart LR pipeline",
           "chol"
          ],
          [
           0.4489691681898686,
           "Heart LR pipeline",
           "chol"
          ],
          [
           0.4489691681898686,
           "Heart LR pipeline",
           "chol"
          ],
          [
           0.4489691681898686,
           "Heart LR pipeline",
           "chol"
          ],
          [
           0.4489691681898686,
           "Heart LR pipeline",
           "chol"
          ],
          [
           0.4489691681898686,
           "Heart LR pipeline",
           "chol"
          ],
          [
           0.4489691681898686,
           "Heart LR pipeline",
           "chol"
          ],
          [
           0.4489691681898686,
           "Heart LR pipeline",
           "chol"
          ],
          [
           0.4489691681898686,
           "Heart LR pipeline",
           "chol"
          ],
          [
           0.4489691681898686,
           "Heart LR pipeline",
           "chol"
          ],
          [
           0.4489691681898686,
           "Heart LR pipeline",
           "chol"
          ]
         ],
         "hovertemplate": "<b>%{hovertext}</b><br><br>prediction=%{y:.3f}<br>mean_prediction=%{customdata[0]:.3f}<extra></extra>",
         "hovertext": [
          "Heart LR pipeline",
          "Heart LR pipeline",
          "Heart LR pipeline",
          "Heart LR pipeline",
          "Heart LR pipeline",
          "Heart LR pipeline",
          "Heart LR pipeline",
          "Heart LR pipeline",
          "Heart LR pipeline",
          "Heart LR pipeline",
          "Heart LR pipeline",
          "Heart LR pipeline",
          "Heart LR pipeline",
          "Heart LR pipeline",
          "Heart LR pipeline",
          "Heart LR pipeline",
          "Heart LR pipeline",
          "Heart LR pipeline",
          "Heart LR pipeline",
          "Heart LR pipeline",
          "Heart LR pipeline",
          "Heart LR pipeline",
          "Heart LR pipeline",
          "Heart LR pipeline",
          "Heart LR pipeline",
          "Heart LR pipeline",
          "Heart LR pipeline",
          "Heart LR pipeline",
          "Heart LR pipeline",
          "Heart LR pipeline",
          "Heart LR pipeline",
          "Heart LR pipeline",
          "Heart LR pipeline",
          "Heart LR pipeline",
          "Heart LR pipeline",
          "Heart LR pipeline",
          "Heart LR pipeline",
          "Heart LR pipeline",
          "Heart LR pipeline",
          "Heart LR pipeline",
          "Heart LR pipeline",
          "Heart LR pipeline",
          "Heart LR pipeline",
          "Heart LR pipeline",
          "Heart LR pipeline",
          "Heart LR pipeline",
          "Heart LR pipeline",
          "Heart LR pipeline",
          "Heart LR pipeline",
          "Heart LR pipeline",
          "Heart LR pipeline",
          "Heart LR pipeline",
          "Heart LR pipeline",
          "Heart LR pipeline",
          "Heart LR pipeline",
          "Heart LR pipeline",
          "Heart LR pipeline",
          "Heart LR pipeline",
          "Heart LR pipeline",
          "Heart LR pipeline",
          "Heart LR pipeline",
          "Heart LR pipeline",
          "Heart LR pipeline",
          "Heart LR pipeline",
          "Heart LR pipeline",
          "Heart LR pipeline",
          "Heart LR pipeline",
          "Heart LR pipeline",
          "Heart LR pipeline",
          "Heart LR pipeline",
          "Heart LR pipeline",
          "Heart LR pipeline",
          "Heart LR pipeline",
          "Heart LR pipeline",
          "Heart LR pipeline",
          "Heart LR pipeline",
          "Heart LR pipeline",
          "Heart LR pipeline",
          "Heart LR pipeline",
          "Heart LR pipeline",
          "Heart LR pipeline",
          "Heart LR pipeline",
          "Heart LR pipeline",
          "Heart LR pipeline",
          "Heart LR pipeline",
          "Heart LR pipeline",
          "Heart LR pipeline",
          "Heart LR pipeline",
          "Heart LR pipeline",
          "Heart LR pipeline",
          "Heart LR pipeline",
          "Heart LR pipeline",
          "Heart LR pipeline",
          "Heart LR pipeline",
          "Heart LR pipeline",
          "Heart LR pipeline",
          "Heart LR pipeline",
          "Heart LR pipeline",
          "Heart LR pipeline",
          "Heart LR pipeline",
          "Heart LR pipeline"
         ],
         "legendgroup": "Heart LR pipeline",
         "line": {
          "color": "#46bac2",
          "dash": "solid",
          "width": 2
         },
         "marker": {
          "symbol": "circle"
         },
         "mode": "lines",
         "name": "Heart LR pipeline",
         "opacity": 1,
         "orientation": "v",
         "showlegend": false,
         "type": "scatter",
         "x": [
          0,
          6.03,
          12.06,
          18.09,
          24.12,
          30.150000000000002,
          36.18,
          42.21,
          48.24,
          54.27,
          60.300000000000004,
          66.33,
          72.36,
          78.39,
          84.42,
          90.45,
          96.48,
          102.51,
          108.54,
          114.57000000000001,
          120.60000000000001,
          126.63000000000001,
          132.66,
          138.69,
          144.72,
          150.75,
          156.78,
          162.81,
          168.84,
          174.87,
          180.9,
          186.93,
          192.96,
          198.99,
          205.02,
          211.05,
          217.08,
          223.11,
          229.14000000000001,
          235.17000000000002,
          241.20000000000002,
          247.23000000000002,
          253.26000000000002,
          259.29,
          265.32,
          271.35,
          277.38,
          283.41,
          289.44,
          295.47,
          301.5,
          307.53000000000003,
          313.56,
          319.59000000000003,
          325.62,
          331.65000000000003,
          337.68,
          343.71000000000004,
          349.74,
          355.77000000000004,
          361.8,
          367.83000000000004,
          373.86,
          379.89000000000004,
          385.92,
          391.95,
          397.98,
          404.01,
          410.04,
          416.07,
          422.1,
          428.13,
          434.16,
          440.19,
          446.22,
          452.25,
          458.28000000000003,
          464.31,
          470.34000000000003,
          476.37,
          482.40000000000003,
          488.43,
          494.46000000000004,
          500.49,
          506.52000000000004,
          512.5500000000001,
          518.58,
          524.61,
          530.64,
          536.6700000000001,
          542.7,
          548.73,
          554.76,
          560.7900000000001,
          566.82,
          572.85,
          578.88,
          584.91,
          590.94,
          596.97,
          603
         ],
         "xaxis": "x2",
         "y": [
          0.48985359032531817,
          0.48985359032531817,
          0.48985359032531817,
          0.48985359032531817,
          0.48985359032531817,
          0.48985359032531817,
          0.48985359032531817,
          0.48985359032531817,
          0.42777283568617264,
          0.42777283568617264,
          0.42777283568617264,
          0.42777283568617264,
          0.42777283568617264,
          0.42777283568617264,
          0.42777283568617264,
          0.42777283568617264,
          0.42777283568617264,
          0.42777283568617264,
          0.42777283568617264,
          0.42777283568617264,
          0.42777283568617264,
          0.41690025138389314,
          0.41690025138389314,
          0.41690025138389314,
          0.41690025138389314,
          0.41690025138389314,
          0.41690025138389314,
          0.41489141256944256,
          0.41489141256944256,
          0.41489141256944256,
          0.41529430529863404,
          0.41990099770856804,
          0.41990099770856804,
          0.4200049201923133,
          0.4325859197352663,
          0.431838301429616,
          0.431838301429616,
          0.4303303139395269,
          0.4303303139395269,
          0.4331738726313812,
          0.4281629142588297,
          0.4515056897413237,
          0.4514350240886812,
          0.4517691477466632,
          0.4699640908812385,
          0.4615419929844745,
          0.46292692253117945,
          0.4658827597757045,
          0.4548339821724985,
          0.43556006579723894,
          0.42621079318065164,
          0.4150768461401102,
          0.4150768461401102,
          0.4150768461401102,
          0.4150768461401102,
          0.4168118283931475,
          0.4168118283931475,
          0.4155099854650266,
          0.4110154425008754,
          0.4110154425008754,
          0.3937861791641342,
          0.3937861791641342,
          0.3937861791641342,
          0.3937861791641342,
          0.3937861791641342,
          0.4655299888912679,
          0.4572745402402035,
          0.4572745402402035,
          0.44738803850820186,
          0.44738803850820186,
          0.44738803850820186,
          0.44738803850820186,
          0.44738803850820186,
          0.44738803850820186,
          0.44738803850820186,
          0.44738803850820186,
          0.44738803850820186,
          0.48225493318384005,
          0.48225493318384005,
          0.48225493318384005,
          0.5863926979919633,
          0.5863926979919633,
          0.5863926979919633,
          0.5863926979919633,
          0.5993285252641659,
          0.5993285252641659,
          0.5993285252641659,
          0.5993285252641659,
          0.5993285252641659,
          0.5993285252641659,
          0.5993285252641659,
          0.5993285252641659,
          0.5993285252641659,
          0.5993285252641659,
          0.5993285252641659,
          0.5993285252641659,
          0.5993285252641659,
          0.5993285252641659,
          0.5993285252641659,
          0.5993285252641659,
          0.5993285252641659
         ],
         "yaxis": "y2"
        }
       ],
       "layout": {
        "annotations": [
         {
          "font": {
           "size": 13
          },
          "showarrow": false,
          "text": "Age",
          "x": 0.2375,
          "xanchor": "center",
          "xref": "paper",
          "y": 1,
          "yanchor": "bottom",
          "yref": "paper"
         },
         {
          "font": {
           "size": 13
          },
          "showarrow": false,
          "text": "chol",
          "x": 0.7625,
          "xanchor": "center",
          "xref": "paper",
          "y": 1,
          "yanchor": "bottom",
          "yref": "paper"
         },
         {
          "font": {
           "size": 13
          },
          "showarrow": false,
          "text": "prediction",
          "textangle": -90,
          "x": -0.07,
          "xref": "paper",
          "y": 0.5,
          "yref": "paper"
         }
        ],
        "font": {
         "color": "#371ea3"
        },
        "height": 489,
        "hovermode": "x unified",
        "legend": {
         "font": {
          "size": 11
         },
         "itemsizing": "constant",
         "orientation": "h",
         "title": {
          "font": {
           "size": 12
          },
          "text": "label"
         },
         "tracegroupgap": 0,
         "x": 1,
         "xanchor": "right",
         "y": 1.0613496932515338,
         "yanchor": "bottom"
        },
        "margin": {
         "b": 71,
         "r": 30,
         "t": 78
        },
        "template": {
         "data": {
          "scatter": [
           {
            "type": "scatter"
           }
          ]
         }
        },
        "title": {
         "font": {
          "size": 16
         },
         "text": "Aggregated Profiles",
         "x": 0.15
        },
        "xaxis": {
         "anchor": "y",
         "automargin": true,
         "domain": [
          0,
          0.475
         ],
         "fixedrange": true,
         "gridwidth": 2,
         "showticklabels": true,
         "tickcolor": "white",
         "ticklen": 3,
         "ticks": "outside",
         "title": {
          "text": ""
         },
         "type": "linear",
         "zeroline": false
        },
        "xaxis2": {
         "anchor": "y2",
         "automargin": true,
         "domain": [
          0.525,
          1
         ],
         "fixedrange": true,
         "gridwidth": 2,
         "showticklabels": true,
         "tickcolor": "white",
         "ticklen": 3,
         "ticks": "outside",
         "title": {
          "text": ""
         },
         "type": "linear",
         "zeroline": false
        },
        "yaxis": {
         "anchor": "x",
         "automargin": true,
         "domain": [
          0,
          1
         ],
         "fixedrange": true,
         "gridwidth": 2,
         "range": [
          0.3485898325103632,
          0.6221229518781479
         ],
         "tickcolor": "white",
         "ticklen": 3,
         "ticks": "outside",
         "title": {
          "text": ""
         },
         "type": "linear",
         "zeroline": false
        },
        "yaxis2": {
         "anchor": "x2",
         "automargin": true,
         "domain": [
          0,
          1
         ],
         "fixedrange": true,
         "gridwidth": 2,
         "matches": "y",
         "showticklabels": false,
         "tickcolor": "white",
         "ticklen": 3,
         "ticks": "outside",
         "title": {
          "text": ""
         },
         "type": "linear",
         "zeroline": false
        }
       }
      }
     },
     "metadata": {},
     "output_type": "display_data"
    },
    {
     "data": {
      "application/vnd.plotly.v1+json": {
       "config": {
        "displaylogo": false,
        "modeBarButtonsToRemove": [
         "sendDataToCloud",
         "lasso2d",
         "autoScale2d",
         "select2d",
         "zoom2d",
         "pan2d",
         "zoomIn2d",
         "zoomOut2d",
         "resetScale2d",
         "toggleSpikelines",
         "hoverCompareCartesian",
         "hoverClosestCartesian"
        ],
        "plotlyServerURL": "https://plot.ly",
        "staticPlot": false,
        "toImageButtonOptions": {
         "height": null,
         "width": null
        }
       },
       "data": [
        {
         "customdata": [
          [
           0.47,
           "Heart CART pipeline",
           "Age"
          ],
          [
           0.47,
           "Heart CART pipeline",
           "Age"
          ],
          [
           0.47,
           "Heart CART pipeline",
           "Age"
          ],
          [
           0.47,
           "Heart CART pipeline",
           "Age"
          ],
          [
           0.47,
           "Heart CART pipeline",
           "Age"
          ],
          [
           0.47,
           "Heart CART pipeline",
           "Age"
          ],
          [
           0.47,
           "Heart CART pipeline",
           "Age"
          ],
          [
           0.47,
           "Heart CART pipeline",
           "Age"
          ],
          [
           0.47,
           "Heart CART pipeline",
           "Age"
          ],
          [
           0.47,
           "Heart CART pipeline",
           "Age"
          ],
          [
           0.47,
           "Heart CART pipeline",
           "Age"
          ],
          [
           0.47,
           "Heart CART pipeline",
           "Age"
          ],
          [
           0.47,
           "Heart CART pipeline",
           "Age"
          ],
          [
           0.47,
           "Heart CART pipeline",
           "Age"
          ],
          [
           0.47,
           "Heart CART pipeline",
           "Age"
          ],
          [
           0.47,
           "Heart CART pipeline",
           "Age"
          ],
          [
           0.47,
           "Heart CART pipeline",
           "Age"
          ],
          [
           0.47,
           "Heart CART pipeline",
           "Age"
          ],
          [
           0.47,
           "Heart CART pipeline",
           "Age"
          ],
          [
           0.47,
           "Heart CART pipeline",
           "Age"
          ],
          [
           0.47,
           "Heart CART pipeline",
           "Age"
          ],
          [
           0.47,
           "Heart CART pipeline",
           "Age"
          ],
          [
           0.47,
           "Heart CART pipeline",
           "Age"
          ],
          [
           0.47,
           "Heart CART pipeline",
           "Age"
          ],
          [
           0.47,
           "Heart CART pipeline",
           "Age"
          ],
          [
           0.47,
           "Heart CART pipeline",
           "Age"
          ],
          [
           0.47,
           "Heart CART pipeline",
           "Age"
          ],
          [
           0.47,
           "Heart CART pipeline",
           "Age"
          ],
          [
           0.47,
           "Heart CART pipeline",
           "Age"
          ],
          [
           0.47,
           "Heart CART pipeline",
           "Age"
          ],
          [
           0.47,
           "Heart CART pipeline",
           "Age"
          ],
          [
           0.47,
           "Heart CART pipeline",
           "Age"
          ],
          [
           0.47,
           "Heart CART pipeline",
           "Age"
          ],
          [
           0.47,
           "Heart CART pipeline",
           "Age"
          ],
          [
           0.47,
           "Heart CART pipeline",
           "Age"
          ],
          [
           0.47,
           "Heart CART pipeline",
           "Age"
          ],
          [
           0.47,
           "Heart CART pipeline",
           "Age"
          ],
          [
           0.47,
           "Heart CART pipeline",
           "Age"
          ],
          [
           0.47,
           "Heart CART pipeline",
           "Age"
          ],
          [
           0.47,
           "Heart CART pipeline",
           "Age"
          ],
          [
           0.47,
           "Heart CART pipeline",
           "Age"
          ],
          [
           0.47,
           "Heart CART pipeline",
           "Age"
          ],
          [
           0.47,
           "Heart CART pipeline",
           "Age"
          ],
          [
           0.47,
           "Heart CART pipeline",
           "Age"
          ],
          [
           0.47,
           "Heart CART pipeline",
           "Age"
          ],
          [
           0.47,
           "Heart CART pipeline",
           "Age"
          ],
          [
           0.47,
           "Heart CART pipeline",
           "Age"
          ],
          [
           0.47,
           "Heart CART pipeline",
           "Age"
          ],
          [
           0.47,
           "Heart CART pipeline",
           "Age"
          ],
          [
           0.47,
           "Heart CART pipeline",
           "Age"
          ],
          [
           0.47,
           "Heart CART pipeline",
           "Age"
          ],
          [
           0.47,
           "Heart CART pipeline",
           "Age"
          ],
          [
           0.47,
           "Heart CART pipeline",
           "Age"
          ],
          [
           0.47,
           "Heart CART pipeline",
           "Age"
          ],
          [
           0.47,
           "Heart CART pipeline",
           "Age"
          ],
          [
           0.47,
           "Heart CART pipeline",
           "Age"
          ],
          [
           0.47,
           "Heart CART pipeline",
           "Age"
          ],
          [
           0.47,
           "Heart CART pipeline",
           "Age"
          ],
          [
           0.47,
           "Heart CART pipeline",
           "Age"
          ],
          [
           0.47,
           "Heart CART pipeline",
           "Age"
          ],
          [
           0.47,
           "Heart CART pipeline",
           "Age"
          ],
          [
           0.47,
           "Heart CART pipeline",
           "Age"
          ],
          [
           0.47,
           "Heart CART pipeline",
           "Age"
          ],
          [
           0.47,
           "Heart CART pipeline",
           "Age"
          ],
          [
           0.47,
           "Heart CART pipeline",
           "Age"
          ],
          [
           0.47,
           "Heart CART pipeline",
           "Age"
          ],
          [
           0.47,
           "Heart CART pipeline",
           "Age"
          ],
          [
           0.47,
           "Heart CART pipeline",
           "Age"
          ],
          [
           0.47,
           "Heart CART pipeline",
           "Age"
          ],
          [
           0.47,
           "Heart CART pipeline",
           "Age"
          ],
          [
           0.47,
           "Heart CART pipeline",
           "Age"
          ],
          [
           0.47,
           "Heart CART pipeline",
           "Age"
          ],
          [
           0.47,
           "Heart CART pipeline",
           "Age"
          ],
          [
           0.47,
           "Heart CART pipeline",
           "Age"
          ],
          [
           0.47,
           "Heart CART pipeline",
           "Age"
          ],
          [
           0.47,
           "Heart CART pipeline",
           "Age"
          ],
          [
           0.47,
           "Heart CART pipeline",
           "Age"
          ],
          [
           0.47,
           "Heart CART pipeline",
           "Age"
          ],
          [
           0.47,
           "Heart CART pipeline",
           "Age"
          ],
          [
           0.47,
           "Heart CART pipeline",
           "Age"
          ],
          [
           0.47,
           "Heart CART pipeline",
           "Age"
          ],
          [
           0.47,
           "Heart CART pipeline",
           "Age"
          ],
          [
           0.47,
           "Heart CART pipeline",
           "Age"
          ],
          [
           0.47,
           "Heart CART pipeline",
           "Age"
          ],
          [
           0.47,
           "Heart CART pipeline",
           "Age"
          ],
          [
           0.47,
           "Heart CART pipeline",
           "Age"
          ],
          [
           0.47,
           "Heart CART pipeline",
           "Age"
          ],
          [
           0.47,
           "Heart CART pipeline",
           "Age"
          ],
          [
           0.47,
           "Heart CART pipeline",
           "Age"
          ],
          [
           0.47,
           "Heart CART pipeline",
           "Age"
          ],
          [
           0.47,
           "Heart CART pipeline",
           "Age"
          ],
          [
           0.47,
           "Heart CART pipeline",
           "Age"
          ],
          [
           0.47,
           "Heart CART pipeline",
           "Age"
          ],
          [
           0.47,
           "Heart CART pipeline",
           "Age"
          ],
          [
           0.47,
           "Heart CART pipeline",
           "Age"
          ],
          [
           0.47,
           "Heart CART pipeline",
           "Age"
          ],
          [
           0.47,
           "Heart CART pipeline",
           "Age"
          ],
          [
           0.47,
           "Heart CART pipeline",
           "Age"
          ],
          [
           0.47,
           "Heart CART pipeline",
           "Age"
          ],
          [
           0.47,
           "Heart CART pipeline",
           "Age"
          ],
          [
           0.47,
           "Heart CART pipeline",
           "Age"
          ]
         ],
         "hovertemplate": "<b>%{hovertext}</b><br><br>prediction=%{y:.3f}<br>mean_prediction=%{customdata[0]:.3f}<extra></extra>",
         "hovertext": [
          "Heart CART pipeline",
          "Heart CART pipeline",
          "Heart CART pipeline",
          "Heart CART pipeline",
          "Heart CART pipeline",
          "Heart CART pipeline",
          "Heart CART pipeline",
          "Heart CART pipeline",
          "Heart CART pipeline",
          "Heart CART pipeline",
          "Heart CART pipeline",
          "Heart CART pipeline",
          "Heart CART pipeline",
          "Heart CART pipeline",
          "Heart CART pipeline",
          "Heart CART pipeline",
          "Heart CART pipeline",
          "Heart CART pipeline",
          "Heart CART pipeline",
          "Heart CART pipeline",
          "Heart CART pipeline",
          "Heart CART pipeline",
          "Heart CART pipeline",
          "Heart CART pipeline",
          "Heart CART pipeline",
          "Heart CART pipeline",
          "Heart CART pipeline",
          "Heart CART pipeline",
          "Heart CART pipeline",
          "Heart CART pipeline",
          "Heart CART pipeline",
          "Heart CART pipeline",
          "Heart CART pipeline",
          "Heart CART pipeline",
          "Heart CART pipeline",
          "Heart CART pipeline",
          "Heart CART pipeline",
          "Heart CART pipeline",
          "Heart CART pipeline",
          "Heart CART pipeline",
          "Heart CART pipeline",
          "Heart CART pipeline",
          "Heart CART pipeline",
          "Heart CART pipeline",
          "Heart CART pipeline",
          "Heart CART pipeline",
          "Heart CART pipeline",
          "Heart CART pipeline",
          "Heart CART pipeline",
          "Heart CART pipeline",
          "Heart CART pipeline",
          "Heart CART pipeline",
          "Heart CART pipeline",
          "Heart CART pipeline",
          "Heart CART pipeline",
          "Heart CART pipeline",
          "Heart CART pipeline",
          "Heart CART pipeline",
          "Heart CART pipeline",
          "Heart CART pipeline",
          "Heart CART pipeline",
          "Heart CART pipeline",
          "Heart CART pipeline",
          "Heart CART pipeline",
          "Heart CART pipeline",
          "Heart CART pipeline",
          "Heart CART pipeline",
          "Heart CART pipeline",
          "Heart CART pipeline",
          "Heart CART pipeline",
          "Heart CART pipeline",
          "Heart CART pipeline",
          "Heart CART pipeline",
          "Heart CART pipeline",
          "Heart CART pipeline",
          "Heart CART pipeline",
          "Heart CART pipeline",
          "Heart CART pipeline",
          "Heart CART pipeline",
          "Heart CART pipeline",
          "Heart CART pipeline",
          "Heart CART pipeline",
          "Heart CART pipeline",
          "Heart CART pipeline",
          "Heart CART pipeline",
          "Heart CART pipeline",
          "Heart CART pipeline",
          "Heart CART pipeline",
          "Heart CART pipeline",
          "Heart CART pipeline",
          "Heart CART pipeline",
          "Heart CART pipeline",
          "Heart CART pipeline",
          "Heart CART pipeline",
          "Heart CART pipeline",
          "Heart CART pipeline",
          "Heart CART pipeline",
          "Heart CART pipeline",
          "Heart CART pipeline",
          "Heart CART pipeline",
          "Heart CART pipeline"
         ],
         "legendgroup": "Heart CART pipeline",
         "line": {
          "color": "#46bac2",
          "dash": "solid",
          "width": 2
         },
         "marker": {
          "symbol": "circle"
         },
         "mode": "lines",
         "name": "Heart CART pipeline",
         "opacity": 1,
         "orientation": "v",
         "showlegend": true,
         "type": "scatter",
         "x": [
          28,
          28.47,
          28.94,
          29.41,
          29.88,
          30.35,
          30.82,
          31.29,
          31.759999999999998,
          32.23,
          32.7,
          33.17,
          33.64,
          34.11,
          34.58,
          35.05,
          35.519999999999996,
          35.99,
          36.46,
          36.93,
          37.4,
          37.87,
          38.34,
          38.81,
          39.28,
          39.75,
          40.22,
          40.69,
          41.16,
          41.629999999999995,
          42.1,
          42.57,
          43.04,
          43.51,
          43.98,
          44.45,
          44.92,
          45.39,
          45.86,
          46.33,
          46.8,
          47.269999999999996,
          47.739999999999995,
          48.209999999999994,
          48.68,
          49.15,
          49.62,
          50.09,
          50.56,
          51.03,
          51.5,
          51.97,
          52.44,
          52.91,
          53.379999999999995,
          53.849999999999994,
          54.32,
          54.79,
          55.26,
          55.73,
          56.2,
          56.67,
          57.14,
          57.61,
          58.08,
          58.55,
          59.019999999999996,
          59.489999999999995,
          59.959999999999994,
          60.43,
          60.9,
          61.37,
          61.839999999999996,
          62.309999999999995,
          62.78,
          63.25,
          63.72,
          64.19,
          64.66,
          65.13,
          65.6,
          66.07,
          66.53999999999999,
          67.00999999999999,
          67.47999999999999,
          67.94999999999999,
          68.41999999999999,
          68.89,
          69.36,
          69.83,
          70.3,
          70.77,
          71.24,
          71.71000000000001,
          72.18,
          72.65,
          73.12,
          73.59,
          74.06,
          74.53,
          75
         ],
         "xaxis": "x",
         "y": [
          0.4866666666666667,
          0.4866666666666667,
          0.4866666666666667,
          0.4866666666666667,
          0.4866666666666667,
          0.4866666666666667,
          0.4866666666666667,
          0.4866666666666667,
          0.4866666666666667,
          0.4866666666666667,
          0.4866666666666667,
          0.4866666666666667,
          0.4866666666666667,
          0.4866666666666667,
          0.4666666666666667,
          0.4666666666666667,
          0.4666666666666667,
          0.4666666666666667,
          0.4666666666666667,
          0.4666666666666667,
          0.4666666666666667,
          0.4666666666666667,
          0.4666666666666667,
          0.4666666666666667,
          0.4666666666666667,
          0.4666666666666667,
          0.4666666666666667,
          0.4666666666666667,
          0.4666666666666667,
          0.4666666666666667,
          0.4666666666666667,
          0.4666666666666667,
          0.4666666666666667,
          0.4666666666666667,
          0.4666666666666667,
          0.4666666666666667,
          0.4666666666666667,
          0.4666666666666667,
          0.4666666666666667,
          0.4666666666666667,
          0.4666666666666667,
          0.4666666666666667,
          0.4666666666666667,
          0.4666666666666667,
          0.4666666666666667,
          0.4666666666666667,
          0.4666666666666667,
          0.4666666666666667,
          0.4666666666666667,
          0.4533333333333333,
          0.4533333333333333,
          0.4533333333333333,
          0.4533333333333333,
          0.44666666666666666,
          0.44666666666666666,
          0.44666666666666666,
          0.44666666666666666,
          0.43666666666666665,
          0.43666666666666665,
          0.5366666666666666,
          0.5366666666666666,
          0.6133333333333333,
          0.6533333333333333,
          0.6533333333333333,
          0.6533333333333333,
          0.6233333333333333,
          0.6233333333333333,
          0.6233333333333333,
          0.6233333333333333,
          0.6233333333333333,
          0.5866666666666667,
          0.5866666666666667,
          0.5966666666666667,
          0.5966666666666667,
          0.5966666666666667,
          0.5966666666666667,
          0.5966666666666667,
          0.55,
          0.6133333333333333,
          0.6133333333333333,
          0.6566666666666666,
          0.6566666666666666,
          0.6566666666666666,
          0.6566666666666666,
          0.6566666666666666,
          0.6566666666666666,
          0.6566666666666666,
          0.6566666666666666,
          0.6566666666666666,
          0.6566666666666666,
          0.6566666666666666,
          0.6566666666666666,
          0.6566666666666666,
          0.6566666666666666,
          0.6566666666666666,
          0.44333333333333336,
          0.44333333333333336,
          0.44333333333333336,
          0.44333333333333336,
          0.44333333333333336,
          0.44333333333333336
         ],
         "yaxis": "y"
        },
        {
         "customdata": [
          [
           0.47,
           "Heart CART pipeline",
           "chol"
          ],
          [
           0.47,
           "Heart CART pipeline",
           "chol"
          ],
          [
           0.47,
           "Heart CART pipeline",
           "chol"
          ],
          [
           0.47,
           "Heart CART pipeline",
           "chol"
          ],
          [
           0.47,
           "Heart CART pipeline",
           "chol"
          ],
          [
           0.47,
           "Heart CART pipeline",
           "chol"
          ],
          [
           0.47,
           "Heart CART pipeline",
           "chol"
          ],
          [
           0.47,
           "Heart CART pipeline",
           "chol"
          ],
          [
           0.47,
           "Heart CART pipeline",
           "chol"
          ],
          [
           0.47,
           "Heart CART pipeline",
           "chol"
          ],
          [
           0.47,
           "Heart CART pipeline",
           "chol"
          ],
          [
           0.47,
           "Heart CART pipeline",
           "chol"
          ],
          [
           0.47,
           "Heart CART pipeline",
           "chol"
          ],
          [
           0.47,
           "Heart CART pipeline",
           "chol"
          ],
          [
           0.47,
           "Heart CART pipeline",
           "chol"
          ],
          [
           0.47,
           "Heart CART pipeline",
           "chol"
          ],
          [
           0.47,
           "Heart CART pipeline",
           "chol"
          ],
          [
           0.47,
           "Heart CART pipeline",
           "chol"
          ],
          [
           0.47,
           "Heart CART pipeline",
           "chol"
          ],
          [
           0.47,
           "Heart CART pipeline",
           "chol"
          ],
          [
           0.47,
           "Heart CART pipeline",
           "chol"
          ],
          [
           0.47,
           "Heart CART pipeline",
           "chol"
          ],
          [
           0.47,
           "Heart CART pipeline",
           "chol"
          ],
          [
           0.47,
           "Heart CART pipeline",
           "chol"
          ],
          [
           0.47,
           "Heart CART pipeline",
           "chol"
          ],
          [
           0.47,
           "Heart CART pipeline",
           "chol"
          ],
          [
           0.47,
           "Heart CART pipeline",
           "chol"
          ],
          [
           0.47,
           "Heart CART pipeline",
           "chol"
          ],
          [
           0.47,
           "Heart CART pipeline",
           "chol"
          ],
          [
           0.47,
           "Heart CART pipeline",
           "chol"
          ],
          [
           0.47,
           "Heart CART pipeline",
           "chol"
          ],
          [
           0.47,
           "Heart CART pipeline",
           "chol"
          ],
          [
           0.47,
           "Heart CART pipeline",
           "chol"
          ],
          [
           0.47,
           "Heart CART pipeline",
           "chol"
          ],
          [
           0.47,
           "Heart CART pipeline",
           "chol"
          ],
          [
           0.47,
           "Heart CART pipeline",
           "chol"
          ],
          [
           0.47,
           "Heart CART pipeline",
           "chol"
          ],
          [
           0.47,
           "Heart CART pipeline",
           "chol"
          ],
          [
           0.47,
           "Heart CART pipeline",
           "chol"
          ],
          [
           0.47,
           "Heart CART pipeline",
           "chol"
          ],
          [
           0.47,
           "Heart CART pipeline",
           "chol"
          ],
          [
           0.47,
           "Heart CART pipeline",
           "chol"
          ],
          [
           0.47,
           "Heart CART pipeline",
           "chol"
          ],
          [
           0.47,
           "Heart CART pipeline",
           "chol"
          ],
          [
           0.47,
           "Heart CART pipeline",
           "chol"
          ],
          [
           0.47,
           "Heart CART pipeline",
           "chol"
          ],
          [
           0.47,
           "Heart CART pipeline",
           "chol"
          ],
          [
           0.47,
           "Heart CART pipeline",
           "chol"
          ],
          [
           0.47,
           "Heart CART pipeline",
           "chol"
          ],
          [
           0.47,
           "Heart CART pipeline",
           "chol"
          ],
          [
           0.47,
           "Heart CART pipeline",
           "chol"
          ],
          [
           0.47,
           "Heart CART pipeline",
           "chol"
          ],
          [
           0.47,
           "Heart CART pipeline",
           "chol"
          ],
          [
           0.47,
           "Heart CART pipeline",
           "chol"
          ],
          [
           0.47,
           "Heart CART pipeline",
           "chol"
          ],
          [
           0.47,
           "Heart CART pipeline",
           "chol"
          ],
          [
           0.47,
           "Heart CART pipeline",
           "chol"
          ],
          [
           0.47,
           "Heart CART pipeline",
           "chol"
          ],
          [
           0.47,
           "Heart CART pipeline",
           "chol"
          ],
          [
           0.47,
           "Heart CART pipeline",
           "chol"
          ],
          [
           0.47,
           "Heart CART pipeline",
           "chol"
          ],
          [
           0.47,
           "Heart CART pipeline",
           "chol"
          ],
          [
           0.47,
           "Heart CART pipeline",
           "chol"
          ],
          [
           0.47,
           "Heart CART pipeline",
           "chol"
          ],
          [
           0.47,
           "Heart CART pipeline",
           "chol"
          ],
          [
           0.47,
           "Heart CART pipeline",
           "chol"
          ],
          [
           0.47,
           "Heart CART pipeline",
           "chol"
          ],
          [
           0.47,
           "Heart CART pipeline",
           "chol"
          ],
          [
           0.47,
           "Heart CART pipeline",
           "chol"
          ],
          [
           0.47,
           "Heart CART pipeline",
           "chol"
          ],
          [
           0.47,
           "Heart CART pipeline",
           "chol"
          ],
          [
           0.47,
           "Heart CART pipeline",
           "chol"
          ],
          [
           0.47,
           "Heart CART pipeline",
           "chol"
          ],
          [
           0.47,
           "Heart CART pipeline",
           "chol"
          ],
          [
           0.47,
           "Heart CART pipeline",
           "chol"
          ],
          [
           0.47,
           "Heart CART pipeline",
           "chol"
          ],
          [
           0.47,
           "Heart CART pipeline",
           "chol"
          ],
          [
           0.47,
           "Heart CART pipeline",
           "chol"
          ],
          [
           0.47,
           "Heart CART pipeline",
           "chol"
          ],
          [
           0.47,
           "Heart CART pipeline",
           "chol"
          ],
          [
           0.47,
           "Heart CART pipeline",
           "chol"
          ],
          [
           0.47,
           "Heart CART pipeline",
           "chol"
          ],
          [
           0.47,
           "Heart CART pipeline",
           "chol"
          ],
          [
           0.47,
           "Heart CART pipeline",
           "chol"
          ],
          [
           0.47,
           "Heart CART pipeline",
           "chol"
          ],
          [
           0.47,
           "Heart CART pipeline",
           "chol"
          ],
          [
           0.47,
           "Heart CART pipeline",
           "chol"
          ],
          [
           0.47,
           "Heart CART pipeline",
           "chol"
          ],
          [
           0.47,
           "Heart CART pipeline",
           "chol"
          ],
          [
           0.47,
           "Heart CART pipeline",
           "chol"
          ],
          [
           0.47,
           "Heart CART pipeline",
           "chol"
          ],
          [
           0.47,
           "Heart CART pipeline",
           "chol"
          ],
          [
           0.47,
           "Heart CART pipeline",
           "chol"
          ],
          [
           0.47,
           "Heart CART pipeline",
           "chol"
          ],
          [
           0.47,
           "Heart CART pipeline",
           "chol"
          ],
          [
           0.47,
           "Heart CART pipeline",
           "chol"
          ],
          [
           0.47,
           "Heart CART pipeline",
           "chol"
          ],
          [
           0.47,
           "Heart CART pipeline",
           "chol"
          ],
          [
           0.47,
           "Heart CART pipeline",
           "chol"
          ],
          [
           0.47,
           "Heart CART pipeline",
           "chol"
          ],
          [
           0.47,
           "Heart CART pipeline",
           "chol"
          ]
         ],
         "hovertemplate": "<b>%{hovertext}</b><br><br>prediction=%{y:.3f}<br>mean_prediction=%{customdata[0]:.3f}<extra></extra>",
         "hovertext": [
          "Heart CART pipeline",
          "Heart CART pipeline",
          "Heart CART pipeline",
          "Heart CART pipeline",
          "Heart CART pipeline",
          "Heart CART pipeline",
          "Heart CART pipeline",
          "Heart CART pipeline",
          "Heart CART pipeline",
          "Heart CART pipeline",
          "Heart CART pipeline",
          "Heart CART pipeline",
          "Heart CART pipeline",
          "Heart CART pipeline",
          "Heart CART pipeline",
          "Heart CART pipeline",
          "Heart CART pipeline",
          "Heart CART pipeline",
          "Heart CART pipeline",
          "Heart CART pipeline",
          "Heart CART pipeline",
          "Heart CART pipeline",
          "Heart CART pipeline",
          "Heart CART pipeline",
          "Heart CART pipeline",
          "Heart CART pipeline",
          "Heart CART pipeline",
          "Heart CART pipeline",
          "Heart CART pipeline",
          "Heart CART pipeline",
          "Heart CART pipeline",
          "Heart CART pipeline",
          "Heart CART pipeline",
          "Heart CART pipeline",
          "Heart CART pipeline",
          "Heart CART pipeline",
          "Heart CART pipeline",
          "Heart CART pipeline",
          "Heart CART pipeline",
          "Heart CART pipeline",
          "Heart CART pipeline",
          "Heart CART pipeline",
          "Heart CART pipeline",
          "Heart CART pipeline",
          "Heart CART pipeline",
          "Heart CART pipeline",
          "Heart CART pipeline",
          "Heart CART pipeline",
          "Heart CART pipeline",
          "Heart CART pipeline",
          "Heart CART pipeline",
          "Heart CART pipeline",
          "Heart CART pipeline",
          "Heart CART pipeline",
          "Heart CART pipeline",
          "Heart CART pipeline",
          "Heart CART pipeline",
          "Heart CART pipeline",
          "Heart CART pipeline",
          "Heart CART pipeline",
          "Heart CART pipeline",
          "Heart CART pipeline",
          "Heart CART pipeline",
          "Heart CART pipeline",
          "Heart CART pipeline",
          "Heart CART pipeline",
          "Heart CART pipeline",
          "Heart CART pipeline",
          "Heart CART pipeline",
          "Heart CART pipeline",
          "Heart CART pipeline",
          "Heart CART pipeline",
          "Heart CART pipeline",
          "Heart CART pipeline",
          "Heart CART pipeline",
          "Heart CART pipeline",
          "Heart CART pipeline",
          "Heart CART pipeline",
          "Heart CART pipeline",
          "Heart CART pipeline",
          "Heart CART pipeline",
          "Heart CART pipeline",
          "Heart CART pipeline",
          "Heart CART pipeline",
          "Heart CART pipeline",
          "Heart CART pipeline",
          "Heart CART pipeline",
          "Heart CART pipeline",
          "Heart CART pipeline",
          "Heart CART pipeline",
          "Heart CART pipeline",
          "Heart CART pipeline",
          "Heart CART pipeline",
          "Heart CART pipeline",
          "Heart CART pipeline",
          "Heart CART pipeline",
          "Heart CART pipeline",
          "Heart CART pipeline",
          "Heart CART pipeline",
          "Heart CART pipeline",
          "Heart CART pipeline"
         ],
         "legendgroup": "Heart CART pipeline",
         "line": {
          "color": "#46bac2",
          "dash": "solid",
          "width": 2
         },
         "marker": {
          "symbol": "circle"
         },
         "mode": "lines",
         "name": "Heart CART pipeline",
         "opacity": 1,
         "orientation": "v",
         "showlegend": false,
         "type": "scatter",
         "x": [
          0,
          6.03,
          12.06,
          18.09,
          24.12,
          30.150000000000002,
          36.18,
          42.21,
          48.24,
          54.27,
          60.300000000000004,
          66.33,
          72.36,
          78.39,
          84.42,
          90.45,
          96.48,
          102.51,
          108.54,
          114.57000000000001,
          120.60000000000001,
          126.63000000000001,
          132.66,
          138.69,
          144.72,
          150.75,
          156.78,
          162.81,
          168.84,
          174.87,
          180.9,
          186.93,
          192.96,
          198.99,
          205.02,
          211.05,
          217.08,
          223.11,
          229.14000000000001,
          235.17000000000002,
          241.20000000000002,
          247.23000000000002,
          253.26000000000002,
          259.29,
          265.32,
          271.35,
          277.38,
          283.41,
          289.44,
          295.47,
          301.5,
          307.53000000000003,
          313.56,
          319.59000000000003,
          325.62,
          331.65000000000003,
          337.68,
          343.71000000000004,
          349.74,
          355.77000000000004,
          361.8,
          367.83000000000004,
          373.86,
          379.89000000000004,
          385.92,
          391.95,
          397.98,
          404.01,
          410.04,
          416.07,
          422.1,
          428.13,
          434.16,
          440.19,
          446.22,
          452.25,
          458.28000000000003,
          464.31,
          470.34000000000003,
          476.37,
          482.40000000000003,
          488.43,
          494.46000000000004,
          500.49,
          506.52000000000004,
          512.5500000000001,
          518.58,
          524.61,
          530.64,
          536.6700000000001,
          542.7,
          548.73,
          554.76,
          560.7900000000001,
          566.82,
          572.85,
          578.88,
          584.91,
          590.94,
          596.97,
          603
         ],
         "xaxis": "x2",
         "y": [
          0.46,
          0.46,
          0.46,
          0.46,
          0.46,
          0.46,
          0.46,
          0.46,
          0.46,
          0.46,
          0.46,
          0.46,
          0.46,
          0.46,
          0.46,
          0.46,
          0.46,
          0.46,
          0.46,
          0.46,
          0.46,
          0.46,
          0.46,
          0.46,
          0.46,
          0.46,
          0.46,
          0.46,
          0.48,
          0.48,
          0.49333333333333335,
          0.48333333333333334,
          0.48333333333333334,
          0.5166666666666667,
          0.5166666666666667,
          0.49333333333333335,
          0.4666666666666667,
          0.43,
          0.43,
          0.43,
          0.43,
          0.46,
          0.44333333333333336,
          0.4666666666666667,
          0.57,
          0.4766666666666667,
          0.49333333333333335,
          0.49333333333333335,
          0.49333333333333335,
          0.49333333333333335,
          0.47,
          0.47,
          0.47,
          0.47,
          0.47,
          0.47,
          0.47,
          0.4666666666666667,
          0.4666666666666667,
          0.4666666666666667,
          0.4666666666666667,
          0.4666666666666667,
          0.4666666666666667,
          0.4666666666666667,
          0.4666666666666667,
          0.4666666666666667,
          0.4666666666666667,
          0.4666666666666667,
          0.4666666666666667,
          0.4666666666666667,
          0.4666666666666667,
          0.4666666666666667,
          0.5666666666666667,
          0.5666666666666667,
          0.5666666666666667,
          0.5666666666666667,
          0.5666666666666667,
          0.5666666666666667,
          0.5666666666666667,
          0.5966666666666667,
          0.5966666666666667,
          0.5966666666666667,
          0.5966666666666667,
          0.5966666666666667,
          0.5966666666666667,
          0.5966666666666667,
          0.5966666666666667,
          0.5966666666666667,
          0.5966666666666667,
          0.5966666666666667,
          0.5966666666666667,
          0.5966666666666667,
          0.5966666666666667,
          0.5966666666666667,
          0.5966666666666667,
          0.5966666666666667,
          0.5966666666666667,
          0.5966666666666667,
          0.5966666666666667,
          0.5966666666666667,
          0.5966666666666667
         ],
         "yaxis": "y2"
        }
       ],
       "layout": {
        "annotations": [
         {
          "font": {
           "size": 13
          },
          "showarrow": false,
          "text": "Age",
          "x": 0.2375,
          "xanchor": "center",
          "xref": "paper",
          "y": 1,
          "yanchor": "bottom",
          "yref": "paper"
         },
         {
          "font": {
           "size": 13
          },
          "showarrow": false,
          "text": "chol",
          "x": 0.7625,
          "xanchor": "center",
          "xref": "paper",
          "y": 1,
          "yanchor": "bottom",
          "yref": "paper"
         },
         {
          "font": {
           "size": 13
          },
          "showarrow": false,
          "text": "prediction",
          "textangle": -90,
          "x": -0.07,
          "xref": "paper",
          "y": 0.5,
          "yref": "paper"
         }
        ],
        "font": {
         "color": "#371ea3"
        },
        "height": 489,
        "hovermode": "x unified",
        "legend": {
         "font": {
          "size": 11
         },
         "itemsizing": "constant",
         "orientation": "h",
         "title": {
          "font": {
           "size": 12
          },
          "text": "label"
         },
         "tracegroupgap": 0,
         "x": 1,
         "xanchor": "right",
         "y": 1.0613496932515338,
         "yanchor": "bottom"
        },
        "margin": {
         "b": 71,
         "r": 30,
         "t": 78
        },
        "template": {
         "data": {
          "scatter": [
           {
            "type": "scatter"
           }
          ]
         }
        },
        "title": {
         "font": {
          "size": 16
         },
         "text": "Aggregated Profiles",
         "x": 0.15
        },
        "xaxis": {
         "anchor": "y",
         "automargin": true,
         "domain": [
          0,
          0.475
         ],
         "fixedrange": true,
         "gridwidth": 2,
         "showticklabels": true,
         "tickcolor": "white",
         "ticklen": 3,
         "ticks": "outside",
         "title": {
          "text": ""
         },
         "type": "linear",
         "zeroline": false
        },
        "xaxis2": {
         "anchor": "y2",
         "automargin": true,
         "domain": [
          0.525,
          1
         ],
         "fixedrange": true,
         "gridwidth": 2,
         "showticklabels": true,
         "tickcolor": "white",
         "ticklen": 3,
         "ticks": "outside",
         "title": {
          "text": ""
         },
         "type": "linear",
         "zeroline": false
        },
        "yaxis": {
         "anchor": "x",
         "automargin": true,
         "domain": [
          0,
          1
         ],
         "fixedrange": true,
         "gridwidth": 2,
         "range": [
          0.4073333333333333,
          0.6793333333333332
         ],
         "tickcolor": "white",
         "ticklen": 3,
         "ticks": "outside",
         "title": {
          "text": ""
         },
         "type": "linear",
         "zeroline": false
        },
        "yaxis2": {
         "anchor": "x2",
         "automargin": true,
         "domain": [
          0,
          1
         ],
         "fixedrange": true,
         "gridwidth": 2,
         "matches": "y",
         "showticklabels": false,
         "tickcolor": "white",
         "ticklen": 3,
         "ticks": "outside",
         "title": {
          "text": ""
         },
         "type": "linear",
         "zeroline": false
        }
       }
      }
     },
     "metadata": {},
     "output_type": "display_data"
    }
   ],
   "source": [
    "pd_lr.plot()\n",
    "pd_cart.plot()"
   ]
  },
  {
   "cell_type": "code",
   "execution_count": 88,
   "metadata": {},
   "outputs": [
    {
     "data": {
      "text/plain": [
       "0      0.486667\n",
       "1      0.486667\n",
       "2      0.486667\n",
       "3      0.486667\n",
       "4      0.486667\n",
       "         ...   \n",
       "197    0.596667\n",
       "198    0.596667\n",
       "199    0.596667\n",
       "200    0.596667\n",
       "201    0.596667\n",
       "Name: _yhat_, Length: 202, dtype: float64"
      ]
     },
     "execution_count": 88,
     "metadata": {},
     "output_type": "execute_result"
    }
   ],
   "source": [
    "pd_cart.result[\"_yhat_\"]"
   ]
  },
  {
   "cell_type": "code",
   "execution_count": 90,
   "metadata": {},
   "outputs": [
    {
     "name": "stderr",
     "output_type": "stream",
     "text": [
      "Calculating ceteris paribus: 100%|██████████| 11/11 [00:09<00:00,  1.16it/s]\n",
      "Calculating ceteris paribus: 100%|██████████| 11/11 [00:00<00:00, 21.29it/s]\n"
     ]
    }
   ],
   "source": [
    "pdp_lr = heart_lr_exp.model_profile()\n",
    "pdp_cart = heart_cart_exp.model_profile()"
   ]
  },
  {
   "cell_type": "code",
   "execution_count": 91,
   "metadata": {},
   "outputs": [
    {
     "data": {
      "application/vnd.plotly.v1+json": {
       "config": {
        "displaylogo": false,
        "modeBarButtonsToRemove": [
         "sendDataToCloud",
         "lasso2d",
         "autoScale2d",
         "select2d",
         "zoom2d",
         "pan2d",
         "zoomIn2d",
         "zoomOut2d",
         "resetScale2d",
         "toggleSpikelines",
         "hoverCompareCartesian",
         "hoverClosestCartesian"
        ],
        "plotlyServerURL": "https://plot.ly",
        "staticPlot": false,
        "toImageButtonOptions": {
         "height": null,
         "width": null
        }
       },
       "data": [
        {
         "customdata": [
          [
           0.47,
           "Heart CART pipeline",
           "Age"
          ],
          [
           0.47,
           "Heart CART pipeline",
           "Age"
          ],
          [
           0.47,
           "Heart CART pipeline",
           "Age"
          ],
          [
           0.47,
           "Heart CART pipeline",
           "Age"
          ],
          [
           0.47,
           "Heart CART pipeline",
           "Age"
          ],
          [
           0.47,
           "Heart CART pipeline",
           "Age"
          ],
          [
           0.47,
           "Heart CART pipeline",
           "Age"
          ],
          [
           0.47,
           "Heart CART pipeline",
           "Age"
          ],
          [
           0.47,
           "Heart CART pipeline",
           "Age"
          ],
          [
           0.47,
           "Heart CART pipeline",
           "Age"
          ],
          [
           0.47,
           "Heart CART pipeline",
           "Age"
          ],
          [
           0.47,
           "Heart CART pipeline",
           "Age"
          ],
          [
           0.47,
           "Heart CART pipeline",
           "Age"
          ],
          [
           0.47,
           "Heart CART pipeline",
           "Age"
          ],
          [
           0.47,
           "Heart CART pipeline",
           "Age"
          ],
          [
           0.47,
           "Heart CART pipeline",
           "Age"
          ],
          [
           0.47,
           "Heart CART pipeline",
           "Age"
          ],
          [
           0.47,
           "Heart CART pipeline",
           "Age"
          ],
          [
           0.47,
           "Heart CART pipeline",
           "Age"
          ],
          [
           0.47,
           "Heart CART pipeline",
           "Age"
          ],
          [
           0.47,
           "Heart CART pipeline",
           "Age"
          ],
          [
           0.47,
           "Heart CART pipeline",
           "Age"
          ],
          [
           0.47,
           "Heart CART pipeline",
           "Age"
          ],
          [
           0.47,
           "Heart CART pipeline",
           "Age"
          ],
          [
           0.47,
           "Heart CART pipeline",
           "Age"
          ],
          [
           0.47,
           "Heart CART pipeline",
           "Age"
          ],
          [
           0.47,
           "Heart CART pipeline",
           "Age"
          ],
          [
           0.47,
           "Heart CART pipeline",
           "Age"
          ],
          [
           0.47,
           "Heart CART pipeline",
           "Age"
          ],
          [
           0.47,
           "Heart CART pipeline",
           "Age"
          ],
          [
           0.47,
           "Heart CART pipeline",
           "Age"
          ],
          [
           0.47,
           "Heart CART pipeline",
           "Age"
          ],
          [
           0.47,
           "Heart CART pipeline",
           "Age"
          ],
          [
           0.47,
           "Heart CART pipeline",
           "Age"
          ],
          [
           0.47,
           "Heart CART pipeline",
           "Age"
          ],
          [
           0.47,
           "Heart CART pipeline",
           "Age"
          ],
          [
           0.47,
           "Heart CART pipeline",
           "Age"
          ],
          [
           0.47,
           "Heart CART pipeline",
           "Age"
          ],
          [
           0.47,
           "Heart CART pipeline",
           "Age"
          ],
          [
           0.47,
           "Heart CART pipeline",
           "Age"
          ],
          [
           0.47,
           "Heart CART pipeline",
           "Age"
          ],
          [
           0.47,
           "Heart CART pipeline",
           "Age"
          ],
          [
           0.47,
           "Heart CART pipeline",
           "Age"
          ],
          [
           0.47,
           "Heart CART pipeline",
           "Age"
          ],
          [
           0.47,
           "Heart CART pipeline",
           "Age"
          ],
          [
           0.47,
           "Heart CART pipeline",
           "Age"
          ],
          [
           0.47,
           "Heart CART pipeline",
           "Age"
          ],
          [
           0.47,
           "Heart CART pipeline",
           "Age"
          ],
          [
           0.47,
           "Heart CART pipeline",
           "Age"
          ],
          [
           0.47,
           "Heart CART pipeline",
           "Age"
          ],
          [
           0.47,
           "Heart CART pipeline",
           "Age"
          ],
          [
           0.47,
           "Heart CART pipeline",
           "Age"
          ],
          [
           0.47,
           "Heart CART pipeline",
           "Age"
          ],
          [
           0.47,
           "Heart CART pipeline",
           "Age"
          ],
          [
           0.47,
           "Heart CART pipeline",
           "Age"
          ],
          [
           0.47,
           "Heart CART pipeline",
           "Age"
          ],
          [
           0.47,
           "Heart CART pipeline",
           "Age"
          ],
          [
           0.47,
           "Heart CART pipeline",
           "Age"
          ],
          [
           0.47,
           "Heart CART pipeline",
           "Age"
          ],
          [
           0.47,
           "Heart CART pipeline",
           "Age"
          ],
          [
           0.47,
           "Heart CART pipeline",
           "Age"
          ],
          [
           0.47,
           "Heart CART pipeline",
           "Age"
          ],
          [
           0.47,
           "Heart CART pipeline",
           "Age"
          ],
          [
           0.47,
           "Heart CART pipeline",
           "Age"
          ],
          [
           0.47,
           "Heart CART pipeline",
           "Age"
          ],
          [
           0.47,
           "Heart CART pipeline",
           "Age"
          ],
          [
           0.47,
           "Heart CART pipeline",
           "Age"
          ],
          [
           0.47,
           "Heart CART pipeline",
           "Age"
          ],
          [
           0.47,
           "Heart CART pipeline",
           "Age"
          ],
          [
           0.47,
           "Heart CART pipeline",
           "Age"
          ],
          [
           0.47,
           "Heart CART pipeline",
           "Age"
          ],
          [
           0.47,
           "Heart CART pipeline",
           "Age"
          ],
          [
           0.47,
           "Heart CART pipeline",
           "Age"
          ],
          [
           0.47,
           "Heart CART pipeline",
           "Age"
          ],
          [
           0.47,
           "Heart CART pipeline",
           "Age"
          ],
          [
           0.47,
           "Heart CART pipeline",
           "Age"
          ],
          [
           0.47,
           "Heart CART pipeline",
           "Age"
          ],
          [
           0.47,
           "Heart CART pipeline",
           "Age"
          ],
          [
           0.47,
           "Heart CART pipeline",
           "Age"
          ],
          [
           0.47,
           "Heart CART pipeline",
           "Age"
          ],
          [
           0.47,
           "Heart CART pipeline",
           "Age"
          ],
          [
           0.47,
           "Heart CART pipeline",
           "Age"
          ],
          [
           0.47,
           "Heart CART pipeline",
           "Age"
          ],
          [
           0.47,
           "Heart CART pipeline",
           "Age"
          ],
          [
           0.47,
           "Heart CART pipeline",
           "Age"
          ],
          [
           0.47,
           "Heart CART pipeline",
           "Age"
          ],
          [
           0.47,
           "Heart CART pipeline",
           "Age"
          ],
          [
           0.47,
           "Heart CART pipeline",
           "Age"
          ],
          [
           0.47,
           "Heart CART pipeline",
           "Age"
          ],
          [
           0.47,
           "Heart CART pipeline",
           "Age"
          ],
          [
           0.47,
           "Heart CART pipeline",
           "Age"
          ],
          [
           0.47,
           "Heart CART pipeline",
           "Age"
          ],
          [
           0.47,
           "Heart CART pipeline",
           "Age"
          ],
          [
           0.47,
           "Heart CART pipeline",
           "Age"
          ],
          [
           0.47,
           "Heart CART pipeline",
           "Age"
          ],
          [
           0.47,
           "Heart CART pipeline",
           "Age"
          ],
          [
           0.47,
           "Heart CART pipeline",
           "Age"
          ],
          [
           0.47,
           "Heart CART pipeline",
           "Age"
          ],
          [
           0.47,
           "Heart CART pipeline",
           "Age"
          ],
          [
           0.47,
           "Heart CART pipeline",
           "Age"
          ],
          [
           0.47,
           "Heart CART pipeline",
           "Age"
          ]
         ],
         "hovertemplate": "<b>%{hovertext}</b><br><br>prediction=%{y:.3f}<br>mean_prediction=%{customdata[0]:.3f}<extra></extra>",
         "hovertext": [
          "Heart CART pipeline",
          "Heart CART pipeline",
          "Heart CART pipeline",
          "Heart CART pipeline",
          "Heart CART pipeline",
          "Heart CART pipeline",
          "Heart CART pipeline",
          "Heart CART pipeline",
          "Heart CART pipeline",
          "Heart CART pipeline",
          "Heart CART pipeline",
          "Heart CART pipeline",
          "Heart CART pipeline",
          "Heart CART pipeline",
          "Heart CART pipeline",
          "Heart CART pipeline",
          "Heart CART pipeline",
          "Heart CART pipeline",
          "Heart CART pipeline",
          "Heart CART pipeline",
          "Heart CART pipeline",
          "Heart CART pipeline",
          "Heart CART pipeline",
          "Heart CART pipeline",
          "Heart CART pipeline",
          "Heart CART pipeline",
          "Heart CART pipeline",
          "Heart CART pipeline",
          "Heart CART pipeline",
          "Heart CART pipeline",
          "Heart CART pipeline",
          "Heart CART pipeline",
          "Heart CART pipeline",
          "Heart CART pipeline",
          "Heart CART pipeline",
          "Heart CART pipeline",
          "Heart CART pipeline",
          "Heart CART pipeline",
          "Heart CART pipeline",
          "Heart CART pipeline",
          "Heart CART pipeline",
          "Heart CART pipeline",
          "Heart CART pipeline",
          "Heart CART pipeline",
          "Heart CART pipeline",
          "Heart CART pipeline",
          "Heart CART pipeline",
          "Heart CART pipeline",
          "Heart CART pipeline",
          "Heart CART pipeline",
          "Heart CART pipeline",
          "Heart CART pipeline",
          "Heart CART pipeline",
          "Heart CART pipeline",
          "Heart CART pipeline",
          "Heart CART pipeline",
          "Heart CART pipeline",
          "Heart CART pipeline",
          "Heart CART pipeline",
          "Heart CART pipeline",
          "Heart CART pipeline",
          "Heart CART pipeline",
          "Heart CART pipeline",
          "Heart CART pipeline",
          "Heart CART pipeline",
          "Heart CART pipeline",
          "Heart CART pipeline",
          "Heart CART pipeline",
          "Heart CART pipeline",
          "Heart CART pipeline",
          "Heart CART pipeline",
          "Heart CART pipeline",
          "Heart CART pipeline",
          "Heart CART pipeline",
          "Heart CART pipeline",
          "Heart CART pipeline",
          "Heart CART pipeline",
          "Heart CART pipeline",
          "Heart CART pipeline",
          "Heart CART pipeline",
          "Heart CART pipeline",
          "Heart CART pipeline",
          "Heart CART pipeline",
          "Heart CART pipeline",
          "Heart CART pipeline",
          "Heart CART pipeline",
          "Heart CART pipeline",
          "Heart CART pipeline",
          "Heart CART pipeline",
          "Heart CART pipeline",
          "Heart CART pipeline",
          "Heart CART pipeline",
          "Heart CART pipeline",
          "Heart CART pipeline",
          "Heart CART pipeline",
          "Heart CART pipeline",
          "Heart CART pipeline",
          "Heart CART pipeline",
          "Heart CART pipeline",
          "Heart CART pipeline",
          "Heart CART pipeline"
         ],
         "legendgroup": "Heart CART pipeline",
         "line": {
          "color": "#8bdcbe",
          "dash": "solid",
          "width": 2
         },
         "marker": {
          "symbol": "circle"
         },
         "mode": "lines",
         "name": "Heart CART pipeline",
         "opacity": 1,
         "orientation": "v",
         "showlegend": true,
         "type": "scatter",
         "x": [
          28,
          28.47,
          28.94,
          29.41,
          29.88,
          30.35,
          30.82,
          31.29,
          31.759999999999998,
          32.23,
          32.7,
          33.17,
          33.64,
          34.11,
          34.58,
          35.05,
          35.519999999999996,
          35.99,
          36.46,
          36.93,
          37.4,
          37.87,
          38.34,
          38.81,
          39.28,
          39.75,
          40.22,
          40.69,
          41.16,
          41.629999999999995,
          42.1,
          42.57,
          43.04,
          43.51,
          43.98,
          44.45,
          44.92,
          45.39,
          45.86,
          46.33,
          46.8,
          47.269999999999996,
          47.739999999999995,
          48.209999999999994,
          48.68,
          49.15,
          49.62,
          50.09,
          50.56,
          51.03,
          51.5,
          51.97,
          52.44,
          52.91,
          53.379999999999995,
          53.849999999999994,
          54.32,
          54.79,
          55.26,
          55.73,
          56.2,
          56.67,
          57.14,
          57.61,
          58.08,
          58.55,
          59.019999999999996,
          59.489999999999995,
          59.959999999999994,
          60.43,
          60.9,
          61.37,
          61.839999999999996,
          62.309999999999995,
          62.78,
          63.25,
          63.72,
          64.19,
          64.66,
          65.13,
          65.6,
          66.07,
          66.53999999999999,
          67.00999999999999,
          67.47999999999999,
          67.94999999999999,
          68.41999999999999,
          68.89,
          69.36,
          69.83,
          70.3,
          70.77,
          71.24,
          71.71000000000001,
          72.18,
          72.65,
          73.12,
          73.59,
          74.06,
          74.53,
          75
         ],
         "xaxis": "x",
         "y": [
          0.48333333333333334,
          0.48333333333333334,
          0.48333333333333334,
          0.48333333333333334,
          0.48333333333333334,
          0.48333333333333334,
          0.48333333333333334,
          0.48333333333333334,
          0.48333333333333334,
          0.48333333333333334,
          0.48333333333333334,
          0.48333333333333334,
          0.48333333333333334,
          0.48333333333333334,
          0.4666666666666667,
          0.4666666666666667,
          0.4666666666666667,
          0.4666666666666667,
          0.4666666666666667,
          0.4666666666666667,
          0.4666666666666667,
          0.4666666666666667,
          0.4666666666666667,
          0.4666666666666667,
          0.4666666666666667,
          0.4666666666666667,
          0.4666666666666667,
          0.4666666666666667,
          0.4666666666666667,
          0.4666666666666667,
          0.4666666666666667,
          0.4666666666666667,
          0.4666666666666667,
          0.4666666666666667,
          0.4666666666666667,
          0.4666666666666667,
          0.4666666666666667,
          0.4666666666666667,
          0.4666666666666667,
          0.4666666666666667,
          0.4666666666666667,
          0.4666666666666667,
          0.4666666666666667,
          0.4666666666666667,
          0.4666666666666667,
          0.4666666666666667,
          0.4666666666666667,
          0.4666666666666667,
          0.4666666666666667,
          0.44666666666666666,
          0.44666666666666666,
          0.44666666666666666,
          0.44666666666666666,
          0.44333333333333336,
          0.44333333333333336,
          0.44333333333333336,
          0.44333333333333336,
          0.43,
          0.43,
          0.5433333333333333,
          0.5433333333333333,
          0.6233333333333333,
          0.6666666666666666,
          0.6666666666666666,
          0.6666666666666666,
          0.64,
          0.64,
          0.64,
          0.64,
          0.64,
          0.6033333333333334,
          0.6033333333333334,
          0.6166666666666667,
          0.6166666666666667,
          0.6166666666666667,
          0.6166666666666667,
          0.6166666666666667,
          0.57,
          0.6233333333333333,
          0.6233333333333333,
          0.6766666666666666,
          0.6766666666666666,
          0.6766666666666666,
          0.6766666666666666,
          0.6766666666666666,
          0.6766666666666666,
          0.6766666666666666,
          0.6766666666666666,
          0.6766666666666666,
          0.6766666666666666,
          0.6766666666666666,
          0.6766666666666666,
          0.6766666666666666,
          0.6766666666666666,
          0.6766666666666666,
          0.4633333333333333,
          0.4633333333333333,
          0.4633333333333333,
          0.4633333333333333,
          0.4633333333333333,
          0.4633333333333333
         ],
         "yaxis": "y"
        },
        {
         "customdata": [
          [
           0.47,
           "Heart CART pipeline",
           "chol"
          ],
          [
           0.47,
           "Heart CART pipeline",
           "chol"
          ],
          [
           0.47,
           "Heart CART pipeline",
           "chol"
          ],
          [
           0.47,
           "Heart CART pipeline",
           "chol"
          ],
          [
           0.47,
           "Heart CART pipeline",
           "chol"
          ],
          [
           0.47,
           "Heart CART pipeline",
           "chol"
          ],
          [
           0.47,
           "Heart CART pipeline",
           "chol"
          ],
          [
           0.47,
           "Heart CART pipeline",
           "chol"
          ],
          [
           0.47,
           "Heart CART pipeline",
           "chol"
          ],
          [
           0.47,
           "Heart CART pipeline",
           "chol"
          ],
          [
           0.47,
           "Heart CART pipeline",
           "chol"
          ],
          [
           0.47,
           "Heart CART pipeline",
           "chol"
          ],
          [
           0.47,
           "Heart CART pipeline",
           "chol"
          ],
          [
           0.47,
           "Heart CART pipeline",
           "chol"
          ],
          [
           0.47,
           "Heart CART pipeline",
           "chol"
          ],
          [
           0.47,
           "Heart CART pipeline",
           "chol"
          ],
          [
           0.47,
           "Heart CART pipeline",
           "chol"
          ],
          [
           0.47,
           "Heart CART pipeline",
           "chol"
          ],
          [
           0.47,
           "Heart CART pipeline",
           "chol"
          ],
          [
           0.47,
           "Heart CART pipeline",
           "chol"
          ],
          [
           0.47,
           "Heart CART pipeline",
           "chol"
          ],
          [
           0.47,
           "Heart CART pipeline",
           "chol"
          ],
          [
           0.47,
           "Heart CART pipeline",
           "chol"
          ],
          [
           0.47,
           "Heart CART pipeline",
           "chol"
          ],
          [
           0.47,
           "Heart CART pipeline",
           "chol"
          ],
          [
           0.47,
           "Heart CART pipeline",
           "chol"
          ],
          [
           0.47,
           "Heart CART pipeline",
           "chol"
          ],
          [
           0.47,
           "Heart CART pipeline",
           "chol"
          ],
          [
           0.47,
           "Heart CART pipeline",
           "chol"
          ],
          [
           0.47,
           "Heart CART pipeline",
           "chol"
          ],
          [
           0.47,
           "Heart CART pipeline",
           "chol"
          ],
          [
           0.47,
           "Heart CART pipeline",
           "chol"
          ],
          [
           0.47,
           "Heart CART pipeline",
           "chol"
          ],
          [
           0.47,
           "Heart CART pipeline",
           "chol"
          ],
          [
           0.47,
           "Heart CART pipeline",
           "chol"
          ],
          [
           0.47,
           "Heart CART pipeline",
           "chol"
          ],
          [
           0.47,
           "Heart CART pipeline",
           "chol"
          ],
          [
           0.47,
           "Heart CART pipeline",
           "chol"
          ],
          [
           0.47,
           "Heart CART pipeline",
           "chol"
          ],
          [
           0.47,
           "Heart CART pipeline",
           "chol"
          ],
          [
           0.47,
           "Heart CART pipeline",
           "chol"
          ],
          [
           0.47,
           "Heart CART pipeline",
           "chol"
          ],
          [
           0.47,
           "Heart CART pipeline",
           "chol"
          ],
          [
           0.47,
           "Heart CART pipeline",
           "chol"
          ],
          [
           0.47,
           "Heart CART pipeline",
           "chol"
          ],
          [
           0.47,
           "Heart CART pipeline",
           "chol"
          ],
          [
           0.47,
           "Heart CART pipeline",
           "chol"
          ],
          [
           0.47,
           "Heart CART pipeline",
           "chol"
          ],
          [
           0.47,
           "Heart CART pipeline",
           "chol"
          ],
          [
           0.47,
           "Heart CART pipeline",
           "chol"
          ],
          [
           0.47,
           "Heart CART pipeline",
           "chol"
          ],
          [
           0.47,
           "Heart CART pipeline",
           "chol"
          ],
          [
           0.47,
           "Heart CART pipeline",
           "chol"
          ],
          [
           0.47,
           "Heart CART pipeline",
           "chol"
          ],
          [
           0.47,
           "Heart CART pipeline",
           "chol"
          ],
          [
           0.47,
           "Heart CART pipeline",
           "chol"
          ],
          [
           0.47,
           "Heart CART pipeline",
           "chol"
          ],
          [
           0.47,
           "Heart CART pipeline",
           "chol"
          ],
          [
           0.47,
           "Heart CART pipeline",
           "chol"
          ],
          [
           0.47,
           "Heart CART pipeline",
           "chol"
          ],
          [
           0.47,
           "Heart CART pipeline",
           "chol"
          ],
          [
           0.47,
           "Heart CART pipeline",
           "chol"
          ],
          [
           0.47,
           "Heart CART pipeline",
           "chol"
          ],
          [
           0.47,
           "Heart CART pipeline",
           "chol"
          ],
          [
           0.47,
           "Heart CART pipeline",
           "chol"
          ],
          [
           0.47,
           "Heart CART pipeline",
           "chol"
          ],
          [
           0.47,
           "Heart CART pipeline",
           "chol"
          ],
          [
           0.47,
           "Heart CART pipeline",
           "chol"
          ],
          [
           0.47,
           "Heart CART pipeline",
           "chol"
          ],
          [
           0.47,
           "Heart CART pipeline",
           "chol"
          ],
          [
           0.47,
           "Heart CART pipeline",
           "chol"
          ],
          [
           0.47,
           "Heart CART pipeline",
           "chol"
          ],
          [
           0.47,
           "Heart CART pipeline",
           "chol"
          ],
          [
           0.47,
           "Heart CART pipeline",
           "chol"
          ],
          [
           0.47,
           "Heart CART pipeline",
           "chol"
          ],
          [
           0.47,
           "Heart CART pipeline",
           "chol"
          ],
          [
           0.47,
           "Heart CART pipeline",
           "chol"
          ],
          [
           0.47,
           "Heart CART pipeline",
           "chol"
          ],
          [
           0.47,
           "Heart CART pipeline",
           "chol"
          ],
          [
           0.47,
           "Heart CART pipeline",
           "chol"
          ],
          [
           0.47,
           "Heart CART pipeline",
           "chol"
          ],
          [
           0.47,
           "Heart CART pipeline",
           "chol"
          ],
          [
           0.47,
           "Heart CART pipeline",
           "chol"
          ],
          [
           0.47,
           "Heart CART pipeline",
           "chol"
          ],
          [
           0.47,
           "Heart CART pipeline",
           "chol"
          ],
          [
           0.47,
           "Heart CART pipeline",
           "chol"
          ],
          [
           0.47,
           "Heart CART pipeline",
           "chol"
          ],
          [
           0.47,
           "Heart CART pipeline",
           "chol"
          ],
          [
           0.47,
           "Heart CART pipeline",
           "chol"
          ],
          [
           0.47,
           "Heart CART pipeline",
           "chol"
          ],
          [
           0.47,
           "Heart CART pipeline",
           "chol"
          ],
          [
           0.47,
           "Heart CART pipeline",
           "chol"
          ],
          [
           0.47,
           "Heart CART pipeline",
           "chol"
          ],
          [
           0.47,
           "Heart CART pipeline",
           "chol"
          ],
          [
           0.47,
           "Heart CART pipeline",
           "chol"
          ],
          [
           0.47,
           "Heart CART pipeline",
           "chol"
          ],
          [
           0.47,
           "Heart CART pipeline",
           "chol"
          ],
          [
           0.47,
           "Heart CART pipeline",
           "chol"
          ],
          [
           0.47,
           "Heart CART pipeline",
           "chol"
          ],
          [
           0.47,
           "Heart CART pipeline",
           "chol"
          ],
          [
           0.47,
           "Heart CART pipeline",
           "chol"
          ]
         ],
         "hovertemplate": "<b>%{hovertext}</b><br><br>prediction=%{y:.3f}<br>mean_prediction=%{customdata[0]:.3f}<extra></extra>",
         "hovertext": [
          "Heart CART pipeline",
          "Heart CART pipeline",
          "Heart CART pipeline",
          "Heart CART pipeline",
          "Heart CART pipeline",
          "Heart CART pipeline",
          "Heart CART pipeline",
          "Heart CART pipeline",
          "Heart CART pipeline",
          "Heart CART pipeline",
          "Heart CART pipeline",
          "Heart CART pipeline",
          "Heart CART pipeline",
          "Heart CART pipeline",
          "Heart CART pipeline",
          "Heart CART pipeline",
          "Heart CART pipeline",
          "Heart CART pipeline",
          "Heart CART pipeline",
          "Heart CART pipeline",
          "Heart CART pipeline",
          "Heart CART pipeline",
          "Heart CART pipeline",
          "Heart CART pipeline",
          "Heart CART pipeline",
          "Heart CART pipeline",
          "Heart CART pipeline",
          "Heart CART pipeline",
          "Heart CART pipeline",
          "Heart CART pipeline",
          "Heart CART pipeline",
          "Heart CART pipeline",
          "Heart CART pipeline",
          "Heart CART pipeline",
          "Heart CART pipeline",
          "Heart CART pipeline",
          "Heart CART pipeline",
          "Heart CART pipeline",
          "Heart CART pipeline",
          "Heart CART pipeline",
          "Heart CART pipeline",
          "Heart CART pipeline",
          "Heart CART pipeline",
          "Heart CART pipeline",
          "Heart CART pipeline",
          "Heart CART pipeline",
          "Heart CART pipeline",
          "Heart CART pipeline",
          "Heart CART pipeline",
          "Heart CART pipeline",
          "Heart CART pipeline",
          "Heart CART pipeline",
          "Heart CART pipeline",
          "Heart CART pipeline",
          "Heart CART pipeline",
          "Heart CART pipeline",
          "Heart CART pipeline",
          "Heart CART pipeline",
          "Heart CART pipeline",
          "Heart CART pipeline",
          "Heart CART pipeline",
          "Heart CART pipeline",
          "Heart CART pipeline",
          "Heart CART pipeline",
          "Heart CART pipeline",
          "Heart CART pipeline",
          "Heart CART pipeline",
          "Heart CART pipeline",
          "Heart CART pipeline",
          "Heart CART pipeline",
          "Heart CART pipeline",
          "Heart CART pipeline",
          "Heart CART pipeline",
          "Heart CART pipeline",
          "Heart CART pipeline",
          "Heart CART pipeline",
          "Heart CART pipeline",
          "Heart CART pipeline",
          "Heart CART pipeline",
          "Heart CART pipeline",
          "Heart CART pipeline",
          "Heart CART pipeline",
          "Heart CART pipeline",
          "Heart CART pipeline",
          "Heart CART pipeline",
          "Heart CART pipeline",
          "Heart CART pipeline",
          "Heart CART pipeline",
          "Heart CART pipeline",
          "Heart CART pipeline",
          "Heart CART pipeline",
          "Heart CART pipeline",
          "Heart CART pipeline",
          "Heart CART pipeline",
          "Heart CART pipeline",
          "Heart CART pipeline",
          "Heart CART pipeline",
          "Heart CART pipeline",
          "Heart CART pipeline",
          "Heart CART pipeline",
          "Heart CART pipeline"
         ],
         "legendgroup": "Heart CART pipeline",
         "line": {
          "color": "#8bdcbe",
          "dash": "solid",
          "width": 2
         },
         "marker": {
          "symbol": "circle"
         },
         "mode": "lines",
         "name": "Heart CART pipeline",
         "opacity": 1,
         "orientation": "v",
         "showlegend": false,
         "type": "scatter",
         "x": [
          0,
          6.03,
          12.06,
          18.09,
          24.12,
          30.150000000000002,
          36.18,
          42.21,
          48.24,
          54.27,
          60.300000000000004,
          66.33,
          72.36,
          78.39,
          84.42,
          90.45,
          96.48,
          102.51,
          108.54,
          114.57000000000001,
          120.60000000000001,
          126.63000000000001,
          132.66,
          138.69,
          144.72,
          150.75,
          156.78,
          162.81,
          168.84,
          174.87,
          180.9,
          186.93,
          192.96,
          198.99,
          205.02,
          211.05,
          217.08,
          223.11,
          229.14000000000001,
          235.17000000000002,
          241.20000000000002,
          247.23000000000002,
          253.26000000000002,
          259.29,
          265.32,
          271.35,
          277.38,
          283.41,
          289.44,
          295.47,
          301.5,
          307.53000000000003,
          313.56,
          319.59000000000003,
          325.62,
          331.65000000000003,
          337.68,
          343.71000000000004,
          349.74,
          355.77000000000004,
          361.8,
          367.83000000000004,
          373.86,
          379.89000000000004,
          385.92,
          391.95,
          397.98,
          404.01,
          410.04,
          416.07,
          422.1,
          428.13,
          434.16,
          440.19,
          446.22,
          452.25,
          458.28000000000003,
          464.31,
          470.34000000000003,
          476.37,
          482.40000000000003,
          488.43,
          494.46000000000004,
          500.49,
          506.52000000000004,
          512.5500000000001,
          518.58,
          524.61,
          530.64,
          536.6700000000001,
          542.7,
          548.73,
          554.76,
          560.7900000000001,
          566.82,
          572.85,
          578.88,
          584.91,
          590.94,
          596.97,
          603
         ],
         "xaxis": "x2",
         "y": [
          0.47333333333333333,
          0.47333333333333333,
          0.47333333333333333,
          0.47333333333333333,
          0.47333333333333333,
          0.47333333333333333,
          0.47333333333333333,
          0.47333333333333333,
          0.47333333333333333,
          0.47333333333333333,
          0.47333333333333333,
          0.47333333333333333,
          0.47333333333333333,
          0.47333333333333333,
          0.47333333333333333,
          0.47333333333333333,
          0.47333333333333333,
          0.47333333333333333,
          0.47333333333333333,
          0.47333333333333333,
          0.47333333333333333,
          0.47333333333333333,
          0.47333333333333333,
          0.47333333333333333,
          0.47333333333333333,
          0.47333333333333333,
          0.47333333333333333,
          0.47333333333333333,
          0.4866666666666667,
          0.4866666666666667,
          0.49,
          0.4766666666666667,
          0.4766666666666667,
          0.5166666666666667,
          0.5166666666666667,
          0.49333333333333335,
          0.48,
          0.43666666666666665,
          0.43666666666666665,
          0.43666666666666665,
          0.43666666666666665,
          0.48,
          0.45666666666666667,
          0.48333333333333334,
          0.59,
          0.5,
          0.5233333333333333,
          0.5233333333333333,
          0.5233333333333333,
          0.5233333333333333,
          0.49666666666666665,
          0.49666666666666665,
          0.49666666666666665,
          0.49666666666666665,
          0.49666666666666665,
          0.49666666666666665,
          0.49666666666666665,
          0.49,
          0.49,
          0.49,
          0.49,
          0.49,
          0.49,
          0.49,
          0.49,
          0.49,
          0.49,
          0.49,
          0.49,
          0.49,
          0.49,
          0.49,
          0.5833333333333334,
          0.5833333333333334,
          0.5833333333333334,
          0.5833333333333334,
          0.5833333333333334,
          0.5833333333333334,
          0.5833333333333334,
          0.61,
          0.61,
          0.61,
          0.61,
          0.61,
          0.61,
          0.61,
          0.61,
          0.61,
          0.61,
          0.61,
          0.61,
          0.61,
          0.61,
          0.61,
          0.61,
          0.61,
          0.61,
          0.61,
          0.61,
          0.61,
          0.61
         ],
         "yaxis": "y2"
        },
        {
         "customdata": [
          [
           0.4553793299261588,
           "Heart LR pipeline",
           "Age"
          ],
          [
           0.4553793299261588,
           "Heart LR pipeline",
           "Age"
          ],
          [
           0.4553793299261588,
           "Heart LR pipeline",
           "Age"
          ],
          [
           0.4553793299261588,
           "Heart LR pipeline",
           "Age"
          ],
          [
           0.4553793299261588,
           "Heart LR pipeline",
           "Age"
          ],
          [
           0.4553793299261588,
           "Heart LR pipeline",
           "Age"
          ],
          [
           0.4553793299261588,
           "Heart LR pipeline",
           "Age"
          ],
          [
           0.4553793299261588,
           "Heart LR pipeline",
           "Age"
          ],
          [
           0.4553793299261588,
           "Heart LR pipeline",
           "Age"
          ],
          [
           0.4553793299261588,
           "Heart LR pipeline",
           "Age"
          ],
          [
           0.4553793299261588,
           "Heart LR pipeline",
           "Age"
          ],
          [
           0.4553793299261588,
           "Heart LR pipeline",
           "Age"
          ],
          [
           0.4553793299261588,
           "Heart LR pipeline",
           "Age"
          ],
          [
           0.4553793299261588,
           "Heart LR pipeline",
           "Age"
          ],
          [
           0.4553793299261588,
           "Heart LR pipeline",
           "Age"
          ],
          [
           0.4553793299261588,
           "Heart LR pipeline",
           "Age"
          ],
          [
           0.4553793299261588,
           "Heart LR pipeline",
           "Age"
          ],
          [
           0.4553793299261588,
           "Heart LR pipeline",
           "Age"
          ],
          [
           0.4553793299261588,
           "Heart LR pipeline",
           "Age"
          ],
          [
           0.4553793299261588,
           "Heart LR pipeline",
           "Age"
          ],
          [
           0.4553793299261588,
           "Heart LR pipeline",
           "Age"
          ],
          [
           0.4553793299261588,
           "Heart LR pipeline",
           "Age"
          ],
          [
           0.4553793299261588,
           "Heart LR pipeline",
           "Age"
          ],
          [
           0.4553793299261588,
           "Heart LR pipeline",
           "Age"
          ],
          [
           0.4553793299261588,
           "Heart LR pipeline",
           "Age"
          ],
          [
           0.4553793299261588,
           "Heart LR pipeline",
           "Age"
          ],
          [
           0.4553793299261588,
           "Heart LR pipeline",
           "Age"
          ],
          [
           0.4553793299261588,
           "Heart LR pipeline",
           "Age"
          ],
          [
           0.4553793299261588,
           "Heart LR pipeline",
           "Age"
          ],
          [
           0.4553793299261588,
           "Heart LR pipeline",
           "Age"
          ],
          [
           0.4553793299261588,
           "Heart LR pipeline",
           "Age"
          ],
          [
           0.4553793299261588,
           "Heart LR pipeline",
           "Age"
          ],
          [
           0.4553793299261588,
           "Heart LR pipeline",
           "Age"
          ],
          [
           0.4553793299261588,
           "Heart LR pipeline",
           "Age"
          ],
          [
           0.4553793299261588,
           "Heart LR pipeline",
           "Age"
          ],
          [
           0.4553793299261588,
           "Heart LR pipeline",
           "Age"
          ],
          [
           0.4553793299261588,
           "Heart LR pipeline",
           "Age"
          ],
          [
           0.4553793299261588,
           "Heart LR pipeline",
           "Age"
          ],
          [
           0.4553793299261588,
           "Heart LR pipeline",
           "Age"
          ],
          [
           0.4553793299261588,
           "Heart LR pipeline",
           "Age"
          ],
          [
           0.4553793299261588,
           "Heart LR pipeline",
           "Age"
          ],
          [
           0.4553793299261588,
           "Heart LR pipeline",
           "Age"
          ],
          [
           0.4553793299261588,
           "Heart LR pipeline",
           "Age"
          ],
          [
           0.4553793299261588,
           "Heart LR pipeline",
           "Age"
          ],
          [
           0.4553793299261588,
           "Heart LR pipeline",
           "Age"
          ],
          [
           0.4553793299261588,
           "Heart LR pipeline",
           "Age"
          ],
          [
           0.4553793299261588,
           "Heart LR pipeline",
           "Age"
          ],
          [
           0.4553793299261588,
           "Heart LR pipeline",
           "Age"
          ],
          [
           0.4553793299261588,
           "Heart LR pipeline",
           "Age"
          ],
          [
           0.4553793299261588,
           "Heart LR pipeline",
           "Age"
          ],
          [
           0.4553793299261588,
           "Heart LR pipeline",
           "Age"
          ],
          [
           0.4553793299261588,
           "Heart LR pipeline",
           "Age"
          ],
          [
           0.4553793299261588,
           "Heart LR pipeline",
           "Age"
          ],
          [
           0.4553793299261588,
           "Heart LR pipeline",
           "Age"
          ],
          [
           0.4553793299261588,
           "Heart LR pipeline",
           "Age"
          ],
          [
           0.4553793299261588,
           "Heart LR pipeline",
           "Age"
          ],
          [
           0.4553793299261588,
           "Heart LR pipeline",
           "Age"
          ],
          [
           0.4553793299261588,
           "Heart LR pipeline",
           "Age"
          ],
          [
           0.4553793299261588,
           "Heart LR pipeline",
           "Age"
          ],
          [
           0.4553793299261588,
           "Heart LR pipeline",
           "Age"
          ],
          [
           0.4553793299261588,
           "Heart LR pipeline",
           "Age"
          ],
          [
           0.4553793299261588,
           "Heart LR pipeline",
           "Age"
          ],
          [
           0.4553793299261588,
           "Heart LR pipeline",
           "Age"
          ],
          [
           0.4553793299261588,
           "Heart LR pipeline",
           "Age"
          ],
          [
           0.4553793299261588,
           "Heart LR pipeline",
           "Age"
          ],
          [
           0.4553793299261588,
           "Heart LR pipeline",
           "Age"
          ],
          [
           0.4553793299261588,
           "Heart LR pipeline",
           "Age"
          ],
          [
           0.4553793299261588,
           "Heart LR pipeline",
           "Age"
          ],
          [
           0.4553793299261588,
           "Heart LR pipeline",
           "Age"
          ],
          [
           0.4553793299261588,
           "Heart LR pipeline",
           "Age"
          ],
          [
           0.4553793299261588,
           "Heart LR pipeline",
           "Age"
          ],
          [
           0.4553793299261588,
           "Heart LR pipeline",
           "Age"
          ],
          [
           0.4553793299261588,
           "Heart LR pipeline",
           "Age"
          ],
          [
           0.4553793299261588,
           "Heart LR pipeline",
           "Age"
          ],
          [
           0.4553793299261588,
           "Heart LR pipeline",
           "Age"
          ],
          [
           0.4553793299261588,
           "Heart LR pipeline",
           "Age"
          ],
          [
           0.4553793299261588,
           "Heart LR pipeline",
           "Age"
          ],
          [
           0.4553793299261588,
           "Heart LR pipeline",
           "Age"
          ],
          [
           0.4553793299261588,
           "Heart LR pipeline",
           "Age"
          ],
          [
           0.4553793299261588,
           "Heart LR pipeline",
           "Age"
          ],
          [
           0.4553793299261588,
           "Heart LR pipeline",
           "Age"
          ],
          [
           0.4553793299261588,
           "Heart LR pipeline",
           "Age"
          ],
          [
           0.4553793299261588,
           "Heart LR pipeline",
           "Age"
          ],
          [
           0.4553793299261588,
           "Heart LR pipeline",
           "Age"
          ],
          [
           0.4553793299261588,
           "Heart LR pipeline",
           "Age"
          ],
          [
           0.4553793299261588,
           "Heart LR pipeline",
           "Age"
          ],
          [
           0.4553793299261588,
           "Heart LR pipeline",
           "Age"
          ],
          [
           0.4553793299261588,
           "Heart LR pipeline",
           "Age"
          ],
          [
           0.4553793299261588,
           "Heart LR pipeline",
           "Age"
          ],
          [
           0.4553793299261588,
           "Heart LR pipeline",
           "Age"
          ],
          [
           0.4553793299261588,
           "Heart LR pipeline",
           "Age"
          ],
          [
           0.4553793299261588,
           "Heart LR pipeline",
           "Age"
          ],
          [
           0.4553793299261588,
           "Heart LR pipeline",
           "Age"
          ],
          [
           0.4553793299261588,
           "Heart LR pipeline",
           "Age"
          ],
          [
           0.4553793299261588,
           "Heart LR pipeline",
           "Age"
          ],
          [
           0.4553793299261588,
           "Heart LR pipeline",
           "Age"
          ],
          [
           0.4553793299261588,
           "Heart LR pipeline",
           "Age"
          ],
          [
           0.4553793299261588,
           "Heart LR pipeline",
           "Age"
          ],
          [
           0.4553793299261588,
           "Heart LR pipeline",
           "Age"
          ],
          [
           0.4553793299261588,
           "Heart LR pipeline",
           "Age"
          ],
          [
           0.4553793299261588,
           "Heart LR pipeline",
           "Age"
          ]
         ],
         "hovertemplate": "<b>%{hovertext}</b><br><br>prediction=%{y:.3f}<br>mean_prediction=%{customdata[0]:.3f}<extra></extra>",
         "hovertext": [
          "Heart LR pipeline",
          "Heart LR pipeline",
          "Heart LR pipeline",
          "Heart LR pipeline",
          "Heart LR pipeline",
          "Heart LR pipeline",
          "Heart LR pipeline",
          "Heart LR pipeline",
          "Heart LR pipeline",
          "Heart LR pipeline",
          "Heart LR pipeline",
          "Heart LR pipeline",
          "Heart LR pipeline",
          "Heart LR pipeline",
          "Heart LR pipeline",
          "Heart LR pipeline",
          "Heart LR pipeline",
          "Heart LR pipeline",
          "Heart LR pipeline",
          "Heart LR pipeline",
          "Heart LR pipeline",
          "Heart LR pipeline",
          "Heart LR pipeline",
          "Heart LR pipeline",
          "Heart LR pipeline",
          "Heart LR pipeline",
          "Heart LR pipeline",
          "Heart LR pipeline",
          "Heart LR pipeline",
          "Heart LR pipeline",
          "Heart LR pipeline",
          "Heart LR pipeline",
          "Heart LR pipeline",
          "Heart LR pipeline",
          "Heart LR pipeline",
          "Heart LR pipeline",
          "Heart LR pipeline",
          "Heart LR pipeline",
          "Heart LR pipeline",
          "Heart LR pipeline",
          "Heart LR pipeline",
          "Heart LR pipeline",
          "Heart LR pipeline",
          "Heart LR pipeline",
          "Heart LR pipeline",
          "Heart LR pipeline",
          "Heart LR pipeline",
          "Heart LR pipeline",
          "Heart LR pipeline",
          "Heart LR pipeline",
          "Heart LR pipeline",
          "Heart LR pipeline",
          "Heart LR pipeline",
          "Heart LR pipeline",
          "Heart LR pipeline",
          "Heart LR pipeline",
          "Heart LR pipeline",
          "Heart LR pipeline",
          "Heart LR pipeline",
          "Heart LR pipeline",
          "Heart LR pipeline",
          "Heart LR pipeline",
          "Heart LR pipeline",
          "Heart LR pipeline",
          "Heart LR pipeline",
          "Heart LR pipeline",
          "Heart LR pipeline",
          "Heart LR pipeline",
          "Heart LR pipeline",
          "Heart LR pipeline",
          "Heart LR pipeline",
          "Heart LR pipeline",
          "Heart LR pipeline",
          "Heart LR pipeline",
          "Heart LR pipeline",
          "Heart LR pipeline",
          "Heart LR pipeline",
          "Heart LR pipeline",
          "Heart LR pipeline",
          "Heart LR pipeline",
          "Heart LR pipeline",
          "Heart LR pipeline",
          "Heart LR pipeline",
          "Heart LR pipeline",
          "Heart LR pipeline",
          "Heart LR pipeline",
          "Heart LR pipeline",
          "Heart LR pipeline",
          "Heart LR pipeline",
          "Heart LR pipeline",
          "Heart LR pipeline",
          "Heart LR pipeline",
          "Heart LR pipeline",
          "Heart LR pipeline",
          "Heart LR pipeline",
          "Heart LR pipeline",
          "Heart LR pipeline",
          "Heart LR pipeline",
          "Heart LR pipeline",
          "Heart LR pipeline",
          "Heart LR pipeline"
         ],
         "legendgroup": "Heart LR pipeline",
         "line": {
          "color": "#4378bf",
          "dash": "solid",
          "width": 2
         },
         "marker": {
          "symbol": "circle"
         },
         "mode": "lines",
         "name": "Heart LR pipeline",
         "opacity": 1,
         "orientation": "v",
         "showlegend": true,
         "type": "scatter",
         "x": [
          28,
          28.47,
          28.94,
          29.41,
          29.88,
          30.35,
          30.82,
          31.29,
          31.759999999999998,
          32.23,
          32.7,
          33.17,
          33.64,
          34.11,
          34.58,
          35.05,
          35.519999999999996,
          35.99,
          36.46,
          36.93,
          37.4,
          37.87,
          38.34,
          38.81,
          39.28,
          39.75,
          40.22,
          40.69,
          41.16,
          41.629999999999995,
          42.1,
          42.57,
          43.04,
          43.51,
          43.98,
          44.45,
          44.92,
          45.39,
          45.86,
          46.33,
          46.8,
          47.269999999999996,
          47.739999999999995,
          48.209999999999994,
          48.68,
          49.15,
          49.62,
          50.09,
          50.56,
          51.03,
          51.5,
          51.97,
          52.44,
          52.91,
          53.379999999999995,
          53.849999999999994,
          54.32,
          54.79,
          55.26,
          55.73,
          56.2,
          56.67,
          57.14,
          57.61,
          58.08,
          58.55,
          59.019999999999996,
          59.489999999999995,
          59.959999999999994,
          60.43,
          60.9,
          61.37,
          61.839999999999996,
          62.309999999999995,
          62.78,
          63.25,
          63.72,
          64.19,
          64.66,
          65.13,
          65.6,
          66.07,
          66.53999999999999,
          67.00999999999999,
          67.47999999999999,
          67.94999999999999,
          68.41999999999999,
          68.89,
          69.36,
          69.83,
          70.3,
          70.77,
          71.24,
          71.71000000000001,
          72.18,
          72.65,
          73.12,
          73.59,
          74.06,
          74.53,
          75
         ],
         "xaxis": "x",
         "y": [
          0.4766334276473652,
          0.4766334276473652,
          0.4766334276473652,
          0.4766334276473652,
          0.4766334276473652,
          0.4766334276473652,
          0.4766334276473652,
          0.4766334276473652,
          0.4766334276473652,
          0.4766334276473652,
          0.4766334276473652,
          0.4766334276473652,
          0.4766334276473652,
          0.4766334276473652,
          0.4751994520479807,
          0.4751994520479807,
          0.46407149817418986,
          0.46407149817418986,
          0.46407149817418986,
          0.43661077512360263,
          0.43661077512360263,
          0.45759365181404643,
          0.45759365181404643,
          0.42907443533864653,
          0.42907443533864653,
          0.42907443533864653,
          0.42907443533864653,
          0.4210961940899747,
          0.4210961940899747,
          0.41592001409640594,
          0.41592001409640594,
          0.4263394267911885,
          0.4263394267911885,
          0.42523200422571805,
          0.42523200422571805,
          0.42523200422571805,
          0.41950102795171373,
          0.41950102795171373,
          0.46310353523831005,
          0.46310353523831005,
          0.46600800602885795,
          0.46600800602885795,
          0.46430305255999693,
          0.46430305255999693,
          0.46776524986004486,
          0.46776524986004486,
          0.46776524986004486,
          0.46776524986004486,
          0.4597617731780636,
          0.4597617731780636,
          0.4597617731780636,
          0.4597617731780636,
          0.4597617731780636,
          0.45877791418419644,
          0.45877791418419644,
          0.45877791418419644,
          0.45877791418419644,
          0.4583200840756457,
          0.4583200840756457,
          0.46949839231361307,
          0.46949839231361307,
          0.46647106058470184,
          0.46647106058470184,
          0.4658691024871993,
          0.4658691024871993,
          0.460961634903118,
          0.460961634903118,
          0.460961634903118,
          0.4582915721262648,
          0.4582915721262648,
          0.4582915721262648,
          0.4582915721262648,
          0.4884430143962686,
          0.4884430143962686,
          0.48981512701704694,
          0.48981512701704694,
          0.48755768906676245,
          0.48755768906676245,
          0.48285596073681936,
          0.48285596073681936,
          0.459469643481778,
          0.459469643481778,
          0.459469643481778,
          0.459469643481778,
          0.459469643481778,
          0.459469643481778,
          0.459469643481778,
          0.437589130078247,
          0.437589130078247,
          0.437589130078247,
          0.437589130078247,
          0.437589130078247,
          0.437589130078247,
          0.437589130078247,
          0.437589130078247,
          0.4636348483581202,
          0.4636348483581202,
          0.4636348483581202,
          0.4636348483581202,
          0.3813968950365493,
          0.3813968950365493
         ],
         "yaxis": "y"
        },
        {
         "customdata": [
          [
           0.4553793299261588,
           "Heart LR pipeline",
           "chol"
          ],
          [
           0.4553793299261588,
           "Heart LR pipeline",
           "chol"
          ],
          [
           0.4553793299261588,
           "Heart LR pipeline",
           "chol"
          ],
          [
           0.4553793299261588,
           "Heart LR pipeline",
           "chol"
          ],
          [
           0.4553793299261588,
           "Heart LR pipeline",
           "chol"
          ],
          [
           0.4553793299261588,
           "Heart LR pipeline",
           "chol"
          ],
          [
           0.4553793299261588,
           "Heart LR pipeline",
           "chol"
          ],
          [
           0.4553793299261588,
           "Heart LR pipeline",
           "chol"
          ],
          [
           0.4553793299261588,
           "Heart LR pipeline",
           "chol"
          ],
          [
           0.4553793299261588,
           "Heart LR pipeline",
           "chol"
          ],
          [
           0.4553793299261588,
           "Heart LR pipeline",
           "chol"
          ],
          [
           0.4553793299261588,
           "Heart LR pipeline",
           "chol"
          ],
          [
           0.4553793299261588,
           "Heart LR pipeline",
           "chol"
          ],
          [
           0.4553793299261588,
           "Heart LR pipeline",
           "chol"
          ],
          [
           0.4553793299261588,
           "Heart LR pipeline",
           "chol"
          ],
          [
           0.4553793299261588,
           "Heart LR pipeline",
           "chol"
          ],
          [
           0.4553793299261588,
           "Heart LR pipeline",
           "chol"
          ],
          [
           0.4553793299261588,
           "Heart LR pipeline",
           "chol"
          ],
          [
           0.4553793299261588,
           "Heart LR pipeline",
           "chol"
          ],
          [
           0.4553793299261588,
           "Heart LR pipeline",
           "chol"
          ],
          [
           0.4553793299261588,
           "Heart LR pipeline",
           "chol"
          ],
          [
           0.4553793299261588,
           "Heart LR pipeline",
           "chol"
          ],
          [
           0.4553793299261588,
           "Heart LR pipeline",
           "chol"
          ],
          [
           0.4553793299261588,
           "Heart LR pipeline",
           "chol"
          ],
          [
           0.4553793299261588,
           "Heart LR pipeline",
           "chol"
          ],
          [
           0.4553793299261588,
           "Heart LR pipeline",
           "chol"
          ],
          [
           0.4553793299261588,
           "Heart LR pipeline",
           "chol"
          ],
          [
           0.4553793299261588,
           "Heart LR pipeline",
           "chol"
          ],
          [
           0.4553793299261588,
           "Heart LR pipeline",
           "chol"
          ],
          [
           0.4553793299261588,
           "Heart LR pipeline",
           "chol"
          ],
          [
           0.4553793299261588,
           "Heart LR pipeline",
           "chol"
          ],
          [
           0.4553793299261588,
           "Heart LR pipeline",
           "chol"
          ],
          [
           0.4553793299261588,
           "Heart LR pipeline",
           "chol"
          ],
          [
           0.4553793299261588,
           "Heart LR pipeline",
           "chol"
          ],
          [
           0.4553793299261588,
           "Heart LR pipeline",
           "chol"
          ],
          [
           0.4553793299261588,
           "Heart LR pipeline",
           "chol"
          ],
          [
           0.4553793299261588,
           "Heart LR pipeline",
           "chol"
          ],
          [
           0.4553793299261588,
           "Heart LR pipeline",
           "chol"
          ],
          [
           0.4553793299261588,
           "Heart LR pipeline",
           "chol"
          ],
          [
           0.4553793299261588,
           "Heart LR pipeline",
           "chol"
          ],
          [
           0.4553793299261588,
           "Heart LR pipeline",
           "chol"
          ],
          [
           0.4553793299261588,
           "Heart LR pipeline",
           "chol"
          ],
          [
           0.4553793299261588,
           "Heart LR pipeline",
           "chol"
          ],
          [
           0.4553793299261588,
           "Heart LR pipeline",
           "chol"
          ],
          [
           0.4553793299261588,
           "Heart LR pipeline",
           "chol"
          ],
          [
           0.4553793299261588,
           "Heart LR pipeline",
           "chol"
          ],
          [
           0.4553793299261588,
           "Heart LR pipeline",
           "chol"
          ],
          [
           0.4553793299261588,
           "Heart LR pipeline",
           "chol"
          ],
          [
           0.4553793299261588,
           "Heart LR pipeline",
           "chol"
          ],
          [
           0.4553793299261588,
           "Heart LR pipeline",
           "chol"
          ],
          [
           0.4553793299261588,
           "Heart LR pipeline",
           "chol"
          ],
          [
           0.4553793299261588,
           "Heart LR pipeline",
           "chol"
          ],
          [
           0.4553793299261588,
           "Heart LR pipeline",
           "chol"
          ],
          [
           0.4553793299261588,
           "Heart LR pipeline",
           "chol"
          ],
          [
           0.4553793299261588,
           "Heart LR pipeline",
           "chol"
          ],
          [
           0.4553793299261588,
           "Heart LR pipeline",
           "chol"
          ],
          [
           0.4553793299261588,
           "Heart LR pipeline",
           "chol"
          ],
          [
           0.4553793299261588,
           "Heart LR pipeline",
           "chol"
          ],
          [
           0.4553793299261588,
           "Heart LR pipeline",
           "chol"
          ],
          [
           0.4553793299261588,
           "Heart LR pipeline",
           "chol"
          ],
          [
           0.4553793299261588,
           "Heart LR pipeline",
           "chol"
          ],
          [
           0.4553793299261588,
           "Heart LR pipeline",
           "chol"
          ],
          [
           0.4553793299261588,
           "Heart LR pipeline",
           "chol"
          ],
          [
           0.4553793299261588,
           "Heart LR pipeline",
           "chol"
          ],
          [
           0.4553793299261588,
           "Heart LR pipeline",
           "chol"
          ],
          [
           0.4553793299261588,
           "Heart LR pipeline",
           "chol"
          ],
          [
           0.4553793299261588,
           "Heart LR pipeline",
           "chol"
          ],
          [
           0.4553793299261588,
           "Heart LR pipeline",
           "chol"
          ],
          [
           0.4553793299261588,
           "Heart LR pipeline",
           "chol"
          ],
          [
           0.4553793299261588,
           "Heart LR pipeline",
           "chol"
          ],
          [
           0.4553793299261588,
           "Heart LR pipeline",
           "chol"
          ],
          [
           0.4553793299261588,
           "Heart LR pipeline",
           "chol"
          ],
          [
           0.4553793299261588,
           "Heart LR pipeline",
           "chol"
          ],
          [
           0.4553793299261588,
           "Heart LR pipeline",
           "chol"
          ],
          [
           0.4553793299261588,
           "Heart LR pipeline",
           "chol"
          ],
          [
           0.4553793299261588,
           "Heart LR pipeline",
           "chol"
          ],
          [
           0.4553793299261588,
           "Heart LR pipeline",
           "chol"
          ],
          [
           0.4553793299261588,
           "Heart LR pipeline",
           "chol"
          ],
          [
           0.4553793299261588,
           "Heart LR pipeline",
           "chol"
          ],
          [
           0.4553793299261588,
           "Heart LR pipeline",
           "chol"
          ],
          [
           0.4553793299261588,
           "Heart LR pipeline",
           "chol"
          ],
          [
           0.4553793299261588,
           "Heart LR pipeline",
           "chol"
          ],
          [
           0.4553793299261588,
           "Heart LR pipeline",
           "chol"
          ],
          [
           0.4553793299261588,
           "Heart LR pipeline",
           "chol"
          ],
          [
           0.4553793299261588,
           "Heart LR pipeline",
           "chol"
          ],
          [
           0.4553793299261588,
           "Heart LR pipeline",
           "chol"
          ],
          [
           0.4553793299261588,
           "Heart LR pipeline",
           "chol"
          ],
          [
           0.4553793299261588,
           "Heart LR pipeline",
           "chol"
          ],
          [
           0.4553793299261588,
           "Heart LR pipeline",
           "chol"
          ],
          [
           0.4553793299261588,
           "Heart LR pipeline",
           "chol"
          ],
          [
           0.4553793299261588,
           "Heart LR pipeline",
           "chol"
          ],
          [
           0.4553793299261588,
           "Heart LR pipeline",
           "chol"
          ],
          [
           0.4553793299261588,
           "Heart LR pipeline",
           "chol"
          ],
          [
           0.4553793299261588,
           "Heart LR pipeline",
           "chol"
          ],
          [
           0.4553793299261588,
           "Heart LR pipeline",
           "chol"
          ],
          [
           0.4553793299261588,
           "Heart LR pipeline",
           "chol"
          ],
          [
           0.4553793299261588,
           "Heart LR pipeline",
           "chol"
          ],
          [
           0.4553793299261588,
           "Heart LR pipeline",
           "chol"
          ],
          [
           0.4553793299261588,
           "Heart LR pipeline",
           "chol"
          ],
          [
           0.4553793299261588,
           "Heart LR pipeline",
           "chol"
          ],
          [
           0.4553793299261588,
           "Heart LR pipeline",
           "chol"
          ]
         ],
         "hovertemplate": "<b>%{hovertext}</b><br><br>prediction=%{y:.3f}<br>mean_prediction=%{customdata[0]:.3f}<extra></extra>",
         "hovertext": [
          "Heart LR pipeline",
          "Heart LR pipeline",
          "Heart LR pipeline",
          "Heart LR pipeline",
          "Heart LR pipeline",
          "Heart LR pipeline",
          "Heart LR pipeline",
          "Heart LR pipeline",
          "Heart LR pipeline",
          "Heart LR pipeline",
          "Heart LR pipeline",
          "Heart LR pipeline",
          "Heart LR pipeline",
          "Heart LR pipeline",
          "Heart LR pipeline",
          "Heart LR pipeline",
          "Heart LR pipeline",
          "Heart LR pipeline",
          "Heart LR pipeline",
          "Heart LR pipeline",
          "Heart LR pipeline",
          "Heart LR pipeline",
          "Heart LR pipeline",
          "Heart LR pipeline",
          "Heart LR pipeline",
          "Heart LR pipeline",
          "Heart LR pipeline",
          "Heart LR pipeline",
          "Heart LR pipeline",
          "Heart LR pipeline",
          "Heart LR pipeline",
          "Heart LR pipeline",
          "Heart LR pipeline",
          "Heart LR pipeline",
          "Heart LR pipeline",
          "Heart LR pipeline",
          "Heart LR pipeline",
          "Heart LR pipeline",
          "Heart LR pipeline",
          "Heart LR pipeline",
          "Heart LR pipeline",
          "Heart LR pipeline",
          "Heart LR pipeline",
          "Heart LR pipeline",
          "Heart LR pipeline",
          "Heart LR pipeline",
          "Heart LR pipeline",
          "Heart LR pipeline",
          "Heart LR pipeline",
          "Heart LR pipeline",
          "Heart LR pipeline",
          "Heart LR pipeline",
          "Heart LR pipeline",
          "Heart LR pipeline",
          "Heart LR pipeline",
          "Heart LR pipeline",
          "Heart LR pipeline",
          "Heart LR pipeline",
          "Heart LR pipeline",
          "Heart LR pipeline",
          "Heart LR pipeline",
          "Heart LR pipeline",
          "Heart LR pipeline",
          "Heart LR pipeline",
          "Heart LR pipeline",
          "Heart LR pipeline",
          "Heart LR pipeline",
          "Heart LR pipeline",
          "Heart LR pipeline",
          "Heart LR pipeline",
          "Heart LR pipeline",
          "Heart LR pipeline",
          "Heart LR pipeline",
          "Heart LR pipeline",
          "Heart LR pipeline",
          "Heart LR pipeline",
          "Heart LR pipeline",
          "Heart LR pipeline",
          "Heart LR pipeline",
          "Heart LR pipeline",
          "Heart LR pipeline",
          "Heart LR pipeline",
          "Heart LR pipeline",
          "Heart LR pipeline",
          "Heart LR pipeline",
          "Heart LR pipeline",
          "Heart LR pipeline",
          "Heart LR pipeline",
          "Heart LR pipeline",
          "Heart LR pipeline",
          "Heart LR pipeline",
          "Heart LR pipeline",
          "Heart LR pipeline",
          "Heart LR pipeline",
          "Heart LR pipeline",
          "Heart LR pipeline",
          "Heart LR pipeline",
          "Heart LR pipeline",
          "Heart LR pipeline",
          "Heart LR pipeline",
          "Heart LR pipeline"
         ],
         "legendgroup": "Heart LR pipeline",
         "line": {
          "color": "#4378bf",
          "dash": "solid",
          "width": 2
         },
         "marker": {
          "symbol": "circle"
         },
         "mode": "lines",
         "name": "Heart LR pipeline",
         "opacity": 1,
         "orientation": "v",
         "showlegend": false,
         "type": "scatter",
         "x": [
          0,
          6.03,
          12.06,
          18.09,
          24.12,
          30.150000000000002,
          36.18,
          42.21,
          48.24,
          54.27,
          60.300000000000004,
          66.33,
          72.36,
          78.39,
          84.42,
          90.45,
          96.48,
          102.51,
          108.54,
          114.57000000000001,
          120.60000000000001,
          126.63000000000001,
          132.66,
          138.69,
          144.72,
          150.75,
          156.78,
          162.81,
          168.84,
          174.87,
          180.9,
          186.93,
          192.96,
          198.99,
          205.02,
          211.05,
          217.08,
          223.11,
          229.14000000000001,
          235.17000000000002,
          241.20000000000002,
          247.23000000000002,
          253.26000000000002,
          259.29,
          265.32,
          271.35,
          277.38,
          283.41,
          289.44,
          295.47,
          301.5,
          307.53000000000003,
          313.56,
          319.59000000000003,
          325.62,
          331.65000000000003,
          337.68,
          343.71000000000004,
          349.74,
          355.77000000000004,
          361.8,
          367.83000000000004,
          373.86,
          379.89000000000004,
          385.92,
          391.95,
          397.98,
          404.01,
          410.04,
          416.07,
          422.1,
          428.13,
          434.16,
          440.19,
          446.22,
          452.25,
          458.28000000000003,
          464.31,
          470.34000000000003,
          476.37,
          482.40000000000003,
          488.43,
          494.46000000000004,
          500.49,
          506.52000000000004,
          512.5500000000001,
          518.58,
          524.61,
          530.64,
          536.6700000000001,
          542.7,
          548.73,
          554.76,
          560.7900000000001,
          566.82,
          572.85,
          578.88,
          584.91,
          590.94,
          596.97,
          603
         ],
         "xaxis": "x2",
         "y": [
          0.498918044090195,
          0.498918044090195,
          0.498918044090195,
          0.498918044090195,
          0.498918044090195,
          0.498918044090195,
          0.498918044090195,
          0.498918044090195,
          0.4372865567791372,
          0.4372865567791372,
          0.4372865567791372,
          0.4372865567791372,
          0.4372865567791372,
          0.4372865567791372,
          0.4372865567791372,
          0.4372865567791372,
          0.4372865567791372,
          0.4372865567791372,
          0.4372865567791372,
          0.4372865567791372,
          0.4372865567791372,
          0.4264668963328633,
          0.4264668963328633,
          0.4264668963328633,
          0.4264668963328633,
          0.4264668963328633,
          0.4264668963328633,
          0.42441827312973796,
          0.42441827312973796,
          0.42441827312973796,
          0.4248223574547566,
          0.4293332542197518,
          0.4293332542197518,
          0.429438902601917,
          0.44199762931288233,
          0.4412666409127512,
          0.4412666409127512,
          0.43977529190878384,
          0.43977529190878384,
          0.4425970062981491,
          0.4376242485209369,
          0.4608013114209368,
          0.46074171067587777,
          0.4610709191315171,
          0.479027530752876,
          0.470733093347429,
          0.47209015226844164,
          0.4750132469055845,
          0.4644413200980013,
          0.4453881236344182,
          0.43615981705035173,
          0.42513979394803325,
          0.42513979394803325,
          0.42513979394803325,
          0.42513979394803325,
          0.4268520969081288,
          0.4268520969081288,
          0.4255851290956042,
          0.4211502120216665,
          0.4211502120216665,
          0.40414640138989244,
          0.40414640138989244,
          0.40414640138989244,
          0.40414640138989244,
          0.40414640138989244,
          0.4749286703228599,
          0.46678450008074823,
          0.46678450008074823,
          0.4570310031232454,
          0.4570310031232454,
          0.4570310031232454,
          0.4570310031232454,
          0.4570310031232454,
          0.4570310031232454,
          0.4570310031232454,
          0.4570310031232454,
          0.4570310031232454,
          0.4914281728247321,
          0.4914281728247321,
          0.4914281728247321,
          0.5942175912785179,
          0.5942175912785179,
          0.5942175912785179,
          0.5942175912785179,
          0.606997877188629,
          0.606997877188629,
          0.606997877188629,
          0.606997877188629,
          0.606997877188629,
          0.606997877188629,
          0.606997877188629,
          0.606997877188629,
          0.606997877188629,
          0.606997877188629,
          0.606997877188629,
          0.606997877188629,
          0.606997877188629,
          0.606997877188629,
          0.606997877188629,
          0.606997877188629,
          0.606997877188629
         ],
         "yaxis": "y2"
        }
       ],
       "layout": {
        "annotations": [
         {
          "font": {
           "size": 13
          },
          "showarrow": false,
          "text": "Age",
          "x": 0.2375,
          "xanchor": "center",
          "xref": "paper",
          "y": 1,
          "yanchor": "bottom",
          "yref": "paper"
         },
         {
          "font": {
           "size": 13
          },
          "showarrow": false,
          "text": "chol",
          "x": 0.7625,
          "xanchor": "center",
          "xref": "paper",
          "y": 1,
          "yanchor": "bottom",
          "yref": "paper"
         },
         {
          "font": {
           "size": 13
          },
          "showarrow": false,
          "text": "prediction",
          "textangle": -90,
          "x": -0.07,
          "xref": "paper",
          "y": 0.5,
          "yref": "paper"
         }
        ],
        "font": {
         "color": "#371ea3"
        },
        "height": 489,
        "hovermode": "x unified",
        "legend": {
         "font": {
          "size": 11
         },
         "itemsizing": "constant",
         "orientation": "h",
         "title": {
          "font": {
           "size": 12
          },
          "text": "label"
         },
         "tracegroupgap": 0,
         "x": 1,
         "xanchor": "right",
         "y": 1.0613496932515338,
         "yanchor": "bottom"
        },
        "margin": {
         "b": 71,
         "r": 30,
         "t": 78
        },
        "template": {
         "data": {
          "scatter": [
           {
            "type": "scatter"
           }
          ]
         }
        },
        "title": {
         "font": {
          "size": 16
         },
         "text": "Aggregated Profiles",
         "x": 0.15
        },
        "xaxis": {
         "anchor": "y",
         "automargin": true,
         "domain": [
          0,
          0.475
         ],
         "fixedrange": true,
         "gridwidth": 2,
         "showticklabels": true,
         "tickcolor": "white",
         "ticklen": 3,
         "ticks": "outside",
         "title": {
          "text": ""
         },
         "type": "linear",
         "zeroline": false
        },
        "xaxis2": {
         "anchor": "y2",
         "automargin": true,
         "domain": [
          0.525,
          1
         ],
         "fixedrange": true,
         "gridwidth": 2,
         "showticklabels": true,
         "tickcolor": "white",
         "ticklen": 3,
         "ticks": "outside",
         "title": {
          "text": ""
         },
         "type": "linear",
         "zeroline": false
        },
        "yaxis": {
         "anchor": "x",
         "automargin": true,
         "domain": [
          0,
          1
         ],
         "fixedrange": true,
         "gridwidth": 2,
         "range": [
          0.35186991787353755,
          0.7061936438296784
         ],
         "tickcolor": "white",
         "ticklen": 3,
         "ticks": "outside",
         "title": {
          "text": ""
         },
         "type": "linear",
         "zeroline": false
        },
        "yaxis2": {
         "anchor": "x2",
         "automargin": true,
         "domain": [
          0,
          1
         ],
         "fixedrange": true,
         "gridwidth": 2,
         "matches": "y",
         "showticklabels": false,
         "tickcolor": "white",
         "ticklen": 3,
         "ticks": "outside",
         "title": {
          "text": ""
         },
         "type": "linear",
         "zeroline": false
        }
       }
      }
     },
     "metadata": {},
     "output_type": "display_data"
    }
   ],
   "source": [
    "pdp_cart.plot(pdp_lr, variables=[\"Age\", \"chol\"])\n"
   ]
  },
  {
   "cell_type": "code",
   "execution_count": 97,
   "metadata": {},
   "outputs": [
    {
     "ename": "TypeError",
     "evalue": "plot() got an unexpected keyword argument 'variable_type'",
     "output_type": "error",
     "traceback": [
      "\u001b[0;31m---------------------------------------------------------------------------\u001b[0m",
      "\u001b[0;31mTypeError\u001b[0m                                 Traceback (most recent call last)",
      "\u001b[0;32m/tmp/ipykernel_16639/4255091772.py\u001b[0m in \u001b[0;36m<module>\u001b[0;34m\u001b[0m\n\u001b[0;32m----> 1\u001b[0;31m \u001b[0mpdp_cart\u001b[0m\u001b[0;34m.\u001b[0m\u001b[0mplot\u001b[0m\u001b[0;34m(\u001b[0m\u001b[0mpdp_lr\u001b[0m\u001b[0;34m,\u001b[0m \u001b[0mvariable_type\u001b[0m\u001b[0;34m=\u001b[0m\u001b[0;34m\"categorical\"\u001b[0m\u001b[0;34m,\u001b[0m \u001b[0mvariables\u001b[0m\u001b[0;34m=\u001b[0m\u001b[0;34m\"Sex\"\u001b[0m\u001b[0;34m)\u001b[0m\u001b[0;34m\u001b[0m\u001b[0;34m\u001b[0m\u001b[0m\n\u001b[0m",
      "\u001b[0;31mTypeError\u001b[0m: plot() got an unexpected keyword argument 'variable_type'"
     ]
    }
   ],
   "source": [
    "pdp_cart.plot(pdp_lr, variable_type=\"categorical\", variables=\"Sex\")"
   ]
  },
  {
   "cell_type": "code",
   "execution_count": 99,
   "metadata": {},
   "outputs": [
    {
     "name": "stderr",
     "output_type": "stream",
     "text": [
      "/home/bart/anaconda3/envs/mainenv/lib/python3.9/site-packages/pandas/plotting/_matplotlib/core.py:633: UserWarning:\n",
      "\n",
      "The handle <matplotlib.lines.Line2D object at 0x7f2db19e9640> has a label of '_x_' which cannot be automatically added to the legend.\n",
      "\n",
      "/home/bart/anaconda3/envs/mainenv/lib/python3.9/site-packages/pandas/plotting/_matplotlib/core.py:633: UserWarning:\n",
      "\n",
      "The handle <matplotlib.lines.Line2D object at 0x7f2db19e9970> has a label of '_yhat_' which cannot be automatically added to the legend.\n",
      "\n",
      "/home/bart/anaconda3/envs/mainenv/lib/python3.9/site-packages/pandas/plotting/_matplotlib/core.py:633: UserWarning:\n",
      "\n",
      "The handle <matplotlib.lines.Line2D object at 0x7f2db19e9d30> has a label of '_ids_' which cannot be automatically added to the legend.\n",
      "\n"
     ]
    },
    {
     "data": {
      "text/plain": [
       "<AxesSubplot:>"
      ]
     },
     "execution_count": 99,
     "metadata": {},
     "output_type": "execute_result"
    },
    {
     "data": {
      "image/png": "[encoded data removed]",
      "text/plain": [
       "<Figure size 432x288 with 1 Axes>"
      ]
     },
     "metadata": {
      "needs_background": "light"
     },
     "output_type": "display_data"
    }
   ],
   "source": [
    "pd_cart.plot()"
   ]
  },
  {
   "cell_type": "code",
   "execution_count": 96,
   "metadata": {},
   "outputs": [
    {
     "data": {
      "text/html": [
       "<div>\n",
       "<style scoped>\n",
       "    .dataframe tbody tr th:only-of-type {\n",
       "        vertical-align: middle;\n",
       "    }\n",
       "\n",
       "    .dataframe tbody tr th {\n",
       "        vertical-align: top;\n",
       "    }\n",
       "\n",
       "    .dataframe thead th {\n",
       "        text-align: right;\n",
       "    }\n",
       "</style>\n",
       "<table border=\"1\" class=\"dataframe\">\n",
       "  <thead>\n",
       "    <tr style=\"text-align: right;\">\n",
       "      <th></th>\n",
       "      <th>_vname_</th>\n",
       "      <th>_label_</th>\n",
       "      <th>_x_</th>\n",
       "      <th>_yhat_</th>\n",
       "      <th>_ids_</th>\n",
       "    </tr>\n",
       "  </thead>\n",
       "  <tbody>\n",
       "    <tr>\n",
       "      <th>0</th>\n",
       "      <td>Age</td>\n",
       "      <td>Heart CART pipeline</td>\n",
       "      <td>28.000</td>\n",
       "      <td>0.483333</td>\n",
       "      <td>0</td>\n",
       "    </tr>\n",
       "    <tr>\n",
       "      <th>1</th>\n",
       "      <td>Age</td>\n",
       "      <td>Heart CART pipeline</td>\n",
       "      <td>28.470</td>\n",
       "      <td>0.483333</td>\n",
       "      <td>0</td>\n",
       "    </tr>\n",
       "    <tr>\n",
       "      <th>2</th>\n",
       "      <td>Age</td>\n",
       "      <td>Heart CART pipeline</td>\n",
       "      <td>28.940</td>\n",
       "      <td>0.483333</td>\n",
       "      <td>0</td>\n",
       "    </tr>\n",
       "    <tr>\n",
       "      <th>3</th>\n",
       "      <td>Age</td>\n",
       "      <td>Heart CART pipeline</td>\n",
       "      <td>29.410</td>\n",
       "      <td>0.483333</td>\n",
       "      <td>0</td>\n",
       "    </tr>\n",
       "    <tr>\n",
       "      <th>4</th>\n",
       "      <td>Age</td>\n",
       "      <td>Heart CART pipeline</td>\n",
       "      <td>29.880</td>\n",
       "      <td>0.483333</td>\n",
       "      <td>0</td>\n",
       "    </tr>\n",
       "    <tr>\n",
       "      <th>...</th>\n",
       "      <td>...</td>\n",
       "      <td>...</td>\n",
       "      <td>...</td>\n",
       "      <td>...</td>\n",
       "      <td>...</td>\n",
       "    </tr>\n",
       "    <tr>\n",
       "      <th>1005</th>\n",
       "      <td>oldpeak</td>\n",
       "      <td>Heart CART pipeline</td>\n",
       "      <td>4.696</td>\n",
       "      <td>0.763333</td>\n",
       "      <td>0</td>\n",
       "    </tr>\n",
       "    <tr>\n",
       "      <th>1006</th>\n",
       "      <td>oldpeak</td>\n",
       "      <td>Heart CART pipeline</td>\n",
       "      <td>4.772</td>\n",
       "      <td>0.763333</td>\n",
       "      <td>0</td>\n",
       "    </tr>\n",
       "    <tr>\n",
       "      <th>1007</th>\n",
       "      <td>oldpeak</td>\n",
       "      <td>Heart CART pipeline</td>\n",
       "      <td>4.848</td>\n",
       "      <td>0.763333</td>\n",
       "      <td>0</td>\n",
       "    </tr>\n",
       "    <tr>\n",
       "      <th>1008</th>\n",
       "      <td>oldpeak</td>\n",
       "      <td>Heart CART pipeline</td>\n",
       "      <td>4.924</td>\n",
       "      <td>0.763333</td>\n",
       "      <td>0</td>\n",
       "    </tr>\n",
       "    <tr>\n",
       "      <th>1009</th>\n",
       "      <td>oldpeak</td>\n",
       "      <td>Heart CART pipeline</td>\n",
       "      <td>5.000</td>\n",
       "      <td>0.763333</td>\n",
       "      <td>0</td>\n",
       "    </tr>\n",
       "  </tbody>\n",
       "</table>\n",
       "<p>1010 rows × 5 columns</p>\n",
       "</div>"
      ],
      "text/plain": [
       "<dalex.model_explanations._aggregated_profiles.object.AggregatedProfiles at 0x7f2db38748b0>"
      ]
     },
     "execution_count": 96,
     "metadata": {},
     "output_type": "execute_result"
    }
   ],
   "source": [
    "pdp_cart[\"Age\"]"
   ]
  },
  {
   "cell_type": "code",
   "execution_count": null,
   "metadata": {},
   "outputs": [],
   "source": []
  }
 ],
 "metadata": {
  "interpreter": {
   "hash": "54107a2a0eb6a0b2996cb7a94c16d9283b5dc7f969a30a8a01f6dbe77c679ea9"
  },
  "kernelspec": {
   "display_name": "Python 3.9.7 ('mainenv')",
   "language": "python",
   "name": "python3"
  },
  "language_info": {
   "codemirror_mode": {
    "name": "ipython",
    "version": 3
   },
   "file_extension": ".py",
   "mimetype": "text/x-python",
   "name": "python",
   "nbconvert_exporter": "python",
   "pygments_lexer": "ipython3",
   "version": "3.9.7"
  },
  "orig_nbformat": 4
 },
 "nbformat": 4,
 "nbformat_minor": 2
}
