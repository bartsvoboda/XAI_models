{
 "cells": [
  {
   "cell_type": "code",
   "execution_count": 60,
   "metadata": {},
   "outputs": [],
   "source": [
    "import dalex as dx\n",
    "from sklearn.tree import DecisionTreeClassifier\n",
    "from interpret.glassbox import ExplainableBoostingClassifier\n",
    "from interpret.glassbox import DecisionListClassifier\n",
    "from sklearn.linear_model import LogisticRegression\n",
    "from sklearn.naive_bayes import GaussianNB\n",
    "\n",
    "\n",
    "clfs = {\n",
    "    \"CART\": DecisionTreeClassifier(random_state=1234),\n",
    "    \"EBM\": ExplainableBoostingClassifier(),\n",
    "    \"LR_l2\": LogisticRegression(penalty=\"l2\",random_state=1234),\n",
    "    \"GNB\": GaussianNB(),\n",
    "    \"LR\": LogisticRegression(penalty=\"none\", random_state=1234),\n",
    "    \"DL\": DecisionListClassifier(random_state=1234) \n",
    "}\n",
    "\n",
    "datasets = ['breast', 'campus', 'churn', 'climate',\n",
    "            'compas', 'diabetes', 'german', 'heart',\n",
    "            'adult', 'student', 'bank', 'credit']"
   ]
  },
  {
   "cell_type": "code",
   "execution_count": 61,
   "metadata": {},
   "outputs": [],
   "source": [
    "from sklearn.base import clone \n",
    "from sklearn import metrics\n",
    "import pandas as pd\n",
    "\n",
    "import helper\n",
    "import importlib\n",
    "importlib.reload(helper)\n",
    "from sklearn.pipeline import make_pipeline\n",
    "\n",
    "dataset = \"heart\"\n",
    "\n",
    "from sklearn.model_selection import train_test_split\n",
    "\n",
    "X=pd.read_csv(f\"./datasets/cleaned/{dataset}_X.csv\")\n",
    "X = X.drop(\"Unnamed: 0\", axis=1)\n",
    "y = pd.read_csv(f\"./semi-syntetic_dataset/CART/{dataset}_y.csv\")\n",
    "\n",
    "features_types_df = pd.read_csv(f\"./datasets/cleaned/datatypes/{dataset}.csv\")\n",
    "\n",
    "feature_inidices = list(map(int, list(features_types_df)))\n",
    "features_names = list(features_types_df.T[0])\n",
    "features_types = list(map(int, list(features_types_df.T[1])))\n",
    "\n",
    "preprocess = helper.select_preprocessing_for_many_feat(feature_inidices, features_types, features_names)"
   ]
  },
  {
   "cell_type": "code",
   "execution_count": 62,
   "metadata": {},
   "outputs": [],
   "source": [
    "from sklearn.model_selection import train_test_split\n",
    "X_train, X_test, y_train, y_test = train_test_split(X, y, train_size=0.8)"
   ]
  },
  {
   "cell_type": "code",
   "execution_count": 63,
   "metadata": {},
   "outputs": [
    {
     "data": {
      "text/plain": [
       "LogisticRegression(penalty='none', random_state=1234)"
      ]
     },
     "execution_count": 63,
     "metadata": {},
     "output_type": "execute_result"
    }
   ],
   "source": [
    "clfs[\"LR\"]"
   ]
  },
  {
   "cell_type": "code",
   "execution_count": 64,
   "metadata": {},
   "outputs": [
    {
     "data": {
      "text/plain": [
       "Pipeline(steps=[('columntransformer',\n",
       "                 ColumnTransformer(transformers=[('onehotencoder',\n",
       "                                                  OneHotEncoder(handle_unknown='ignore',\n",
       "                                                                sparse=False),\n",
       "                                                  ['Sex', 'cp', 'Place']),\n",
       "                                                 ('standardscaler',\n",
       "                                                  StandardScaler(),\n",
       "                                                  ['Age', 'trestbps', 'chol',\n",
       "                                                   'fbs', 'restecg', 'thalach',\n",
       "                                                   'exang', 'oldpeak'])])),\n",
       "                ('decisionlistclassifier',\n",
       "                 <interpret.glassbox.skoperules.DecisionListClassifier object at 0x7f2db38a4700>)])"
      ]
     },
     "execution_count": 64,
     "metadata": {},
     "output_type": "execute_result"
    }
   ],
   "source": [
    "heart_lr = make_pipeline(\n",
    "    preprocess,\n",
    "    clfs[\"DL\"]\n",
    ")\n",
    "heart_lr.fit(X, y)"
   ]
  },
  {
   "cell_type": "code",
   "execution_count": 65,
   "metadata": {},
   "outputs": [
    {
     "data": {
      "text/plain": [
       "Pipeline(steps=[('columntransformer',\n",
       "                 ColumnTransformer(transformers=[('onehotencoder',\n",
       "                                                  OneHotEncoder(handle_unknown='ignore',\n",
       "                                                                sparse=False),\n",
       "                                                  ['Sex', 'cp', 'Place']),\n",
       "                                                 ('standardscaler',\n",
       "                                                  StandardScaler(),\n",
       "                                                  ['Age', 'trestbps', 'chol',\n",
       "                                                   'fbs', 'restecg', 'thalach',\n",
       "                                                   'exang', 'oldpeak'])])),\n",
       "                ('decisiontreeclassifier',\n",
       "                 DecisionTreeClassifier(random_state=1234))])"
      ]
     },
     "execution_count": 65,
     "metadata": {},
     "output_type": "execute_result"
    }
   ],
   "source": [
    "heart_cart = make_pipeline(\n",
    "    preprocess,\n",
    "    clfs[\"CART\"]\n",
    ")\n",
    "heart_cart.fit(X, y)"
   ]
  },
  {
   "cell_type": "code",
   "execution_count": 66,
   "metadata": {},
   "outputs": [
    {
     "name": "stdout",
     "output_type": "stream",
     "text": [
      "Preparation of a new explainer is initiated\n",
      "\n",
      "  -> data              : 457 rows 11 cols\n",
      "  -> target variable   : Parameter 'y' was a pandas.DataFrame. Converted to a numpy.ndarray.\n",
      "  -> target variable   : 457 values\n",
      "  -> model_class       : interpret.glassbox.skoperules.DecisionListClassifier (default)\n",
      "  -> label             : Heart LR pipeline\n",
      "  -> predict function  : <function yhat_proba_default at 0x7f2dc844c700> will be used (default)\n",
      "  -> predict function  : Accepts only pandas.DataFrame, numpy.ndarray causes problems.\n",
      "  -> predicted values  : min = 0.46, mean = 0.628, max = 1.0\n",
      "  -> model type        : classification will be used (default)\n",
      "  -> residual function : difference between y and yhat (default)\n",
      "  -> residuals         : min = -1.0, mean = -0.169, max = 0.54\n",
      "  -> model_info        : package sklearn\n",
      "\n",
      "A new explainer has been created!\n"
     ]
    }
   ],
   "source": [
    "heart_lr_exp = dx.Explainer(heart_lr, X, y,\n",
    "                            label=\"Heart LR pipeline\"\n",
    ")"
   ]
  },
  {
   "cell_type": "code",
   "execution_count": 67,
   "metadata": {},
   "outputs": [
    {
     "name": "stdout",
     "output_type": "stream",
     "text": [
      "Preparation of a new explainer is initiated\n",
      "\n",
      "  -> data              : 457 rows 11 cols\n",
      "  -> target variable   : Parameter 'y' was a pandas.DataFrame. Converted to a numpy.ndarray.\n",
      "  -> target variable   : 457 values\n",
      "  -> model_class       : sklearn.tree._classes.DecisionTreeClassifier (default)\n",
      "  -> label             : Heart CART pipeline\n",
      "  -> predict function  : <function yhat_proba_default at 0x7f2dc844c700> will be used (default)\n",
      "  -> predict function  : Accepts only pandas.DataFrame, numpy.ndarray causes problems.\n",
      "  -> predicted values  : min = 0.0, mean = 0.46, max = 1.0\n",
      "  -> model type        : classification will be used (default)\n",
      "  -> residual function : difference between y and yhat (default)\n",
      "  -> residuals         : min = 0.0, mean = 0.0, max = 0.0\n",
      "  -> model_info        : package sklearn\n",
      "\n",
      "A new explainer has been created!\n"
     ]
    }
   ],
   "source": [
    "heart_cart_exp = dx.Explainer(heart_cart, X, y,\n",
    "                            label=\"Heart CART pipeline\"\n",
    ")"
   ]
  },
  {
   "cell_type": "code",
   "execution_count": 68,
   "metadata": {},
   "outputs": [
    {
     "name": "stderr",
     "output_type": "stream",
     "text": [
      "Calculating ceteris paribus: 100%|██████████| 2/2 [00:00<00:00,  3.98it/s]\n"
     ]
    },
    {
     "data": {
      "text/html": [
       "<div>\n",
       "<style scoped>\n",
       "    .dataframe tbody tr th:only-of-type {\n",
       "        vertical-align: middle;\n",
       "    }\n",
       "\n",
       "    .dataframe tbody tr th {\n",
       "        vertical-align: top;\n",
       "    }\n",
       "\n",
       "    .dataframe thead th {\n",
       "        text-align: right;\n",
       "    }\n",
       "</style>\n",
       "<table border=\"1\" class=\"dataframe\">\n",
       "  <thead>\n",
       "    <tr style=\"text-align: right;\">\n",
       "      <th></th>\n",
       "      <th>_vname_</th>\n",
       "      <th>_label_</th>\n",
       "      <th>_x_</th>\n",
       "      <th>_yhat_</th>\n",
       "      <th>_ids_</th>\n",
       "    </tr>\n",
       "  </thead>\n",
       "  <tbody>\n",
       "    <tr>\n",
       "      <th>0</th>\n",
       "      <td>Age</td>\n",
       "      <td>Heart LR pipeline</td>\n",
       "      <td>28.00</td>\n",
       "      <td>0.624047</td>\n",
       "      <td>0</td>\n",
       "    </tr>\n",
       "    <tr>\n",
       "      <th>1</th>\n",
       "      <td>Age</td>\n",
       "      <td>Heart LR pipeline</td>\n",
       "      <td>28.47</td>\n",
       "      <td>0.624047</td>\n",
       "      <td>0</td>\n",
       "    </tr>\n",
       "    <tr>\n",
       "      <th>2</th>\n",
       "      <td>Age</td>\n",
       "      <td>Heart LR pipeline</td>\n",
       "      <td>28.94</td>\n",
       "      <td>0.624047</td>\n",
       "      <td>0</td>\n",
       "    </tr>\n",
       "    <tr>\n",
       "      <th>3</th>\n",
       "      <td>Age</td>\n",
       "      <td>Heart LR pipeline</td>\n",
       "      <td>29.41</td>\n",
       "      <td>0.624047</td>\n",
       "      <td>0</td>\n",
       "    </tr>\n",
       "    <tr>\n",
       "      <th>4</th>\n",
       "      <td>Age</td>\n",
       "      <td>Heart LR pipeline</td>\n",
       "      <td>29.88</td>\n",
       "      <td>0.624047</td>\n",
       "      <td>0</td>\n",
       "    </tr>\n",
       "    <tr>\n",
       "      <th>...</th>\n",
       "      <td>...</td>\n",
       "      <td>...</td>\n",
       "      <td>...</td>\n",
       "      <td>...</td>\n",
       "      <td>...</td>\n",
       "    </tr>\n",
       "    <tr>\n",
       "      <th>197</th>\n",
       "      <td>chol</td>\n",
       "      <td>Heart LR pipeline</td>\n",
       "      <td>578.88</td>\n",
       "      <td>0.614490</td>\n",
       "      <td>0</td>\n",
       "    </tr>\n",
       "    <tr>\n",
       "      <th>198</th>\n",
       "      <td>chol</td>\n",
       "      <td>Heart LR pipeline</td>\n",
       "      <td>584.91</td>\n",
       "      <td>0.614490</td>\n",
       "      <td>0</td>\n",
       "    </tr>\n",
       "    <tr>\n",
       "      <th>199</th>\n",
       "      <td>chol</td>\n",
       "      <td>Heart LR pipeline</td>\n",
       "      <td>590.94</td>\n",
       "      <td>0.614490</td>\n",
       "      <td>0</td>\n",
       "    </tr>\n",
       "    <tr>\n",
       "      <th>200</th>\n",
       "      <td>chol</td>\n",
       "      <td>Heart LR pipeline</td>\n",
       "      <td>596.97</td>\n",
       "      <td>0.614490</td>\n",
       "      <td>0</td>\n",
       "    </tr>\n",
       "    <tr>\n",
       "      <th>201</th>\n",
       "      <td>chol</td>\n",
       "      <td>Heart LR pipeline</td>\n",
       "      <td>603.00</td>\n",
       "      <td>0.614490</td>\n",
       "      <td>0</td>\n",
       "    </tr>\n",
       "  </tbody>\n",
       "</table>\n",
       "<p>202 rows × 5 columns</p>\n",
       "</div>"
      ],
      "text/plain": [
       "    _vname_            _label_     _x_    _yhat_  _ids_\n",
       "0       Age  Heart LR pipeline   28.00  0.624047      0\n",
       "1       Age  Heart LR pipeline   28.47  0.624047      0\n",
       "2       Age  Heart LR pipeline   28.94  0.624047      0\n",
       "3       Age  Heart LR pipeline   29.41  0.624047      0\n",
       "4       Age  Heart LR pipeline   29.88  0.624047      0\n",
       "..      ...                ...     ...       ...    ...\n",
       "197    chol  Heart LR pipeline  578.88  0.614490      0\n",
       "198    chol  Heart LR pipeline  584.91  0.614490      0\n",
       "199    chol  Heart LR pipeline  590.94  0.614490      0\n",
       "200    chol  Heart LR pipeline  596.97  0.614490      0\n",
       "201    chol  Heart LR pipeline  603.00  0.614490      0\n",
       "\n",
       "[202 rows x 5 columns]"
      ]
     },
     "execution_count": 68,
     "metadata": {},
     "output_type": "execute_result"
    }
   ],
   "source": [
    "pd_lr = heart_lr_exp.model_profile(variables=[\"Age\", \"chol\"])\n",
    "pd_lr.result "
   ]
  },
  {
   "cell_type": "code",
   "execution_count": 69,
   "metadata": {},
   "outputs": [
    {
     "name": "stderr",
     "output_type": "stream",
     "text": [
      "Calculating ceteris paribus: 100%|██████████| 11/11 [00:02<00:00,  4.57it/s]\n"
     ]
    },
    {
     "data": {
      "application/vnd.plotly.v1+json": {
       "config": {
        "displaylogo": false,
        "modeBarButtonsToRemove": [
         "sendDataToCloud",
         "lasso2d",
         "autoScale2d",
         "select2d",
         "zoom2d",
         "pan2d",
         "zoomIn2d",
         "zoomOut2d",
         "resetScale2d",
         "toggleSpikelines",
         "hoverCompareCartesian",
         "hoverClosestCartesian"
        ],
        "plotlyServerURL": "https://plot.ly",
        "staticPlot": false,
        "toImageButtonOptions": {
         "height": null,
         "width": null
        }
       },
       "data": [
        {
         "alignmentgroup": "True",
         "base": [
          0.6163415900275088,
          0.6163415900275088,
          0.6163415900275088
         ],
         "customdata": [
          [
           0.6106519134639611,
           "Heart LR pipeline",
           "Place"
          ],
          [
           0.8988197795038088,
           "Heart LR pipeline",
           "Place"
          ],
          [
           0.6093526256963376,
           "Heart LR pipeline",
           "Place"
          ]
         ],
         "hovertemplate": "<b>%{hovertext}</b><br><br>mean_prediction=%{base:.3f}<br>prediction=%{customdata[0]:.3f}<extra></extra>",
         "hovertext": [
          "Heart LR pipeline",
          "Heart LR pipeline",
          "Heart LR pipeline"
         ],
         "legendgroup": "Heart LR pipeline",
         "marker": {
          "color": "#46bac2",
          "pattern": {
           "shape": ""
          }
         },
         "name": "Heart LR pipeline",
         "offsetgroup": "Heart LR pipeline",
         "orientation": "v",
         "showlegend": true,
         "textposition": "auto",
         "type": "bar",
         "x": [
          "Hungary",
          "Switzerland",
          "VA"
         ],
         "xaxis": "x",
         "y": [
          -0.005689676563547685,
          0.2824781894763,
          -0.0069889643311711325
         ],
         "yaxis": "y"
        }
       ],
       "layout": {
        "annotations": [
         {
          "font": {
           "size": 13
          },
          "showarrow": false,
          "text": "Place",
          "x": 0.5,
          "xanchor": "center",
          "xref": "paper",
          "y": 1,
          "yanchor": "bottom",
          "yref": "paper"
         },
         {
          "font": {
           "size": 13
          },
          "showarrow": false,
          "text": "prediction",
          "textangle": -90,
          "x": -0.07,
          "xref": "paper",
          "y": 0.5,
          "yref": "paper"
         }
        ],
        "barmode": "group",
        "font": {
         "color": "#371ea3"
        },
        "height": 489,
        "hovermode": "x unified",
        "legend": {
         "font": {
          "size": 11
         },
         "itemsizing": "constant",
         "orientation": "h",
         "title": {
          "font": {
           "size": 12
          },
          "text": "label"
         },
         "tracegroupgap": 0,
         "x": 1,
         "xanchor": "right",
         "y": 1.0613496932515338,
         "yanchor": "bottom"
        },
        "margin": {
         "b": 71,
         "r": 30,
         "t": 78
        },
        "shapes": [
         {
          "layer": "below",
          "line": {
           "color": "#371ea3",
           "dash": "dot",
           "width": 1.5
          },
          "type": "line",
          "x0": 0,
          "x1": 1,
          "xref": "x domain",
          "y0": 0.6163415900275088,
          "y1": 0.6163415900275088,
          "yref": "y"
         }
        ],
        "template": {
         "data": {
          "scatter": [
           {
            "type": "scatter"
           }
          ]
         }
        },
        "title": {
         "font": {
          "size": 16
         },
         "text": "Aggregated Profiles",
         "x": 0.15
        },
        "xaxis": {
         "anchor": "y",
         "automargin": true,
         "domain": [
          0,
          1
         ],
         "fixedrange": true,
         "gridwidth": 2,
         "showticklabels": true,
         "tickcolor": "white",
         "ticklen": 10,
         "ticks": "outside",
         "title": {
          "text": ""
         },
         "type": "category"
        },
        "yaxis": {
         "anchor": "x",
         "automargin": true,
         "domain": [
          0,
          1
         ],
         "fixedrange": true,
         "gridwidth": 2,
         "range": [
          0.5804059103155905,
          0.9277664948845559
         ],
         "tickcolor": "white",
         "ticklen": 3,
         "ticks": "outside",
         "title": {
          "text": ""
         },
         "type": "linear",
         "zeroline": false
        }
       }
      }
     },
     "metadata": {},
     "output_type": "display_data"
    }
   ],
   "source": [
    "pd_lr_cat = heart_lr_exp.model_profile(variable_type=\"categorical\")\n",
    "pd_lr_cat.plot()"
   ]
  },
  {
   "cell_type": "code",
   "execution_count": 70,
   "metadata": {},
   "outputs": [
    {
     "name": "stderr",
     "output_type": "stream",
     "text": [
      "Calculating ceteris paribus: 100%|██████████| 2/2 [00:00<00:00, 16.52it/s]\n"
     ]
    },
    {
     "data": {
      "text/html": [
       "<div>\n",
       "<style scoped>\n",
       "    .dataframe tbody tr th:only-of-type {\n",
       "        vertical-align: middle;\n",
       "    }\n",
       "\n",
       "    .dataframe tbody tr th {\n",
       "        vertical-align: top;\n",
       "    }\n",
       "\n",
       "    .dataframe thead th {\n",
       "        text-align: right;\n",
       "    }\n",
       "</style>\n",
       "<table border=\"1\" class=\"dataframe\">\n",
       "  <thead>\n",
       "    <tr style=\"text-align: right;\">\n",
       "      <th></th>\n",
       "      <th>_vname_</th>\n",
       "      <th>_label_</th>\n",
       "      <th>_x_</th>\n",
       "      <th>_yhat_</th>\n",
       "      <th>_ids_</th>\n",
       "    </tr>\n",
       "  </thead>\n",
       "  <tbody>\n",
       "    <tr>\n",
       "      <th>0</th>\n",
       "      <td>Age</td>\n",
       "      <td>Heart CART pipeline</td>\n",
       "      <td>28.00</td>\n",
       "      <td>0.460000</td>\n",
       "      <td>0</td>\n",
       "    </tr>\n",
       "    <tr>\n",
       "      <th>1</th>\n",
       "      <td>Age</td>\n",
       "      <td>Heart CART pipeline</td>\n",
       "      <td>28.47</td>\n",
       "      <td>0.460000</td>\n",
       "      <td>0</td>\n",
       "    </tr>\n",
       "    <tr>\n",
       "      <th>2</th>\n",
       "      <td>Age</td>\n",
       "      <td>Heart CART pipeline</td>\n",
       "      <td>28.94</td>\n",
       "      <td>0.460000</td>\n",
       "      <td>0</td>\n",
       "    </tr>\n",
       "    <tr>\n",
       "      <th>3</th>\n",
       "      <td>Age</td>\n",
       "      <td>Heart CART pipeline</td>\n",
       "      <td>29.41</td>\n",
       "      <td>0.460000</td>\n",
       "      <td>0</td>\n",
       "    </tr>\n",
       "    <tr>\n",
       "      <th>4</th>\n",
       "      <td>Age</td>\n",
       "      <td>Heart CART pipeline</td>\n",
       "      <td>29.88</td>\n",
       "      <td>0.460000</td>\n",
       "      <td>0</td>\n",
       "    </tr>\n",
       "    <tr>\n",
       "      <th>...</th>\n",
       "      <td>...</td>\n",
       "      <td>...</td>\n",
       "      <td>...</td>\n",
       "      <td>...</td>\n",
       "      <td>...</td>\n",
       "    </tr>\n",
       "    <tr>\n",
       "      <th>197</th>\n",
       "      <td>chol</td>\n",
       "      <td>Heart CART pipeline</td>\n",
       "      <td>578.88</td>\n",
       "      <td>0.573333</td>\n",
       "      <td>0</td>\n",
       "    </tr>\n",
       "    <tr>\n",
       "      <th>198</th>\n",
       "      <td>chol</td>\n",
       "      <td>Heart CART pipeline</td>\n",
       "      <td>584.91</td>\n",
       "      <td>0.573333</td>\n",
       "      <td>0</td>\n",
       "    </tr>\n",
       "    <tr>\n",
       "      <th>199</th>\n",
       "      <td>chol</td>\n",
       "      <td>Heart CART pipeline</td>\n",
       "      <td>590.94</td>\n",
       "      <td>0.573333</td>\n",
       "      <td>0</td>\n",
       "    </tr>\n",
       "    <tr>\n",
       "      <th>200</th>\n",
       "      <td>chol</td>\n",
       "      <td>Heart CART pipeline</td>\n",
       "      <td>596.97</td>\n",
       "      <td>0.573333</td>\n",
       "      <td>0</td>\n",
       "    </tr>\n",
       "    <tr>\n",
       "      <th>201</th>\n",
       "      <td>chol</td>\n",
       "      <td>Heart CART pipeline</td>\n",
       "      <td>603.00</td>\n",
       "      <td>0.573333</td>\n",
       "      <td>0</td>\n",
       "    </tr>\n",
       "  </tbody>\n",
       "</table>\n",
       "<p>202 rows × 5 columns</p>\n",
       "</div>"
      ],
      "text/plain": [
       "    _vname_              _label_     _x_    _yhat_  _ids_\n",
       "0       Age  Heart CART pipeline   28.00  0.460000      0\n",
       "1       Age  Heart CART pipeline   28.47  0.460000      0\n",
       "2       Age  Heart CART pipeline   28.94  0.460000      0\n",
       "3       Age  Heart CART pipeline   29.41  0.460000      0\n",
       "4       Age  Heart CART pipeline   29.88  0.460000      0\n",
       "..      ...                  ...     ...       ...    ...\n",
       "197    chol  Heart CART pipeline  578.88  0.573333      0\n",
       "198    chol  Heart CART pipeline  584.91  0.573333      0\n",
       "199    chol  Heart CART pipeline  590.94  0.573333      0\n",
       "200    chol  Heart CART pipeline  596.97  0.573333      0\n",
       "201    chol  Heart CART pipeline  603.00  0.573333      0\n",
       "\n",
       "[202 rows x 5 columns]"
      ]
     },
     "execution_count": 70,
     "metadata": {},
     "output_type": "execute_result"
    }
   ],
   "source": [
    "pd_cart = heart_cart_exp.model_profile(variables=[\"Age\", \"chol\"])\n",
    "pd_cart.result "
   ]
  },
  {
   "cell_type": "code",
   "execution_count": 71,
   "metadata": {},
   "outputs": [
    {
     "data": {
      "application/vnd.plotly.v1+json": {
       "config": {
        "displaylogo": false,
        "modeBarButtonsToRemove": [
         "sendDataToCloud",
         "lasso2d",
         "autoScale2d",
         "select2d",
         "zoom2d",
         "pan2d",
         "zoomIn2d",
         "zoomOut2d",
         "resetScale2d",
         "toggleSpikelines",
         "hoverCompareCartesian",
         "hoverClosestCartesian"
        ],
        "plotlyServerURL": "https://plot.ly",
        "staticPlot": false,
        "toImageButtonOptions": {
         "height": null,
         "width": null
        }
       },
       "data": [
        {
         "customdata": [
          [
           0.6240465445219883,
           "Heart LR pipeline",
           "Age"
          ],
          [
           0.6240465445219883,
           "Heart LR pipeline",
           "Age"
          ],
          [
           0.6240465445219883,
           "Heart LR pipeline",
           "Age"
          ],
          [
           0.6240465445219883,
           "Heart LR pipeline",
           "Age"
          ],
          [
           0.6240465445219883,
           "Heart LR pipeline",
           "Age"
          ],
          [
           0.6240465445219883,
           "Heart LR pipeline",
           "Age"
          ],
          [
           0.6240465445219883,
           "Heart LR pipeline",
           "Age"
          ],
          [
           0.6240465445219883,
           "Heart LR pipeline",
           "Age"
          ],
          [
           0.6240465445219883,
           "Heart LR pipeline",
           "Age"
          ],
          [
           0.6240465445219883,
           "Heart LR pipeline",
           "Age"
          ],
          [
           0.6240465445219883,
           "Heart LR pipeline",
           "Age"
          ],
          [
           0.6240465445219883,
           "Heart LR pipeline",
           "Age"
          ],
          [
           0.6240465445219883,
           "Heart LR pipeline",
           "Age"
          ],
          [
           0.6240465445219883,
           "Heart LR pipeline",
           "Age"
          ],
          [
           0.6240465445219883,
           "Heart LR pipeline",
           "Age"
          ],
          [
           0.6240465445219883,
           "Heart LR pipeline",
           "Age"
          ],
          [
           0.6240465445219883,
           "Heart LR pipeline",
           "Age"
          ],
          [
           0.6240465445219883,
           "Heart LR pipeline",
           "Age"
          ],
          [
           0.6240465445219883,
           "Heart LR pipeline",
           "Age"
          ],
          [
           0.6240465445219883,
           "Heart LR pipeline",
           "Age"
          ],
          [
           0.6240465445219883,
           "Heart LR pipeline",
           "Age"
          ],
          [
           0.6240465445219883,
           "Heart LR pipeline",
           "Age"
          ],
          [
           0.6240465445219883,
           "Heart LR pipeline",
           "Age"
          ],
          [
           0.6240465445219883,
           "Heart LR pipeline",
           "Age"
          ],
          [
           0.6240465445219883,
           "Heart LR pipeline",
           "Age"
          ],
          [
           0.6240465445219883,
           "Heart LR pipeline",
           "Age"
          ],
          [
           0.6240465445219883,
           "Heart LR pipeline",
           "Age"
          ],
          [
           0.6240465445219883,
           "Heart LR pipeline",
           "Age"
          ],
          [
           0.6240465445219883,
           "Heart LR pipeline",
           "Age"
          ],
          [
           0.6240465445219883,
           "Heart LR pipeline",
           "Age"
          ],
          [
           0.6240465445219883,
           "Heart LR pipeline",
           "Age"
          ],
          [
           0.6240465445219883,
           "Heart LR pipeline",
           "Age"
          ],
          [
           0.6240465445219883,
           "Heart LR pipeline",
           "Age"
          ],
          [
           0.6240465445219883,
           "Heart LR pipeline",
           "Age"
          ],
          [
           0.6240465445219883,
           "Heart LR pipeline",
           "Age"
          ],
          [
           0.6240465445219883,
           "Heart LR pipeline",
           "Age"
          ],
          [
           0.6240465445219883,
           "Heart LR pipeline",
           "Age"
          ],
          [
           0.6240465445219883,
           "Heart LR pipeline",
           "Age"
          ],
          [
           0.6240465445219883,
           "Heart LR pipeline",
           "Age"
          ],
          [
           0.6240465445219883,
           "Heart LR pipeline",
           "Age"
          ],
          [
           0.6240465445219883,
           "Heart LR pipeline",
           "Age"
          ],
          [
           0.6240465445219883,
           "Heart LR pipeline",
           "Age"
          ],
          [
           0.6240465445219883,
           "Heart LR pipeline",
           "Age"
          ],
          [
           0.6240465445219883,
           "Heart LR pipeline",
           "Age"
          ],
          [
           0.6240465445219883,
           "Heart LR pipeline",
           "Age"
          ],
          [
           0.6240465445219883,
           "Heart LR pipeline",
           "Age"
          ],
          [
           0.6240465445219883,
           "Heart LR pipeline",
           "Age"
          ],
          [
           0.6240465445219883,
           "Heart LR pipeline",
           "Age"
          ],
          [
           0.6240465445219883,
           "Heart LR pipeline",
           "Age"
          ],
          [
           0.6240465445219883,
           "Heart LR pipeline",
           "Age"
          ],
          [
           0.6240465445219883,
           "Heart LR pipeline",
           "Age"
          ],
          [
           0.6240465445219883,
           "Heart LR pipeline",
           "Age"
          ],
          [
           0.6240465445219883,
           "Heart LR pipeline",
           "Age"
          ],
          [
           0.6240465445219883,
           "Heart LR pipeline",
           "Age"
          ],
          [
           0.6240465445219883,
           "Heart LR pipeline",
           "Age"
          ],
          [
           0.6240465445219883,
           "Heart LR pipeline",
           "Age"
          ],
          [
           0.6240465445219883,
           "Heart LR pipeline",
           "Age"
          ],
          [
           0.6240465445219883,
           "Heart LR pipeline",
           "Age"
          ],
          [
           0.6240465445219883,
           "Heart LR pipeline",
           "Age"
          ],
          [
           0.6240465445219883,
           "Heart LR pipeline",
           "Age"
          ],
          [
           0.6240465445219883,
           "Heart LR pipeline",
           "Age"
          ],
          [
           0.6240465445219883,
           "Heart LR pipeline",
           "Age"
          ],
          [
           0.6240465445219883,
           "Heart LR pipeline",
           "Age"
          ],
          [
           0.6240465445219883,
           "Heart LR pipeline",
           "Age"
          ],
          [
           0.6240465445219883,
           "Heart LR pipeline",
           "Age"
          ],
          [
           0.6240465445219883,
           "Heart LR pipeline",
           "Age"
          ],
          [
           0.6240465445219883,
           "Heart LR pipeline",
           "Age"
          ],
          [
           0.6240465445219883,
           "Heart LR pipeline",
           "Age"
          ],
          [
           0.6240465445219883,
           "Heart LR pipeline",
           "Age"
          ],
          [
           0.6240465445219883,
           "Heart LR pipeline",
           "Age"
          ],
          [
           0.6240465445219883,
           "Heart LR pipeline",
           "Age"
          ],
          [
           0.6240465445219883,
           "Heart LR pipeline",
           "Age"
          ],
          [
           0.6240465445219883,
           "Heart LR pipeline",
           "Age"
          ],
          [
           0.6240465445219883,
           "Heart LR pipeline",
           "Age"
          ],
          [
           0.6240465445219883,
           "Heart LR pipeline",
           "Age"
          ],
          [
           0.6240465445219883,
           "Heart LR pipeline",
           "Age"
          ],
          [
           0.6240465445219883,
           "Heart LR pipeline",
           "Age"
          ],
          [
           0.6240465445219883,
           "Heart LR pipeline",
           "Age"
          ],
          [
           0.6240465445219883,
           "Heart LR pipeline",
           "Age"
          ],
          [
           0.6240465445219883,
           "Heart LR pipeline",
           "Age"
          ],
          [
           0.6240465445219883,
           "Heart LR pipeline",
           "Age"
          ],
          [
           0.6240465445219883,
           "Heart LR pipeline",
           "Age"
          ],
          [
           0.6240465445219883,
           "Heart LR pipeline",
           "Age"
          ],
          [
           0.6240465445219883,
           "Heart LR pipeline",
           "Age"
          ],
          [
           0.6240465445219883,
           "Heart LR pipeline",
           "Age"
          ],
          [
           0.6240465445219883,
           "Heart LR pipeline",
           "Age"
          ],
          [
           0.6240465445219883,
           "Heart LR pipeline",
           "Age"
          ],
          [
           0.6240465445219883,
           "Heart LR pipeline",
           "Age"
          ],
          [
           0.6240465445219883,
           "Heart LR pipeline",
           "Age"
          ],
          [
           0.6240465445219883,
           "Heart LR pipeline",
           "Age"
          ],
          [
           0.6240465445219883,
           "Heart LR pipeline",
           "Age"
          ],
          [
           0.6240465445219883,
           "Heart LR pipeline",
           "Age"
          ],
          [
           0.6240465445219883,
           "Heart LR pipeline",
           "Age"
          ],
          [
           0.6240465445219883,
           "Heart LR pipeline",
           "Age"
          ],
          [
           0.6240465445219883,
           "Heart LR pipeline",
           "Age"
          ],
          [
           0.6240465445219883,
           "Heart LR pipeline",
           "Age"
          ],
          [
           0.6240465445219883,
           "Heart LR pipeline",
           "Age"
          ],
          [
           0.6240465445219883,
           "Heart LR pipeline",
           "Age"
          ],
          [
           0.6240465445219883,
           "Heart LR pipeline",
           "Age"
          ],
          [
           0.6240465445219883,
           "Heart LR pipeline",
           "Age"
          ],
          [
           0.6240465445219883,
           "Heart LR pipeline",
           "Age"
          ]
         ],
         "hovertemplate": "<b>%{hovertext}</b><br><br>prediction=%{y:.3f}<br>mean_prediction=%{customdata[0]:.3f}<extra></extra>",
         "hovertext": [
          "Heart LR pipeline",
          "Heart LR pipeline",
          "Heart LR pipeline",
          "Heart LR pipeline",
          "Heart LR pipeline",
          "Heart LR pipeline",
          "Heart LR pipeline",
          "Heart LR pipeline",
          "Heart LR pipeline",
          "Heart LR pipeline",
          "Heart LR pipeline",
          "Heart LR pipeline",
          "Heart LR pipeline",
          "Heart LR pipeline",
          "Heart LR pipeline",
          "Heart LR pipeline",
          "Heart LR pipeline",
          "Heart LR pipeline",
          "Heart LR pipeline",
          "Heart LR pipeline",
          "Heart LR pipeline",
          "Heart LR pipeline",
          "Heart LR pipeline",
          "Heart LR pipeline",
          "Heart LR pipeline",
          "Heart LR pipeline",
          "Heart LR pipeline",
          "Heart LR pipeline",
          "Heart LR pipeline",
          "Heart LR pipeline",
          "Heart LR pipeline",
          "Heart LR pipeline",
          "Heart LR pipeline",
          "Heart LR pipeline",
          "Heart LR pipeline",
          "Heart LR pipeline",
          "Heart LR pipeline",
          "Heart LR pipeline",
          "Heart LR pipeline",
          "Heart LR pipeline",
          "Heart LR pipeline",
          "Heart LR pipeline",
          "Heart LR pipeline",
          "Heart LR pipeline",
          "Heart LR pipeline",
          "Heart LR pipeline",
          "Heart LR pipeline",
          "Heart LR pipeline",
          "Heart LR pipeline",
          "Heart LR pipeline",
          "Heart LR pipeline",
          "Heart LR pipeline",
          "Heart LR pipeline",
          "Heart LR pipeline",
          "Heart LR pipeline",
          "Heart LR pipeline",
          "Heart LR pipeline",
          "Heart LR pipeline",
          "Heart LR pipeline",
          "Heart LR pipeline",
          "Heart LR pipeline",
          "Heart LR pipeline",
          "Heart LR pipeline",
          "Heart LR pipeline",
          "Heart LR pipeline",
          "Heart LR pipeline",
          "Heart LR pipeline",
          "Heart LR pipeline",
          "Heart LR pipeline",
          "Heart LR pipeline",
          "Heart LR pipeline",
          "Heart LR pipeline",
          "Heart LR pipeline",
          "Heart LR pipeline",
          "Heart LR pipeline",
          "Heart LR pipeline",
          "Heart LR pipeline",
          "Heart LR pipeline",
          "Heart LR pipeline",
          "Heart LR pipeline",
          "Heart LR pipeline",
          "Heart LR pipeline",
          "Heart LR pipeline",
          "Heart LR pipeline",
          "Heart LR pipeline",
          "Heart LR pipeline",
          "Heart LR pipeline",
          "Heart LR pipeline",
          "Heart LR pipeline",
          "Heart LR pipeline",
          "Heart LR pipeline",
          "Heart LR pipeline",
          "Heart LR pipeline",
          "Heart LR pipeline",
          "Heart LR pipeline",
          "Heart LR pipeline",
          "Heart LR pipeline",
          "Heart LR pipeline",
          "Heart LR pipeline",
          "Heart LR pipeline",
          "Heart LR pipeline"
         ],
         "legendgroup": "Heart LR pipeline",
         "line": {
          "color": "#46bac2",
          "dash": "solid",
          "width": 2
         },
         "marker": {
          "symbol": "circle"
         },
         "mode": "lines",
         "name": "Heart LR pipeline",
         "opacity": 1,
         "orientation": "v",
         "showlegend": true,
         "type": "scatter",
         "x": [
          28,
          28.47,
          28.94,
          29.41,
          29.88,
          30.35,
          30.82,
          31.29,
          31.759999999999998,
          32.23,
          32.7,
          33.17,
          33.64,
          34.11,
          34.58,
          35.05,
          35.519999999999996,
          35.99,
          36.46,
          36.93,
          37.4,
          37.87,
          38.34,
          38.81,
          39.28,
          39.75,
          40.22,
          40.69,
          41.16,
          41.629999999999995,
          42.1,
          42.57,
          43.04,
          43.51,
          43.98,
          44.45,
          44.92,
          45.39,
          45.86,
          46.33,
          46.8,
          47.269999999999996,
          47.739999999999995,
          48.209999999999994,
          48.68,
          49.15,
          49.62,
          50.09,
          50.56,
          51.03,
          51.5,
          51.97,
          52.44,
          52.91,
          53.379999999999995,
          53.849999999999994,
          54.32,
          54.79,
          55.26,
          55.73,
          56.2,
          56.67,
          57.14,
          57.61,
          58.08,
          58.55,
          59.019999999999996,
          59.489999999999995,
          59.959999999999994,
          60.43,
          60.9,
          61.37,
          61.839999999999996,
          62.309999999999995,
          62.78,
          63.25,
          63.72,
          64.19,
          64.66,
          65.13,
          65.6,
          66.07,
          66.53999999999999,
          67.00999999999999,
          67.47999999999999,
          67.94999999999999,
          68.41999999999999,
          68.89,
          69.36,
          69.83,
          70.3,
          70.77,
          71.24,
          71.71000000000001,
          72.18,
          72.65,
          73.12,
          73.59,
          74.06,
          74.53,
          75
         ],
         "xaxis": "x",
         "y": [
          0.6240465445219909,
          0.6240465445219909,
          0.6240465445219909,
          0.6240465445219909,
          0.6240465445219909,
          0.6240465445219909,
          0.6240465445219909,
          0.6240465445219909,
          0.6240465445219909,
          0.6240465445219909,
          0.6240465445219909,
          0.6240465445219909,
          0.6240465445219909,
          0.6240465445219909,
          0.6240465445219909,
          0.6240465445219909,
          0.6240465445219909,
          0.6240465445219909,
          0.6240465445219909,
          0.6240465445219909,
          0.6240465445219909,
          0.6240465445219909,
          0.6240465445219909,
          0.6240465445219909,
          0.6240465445219909,
          0.6240465445219909,
          0.6240465445219909,
          0.6240465445219909,
          0.6240465445219909,
          0.6240465445219909,
          0.6240465445219909,
          0.6240465445219909,
          0.6240465445219909,
          0.6240465445219909,
          0.6240465445219909,
          0.6240465445219909,
          0.6240465445219909,
          0.6240465445219909,
          0.6240465445219909,
          0.6240465445219909,
          0.6240465445219909,
          0.6240465445219909,
          0.6240465445219909,
          0.6240465445219909,
          0.6240465445219909,
          0.6240465445219909,
          0.6240465445219909,
          0.6240465445219909,
          0.6240465445219909,
          0.6240465445219909,
          0.6240465445219909,
          0.6240465445219909,
          0.6240465445219909,
          0.6240465445219909,
          0.6240465445219909,
          0.6240465445219909,
          0.6240465445219909,
          0.6240465445219909,
          0.6240465445219909,
          0.6240465445219909,
          0.6240465445219909,
          0.6240465445219909,
          0.6240465445219909,
          0.6240465445219909,
          0.6240465445219909,
          0.6240465445219909,
          0.6240465445219909,
          0.6240465445219909,
          0.6240465445219909,
          0.6240465445219909,
          0.6240465445219909,
          0.6240465445219909,
          0.6240465445219909,
          0.6240465445219909,
          0.6240465445219909,
          0.6240465445219909,
          0.6240465445219909,
          0.6240465445219909,
          0.6240465445219909,
          0.6240465445219909,
          0.6240465445219909,
          0.6240465445219909,
          0.6240465445219909,
          0.6240465445219909,
          0.6240465445219909,
          0.6240465445219909,
          0.6240465445219909,
          0.6240465445219909,
          0.6240465445219909,
          0.6240465445219909,
          0.6240465445219909,
          0.6240465445219909,
          0.6240465445219909,
          0.6240465445219909,
          0.6240465445219909,
          0.6240465445219909,
          0.6240465445219909,
          0.6240465445219909,
          0.6240465445219909,
          0.6240465445219909,
          0.6240465445219909
         ],
         "yaxis": "y"
        },
        {
         "customdata": [
          [
           0.6240465445219883,
           "Heart LR pipeline",
           "chol"
          ],
          [
           0.6240465445219883,
           "Heart LR pipeline",
           "chol"
          ],
          [
           0.6240465445219883,
           "Heart LR pipeline",
           "chol"
          ],
          [
           0.6240465445219883,
           "Heart LR pipeline",
           "chol"
          ],
          [
           0.6240465445219883,
           "Heart LR pipeline",
           "chol"
          ],
          [
           0.6240465445219883,
           "Heart LR pipeline",
           "chol"
          ],
          [
           0.6240465445219883,
           "Heart LR pipeline",
           "chol"
          ],
          [
           0.6240465445219883,
           "Heart LR pipeline",
           "chol"
          ],
          [
           0.6240465445219883,
           "Heart LR pipeline",
           "chol"
          ],
          [
           0.6240465445219883,
           "Heart LR pipeline",
           "chol"
          ],
          [
           0.6240465445219883,
           "Heart LR pipeline",
           "chol"
          ],
          [
           0.6240465445219883,
           "Heart LR pipeline",
           "chol"
          ],
          [
           0.6240465445219883,
           "Heart LR pipeline",
           "chol"
          ],
          [
           0.6240465445219883,
           "Heart LR pipeline",
           "chol"
          ],
          [
           0.6240465445219883,
           "Heart LR pipeline",
           "chol"
          ],
          [
           0.6240465445219883,
           "Heart LR pipeline",
           "chol"
          ],
          [
           0.6240465445219883,
           "Heart LR pipeline",
           "chol"
          ],
          [
           0.6240465445219883,
           "Heart LR pipeline",
           "chol"
          ],
          [
           0.6240465445219883,
           "Heart LR pipeline",
           "chol"
          ],
          [
           0.6240465445219883,
           "Heart LR pipeline",
           "chol"
          ],
          [
           0.6240465445219883,
           "Heart LR pipeline",
           "chol"
          ],
          [
           0.6240465445219883,
           "Heart LR pipeline",
           "chol"
          ],
          [
           0.6240465445219883,
           "Heart LR pipeline",
           "chol"
          ],
          [
           0.6240465445219883,
           "Heart LR pipeline",
           "chol"
          ],
          [
           0.6240465445219883,
           "Heart LR pipeline",
           "chol"
          ],
          [
           0.6240465445219883,
           "Heart LR pipeline",
           "chol"
          ],
          [
           0.6240465445219883,
           "Heart LR pipeline",
           "chol"
          ],
          [
           0.6240465445219883,
           "Heart LR pipeline",
           "chol"
          ],
          [
           0.6240465445219883,
           "Heart LR pipeline",
           "chol"
          ],
          [
           0.6240465445219883,
           "Heart LR pipeline",
           "chol"
          ],
          [
           0.6240465445219883,
           "Heart LR pipeline",
           "chol"
          ],
          [
           0.6240465445219883,
           "Heart LR pipeline",
           "chol"
          ],
          [
           0.6240465445219883,
           "Heart LR pipeline",
           "chol"
          ],
          [
           0.6240465445219883,
           "Heart LR pipeline",
           "chol"
          ],
          [
           0.6240465445219883,
           "Heart LR pipeline",
           "chol"
          ],
          [
           0.6240465445219883,
           "Heart LR pipeline",
           "chol"
          ],
          [
           0.6240465445219883,
           "Heart LR pipeline",
           "chol"
          ],
          [
           0.6240465445219883,
           "Heart LR pipeline",
           "chol"
          ],
          [
           0.6240465445219883,
           "Heart LR pipeline",
           "chol"
          ],
          [
           0.6240465445219883,
           "Heart LR pipeline",
           "chol"
          ],
          [
           0.6240465445219883,
           "Heart LR pipeline",
           "chol"
          ],
          [
           0.6240465445219883,
           "Heart LR pipeline",
           "chol"
          ],
          [
           0.6240465445219883,
           "Heart LR pipeline",
           "chol"
          ],
          [
           0.6240465445219883,
           "Heart LR pipeline",
           "chol"
          ],
          [
           0.6240465445219883,
           "Heart LR pipeline",
           "chol"
          ],
          [
           0.6240465445219883,
           "Heart LR pipeline",
           "chol"
          ],
          [
           0.6240465445219883,
           "Heart LR pipeline",
           "chol"
          ],
          [
           0.6240465445219883,
           "Heart LR pipeline",
           "chol"
          ],
          [
           0.6240465445219883,
           "Heart LR pipeline",
           "chol"
          ],
          [
           0.6240465445219883,
           "Heart LR pipeline",
           "chol"
          ],
          [
           0.6240465445219883,
           "Heart LR pipeline",
           "chol"
          ],
          [
           0.6240465445219883,
           "Heart LR pipeline",
           "chol"
          ],
          [
           0.6240465445219883,
           "Heart LR pipeline",
           "chol"
          ],
          [
           0.6240465445219883,
           "Heart LR pipeline",
           "chol"
          ],
          [
           0.6240465445219883,
           "Heart LR pipeline",
           "chol"
          ],
          [
           0.6240465445219883,
           "Heart LR pipeline",
           "chol"
          ],
          [
           0.6240465445219883,
           "Heart LR pipeline",
           "chol"
          ],
          [
           0.6240465445219883,
           "Heart LR pipeline",
           "chol"
          ],
          [
           0.6240465445219883,
           "Heart LR pipeline",
           "chol"
          ],
          [
           0.6240465445219883,
           "Heart LR pipeline",
           "chol"
          ],
          [
           0.6240465445219883,
           "Heart LR pipeline",
           "chol"
          ],
          [
           0.6240465445219883,
           "Heart LR pipeline",
           "chol"
          ],
          [
           0.6240465445219883,
           "Heart LR pipeline",
           "chol"
          ],
          [
           0.6240465445219883,
           "Heart LR pipeline",
           "chol"
          ],
          [
           0.6240465445219883,
           "Heart LR pipeline",
           "chol"
          ],
          [
           0.6240465445219883,
           "Heart LR pipeline",
           "chol"
          ],
          [
           0.6240465445219883,
           "Heart LR pipeline",
           "chol"
          ],
          [
           0.6240465445219883,
           "Heart LR pipeline",
           "chol"
          ],
          [
           0.6240465445219883,
           "Heart LR pipeline",
           "chol"
          ],
          [
           0.6240465445219883,
           "Heart LR pipeline",
           "chol"
          ],
          [
           0.6240465445219883,
           "Heart LR pipeline",
           "chol"
          ],
          [
           0.6240465445219883,
           "Heart LR pipeline",
           "chol"
          ],
          [
           0.6240465445219883,
           "Heart LR pipeline",
           "chol"
          ],
          [
           0.6240465445219883,
           "Heart LR pipeline",
           "chol"
          ],
          [
           0.6240465445219883,
           "Heart LR pipeline",
           "chol"
          ],
          [
           0.6240465445219883,
           "Heart LR pipeline",
           "chol"
          ],
          [
           0.6240465445219883,
           "Heart LR pipeline",
           "chol"
          ],
          [
           0.6240465445219883,
           "Heart LR pipeline",
           "chol"
          ],
          [
           0.6240465445219883,
           "Heart LR pipeline",
           "chol"
          ],
          [
           0.6240465445219883,
           "Heart LR pipeline",
           "chol"
          ],
          [
           0.6240465445219883,
           "Heart LR pipeline",
           "chol"
          ],
          [
           0.6240465445219883,
           "Heart LR pipeline",
           "chol"
          ],
          [
           0.6240465445219883,
           "Heart LR pipeline",
           "chol"
          ],
          [
           0.6240465445219883,
           "Heart LR pipeline",
           "chol"
          ],
          [
           0.6240465445219883,
           "Heart LR pipeline",
           "chol"
          ],
          [
           0.6240465445219883,
           "Heart LR pipeline",
           "chol"
          ],
          [
           0.6240465445219883,
           "Heart LR pipeline",
           "chol"
          ],
          [
           0.6240465445219883,
           "Heart LR pipeline",
           "chol"
          ],
          [
           0.6240465445219883,
           "Heart LR pipeline",
           "chol"
          ],
          [
           0.6240465445219883,
           "Heart LR pipeline",
           "chol"
          ],
          [
           0.6240465445219883,
           "Heart LR pipeline",
           "chol"
          ],
          [
           0.6240465445219883,
           "Heart LR pipeline",
           "chol"
          ],
          [
           0.6240465445219883,
           "Heart LR pipeline",
           "chol"
          ],
          [
           0.6240465445219883,
           "Heart LR pipeline",
           "chol"
          ],
          [
           0.6240465445219883,
           "Heart LR pipeline",
           "chol"
          ],
          [
           0.6240465445219883,
           "Heart LR pipeline",
           "chol"
          ],
          [
           0.6240465445219883,
           "Heart LR pipeline",
           "chol"
          ],
          [
           0.6240465445219883,
           "Heart LR pipeline",
           "chol"
          ],
          [
           0.6240465445219883,
           "Heart LR pipeline",
           "chol"
          ],
          [
           0.6240465445219883,
           "Heart LR pipeline",
           "chol"
          ],
          [
           0.6240465445219883,
           "Heart LR pipeline",
           "chol"
          ]
         ],
         "hovertemplate": "<b>%{hovertext}</b><br><br>prediction=%{y:.3f}<br>mean_prediction=%{customdata[0]:.3f}<extra></extra>",
         "hovertext": [
          "Heart LR pipeline",
          "Heart LR pipeline",
          "Heart LR pipeline",
          "Heart LR pipeline",
          "Heart LR pipeline",
          "Heart LR pipeline",
          "Heart LR pipeline",
          "Heart LR pipeline",
          "Heart LR pipeline",
          "Heart LR pipeline",
          "Heart LR pipeline",
          "Heart LR pipeline",
          "Heart LR pipeline",
          "Heart LR pipeline",
          "Heart LR pipeline",
          "Heart LR pipeline",
          "Heart LR pipeline",
          "Heart LR pipeline",
          "Heart LR pipeline",
          "Heart LR pipeline",
          "Heart LR pipeline",
          "Heart LR pipeline",
          "Heart LR pipeline",
          "Heart LR pipeline",
          "Heart LR pipeline",
          "Heart LR pipeline",
          "Heart LR pipeline",
          "Heart LR pipeline",
          "Heart LR pipeline",
          "Heart LR pipeline",
          "Heart LR pipeline",
          "Heart LR pipeline",
          "Heart LR pipeline",
          "Heart LR pipeline",
          "Heart LR pipeline",
          "Heart LR pipeline",
          "Heart LR pipeline",
          "Heart LR pipeline",
          "Heart LR pipeline",
          "Heart LR pipeline",
          "Heart LR pipeline",
          "Heart LR pipeline",
          "Heart LR pipeline",
          "Heart LR pipeline",
          "Heart LR pipeline",
          "Heart LR pipeline",
          "Heart LR pipeline",
          "Heart LR pipeline",
          "Heart LR pipeline",
          "Heart LR pipeline",
          "Heart LR pipeline",
          "Heart LR pipeline",
          "Heart LR pipeline",
          "Heart LR pipeline",
          "Heart LR pipeline",
          "Heart LR pipeline",
          "Heart LR pipeline",
          "Heart LR pipeline",
          "Heart LR pipeline",
          "Heart LR pipeline",
          "Heart LR pipeline",
          "Heart LR pipeline",
          "Heart LR pipeline",
          "Heart LR pipeline",
          "Heart LR pipeline",
          "Heart LR pipeline",
          "Heart LR pipeline",
          "Heart LR pipeline",
          "Heart LR pipeline",
          "Heart LR pipeline",
          "Heart LR pipeline",
          "Heart LR pipeline",
          "Heart LR pipeline",
          "Heart LR pipeline",
          "Heart LR pipeline",
          "Heart LR pipeline",
          "Heart LR pipeline",
          "Heart LR pipeline",
          "Heart LR pipeline",
          "Heart LR pipeline",
          "Heart LR pipeline",
          "Heart LR pipeline",
          "Heart LR pipeline",
          "Heart LR pipeline",
          "Heart LR pipeline",
          "Heart LR pipeline",
          "Heart LR pipeline",
          "Heart LR pipeline",
          "Heart LR pipeline",
          "Heart LR pipeline",
          "Heart LR pipeline",
          "Heart LR pipeline",
          "Heart LR pipeline",
          "Heart LR pipeline",
          "Heart LR pipeline",
          "Heart LR pipeline",
          "Heart LR pipeline",
          "Heart LR pipeline",
          "Heart LR pipeline",
          "Heart LR pipeline",
          "Heart LR pipeline"
         ],
         "legendgroup": "Heart LR pipeline",
         "line": {
          "color": "#46bac2",
          "dash": "solid",
          "width": 2
         },
         "marker": {
          "symbol": "circle"
         },
         "mode": "lines",
         "name": "Heart LR pipeline",
         "opacity": 1,
         "orientation": "v",
         "showlegend": false,
         "type": "scatter",
         "x": [
          0,
          6.03,
          12.06,
          18.09,
          24.12,
          30.150000000000002,
          36.18,
          42.21,
          48.24,
          54.27,
          60.300000000000004,
          66.33,
          72.36,
          78.39,
          84.42,
          90.45,
          96.48,
          102.51,
          108.54,
          114.57000000000001,
          120.60000000000001,
          126.63000000000001,
          132.66,
          138.69,
          144.72,
          150.75,
          156.78,
          162.81,
          168.84,
          174.87,
          180.9,
          186.93,
          192.96,
          198.99,
          205.02,
          211.05,
          217.08,
          223.11,
          229.14000000000001,
          235.17000000000002,
          241.20000000000002,
          247.23000000000002,
          253.26000000000002,
          259.29,
          265.32,
          271.35,
          277.38,
          283.41,
          289.44,
          295.47,
          301.5,
          307.53000000000003,
          313.56,
          319.59000000000003,
          325.62,
          331.65000000000003,
          337.68,
          343.71000000000004,
          349.74,
          355.77000000000004,
          361.8,
          367.83000000000004,
          373.86,
          379.89000000000004,
          385.92,
          391.95,
          397.98,
          404.01,
          410.04,
          416.07,
          422.1,
          428.13,
          434.16,
          440.19,
          446.22,
          452.25,
          458.28000000000003,
          464.31,
          470.34000000000003,
          476.37,
          482.40000000000003,
          488.43,
          494.46000000000004,
          500.49,
          506.52000000000004,
          512.5500000000001,
          518.58,
          524.61,
          530.64,
          536.6700000000001,
          542.7,
          548.73,
          554.76,
          560.7900000000001,
          566.82,
          572.85,
          578.88,
          584.91,
          590.94,
          596.97,
          603
         ],
         "xaxis": "x2",
         "y": [
          0.7150458066905486,
          0.7150458066905486,
          0.7150458066905486,
          0.7150458066905486,
          0.7150458066905486,
          0.7150458066905486,
          0.7150458066905486,
          0.7150458066905486,
          0.7150458066905486,
          0.6967128724918777,
          0.6967128724918777,
          0.6144896777435189,
          0.6144896777435189,
          0.6144896777435189,
          0.6144896777435189,
          0.6144896777435189,
          0.6144896777435189,
          0.6144896777435189,
          0.6144896777435189,
          0.6144896777435189,
          0.6144896777435189,
          0.6144896777435189,
          0.6144896777435189,
          0.6144896777435189,
          0.6144896777435189,
          0.6144896777435189,
          0.6144896777435189,
          0.6144896777435189,
          0.6144896777435189,
          0.6144896777435189,
          0.6144896777435189,
          0.6144896777435189,
          0.6144896777435189,
          0.6144896777435189,
          0.6144896777435189,
          0.6144896777435189,
          0.6144896777435189,
          0.6144896777435189,
          0.6144896777435189,
          0.6144896777435189,
          0.6144896777435189,
          0.6144896777435189,
          0.6144896777435189,
          0.6144896777435189,
          0.6144896777435189,
          0.6144896777435189,
          0.6144896777435189,
          0.6144896777435189,
          0.6144896777435189,
          0.6144896777435189,
          0.6144896777435189,
          0.6144896777435189,
          0.6144896777435189,
          0.6144896777435189,
          0.6144896777435189,
          0.6144896777435189,
          0.6144896777435189,
          0.6144896777435189,
          0.6144896777435189,
          0.6144896777435189,
          0.6144896777435189,
          0.6144896777435189,
          0.6144896777435189,
          0.6144896777435189,
          0.6144896777435189,
          0.6144896777435189,
          0.6144896777435189,
          0.6144896777435189,
          0.6144896777435189,
          0.6144896777435189,
          0.6144896777435189,
          0.6144896777435189,
          0.6144896777435189,
          0.6144896777435189,
          0.6144896777435189,
          0.6144896777435189,
          0.6144896777435189,
          0.6144896777435189,
          0.6144896777435189,
          0.6144896777435189,
          0.6144896777435189,
          0.6144896777435189,
          0.6144896777435189,
          0.6144896777435189,
          0.6144896777435189,
          0.6144896777435189,
          0.6144896777435189,
          0.6144896777435189,
          0.6144896777435189,
          0.6144896777435189,
          0.6144896777435189,
          0.6144896777435189,
          0.6144896777435189,
          0.6144896777435189,
          0.6144896777435189,
          0.6144896777435189,
          0.6144896777435189,
          0.6144896777435189,
          0.6144896777435189,
          0.6144896777435189,
          0.6144896777435189
         ],
         "yaxis": "y2"
        }
       ],
       "layout": {
        "annotations": [
         {
          "font": {
           "size": 13
          },
          "showarrow": false,
          "text": "Age",
          "x": 0.2375,
          "xanchor": "center",
          "xref": "paper",
          "y": 1,
          "yanchor": "bottom",
          "yref": "paper"
         },
         {
          "font": {
           "size": 13
          },
          "showarrow": false,
          "text": "chol",
          "x": 0.7625,
          "xanchor": "center",
          "xref": "paper",
          "y": 1,
          "yanchor": "bottom",
          "yref": "paper"
         },
         {
          "font": {
           "size": 13
          },
          "showarrow": false,
          "text": "prediction",
          "textangle": -90,
          "x": -0.07,
          "xref": "paper",
          "y": 0.5,
          "yref": "paper"
         }
        ],
        "font": {
         "color": "#371ea3"
        },
        "height": 489,
        "hovermode": "x unified",
        "legend": {
         "font": {
          "size": 11
         },
         "itemsizing": "constant",
         "orientation": "h",
         "title": {
          "font": {
           "size": 12
          },
          "text": "label"
         },
         "tracegroupgap": 0,
         "x": 1,
         "xanchor": "right",
         "y": 1.0613496932515338,
         "yanchor": "bottom"
        },
        "margin": {
         "b": 71,
         "r": 30,
         "t": 78
        },
        "template": {
         "data": {
          "scatter": [
           {
            "type": "scatter"
           }
          ]
         }
        },
        "title": {
         "font": {
          "size": 16
         },
         "text": "Aggregated Profiles",
         "x": 0.15
        },
        "xaxis": {
         "anchor": "y",
         "automargin": true,
         "domain": [
          0,
          0.475
         ],
         "fixedrange": true,
         "gridwidth": 2,
         "showticklabels": true,
         "tickcolor": "white",
         "ticklen": 3,
         "ticks": "outside",
         "title": {
          "text": ""
         },
         "type": "linear",
         "zeroline": false
        },
        "xaxis2": {
         "anchor": "y2",
         "automargin": true,
         "domain": [
          0.525,
          1
         ],
         "fixedrange": true,
         "gridwidth": 2,
         "showticklabels": true,
         "tickcolor": "white",
         "ticklen": 3,
         "ticks": "outside",
         "title": {
          "text": ""
         },
         "type": "linear",
         "zeroline": false
        },
        "yaxis": {
         "anchor": "x",
         "automargin": true,
         "domain": [
          0,
          1
         ],
         "fixedrange": true,
         "gridwidth": 2,
         "range": [
          0.604434064848816,
          0.7251014195852516
         ],
         "tickcolor": "white",
         "ticklen": 3,
         "ticks": "outside",
         "title": {
          "text": ""
         },
         "type": "linear",
         "zeroline": false
        },
        "yaxis2": {
         "anchor": "x2",
         "automargin": true,
         "domain": [
          0,
          1
         ],
         "fixedrange": true,
         "gridwidth": 2,
         "matches": "y",
         "showticklabels": false,
         "tickcolor": "white",
         "ticklen": 3,
         "ticks": "outside",
         "title": {
          "text": ""
         },
         "type": "linear",
         "zeroline": false
        }
       }
      }
     },
     "metadata": {},
     "output_type": "display_data"
    },
    {
     "data": {
      "application/vnd.plotly.v1+json": {
       "config": {
        "displaylogo": false,
        "modeBarButtonsToRemove": [
         "sendDataToCloud",
         "lasso2d",
         "autoScale2d",
         "select2d",
         "zoom2d",
         "pan2d",
         "zoomIn2d",
         "zoomOut2d",
         "resetScale2d",
         "toggleSpikelines",
         "hoverCompareCartesian",
         "hoverClosestCartesian"
        ],
        "plotlyServerURL": "https://plot.ly",
        "staticPlot": false,
        "toImageButtonOptions": {
         "height": null,
         "width": null
        }
       },
       "data": [
        {
         "customdata": [
          [
           0.44333333333333336,
           "Heart CART pipeline",
           "Age"
          ],
          [
           0.44333333333333336,
           "Heart CART pipeline",
           "Age"
          ],
          [
           0.44333333333333336,
           "Heart CART pipeline",
           "Age"
          ],
          [
           0.44333333333333336,
           "Heart CART pipeline",
           "Age"
          ],
          [
           0.44333333333333336,
           "Heart CART pipeline",
           "Age"
          ],
          [
           0.44333333333333336,
           "Heart CART pipeline",
           "Age"
          ],
          [
           0.44333333333333336,
           "Heart CART pipeline",
           "Age"
          ],
          [
           0.44333333333333336,
           "Heart CART pipeline",
           "Age"
          ],
          [
           0.44333333333333336,
           "Heart CART pipeline",
           "Age"
          ],
          [
           0.44333333333333336,
           "Heart CART pipeline",
           "Age"
          ],
          [
           0.44333333333333336,
           "Heart CART pipeline",
           "Age"
          ],
          [
           0.44333333333333336,
           "Heart CART pipeline",
           "Age"
          ],
          [
           0.44333333333333336,
           "Heart CART pipeline",
           "Age"
          ],
          [
           0.44333333333333336,
           "Heart CART pipeline",
           "Age"
          ],
          [
           0.44333333333333336,
           "Heart CART pipeline",
           "Age"
          ],
          [
           0.44333333333333336,
           "Heart CART pipeline",
           "Age"
          ],
          [
           0.44333333333333336,
           "Heart CART pipeline",
           "Age"
          ],
          [
           0.44333333333333336,
           "Heart CART pipeline",
           "Age"
          ],
          [
           0.44333333333333336,
           "Heart CART pipeline",
           "Age"
          ],
          [
           0.44333333333333336,
           "Heart CART pipeline",
           "Age"
          ],
          [
           0.44333333333333336,
           "Heart CART pipeline",
           "Age"
          ],
          [
           0.44333333333333336,
           "Heart CART pipeline",
           "Age"
          ],
          [
           0.44333333333333336,
           "Heart CART pipeline",
           "Age"
          ],
          [
           0.44333333333333336,
           "Heart CART pipeline",
           "Age"
          ],
          [
           0.44333333333333336,
           "Heart CART pipeline",
           "Age"
          ],
          [
           0.44333333333333336,
           "Heart CART pipeline",
           "Age"
          ],
          [
           0.44333333333333336,
           "Heart CART pipeline",
           "Age"
          ],
          [
           0.44333333333333336,
           "Heart CART pipeline",
           "Age"
          ],
          [
           0.44333333333333336,
           "Heart CART pipeline",
           "Age"
          ],
          [
           0.44333333333333336,
           "Heart CART pipeline",
           "Age"
          ],
          [
           0.44333333333333336,
           "Heart CART pipeline",
           "Age"
          ],
          [
           0.44333333333333336,
           "Heart CART pipeline",
           "Age"
          ],
          [
           0.44333333333333336,
           "Heart CART pipeline",
           "Age"
          ],
          [
           0.44333333333333336,
           "Heart CART pipeline",
           "Age"
          ],
          [
           0.44333333333333336,
           "Heart CART pipeline",
           "Age"
          ],
          [
           0.44333333333333336,
           "Heart CART pipeline",
           "Age"
          ],
          [
           0.44333333333333336,
           "Heart CART pipeline",
           "Age"
          ],
          [
           0.44333333333333336,
           "Heart CART pipeline",
           "Age"
          ],
          [
           0.44333333333333336,
           "Heart CART pipeline",
           "Age"
          ],
          [
           0.44333333333333336,
           "Heart CART pipeline",
           "Age"
          ],
          [
           0.44333333333333336,
           "Heart CART pipeline",
           "Age"
          ],
          [
           0.44333333333333336,
           "Heart CART pipeline",
           "Age"
          ],
          [
           0.44333333333333336,
           "Heart CART pipeline",
           "Age"
          ],
          [
           0.44333333333333336,
           "Heart CART pipeline",
           "Age"
          ],
          [
           0.44333333333333336,
           "Heart CART pipeline",
           "Age"
          ],
          [
           0.44333333333333336,
           "Heart CART pipeline",
           "Age"
          ],
          [
           0.44333333333333336,
           "Heart CART pipeline",
           "Age"
          ],
          [
           0.44333333333333336,
           "Heart CART pipeline",
           "Age"
          ],
          [
           0.44333333333333336,
           "Heart CART pipeline",
           "Age"
          ],
          [
           0.44333333333333336,
           "Heart CART pipeline",
           "Age"
          ],
          [
           0.44333333333333336,
           "Heart CART pipeline",
           "Age"
          ],
          [
           0.44333333333333336,
           "Heart CART pipeline",
           "Age"
          ],
          [
           0.44333333333333336,
           "Heart CART pipeline",
           "Age"
          ],
          [
           0.44333333333333336,
           "Heart CART pipeline",
           "Age"
          ],
          [
           0.44333333333333336,
           "Heart CART pipeline",
           "Age"
          ],
          [
           0.44333333333333336,
           "Heart CART pipeline",
           "Age"
          ],
          [
           0.44333333333333336,
           "Heart CART pipeline",
           "Age"
          ],
          [
           0.44333333333333336,
           "Heart CART pipeline",
           "Age"
          ],
          [
           0.44333333333333336,
           "Heart CART pipeline",
           "Age"
          ],
          [
           0.44333333333333336,
           "Heart CART pipeline",
           "Age"
          ],
          [
           0.44333333333333336,
           "Heart CART pipeline",
           "Age"
          ],
          [
           0.44333333333333336,
           "Heart CART pipeline",
           "Age"
          ],
          [
           0.44333333333333336,
           "Heart CART pipeline",
           "Age"
          ],
          [
           0.44333333333333336,
           "Heart CART pipeline",
           "Age"
          ],
          [
           0.44333333333333336,
           "Heart CART pipeline",
           "Age"
          ],
          [
           0.44333333333333336,
           "Heart CART pipeline",
           "Age"
          ],
          [
           0.44333333333333336,
           "Heart CART pipeline",
           "Age"
          ],
          [
           0.44333333333333336,
           "Heart CART pipeline",
           "Age"
          ],
          [
           0.44333333333333336,
           "Heart CART pipeline",
           "Age"
          ],
          [
           0.44333333333333336,
           "Heart CART pipeline",
           "Age"
          ],
          [
           0.44333333333333336,
           "Heart CART pipeline",
           "Age"
          ],
          [
           0.44333333333333336,
           "Heart CART pipeline",
           "Age"
          ],
          [
           0.44333333333333336,
           "Heart CART pipeline",
           "Age"
          ],
          [
           0.44333333333333336,
           "Heart CART pipeline",
           "Age"
          ],
          [
           0.44333333333333336,
           "Heart CART pipeline",
           "Age"
          ],
          [
           0.44333333333333336,
           "Heart CART pipeline",
           "Age"
          ],
          [
           0.44333333333333336,
           "Heart CART pipeline",
           "Age"
          ],
          [
           0.44333333333333336,
           "Heart CART pipeline",
           "Age"
          ],
          [
           0.44333333333333336,
           "Heart CART pipeline",
           "Age"
          ],
          [
           0.44333333333333336,
           "Heart CART pipeline",
           "Age"
          ],
          [
           0.44333333333333336,
           "Heart CART pipeline",
           "Age"
          ],
          [
           0.44333333333333336,
           "Heart CART pipeline",
           "Age"
          ],
          [
           0.44333333333333336,
           "Heart CART pipeline",
           "Age"
          ],
          [
           0.44333333333333336,
           "Heart CART pipeline",
           "Age"
          ],
          [
           0.44333333333333336,
           "Heart CART pipeline",
           "Age"
          ],
          [
           0.44333333333333336,
           "Heart CART pipeline",
           "Age"
          ],
          [
           0.44333333333333336,
           "Heart CART pipeline",
           "Age"
          ],
          [
           0.44333333333333336,
           "Heart CART pipeline",
           "Age"
          ],
          [
           0.44333333333333336,
           "Heart CART pipeline",
           "Age"
          ],
          [
           0.44333333333333336,
           "Heart CART pipeline",
           "Age"
          ],
          [
           0.44333333333333336,
           "Heart CART pipeline",
           "Age"
          ],
          [
           0.44333333333333336,
           "Heart CART pipeline",
           "Age"
          ],
          [
           0.44333333333333336,
           "Heart CART pipeline",
           "Age"
          ],
          [
           0.44333333333333336,
           "Heart CART pipeline",
           "Age"
          ],
          [
           0.44333333333333336,
           "Heart CART pipeline",
           "Age"
          ],
          [
           0.44333333333333336,
           "Heart CART pipeline",
           "Age"
          ],
          [
           0.44333333333333336,
           "Heart CART pipeline",
           "Age"
          ],
          [
           0.44333333333333336,
           "Heart CART pipeline",
           "Age"
          ],
          [
           0.44333333333333336,
           "Heart CART pipeline",
           "Age"
          ],
          [
           0.44333333333333336,
           "Heart CART pipeline",
           "Age"
          ],
          [
           0.44333333333333336,
           "Heart CART pipeline",
           "Age"
          ]
         ],
         "hovertemplate": "<b>%{hovertext}</b><br><br>prediction=%{y:.3f}<br>mean_prediction=%{customdata[0]:.3f}<extra></extra>",
         "hovertext": [
          "Heart CART pipeline",
          "Heart CART pipeline",
          "Heart CART pipeline",
          "Heart CART pipeline",
          "Heart CART pipeline",
          "Heart CART pipeline",
          "Heart CART pipeline",
          "Heart CART pipeline",
          "Heart CART pipeline",
          "Heart CART pipeline",
          "Heart CART pipeline",
          "Heart CART pipeline",
          "Heart CART pipeline",
          "Heart CART pipeline",
          "Heart CART pipeline",
          "Heart CART pipeline",
          "Heart CART pipeline",
          "Heart CART pipeline",
          "Heart CART pipeline",
          "Heart CART pipeline",
          "Heart CART pipeline",
          "Heart CART pipeline",
          "Heart CART pipeline",
          "Heart CART pipeline",
          "Heart CART pipeline",
          "Heart CART pipeline",
          "Heart CART pipeline",
          "Heart CART pipeline",
          "Heart CART pipeline",
          "Heart CART pipeline",
          "Heart CART pipeline",
          "Heart CART pipeline",
          "Heart CART pipeline",
          "Heart CART pipeline",
          "Heart CART pipeline",
          "Heart CART pipeline",
          "Heart CART pipeline",
          "Heart CART pipeline",
          "Heart CART pipeline",
          "Heart CART pipeline",
          "Heart CART pipeline",
          "Heart CART pipeline",
          "Heart CART pipeline",
          "Heart CART pipeline",
          "Heart CART pipeline",
          "Heart CART pipeline",
          "Heart CART pipeline",
          "Heart CART pipeline",
          "Heart CART pipeline",
          "Heart CART pipeline",
          "Heart CART pipeline",
          "Heart CART pipeline",
          "Heart CART pipeline",
          "Heart CART pipeline",
          "Heart CART pipeline",
          "Heart CART pipeline",
          "Heart CART pipeline",
          "Heart CART pipeline",
          "Heart CART pipeline",
          "Heart CART pipeline",
          "Heart CART pipeline",
          "Heart CART pipeline",
          "Heart CART pipeline",
          "Heart CART pipeline",
          "Heart CART pipeline",
          "Heart CART pipeline",
          "Heart CART pipeline",
          "Heart CART pipeline",
          "Heart CART pipeline",
          "Heart CART pipeline",
          "Heart CART pipeline",
          "Heart CART pipeline",
          "Heart CART pipeline",
          "Heart CART pipeline",
          "Heart CART pipeline",
          "Heart CART pipeline",
          "Heart CART pipeline",
          "Heart CART pipeline",
          "Heart CART pipeline",
          "Heart CART pipeline",
          "Heart CART pipeline",
          "Heart CART pipeline",
          "Heart CART pipeline",
          "Heart CART pipeline",
          "Heart CART pipeline",
          "Heart CART pipeline",
          "Heart CART pipeline",
          "Heart CART pipeline",
          "Heart CART pipeline",
          "Heart CART pipeline",
          "Heart CART pipeline",
          "Heart CART pipeline",
          "Heart CART pipeline",
          "Heart CART pipeline",
          "Heart CART pipeline",
          "Heart CART pipeline",
          "Heart CART pipeline",
          "Heart CART pipeline",
          "Heart CART pipeline",
          "Heart CART pipeline",
          "Heart CART pipeline"
         ],
         "legendgroup": "Heart CART pipeline",
         "line": {
          "color": "#46bac2",
          "dash": "solid",
          "width": 2
         },
         "marker": {
          "symbol": "circle"
         },
         "mode": "lines",
         "name": "Heart CART pipeline",
         "opacity": 1,
         "orientation": "v",
         "showlegend": true,
         "type": "scatter",
         "x": [
          28,
          28.47,
          28.94,
          29.41,
          29.88,
          30.35,
          30.82,
          31.29,
          31.759999999999998,
          32.23,
          32.7,
          33.17,
          33.64,
          34.11,
          34.58,
          35.05,
          35.519999999999996,
          35.99,
          36.46,
          36.93,
          37.4,
          37.87,
          38.34,
          38.81,
          39.28,
          39.75,
          40.22,
          40.69,
          41.16,
          41.629999999999995,
          42.1,
          42.57,
          43.04,
          43.51,
          43.98,
          44.45,
          44.92,
          45.39,
          45.86,
          46.33,
          46.8,
          47.269999999999996,
          47.739999999999995,
          48.209999999999994,
          48.68,
          49.15,
          49.62,
          50.09,
          50.56,
          51.03,
          51.5,
          51.97,
          52.44,
          52.91,
          53.379999999999995,
          53.849999999999994,
          54.32,
          54.79,
          55.26,
          55.73,
          56.2,
          56.67,
          57.14,
          57.61,
          58.08,
          58.55,
          59.019999999999996,
          59.489999999999995,
          59.959999999999994,
          60.43,
          60.9,
          61.37,
          61.839999999999996,
          62.309999999999995,
          62.78,
          63.25,
          63.72,
          64.19,
          64.66,
          65.13,
          65.6,
          66.07,
          66.53999999999999,
          67.00999999999999,
          67.47999999999999,
          67.94999999999999,
          68.41999999999999,
          68.89,
          69.36,
          69.83,
          70.3,
          70.77,
          71.24,
          71.71000000000001,
          72.18,
          72.65,
          73.12,
          73.59,
          74.06,
          74.53,
          75
         ],
         "xaxis": "x",
         "y": [
          0.46,
          0.46,
          0.46,
          0.46,
          0.46,
          0.46,
          0.46,
          0.46,
          0.46,
          0.46,
          0.46,
          0.46,
          0.46,
          0.46,
          0.44,
          0.44,
          0.44,
          0.44,
          0.44,
          0.44,
          0.44,
          0.44,
          0.44,
          0.44,
          0.44,
          0.44,
          0.44,
          0.44,
          0.44,
          0.44,
          0.44,
          0.44,
          0.44,
          0.44,
          0.44,
          0.44,
          0.44,
          0.44,
          0.44,
          0.44,
          0.44,
          0.44,
          0.44,
          0.44,
          0.44,
          0.44,
          0.44,
          0.44,
          0.44,
          0.4266666666666667,
          0.4266666666666667,
          0.4266666666666667,
          0.4266666666666667,
          0.42,
          0.42,
          0.42,
          0.42,
          0.4066666666666667,
          0.4066666666666667,
          0.51,
          0.51,
          0.5933333333333334,
          0.6433333333333333,
          0.6433333333333333,
          0.6433333333333333,
          0.6133333333333333,
          0.6133333333333333,
          0.6133333333333333,
          0.6133333333333333,
          0.6133333333333333,
          0.57,
          0.57,
          0.5833333333333334,
          0.5833333333333334,
          0.5833333333333334,
          0.5833333333333334,
          0.5833333333333334,
          0.5366666666666666,
          0.6,
          0.6,
          0.64,
          0.64,
          0.64,
          0.64,
          0.64,
          0.64,
          0.64,
          0.64,
          0.64,
          0.64,
          0.64,
          0.64,
          0.64,
          0.64,
          0.64,
          0.44666666666666666,
          0.44666666666666666,
          0.44666666666666666,
          0.44666666666666666,
          0.44666666666666666,
          0.44666666666666666
         ],
         "yaxis": "y"
        },
        {
         "customdata": [
          [
           0.44333333333333336,
           "Heart CART pipeline",
           "chol"
          ],
          [
           0.44333333333333336,
           "Heart CART pipeline",
           "chol"
          ],
          [
           0.44333333333333336,
           "Heart CART pipeline",
           "chol"
          ],
          [
           0.44333333333333336,
           "Heart CART pipeline",
           "chol"
          ],
          [
           0.44333333333333336,
           "Heart CART pipeline",
           "chol"
          ],
          [
           0.44333333333333336,
           "Heart CART pipeline",
           "chol"
          ],
          [
           0.44333333333333336,
           "Heart CART pipeline",
           "chol"
          ],
          [
           0.44333333333333336,
           "Heart CART pipeline",
           "chol"
          ],
          [
           0.44333333333333336,
           "Heart CART pipeline",
           "chol"
          ],
          [
           0.44333333333333336,
           "Heart CART pipeline",
           "chol"
          ],
          [
           0.44333333333333336,
           "Heart CART pipeline",
           "chol"
          ],
          [
           0.44333333333333336,
           "Heart CART pipeline",
           "chol"
          ],
          [
           0.44333333333333336,
           "Heart CART pipeline",
           "chol"
          ],
          [
           0.44333333333333336,
           "Heart CART pipeline",
           "chol"
          ],
          [
           0.44333333333333336,
           "Heart CART pipeline",
           "chol"
          ],
          [
           0.44333333333333336,
           "Heart CART pipeline",
           "chol"
          ],
          [
           0.44333333333333336,
           "Heart CART pipeline",
           "chol"
          ],
          [
           0.44333333333333336,
           "Heart CART pipeline",
           "chol"
          ],
          [
           0.44333333333333336,
           "Heart CART pipeline",
           "chol"
          ],
          [
           0.44333333333333336,
           "Heart CART pipeline",
           "chol"
          ],
          [
           0.44333333333333336,
           "Heart CART pipeline",
           "chol"
          ],
          [
           0.44333333333333336,
           "Heart CART pipeline",
           "chol"
          ],
          [
           0.44333333333333336,
           "Heart CART pipeline",
           "chol"
          ],
          [
           0.44333333333333336,
           "Heart CART pipeline",
           "chol"
          ],
          [
           0.44333333333333336,
           "Heart CART pipeline",
           "chol"
          ],
          [
           0.44333333333333336,
           "Heart CART pipeline",
           "chol"
          ],
          [
           0.44333333333333336,
           "Heart CART pipeline",
           "chol"
          ],
          [
           0.44333333333333336,
           "Heart CART pipeline",
           "chol"
          ],
          [
           0.44333333333333336,
           "Heart CART pipeline",
           "chol"
          ],
          [
           0.44333333333333336,
           "Heart CART pipeline",
           "chol"
          ],
          [
           0.44333333333333336,
           "Heart CART pipeline",
           "chol"
          ],
          [
           0.44333333333333336,
           "Heart CART pipeline",
           "chol"
          ],
          [
           0.44333333333333336,
           "Heart CART pipeline",
           "chol"
          ],
          [
           0.44333333333333336,
           "Heart CART pipeline",
           "chol"
          ],
          [
           0.44333333333333336,
           "Heart CART pipeline",
           "chol"
          ],
          [
           0.44333333333333336,
           "Heart CART pipeline",
           "chol"
          ],
          [
           0.44333333333333336,
           "Heart CART pipeline",
           "chol"
          ],
          [
           0.44333333333333336,
           "Heart CART pipeline",
           "chol"
          ],
          [
           0.44333333333333336,
           "Heart CART pipeline",
           "chol"
          ],
          [
           0.44333333333333336,
           "Heart CART pipeline",
           "chol"
          ],
          [
           0.44333333333333336,
           "Heart CART pipeline",
           "chol"
          ],
          [
           0.44333333333333336,
           "Heart CART pipeline",
           "chol"
          ],
          [
           0.44333333333333336,
           "Heart CART pipeline",
           "chol"
          ],
          [
           0.44333333333333336,
           "Heart CART pipeline",
           "chol"
          ],
          [
           0.44333333333333336,
           "Heart CART pipeline",
           "chol"
          ],
          [
           0.44333333333333336,
           "Heart CART pipeline",
           "chol"
          ],
          [
           0.44333333333333336,
           "Heart CART pipeline",
           "chol"
          ],
          [
           0.44333333333333336,
           "Heart CART pipeline",
           "chol"
          ],
          [
           0.44333333333333336,
           "Heart CART pipeline",
           "chol"
          ],
          [
           0.44333333333333336,
           "Heart CART pipeline",
           "chol"
          ],
          [
           0.44333333333333336,
           "Heart CART pipeline",
           "chol"
          ],
          [
           0.44333333333333336,
           "Heart CART pipeline",
           "chol"
          ],
          [
           0.44333333333333336,
           "Heart CART pipeline",
           "chol"
          ],
          [
           0.44333333333333336,
           "Heart CART pipeline",
           "chol"
          ],
          [
           0.44333333333333336,
           "Heart CART pipeline",
           "chol"
          ],
          [
           0.44333333333333336,
           "Heart CART pipeline",
           "chol"
          ],
          [
           0.44333333333333336,
           "Heart CART pipeline",
           "chol"
          ],
          [
           0.44333333333333336,
           "Heart CART pipeline",
           "chol"
          ],
          [
           0.44333333333333336,
           "Heart CART pipeline",
           "chol"
          ],
          [
           0.44333333333333336,
           "Heart CART pipeline",
           "chol"
          ],
          [
           0.44333333333333336,
           "Heart CART pipeline",
           "chol"
          ],
          [
           0.44333333333333336,
           "Heart CART pipeline",
           "chol"
          ],
          [
           0.44333333333333336,
           "Heart CART pipeline",
           "chol"
          ],
          [
           0.44333333333333336,
           "Heart CART pipeline",
           "chol"
          ],
          [
           0.44333333333333336,
           "Heart CART pipeline",
           "chol"
          ],
          [
           0.44333333333333336,
           "Heart CART pipeline",
           "chol"
          ],
          [
           0.44333333333333336,
           "Heart CART pipeline",
           "chol"
          ],
          [
           0.44333333333333336,
           "Heart CART pipeline",
           "chol"
          ],
          [
           0.44333333333333336,
           "Heart CART pipeline",
           "chol"
          ],
          [
           0.44333333333333336,
           "Heart CART pipeline",
           "chol"
          ],
          [
           0.44333333333333336,
           "Heart CART pipeline",
           "chol"
          ],
          [
           0.44333333333333336,
           "Heart CART pipeline",
           "chol"
          ],
          [
           0.44333333333333336,
           "Heart CART pipeline",
           "chol"
          ],
          [
           0.44333333333333336,
           "Heart CART pipeline",
           "chol"
          ],
          [
           0.44333333333333336,
           "Heart CART pipeline",
           "chol"
          ],
          [
           0.44333333333333336,
           "Heart CART pipeline",
           "chol"
          ],
          [
           0.44333333333333336,
           "Heart CART pipeline",
           "chol"
          ],
          [
           0.44333333333333336,
           "Heart CART pipeline",
           "chol"
          ],
          [
           0.44333333333333336,
           "Heart CART pipeline",
           "chol"
          ],
          [
           0.44333333333333336,
           "Heart CART pipeline",
           "chol"
          ],
          [
           0.44333333333333336,
           "Heart CART pipeline",
           "chol"
          ],
          [
           0.44333333333333336,
           "Heart CART pipeline",
           "chol"
          ],
          [
           0.44333333333333336,
           "Heart CART pipeline",
           "chol"
          ],
          [
           0.44333333333333336,
           "Heart CART pipeline",
           "chol"
          ],
          [
           0.44333333333333336,
           "Heart CART pipeline",
           "chol"
          ],
          [
           0.44333333333333336,
           "Heart CART pipeline",
           "chol"
          ],
          [
           0.44333333333333336,
           "Heart CART pipeline",
           "chol"
          ],
          [
           0.44333333333333336,
           "Heart CART pipeline",
           "chol"
          ],
          [
           0.44333333333333336,
           "Heart CART pipeline",
           "chol"
          ],
          [
           0.44333333333333336,
           "Heart CART pipeline",
           "chol"
          ],
          [
           0.44333333333333336,
           "Heart CART pipeline",
           "chol"
          ],
          [
           0.44333333333333336,
           "Heart CART pipeline",
           "chol"
          ],
          [
           0.44333333333333336,
           "Heart CART pipeline",
           "chol"
          ],
          [
           0.44333333333333336,
           "Heart CART pipeline",
           "chol"
          ],
          [
           0.44333333333333336,
           "Heart CART pipeline",
           "chol"
          ],
          [
           0.44333333333333336,
           "Heart CART pipeline",
           "chol"
          ],
          [
           0.44333333333333336,
           "Heart CART pipeline",
           "chol"
          ],
          [
           0.44333333333333336,
           "Heart CART pipeline",
           "chol"
          ],
          [
           0.44333333333333336,
           "Heart CART pipeline",
           "chol"
          ],
          [
           0.44333333333333336,
           "Heart CART pipeline",
           "chol"
          ],
          [
           0.44333333333333336,
           "Heart CART pipeline",
           "chol"
          ]
         ],
         "hovertemplate": "<b>%{hovertext}</b><br><br>prediction=%{y:.3f}<br>mean_prediction=%{customdata[0]:.3f}<extra></extra>",
         "hovertext": [
          "Heart CART pipeline",
          "Heart CART pipeline",
          "Heart CART pipeline",
          "Heart CART pipeline",
          "Heart CART pipeline",
          "Heart CART pipeline",
          "Heart CART pipeline",
          "Heart CART pipeline",
          "Heart CART pipeline",
          "Heart CART pipeline",
          "Heart CART pipeline",
          "Heart CART pipeline",
          "Heart CART pipeline",
          "Heart CART pipeline",
          "Heart CART pipeline",
          "Heart CART pipeline",
          "Heart CART pipeline",
          "Heart CART pipeline",
          "Heart CART pipeline",
          "Heart CART pipeline",
          "Heart CART pipeline",
          "Heart CART pipeline",
          "Heart CART pipeline",
          "Heart CART pipeline",
          "Heart CART pipeline",
          "Heart CART pipeline",
          "Heart CART pipeline",
          "Heart CART pipeline",
          "Heart CART pipeline",
          "Heart CART pipeline",
          "Heart CART pipeline",
          "Heart CART pipeline",
          "Heart CART pipeline",
          "Heart CART pipeline",
          "Heart CART pipeline",
          "Heart CART pipeline",
          "Heart CART pipeline",
          "Heart CART pipeline",
          "Heart CART pipeline",
          "Heart CART pipeline",
          "Heart CART pipeline",
          "Heart CART pipeline",
          "Heart CART pipeline",
          "Heart CART pipeline",
          "Heart CART pipeline",
          "Heart CART pipeline",
          "Heart CART pipeline",
          "Heart CART pipeline",
          "Heart CART pipeline",
          "Heart CART pipeline",
          "Heart CART pipeline",
          "Heart CART pipeline",
          "Heart CART pipeline",
          "Heart CART pipeline",
          "Heart CART pipeline",
          "Heart CART pipeline",
          "Heart CART pipeline",
          "Heart CART pipeline",
          "Heart CART pipeline",
          "Heart CART pipeline",
          "Heart CART pipeline",
          "Heart CART pipeline",
          "Heart CART pipeline",
          "Heart CART pipeline",
          "Heart CART pipeline",
          "Heart CART pipeline",
          "Heart CART pipeline",
          "Heart CART pipeline",
          "Heart CART pipeline",
          "Heart CART pipeline",
          "Heart CART pipeline",
          "Heart CART pipeline",
          "Heart CART pipeline",
          "Heart CART pipeline",
          "Heart CART pipeline",
          "Heart CART pipeline",
          "Heart CART pipeline",
          "Heart CART pipeline",
          "Heart CART pipeline",
          "Heart CART pipeline",
          "Heart CART pipeline",
          "Heart CART pipeline",
          "Heart CART pipeline",
          "Heart CART pipeline",
          "Heart CART pipeline",
          "Heart CART pipeline",
          "Heart CART pipeline",
          "Heart CART pipeline",
          "Heart CART pipeline",
          "Heart CART pipeline",
          "Heart CART pipeline",
          "Heart CART pipeline",
          "Heart CART pipeline",
          "Heart CART pipeline",
          "Heart CART pipeline",
          "Heart CART pipeline",
          "Heart CART pipeline",
          "Heart CART pipeline",
          "Heart CART pipeline",
          "Heart CART pipeline",
          "Heart CART pipeline"
         ],
         "legendgroup": "Heart CART pipeline",
         "line": {
          "color": "#46bac2",
          "dash": "solid",
          "width": 2
         },
         "marker": {
          "symbol": "circle"
         },
         "mode": "lines",
         "name": "Heart CART pipeline",
         "opacity": 1,
         "orientation": "v",
         "showlegend": false,
         "type": "scatter",
         "x": [
          0,
          6.03,
          12.06,
          18.09,
          24.12,
          30.150000000000002,
          36.18,
          42.21,
          48.24,
          54.27,
          60.300000000000004,
          66.33,
          72.36,
          78.39,
          84.42,
          90.45,
          96.48,
          102.51,
          108.54,
          114.57000000000001,
          120.60000000000001,
          126.63000000000001,
          132.66,
          138.69,
          144.72,
          150.75,
          156.78,
          162.81,
          168.84,
          174.87,
          180.9,
          186.93,
          192.96,
          198.99,
          205.02,
          211.05,
          217.08,
          223.11,
          229.14000000000001,
          235.17000000000002,
          241.20000000000002,
          247.23000000000002,
          253.26000000000002,
          259.29,
          265.32,
          271.35,
          277.38,
          283.41,
          289.44,
          295.47,
          301.5,
          307.53000000000003,
          313.56,
          319.59000000000003,
          325.62,
          331.65000000000003,
          337.68,
          343.71000000000004,
          349.74,
          355.77000000000004,
          361.8,
          367.83000000000004,
          373.86,
          379.89000000000004,
          385.92,
          391.95,
          397.98,
          404.01,
          410.04,
          416.07,
          422.1,
          428.13,
          434.16,
          440.19,
          446.22,
          452.25,
          458.28000000000003,
          464.31,
          470.34000000000003,
          476.37,
          482.40000000000003,
          488.43,
          494.46000000000004,
          500.49,
          506.52000000000004,
          512.5500000000001,
          518.58,
          524.61,
          530.64,
          536.6700000000001,
          542.7,
          548.73,
          554.76,
          560.7900000000001,
          566.82,
          572.85,
          578.88,
          584.91,
          590.94,
          596.97,
          603
         ],
         "xaxis": "x2",
         "y": [
          0.4533333333333333,
          0.4533333333333333,
          0.4533333333333333,
          0.4533333333333333,
          0.4533333333333333,
          0.4533333333333333,
          0.4533333333333333,
          0.4533333333333333,
          0.4533333333333333,
          0.4533333333333333,
          0.4533333333333333,
          0.4533333333333333,
          0.4533333333333333,
          0.4533333333333333,
          0.4533333333333333,
          0.4533333333333333,
          0.4533333333333333,
          0.4533333333333333,
          0.4533333333333333,
          0.4533333333333333,
          0.4533333333333333,
          0.4533333333333333,
          0.4533333333333333,
          0.4533333333333333,
          0.4533333333333333,
          0.4533333333333333,
          0.4533333333333333,
          0.4533333333333333,
          0.47,
          0.47,
          0.48333333333333334,
          0.4666666666666667,
          0.4666666666666667,
          0.5033333333333333,
          0.5033333333333333,
          0.48,
          0.45666666666666667,
          0.4066666666666667,
          0.4066666666666667,
          0.4066666666666667,
          0.4066666666666667,
          0.43666666666666665,
          0.41333333333333333,
          0.44,
          0.5633333333333334,
          0.45,
          0.47333333333333333,
          0.47333333333333333,
          0.47333333333333333,
          0.47333333333333333,
          0.44666666666666666,
          0.44666666666666666,
          0.44666666666666666,
          0.44666666666666666,
          0.44666666666666666,
          0.44666666666666666,
          0.44666666666666666,
          0.43666666666666665,
          0.43666666666666665,
          0.43666666666666665,
          0.43666666666666665,
          0.43666666666666665,
          0.43666666666666665,
          0.43666666666666665,
          0.43666666666666665,
          0.43666666666666665,
          0.43666666666666665,
          0.43666666666666665,
          0.43666666666666665,
          0.43666666666666665,
          0.43666666666666665,
          0.43666666666666665,
          0.5533333333333333,
          0.5533333333333333,
          0.5533333333333333,
          0.5533333333333333,
          0.5533333333333333,
          0.5533333333333333,
          0.5533333333333333,
          0.5733333333333334,
          0.5733333333333334,
          0.5733333333333334,
          0.5733333333333334,
          0.5733333333333334,
          0.5733333333333334,
          0.5733333333333334,
          0.5733333333333334,
          0.5733333333333334,
          0.5733333333333334,
          0.5733333333333334,
          0.5733333333333334,
          0.5733333333333334,
          0.5733333333333334,
          0.5733333333333334,
          0.5733333333333334,
          0.5733333333333334,
          0.5733333333333334,
          0.5733333333333334,
          0.5733333333333334,
          0.5733333333333334,
          0.5733333333333334
         ],
         "yaxis": "y2"
        }
       ],
       "layout": {
        "annotations": [
         {
          "font": {
           "size": 13
          },
          "showarrow": false,
          "text": "Age",
          "x": 0.2375,
          "xanchor": "center",
          "xref": "paper",
          "y": 1,
          "yanchor": "bottom",
          "yref": "paper"
         },
         {
          "font": {
           "size": 13
          },
          "showarrow": false,
          "text": "chol",
          "x": 0.7625,
          "xanchor": "center",
          "xref": "paper",
          "y": 1,
          "yanchor": "bottom",
          "yref": "paper"
         },
         {
          "font": {
           "size": 13
          },
          "showarrow": false,
          "text": "prediction",
          "textangle": -90,
          "x": -0.07,
          "xref": "paper",
          "y": 0.5,
          "yref": "paper"
         }
        ],
        "font": {
         "color": "#371ea3"
        },
        "height": 489,
        "hovermode": "x unified",
        "legend": {
         "font": {
          "size": 11
         },
         "itemsizing": "constant",
         "orientation": "h",
         "title": {
          "font": {
           "size": 12
          },
          "text": "label"
         },
         "tracegroupgap": 0,
         "x": 1,
         "xanchor": "right",
         "y": 1.0613496932515338,
         "yanchor": "bottom"
        },
        "margin": {
         "b": 71,
         "r": 30,
         "t": 78
        },
        "template": {
         "data": {
          "scatter": [
           {
            "type": "scatter"
           }
          ]
         }
        },
        "title": {
         "font": {
          "size": 16
         },
         "text": "Aggregated Profiles",
         "x": 0.15
        },
        "xaxis": {
         "anchor": "y",
         "automargin": true,
         "domain": [
          0,
          0.475
         ],
         "fixedrange": true,
         "gridwidth": 2,
         "showticklabels": true,
         "tickcolor": "white",
         "ticklen": 3,
         "ticks": "outside",
         "title": {
          "text": ""
         },
         "type": "linear",
         "zeroline": false
        },
        "xaxis2": {
         "anchor": "y2",
         "automargin": true,
         "domain": [
          0.525,
          1
         ],
         "fixedrange": true,
         "gridwidth": 2,
         "showticklabels": true,
         "tickcolor": "white",
         "ticklen": 3,
         "ticks": "outside",
         "title": {
          "text": ""
         },
         "type": "linear",
         "zeroline": false
        },
        "yaxis": {
         "anchor": "x",
         "automargin": true,
         "domain": [
          0,
          1
         ],
         "fixedrange": true,
         "gridwidth": 2,
         "range": [
          0.383,
          0.6669999999999999
         ],
         "tickcolor": "white",
         "ticklen": 3,
         "ticks": "outside",
         "title": {
          "text": ""
         },
         "type": "linear",
         "zeroline": false
        },
        "yaxis2": {
         "anchor": "x2",
         "automargin": true,
         "domain": [
          0,
          1
         ],
         "fixedrange": true,
         "gridwidth": 2,
         "matches": "y",
         "showticklabels": false,
         "tickcolor": "white",
         "ticklen": 3,
         "ticks": "outside",
         "title": {
          "text": ""
         },
         "type": "linear",
         "zeroline": false
        }
       }
      }
     },
     "metadata": {},
     "output_type": "display_data"
    }
   ],
   "source": [
    "pd_lr.plot()\n",
    "pd_cart.plot()"
   ]
  },
  {
   "cell_type": "code",
   "execution_count": 72,
   "metadata": {},
   "outputs": [
    {
     "data": {
      "text/plain": [
       "0      0.460000\n",
       "1      0.460000\n",
       "2      0.460000\n",
       "3      0.460000\n",
       "4      0.460000\n",
       "         ...   \n",
       "197    0.573333\n",
       "198    0.573333\n",
       "199    0.573333\n",
       "200    0.573333\n",
       "201    0.573333\n",
       "Name: _yhat_, Length: 202, dtype: float64"
      ]
     },
     "execution_count": 72,
     "metadata": {},
     "output_type": "execute_result"
    }
   ],
   "source": [
    "pd_cart.result[\"_yhat_\"]"
   ]
  },
  {
   "cell_type": "code",
   "execution_count": 73,
   "metadata": {},
   "outputs": [
    {
     "ename": "TypeError",
     "evalue": "variables do not overlap with age",
     "output_type": "error",
     "traceback": [
      "\u001b[0;31m---------------------------------------------------------------------------\u001b[0m",
      "\u001b[0;31mTypeError\u001b[0m                                 Traceback (most recent call last)",
      "\u001b[0;32m/tmp/ipykernel_16639/2294977401.py\u001b[0m in \u001b[0;36m<module>\u001b[0;34m\u001b[0m\n\u001b[0;32m----> 1\u001b[0;31m \u001b[0mpd_cart\u001b[0m\u001b[0;34m.\u001b[0m\u001b[0mplot\u001b[0m\u001b[0;34m(\u001b[0m\u001b[0mpd_lr\u001b[0m\u001b[0;34m,\u001b[0m \u001b[0mvariables\u001b[0m\u001b[0;34m=\u001b[0m\u001b[0;34m[\u001b[0m\u001b[0;34m\"age\"\u001b[0m\u001b[0;34m]\u001b[0m\u001b[0;34m)\u001b[0m\u001b[0;34m\u001b[0m\u001b[0;34m\u001b[0m\u001b[0m\n\u001b[0m",
      "\u001b[0;32m~/anaconda3/envs/mainenv/lib/python3.9/site-packages/dalex/model_explanations/_aggregated_profiles/object.py\u001b[0m in \u001b[0;36mplot\u001b[0;34m(self, objects, geom, variables, center, size, alpha, color, facet_ncol, facet_scales, title, y_title, horizontal_spacing, vertical_spacing, show)\u001b[0m\n\u001b[1;32m    237\u001b[0m             \u001b[0mall_variables\u001b[0m \u001b[0;34m=\u001b[0m \u001b[0m_global_utils\u001b[0m\u001b[0;34m.\u001b[0m\u001b[0mintersect_unsorted\u001b[0m\u001b[0;34m(\u001b[0m\u001b[0mvariables\u001b[0m\u001b[0;34m,\u001b[0m \u001b[0mall_variables\u001b[0m\u001b[0;34m)\u001b[0m\u001b[0;34m\u001b[0m\u001b[0;34m\u001b[0m\u001b[0m\n\u001b[1;32m    238\u001b[0m             \u001b[0;32mif\u001b[0m \u001b[0mlen\u001b[0m\u001b[0;34m(\u001b[0m\u001b[0mall_variables\u001b[0m\u001b[0;34m)\u001b[0m \u001b[0;34m==\u001b[0m \u001b[0;36m0\u001b[0m\u001b[0;34m:\u001b[0m\u001b[0;34m\u001b[0m\u001b[0;34m\u001b[0m\u001b[0m\n\u001b[0;32m--> 239\u001b[0;31m                 \u001b[0;32mraise\u001b[0m \u001b[0mTypeError\u001b[0m\u001b[0;34m(\u001b[0m\u001b[0;34m\"variables do not overlap with \"\u001b[0m \u001b[0;34m+\u001b[0m \u001b[0;34m''\u001b[0m\u001b[0;34m.\u001b[0m\u001b[0mjoin\u001b[0m\u001b[0;34m(\u001b[0m\u001b[0mvariables\u001b[0m\u001b[0;34m)\u001b[0m\u001b[0;34m)\u001b[0m\u001b[0;34m\u001b[0m\u001b[0;34m\u001b[0m\u001b[0m\n\u001b[0m\u001b[1;32m    240\u001b[0m \u001b[0;34m\u001b[0m\u001b[0m\n\u001b[1;32m    241\u001b[0m             \u001b[0m_result_df\u001b[0m \u001b[0;34m=\u001b[0m \u001b[0m_result_df\u001b[0m\u001b[0;34m.\u001b[0m\u001b[0mloc\u001b[0m\u001b[0;34m[\u001b[0m\u001b[0m_result_df\u001b[0m\u001b[0;34m[\u001b[0m\u001b[0;34m'_vname_'\u001b[0m\u001b[0;34m]\u001b[0m\u001b[0;34m.\u001b[0m\u001b[0misin\u001b[0m\u001b[0;34m(\u001b[0m\u001b[0mall_variables\u001b[0m\u001b[0;34m)\u001b[0m\u001b[0;34m,\u001b[0m \u001b[0;34m:\u001b[0m\u001b[0;34m]\u001b[0m\u001b[0;34m\u001b[0m\u001b[0;34m\u001b[0m\u001b[0m\n",
      "\u001b[0;31mTypeError\u001b[0m: variables do not overlap with age"
     ]
    }
   ],
   "source": [
    "pd_cart.plot(pd_lr, variables=[\"age\"])"
   ]
  },
  {
   "cell_type": "code",
   "execution_count": 74,
   "metadata": {},
   "outputs": [
    {
     "name": "stderr",
     "output_type": "stream",
     "text": [
      "Calculating ceteris paribus: 100%|██████████| 11/11 [00:02<00:00,  4.40it/s]\n",
      "Calculating ceteris paribus: 100%|██████████| 11/11 [00:00<00:00, 21.28it/s]\n"
     ]
    }
   ],
   "source": [
    "pdp_lr = heart_lr_exp.model_profile()\n",
    "pdp_cart = heart_cart_exp.model_profile()"
   ]
  },
  {
   "cell_type": "code",
   "execution_count": 75,
   "metadata": {},
   "outputs": [
    {
     "data": {
      "application/vnd.plotly.v1+json": {
       "config": {
        "displaylogo": false,
        "modeBarButtonsToRemove": [
         "sendDataToCloud",
         "lasso2d",
         "autoScale2d",
         "select2d",
         "zoom2d",
         "pan2d",
         "zoomIn2d",
         "zoomOut2d",
         "resetScale2d",
         "toggleSpikelines",
         "hoverCompareCartesian",
         "hoverClosestCartesian"
        ],
        "plotlyServerURL": "https://plot.ly",
        "staticPlot": false,
        "toImageButtonOptions": {
         "height": null,
         "width": null
        }
       },
       "data": [
        {
         "customdata": [
          [
           0.49333333333333335,
           "Heart CART pipeline",
           "Age"
          ],
          [
           0.49333333333333335,
           "Heart CART pipeline",
           "Age"
          ],
          [
           0.49333333333333335,
           "Heart CART pipeline",
           "Age"
          ],
          [
           0.49333333333333335,
           "Heart CART pipeline",
           "Age"
          ],
          [
           0.49333333333333335,
           "Heart CART pipeline",
           "Age"
          ],
          [
           0.49333333333333335,
           "Heart CART pipeline",
           "Age"
          ],
          [
           0.49333333333333335,
           "Heart CART pipeline",
           "Age"
          ],
          [
           0.49333333333333335,
           "Heart CART pipeline",
           "Age"
          ],
          [
           0.49333333333333335,
           "Heart CART pipeline",
           "Age"
          ],
          [
           0.49333333333333335,
           "Heart CART pipeline",
           "Age"
          ],
          [
           0.49333333333333335,
           "Heart CART pipeline",
           "Age"
          ],
          [
           0.49333333333333335,
           "Heart CART pipeline",
           "Age"
          ],
          [
           0.49333333333333335,
           "Heart CART pipeline",
           "Age"
          ],
          [
           0.49333333333333335,
           "Heart CART pipeline",
           "Age"
          ],
          [
           0.49333333333333335,
           "Heart CART pipeline",
           "Age"
          ],
          [
           0.49333333333333335,
           "Heart CART pipeline",
           "Age"
          ],
          [
           0.49333333333333335,
           "Heart CART pipeline",
           "Age"
          ],
          [
           0.49333333333333335,
           "Heart CART pipeline",
           "Age"
          ],
          [
           0.49333333333333335,
           "Heart CART pipeline",
           "Age"
          ],
          [
           0.49333333333333335,
           "Heart CART pipeline",
           "Age"
          ],
          [
           0.49333333333333335,
           "Heart CART pipeline",
           "Age"
          ],
          [
           0.49333333333333335,
           "Heart CART pipeline",
           "Age"
          ],
          [
           0.49333333333333335,
           "Heart CART pipeline",
           "Age"
          ],
          [
           0.49333333333333335,
           "Heart CART pipeline",
           "Age"
          ],
          [
           0.49333333333333335,
           "Heart CART pipeline",
           "Age"
          ],
          [
           0.49333333333333335,
           "Heart CART pipeline",
           "Age"
          ],
          [
           0.49333333333333335,
           "Heart CART pipeline",
           "Age"
          ],
          [
           0.49333333333333335,
           "Heart CART pipeline",
           "Age"
          ],
          [
           0.49333333333333335,
           "Heart CART pipeline",
           "Age"
          ],
          [
           0.49333333333333335,
           "Heart CART pipeline",
           "Age"
          ],
          [
           0.49333333333333335,
           "Heart CART pipeline",
           "Age"
          ],
          [
           0.49333333333333335,
           "Heart CART pipeline",
           "Age"
          ],
          [
           0.49333333333333335,
           "Heart CART pipeline",
           "Age"
          ],
          [
           0.49333333333333335,
           "Heart CART pipeline",
           "Age"
          ],
          [
           0.49333333333333335,
           "Heart CART pipeline",
           "Age"
          ],
          [
           0.49333333333333335,
           "Heart CART pipeline",
           "Age"
          ],
          [
           0.49333333333333335,
           "Heart CART pipeline",
           "Age"
          ],
          [
           0.49333333333333335,
           "Heart CART pipeline",
           "Age"
          ],
          [
           0.49333333333333335,
           "Heart CART pipeline",
           "Age"
          ],
          [
           0.49333333333333335,
           "Heart CART pipeline",
           "Age"
          ],
          [
           0.49333333333333335,
           "Heart CART pipeline",
           "Age"
          ],
          [
           0.49333333333333335,
           "Heart CART pipeline",
           "Age"
          ],
          [
           0.49333333333333335,
           "Heart CART pipeline",
           "Age"
          ],
          [
           0.49333333333333335,
           "Heart CART pipeline",
           "Age"
          ],
          [
           0.49333333333333335,
           "Heart CART pipeline",
           "Age"
          ],
          [
           0.49333333333333335,
           "Heart CART pipeline",
           "Age"
          ],
          [
           0.49333333333333335,
           "Heart CART pipeline",
           "Age"
          ],
          [
           0.49333333333333335,
           "Heart CART pipeline",
           "Age"
          ],
          [
           0.49333333333333335,
           "Heart CART pipeline",
           "Age"
          ],
          [
           0.49333333333333335,
           "Heart CART pipeline",
           "Age"
          ],
          [
           0.49333333333333335,
           "Heart CART pipeline",
           "Age"
          ],
          [
           0.49333333333333335,
           "Heart CART pipeline",
           "Age"
          ],
          [
           0.49333333333333335,
           "Heart CART pipeline",
           "Age"
          ],
          [
           0.49333333333333335,
           "Heart CART pipeline",
           "Age"
          ],
          [
           0.49333333333333335,
           "Heart CART pipeline",
           "Age"
          ],
          [
           0.49333333333333335,
           "Heart CART pipeline",
           "Age"
          ],
          [
           0.49333333333333335,
           "Heart CART pipeline",
           "Age"
          ],
          [
           0.49333333333333335,
           "Heart CART pipeline",
           "Age"
          ],
          [
           0.49333333333333335,
           "Heart CART pipeline",
           "Age"
          ],
          [
           0.49333333333333335,
           "Heart CART pipeline",
           "Age"
          ],
          [
           0.49333333333333335,
           "Heart CART pipeline",
           "Age"
          ],
          [
           0.49333333333333335,
           "Heart CART pipeline",
           "Age"
          ],
          [
           0.49333333333333335,
           "Heart CART pipeline",
           "Age"
          ],
          [
           0.49333333333333335,
           "Heart CART pipeline",
           "Age"
          ],
          [
           0.49333333333333335,
           "Heart CART pipeline",
           "Age"
          ],
          [
           0.49333333333333335,
           "Heart CART pipeline",
           "Age"
          ],
          [
           0.49333333333333335,
           "Heart CART pipeline",
           "Age"
          ],
          [
           0.49333333333333335,
           "Heart CART pipeline",
           "Age"
          ],
          [
           0.49333333333333335,
           "Heart CART pipeline",
           "Age"
          ],
          [
           0.49333333333333335,
           "Heart CART pipeline",
           "Age"
          ],
          [
           0.49333333333333335,
           "Heart CART pipeline",
           "Age"
          ],
          [
           0.49333333333333335,
           "Heart CART pipeline",
           "Age"
          ],
          [
           0.49333333333333335,
           "Heart CART pipeline",
           "Age"
          ],
          [
           0.49333333333333335,
           "Heart CART pipeline",
           "Age"
          ],
          [
           0.49333333333333335,
           "Heart CART pipeline",
           "Age"
          ],
          [
           0.49333333333333335,
           "Heart CART pipeline",
           "Age"
          ],
          [
           0.49333333333333335,
           "Heart CART pipeline",
           "Age"
          ],
          [
           0.49333333333333335,
           "Heart CART pipeline",
           "Age"
          ],
          [
           0.49333333333333335,
           "Heart CART pipeline",
           "Age"
          ],
          [
           0.49333333333333335,
           "Heart CART pipeline",
           "Age"
          ],
          [
           0.49333333333333335,
           "Heart CART pipeline",
           "Age"
          ],
          [
           0.49333333333333335,
           "Heart CART pipeline",
           "Age"
          ],
          [
           0.49333333333333335,
           "Heart CART pipeline",
           "Age"
          ],
          [
           0.49333333333333335,
           "Heart CART pipeline",
           "Age"
          ],
          [
           0.49333333333333335,
           "Heart CART pipeline",
           "Age"
          ],
          [
           0.49333333333333335,
           "Heart CART pipeline",
           "Age"
          ],
          [
           0.49333333333333335,
           "Heart CART pipeline",
           "Age"
          ],
          [
           0.49333333333333335,
           "Heart CART pipeline",
           "Age"
          ],
          [
           0.49333333333333335,
           "Heart CART pipeline",
           "Age"
          ],
          [
           0.49333333333333335,
           "Heart CART pipeline",
           "Age"
          ],
          [
           0.49333333333333335,
           "Heart CART pipeline",
           "Age"
          ],
          [
           0.49333333333333335,
           "Heart CART pipeline",
           "Age"
          ],
          [
           0.49333333333333335,
           "Heart CART pipeline",
           "Age"
          ],
          [
           0.49333333333333335,
           "Heart CART pipeline",
           "Age"
          ],
          [
           0.49333333333333335,
           "Heart CART pipeline",
           "Age"
          ],
          [
           0.49333333333333335,
           "Heart CART pipeline",
           "Age"
          ],
          [
           0.49333333333333335,
           "Heart CART pipeline",
           "Age"
          ],
          [
           0.49333333333333335,
           "Heart CART pipeline",
           "Age"
          ],
          [
           0.49333333333333335,
           "Heart CART pipeline",
           "Age"
          ],
          [
           0.49333333333333335,
           "Heart CART pipeline",
           "Age"
          ],
          [
           0.49333333333333335,
           "Heart CART pipeline",
           "Age"
          ]
         ],
         "hovertemplate": "<b>%{hovertext}</b><br><br>prediction=%{y:.3f}<br>mean_prediction=%{customdata[0]:.3f}<extra></extra>",
         "hovertext": [
          "Heart CART pipeline",
          "Heart CART pipeline",
          "Heart CART pipeline",
          "Heart CART pipeline",
          "Heart CART pipeline",
          "Heart CART pipeline",
          "Heart CART pipeline",
          "Heart CART pipeline",
          "Heart CART pipeline",
          "Heart CART pipeline",
          "Heart CART pipeline",
          "Heart CART pipeline",
          "Heart CART pipeline",
          "Heart CART pipeline",
          "Heart CART pipeline",
          "Heart CART pipeline",
          "Heart CART pipeline",
          "Heart CART pipeline",
          "Heart CART pipeline",
          "Heart CART pipeline",
          "Heart CART pipeline",
          "Heart CART pipeline",
          "Heart CART pipeline",
          "Heart CART pipeline",
          "Heart CART pipeline",
          "Heart CART pipeline",
          "Heart CART pipeline",
          "Heart CART pipeline",
          "Heart CART pipeline",
          "Heart CART pipeline",
          "Heart CART pipeline",
          "Heart CART pipeline",
          "Heart CART pipeline",
          "Heart CART pipeline",
          "Heart CART pipeline",
          "Heart CART pipeline",
          "Heart CART pipeline",
          "Heart CART pipeline",
          "Heart CART pipeline",
          "Heart CART pipeline",
          "Heart CART pipeline",
          "Heart CART pipeline",
          "Heart CART pipeline",
          "Heart CART pipeline",
          "Heart CART pipeline",
          "Heart CART pipeline",
          "Heart CART pipeline",
          "Heart CART pipeline",
          "Heart CART pipeline",
          "Heart CART pipeline",
          "Heart CART pipeline",
          "Heart CART pipeline",
          "Heart CART pipeline",
          "Heart CART pipeline",
          "Heart CART pipeline",
          "Heart CART pipeline",
          "Heart CART pipeline",
          "Heart CART pipeline",
          "Heart CART pipeline",
          "Heart CART pipeline",
          "Heart CART pipeline",
          "Heart CART pipeline",
          "Heart CART pipeline",
          "Heart CART pipeline",
          "Heart CART pipeline",
          "Heart CART pipeline",
          "Heart CART pipeline",
          "Heart CART pipeline",
          "Heart CART pipeline",
          "Heart CART pipeline",
          "Heart CART pipeline",
          "Heart CART pipeline",
          "Heart CART pipeline",
          "Heart CART pipeline",
          "Heart CART pipeline",
          "Heart CART pipeline",
          "Heart CART pipeline",
          "Heart CART pipeline",
          "Heart CART pipeline",
          "Heart CART pipeline",
          "Heart CART pipeline",
          "Heart CART pipeline",
          "Heart CART pipeline",
          "Heart CART pipeline",
          "Heart CART pipeline",
          "Heart CART pipeline",
          "Heart CART pipeline",
          "Heart CART pipeline",
          "Heart CART pipeline",
          "Heart CART pipeline",
          "Heart CART pipeline",
          "Heart CART pipeline",
          "Heart CART pipeline",
          "Heart CART pipeline",
          "Heart CART pipeline",
          "Heart CART pipeline",
          "Heart CART pipeline",
          "Heart CART pipeline",
          "Heart CART pipeline",
          "Heart CART pipeline",
          "Heart CART pipeline"
         ],
         "legendgroup": "Heart CART pipeline",
         "line": {
          "color": "#8bdcbe",
          "dash": "solid",
          "width": 2
         },
         "marker": {
          "symbol": "circle"
         },
         "mode": "lines",
         "name": "Heart CART pipeline",
         "opacity": 1,
         "orientation": "v",
         "showlegend": true,
         "type": "scatter",
         "x": [
          28,
          28.47,
          28.94,
          29.41,
          29.88,
          30.35,
          30.82,
          31.29,
          31.759999999999998,
          32.23,
          32.7,
          33.17,
          33.64,
          34.11,
          34.58,
          35.05,
          35.519999999999996,
          35.99,
          36.46,
          36.93,
          37.4,
          37.87,
          38.34,
          38.81,
          39.28,
          39.75,
          40.22,
          40.69,
          41.16,
          41.629999999999995,
          42.1,
          42.57,
          43.04,
          43.51,
          43.98,
          44.45,
          44.92,
          45.39,
          45.86,
          46.33,
          46.8,
          47.269999999999996,
          47.739999999999995,
          48.209999999999994,
          48.68,
          49.15,
          49.62,
          50.09,
          50.56,
          51.03,
          51.5,
          51.97,
          52.44,
          52.91,
          53.379999999999995,
          53.849999999999994,
          54.32,
          54.79,
          55.26,
          55.73,
          56.2,
          56.67,
          57.14,
          57.61,
          58.08,
          58.55,
          59.019999999999996,
          59.489999999999995,
          59.959999999999994,
          60.43,
          60.9,
          61.37,
          61.839999999999996,
          62.309999999999995,
          62.78,
          63.25,
          63.72,
          64.19,
          64.66,
          65.13,
          65.6,
          66.07,
          66.53999999999999,
          67.00999999999999,
          67.47999999999999,
          67.94999999999999,
          68.41999999999999,
          68.89,
          69.36,
          69.83,
          70.3,
          70.77,
          71.24,
          71.71000000000001,
          72.18,
          72.65,
          73.12,
          73.59,
          74.06,
          74.53,
          75
         ],
         "xaxis": "x",
         "y": [
          0.49,
          0.49,
          0.49,
          0.49,
          0.49,
          0.49,
          0.49,
          0.49,
          0.49,
          0.49,
          0.49,
          0.49,
          0.49,
          0.49,
          0.48,
          0.48,
          0.48,
          0.48,
          0.48,
          0.48,
          0.48,
          0.48,
          0.48,
          0.48,
          0.48,
          0.48,
          0.48,
          0.48,
          0.48,
          0.48,
          0.48,
          0.48,
          0.48,
          0.48,
          0.48,
          0.48,
          0.48,
          0.48,
          0.48,
          0.48,
          0.48,
          0.48,
          0.48,
          0.48,
          0.48,
          0.48,
          0.48,
          0.48,
          0.48,
          0.47,
          0.47,
          0.47,
          0.47,
          0.46,
          0.46,
          0.46,
          0.46,
          0.45,
          0.45,
          0.5566666666666666,
          0.5566666666666666,
          0.64,
          0.68,
          0.68,
          0.68,
          0.6533333333333333,
          0.6533333333333333,
          0.6533333333333333,
          0.6533333333333333,
          0.6533333333333333,
          0.6233333333333333,
          0.6233333333333333,
          0.64,
          0.64,
          0.64,
          0.64,
          0.64,
          0.5833333333333334,
          0.6366666666666667,
          0.6366666666666667,
          0.6833333333333333,
          0.6833333333333333,
          0.6833333333333333,
          0.6833333333333333,
          0.6833333333333333,
          0.6833333333333333,
          0.6833333333333333,
          0.6833333333333333,
          0.6833333333333333,
          0.6833333333333333,
          0.6833333333333333,
          0.6833333333333333,
          0.6833333333333333,
          0.6833333333333333,
          0.6833333333333333,
          0.44666666666666666,
          0.44666666666666666,
          0.44666666666666666,
          0.44666666666666666,
          0.44666666666666666,
          0.44666666666666666
         ],
         "yaxis": "y"
        },
        {
         "customdata": [
          [
           0.49333333333333335,
           "Heart CART pipeline",
           "chol"
          ],
          [
           0.49333333333333335,
           "Heart CART pipeline",
           "chol"
          ],
          [
           0.49333333333333335,
           "Heart CART pipeline",
           "chol"
          ],
          [
           0.49333333333333335,
           "Heart CART pipeline",
           "chol"
          ],
          [
           0.49333333333333335,
           "Heart CART pipeline",
           "chol"
          ],
          [
           0.49333333333333335,
           "Heart CART pipeline",
           "chol"
          ],
          [
           0.49333333333333335,
           "Heart CART pipeline",
           "chol"
          ],
          [
           0.49333333333333335,
           "Heart CART pipeline",
           "chol"
          ],
          [
           0.49333333333333335,
           "Heart CART pipeline",
           "chol"
          ],
          [
           0.49333333333333335,
           "Heart CART pipeline",
           "chol"
          ],
          [
           0.49333333333333335,
           "Heart CART pipeline",
           "chol"
          ],
          [
           0.49333333333333335,
           "Heart CART pipeline",
           "chol"
          ],
          [
           0.49333333333333335,
           "Heart CART pipeline",
           "chol"
          ],
          [
           0.49333333333333335,
           "Heart CART pipeline",
           "chol"
          ],
          [
           0.49333333333333335,
           "Heart CART pipeline",
           "chol"
          ],
          [
           0.49333333333333335,
           "Heart CART pipeline",
           "chol"
          ],
          [
           0.49333333333333335,
           "Heart CART pipeline",
           "chol"
          ],
          [
           0.49333333333333335,
           "Heart CART pipeline",
           "chol"
          ],
          [
           0.49333333333333335,
           "Heart CART pipeline",
           "chol"
          ],
          [
           0.49333333333333335,
           "Heart CART pipeline",
           "chol"
          ],
          [
           0.49333333333333335,
           "Heart CART pipeline",
           "chol"
          ],
          [
           0.49333333333333335,
           "Heart CART pipeline",
           "chol"
          ],
          [
           0.49333333333333335,
           "Heart CART pipeline",
           "chol"
          ],
          [
           0.49333333333333335,
           "Heart CART pipeline",
           "chol"
          ],
          [
           0.49333333333333335,
           "Heart CART pipeline",
           "chol"
          ],
          [
           0.49333333333333335,
           "Heart CART pipeline",
           "chol"
          ],
          [
           0.49333333333333335,
           "Heart CART pipeline",
           "chol"
          ],
          [
           0.49333333333333335,
           "Heart CART pipeline",
           "chol"
          ],
          [
           0.49333333333333335,
           "Heart CART pipeline",
           "chol"
          ],
          [
           0.49333333333333335,
           "Heart CART pipeline",
           "chol"
          ],
          [
           0.49333333333333335,
           "Heart CART pipeline",
           "chol"
          ],
          [
           0.49333333333333335,
           "Heart CART pipeline",
           "chol"
          ],
          [
           0.49333333333333335,
           "Heart CART pipeline",
           "chol"
          ],
          [
           0.49333333333333335,
           "Heart CART pipeline",
           "chol"
          ],
          [
           0.49333333333333335,
           "Heart CART pipeline",
           "chol"
          ],
          [
           0.49333333333333335,
           "Heart CART pipeline",
           "chol"
          ],
          [
           0.49333333333333335,
           "Heart CART pipeline",
           "chol"
          ],
          [
           0.49333333333333335,
           "Heart CART pipeline",
           "chol"
          ],
          [
           0.49333333333333335,
           "Heart CART pipeline",
           "chol"
          ],
          [
           0.49333333333333335,
           "Heart CART pipeline",
           "chol"
          ],
          [
           0.49333333333333335,
           "Heart CART pipeline",
           "chol"
          ],
          [
           0.49333333333333335,
           "Heart CART pipeline",
           "chol"
          ],
          [
           0.49333333333333335,
           "Heart CART pipeline",
           "chol"
          ],
          [
           0.49333333333333335,
           "Heart CART pipeline",
           "chol"
          ],
          [
           0.49333333333333335,
           "Heart CART pipeline",
           "chol"
          ],
          [
           0.49333333333333335,
           "Heart CART pipeline",
           "chol"
          ],
          [
           0.49333333333333335,
           "Heart CART pipeline",
           "chol"
          ],
          [
           0.49333333333333335,
           "Heart CART pipeline",
           "chol"
          ],
          [
           0.49333333333333335,
           "Heart CART pipeline",
           "chol"
          ],
          [
           0.49333333333333335,
           "Heart CART pipeline",
           "chol"
          ],
          [
           0.49333333333333335,
           "Heart CART pipeline",
           "chol"
          ],
          [
           0.49333333333333335,
           "Heart CART pipeline",
           "chol"
          ],
          [
           0.49333333333333335,
           "Heart CART pipeline",
           "chol"
          ],
          [
           0.49333333333333335,
           "Heart CART pipeline",
           "chol"
          ],
          [
           0.49333333333333335,
           "Heart CART pipeline",
           "chol"
          ],
          [
           0.49333333333333335,
           "Heart CART pipeline",
           "chol"
          ],
          [
           0.49333333333333335,
           "Heart CART pipeline",
           "chol"
          ],
          [
           0.49333333333333335,
           "Heart CART pipeline",
           "chol"
          ],
          [
           0.49333333333333335,
           "Heart CART pipeline",
           "chol"
          ],
          [
           0.49333333333333335,
           "Heart CART pipeline",
           "chol"
          ],
          [
           0.49333333333333335,
           "Heart CART pipeline",
           "chol"
          ],
          [
           0.49333333333333335,
           "Heart CART pipeline",
           "chol"
          ],
          [
           0.49333333333333335,
           "Heart CART pipeline",
           "chol"
          ],
          [
           0.49333333333333335,
           "Heart CART pipeline",
           "chol"
          ],
          [
           0.49333333333333335,
           "Heart CART pipeline",
           "chol"
          ],
          [
           0.49333333333333335,
           "Heart CART pipeline",
           "chol"
          ],
          [
           0.49333333333333335,
           "Heart CART pipeline",
           "chol"
          ],
          [
           0.49333333333333335,
           "Heart CART pipeline",
           "chol"
          ],
          [
           0.49333333333333335,
           "Heart CART pipeline",
           "chol"
          ],
          [
           0.49333333333333335,
           "Heart CART pipeline",
           "chol"
          ],
          [
           0.49333333333333335,
           "Heart CART pipeline",
           "chol"
          ],
          [
           0.49333333333333335,
           "Heart CART pipeline",
           "chol"
          ],
          [
           0.49333333333333335,
           "Heart CART pipeline",
           "chol"
          ],
          [
           0.49333333333333335,
           "Heart CART pipeline",
           "chol"
          ],
          [
           0.49333333333333335,
           "Heart CART pipeline",
           "chol"
          ],
          [
           0.49333333333333335,
           "Heart CART pipeline",
           "chol"
          ],
          [
           0.49333333333333335,
           "Heart CART pipeline",
           "chol"
          ],
          [
           0.49333333333333335,
           "Heart CART pipeline",
           "chol"
          ],
          [
           0.49333333333333335,
           "Heart CART pipeline",
           "chol"
          ],
          [
           0.49333333333333335,
           "Heart CART pipeline",
           "chol"
          ],
          [
           0.49333333333333335,
           "Heart CART pipeline",
           "chol"
          ],
          [
           0.49333333333333335,
           "Heart CART pipeline",
           "chol"
          ],
          [
           0.49333333333333335,
           "Heart CART pipeline",
           "chol"
          ],
          [
           0.49333333333333335,
           "Heart CART pipeline",
           "chol"
          ],
          [
           0.49333333333333335,
           "Heart CART pipeline",
           "chol"
          ],
          [
           0.49333333333333335,
           "Heart CART pipeline",
           "chol"
          ],
          [
           0.49333333333333335,
           "Heart CART pipeline",
           "chol"
          ],
          [
           0.49333333333333335,
           "Heart CART pipeline",
           "chol"
          ],
          [
           0.49333333333333335,
           "Heart CART pipeline",
           "chol"
          ],
          [
           0.49333333333333335,
           "Heart CART pipeline",
           "chol"
          ],
          [
           0.49333333333333335,
           "Heart CART pipeline",
           "chol"
          ],
          [
           0.49333333333333335,
           "Heart CART pipeline",
           "chol"
          ],
          [
           0.49333333333333335,
           "Heart CART pipeline",
           "chol"
          ],
          [
           0.49333333333333335,
           "Heart CART pipeline",
           "chol"
          ],
          [
           0.49333333333333335,
           "Heart CART pipeline",
           "chol"
          ],
          [
           0.49333333333333335,
           "Heart CART pipeline",
           "chol"
          ],
          [
           0.49333333333333335,
           "Heart CART pipeline",
           "chol"
          ],
          [
           0.49333333333333335,
           "Heart CART pipeline",
           "chol"
          ],
          [
           0.49333333333333335,
           "Heart CART pipeline",
           "chol"
          ],
          [
           0.49333333333333335,
           "Heart CART pipeline",
           "chol"
          ],
          [
           0.49333333333333335,
           "Heart CART pipeline",
           "chol"
          ]
         ],
         "hovertemplate": "<b>%{hovertext}</b><br><br>prediction=%{y:.3f}<br>mean_prediction=%{customdata[0]:.3f}<extra></extra>",
         "hovertext": [
          "Heart CART pipeline",
          "Heart CART pipeline",
          "Heart CART pipeline",
          "Heart CART pipeline",
          "Heart CART pipeline",
          "Heart CART pipeline",
          "Heart CART pipeline",
          "Heart CART pipeline",
          "Heart CART pipeline",
          "Heart CART pipeline",
          "Heart CART pipeline",
          "Heart CART pipeline",
          "Heart CART pipeline",
          "Heart CART pipeline",
          "Heart CART pipeline",
          "Heart CART pipeline",
          "Heart CART pipeline",
          "Heart CART pipeline",
          "Heart CART pipeline",
          "Heart CART pipeline",
          "Heart CART pipeline",
          "Heart CART pipeline",
          "Heart CART pipeline",
          "Heart CART pipeline",
          "Heart CART pipeline",
          "Heart CART pipeline",
          "Heart CART pipeline",
          "Heart CART pipeline",
          "Heart CART pipeline",
          "Heart CART pipeline",
          "Heart CART pipeline",
          "Heart CART pipeline",
          "Heart CART pipeline",
          "Heart CART pipeline",
          "Heart CART pipeline",
          "Heart CART pipeline",
          "Heart CART pipeline",
          "Heart CART pipeline",
          "Heart CART pipeline",
          "Heart CART pipeline",
          "Heart CART pipeline",
          "Heart CART pipeline",
          "Heart CART pipeline",
          "Heart CART pipeline",
          "Heart CART pipeline",
          "Heart CART pipeline",
          "Heart CART pipeline",
          "Heart CART pipeline",
          "Heart CART pipeline",
          "Heart CART pipeline",
          "Heart CART pipeline",
          "Heart CART pipeline",
          "Heart CART pipeline",
          "Heart CART pipeline",
          "Heart CART pipeline",
          "Heart CART pipeline",
          "Heart CART pipeline",
          "Heart CART pipeline",
          "Heart CART pipeline",
          "Heart CART pipeline",
          "Heart CART pipeline",
          "Heart CART pipeline",
          "Heart CART pipeline",
          "Heart CART pipeline",
          "Heart CART pipeline",
          "Heart CART pipeline",
          "Heart CART pipeline",
          "Heart CART pipeline",
          "Heart CART pipeline",
          "Heart CART pipeline",
          "Heart CART pipeline",
          "Heart CART pipeline",
          "Heart CART pipeline",
          "Heart CART pipeline",
          "Heart CART pipeline",
          "Heart CART pipeline",
          "Heart CART pipeline",
          "Heart CART pipeline",
          "Heart CART pipeline",
          "Heart CART pipeline",
          "Heart CART pipeline",
          "Heart CART pipeline",
          "Heart CART pipeline",
          "Heart CART pipeline",
          "Heart CART pipeline",
          "Heart CART pipeline",
          "Heart CART pipeline",
          "Heart CART pipeline",
          "Heart CART pipeline",
          "Heart CART pipeline",
          "Heart CART pipeline",
          "Heart CART pipeline",
          "Heart CART pipeline",
          "Heart CART pipeline",
          "Heart CART pipeline",
          "Heart CART pipeline",
          "Heart CART pipeline",
          "Heart CART pipeline",
          "Heart CART pipeline",
          "Heart CART pipeline",
          "Heart CART pipeline"
         ],
         "legendgroup": "Heart CART pipeline",
         "line": {
          "color": "#8bdcbe",
          "dash": "solid",
          "width": 2
         },
         "marker": {
          "symbol": "circle"
         },
         "mode": "lines",
         "name": "Heart CART pipeline",
         "opacity": 1,
         "orientation": "v",
         "showlegend": false,
         "type": "scatter",
         "x": [
          0,
          6.03,
          12.06,
          18.09,
          24.12,
          30.150000000000002,
          36.18,
          42.21,
          48.24,
          54.27,
          60.300000000000004,
          66.33,
          72.36,
          78.39,
          84.42,
          90.45,
          96.48,
          102.51,
          108.54,
          114.57000000000001,
          120.60000000000001,
          126.63000000000001,
          132.66,
          138.69,
          144.72,
          150.75,
          156.78,
          162.81,
          168.84,
          174.87,
          180.9,
          186.93,
          192.96,
          198.99,
          205.02,
          211.05,
          217.08,
          223.11,
          229.14000000000001,
          235.17000000000002,
          241.20000000000002,
          247.23000000000002,
          253.26000000000002,
          259.29,
          265.32,
          271.35,
          277.38,
          283.41,
          289.44,
          295.47,
          301.5,
          307.53000000000003,
          313.56,
          319.59000000000003,
          325.62,
          331.65000000000003,
          337.68,
          343.71000000000004,
          349.74,
          355.77000000000004,
          361.8,
          367.83000000000004,
          373.86,
          379.89000000000004,
          385.92,
          391.95,
          397.98,
          404.01,
          410.04,
          416.07,
          422.1,
          428.13,
          434.16,
          440.19,
          446.22,
          452.25,
          458.28000000000003,
          464.31,
          470.34000000000003,
          476.37,
          482.40000000000003,
          488.43,
          494.46000000000004,
          500.49,
          506.52000000000004,
          512.5500000000001,
          518.58,
          524.61,
          530.64,
          536.6700000000001,
          542.7,
          548.73,
          554.76,
          560.7900000000001,
          566.82,
          572.85,
          578.88,
          584.91,
          590.94,
          596.97,
          603
         ],
         "xaxis": "x2",
         "y": [
          0.4866666666666667,
          0.4866666666666667,
          0.4866666666666667,
          0.4866666666666667,
          0.4866666666666667,
          0.4866666666666667,
          0.4866666666666667,
          0.4866666666666667,
          0.4866666666666667,
          0.4866666666666667,
          0.4866666666666667,
          0.4866666666666667,
          0.4866666666666667,
          0.4866666666666667,
          0.4866666666666667,
          0.4866666666666667,
          0.4866666666666667,
          0.4866666666666667,
          0.4866666666666667,
          0.4866666666666667,
          0.4866666666666667,
          0.4866666666666667,
          0.4866666666666667,
          0.4866666666666667,
          0.4866666666666667,
          0.4866666666666667,
          0.4866666666666667,
          0.4866666666666667,
          0.49666666666666665,
          0.49666666666666665,
          0.5033333333333333,
          0.49666666666666665,
          0.49666666666666665,
          0.5266666666666666,
          0.5266666666666666,
          0.5066666666666667,
          0.4766666666666667,
          0.43666666666666665,
          0.43666666666666665,
          0.43666666666666665,
          0.43666666666666665,
          0.47,
          0.4633333333333333,
          0.49666666666666665,
          0.5966666666666667,
          0.52,
          0.5266666666666666,
          0.5266666666666666,
          0.5266666666666666,
          0.5266666666666666,
          0.49333333333333335,
          0.49333333333333335,
          0.49333333333333335,
          0.49333333333333335,
          0.49333333333333335,
          0.49333333333333335,
          0.49333333333333335,
          0.48333333333333334,
          0.48333333333333334,
          0.48333333333333334,
          0.48333333333333334,
          0.48333333333333334,
          0.48333333333333334,
          0.48333333333333334,
          0.48333333333333334,
          0.48333333333333334,
          0.48333333333333334,
          0.48333333333333334,
          0.48333333333333334,
          0.48333333333333334,
          0.48333333333333334,
          0.48333333333333334,
          0.5666666666666667,
          0.5666666666666667,
          0.5666666666666667,
          0.5666666666666667,
          0.5666666666666667,
          0.5666666666666667,
          0.5666666666666667,
          0.5866666666666667,
          0.5866666666666667,
          0.5866666666666667,
          0.5866666666666667,
          0.5866666666666667,
          0.5866666666666667,
          0.5866666666666667,
          0.5866666666666667,
          0.5866666666666667,
          0.5866666666666667,
          0.5866666666666667,
          0.5866666666666667,
          0.5866666666666667,
          0.5866666666666667,
          0.5866666666666667,
          0.5866666666666667,
          0.5866666666666667,
          0.5866666666666667,
          0.5866666666666667,
          0.5866666666666667,
          0.5866666666666667,
          0.5866666666666667
         ],
         "yaxis": "y2"
        },
        {
         "customdata": [
          [
           0.6196407112611465,
           "Heart LR pipeline",
           "Age"
          ],
          [
           0.6196407112611465,
           "Heart LR pipeline",
           "Age"
          ],
          [
           0.6196407112611465,
           "Heart LR pipeline",
           "Age"
          ],
          [
           0.6196407112611465,
           "Heart LR pipeline",
           "Age"
          ],
          [
           0.6196407112611465,
           "Heart LR pipeline",
           "Age"
          ],
          [
           0.6196407112611465,
           "Heart LR pipeline",
           "Age"
          ],
          [
           0.6196407112611465,
           "Heart LR pipeline",
           "Age"
          ],
          [
           0.6196407112611465,
           "Heart LR pipeline",
           "Age"
          ],
          [
           0.6196407112611465,
           "Heart LR pipeline",
           "Age"
          ],
          [
           0.6196407112611465,
           "Heart LR pipeline",
           "Age"
          ],
          [
           0.6196407112611465,
           "Heart LR pipeline",
           "Age"
          ],
          [
           0.6196407112611465,
           "Heart LR pipeline",
           "Age"
          ],
          [
           0.6196407112611465,
           "Heart LR pipeline",
           "Age"
          ],
          [
           0.6196407112611465,
           "Heart LR pipeline",
           "Age"
          ],
          [
           0.6196407112611465,
           "Heart LR pipeline",
           "Age"
          ],
          [
           0.6196407112611465,
           "Heart LR pipeline",
           "Age"
          ],
          [
           0.6196407112611465,
           "Heart LR pipeline",
           "Age"
          ],
          [
           0.6196407112611465,
           "Heart LR pipeline",
           "Age"
          ],
          [
           0.6196407112611465,
           "Heart LR pipeline",
           "Age"
          ],
          [
           0.6196407112611465,
           "Heart LR pipeline",
           "Age"
          ],
          [
           0.6196407112611465,
           "Heart LR pipeline",
           "Age"
          ],
          [
           0.6196407112611465,
           "Heart LR pipeline",
           "Age"
          ],
          [
           0.6196407112611465,
           "Heart LR pipeline",
           "Age"
          ],
          [
           0.6196407112611465,
           "Heart LR pipeline",
           "Age"
          ],
          [
           0.6196407112611465,
           "Heart LR pipeline",
           "Age"
          ],
          [
           0.6196407112611465,
           "Heart LR pipeline",
           "Age"
          ],
          [
           0.6196407112611465,
           "Heart LR pipeline",
           "Age"
          ],
          [
           0.6196407112611465,
           "Heart LR pipeline",
           "Age"
          ],
          [
           0.6196407112611465,
           "Heart LR pipeline",
           "Age"
          ],
          [
           0.6196407112611465,
           "Heart LR pipeline",
           "Age"
          ],
          [
           0.6196407112611465,
           "Heart LR pipeline",
           "Age"
          ],
          [
           0.6196407112611465,
           "Heart LR pipeline",
           "Age"
          ],
          [
           0.6196407112611465,
           "Heart LR pipeline",
           "Age"
          ],
          [
           0.6196407112611465,
           "Heart LR pipeline",
           "Age"
          ],
          [
           0.6196407112611465,
           "Heart LR pipeline",
           "Age"
          ],
          [
           0.6196407112611465,
           "Heart LR pipeline",
           "Age"
          ],
          [
           0.6196407112611465,
           "Heart LR pipeline",
           "Age"
          ],
          [
           0.6196407112611465,
           "Heart LR pipeline",
           "Age"
          ],
          [
           0.6196407112611465,
           "Heart LR pipeline",
           "Age"
          ],
          [
           0.6196407112611465,
           "Heart LR pipeline",
           "Age"
          ],
          [
           0.6196407112611465,
           "Heart LR pipeline",
           "Age"
          ],
          [
           0.6196407112611465,
           "Heart LR pipeline",
           "Age"
          ],
          [
           0.6196407112611465,
           "Heart LR pipeline",
           "Age"
          ],
          [
           0.6196407112611465,
           "Heart LR pipeline",
           "Age"
          ],
          [
           0.6196407112611465,
           "Heart LR pipeline",
           "Age"
          ],
          [
           0.6196407112611465,
           "Heart LR pipeline",
           "Age"
          ],
          [
           0.6196407112611465,
           "Heart LR pipeline",
           "Age"
          ],
          [
           0.6196407112611465,
           "Heart LR pipeline",
           "Age"
          ],
          [
           0.6196407112611465,
           "Heart LR pipeline",
           "Age"
          ],
          [
           0.6196407112611465,
           "Heart LR pipeline",
           "Age"
          ],
          [
           0.6196407112611465,
           "Heart LR pipeline",
           "Age"
          ],
          [
           0.6196407112611465,
           "Heart LR pipeline",
           "Age"
          ],
          [
           0.6196407112611465,
           "Heart LR pipeline",
           "Age"
          ],
          [
           0.6196407112611465,
           "Heart LR pipeline",
           "Age"
          ],
          [
           0.6196407112611465,
           "Heart LR pipeline",
           "Age"
          ],
          [
           0.6196407112611465,
           "Heart LR pipeline",
           "Age"
          ],
          [
           0.6196407112611465,
           "Heart LR pipeline",
           "Age"
          ],
          [
           0.6196407112611465,
           "Heart LR pipeline",
           "Age"
          ],
          [
           0.6196407112611465,
           "Heart LR pipeline",
           "Age"
          ],
          [
           0.6196407112611465,
           "Heart LR pipeline",
           "Age"
          ],
          [
           0.6196407112611465,
           "Heart LR pipeline",
           "Age"
          ],
          [
           0.6196407112611465,
           "Heart LR pipeline",
           "Age"
          ],
          [
           0.6196407112611465,
           "Heart LR pipeline",
           "Age"
          ],
          [
           0.6196407112611465,
           "Heart LR pipeline",
           "Age"
          ],
          [
           0.6196407112611465,
           "Heart LR pipeline",
           "Age"
          ],
          [
           0.6196407112611465,
           "Heart LR pipeline",
           "Age"
          ],
          [
           0.6196407112611465,
           "Heart LR pipeline",
           "Age"
          ],
          [
           0.6196407112611465,
           "Heart LR pipeline",
           "Age"
          ],
          [
           0.6196407112611465,
           "Heart LR pipeline",
           "Age"
          ],
          [
           0.6196407112611465,
           "Heart LR pipeline",
           "Age"
          ],
          [
           0.6196407112611465,
           "Heart LR pipeline",
           "Age"
          ],
          [
           0.6196407112611465,
           "Heart LR pipeline",
           "Age"
          ],
          [
           0.6196407112611465,
           "Heart LR pipeline",
           "Age"
          ],
          [
           0.6196407112611465,
           "Heart LR pipeline",
           "Age"
          ],
          [
           0.6196407112611465,
           "Heart LR pipeline",
           "Age"
          ],
          [
           0.6196407112611465,
           "Heart LR pipeline",
           "Age"
          ],
          [
           0.6196407112611465,
           "Heart LR pipeline",
           "Age"
          ],
          [
           0.6196407112611465,
           "Heart LR pipeline",
           "Age"
          ],
          [
           0.6196407112611465,
           "Heart LR pipeline",
           "Age"
          ],
          [
           0.6196407112611465,
           "Heart LR pipeline",
           "Age"
          ],
          [
           0.6196407112611465,
           "Heart LR pipeline",
           "Age"
          ],
          [
           0.6196407112611465,
           "Heart LR pipeline",
           "Age"
          ],
          [
           0.6196407112611465,
           "Heart LR pipeline",
           "Age"
          ],
          [
           0.6196407112611465,
           "Heart LR pipeline",
           "Age"
          ],
          [
           0.6196407112611465,
           "Heart LR pipeline",
           "Age"
          ],
          [
           0.6196407112611465,
           "Heart LR pipeline",
           "Age"
          ],
          [
           0.6196407112611465,
           "Heart LR pipeline",
           "Age"
          ],
          [
           0.6196407112611465,
           "Heart LR pipeline",
           "Age"
          ],
          [
           0.6196407112611465,
           "Heart LR pipeline",
           "Age"
          ],
          [
           0.6196407112611465,
           "Heart LR pipeline",
           "Age"
          ],
          [
           0.6196407112611465,
           "Heart LR pipeline",
           "Age"
          ],
          [
           0.6196407112611465,
           "Heart LR pipeline",
           "Age"
          ],
          [
           0.6196407112611465,
           "Heart LR pipeline",
           "Age"
          ],
          [
           0.6196407112611465,
           "Heart LR pipeline",
           "Age"
          ],
          [
           0.6196407112611465,
           "Heart LR pipeline",
           "Age"
          ],
          [
           0.6196407112611465,
           "Heart LR pipeline",
           "Age"
          ],
          [
           0.6196407112611465,
           "Heart LR pipeline",
           "Age"
          ],
          [
           0.6196407112611465,
           "Heart LR pipeline",
           "Age"
          ],
          [
           0.6196407112611465,
           "Heart LR pipeline",
           "Age"
          ],
          [
           0.6196407112611465,
           "Heart LR pipeline",
           "Age"
          ],
          [
           0.6196407112611465,
           "Heart LR pipeline",
           "Age"
          ]
         ],
         "hovertemplate": "<b>%{hovertext}</b><br><br>prediction=%{y:.3f}<br>mean_prediction=%{customdata[0]:.3f}<extra></extra>",
         "hovertext": [
          "Heart LR pipeline",
          "Heart LR pipeline",
          "Heart LR pipeline",
          "Heart LR pipeline",
          "Heart LR pipeline",
          "Heart LR pipeline",
          "Heart LR pipeline",
          "Heart LR pipeline",
          "Heart LR pipeline",
          "Heart LR pipeline",
          "Heart LR pipeline",
          "Heart LR pipeline",
          "Heart LR pipeline",
          "Heart LR pipeline",
          "Heart LR pipeline",
          "Heart LR pipeline",
          "Heart LR pipeline",
          "Heart LR pipeline",
          "Heart LR pipeline",
          "Heart LR pipeline",
          "Heart LR pipeline",
          "Heart LR pipeline",
          "Heart LR pipeline",
          "Heart LR pipeline",
          "Heart LR pipeline",
          "Heart LR pipeline",
          "Heart LR pipeline",
          "Heart LR pipeline",
          "Heart LR pipeline",
          "Heart LR pipeline",
          "Heart LR pipeline",
          "Heart LR pipeline",
          "Heart LR pipeline",
          "Heart LR pipeline",
          "Heart LR pipeline",
          "Heart LR pipeline",
          "Heart LR pipeline",
          "Heart LR pipeline",
          "Heart LR pipeline",
          "Heart LR pipeline",
          "Heart LR pipeline",
          "Heart LR pipeline",
          "Heart LR pipeline",
          "Heart LR pipeline",
          "Heart LR pipeline",
          "Heart LR pipeline",
          "Heart LR pipeline",
          "Heart LR pipeline",
          "Heart LR pipeline",
          "Heart LR pipeline",
          "Heart LR pipeline",
          "Heart LR pipeline",
          "Heart LR pipeline",
          "Heart LR pipeline",
          "Heart LR pipeline",
          "Heart LR pipeline",
          "Heart LR pipeline",
          "Heart LR pipeline",
          "Heart LR pipeline",
          "Heart LR pipeline",
          "Heart LR pipeline",
          "Heart LR pipeline",
          "Heart LR pipeline",
          "Heart LR pipeline",
          "Heart LR pipeline",
          "Heart LR pipeline",
          "Heart LR pipeline",
          "Heart LR pipeline",
          "Heart LR pipeline",
          "Heart LR pipeline",
          "Heart LR pipeline",
          "Heart LR pipeline",
          "Heart LR pipeline",
          "Heart LR pipeline",
          "Heart LR pipeline",
          "Heart LR pipeline",
          "Heart LR pipeline",
          "Heart LR pipeline",
          "Heart LR pipeline",
          "Heart LR pipeline",
          "Heart LR pipeline",
          "Heart LR pipeline",
          "Heart LR pipeline",
          "Heart LR pipeline",
          "Heart LR pipeline",
          "Heart LR pipeline",
          "Heart LR pipeline",
          "Heart LR pipeline",
          "Heart LR pipeline",
          "Heart LR pipeline",
          "Heart LR pipeline",
          "Heart LR pipeline",
          "Heart LR pipeline",
          "Heart LR pipeline",
          "Heart LR pipeline",
          "Heart LR pipeline",
          "Heart LR pipeline",
          "Heart LR pipeline",
          "Heart LR pipeline",
          "Heart LR pipeline",
          "Heart LR pipeline"
         ],
         "legendgroup": "Heart LR pipeline",
         "line": {
          "color": "#4378bf",
          "dash": "solid",
          "width": 2
         },
         "marker": {
          "symbol": "circle"
         },
         "mode": "lines",
         "name": "Heart LR pipeline",
         "opacity": 1,
         "orientation": "v",
         "showlegend": true,
         "type": "scatter",
         "x": [
          28,
          28.47,
          28.94,
          29.41,
          29.88,
          30.35,
          30.82,
          31.29,
          31.759999999999998,
          32.23,
          32.7,
          33.17,
          33.64,
          34.11,
          34.58,
          35.05,
          35.519999999999996,
          35.99,
          36.46,
          36.93,
          37.4,
          37.87,
          38.34,
          38.81,
          39.28,
          39.75,
          40.22,
          40.69,
          41.16,
          41.629999999999995,
          42.1,
          42.57,
          43.04,
          43.51,
          43.98,
          44.45,
          44.92,
          45.39,
          45.86,
          46.33,
          46.8,
          47.269999999999996,
          47.739999999999995,
          48.209999999999994,
          48.68,
          49.15,
          49.62,
          50.09,
          50.56,
          51.03,
          51.5,
          51.97,
          52.44,
          52.91,
          53.379999999999995,
          53.849999999999994,
          54.32,
          54.79,
          55.26,
          55.73,
          56.2,
          56.67,
          57.14,
          57.61,
          58.08,
          58.55,
          59.019999999999996,
          59.489999999999995,
          59.959999999999994,
          60.43,
          60.9,
          61.37,
          61.839999999999996,
          62.309999999999995,
          62.78,
          63.25,
          63.72,
          64.19,
          64.66,
          65.13,
          65.6,
          66.07,
          66.53999999999999,
          67.00999999999999,
          67.47999999999999,
          67.94999999999999,
          68.41999999999999,
          68.89,
          69.36,
          69.83,
          70.3,
          70.77,
          71.24,
          71.71000000000001,
          72.18,
          72.65,
          73.12,
          73.59,
          74.06,
          74.53,
          75
         ],
         "xaxis": "x",
         "y": [
          0.6196407112611492,
          0.6196407112611492,
          0.6196407112611492,
          0.6196407112611492,
          0.6196407112611492,
          0.6196407112611492,
          0.6196407112611492,
          0.6196407112611492,
          0.6196407112611492,
          0.6196407112611492,
          0.6196407112611492,
          0.6196407112611492,
          0.6196407112611492,
          0.6196407112611492,
          0.6196407112611492,
          0.6196407112611492,
          0.6196407112611492,
          0.6196407112611492,
          0.6196407112611492,
          0.6196407112611492,
          0.6196407112611492,
          0.6196407112611492,
          0.6196407112611492,
          0.6196407112611492,
          0.6196407112611492,
          0.6196407112611492,
          0.6196407112611492,
          0.6196407112611492,
          0.6196407112611492,
          0.6196407112611492,
          0.6196407112611492,
          0.6196407112611492,
          0.6196407112611492,
          0.6196407112611492,
          0.6196407112611492,
          0.6196407112611492,
          0.6196407112611492,
          0.6196407112611492,
          0.6196407112611492,
          0.6196407112611492,
          0.6196407112611492,
          0.6196407112611492,
          0.6196407112611492,
          0.6196407112611492,
          0.6196407112611492,
          0.6196407112611492,
          0.6196407112611492,
          0.6196407112611492,
          0.6196407112611492,
          0.6196407112611492,
          0.6196407112611492,
          0.6196407112611492,
          0.6196407112611492,
          0.6196407112611492,
          0.6196407112611492,
          0.6196407112611492,
          0.6196407112611492,
          0.6196407112611492,
          0.6196407112611492,
          0.6196407112611492,
          0.6196407112611492,
          0.6196407112611492,
          0.6196407112611492,
          0.6196407112611492,
          0.6196407112611492,
          0.6196407112611492,
          0.6196407112611492,
          0.6196407112611492,
          0.6196407112611492,
          0.6196407112611492,
          0.6196407112611492,
          0.6196407112611492,
          0.6196407112611492,
          0.6196407112611492,
          0.6196407112611492,
          0.6196407112611492,
          0.6196407112611492,
          0.6196407112611492,
          0.6196407112611492,
          0.6196407112611492,
          0.6196407112611492,
          0.6196407112611492,
          0.6196407112611492,
          0.6196407112611492,
          0.6196407112611492,
          0.6196407112611492,
          0.6196407112611492,
          0.6196407112611492,
          0.6196407112611492,
          0.6196407112611492,
          0.6196407112611492,
          0.6196407112611492,
          0.6196407112611492,
          0.6196407112611492,
          0.6196407112611492,
          0.6196407112611492,
          0.6196407112611492,
          0.6196407112611492,
          0.6196407112611492,
          0.6196407112611492,
          0.6196407112611492
         ],
         "yaxis": "y"
        },
        {
         "customdata": [
          [
           0.6196407112611465,
           "Heart LR pipeline",
           "chol"
          ],
          [
           0.6196407112611465,
           "Heart LR pipeline",
           "chol"
          ],
          [
           0.6196407112611465,
           "Heart LR pipeline",
           "chol"
          ],
          [
           0.6196407112611465,
           "Heart LR pipeline",
           "chol"
          ],
          [
           0.6196407112611465,
           "Heart LR pipeline",
           "chol"
          ],
          [
           0.6196407112611465,
           "Heart LR pipeline",
           "chol"
          ],
          [
           0.6196407112611465,
           "Heart LR pipeline",
           "chol"
          ],
          [
           0.6196407112611465,
           "Heart LR pipeline",
           "chol"
          ],
          [
           0.6196407112611465,
           "Heart LR pipeline",
           "chol"
          ],
          [
           0.6196407112611465,
           "Heart LR pipeline",
           "chol"
          ],
          [
           0.6196407112611465,
           "Heart LR pipeline",
           "chol"
          ],
          [
           0.6196407112611465,
           "Heart LR pipeline",
           "chol"
          ],
          [
           0.6196407112611465,
           "Heart LR pipeline",
           "chol"
          ],
          [
           0.6196407112611465,
           "Heart LR pipeline",
           "chol"
          ],
          [
           0.6196407112611465,
           "Heart LR pipeline",
           "chol"
          ],
          [
           0.6196407112611465,
           "Heart LR pipeline",
           "chol"
          ],
          [
           0.6196407112611465,
           "Heart LR pipeline",
           "chol"
          ],
          [
           0.6196407112611465,
           "Heart LR pipeline",
           "chol"
          ],
          [
           0.6196407112611465,
           "Heart LR pipeline",
           "chol"
          ],
          [
           0.6196407112611465,
           "Heart LR pipeline",
           "chol"
          ],
          [
           0.6196407112611465,
           "Heart LR pipeline",
           "chol"
          ],
          [
           0.6196407112611465,
           "Heart LR pipeline",
           "chol"
          ],
          [
           0.6196407112611465,
           "Heart LR pipeline",
           "chol"
          ],
          [
           0.6196407112611465,
           "Heart LR pipeline",
           "chol"
          ],
          [
           0.6196407112611465,
           "Heart LR pipeline",
           "chol"
          ],
          [
           0.6196407112611465,
           "Heart LR pipeline",
           "chol"
          ],
          [
           0.6196407112611465,
           "Heart LR pipeline",
           "chol"
          ],
          [
           0.6196407112611465,
           "Heart LR pipeline",
           "chol"
          ],
          [
           0.6196407112611465,
           "Heart LR pipeline",
           "chol"
          ],
          [
           0.6196407112611465,
           "Heart LR pipeline",
           "chol"
          ],
          [
           0.6196407112611465,
           "Heart LR pipeline",
           "chol"
          ],
          [
           0.6196407112611465,
           "Heart LR pipeline",
           "chol"
          ],
          [
           0.6196407112611465,
           "Heart LR pipeline",
           "chol"
          ],
          [
           0.6196407112611465,
           "Heart LR pipeline",
           "chol"
          ],
          [
           0.6196407112611465,
           "Heart LR pipeline",
           "chol"
          ],
          [
           0.6196407112611465,
           "Heart LR pipeline",
           "chol"
          ],
          [
           0.6196407112611465,
           "Heart LR pipeline",
           "chol"
          ],
          [
           0.6196407112611465,
           "Heart LR pipeline",
           "chol"
          ],
          [
           0.6196407112611465,
           "Heart LR pipeline",
           "chol"
          ],
          [
           0.6196407112611465,
           "Heart LR pipeline",
           "chol"
          ],
          [
           0.6196407112611465,
           "Heart LR pipeline",
           "chol"
          ],
          [
           0.6196407112611465,
           "Heart LR pipeline",
           "chol"
          ],
          [
           0.6196407112611465,
           "Heart LR pipeline",
           "chol"
          ],
          [
           0.6196407112611465,
           "Heart LR pipeline",
           "chol"
          ],
          [
           0.6196407112611465,
           "Heart LR pipeline",
           "chol"
          ],
          [
           0.6196407112611465,
           "Heart LR pipeline",
           "chol"
          ],
          [
           0.6196407112611465,
           "Heart LR pipeline",
           "chol"
          ],
          [
           0.6196407112611465,
           "Heart LR pipeline",
           "chol"
          ],
          [
           0.6196407112611465,
           "Heart LR pipeline",
           "chol"
          ],
          [
           0.6196407112611465,
           "Heart LR pipeline",
           "chol"
          ],
          [
           0.6196407112611465,
           "Heart LR pipeline",
           "chol"
          ],
          [
           0.6196407112611465,
           "Heart LR pipeline",
           "chol"
          ],
          [
           0.6196407112611465,
           "Heart LR pipeline",
           "chol"
          ],
          [
           0.6196407112611465,
           "Heart LR pipeline",
           "chol"
          ],
          [
           0.6196407112611465,
           "Heart LR pipeline",
           "chol"
          ],
          [
           0.6196407112611465,
           "Heart LR pipeline",
           "chol"
          ],
          [
           0.6196407112611465,
           "Heart LR pipeline",
           "chol"
          ],
          [
           0.6196407112611465,
           "Heart LR pipeline",
           "chol"
          ],
          [
           0.6196407112611465,
           "Heart LR pipeline",
           "chol"
          ],
          [
           0.6196407112611465,
           "Heart LR pipeline",
           "chol"
          ],
          [
           0.6196407112611465,
           "Heart LR pipeline",
           "chol"
          ],
          [
           0.6196407112611465,
           "Heart LR pipeline",
           "chol"
          ],
          [
           0.6196407112611465,
           "Heart LR pipeline",
           "chol"
          ],
          [
           0.6196407112611465,
           "Heart LR pipeline",
           "chol"
          ],
          [
           0.6196407112611465,
           "Heart LR pipeline",
           "chol"
          ],
          [
           0.6196407112611465,
           "Heart LR pipeline",
           "chol"
          ],
          [
           0.6196407112611465,
           "Heart LR pipeline",
           "chol"
          ],
          [
           0.6196407112611465,
           "Heart LR pipeline",
           "chol"
          ],
          [
           0.6196407112611465,
           "Heart LR pipeline",
           "chol"
          ],
          [
           0.6196407112611465,
           "Heart LR pipeline",
           "chol"
          ],
          [
           0.6196407112611465,
           "Heart LR pipeline",
           "chol"
          ],
          [
           0.6196407112611465,
           "Heart LR pipeline",
           "chol"
          ],
          [
           0.6196407112611465,
           "Heart LR pipeline",
           "chol"
          ],
          [
           0.6196407112611465,
           "Heart LR pipeline",
           "chol"
          ],
          [
           0.6196407112611465,
           "Heart LR pipeline",
           "chol"
          ],
          [
           0.6196407112611465,
           "Heart LR pipeline",
           "chol"
          ],
          [
           0.6196407112611465,
           "Heart LR pipeline",
           "chol"
          ],
          [
           0.6196407112611465,
           "Heart LR pipeline",
           "chol"
          ],
          [
           0.6196407112611465,
           "Heart LR pipeline",
           "chol"
          ],
          [
           0.6196407112611465,
           "Heart LR pipeline",
           "chol"
          ],
          [
           0.6196407112611465,
           "Heart LR pipeline",
           "chol"
          ],
          [
           0.6196407112611465,
           "Heart LR pipeline",
           "chol"
          ],
          [
           0.6196407112611465,
           "Heart LR pipeline",
           "chol"
          ],
          [
           0.6196407112611465,
           "Heart LR pipeline",
           "chol"
          ],
          [
           0.6196407112611465,
           "Heart LR pipeline",
           "chol"
          ],
          [
           0.6196407112611465,
           "Heart LR pipeline",
           "chol"
          ],
          [
           0.6196407112611465,
           "Heart LR pipeline",
           "chol"
          ],
          [
           0.6196407112611465,
           "Heart LR pipeline",
           "chol"
          ],
          [
           0.6196407112611465,
           "Heart LR pipeline",
           "chol"
          ],
          [
           0.6196407112611465,
           "Heart LR pipeline",
           "chol"
          ],
          [
           0.6196407112611465,
           "Heart LR pipeline",
           "chol"
          ],
          [
           0.6196407112611465,
           "Heart LR pipeline",
           "chol"
          ],
          [
           0.6196407112611465,
           "Heart LR pipeline",
           "chol"
          ],
          [
           0.6196407112611465,
           "Heart LR pipeline",
           "chol"
          ],
          [
           0.6196407112611465,
           "Heart LR pipeline",
           "chol"
          ],
          [
           0.6196407112611465,
           "Heart LR pipeline",
           "chol"
          ],
          [
           0.6196407112611465,
           "Heart LR pipeline",
           "chol"
          ],
          [
           0.6196407112611465,
           "Heart LR pipeline",
           "chol"
          ],
          [
           0.6196407112611465,
           "Heart LR pipeline",
           "chol"
          ],
          [
           0.6196407112611465,
           "Heart LR pipeline",
           "chol"
          ],
          [
           0.6196407112611465,
           "Heart LR pipeline",
           "chol"
          ]
         ],
         "hovertemplate": "<b>%{hovertext}</b><br><br>prediction=%{y:.3f}<br>mean_prediction=%{customdata[0]:.3f}<extra></extra>",
         "hovertext": [
          "Heart LR pipeline",
          "Heart LR pipeline",
          "Heart LR pipeline",
          "Heart LR pipeline",
          "Heart LR pipeline",
          "Heart LR pipeline",
          "Heart LR pipeline",
          "Heart LR pipeline",
          "Heart LR pipeline",
          "Heart LR pipeline",
          "Heart LR pipeline",
          "Heart LR pipeline",
          "Heart LR pipeline",
          "Heart LR pipeline",
          "Heart LR pipeline",
          "Heart LR pipeline",
          "Heart LR pipeline",
          "Heart LR pipeline",
          "Heart LR pipeline",
          "Heart LR pipeline",
          "Heart LR pipeline",
          "Heart LR pipeline",
          "Heart LR pipeline",
          "Heart LR pipeline",
          "Heart LR pipeline",
          "Heart LR pipeline",
          "Heart LR pipeline",
          "Heart LR pipeline",
          "Heart LR pipeline",
          "Heart LR pipeline",
          "Heart LR pipeline",
          "Heart LR pipeline",
          "Heart LR pipeline",
          "Heart LR pipeline",
          "Heart LR pipeline",
          "Heart LR pipeline",
          "Heart LR pipeline",
          "Heart LR pipeline",
          "Heart LR pipeline",
          "Heart LR pipeline",
          "Heart LR pipeline",
          "Heart LR pipeline",
          "Heart LR pipeline",
          "Heart LR pipeline",
          "Heart LR pipeline",
          "Heart LR pipeline",
          "Heart LR pipeline",
          "Heart LR pipeline",
          "Heart LR pipeline",
          "Heart LR pipeline",
          "Heart LR pipeline",
          "Heart LR pipeline",
          "Heart LR pipeline",
          "Heart LR pipeline",
          "Heart LR pipeline",
          "Heart LR pipeline",
          "Heart LR pipeline",
          "Heart LR pipeline",
          "Heart LR pipeline",
          "Heart LR pipeline",
          "Heart LR pipeline",
          "Heart LR pipeline",
          "Heart LR pipeline",
          "Heart LR pipeline",
          "Heart LR pipeline",
          "Heart LR pipeline",
          "Heart LR pipeline",
          "Heart LR pipeline",
          "Heart LR pipeline",
          "Heart LR pipeline",
          "Heart LR pipeline",
          "Heart LR pipeline",
          "Heart LR pipeline",
          "Heart LR pipeline",
          "Heart LR pipeline",
          "Heart LR pipeline",
          "Heart LR pipeline",
          "Heart LR pipeline",
          "Heart LR pipeline",
          "Heart LR pipeline",
          "Heart LR pipeline",
          "Heart LR pipeline",
          "Heart LR pipeline",
          "Heart LR pipeline",
          "Heart LR pipeline",
          "Heart LR pipeline",
          "Heart LR pipeline",
          "Heart LR pipeline",
          "Heart LR pipeline",
          "Heart LR pipeline",
          "Heart LR pipeline",
          "Heart LR pipeline",
          "Heart LR pipeline",
          "Heart LR pipeline",
          "Heart LR pipeline",
          "Heart LR pipeline",
          "Heart LR pipeline",
          "Heart LR pipeline",
          "Heart LR pipeline",
          "Heart LR pipeline",
          "Heart LR pipeline"
         ],
         "legendgroup": "Heart LR pipeline",
         "line": {
          "color": "#4378bf",
          "dash": "solid",
          "width": 2
         },
         "marker": {
          "symbol": "circle"
         },
         "mode": "lines",
         "name": "Heart LR pipeline",
         "opacity": 1,
         "orientation": "v",
         "showlegend": false,
         "type": "scatter",
         "x": [
          0,
          6.03,
          12.06,
          18.09,
          24.12,
          30.150000000000002,
          36.18,
          42.21,
          48.24,
          54.27,
          60.300000000000004,
          66.33,
          72.36,
          78.39,
          84.42,
          90.45,
          96.48,
          102.51,
          108.54,
          114.57000000000001,
          120.60000000000001,
          126.63000000000001,
          132.66,
          138.69,
          144.72,
          150.75,
          156.78,
          162.81,
          168.84,
          174.87,
          180.9,
          186.93,
          192.96,
          198.99,
          205.02,
          211.05,
          217.08,
          223.11,
          229.14000000000001,
          235.17000000000002,
          241.20000000000002,
          247.23000000000002,
          253.26000000000002,
          259.29,
          265.32,
          271.35,
          277.38,
          283.41,
          289.44,
          295.47,
          301.5,
          307.53000000000003,
          313.56,
          319.59000000000003,
          325.62,
          331.65000000000003,
          337.68,
          343.71000000000004,
          349.74,
          355.77000000000004,
          361.8,
          367.83000000000004,
          373.86,
          379.89000000000004,
          385.92,
          391.95,
          397.98,
          404.01,
          410.04,
          416.07,
          422.1,
          428.13,
          434.16,
          440.19,
          446.22,
          452.25,
          458.28000000000003,
          464.31,
          470.34000000000003,
          476.37,
          482.40000000000003,
          488.43,
          494.46000000000004,
          500.49,
          506.52000000000004,
          512.5500000000001,
          518.58,
          524.61,
          530.64,
          536.6700000000001,
          542.7,
          548.73,
          554.76,
          560.7900000000001,
          566.82,
          572.85,
          578.88,
          584.91,
          590.94,
          596.97,
          603
         ],
         "xaxis": "x2",
         "y": [
          0.7072919046380354,
          0.7072919046380354,
          0.7072919046380354,
          0.7072919046380354,
          0.7072919046380354,
          0.7072919046380354,
          0.7072919046380354,
          0.7072919046380354,
          0.7072919046380354,
          0.6908955131089488,
          0.6908955131089488,
          0.6116088610301742,
          0.6116088610301742,
          0.6116088610301742,
          0.6116088610301742,
          0.6116088610301742,
          0.6116088610301742,
          0.6116088610301742,
          0.6116088610301742,
          0.6116088610301742,
          0.6116088610301742,
          0.6116088610301742,
          0.6116088610301742,
          0.6116088610301742,
          0.6116088610301742,
          0.6116088610301742,
          0.6116088610301742,
          0.6116088610301742,
          0.6116088610301742,
          0.6116088610301742,
          0.6116088610301742,
          0.6116088610301742,
          0.6116088610301742,
          0.6116088610301742,
          0.6116088610301742,
          0.6116088610301742,
          0.6116088610301742,
          0.6116088610301742,
          0.6116088610301742,
          0.6116088610301742,
          0.6116088610301742,
          0.6116088610301742,
          0.6116088610301742,
          0.6116088610301742,
          0.6116088610301742,
          0.6116088610301742,
          0.6116088610301742,
          0.6116088610301742,
          0.6116088610301742,
          0.6116088610301742,
          0.6116088610301742,
          0.6116088610301742,
          0.6116088610301742,
          0.6116088610301742,
          0.6116088610301742,
          0.6116088610301742,
          0.6116088610301742,
          0.6116088610301742,
          0.6116088610301742,
          0.6116088610301742,
          0.6116088610301742,
          0.6116088610301742,
          0.6116088610301742,
          0.6116088610301742,
          0.6116088610301742,
          0.6116088610301742,
          0.6116088610301742,
          0.6116088610301742,
          0.6116088610301742,
          0.6116088610301742,
          0.6116088610301742,
          0.6116088610301742,
          0.6116088610301742,
          0.6116088610301742,
          0.6116088610301742,
          0.6116088610301742,
          0.6116088610301742,
          0.6116088610301742,
          0.6116088610301742,
          0.6116088610301742,
          0.6116088610301742,
          0.6116088610301742,
          0.6116088610301742,
          0.6116088610301742,
          0.6116088610301742,
          0.6116088610301742,
          0.6116088610301742,
          0.6116088610301742,
          0.6116088610301742,
          0.6116088610301742,
          0.6116088610301742,
          0.6116088610301742,
          0.6116088610301742,
          0.6116088610301742,
          0.6116088610301742,
          0.6116088610301742,
          0.6116088610301742,
          0.6116088610301742,
          0.6116088610301742,
          0.6116088610301742,
          0.6116088610301742
         ],
         "yaxis": "y2"
        }
       ],
       "layout": {
        "annotations": [
         {
          "font": {
           "size": 13
          },
          "showarrow": false,
          "text": "Age",
          "x": 0.2375,
          "xanchor": "center",
          "xref": "paper",
          "y": 1,
          "yanchor": "bottom",
          "yref": "paper"
         },
         {
          "font": {
           "size": 13
          },
          "showarrow": false,
          "text": "chol",
          "x": 0.7625,
          "xanchor": "center",
          "xref": "paper",
          "y": 1,
          "yanchor": "bottom",
          "yref": "paper"
         },
         {
          "font": {
           "size": 13
          },
          "showarrow": false,
          "text": "prediction",
          "textangle": -90,
          "x": -0.07,
          "xref": "paper",
          "y": 0.5,
          "yref": "paper"
         }
        ],
        "font": {
         "color": "#371ea3"
        },
        "height": 489,
        "hovermode": "x unified",
        "legend": {
         "font": {
          "size": 11
         },
         "itemsizing": "constant",
         "orientation": "h",
         "title": {
          "font": {
           "size": 12
          },
          "text": "label"
         },
         "tracegroupgap": 0,
         "x": 1,
         "xanchor": "right",
         "y": 1.0613496932515338,
         "yanchor": "bottom"
        },
        "margin": {
         "b": 71,
         "r": 30,
         "t": 78
        },
        "template": {
         "data": {
          "scatter": [
           {
            "type": "scatter"
           }
          ]
         }
        },
        "title": {
         "font": {
          "size": 16
         },
         "text": "Aggregated Profiles",
         "x": 0.15
        },
        "xaxis": {
         "anchor": "y",
         "automargin": true,
         "domain": [
          0,
          0.475
         ],
         "fixedrange": true,
         "gridwidth": 2,
         "showticklabels": true,
         "tickcolor": "white",
         "ticklen": 3,
         "ticks": "outside",
         "title": {
          "text": ""
         },
         "type": "linear",
         "zeroline": false
        },
        "xaxis2": {
         "anchor": "y2",
         "automargin": true,
         "domain": [
          0.525,
          1
         ],
         "fixedrange": true,
         "gridwidth": 2,
         "showticklabels": true,
         "tickcolor": "white",
         "ticklen": 3,
         "ticks": "outside",
         "title": {
          "text": ""
         },
         "type": "linear",
         "zeroline": false
        },
        "yaxis": {
         "anchor": "x",
         "automargin": true,
         "domain": [
          0,
          1
         ],
         "fixedrange": true,
         "gridwidth": 2,
         "range": [
          0.4096041428695298,
          0.7343544284351723
         ],
         "tickcolor": "white",
         "ticklen": 3,
         "ticks": "outside",
         "title": {
          "text": ""
         },
         "type": "linear",
         "zeroline": false
        },
        "yaxis2": {
         "anchor": "x2",
         "automargin": true,
         "domain": [
          0,
          1
         ],
         "fixedrange": true,
         "gridwidth": 2,
         "matches": "y",
         "showticklabels": false,
         "tickcolor": "white",
         "ticklen": 3,
         "ticks": "outside",
         "title": {
          "text": ""
         },
         "type": "linear",
         "zeroline": false
        }
       }
      }
     },
     "metadata": {},
     "output_type": "display_data"
    }
   ],
   "source": [
    "pdp_cart.plot(pdp_lr, variables=[\"Age\", \"chol\"])"
   ]
  },
  {
   "cell_type": "code",
   "execution_count": null,
   "metadata": {},
   "outputs": [],
   "source": []
  }
 ],
 "metadata": {
  "interpreter": {
   "hash": "54107a2a0eb6a0b2996cb7a94c16d9283b5dc7f969a30a8a01f6dbe77c679ea9"
  },
  "kernelspec": {
   "display_name": "Python 3.9.7 ('mainenv')",
   "language": "python",
   "name": "python3"
  },
  "language_info": {
   "codemirror_mode": {
    "name": "ipython",
    "version": 3
   },
   "file_extension": ".py",
   "mimetype": "text/x-python",
   "name": "python",
   "nbconvert_exporter": "python",
   "pygments_lexer": "ipython3",
   "version": "3.9.7"
  },
  "orig_nbformat": 4
 },
 "nbformat": 4,
 "nbformat_minor": 2
}
