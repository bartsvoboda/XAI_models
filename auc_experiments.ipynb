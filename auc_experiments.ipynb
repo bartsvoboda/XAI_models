{
 "cells": [
  {
   "cell_type": "code",
   "execution_count": 2,
   "metadata": {},
   "outputs": [],
   "source": [
    "from sklearn.tree import DecisionTreeClassifier\n",
    "from interpret.glassbox import ExplainableBoostingClassifier\n",
    "from interpret.glassbox import DecisionListClassifier\n",
    "from sklearn.linear_model import LogisticRegression\n",
    "from sklearn.naive_bayes import GaussianNB\n",
    "\n",
    "\n",
    "clfs = {\n",
    "    \"CART\": DecisionTreeClassifier(random_state=1234),\n",
    "    \"EBM\": ExplainableBoostingClassifier(),\n",
    "    \"LR_l2\": LogisticRegression(penalty=\"l2\",random_state=1234),\n",
    "    \"GNB\": GaussianNB(),\n",
    "    \"LR\": LogisticRegression(penalty=\"none\", random_state=1234) \n",
    "}"
   ]
  },
  {
   "cell_type": "code",
   "execution_count": 3,
   "metadata": {},
   "outputs": [],
   "source": [
    "datasets = ['breast', 'campus', 'churn', 'climate',\n",
    "            'compas', 'diabetes', 'german', 'heart',\n",
    "            'stroke', 'student', 'water', 'bankruptcy']"
   ]
  },
  {
   "cell_type": "code",
   "execution_count": 4,
   "metadata": {},
   "outputs": [],
   "source": [
    "import numpy as np\n",
    "from sklearn.model_selection import StratifiedKFold\n",
    "from sklearn.metrics import log_loss\n",
    "n_datasets = len(datasets)\n",
    "n_splits = 10\n",
    "# repeats 5, splits 2\n",
    "skf = StratifiedKFold(n_splits=n_splits, random_state=1234)\n",
    "\n",
    "auc_scores = np.zeros((len(clfs)+1, n_datasets, n_splits))\n",
    "loss = np.zeros((len(clfs)+1, n_datasets, n_splits))"
   ]
  },
  {
   "cell_type": "code",
   "execution_count": 5,
   "metadata": {},
   "outputs": [
    {
     "name": "stderr",
     "output_type": "stream",
     "text": [
      "/home/bart/anaconda3/envs/mainenv/lib/python3.9/site-packages/sklearn/utils/validation.py:993: DataConversionWarning: A column-vector y was passed when a 1d array was expected. Please change the shape of y to (n_samples, ), for example using ravel().\n",
      "  y = column_or_1d(y, warn=True)\n",
      "/home/bart/anaconda3/envs/mainenv/lib/python3.9/site-packages/sklearn/utils/validation.py:993: DataConversionWarning: A column-vector y was passed when a 1d array was expected. Please change the shape of y to (n_samples, ), for example using ravel().\n",
      "  y = column_or_1d(y, warn=True)\n",
      "/home/bart/anaconda3/envs/mainenv/lib/python3.9/site-packages/sklearn/utils/validation.py:993: DataConversionWarning: A column-vector y was passed when a 1d array was expected. Please change the shape of y to (n_samples, ), for example using ravel().\n",
      "  y = column_or_1d(y, warn=True)\n",
      "/home/bart/anaconda3/envs/mainenv/lib/python3.9/site-packages/sklearn/utils/validation.py:993: DataConversionWarning: A column-vector y was passed when a 1d array was expected. Please change the shape of y to (n_samples, ), for example using ravel().\n",
      "  y = column_or_1d(y, warn=True)\n",
      "/home/bart/anaconda3/envs/mainenv/lib/python3.9/site-packages/sklearn/utils/validation.py:993: DataConversionWarning: A column-vector y was passed when a 1d array was expected. Please change the shape of y to (n_samples, ), for example using ravel().\n",
      "  y = column_or_1d(y, warn=True)\n",
      "/home/bart/anaconda3/envs/mainenv/lib/python3.9/site-packages/sklearn/utils/validation.py:993: DataConversionWarning: A column-vector y was passed when a 1d array was expected. Please change the shape of y to (n_samples, ), for example using ravel().\n",
      "  y = column_or_1d(y, warn=True)\n",
      "/home/bart/anaconda3/envs/mainenv/lib/python3.9/site-packages/sklearn/utils/validation.py:993: DataConversionWarning: A column-vector y was passed when a 1d array was expected. Please change the shape of y to (n_samples, ), for example using ravel().\n",
      "  y = column_or_1d(y, warn=True)\n",
      "/home/bart/anaconda3/envs/mainenv/lib/python3.9/site-packages/sklearn/utils/validation.py:993: DataConversionWarning: A column-vector y was passed when a 1d array was expected. Please change the shape of y to (n_samples, ), for example using ravel().\n",
      "  y = column_or_1d(y, warn=True)\n",
      "/home/bart/anaconda3/envs/mainenv/lib/python3.9/site-packages/sklearn/utils/validation.py:993: DataConversionWarning: A column-vector y was passed when a 1d array was expected. Please change the shape of y to (n_samples, ), for example using ravel().\n",
      "  y = column_or_1d(y, warn=True)\n",
      "/home/bart/anaconda3/envs/mainenv/lib/python3.9/site-packages/sklearn/utils/validation.py:993: DataConversionWarning: A column-vector y was passed when a 1d array was expected. Please change the shape of y to (n_samples, ), for example using ravel().\n",
      "  y = column_or_1d(y, warn=True)\n",
      "/home/bart/anaconda3/envs/mainenv/lib/python3.9/site-packages/sklearn/utils/validation.py:993: DataConversionWarning: A column-vector y was passed when a 1d array was expected. Please change the shape of y to (n_samples, ), for example using ravel().\n",
      "  y = column_or_1d(y, warn=True)\n",
      "/home/bart/anaconda3/envs/mainenv/lib/python3.9/site-packages/sklearn/utils/validation.py:993: DataConversionWarning: A column-vector y was passed when a 1d array was expected. Please change the shape of y to (n_samples, ), for example using ravel().\n",
      "  y = column_or_1d(y, warn=True)\n",
      "/home/bart/anaconda3/envs/mainenv/lib/python3.9/site-packages/sklearn/utils/validation.py:993: DataConversionWarning: A column-vector y was passed when a 1d array was expected. Please change the shape of y to (n_samples, ), for example using ravel().\n",
      "  y = column_or_1d(y, warn=True)\n",
      "/home/bart/anaconda3/envs/mainenv/lib/python3.9/site-packages/sklearn/utils/validation.py:993: DataConversionWarning: A column-vector y was passed when a 1d array was expected. Please change the shape of y to (n_samples, ), for example using ravel().\n",
      "  y = column_or_1d(y, warn=True)\n",
      "/home/bart/anaconda3/envs/mainenv/lib/python3.9/site-packages/sklearn/utils/validation.py:993: DataConversionWarning: A column-vector y was passed when a 1d array was expected. Please change the shape of y to (n_samples, ), for example using ravel().\n",
      "  y = column_or_1d(y, warn=True)\n",
      "/home/bart/anaconda3/envs/mainenv/lib/python3.9/site-packages/sklearn/utils/validation.py:993: DataConversionWarning: A column-vector y was passed when a 1d array was expected. Please change the shape of y to (n_samples, ), for example using ravel().\n",
      "  y = column_or_1d(y, warn=True)\n",
      "/home/bart/anaconda3/envs/mainenv/lib/python3.9/site-packages/sklearn/utils/validation.py:993: DataConversionWarning: A column-vector y was passed when a 1d array was expected. Please change the shape of y to (n_samples, ), for example using ravel().\n",
      "  y = column_or_1d(y, warn=True)\n",
      "/home/bart/anaconda3/envs/mainenv/lib/python3.9/site-packages/sklearn/utils/validation.py:993: DataConversionWarning: A column-vector y was passed when a 1d array was expected. Please change the shape of y to (n_samples, ), for example using ravel().\n",
      "  y = column_or_1d(y, warn=True)\n",
      "/home/bart/anaconda3/envs/mainenv/lib/python3.9/site-packages/sklearn/utils/validation.py:993: DataConversionWarning: A column-vector y was passed when a 1d array was expected. Please change the shape of y to (n_samples, ), for example using ravel().\n",
      "  y = column_or_1d(y, warn=True)\n",
      "/home/bart/anaconda3/envs/mainenv/lib/python3.9/site-packages/sklearn/utils/validation.py:993: DataConversionWarning: A column-vector y was passed when a 1d array was expected. Please change the shape of y to (n_samples, ), for example using ravel().\n",
      "  y = column_or_1d(y, warn=True)\n"
     ]
    }
   ],
   "source": [
    "from sklearn.base import clone \n",
    "from sklearn import metrics\n",
    "import pandas as pd\n",
    "\n",
    "import helper\n",
    "import importlib\n",
    "importlib.reload(helper)\n",
    "from sklearn.pipeline import make_pipeline\n",
    "\n",
    "for data_id, dataset in enumerate(datasets):\n",
    "    X=pd.read_csv(f\"datasets/cleaned/{dataset}_X.csv\")\n",
    "    X = X.drop(\"Unnamed: 0\", axis=1)\n",
    "    y = pd.read_csv(f\"datasets/cleaned/{dataset}_y.csv\")\n",
    "    y = y.drop(\"Unnamed: 0\", axis=1)\n",
    "\n",
    "    features_types_df = pd.read_csv(f\"datasets/cleaned/datatypes/{dataset}.csv\")\n",
    "\n",
    "    feature_inidices = list(map(int, list(features_types_df)))\n",
    "    features_names = list(features_types_df.T[0])\n",
    "    features_types = list(map(int, list(features_types_df.T[1])))\n",
    "\n",
    "    preprocess = helper.select_preprocessing_for_many_feat(feature_inidices, features_types, features_names)\n",
    "\n",
    "    for fold_id, (train, test) in enumerate(skf.split(X, y)):\n",
    "        for clf_id, clf_name in enumerate(clfs):\n",
    "            clf = clone(clfs[clf_name])\n",
    "\n",
    "            # if(clf_name == \"GNB\" and dataset==\"compas\"):\n",
    "            #     clf.fit(X.iloc[train], y.iloc[train])\n",
    "            #     y_preds = clf.predict(X.iloc[test])\n",
    "            #     fpr, tpr, thresholds = metrics.roc_curve(y.iloc[test], y_preds)\n",
    "            #     auc_scores[clf_id, data_id, fold_id] = metrics.auc(fpr, tpr)\n",
    "            # else:\n",
    "            clf_pipeline = make_pipeline(\n",
    "                preprocess,\n",
    "                clf\n",
    "            )\n",
    "                \n",
    "            clf_pipeline.fit(X.iloc[train], y.iloc[train])\n",
    "            y_preds = clf_pipeline.predict(X.iloc[test])\n",
    "            fpr, tpr, thresholds = metrics.roc_curve(y.iloc[test], y_preds)\n",
    "            auc_scores[clf_id, data_id, fold_id] = metrics.auc(fpr, tpr)\n",
    "            loss[clf_id, data_id, fold_id] = log_loss(y.iloc[test], y_preds)\n",
    "\n",
    "            "
   ]
  },
  {
   "cell_type": "code",
   "execution_count": 6,
   "metadata": {},
   "outputs": [],
   "source": [
    "from sklearn.base import clone \n",
    "from sklearn import metrics\n",
    "import pandas as pd\n",
    "\n",
    "import helper\n",
    "import importlib\n",
    "importlib.reload(helper)\n",
    "from sklearn.pipeline import make_pipeline\n",
    "\n",
    "for data_id, dataset in enumerate(datasets):\n",
    "    X=pd.read_csv(f\"datasets/cleaned/{dataset}_X.csv\")\n",
    "    X = X.drop(\"Unnamed: 0\", axis=1)\n",
    "    y = pd.read_csv(f\"datasets/cleaned/{dataset}_y.csv\")\n",
    "    y = y.drop(\"Unnamed: 0\", axis=1)\n",
    "\n",
    "    features_types_df = pd.read_csv(f\"datasets/cleaned/datatypes/{dataset}.csv\")\n",
    "\n",
    "    feature_inidices = list(map(int, list(features_types_df)))\n",
    "    features_names = list(features_types_df.T[0])\n",
    "    features_types = list(map(int, list(features_types_df.T[1])))\n",
    "\n",
    "    preprocess = helper.select_preprocessing_for_many_feat(feature_inidices, features_types, features_names)\n",
    "\n",
    "    for fold_id, (train, test) in enumerate(skf.split(X, y)):\n",
    "\n",
    "        clf_pipeline = make_pipeline(\n",
    "                preprocess,\n",
    "                DecisionListClassifier(random_state=1234)\n",
    "            )\n",
    "                \n",
    "        clf_pipeline.fit(X.iloc[train], y.iloc[train])\n",
    "        y_preds = clf_pipeline.predict(X.iloc[test])\n",
    "        fpr, tpr, thresholds = metrics.roc_curve(y.iloc[test], y_preds)\n",
    "        auc_scores[4, data_id, fold_id] = metrics.auc(fpr, tpr)\n",
    "        loss[4, data_id, fold_id] = log_loss(y.iloc[test], y_preds)\n",
    "        "
   ]
  },
  {
   "cell_type": "code",
   "execution_count": 7,
   "metadata": {},
   "outputs": [
    {
     "data": {
      "text/plain": [
       "array([[[1.        , 1.        , 1.        , 1.        , 1.        ,\n",
       "         1.        , 1.        , 1.        , 1.        , 1.        ]],\n",
       "\n",
       "       [[1.        , 1.        , 0.97619048, 1.        , 1.        ,\n",
       "         1.        , 1.        , 1.        , 1.        , 0.97727273]],\n",
       "\n",
       "       [[1.        , 1.        , 0.97619048, 1.        , 1.        ,\n",
       "         1.        , 1.        , 1.        , 1.        , 0.97727273]],\n",
       "\n",
       "       [[1.        , 1.        , 0.97619048, 0.93181818, 1.        ,\n",
       "         0.97619048, 0.97619048, 1.        , 0.97727273, 1.        ]],\n",
       "\n",
       "       [[1.        , 0.94827586, 1.        , 0.93181818, 1.        ,\n",
       "         1.        , 0.98275862, 1.        , 0.96428571, 1.        ]]])"
      ]
     },
     "execution_count": 7,
     "metadata": {},
     "output_type": "execute_result"
    }
   ],
   "source": [
    "auc_scores"
   ]
  },
  {
   "cell_type": "code",
   "execution_count": 8,
   "metadata": {},
   "outputs": [
    {
     "data": {
      "text/plain": [
       "array([1.])"
      ]
     },
     "execution_count": 8,
     "metadata": {},
     "output_type": "execute_result"
    }
   ],
   "source": [
    "auc_scores[0,:, 0]"
   ]
  },
  {
   "cell_type": "code",
   "execution_count": 9,
   "metadata": {},
   "outputs": [
    {
     "data": {
      "text/plain": [
       "array([1.])"
      ]
     },
     "execution_count": 9,
     "metadata": {},
     "output_type": "execute_result"
    }
   ],
   "source": [
    "auc_scores[1,:, 0]"
   ]
  },
  {
   "cell_type": "code",
   "execution_count": 10,
   "metadata": {},
   "outputs": [
    {
     "data": {
      "text/plain": [
       "array([1.])"
      ]
     },
     "execution_count": 10,
     "metadata": {},
     "output_type": "execute_result"
    }
   ],
   "source": [
    "auc_scores[2,:, 0]"
   ]
  },
  {
   "cell_type": "code",
   "execution_count": 11,
   "metadata": {},
   "outputs": [
    {
     "data": {
      "text/plain": [
       "array([1.])"
      ]
     },
     "execution_count": 11,
     "metadata": {},
     "output_type": "execute_result"
    }
   ],
   "source": [
    "auc_scores[3,:, 0]"
   ]
  },
  {
   "cell_type": "code",
   "execution_count": 12,
   "metadata": {},
   "outputs": [
    {
     "data": {
      "text/plain": [
       "array([1.])"
      ]
     },
     "execution_count": 12,
     "metadata": {},
     "output_type": "execute_result"
    }
   ],
   "source": [
    "auc_scores[4,:, 0]"
   ]
  },
  {
   "cell_type": "code",
   "execution_count": 13,
   "metadata": {},
   "outputs": [],
   "source": [
    "np.save('./test_results/auc/auc_results', auc_scores)\n",
    "np.save('./test_results/auc/auc_losses', loss)"
   ]
  }
 ],
 "metadata": {
  "interpreter": {
   "hash": "54107a2a0eb6a0b2996cb7a94c16d9283b5dc7f969a30a8a01f6dbe77c679ea9"
  },
  "kernelspec": {
   "display_name": "Python 3.9.7 ('mainenv')",
   "language": "python",
   "name": "python3"
  },
  "language_info": {
   "codemirror_mode": {
    "name": "ipython",
    "version": 3
   },
   "file_extension": ".py",
   "mimetype": "text/x-python",
   "name": "python",
   "nbconvert_exporter": "python",
   "pygments_lexer": "ipython3",
   "version": "3.9.7"
  },
  "orig_nbformat": 4
 },
 "nbformat": 4,
 "nbformat_minor": 2
}
