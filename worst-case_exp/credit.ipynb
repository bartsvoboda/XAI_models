{
 "cells": [
  {
   "cell_type": "code",
   "execution_count": 43,
   "metadata": {},
   "outputs": [
    {
     "name": "stderr",
     "output_type": "stream",
     "text": [
      "/home/bart/anaconda3/envs/mainenv/lib/python3.9/site-packages/sklearn/utils/validation.py:993: DataConversionWarning:\n",
      "\n",
      "A column-vector y was passed when a 1d array was expected. Please change the shape of y to (n_samples, ), for example using ravel().\n",
      "\n",
      "/home/bart/anaconda3/envs/mainenv/lib/python3.9/site-packages/sklearn/linear_model/_logistic.py:814: ConvergenceWarning:\n",
      "\n",
      "lbfgs failed to converge (status=1):\n",
      "STOP: TOTAL NO. of ITERATIONS REACHED LIMIT.\n",
      "\n",
      "Increase the number of iterations (max_iter) or scale the data as shown in:\n",
      "    https://scikit-learn.org/stable/modules/preprocessing.html\n",
      "Please also refer to the documentation for alternative solver options:\n",
      "    https://scikit-learn.org/stable/modules/linear_model.html#logistic-regression\n",
      "\n",
      "/home/bart/anaconda3/envs/mainenv/lib/python3.9/site-packages/sklearn/utils/validation.py:993: DataConversionWarning:\n",
      "\n",
      "A column-vector y was passed when a 1d array was expected. Please change the shape of y to (n_samples, ), for example using ravel().\n",
      "\n",
      "/home/bart/anaconda3/envs/mainenv/lib/python3.9/site-packages/sklearn/utils/validation.py:993: DataConversionWarning:\n",
      "\n",
      "A column-vector y was passed when a 1d array was expected. Please change the shape of y to (n_samples, ), for example using ravel().\n",
      "\n",
      "/home/bart/anaconda3/envs/mainenv/lib/python3.9/site-packages/sklearn/linear_model/_logistic.py:814: ConvergenceWarning:\n",
      "\n",
      "lbfgs failed to converge (status=1):\n",
      "STOP: TOTAL NO. of ITERATIONS REACHED LIMIT.\n",
      "\n",
      "Increase the number of iterations (max_iter) or scale the data as shown in:\n",
      "    https://scikit-learn.org/stable/modules/preprocessing.html\n",
      "Please also refer to the documentation for alternative solver options:\n",
      "    https://scikit-learn.org/stable/modules/linear_model.html#logistic-regression\n",
      "\n"
     ]
    },
    {
     "name": "stdout",
     "output_type": "stream",
     "text": [
      "Preparation of a new explainer is initiated\n",
      "\n",
      "  -> data              : 32559 rows 14 cols\n",
      "  -> target variable   : Parameter 'y' was a pandas.DataFrame. Converted to a numpy.ndarray.\n",
      "  -> target variable   : 32559 values\n",
      "  -> model_class       : sklearn.tree._classes.DecisionTreeClassifier (default)\n",
      "  -> label             : CART\n",
      "  -> predict function  : <function yhat_proba_default at 0x7fe0b2b2ae50> will be used (default)\n",
      "  -> predict function  : Accepts only pandas.DataFrame, numpy.ndarray causes problems.\n",
      "  -> predicted values  : min = 0.0, mean = 0.197, max = 1.0\n",
      "  -> model type        : classification will be used (default)\n",
      "  -> residual function : difference between y and yhat (default)\n",
      "  -> residuals         : min = 0.0, mean = 0.0, max = 0.0\n",
      "  -> model_info        : package sklearn\n",
      "\n",
      "A new explainer has been created!\n",
      "Preparation of a new explainer is initiated\n",
      "\n",
      "  -> data              : 32559 rows 14 cols\n",
      "  -> target variable   : Parameter 'y' was a pandas.DataFrame. Converted to a numpy.ndarray.\n",
      "  -> target variable   : 32559 values\n",
      "  -> model_class       : interpret.glassbox.ebm.ebm.ExplainableBoostingClassifier (default)\n",
      "  -> label             : EBM\n",
      "  -> predict function  : <function yhat_proba_default at 0x7fe0b2b2ae50> will be used (default)\n",
      "  -> predict function  : Accepts only pandas.DataFrame, numpy.ndarray causes problems.\n",
      "  -> predicted values  : min = 4.4e-36, mean = 0.197, max = 1.0\n",
      "  -> model type        : classification will be used (default)\n",
      "  -> residual function : difference between y and yhat (default)\n",
      "  -> residuals         : min = -0.879, mean = 9.33e-05, max = 0.999\n",
      "  -> model_info        : package sklearn\n",
      "\n",
      "A new explainer has been created!\n",
      "Preparation of a new explainer is initiated\n",
      "\n",
      "  -> data              : 32559 rows 14 cols\n",
      "  -> target variable   : Parameter 'y' was a pandas.DataFrame. Converted to a numpy.ndarray.\n",
      "  -> target variable   : 32559 values\n",
      "  -> model_class       : sklearn.linear_model._logistic.LogisticRegression (default)\n",
      "  -> label             : LR_l2\n",
      "  -> predict function  : <function yhat_proba_default at 0x7fe0b2b2ae50> will be used (default)\n",
      "  -> predict function  : Accepts only pandas.DataFrame, numpy.ndarray causes problems.\n",
      "  -> predicted values  : min = 7.55e-24, mean = 0.197, max = 1.0\n",
      "  -> model type        : classification will be used (default)\n",
      "  -> residual function : difference between y and yhat (default)\n",
      "  -> residuals         : min = -1.0, mean = -1.17e-05, max = 0.999\n",
      "  -> model_info        : package sklearn\n",
      "\n",
      "A new explainer has been created!\n",
      "Preparation of a new explainer is initiated\n",
      "\n",
      "  -> data              : 32559 rows 14 cols\n",
      "  -> target variable   : Parameter 'y' was a pandas.DataFrame. Converted to a numpy.ndarray.\n",
      "  -> target variable   : 32559 values\n",
      "  -> model_class       : sklearn.naive_bayes.GaussianNB (default)\n",
      "  -> label             : GNB\n",
      "  -> predict function  : <function yhat_proba_default at 0x7fe0b2b2ae50> will be used (default)\n",
      "  -> predict function  : Accepts only pandas.DataFrame, numpy.ndarray causes problems.\n",
      "  -> predicted values  : min = 0.0, mean = 0.53, max = 1.0\n",
      "  -> model type        : classification will be used (default)\n",
      "  -> residual function : difference between y and yhat (default)\n",
      "  -> residuals         : min = -1.0, mean = -0.333, max = 1.0\n",
      "  -> model_info        : package sklearn\n",
      "\n",
      "A new explainer has been created!\n",
      "Preparation of a new explainer is initiated\n",
      "\n",
      "  -> data              : 32559 rows 14 cols\n",
      "  -> target variable   : Parameter 'y' was a pandas.DataFrame. Converted to a numpy.ndarray.\n",
      "  -> target variable   : 32559 values\n",
      "  -> model_class       : sklearn.linear_model._logistic.LogisticRegression (default)\n",
      "  -> label             : LR\n",
      "  -> predict function  : <function yhat_proba_default at 0x7fe0b2b2ae50> will be used (default)\n",
      "  -> predict function  : Accepts only pandas.DataFrame, numpy.ndarray causes problems.\n",
      "  -> predicted values  : min = 1.01e-176, mean = 0.197, max = 1.0\n",
      "  -> model type        : classification will be used (default)\n",
      "  -> residual function : difference between y and yhat (default)\n",
      "  -> residuals         : min = -1.0, mean = 2.34e-05, max = 1.0\n",
      "  -> model_info        : package sklearn\n",
      "\n",
      "A new explainer has been created!\n",
      "Preparation of a new explainer is initiated\n",
      "\n",
      "  -> data              : 32559 rows 14 cols\n",
      "  -> target variable   : Parameter 'y' was a pandas.DataFrame. Converted to a numpy.ndarray.\n",
      "  -> target variable   : 32559 values\n",
      "  -> model_class       : interpret.glassbox.skoperules.DecisionListClassifier (default)\n",
      "  -> label             : DL\n",
      "  -> predict function  : <function yhat_proba_default at 0x7fe0b2b2ae50> will be used (default)\n",
      "  -> predict function  : Accepts only pandas.DataFrame, numpy.ndarray causes problems.\n",
      "  -> predicted values  : min = 0.197, mean = 0.322, max = 0.955\n",
      "  -> model type        : classification will be used (default)\n",
      "  -> residual function : difference between y and yhat (default)\n",
      "  -> residuals         : min = -0.955, mean = -0.124, max = 0.803\n",
      "  -> model_info        : package sklearn\n",
      "\n",
      "A new explainer has been created!\n"
     ]
    }
   ],
   "source": [
    "import dalex as dx\n",
    "from sklearn.tree import DecisionTreeClassifier\n",
    "from interpret.glassbox import ExplainableBoostingClassifier\n",
    "from interpret.glassbox import DecisionListClassifier\n",
    "from sklearn.linear_model import LogisticRegression\n",
    "from sklearn.naive_bayes import GaussianNB\n",
    "\n",
    "\n",
    "clfs = {\n",
    "    \"CART\": DecisionTreeClassifier(random_state=1234),\n",
    "    \"EBM\": ExplainableBoostingClassifier(),\n",
    "    \"LR_l2\": LogisticRegression(penalty=\"l2\",random_state=1234),\n",
    "    \"GNB\": GaussianNB(),\n",
    "    \"LR\": LogisticRegression(penalty=\"none\", random_state=1234),\n",
    "    \"DL\": DecisionListClassifier(random_state=1234) \n",
    "}\n",
    "\n",
    "dataset = 'adult'\n",
    "clf_name = \"LR\"\n",
    "\n",
    "import worstcase_helper\n",
    "import importlib\n",
    "importlib.reload(worstcase_helper)\n",
    "\n",
    "preprocess, X, y = worstcase_helper.load_dataset_with_preprocess(clf_name, dataset)\n",
    "\n",
    "from sklearn.pipeline import make_pipeline\n",
    "def make_pipeline_clf(clf_name):\n",
    "    clf = make_pipeline(\n",
    "        preprocess,\n",
    "        clfs[clf_name]\n",
    "    )\n",
    "    return clf\n",
    "\n",
    "clf_cart = make_pipeline_clf(\"CART\")\n",
    "clf_cart.fit(X, y)\n",
    "\n",
    "clf_ebm = make_pipeline_clf(\"EBM\")\n",
    "clf_ebm.fit(X, y)\n",
    "\n",
    "clf_lr_l2 = make_pipeline_clf(\"LR_l2\")\n",
    "clf_lr_l2.fit(X, y)\n",
    "\n",
    "clf_gnb = make_pipeline_clf(\"GNB\")\n",
    "clf_gnb.fit(X, y)\n",
    "\n",
    "clf_lr = make_pipeline_clf(\"LR\")\n",
    "clf_lr.fit(X, y)\n",
    "\n",
    "clf_dl = make_pipeline_clf(\"DL\")\n",
    "clf_dl.fit(X, y)\n",
    "\n",
    "clf_cart_exp = dx.Explainer(clf_cart, X, y, label=\"CART\")\n",
    "clf_ebm_exp = dx.Explainer(clf_ebm, X, y, label=\"EBM\")\n",
    "clf_lr_l2_exp = dx.Explainer(clf_lr_l2, X, y, label=\"LR_l2\")\n",
    "clf_gnb_exp = dx.Explainer(clf_gnb, X, y, label=\"GNB\")\n",
    "clf_lr_exp = dx.Explainer(clf_lr, X, y, label=\"LR\")\n",
    "clf_dl_exp = dx.Explainer(clf_dl, X, y, label=\"DL\")\n",
    "\n"
   ]
  },
  {
   "cell_type": "markdown",
   "metadata": {},
   "source": [
    "### Model Partial Dependence profile"
   ]
  },
  {
   "cell_type": "code",
   "execution_count": 44,
   "metadata": {},
   "outputs": [
    {
     "data": {
      "text/plain": [
       "ColumnTransformer(transformers=[('onehotencoder',\n",
       "                                 OneHotEncoder(handle_unknown='ignore',\n",
       "                                               sparse=False),\n",
       "                                 ['WorkClass', 'Education', 'MaritalStatus',\n",
       "                                  'Occupation', 'Relationship', 'Race',\n",
       "                                  'Gender', 'NativeCountry']),\n",
       "                                ('standardscaler', StandardScaler(),\n",
       "                                 ['Age', 'fnlwgt', 'EducationNum',\n",
       "                                  'CapitalGain', 'CapitalLoss',\n",
       "                                  'HoursPerWeek'])])"
      ]
     },
     "execution_count": 44,
     "metadata": {},
     "output_type": "execute_result"
    }
   ],
   "source": [
    "preprocess"
   ]
  },
  {
   "cell_type": "code",
   "execution_count": 45,
   "metadata": {},
   "outputs": [],
   "source": [
    "cat_feat = ['WorkClass', 'Education', 'MaritalStatus',\n",
    "                                  'Occupation', 'Relationship', 'Race',\n",
    "                                  'Gender', 'NativeCountry']\n",
    "cont_feat = ['Age', 'fnlwgt', 'EducationNum',\n",
    "                                  'CapitalGain', 'CapitalLoss',\n",
    "                                  'HoursPerWeek']"
   ]
  },
  {
   "cell_type": "code",
   "execution_count": 46,
   "metadata": {},
   "outputs": [
    {
     "name": "stderr",
     "output_type": "stream",
     "text": [
      "Calculating ceteris paribus: 100%|██████████| 8/8 [00:00<00:00, 18.65it/s]\n",
      "Calculating ceteris paribus: 100%|██████████| 8/8 [00:12<00:00,  1.51s/it]\n",
      "Calculating ceteris paribus: 100%|██████████| 8/8 [00:00<00:00, 15.88it/s]\n",
      "Calculating ceteris paribus: 100%|██████████| 8/8 [00:00<00:00, 17.85it/s]\n",
      "Calculating ceteris paribus: 100%|██████████| 8/8 [00:00<00:00, 14.95it/s]\n",
      "Calculating ceteris paribus: 100%|██████████| 8/8 [00:01<00:00,  4.32it/s]\n",
      "Calculating ceteris paribus: 100%|██████████| 6/6 [00:01<00:00,  4.47it/s]\n",
      "Calculating ceteris paribus: 100%|██████████| 6/6 [01:06<00:00, 11.13s/it]\n",
      "Calculating ceteris paribus: 100%|██████████| 6/6 [00:01<00:00,  4.29it/s]\n",
      "Calculating ceteris paribus: 100%|██████████| 6/6 [00:02<00:00,  2.99it/s]\n",
      "Calculating ceteris paribus: 100%|██████████| 6/6 [00:01<00:00,  4.17it/s]\n",
      "Calculating ceteris paribus: 100%|██████████| 6/6 [00:02<00:00,  2.80it/s]\n"
     ]
    }
   ],
   "source": [
    "#categorical pd profiles\n",
    "pd_cart_cat = clf_cart_exp.model_profile(variable_type=\"categorical\", variables=cat_feat)\n",
    "\n",
    "pd_ebm_cat = clf_ebm_exp.model_profile(variables= cat_feat,\n",
    "                                         variable_type=\"categorical\")\n",
    "\n",
    "pd_lr_l2_cat = clf_lr_l2_exp.model_profile(variables= cat_feat,\n",
    "                                         variable_type=\"categorical\")\n",
    "\n",
    "pd_gnb_cat = clf_gnb_exp.model_profile(variables= cat_feat,\n",
    "                                         variable_type=\"categorical\")\n",
    "\n",
    "pd_lr_cat = clf_lr_exp.model_profile(variables= cat_feat,\n",
    "                                         variable_type=\"categorical\")\n",
    "\n",
    "pd_dl_cat = clf_dl_exp.model_profile(variables= cat_feat,\n",
    "                                         variable_type=\"categorical\")\n",
    "\n",
    "#continous pd profiles\n",
    "pd_cart = clf_cart_exp.model_profile(variables= cont_feat)\n",
    "\n",
    "pd_ebm = clf_ebm_exp.model_profile(variables= cont_feat)\n",
    "\n",
    "pd_lr_l2 = clf_lr_l2_exp.model_profile(variables= cont_feat)\n",
    "\n",
    "pd_gnb = clf_gnb_exp.model_profile(variables= cont_feat)\n",
    "\n",
    "pd_lr = clf_lr_exp.model_profile(variables= cont_feat)\n",
    "\n",
    "pd_dl = clf_dl_exp.model_profile(variables= cont_feat)"
   ]
  },
  {
   "cell_type": "markdown",
   "metadata": {},
   "source": [
    "### Plot Aggregated Profiles for Categorical"
   ]
  },
  {
   "cell_type": "code",
   "execution_count": 47,
   "metadata": {},
   "outputs": [
    {
     "data": {
      "application/vnd.plotly.v1+json": {
       "config": {
        "displaylogo": false,
        "modeBarButtonsToRemove": [
         "sendDataToCloud",
         "lasso2d",
         "autoScale2d",
         "select2d",
         "zoom2d",
         "pan2d",
         "zoomIn2d",
         "zoomOut2d",
         "resetScale2d",
         "toggleSpikelines",
         "hoverCompareCartesian",
         "hoverClosestCartesian"
        ],
        "plotlyServerURL": "https://plot.ly",
        "staticPlot": false,
        "toImageButtonOptions": {
         "height": null,
         "width": null
        }
       },
       "data": [
        {
         "alignmentgroup": "True",
         "base": [
          0.20333333333333334,
          0.20333333333333334,
          0.20333333333333334,
          0.20333333333333334,
          0.20333333333333334,
          0.20333333333333334,
          0.20333333333333334,
          0.20333333333333334,
          0.20333333333333334
         ],
         "customdata": [
          [
           0.17,
           "CART",
           "WorkClass"
          ],
          [
           0.2,
           "CART",
           "WorkClass"
          ],
          [
           0.19333333333333333,
           "CART",
           "WorkClass"
          ],
          [
           0.25666666666666665,
           "CART",
           "WorkClass"
          ],
          [
           0.20333333333333334,
           "CART",
           "WorkClass"
          ],
          [
           0.16,
           "CART",
           "WorkClass"
          ],
          [
           0.22666666666666666,
           "CART",
           "WorkClass"
          ],
          [
           0.2,
           "CART",
           "WorkClass"
          ],
          [
           0.2,
           "CART",
           "WorkClass"
          ]
         ],
         "hovertemplate": "<b>%{hovertext}</b><br><br>mean_prediction=%{base:.3f}<br>prediction=%{customdata[0]:.3f}<extra></extra>",
         "hovertext": [
          "CART",
          "CART",
          "CART",
          "CART",
          "CART",
          "CART",
          "CART",
          "CART",
          "CART"
         ],
         "legendgroup": "CART",
         "marker": {
          "color": "#8bdcbe",
          "pattern": {
           "shape": ""
          }
         },
         "name": "CART",
         "offsetgroup": "CART",
         "orientation": "v",
         "showlegend": true,
         "textposition": "auto",
         "type": "bar",
         "x": [
          " Self-emp-not-inc",
          " Private",
          " State-gov",
          " Federal-gov",
          " Local-gov",
          " ?",
          " Self-emp-inc",
          " Without-pay",
          " Never-worked"
         ],
         "xaxis": "x7",
         "y": [
          -0.033333333333333326,
          -0.003333333333333327,
          -0.010000000000000009,
          0.053333333333333316,
          0,
          -0.043333333333333335,
          0.023333333333333317,
          -0.003333333333333327,
          -0.003333333333333327
         ],
         "yaxis": "y7"
        },
        {
         "alignmentgroup": "True",
         "base": [
          0.20333333333333334,
          0.20333333333333334,
          0.20333333333333334,
          0.20333333333333334,
          0.20333333333333334,
          0.20333333333333334,
          0.20333333333333334,
          0.20333333333333334,
          0.20333333333333334,
          0.20333333333333334,
          0.20333333333333334,
          0.20333333333333334,
          0.20333333333333334,
          0.20333333333333334,
          0.20333333333333334,
          0.20333333333333334
         ],
         "customdata": [
          [
           0.20333333333333334,
           "CART",
           "Education"
          ],
          [
           0.20666666666666667,
           "CART",
           "Education"
          ],
          [
           0.20666666666666667,
           "CART",
           "Education"
          ],
          [
           0.20666666666666667,
           "CART",
           "Education"
          ],
          [
           0.20666666666666667,
           "CART",
           "Education"
          ],
          [
           0.20333333333333334,
           "CART",
           "Education"
          ],
          [
           0.20666666666666667,
           "CART",
           "Education"
          ],
          [
           0.21,
           "CART",
           "Education"
          ],
          [
           0.20666666666666667,
           "CART",
           "Education"
          ],
          [
           0.20666666666666667,
           "CART",
           "Education"
          ],
          [
           0.20666666666666667,
           "CART",
           "Education"
          ],
          [
           0.20666666666666667,
           "CART",
           "Education"
          ],
          [
           0.20666666666666667,
           "CART",
           "Education"
          ],
          [
           0.20666666666666667,
           "CART",
           "Education"
          ],
          [
           0.20666666666666667,
           "CART",
           "Education"
          ],
          [
           0.20666666666666667,
           "CART",
           "Education"
          ]
         ],
         "hovertemplate": "<b>%{hovertext}</b><br><br>mean_prediction=%{base:.3f}<br>prediction=%{customdata[0]:.3f}<extra></extra>",
         "hovertext": [
          "CART",
          "CART",
          "CART",
          "CART",
          "CART",
          "CART",
          "CART",
          "CART",
          "CART",
          "CART",
          "CART",
          "CART",
          "CART",
          "CART",
          "CART",
          "CART"
         ],
         "legendgroup": "CART",
         "marker": {
          "color": "#8bdcbe",
          "pattern": {
           "shape": ""
          }
         },
         "name": "CART",
         "offsetgroup": "CART",
         "orientation": "v",
         "showlegend": false,
         "textposition": "auto",
         "type": "bar",
         "x": [
          " Bachelors",
          " HS-grad",
          " 11th",
          " Masters",
          " 9th",
          " Some-college",
          " Assoc-acdm",
          " Assoc-voc",
          " 7th-8th",
          " Doctorate",
          " Prof-school",
          " 5th-6th",
          " 10th",
          " 1st-4th",
          " Preschool",
          " 12th"
         ],
         "xaxis": "x8",
         "y": [
          0,
          0.003333333333333327,
          0.003333333333333327,
          0.003333333333333327,
          0.003333333333333327,
          0,
          0.003333333333333327,
          0.006666666666666654,
          0.003333333333333327,
          0.003333333333333327,
          0.003333333333333327,
          0.003333333333333327,
          0.003333333333333327,
          0.003333333333333327,
          0.003333333333333327,
          0.003333333333333327
         ],
         "yaxis": "y8"
        },
        {
         "alignmentgroup": "True",
         "base": [
          0.20333333333333334,
          0.20333333333333334,
          0.20333333333333334,
          0.20333333333333334,
          0.20333333333333334,
          0.20333333333333334,
          0.20333333333333334
         ],
         "customdata": [
          [
           0.29,
           "CART",
           "MaritalStatus"
          ],
          [
           0.05,
           "CART",
           "MaritalStatus"
          ],
          [
           0.05333333333333334,
           "CART",
           "MaritalStatus"
          ],
          [
           0.04666666666666667,
           "CART",
           "MaritalStatus"
          ],
          [
           0.056666666666666664,
           "CART",
           "MaritalStatus"
          ],
          [
           0.58,
           "CART",
           "MaritalStatus"
          ],
          [
           0.05333333333333334,
           "CART",
           "MaritalStatus"
          ]
         ],
         "hovertemplate": "<b>%{hovertext}</b><br><br>mean_prediction=%{base:.3f}<br>prediction=%{customdata[0]:.3f}<extra></extra>",
         "hovertext": [
          "CART",
          "CART",
          "CART",
          "CART",
          "CART",
          "CART",
          "CART"
         ],
         "legendgroup": "CART",
         "marker": {
          "color": "#8bdcbe",
          "pattern": {
           "shape": ""
          }
         },
         "name": "CART",
         "offsetgroup": "CART",
         "orientation": "v",
         "showlegend": false,
         "textposition": "auto",
         "type": "bar",
         "x": [
          " Married-civ-spouse",
          " Divorced",
          " Married-spouse-absent",
          " Never-married",
          " Separated",
          " Married-AF-spouse",
          " Widowed"
         ],
         "xaxis": "x5",
         "y": [
          0.08666666666666664,
          -0.15333333333333332,
          -0.15,
          -0.15666666666666668,
          -0.14666666666666667,
          0.3766666666666666,
          -0.15
         ],
         "yaxis": "y5"
        },
        {
         "alignmentgroup": "True",
         "base": [
          0.20333333333333334,
          0.20333333333333334,
          0.20333333333333334,
          0.20333333333333334,
          0.20333333333333334,
          0.20333333333333334,
          0.20333333333333334,
          0.20333333333333334,
          0.20333333333333334,
          0.20333333333333334,
          0.20333333333333334,
          0.20333333333333334,
          0.20333333333333334,
          0.20333333333333334,
          0.20333333333333334
         ],
         "customdata": [
          [
           0.2866666666666667,
           "CART",
           "Occupation"
          ],
          [
           0.12666666666666668,
           "CART",
           "Occupation"
          ],
          [
           0.25,
           "CART",
           "Occupation"
          ],
          [
           0.08666666666666667,
           "CART",
           "Occupation"
          ],
          [
           0.15,
           "CART",
           "Occupation"
          ],
          [
           0.19666666666666666,
           "CART",
           "Occupation"
          ],
          [
           0.16,
           "CART",
           "Occupation"
          ],
          [
           0.15,
           "CART",
           "Occupation"
          ],
          [
           0.09,
           "CART",
           "Occupation"
          ],
          [
           0.14666666666666667,
           "CART",
           "Occupation"
          ],
          [
           0.2966666666666667,
           "CART",
           "Occupation"
          ],
          [
           0.18333333333333332,
           "CART",
           "Occupation"
          ],
          [
           0.21333333333333335,
           "CART",
           "Occupation"
          ],
          [
           0.19333333333333333,
           "CART",
           "Occupation"
          ],
          [
           0.19333333333333333,
           "CART",
           "Occupation"
          ]
         ],
         "hovertemplate": "<b>%{hovertext}</b><br><br>mean_prediction=%{base:.3f}<br>prediction=%{customdata[0]:.3f}<extra></extra>",
         "hovertext": [
          "CART",
          "CART",
          "CART",
          "CART",
          "CART",
          "CART",
          "CART",
          "CART",
          "CART",
          "CART",
          "CART",
          "CART",
          "CART",
          "CART",
          "CART"
         ],
         "legendgroup": "CART",
         "marker": {
          "color": "#8bdcbe",
          "pattern": {
           "shape": ""
          }
         },
         "name": "CART",
         "offsetgroup": "CART",
         "orientation": "v",
         "showlegend": false,
         "textposition": "auto",
         "type": "bar",
         "x": [
          " Exec-managerial",
          " Handlers-cleaners",
          " Prof-specialty",
          " Other-service",
          " Adm-clerical",
          " Sales",
          " Craft-repair",
          " Transport-moving",
          " Farming-fishing",
          " Machine-op-inspct",
          " Tech-support",
          " ?",
          " Protective-serv",
          " Armed-Forces",
          " Priv-house-serv"
         ],
         "xaxis": "x6",
         "y": [
          0.08333333333333334,
          -0.07666666666666666,
          0.04666666666666666,
          -0.11666666666666667,
          -0.053333333333333344,
          -0.006666666666666682,
          -0.043333333333333335,
          -0.053333333333333344,
          -0.11333333333333334,
          -0.05666666666666667,
          0.09333333333333335,
          -0.020000000000000018,
          0.010000000000000009,
          -0.010000000000000009,
          -0.010000000000000009
         ],
         "yaxis": "y6"
        },
        {
         "alignmentgroup": "True",
         "base": [
          0.20333333333333334,
          0.20333333333333334,
          0.20333333333333334,
          0.20333333333333334,
          0.20333333333333334,
          0.20333333333333334
         ],
         "customdata": [
          [
           0.20333333333333334,
           "CART",
           "Relationship"
          ],
          [
           0.21333333333333335,
           "CART",
           "Relationship"
          ],
          [
           0.21666666666666667,
           "CART",
           "Relationship"
          ],
          [
           0.11333333333333333,
           "CART",
           "Relationship"
          ],
          [
           0.20333333333333334,
           "CART",
           "Relationship"
          ],
          [
           0.14,
           "CART",
           "Relationship"
          ]
         ],
         "hovertemplate": "<b>%{hovertext}</b><br><br>mean_prediction=%{base:.3f}<br>prediction=%{customdata[0]:.3f}<extra></extra>",
         "hovertext": [
          "CART",
          "CART",
          "CART",
          "CART",
          "CART",
          "CART"
         ],
         "legendgroup": "CART",
         "marker": {
          "color": "#8bdcbe",
          "pattern": {
           "shape": ""
          }
         },
         "name": "CART",
         "offsetgroup": "CART",
         "orientation": "v",
         "showlegend": false,
         "textposition": "auto",
         "type": "bar",
         "x": [
          " Husband",
          " Not-in-family",
          " Wife",
          " Own-child",
          " Unmarried",
          " Other-relative"
         ],
         "xaxis": "x3",
         "y": [
          0,
          0.010000000000000009,
          0.013333333333333336,
          -0.09000000000000001,
          0,
          -0.06333333333333332
         ],
         "yaxis": "y3"
        },
        {
         "alignmentgroup": "True",
         "base": [
          0.20333333333333334,
          0.20333333333333334,
          0.20333333333333334,
          0.20333333333333334,
          0.20333333333333334
         ],
         "customdata": [
          [
           0.20666666666666667,
           "CART",
           "Race"
          ],
          [
           0.20333333333333334,
           "CART",
           "Race"
          ],
          [
           0.21333333333333335,
           "CART",
           "Race"
          ],
          [
           0.19666666666666666,
           "CART",
           "Race"
          ],
          [
           0.19,
           "CART",
           "Race"
          ]
         ],
         "hovertemplate": "<b>%{hovertext}</b><br><br>mean_prediction=%{base:.3f}<br>prediction=%{customdata[0]:.3f}<extra></extra>",
         "hovertext": [
          "CART",
          "CART",
          "CART",
          "CART",
          "CART"
         ],
         "legendgroup": "CART",
         "marker": {
          "color": "#8bdcbe",
          "pattern": {
           "shape": ""
          }
         },
         "name": "CART",
         "offsetgroup": "CART",
         "orientation": "v",
         "showlegend": false,
         "textposition": "auto",
         "type": "bar",
         "x": [
          " White",
          " Black",
          " Asian-Pac-Islander",
          " Amer-Indian-Eskimo",
          " Other"
         ],
         "xaxis": "x4",
         "y": [
          0.003333333333333327,
          0,
          0.010000000000000009,
          -0.006666666666666682,
          -0.013333333333333336
         ],
         "yaxis": "y4"
        },
        {
         "alignmentgroup": "True",
         "base": [
          0.20333333333333334,
          0.20333333333333334
         ],
         "customdata": [
          [
           0.20333333333333334,
           "CART",
           "Gender"
          ],
          [
           0.2,
           "CART",
           "Gender"
          ]
         ],
         "hovertemplate": "<b>%{hovertext}</b><br><br>mean_prediction=%{base:.3f}<br>prediction=%{customdata[0]:.3f}<extra></extra>",
         "hovertext": [
          "CART",
          "CART"
         ],
         "legendgroup": "CART",
         "marker": {
          "color": "#8bdcbe",
          "pattern": {
           "shape": ""
          }
         },
         "name": "CART",
         "offsetgroup": "CART",
         "orientation": "v",
         "showlegend": false,
         "textposition": "auto",
         "type": "bar",
         "x": [
          " Male",
          " Female"
         ],
         "xaxis": "x",
         "y": [
          0,
          -0.003333333333333327
         ],
         "yaxis": "y"
        },
        {
         "alignmentgroup": "True",
         "base": [
          0.20333333333333334,
          0.20333333333333334,
          0.20333333333333334,
          0.20333333333333334,
          0.20333333333333334,
          0.20333333333333334,
          0.20333333333333334,
          0.20333333333333334,
          0.20333333333333334,
          0.20333333333333334,
          0.20333333333333334,
          0.20333333333333334,
          0.20333333333333334,
          0.20333333333333334,
          0.20333333333333334,
          0.20333333333333334,
          0.20333333333333334,
          0.20333333333333334,
          0.20333333333333334,
          0.20333333333333334,
          0.20333333333333334,
          0.20333333333333334,
          0.20333333333333334,
          0.20333333333333334,
          0.20333333333333334,
          0.20333333333333334,
          0.20333333333333334,
          0.20333333333333334,
          0.20333333333333334,
          0.20333333333333334,
          0.20333333333333334,
          0.20333333333333334,
          0.20333333333333334,
          0.20333333333333334,
          0.20333333333333334,
          0.20333333333333334,
          0.20333333333333334,
          0.20333333333333334,
          0.20333333333333334,
          0.20333333333333334,
          0.20333333333333334
         ],
         "customdata": [
          [
           0.21,
           "CART",
           "NativeCountry"
          ],
          [
           0.20333333333333334,
           "CART",
           "NativeCountry"
          ],
          [
           0.20333333333333334,
           "CART",
           "NativeCountry"
          ],
          [
           0.2,
           "CART",
           "NativeCountry"
          ],
          [
           0.20333333333333334,
           "CART",
           "NativeCountry"
          ],
          [
           0.17333333333333334,
           "CART",
           "NativeCountry"
          ],
          [
           0.18666666666666668,
           "CART",
           "NativeCountry"
          ],
          [
           0.20333333333333334,
           "CART",
           "NativeCountry"
          ],
          [
           0.20333333333333334,
           "CART",
           "NativeCountry"
          ],
          [
           0.20333333333333334,
           "CART",
           "NativeCountry"
          ],
          [
           0.2,
           "CART",
           "NativeCountry"
          ],
          [
           0.20333333333333334,
           "CART",
           "NativeCountry"
          ],
          [
           0.20333333333333334,
           "CART",
           "NativeCountry"
          ],
          [
           0.3466666666666667,
           "CART",
           "NativeCountry"
          ],
          [
           0.21333333333333335,
           "CART",
           "NativeCountry"
          ],
          [
           0.20333333333333334,
           "CART",
           "NativeCountry"
          ],
          [
           0.12666666666666668,
           "CART",
           "NativeCountry"
          ],
          [
           0.38666666666666666,
           "CART",
           "NativeCountry"
          ],
          [
           0.20333333333333334,
           "CART",
           "NativeCountry"
          ],
          [
           0.20333333333333334,
           "CART",
           "NativeCountry"
          ],
          [
           0.20333333333333334,
           "CART",
           "NativeCountry"
          ],
          [
           0.20333333333333334,
           "CART",
           "NativeCountry"
          ],
          [
           0.20333333333333334,
           "CART",
           "NativeCountry"
          ],
          [
           0.20333333333333334,
           "CART",
           "NativeCountry"
          ],
          [
           0.20333333333333334,
           "CART",
           "NativeCountry"
          ],
          [
           0.20333333333333334,
           "CART",
           "NativeCountry"
          ],
          [
           0.24333333333333335,
           "CART",
           "NativeCountry"
          ],
          [
           0.20333333333333334,
           "CART",
           "NativeCountry"
          ],
          [
           0.18,
           "CART",
           "NativeCountry"
          ],
          [
           0.21,
           "CART",
           "NativeCountry"
          ],
          [
           0.20333333333333334,
           "CART",
           "NativeCountry"
          ],
          [
           0.20333333333333334,
           "CART",
           "NativeCountry"
          ],
          [
           0.20333333333333334,
           "CART",
           "NativeCountry"
          ],
          [
           0.20333333333333334,
           "CART",
           "NativeCountry"
          ],
          [
           0.20333333333333334,
           "CART",
           "NativeCountry"
          ],
          [
           0.2,
           "CART",
           "NativeCountry"
          ],
          [
           0.20333333333333334,
           "CART",
           "NativeCountry"
          ],
          [
           0.14333333333333334,
           "CART",
           "NativeCountry"
          ],
          [
           0.20333333333333334,
           "CART",
           "NativeCountry"
          ],
          [
           0.20333333333333334,
           "CART",
           "NativeCountry"
          ],
          [
           0.20333333333333334,
           "CART",
           "NativeCountry"
          ]
         ],
         "hovertemplate": "<b>%{hovertext}</b><br><br>mean_prediction=%{base:.3f}<br>prediction=%{customdata[0]:.3f}<extra></extra>",
         "hovertext": [
          "CART",
          "CART",
          "CART",
          "CART",
          "CART",
          "CART",
          "CART",
          "CART",
          "CART",
          "CART",
          "CART",
          "CART",
          "CART",
          "CART",
          "CART",
          "CART",
          "CART",
          "CART",
          "CART",
          "CART",
          "CART",
          "CART",
          "CART",
          "CART",
          "CART",
          "CART",
          "CART",
          "CART",
          "CART",
          "CART",
          "CART",
          "CART",
          "CART",
          "CART",
          "CART",
          "CART",
          "CART",
          "CART",
          "CART",
          "CART",
          "CART"
         ],
         "legendgroup": "CART",
         "marker": {
          "color": "#8bdcbe",
          "pattern": {
           "shape": ""
          }
         },
         "name": "CART",
         "offsetgroup": "CART",
         "orientation": "v",
         "showlegend": false,
         "textposition": "auto",
         "type": "bar",
         "x": [
          " United-States",
          " Cuba",
          " Jamaica",
          " India",
          " ?",
          " Mexico",
          " South",
          " Puerto-Rico",
          " Honduras",
          " England",
          " Canada",
          " Germany",
          " Iran",
          " Philippines",
          " Italy",
          " Poland",
          " Columbia",
          " Cambodia",
          " Thailand",
          " Ecuador",
          " Laos",
          " Taiwan",
          " Haiti",
          " Portugal",
          " Dominican-Republic",
          " El-Salvador",
          " France",
          " Guatemala",
          " China",
          " Japan",
          " Yugoslavia",
          " Peru",
          " Outlying-US(Guam-USVI-etc)",
          " Scotland",
          " Trinadad&Tobago",
          " Greece",
          " Nicaragua",
          " Vietnam",
          " Hong",
          " Ireland",
          " Hungary"
         ],
         "xaxis": "x2",
         "y": [
          0.006666666666666654,
          0,
          0,
          -0.003333333333333327,
          0,
          -0.03,
          -0.016666666666666663,
          0,
          0,
          0,
          -0.003333333333333327,
          0,
          0,
          0.14333333333333334,
          0.010000000000000009,
          0,
          -0.07666666666666666,
          0.18333333333333332,
          0,
          0,
          0,
          0,
          0,
          0,
          0,
          0,
          0.04000000000000001,
          0,
          -0.023333333333333345,
          0.006666666666666654,
          0,
          0,
          0,
          0,
          0,
          -0.003333333333333327,
          0,
          -0.06,
          0,
          0,
          0
         ],
         "yaxis": "y2"
        },
        {
         "alignmentgroup": "True",
         "base": [
          0.219543296782875,
          0.219543296782875,
          0.219543296782875,
          0.219543296782875,
          0.219543296782875,
          0.219543296782875,
          0.219543296782875,
          0.219543296782875,
          0.219543296782875
         ],
         "customdata": [
          [
           0.17849746182208642,
           "EBM",
           "WorkClass"
          ],
          [
           0.22306229357568536,
           "EBM",
           "WorkClass"
          ],
          [
           0.1916721840495916,
           "EBM",
           "WorkClass"
          ],
          [
           0.2920710843639147,
           "EBM",
           "WorkClass"
          ],
          [
           0.2068546922019659,
           "EBM",
           "WorkClass"
          ],
          [
           0.17544136852143657,
           "EBM",
           "WorkClass"
          ],
          [
           0.24895353861178013,
           "EBM",
           "WorkClass"
          ],
          [
           0.013787648558458718,
           "EBM",
           "WorkClass"
          ],
          [
           0.03320813220303282,
           "EBM",
           "WorkClass"
          ]
         ],
         "hovertemplate": "<b>%{hovertext}</b><br><br>mean_prediction=%{base:.3f}<br>prediction=%{customdata[0]:.3f}<extra></extra>",
         "hovertext": [
          "EBM",
          "EBM",
          "EBM",
          "EBM",
          "EBM",
          "EBM",
          "EBM",
          "EBM",
          "EBM"
         ],
         "legendgroup": "EBM",
         "marker": {
          "color": "#f05a71",
          "pattern": {
           "shape": ""
          }
         },
         "name": "EBM",
         "offsetgroup": "EBM",
         "orientation": "v",
         "showlegend": true,
         "textposition": "auto",
         "type": "bar",
         "x": [
          " Self-emp-not-inc",
          " Private",
          " State-gov",
          " Federal-gov",
          " Local-gov",
          " ?",
          " Self-emp-inc",
          " Without-pay",
          " Never-worked"
         ],
         "xaxis": "x7",
         "y": [
          -0.04104583496078859,
          0.0035189967928103416,
          -0.02787111273328341,
          0.0725277875810397,
          -0.012688604580909119,
          -0.04410192826143844,
          0.029410241828905115,
          -0.2057556482244163,
          -0.1863351645798422
         ],
         "yaxis": "y7"
        },
        {
         "alignmentgroup": "True",
         "base": [
          0.219543296782875,
          0.219543296782875,
          0.219543296782875,
          0.219543296782875,
          0.219543296782875,
          0.219543296782875,
          0.219543296782875,
          0.219543296782875,
          0.219543296782875,
          0.219543296782875,
          0.219543296782875,
          0.219543296782875,
          0.219543296782875,
          0.219543296782875,
          0.219543296782875,
          0.219543296782875
         ],
         "customdata": [
          [
           0.2813904189910822,
           "EBM",
           "Education"
          ],
          [
           0.16821217442236322,
           "EBM",
           "Education"
          ],
          [
           0.0995990586621761,
           "EBM",
           "Education"
          ],
          [
           0.31862318201477796,
           "EBM",
           "Education"
          ],
          [
           0.08187779183525226,
           "EBM",
           "Education"
          ],
          [
           0.2136634955762323,
           "EBM",
           "Education"
          ],
          [
           0.23665148094951108,
           "EBM",
           "Education"
          ],
          [
           0.2394288746642487,
           "EBM",
           "Education"
          ],
          [
           0.0491040490549609,
           "EBM",
           "Education"
          ],
          [
           0.3856818876887875,
           "EBM",
           "Education"
          ],
          [
           0.3734868263348646,
           "EBM",
           "Education"
          ],
          [
           0.06341310766303716,
           "EBM",
           "Education"
          ],
          [
           0.09270699609484818,
           "EBM",
           "Education"
          ],
          [
           0.0354805330876724,
           "EBM",
           "Education"
          ],
          [
           0.03594189222799219,
           "EBM",
           "Education"
          ],
          [
           0.13146825587365987,
           "EBM",
           "Education"
          ]
         ],
         "hovertemplate": "<b>%{hovertext}</b><br><br>mean_prediction=%{base:.3f}<br>prediction=%{customdata[0]:.3f}<extra></extra>",
         "hovertext": [
          "EBM",
          "EBM",
          "EBM",
          "EBM",
          "EBM",
          "EBM",
          "EBM",
          "EBM",
          "EBM",
          "EBM",
          "EBM",
          "EBM",
          "EBM",
          "EBM",
          "EBM",
          "EBM"
         ],
         "legendgroup": "EBM",
         "marker": {
          "color": "#f05a71",
          "pattern": {
           "shape": ""
          }
         },
         "name": "EBM",
         "offsetgroup": "EBM",
         "orientation": "v",
         "showlegend": false,
         "textposition": "auto",
         "type": "bar",
         "x": [
          " Bachelors",
          " HS-grad",
          " 11th",
          " Masters",
          " 9th",
          " Some-college",
          " Assoc-acdm",
          " Assoc-voc",
          " 7th-8th",
          " Doctorate",
          " Prof-school",
          " 5th-6th",
          " 10th",
          " 1st-4th",
          " Preschool",
          " 12th"
         ],
         "xaxis": "x8",
         "y": [
          0.06184712220820718,
          -0.051331122360511794,
          -0.11994423812069892,
          0.09907988523190295,
          -0.13766550494762275,
          -0.005879801206642721,
          0.017108184166636065,
          0.019885577881373684,
          -0.1704392477279141,
          0.16613859090591246,
          0.15394352955198956,
          -0.15613018911983784,
          -0.12683630068802682,
          -0.1840627636952026,
          -0.18360140455488283,
          -0.08807504090921514
         ],
         "yaxis": "y8"
        },
        {
         "alignmentgroup": "True",
         "base": [
          0.219543296782875,
          0.219543296782875,
          0.219543296782875,
          0.219543296782875,
          0.219543296782875,
          0.219543296782875,
          0.219543296782875
         ],
         "customdata": [
          [
           0.24996783530544917,
           "EBM",
           "MaritalStatus"
          ],
          [
           0.11423770607251668,
           "EBM",
           "MaritalStatus"
          ],
          [
           0.1143076045870913,
           "EBM",
           "MaritalStatus"
          ],
          [
           0.06894457011158577,
           "EBM",
           "MaritalStatus"
          ],
          [
           0.10798745639631276,
           "EBM",
           "MaritalStatus"
          ],
          [
           0.437794266295062,
           "EBM",
           "MaritalStatus"
          ],
          [
           0.1237093614459923,
           "EBM",
           "MaritalStatus"
          ]
         ],
         "hovertemplate": "<b>%{hovertext}</b><br><br>mean_prediction=%{base:.3f}<br>prediction=%{customdata[0]:.3f}<extra></extra>",
         "hovertext": [
          "EBM",
          "EBM",
          "EBM",
          "EBM",
          "EBM",
          "EBM",
          "EBM"
         ],
         "legendgroup": "EBM",
         "marker": {
          "color": "#f05a71",
          "pattern": {
           "shape": ""
          }
         },
         "name": "EBM",
         "offsetgroup": "EBM",
         "orientation": "v",
         "showlegend": false,
         "textposition": "auto",
         "type": "bar",
         "x": [
          " Married-civ-spouse",
          " Divorced",
          " Married-spouse-absent",
          " Never-married",
          " Separated",
          " Married-AF-spouse",
          " Widowed"
         ],
         "xaxis": "x5",
         "y": [
          0.03042453852257415,
          -0.10530559071035833,
          -0.10523569219578371,
          -0.15059872667128926,
          -0.11155584038656226,
          0.218250969512187,
          -0.09583393533688271
         ],
         "yaxis": "y5"
        },
        {
         "alignmentgroup": "True",
         "base": [
          0.219543296782875,
          0.219543296782875,
          0.219543296782875,
          0.219543296782875,
          0.219543296782875,
          0.219543296782875,
          0.219543296782875,
          0.219543296782875,
          0.219543296782875,
          0.219543296782875,
          0.219543296782875,
          0.219543296782875,
          0.219543296782875,
          0.219543296782875,
          0.219543296782875
         ],
         "customdata": [
          [
           0.3006537053002045,
           "EBM",
           "Occupation"
          ],
          [
           0.11479990641780366,
           "EBM",
           "Occupation"
          ],
          [
           0.26031485581456354,
           "EBM",
           "Occupation"
          ],
          [
           0.10660535498858764,
           "EBM",
           "Occupation"
          ],
          [
           0.19489074276816326,
           "EBM",
           "Occupation"
          ],
          [
           0.22832318960194817,
           "EBM",
           "Occupation"
          ],
          [
           0.20364451687824264,
           "EBM",
           "Occupation"
          ],
          [
           0.18904233691502467,
           "EBM",
           "Occupation"
          ],
          [
           0.09065230557276141,
           "EBM",
           "Occupation"
          ],
          [
           0.16230952070076354,
           "EBM",
           "Occupation"
          ],
          [
           0.2853282986249376,
           "EBM",
           "Occupation"
          ],
          [
           0.18184192332614363,
           "EBM",
           "Occupation"
          ],
          [
           0.26758346419732126,
           "EBM",
           "Occupation"
          ],
          [
           0.08763899205462292,
           "EBM",
           "Occupation"
          ],
          [
           0.033551597924505155,
           "EBM",
           "Occupation"
          ]
         ],
         "hovertemplate": "<b>%{hovertext}</b><br><br>mean_prediction=%{base:.3f}<br>prediction=%{customdata[0]:.3f}<extra></extra>",
         "hovertext": [
          "EBM",
          "EBM",
          "EBM",
          "EBM",
          "EBM",
          "EBM",
          "EBM",
          "EBM",
          "EBM",
          "EBM",
          "EBM",
          "EBM",
          "EBM",
          "EBM",
          "EBM"
         ],
         "legendgroup": "EBM",
         "marker": {
          "color": "#f05a71",
          "pattern": {
           "shape": ""
          }
         },
         "name": "EBM",
         "offsetgroup": "EBM",
         "orientation": "v",
         "showlegend": false,
         "textposition": "auto",
         "type": "bar",
         "x": [
          " Exec-managerial",
          " Handlers-cleaners",
          " Prof-specialty",
          " Other-service",
          " Adm-clerical",
          " Sales",
          " Craft-repair",
          " Transport-moving",
          " Farming-fishing",
          " Machine-op-inspct",
          " Tech-support",
          " ?",
          " Protective-serv",
          " Armed-Forces",
          " Priv-house-serv"
         ],
         "xaxis": "x6",
         "y": [
          0.08111040851732951,
          -0.10474339036507135,
          0.040771559031688526,
          -0.11293794179428737,
          -0.024652554014711753,
          0.008779892819073154,
          -0.01589877990463237,
          -0.03050095986785034,
          -0.1288909912101136,
          -0.05723377608211147,
          0.06578500184206257,
          -0.037701373456731385,
          0.04804016741444625,
          -0.1319043047282521,
          -0.18599169885836986
         ],
         "yaxis": "y6"
        },
        {
         "alignmentgroup": "True",
         "base": [
          0.219543296782875,
          0.219543296782875,
          0.219543296782875,
          0.219543296782875,
          0.219543296782875,
          0.219543296782875
         ],
         "customdata": [
          [
           0.2185255299484586,
           "EBM",
           "Relationship"
          ],
          [
           0.1834826192304245,
           "EBM",
           "Relationship"
          ],
          [
           0.38469060644102765,
           "EBM",
           "Relationship"
          ],
          [
           0.1301782640471544,
           "EBM",
           "Relationship"
          ],
          [
           0.1660760955878226,
           "EBM",
           "Relationship"
          ],
          [
           0.16907632901127428,
           "EBM",
           "Relationship"
          ]
         ],
         "hovertemplate": "<b>%{hovertext}</b><br><br>mean_prediction=%{base:.3f}<br>prediction=%{customdata[0]:.3f}<extra></extra>",
         "hovertext": [
          "EBM",
          "EBM",
          "EBM",
          "EBM",
          "EBM",
          "EBM"
         ],
         "legendgroup": "EBM",
         "marker": {
          "color": "#f05a71",
          "pattern": {
           "shape": ""
          }
         },
         "name": "EBM",
         "offsetgroup": "EBM",
         "orientation": "v",
         "showlegend": false,
         "textposition": "auto",
         "type": "bar",
         "x": [
          " Husband",
          " Not-in-family",
          " Wife",
          " Own-child",
          " Unmarried",
          " Other-relative"
         ],
         "xaxis": "x3",
         "y": [
          -0.0010177668344164004,
          -0.036060677552450515,
          0.16514730965815264,
          -0.0893650327357206,
          -0.05346720119505241,
          -0.05046696777160073
         ],
         "yaxis": "y3"
        },
        {
         "alignmentgroup": "True",
         "base": [
          0.219543296782875,
          0.219543296782875,
          0.219543296782875,
          0.219543296782875,
          0.219543296782875
         ],
         "customdata": [
          [
           0.2203624698281288,
           "EBM",
           "Race"
          ],
          [
           0.2054985367012192,
           "EBM",
           "Race"
          ],
          [
           0.22749744752825105,
           "EBM",
           "Race"
          ],
          [
           0.1893821158251027,
           "EBM",
           "Race"
          ],
          [
           0.17827674432565024,
           "EBM",
           "Race"
          ]
         ],
         "hovertemplate": "<b>%{hovertext}</b><br><br>mean_prediction=%{base:.3f}<br>prediction=%{customdata[0]:.3f}<extra></extra>",
         "hovertext": [
          "EBM",
          "EBM",
          "EBM",
          "EBM",
          "EBM"
         ],
         "legendgroup": "EBM",
         "marker": {
          "color": "#f05a71",
          "pattern": {
           "shape": ""
          }
         },
         "name": "EBM",
         "offsetgroup": "EBM",
         "orientation": "v",
         "showlegend": false,
         "textposition": "auto",
         "type": "bar",
         "x": [
          " White",
          " Black",
          " Asian-Pac-Islander",
          " Amer-Indian-Eskimo",
          " Other"
         ],
         "xaxis": "x4",
         "y": [
          0.0008191730452537793,
          -0.01404476008165581,
          0.007954150745376032,
          -0.030161180957772316,
          -0.04126655245722477
         ],
         "yaxis": "y4"
        },
        {
         "alignmentgroup": "True",
         "base": [
          0.219543296782875,
          0.219543296782875
         ],
         "customdata": [
          [
           0.2276616733098079,
           "EBM",
           "Gender"
          ],
          [
           0.18328272026593206,
           "EBM",
           "Gender"
          ]
         ],
         "hovertemplate": "<b>%{hovertext}</b><br><br>mean_prediction=%{base:.3f}<br>prediction=%{customdata[0]:.3f}<extra></extra>",
         "hovertext": [
          "EBM",
          "EBM"
         ],
         "legendgroup": "EBM",
         "marker": {
          "color": "#f05a71",
          "pattern": {
           "shape": ""
          }
         },
         "name": "EBM",
         "offsetgroup": "EBM",
         "orientation": "v",
         "showlegend": false,
         "textposition": "auto",
         "type": "bar",
         "x": [
          " Male",
          " Female"
         ],
         "xaxis": "x",
         "y": [
          0.008118376526932897,
          -0.03626057651694295
         ],
         "yaxis": "y"
        },
        {
         "alignmentgroup": "True",
         "base": [
          0.219543296782875,
          0.219543296782875,
          0.219543296782875,
          0.219543296782875,
          0.219543296782875,
          0.219543296782875,
          0.219543296782875,
          0.219543296782875,
          0.219543296782875,
          0.219543296782875,
          0.219543296782875,
          0.219543296782875,
          0.219543296782875,
          0.219543296782875,
          0.219543296782875,
          0.219543296782875,
          0.219543296782875,
          0.219543296782875,
          0.219543296782875,
          0.219543296782875,
          0.219543296782875,
          0.219543296782875,
          0.219543296782875,
          0.219543296782875,
          0.219543296782875,
          0.219543296782875,
          0.219543296782875,
          0.219543296782875,
          0.219543296782875,
          0.219543296782875,
          0.219543296782875,
          0.219543296782875,
          0.219543296782875,
          0.219543296782875,
          0.219543296782875,
          0.219543296782875,
          0.219543296782875,
          0.219543296782875,
          0.219543296782875,
          0.219543296782875,
          0.219543296782875
         ],
         "customdata": [
          [
           0.22158467572578297,
           "EBM",
           "NativeCountry"
          ],
          [
           0.21575039632049756,
           "EBM",
           "NativeCountry"
          ],
          [
           0.20421120076082197,
           "EBM",
           "NativeCountry"
          ],
          [
           0.16872134677183284,
           "EBM",
           "NativeCountry"
          ],
          [
           0.1898126536980864,
           "EBM",
           "NativeCountry"
          ],
          [
           0.15651833206112792,
           "EBM",
           "NativeCountry"
          ],
          [
           0.08403068354056586,
           "EBM",
           "NativeCountry"
          ],
          [
           0.18465469308588184,
           "EBM",
           "NativeCountry"
          ],
          [
           0.1576141333367387,
           "EBM",
           "NativeCountry"
          ],
          [
           0.2159811014114601,
           "EBM",
           "NativeCountry"
          ],
          [
           0.23429741171665489,
           "EBM",
           "NativeCountry"
          ],
          [
           0.24486171158007058,
           "EBM",
           "NativeCountry"
          ],
          [
           0.22419066523649817,
           "EBM",
           "NativeCountry"
          ],
          [
           0.2538329187130605,
           "EBM",
           "NativeCountry"
          ],
          [
           0.2995258859658199,
           "EBM",
           "NativeCountry"
          ],
          [
           0.21728411684131213,
           "EBM",
           "NativeCountry"
          ],
          [
           0.010296127117756008,
           "EBM",
           "NativeCountry"
          ],
          [
           0.3927168326577144,
           "EBM",
           "NativeCountry"
          ],
          [
           0.17124481191542393,
           "EBM",
           "NativeCountry"
          ],
          [
           0.19185700705413944,
           "EBM",
           "NativeCountry"
          ],
          [
           0.13115747755711668,
           "EBM",
           "NativeCountry"
          ],
          [
           0.18526624708549558,
           "EBM",
           "NativeCountry"
          ],
          [
           0.21744248969053934,
           "EBM",
           "NativeCountry"
          ],
          [
           0.1460316459965211,
           "EBM",
           "NativeCountry"
          ],
          [
           0.04893413995738464,
           "EBM",
           "NativeCountry"
          ],
          [
           0.1426869109578285,
           "EBM",
           "NativeCountry"
          ],
          [
           0.30946741887112594,
           "EBM",
           "NativeCountry"
          ],
          [
           0.12049552838905572,
           "EBM",
           "NativeCountry"
          ],
          [
           0.15228086938161606,
           "EBM",
           "NativeCountry"
          ],
          [
           0.2545593088451398,
           "EBM",
           "NativeCountry"
          ],
          [
           0.29136507456098704,
           "EBM",
           "NativeCountry"
          ],
          [
           0.1673415332057202,
           "EBM",
           "NativeCountry"
          ],
          [
           0.01585791353791966,
           "EBM",
           "NativeCountry"
          ],
          [
           0.19340127779741573,
           "EBM",
           "NativeCountry"
          ],
          [
           0.07865241277186055,
           "EBM",
           "NativeCountry"
          ],
          [
           0.10801111629284096,
           "EBM",
           "NativeCountry"
          ],
          [
           0.012107602175876923,
           "EBM",
           "NativeCountry"
          ],
          [
           0.07745366120181663,
           "EBM",
           "NativeCountry"
          ],
          [
           0.20862075232871646,
           "EBM",
           "NativeCountry"
          ],
          [
           0.2190383746329429,
           "EBM",
           "NativeCountry"
          ],
          [
           0.1256516215168035,
           "EBM",
           "NativeCountry"
          ]
         ],
         "hovertemplate": "<b>%{hovertext}</b><br><br>mean_prediction=%{base:.3f}<br>prediction=%{customdata[0]:.3f}<extra></extra>",
         "hovertext": [
          "EBM",
          "EBM",
          "EBM",
          "EBM",
          "EBM",
          "EBM",
          "EBM",
          "EBM",
          "EBM",
          "EBM",
          "EBM",
          "EBM",
          "EBM",
          "EBM",
          "EBM",
          "EBM",
          "EBM",
          "EBM",
          "EBM",
          "EBM",
          "EBM",
          "EBM",
          "EBM",
          "EBM",
          "EBM",
          "EBM",
          "EBM",
          "EBM",
          "EBM",
          "EBM",
          "EBM",
          "EBM",
          "EBM",
          "EBM",
          "EBM",
          "EBM",
          "EBM",
          "EBM",
          "EBM",
          "EBM",
          "EBM"
         ],
         "legendgroup": "EBM",
         "marker": {
          "color": "#f05a71",
          "pattern": {
           "shape": ""
          }
         },
         "name": "EBM",
         "offsetgroup": "EBM",
         "orientation": "v",
         "showlegend": false,
         "textposition": "auto",
         "type": "bar",
         "x": [
          " United-States",
          " Cuba",
          " Jamaica",
          " India",
          " ?",
          " Mexico",
          " South",
          " Puerto-Rico",
          " Honduras",
          " England",
          " Canada",
          " Germany",
          " Iran",
          " Philippines",
          " Italy",
          " Poland",
          " Columbia",
          " Cambodia",
          " Thailand",
          " Ecuador",
          " Laos",
          " Taiwan",
          " Haiti",
          " Portugal",
          " Dominican-Republic",
          " El-Salvador",
          " France",
          " Guatemala",
          " China",
          " Japan",
          " Yugoslavia",
          " Peru",
          " Outlying-US(Guam-USVI-etc)",
          " Scotland",
          " Trinadad&Tobago",
          " Greece",
          " Nicaragua",
          " Vietnam",
          " Hong",
          " Ireland",
          " Hungary"
         ],
         "xaxis": "x2",
         "y": [
          0.0020413789429079565,
          -0.0037929004623774576,
          -0.015332096022053043,
          -0.05082195001104217,
          -0.02973064308478862,
          -0.0630249647217471,
          -0.13551261324230915,
          -0.034888603696993176,
          -0.061929163446136304,
          -0.003562195371414917,
          0.014754114933779872,
          0.02531841479719557,
          0.004647368453623152,
          0.034289621930185504,
          0.0799825891829449,
          -0.0022591799415628833,
          -0.209247169665119,
          0.17317353587483938,
          -0.048298484867451086,
          -0.027686289728735575,
          -0.08838581922575833,
          -0.034277049697379436,
          -0.002100807092335677,
          -0.07351165078635391,
          -0.17060915682549038,
          -0.0768563858250465,
          0.08992412208825093,
          -0.09904776839381929,
          -0.06726242740125896,
          0.03501601206226476,
          0.07182177777811202,
          -0.05220176357715481,
          -0.20368538324495536,
          -0.026142018985459287,
          -0.14089088401101446,
          -0.11153218049003405,
          -0.2074356946069981,
          -0.1420896355810584,
          -0.01092254445415855,
          -0.0005049221499321133,
          -0.0938916752660715
         ],
         "yaxis": "y2"
        },
        {
         "alignmentgroup": "True",
         "base": [
          0.5321228333590357,
          0.5321228333590357,
          0.5321228333590357,
          0.5321228333590357,
          0.5321228333590357,
          0.5321228333590357,
          0.5321228333590357,
          0.5321228333590357,
          0.5321228333590357
         ],
         "customdata": [
          [
           0.5395927283110566,
           "GNB",
           "WorkClass"
          ],
          [
           0.5357838607151153,
           "GNB",
           "WorkClass"
          ],
          [
           0.5427050559082593,
           "GNB",
           "WorkClass"
          ],
          [
           0.5560193460229255,
           "GNB",
           "WorkClass"
          ],
          [
           0.5427157744606471,
           "GNB",
           "WorkClass"
          ],
          [
           0.4645363187989584,
           "GNB",
           "WorkClass"
          ],
          [
           0.573334044493905,
           "GNB",
           "WorkClass"
          ],
          [
           0,
           "GNB",
           "WorkClass"
          ],
          [
           0,
           "GNB",
           "WorkClass"
          ]
         ],
         "hovertemplate": "<b>%{hovertext}</b><br><br>mean_prediction=%{base:.3f}<br>prediction=%{customdata[0]:.3f}<extra></extra>",
         "hovertext": [
          "GNB",
          "GNB",
          "GNB",
          "GNB",
          "GNB",
          "GNB",
          "GNB",
          "GNB",
          "GNB"
         ],
         "legendgroup": "GNB",
         "marker": {
          "color": "#46bac2",
          "pattern": {
           "shape": ""
          }
         },
         "name": "GNB",
         "offsetgroup": "GNB",
         "orientation": "v",
         "showlegend": true,
         "textposition": "auto",
         "type": "bar",
         "x": [
          " Self-emp-not-inc",
          " Private",
          " State-gov",
          " Federal-gov",
          " Local-gov",
          " ?",
          " Self-emp-inc",
          " Without-pay",
          " Never-worked"
         ],
         "xaxis": "x7",
         "y": [
          0.0074698949520209945,
          0.003661027356079649,
          0.010582222549223697,
          0.023896512663889813,
          0.010592941101611464,
          -0.06758651456007725,
          0.04121121113486936,
          -0.5321228333590357,
          -0.5321228333590357
         ],
         "yaxis": "y7"
        },
        {
         "alignmentgroup": "True",
         "base": [
          0.5321228333590357,
          0.5321228333590357,
          0.5321228333590357,
          0.5321228333590357,
          0.5321228333590357,
          0.5321228333590357,
          0.5321228333590357,
          0.5321228333590357,
          0.5321228333590357,
          0.5321228333590357,
          0.5321228333590357,
          0.5321228333590357,
          0.5321228333590357,
          0.5321228333590357,
          0.5321228333590357,
          0.5321228333590357
         ],
         "customdata": [
          [
           0.569750256398378,
           "GNB",
           "Education"
          ],
          [
           0.5643869442860509,
           "GNB",
           "Education"
          ],
          [
           0.013301435880246515,
           "GNB",
           "Education"
          ],
          [
           0.5944020498085232,
           "GNB",
           "Education"
          ],
          [
           3.886897211445486e-255,
           "GNB",
           "Education"
          ],
          [
           0.5664110854964242,
           "GNB",
           "Education"
          ],
          [
           0.5667894589927663,
           "GNB",
           "Education"
          ],
          [
           0.5666859739945054,
           "GNB",
           "Education"
          ],
          [
           1.8676644483004423e-71,
           "GNB",
           "Education"
          ],
          [
           0.749118719687714,
           "GNB",
           "Education"
          ],
          [
           0.7080450979838974,
           "GNB",
           "Education"
          ],
          [
           4.820254409476924e-249,
           "GNB",
           "Education"
          ],
          [
           0.016666661784121264,
           "GNB",
           "Education"
          ],
          [
           0,
           "GNB",
           "Education"
          ],
          [
           0,
           "GNB",
           "Education"
          ],
          [
           0.013333333333243047,
           "GNB",
           "Education"
          ]
         ],
         "hovertemplate": "<b>%{hovertext}</b><br><br>mean_prediction=%{base:.3f}<br>prediction=%{customdata[0]:.3f}<extra></extra>",
         "hovertext": [
          "GNB",
          "GNB",
          "GNB",
          "GNB",
          "GNB",
          "GNB",
          "GNB",
          "GNB",
          "GNB",
          "GNB",
          "GNB",
          "GNB",
          "GNB",
          "GNB",
          "GNB",
          "GNB"
         ],
         "legendgroup": "GNB",
         "marker": {
          "color": "#46bac2",
          "pattern": {
           "shape": ""
          }
         },
         "name": "GNB",
         "offsetgroup": "GNB",
         "orientation": "v",
         "showlegend": false,
         "textposition": "auto",
         "type": "bar",
         "x": [
          " Bachelors",
          " HS-grad",
          " 11th",
          " Masters",
          " 9th",
          " Some-college",
          " Assoc-acdm",
          " Assoc-voc",
          " 7th-8th",
          " Doctorate",
          " Prof-school",
          " 5th-6th",
          " 10th",
          " 1st-4th",
          " Preschool",
          " 12th"
         ],
         "xaxis": "x8",
         "y": [
          0.0376274230393423,
          0.0322641109270152,
          -0.5188213974787892,
          0.06227921644948753,
          -0.5321228333590357,
          0.03428825213738851,
          0.034666625633730686,
          0.034563140635469725,
          -0.5321228333590357,
          0.2169958863286784,
          0.1759222646248617,
          -0.5321228333590357,
          -0.5154561715749144,
          -0.5321228333590357,
          -0.5321228333590357,
          -0.5187895000257926
         ],
         "yaxis": "y8"
        },
        {
         "alignmentgroup": "True",
         "base": [
          0.5321228333590357,
          0.5321228333590357,
          0.5321228333590357,
          0.5321228333590357,
          0.5321228333590357,
          0.5321228333590357,
          0.5321228333590357
         ],
         "customdata": [
          [
           0.6190998763183363,
           "GNB",
           "MaritalStatus"
          ],
          [
           0.5477292824705469,
           "GNB",
           "MaritalStatus"
          ],
          [
           0.036355468732118264,
           "GNB",
           "MaritalStatus"
          ],
          [
           0.5439445676099258,
           "GNB",
           "MaritalStatus"
          ],
          [
           0.05331145733465393,
           "GNB",
           "MaritalStatus"
          ],
          [
           0.9666666666666667,
           "GNB",
           "MaritalStatus"
          ],
          [
           0.08884034787723061,
           "GNB",
           "MaritalStatus"
          ]
         ],
         "hovertemplate": "<b>%{hovertext}</b><br><br>mean_prediction=%{base:.3f}<br>prediction=%{customdata[0]:.3f}<extra></extra>",
         "hovertext": [
          "GNB",
          "GNB",
          "GNB",
          "GNB",
          "GNB",
          "GNB",
          "GNB"
         ],
         "legendgroup": "GNB",
         "marker": {
          "color": "#46bac2",
          "pattern": {
           "shape": ""
          }
         },
         "name": "GNB",
         "offsetgroup": "GNB",
         "orientation": "v",
         "showlegend": false,
         "textposition": "auto",
         "type": "bar",
         "x": [
          " Married-civ-spouse",
          " Divorced",
          " Married-spouse-absent",
          " Never-married",
          " Separated",
          " Married-AF-spouse",
          " Widowed"
         ],
         "xaxis": "x5",
         "y": [
          0.08697704295930064,
          0.015606449111511211,
          -0.4957673646269174,
          0.01182173425089017,
          -0.47881137602438173,
          0.434543833307631,
          -0.44328248548180504
         ],
         "yaxis": "y5"
        },
        {
         "alignmentgroup": "True",
         "base": [
          0.5321228333590357,
          0.5321228333590357,
          0.5321228333590357,
          0.5321228333590357,
          0.5321228333590357,
          0.5321228333590357,
          0.5321228333590357,
          0.5321228333590357,
          0.5321228333590357,
          0.5321228333590357,
          0.5321228333590357,
          0.5321228333590357,
          0.5321228333590357,
          0.5321228333590357,
          0.5321228333590357
         ],
         "customdata": [
          [
           0.6028132520479196,
           "GNB",
           "Occupation"
          ],
          [
           0.04005408207684673,
           "GNB",
           "Occupation"
          ],
          [
           0.6008817607420428,
           "GNB",
           "Occupation"
          ],
          [
           0.05453569164281009,
           "GNB",
           "Occupation"
          ],
          [
           0.5811688521239958,
           "GNB",
           "Occupation"
          ],
          [
           0.591393130954201,
           "GNB",
           "Occupation"
          ],
          [
           0.5865874544481967,
           "GNB",
           "Occupation"
          ],
          [
           0.5708174620241351,
           "GNB",
           "Occupation"
          ],
          [
           0.29233142599617784,
           "GNB",
           "Occupation"
          ],
          [
           0.44137924679792445,
           "GNB",
           "Occupation"
          ],
          [
           0.6069019181664177,
           "GNB",
           "Occupation"
          ],
          [
           0.5316942777295556,
           "GNB",
           "Occupation"
          ],
          [
           0.6069241075603845,
           "GNB",
           "Occupation"
          ],
          [
           0,
           "GNB",
           "Occupation"
          ],
          [
           0,
           "GNB",
           "Occupation"
          ]
         ],
         "hovertemplate": "<b>%{hovertext}</b><br><br>mean_prediction=%{base:.3f}<br>prediction=%{customdata[0]:.3f}<extra></extra>",
         "hovertext": [
          "GNB",
          "GNB",
          "GNB",
          "GNB",
          "GNB",
          "GNB",
          "GNB",
          "GNB",
          "GNB",
          "GNB",
          "GNB",
          "GNB",
          "GNB",
          "GNB",
          "GNB"
         ],
         "legendgroup": "GNB",
         "marker": {
          "color": "#46bac2",
          "pattern": {
           "shape": ""
          }
         },
         "name": "GNB",
         "offsetgroup": "GNB",
         "orientation": "v",
         "showlegend": false,
         "textposition": "auto",
         "type": "bar",
         "x": [
          " Exec-managerial",
          " Handlers-cleaners",
          " Prof-specialty",
          " Other-service",
          " Adm-clerical",
          " Sales",
          " Craft-repair",
          " Transport-moving",
          " Farming-fishing",
          " Machine-op-inspct",
          " Tech-support",
          " ?",
          " Protective-serv",
          " Armed-Forces",
          " Priv-house-serv"
         ],
         "xaxis": "x6",
         "y": [
          0.07069041868888393,
          -0.4920687512821889,
          0.06875892738300715,
          -0.47758714171622557,
          0.049046018764960175,
          0.05927029759516533,
          0.05446462108916106,
          0.03869462866509943,
          -0.2397914073628578,
          -0.0907435865611112,
          0.07477908480738205,
          -0.0004285556294800763,
          0.07480127420134886,
          -0.5321228333590357,
          -0.5321228333590357
         ],
         "yaxis": "y6"
        },
        {
         "alignmentgroup": "True",
         "base": [
          0.5321228333590357,
          0.5321228333590357,
          0.5321228333590357,
          0.5321228333590357,
          0.5321228333590357,
          0.5321228333590357
         ],
         "customdata": [
          [
           0.661567644022934,
           "GNB",
           "Relationship"
          ],
          [
           0.6391577909669859,
           "GNB",
           "Relationship"
          ],
          [
           0.6694633419569112,
           "GNB",
           "Relationship"
          ],
          [
           0.023335948897589196,
           "GNB",
           "Relationship"
          ],
          [
           0.45416336288547937,
           "GNB",
           "Relationship"
          ],
          [
           0.023333569163671963,
           "GNB",
           "Relationship"
          ]
         ],
         "hovertemplate": "<b>%{hovertext}</b><br><br>mean_prediction=%{base:.3f}<br>prediction=%{customdata[0]:.3f}<extra></extra>",
         "hovertext": [
          "GNB",
          "GNB",
          "GNB",
          "GNB",
          "GNB",
          "GNB"
         ],
         "legendgroup": "GNB",
         "marker": {
          "color": "#46bac2",
          "pattern": {
           "shape": ""
          }
         },
         "name": "GNB",
         "offsetgroup": "GNB",
         "orientation": "v",
         "showlegend": false,
         "textposition": "auto",
         "type": "bar",
         "x": [
          " Husband",
          " Not-in-family",
          " Wife",
          " Own-child",
          " Unmarried",
          " Other-relative"
         ],
         "xaxis": "x3",
         "y": [
          0.12944481066389835,
          0.10703495760795023,
          0.1373405085978755,
          -0.5087868844614465,
          -0.07795947047355628,
          -0.5087892641953637
         ],
         "yaxis": "y3"
        },
        {
         "alignmentgroup": "True",
         "base": [
          0.5321228333590357,
          0.5321228333590357,
          0.5321228333590357,
          0.5321228333590357,
          0.5321228333590357
         ],
         "customdata": [
          [
           0.5357950398705169,
           "GNB",
           "Race"
          ],
          [
           0.5217664798424367,
           "GNB",
           "Race"
          ],
          [
           0.5364605945630229,
           "GNB",
           "Race"
          ],
          [
           0.046687919174496904,
           "GNB",
           "Race"
          ],
          [
           0.02335478472241428,
           "GNB",
           "Race"
          ]
         ],
         "hovertemplate": "<b>%{hovertext}</b><br><br>mean_prediction=%{base:.3f}<br>prediction=%{customdata[0]:.3f}<extra></extra>",
         "hovertext": [
          "GNB",
          "GNB",
          "GNB",
          "GNB",
          "GNB"
         ],
         "legendgroup": "GNB",
         "marker": {
          "color": "#46bac2",
          "pattern": {
           "shape": ""
          }
         },
         "name": "GNB",
         "offsetgroup": "GNB",
         "orientation": "v",
         "showlegend": false,
         "textposition": "auto",
         "type": "bar",
         "x": [
          " White",
          " Black",
          " Asian-Pac-Islander",
          " Amer-Indian-Eskimo",
          " Other"
         ],
         "xaxis": "x4",
         "y": [
          0.0036722065114812574,
          -0.010356353516598915,
          0.0043377612039872115,
          -0.48543491418453877,
          -0.5087680486366214
         ],
         "yaxis": "y4"
        },
        {
         "alignmentgroup": "True",
         "base": [
          0.5321228333590357,
          0.5321228333590357
         ],
         "customdata": [
          [
           0.5323992262741117,
           "GNB",
           "Gender"
          ],
          [
           0.5264652953229754,
           "GNB",
           "Gender"
          ]
         ],
         "hovertemplate": "<b>%{hovertext}</b><br><br>mean_prediction=%{base:.3f}<br>prediction=%{customdata[0]:.3f}<extra></extra>",
         "hovertext": [
          "GNB",
          "GNB"
         ],
         "legendgroup": "GNB",
         "marker": {
          "color": "#46bac2",
          "pattern": {
           "shape": ""
          }
         },
         "name": "GNB",
         "offsetgroup": "GNB",
         "orientation": "v",
         "showlegend": false,
         "textposition": "auto",
         "type": "bar",
         "x": [
          " Male",
          " Female"
         ],
         "xaxis": "x",
         "y": [
          0.00027639291507608466,
          -0.005657538036060283
         ],
         "yaxis": "y"
        },
        {
         "alignmentgroup": "True",
         "base": [
          0.5321228333590357,
          0.5321228333590357,
          0.5321228333590357,
          0.5321228333590357,
          0.5321228333590357,
          0.5321228333590357,
          0.5321228333590357,
          0.5321228333590357,
          0.5321228333590357,
          0.5321228333590357,
          0.5321228333590357,
          0.5321228333590357,
          0.5321228333590357,
          0.5321228333590357,
          0.5321228333590357,
          0.5321228333590357,
          0.5321228333590357,
          0.5321228333590357,
          0.5321228333590357,
          0.5321228333590357,
          0.5321228333590357,
          0.5321228333590357,
          0.5321228333590357,
          0.5321228333590357,
          0.5321228333590357,
          0.5321228333590357,
          0.5321228333590357,
          0.5321228333590357,
          0.5321228333590357,
          0.5321228333590357,
          0.5321228333590357,
          0.5321228333590357,
          0.5321228333590357,
          0.5321228333590357,
          0.5321228333590357,
          0.5321228333590357,
          0.5321228333590357,
          0.5321228333590357,
          0.5321228333590357,
          0.5321228333590357,
          0.5321228333590357
         ],
         "customdata": [
          [
           0.5455144301886845,
           "GNB",
           "NativeCountry"
          ],
          [
           0.5241509268711042,
           "GNB",
           "NativeCountry"
          ],
          [
           0.00011958091800608317,
           "GNB",
           "NativeCountry"
          ],
          [
           0.6943703986916758,
           "GNB",
           "NativeCountry"
          ],
          [
           0.547566808306916,
           "GNB",
           "NativeCountry"
          ],
          [
           0.006666666666666667,
           "GNB",
           "NativeCountry"
          ],
          [
           0.03352287164096745,
           "GNB",
           "NativeCountry"
          ],
          [
           0.0033333333337065467,
           "GNB",
           "NativeCountry"
          ],
          [
           0,
           "GNB",
           "NativeCountry"
          ],
          [
           0.661011050033202,
           "GNB",
           "NativeCountry"
          ],
          [
           0.6183263619493803,
           "GNB",
           "NativeCountry"
          ],
          [
           0.6067042658564634,
           "GNB",
           "NativeCountry"
          ],
          [
           0.9366667837949293,
           "GNB",
           "NativeCountry"
          ],
          [
           0.6065772077303386,
           "GNB",
           "NativeCountry"
          ],
          [
           0.663677210710444,
           "GNB",
           "NativeCountry"
          ],
          [
           0.26415347286781243,
           "GNB",
           "NativeCountry"
          ],
          [
           0,
           "GNB",
           "NativeCountry"
          ],
          [
           0.9833333333333333,
           "GNB",
           "NativeCountry"
          ],
          [
           0.01667486940954058,
           "GNB",
           "NativeCountry"
          ],
          [
           3.1828328484660483e-38,
           "GNB",
           "NativeCountry"
          ],
          [
           0,
           "GNB",
           "NativeCountry"
          ],
          [
           0.8799713862923079,
           "GNB",
           "NativeCountry"
          ],
          [
           8.099350011538977e-127,
           "GNB",
           "NativeCountry"
          ],
          [
           0,
           "GNB",
           "NativeCountry"
          ],
          [
           0,
           "GNB",
           "NativeCountry"
          ],
          [
           4.0599039777527475e-23,
           "GNB",
           "NativeCountry"
          ],
          [
           0.9833333333333333,
           "GNB",
           "NativeCountry"
          ],
          [
           0,
           "GNB",
           "NativeCountry"
          ],
          [
           0.6278246098407522,
           "GNB",
           "NativeCountry"
          ],
          [
           0.8433341185032168,
           "GNB",
           "NativeCountry"
          ],
          [
           0.9833333333333333,
           "GNB",
           "NativeCountry"
          ],
          [
           0,
           "GNB",
           "NativeCountry"
          ],
          [
           0,
           "GNB",
           "NativeCountry"
          ],
          [
           0.0066666656659331225,
           "GNB",
           "NativeCountry"
          ],
          [
           0,
           "GNB",
           "NativeCountry"
          ],
          [
           0.5980060699021933,
           "GNB",
           "NativeCountry"
          ],
          [
           0,
           "GNB",
           "NativeCountry"
          ],
          [
           0,
           "GNB",
           "NativeCountry"
          ],
          [
           0.939999987813472,
           "GNB",
           "NativeCountry"
          ],
          [
           0.00333333331335704,
           "GNB",
           "NativeCountry"
          ],
          [
           0,
           "GNB",
           "NativeCountry"
          ]
         ],
         "hovertemplate": "<b>%{hovertext}</b><br><br>mean_prediction=%{base:.3f}<br>prediction=%{customdata[0]:.3f}<extra></extra>",
         "hovertext": [
          "GNB",
          "GNB",
          "GNB",
          "GNB",
          "GNB",
          "GNB",
          "GNB",
          "GNB",
          "GNB",
          "GNB",
          "GNB",
          "GNB",
          "GNB",
          "GNB",
          "GNB",
          "GNB",
          "GNB",
          "GNB",
          "GNB",
          "GNB",
          "GNB",
          "GNB",
          "GNB",
          "GNB",
          "GNB",
          "GNB",
          "GNB",
          "GNB",
          "GNB",
          "GNB",
          "GNB",
          "GNB",
          "GNB",
          "GNB",
          "GNB",
          "GNB",
          "GNB",
          "GNB",
          "GNB",
          "GNB",
          "GNB"
         ],
         "legendgroup": "GNB",
         "marker": {
          "color": "#46bac2",
          "pattern": {
           "shape": ""
          }
         },
         "name": "GNB",
         "offsetgroup": "GNB",
         "orientation": "v",
         "showlegend": false,
         "textposition": "auto",
         "type": "bar",
         "x": [
          " United-States",
          " Cuba",
          " Jamaica",
          " India",
          " ?",
          " Mexico",
          " South",
          " Puerto-Rico",
          " Honduras",
          " England",
          " Canada",
          " Germany",
          " Iran",
          " Philippines",
          " Italy",
          " Poland",
          " Columbia",
          " Cambodia",
          " Thailand",
          " Ecuador",
          " Laos",
          " Taiwan",
          " Haiti",
          " Portugal",
          " Dominican-Republic",
          " El-Salvador",
          " France",
          " Guatemala",
          " China",
          " Japan",
          " Yugoslavia",
          " Peru",
          " Outlying-US(Guam-USVI-etc)",
          " Scotland",
          " Trinadad&Tobago",
          " Greece",
          " Nicaragua",
          " Vietnam",
          " Hong",
          " Ireland",
          " Hungary"
         ],
         "xaxis": "x2",
         "y": [
          0.013391596829648855,
          -0.007971906487931446,
          -0.5320032524410295,
          0.16224756533264018,
          0.015443974947880301,
          -0.5254561666923689,
          -0.4985999617180682,
          -0.5287895000253291,
          -0.5321228333590357,
          0.1288882166741664,
          0.08620352859034464,
          0.07458143249742777,
          0.40454395043589364,
          0.07445437437130298,
          0.1315543773514084,
          -0.2679693604912232,
          -0.5321228333590357,
          0.45121049997429763,
          -0.5154479639494951,
          -0.5321228333590357,
          -0.5321228333590357,
          0.3478485529332722,
          -0.5321228333590357,
          -0.5321228333590357,
          -0.5321228333590357,
          -0.5321228333590357,
          0.45121049997429763,
          -0.5321228333590357,
          0.09570177648171652,
          0.31121128514418117,
          0.45121049997429763,
          -0.5321228333590357,
          -0.5321228333590357,
          -0.5254561676931025,
          -0.5321228333590357,
          0.06588323654315764,
          -0.5321228333590357,
          -0.5321228333590357,
          0.4078771544544364,
          -0.5287895000456786,
          -0.5321228333590357
         ],
         "yaxis": "y2"
        },
        {
         "alignmentgroup": "True",
         "base": [
          0.19817496774460566,
          0.19817496774460566,
          0.19817496774460566,
          0.19817496774460566,
          0.19817496774460566,
          0.19817496774460566,
          0.19817496774460566,
          0.19817496774460566,
          0.19817496774460566
         ],
         "customdata": [
          [
           0.13431431593046175,
           "LR",
           "WorkClass"
          ],
          [
           0.19990375218671352,
           "LR",
           "WorkClass"
          ],
          [
           0.1464498854086588,
           "LR",
           "WorkClass"
          ],
          [
           0.2608642703601928,
           "LR",
           "WorkClass"
          ],
          [
           0.1630999851078731,
           "LR",
           "WorkClass"
          ],
          [
           0.14798042865729816,
           "LR",
           "WorkClass"
          ],
          [
           0.2237925983698345,
           "LR",
           "WorkClass"
          ],
          [
           0.21113182793349877,
           "LR",
           "WorkClass"
          ],
          [
           0.2134349460476552,
           "LR",
           "WorkClass"
          ]
         ],
         "hovertemplate": "<b>%{hovertext}</b><br><br>mean_prediction=%{base:.3f}<br>prediction=%{customdata[0]:.3f}<extra></extra>",
         "hovertext": [
          "LR",
          "LR",
          "LR",
          "LR",
          "LR",
          "LR",
          "LR",
          "LR",
          "LR"
         ],
         "legendgroup": "LR",
         "marker": {
          "color": "#ae2c87",
          "pattern": {
           "shape": ""
          }
         },
         "name": "LR",
         "offsetgroup": "LR",
         "orientation": "v",
         "showlegend": true,
         "textposition": "auto",
         "type": "bar",
         "x": [
          " Self-emp-not-inc",
          " Private",
          " State-gov",
          " Federal-gov",
          " Local-gov",
          " ?",
          " Self-emp-inc",
          " Without-pay",
          " Never-worked"
         ],
         "xaxis": "x7",
         "y": [
          -0.06386065181414391,
          0.0017287844421078613,
          -0.05172508233594686,
          0.06268930261558711,
          -0.03507498263673256,
          -0.050194539087307505,
          0.025617630625228843,
          0.01295686018889311,
          0.015259978303049537
         ],
         "yaxis": "y7"
        },
        {
         "alignmentgroup": "True",
         "base": [
          0.19817496774460566,
          0.19817496774460566,
          0.19817496774460566,
          0.19817496774460566,
          0.19817496774460566,
          0.19817496774460566,
          0.19817496774460566,
          0.19817496774460566,
          0.19817496774460566,
          0.19817496774460566,
          0.19817496774460566,
          0.19817496774460566,
          0.19817496774460566,
          0.19817496774460566,
          0.19817496774460566,
          0.19817496774460566
         ],
         "customdata": [
          [
           0.21064348068712846,
           "LR",
           "Education"
          ],
          [
           0.19174374824015963,
           "LR",
           "Education"
          ],
          [
           0.17206337939600008,
           "LR",
           "Education"
          ],
          [
           0.21782914205358944,
           "LR",
           "Education"
          ],
          [
           0.223264352557685,
           "LR",
           "Education"
          ],
          [
           0.20938664062949566,
           "LR",
           "Education"
          ],
          [
           0.15474410273847436,
           "LR",
           "Education"
          ],
          [
           0.1973259153278988,
           "LR",
           "Education"
          ],
          [
           0.2084274408630272,
           "LR",
           "Education"
          ],
          [
           0.23324921117159217,
           "LR",
           "Education"
          ],
          [
           0.24828455182966208,
           "LR",
           "Education"
          ],
          [
           0.25486336586562186,
           "LR",
           "Education"
          ],
          [
           0.18941433106627026,
           "LR",
           "Education"
          ],
          [
           0.2179530591419488,
           "LR",
           "Education"
          ],
          [
           0.2179192083664328,
           "LR",
           "Education"
          ],
          [
           0.18681574712628998,
           "LR",
           "Education"
          ]
         ],
         "hovertemplate": "<b>%{hovertext}</b><br><br>mean_prediction=%{base:.3f}<br>prediction=%{customdata[0]:.3f}<extra></extra>",
         "hovertext": [
          "LR",
          "LR",
          "LR",
          "LR",
          "LR",
          "LR",
          "LR",
          "LR",
          "LR",
          "LR",
          "LR",
          "LR",
          "LR",
          "LR",
          "LR",
          "LR"
         ],
         "legendgroup": "LR",
         "marker": {
          "color": "#ae2c87",
          "pattern": {
           "shape": ""
          }
         },
         "name": "LR",
         "offsetgroup": "LR",
         "orientation": "v",
         "showlegend": false,
         "textposition": "auto",
         "type": "bar",
         "x": [
          " Bachelors",
          " HS-grad",
          " 11th",
          " Masters",
          " 9th",
          " Some-college",
          " Assoc-acdm",
          " Assoc-voc",
          " 7th-8th",
          " Doctorate",
          " Prof-school",
          " 5th-6th",
          " 10th",
          " 1st-4th",
          " Preschool",
          " 12th"
         ],
         "xaxis": "x8",
         "y": [
          0.012468512942522797,
          -0.0064312195044460285,
          -0.02611158834860558,
          0.01965417430898378,
          0.025089384813079346,
          0.01121167288489,
          -0.0434308650061313,
          -0.0008490524167068525,
          0.010252473118421535,
          0.03507424342698651,
          0.05010958408505642,
          0.0566883981210162,
          -0.008760636678335404,
          0.01977809139734313,
          0.01974424062182714,
          -0.01135922061831568
         ],
         "yaxis": "y8"
        },
        {
         "alignmentgroup": "True",
         "base": [
          0.19817496774460566,
          0.19817496774460566,
          0.19817496774460566,
          0.19817496774460566,
          0.19817496774460566,
          0.19817496774460566,
          0.19817496774460566
         ],
         "customdata": [
          [
           0.26958331617430475,
           "LR",
           "MaritalStatus"
          ],
          [
           0.07888948789709825,
           "LR",
           "MaritalStatus"
          ],
          [
           0.07428560845154707,
           "LR",
           "MaritalStatus"
          ],
          [
           0.06220395446173388,
           "LR",
           "MaritalStatus"
          ],
          [
           0.074522345249286,
           "LR",
           "MaritalStatus"
          ],
          [
           0.4426220029504544,
           "LR",
           "MaritalStatus"
          ],
          [
           0.07995912061872365,
           "LR",
           "MaritalStatus"
          ]
         ],
         "hovertemplate": "<b>%{hovertext}</b><br><br>mean_prediction=%{base:.3f}<br>prediction=%{customdata[0]:.3f}<extra></extra>",
         "hovertext": [
          "LR",
          "LR",
          "LR",
          "LR",
          "LR",
          "LR",
          "LR"
         ],
         "legendgroup": "LR",
         "marker": {
          "color": "#ae2c87",
          "pattern": {
           "shape": ""
          }
         },
         "name": "LR",
         "offsetgroup": "LR",
         "orientation": "v",
         "showlegend": false,
         "textposition": "auto",
         "type": "bar",
         "x": [
          " Married-civ-spouse",
          " Divorced",
          " Married-spouse-absent",
          " Never-married",
          " Separated",
          " Married-AF-spouse",
          " Widowed"
         ],
         "xaxis": "x5",
         "y": [
          0.07140834842969909,
          -0.11928547984750741,
          -0.1238893592930586,
          -0.13597101328287178,
          -0.12365262249531966,
          0.24444703520584873,
          -0.11821584712588201
         ],
         "yaxis": "y5"
        },
        {
         "alignmentgroup": "True",
         "base": [
          0.19817496774460566,
          0.19817496774460566,
          0.19817496774460566,
          0.19817496774460566,
          0.19817496774460566,
          0.19817496774460566,
          0.19817496774460566,
          0.19817496774460566,
          0.19817496774460566,
          0.19817496774460566,
          0.19817496774460566,
          0.19817496774460566,
          0.19817496774460566,
          0.19817496774460566,
          0.19817496774460566
         ],
         "customdata": [
          [
           0.2742520345562205,
           "LR",
           "Occupation"
          ],
          [
           0.09238747772723402,
           "LR",
           "Occupation"
          ],
          [
           0.21315077533739402,
           "LR",
           "Occupation"
          ],
          [
           0.08012060029767114,
           "LR",
           "Occupation"
          ],
          [
           0.1529008212939626,
           "LR",
           "Occupation"
          ],
          [
           0.18364934907995253,
           "LR",
           "Occupation"
          ],
          [
           0.16139791876631143,
           "LR",
           "Occupation"
          ],
          [
           0.1424602322978296,
           "LR",
           "Occupation"
          ],
          [
           0.07667794325401572,
           "LR",
           "Occupation"
          ],
          [
           0.12145215141511341,
           "LR",
           "Occupation"
          ],
          [
           0.25176654538317556,
           "LR",
           "Occupation"
          ],
          [
           0.10565881553336794,
           "LR",
           "Occupation"
          ],
          [
           0.22993749814459644,
           "LR",
           "Occupation"
          ],
          [
           0.15134338666922714,
           "LR",
           "Occupation"
          ],
          [
           0.07664025220330449,
           "LR",
           "Occupation"
          ]
         ],
         "hovertemplate": "<b>%{hovertext}</b><br><br>mean_prediction=%{base:.3f}<br>prediction=%{customdata[0]:.3f}<extra></extra>",
         "hovertext": [
          "LR",
          "LR",
          "LR",
          "LR",
          "LR",
          "LR",
          "LR",
          "LR",
          "LR",
          "LR",
          "LR",
          "LR",
          "LR",
          "LR",
          "LR"
         ],
         "legendgroup": "LR",
         "marker": {
          "color": "#ae2c87",
          "pattern": {
           "shape": ""
          }
         },
         "name": "LR",
         "offsetgroup": "LR",
         "orientation": "v",
         "showlegend": false,
         "textposition": "auto",
         "type": "bar",
         "x": [
          " Exec-managerial",
          " Handlers-cleaners",
          " Prof-specialty",
          " Other-service",
          " Adm-clerical",
          " Sales",
          " Craft-repair",
          " Transport-moving",
          " Farming-fishing",
          " Machine-op-inspct",
          " Tech-support",
          " ?",
          " Protective-serv",
          " Armed-Forces",
          " Priv-house-serv"
         ],
         "xaxis": "x6",
         "y": [
          0.07607706681161483,
          -0.10578749001737164,
          0.014975807592788354,
          -0.11805436744693452,
          -0.045274146450643066,
          -0.014525618664653128,
          -0.03677704897829423,
          -0.055714735446776076,
          -0.12149702449058994,
          -0.07672281632949225,
          0.05359157763856989,
          -0.09251615221123773,
          0.031762530399990774,
          -0.04683158107537852,
          -0.12153471554130117
         ],
         "yaxis": "y6"
        },
        {
         "alignmentgroup": "True",
         "base": [
          0.19817496774460566,
          0.19817496774460566,
          0.19817496774460566,
          0.19817496774460566,
          0.19817496774460566,
          0.19817496774460566
         ],
         "customdata": [
          [
           0.16828353701355658,
           "LR",
           "Relationship"
          ],
          [
           0.20827155716296988,
           "LR",
           "Relationship"
          ],
          [
           0.36724141532186355,
           "LR",
           "Relationship"
          ],
          [
           0.10201435648083186,
           "LR",
           "Relationship"
          ],
          [
           0.19205761752154069,
           "LR",
           "Relationship"
          ],
          [
           0.10472826711814247,
           "LR",
           "Relationship"
          ]
         ],
         "hovertemplate": "<b>%{hovertext}</b><br><br>mean_prediction=%{base:.3f}<br>prediction=%{customdata[0]:.3f}<extra></extra>",
         "hovertext": [
          "LR",
          "LR",
          "LR",
          "LR",
          "LR",
          "LR"
         ],
         "legendgroup": "LR",
         "marker": {
          "color": "#ae2c87",
          "pattern": {
           "shape": ""
          }
         },
         "name": "LR",
         "offsetgroup": "LR",
         "orientation": "v",
         "showlegend": false,
         "textposition": "auto",
         "type": "bar",
         "x": [
          " Husband",
          " Not-in-family",
          " Wife",
          " Own-child",
          " Unmarried",
          " Other-relative"
         ],
         "xaxis": "x3",
         "y": [
          -0.02989143073104908,
          0.010096589418364221,
          0.1690664475772579,
          -0.0961606112637738,
          -0.006117350223064977,
          -0.0934467006264632
         ],
         "yaxis": "y3"
        },
        {
         "alignmentgroup": "True",
         "base": [
          0.19817496774460566,
          0.19817496774460566,
          0.19817496774460566,
          0.19817496774460566,
          0.19817496774460566
         ],
         "customdata": [
          [
           0.19817598053223867,
           "LR",
           "Race"
          ],
          [
           0.17517823897912144,
           "LR",
           "Race"
          ],
          [
           0.20592199124545443,
           "LR",
           "Race"
          ],
          [
           0.1344107118715587,
           "LR",
           "Race"
          ],
          [
           0.13865230046652977,
           "LR",
           "Race"
          ]
         ],
         "hovertemplate": "<b>%{hovertext}</b><br><br>mean_prediction=%{base:.3f}<br>prediction=%{customdata[0]:.3f}<extra></extra>",
         "hovertext": [
          "LR",
          "LR",
          "LR",
          "LR",
          "LR"
         ],
         "legendgroup": "LR",
         "marker": {
          "color": "#ae2c87",
          "pattern": {
           "shape": ""
          }
         },
         "name": "LR",
         "offsetgroup": "LR",
         "orientation": "v",
         "showlegend": false,
         "textposition": "auto",
         "type": "bar",
         "x": [
          " White",
          " Black",
          " Asian-Pac-Islander",
          " Amer-Indian-Eskimo",
          " Other"
         ],
         "xaxis": "x4",
         "y": [
          0.000001012787633009049,
          -0.022996728765484226,
          0.007747023500848771,
          -0.06376425587304696,
          -0.0595226672780759
         ],
         "yaxis": "y4"
        },
        {
         "alignmentgroup": "True",
         "base": [
          0.19817496774460566,
          0.19817496774460566
         ],
         "customdata": [
          [
           0.20480517093403444,
           "LR",
           "Gender"
          ],
          [
           0.12586426460135947,
           "LR",
           "Gender"
          ]
         ],
         "hovertemplate": "<b>%{hovertext}</b><br><br>mean_prediction=%{base:.3f}<br>prediction=%{customdata[0]:.3f}<extra></extra>",
         "hovertext": [
          "LR",
          "LR"
         ],
         "legendgroup": "LR",
         "marker": {
          "color": "#ae2c87",
          "pattern": {
           "shape": ""
          }
         },
         "name": "LR",
         "offsetgroup": "LR",
         "orientation": "v",
         "showlegend": false,
         "textposition": "auto",
         "type": "bar",
         "x": [
          " Male",
          " Female"
         ],
         "xaxis": "x",
         "y": [
          0.006630203189428779,
          -0.0723107031432462
         ],
         "yaxis": "y"
        },
        {
         "alignmentgroup": "True",
         "base": [
          0.19817496774460566,
          0.19817496774460566,
          0.19817496774460566,
          0.19817496774460566,
          0.19817496774460566,
          0.19817496774460566,
          0.19817496774460566,
          0.19817496774460566,
          0.19817496774460566,
          0.19817496774460566,
          0.19817496774460566,
          0.19817496774460566,
          0.19817496774460566,
          0.19817496774460566,
          0.19817496774460566,
          0.19817496774460566,
          0.19817496774460566,
          0.19817496774460566,
          0.19817496774460566,
          0.19817496774460566,
          0.19817496774460566,
          0.19817496774460566,
          0.19817496774460566,
          0.19817496774460566,
          0.19817496774460566,
          0.19817496774460566,
          0.19817496774460566,
          0.19817496774460566,
          0.19817496774460566,
          0.19817496774460566,
          0.19817496774460566,
          0.19817496774460566,
          0.19817496774460566,
          0.19817496774460566,
          0.19817496774460566,
          0.19817496774460566,
          0.19817496774460566,
          0.19817496774460566,
          0.19817496774460566,
          0.19817496774460566,
          0.19817496774460566
         ],
         "customdata": [
          [
           0.20927807030832213,
           "LR",
           "NativeCountry"
          ],
          [
           0.21598898659227497,
           "LR",
           "NativeCountry"
          ],
          [
           0.20235792449128445,
           "LR",
           "NativeCountry"
          ],
          [
           0.12773765172141252,
           "LR",
           "NativeCountry"
          ],
          [
           0.1589726618123171,
           "LR",
           "NativeCountry"
          ],
          [
           0.11838659812128616,
           "LR",
           "NativeCountry"
          ],
          [
           0.07509982865990607,
           "LR",
           "NativeCountry"
          ],
          [
           0.15296333946904656,
           "LR",
           "NativeCountry"
          ],
          [
           0.1683476950406452,
           "LR",
           "NativeCountry"
          ],
          [
           0.20115178910336956,
           "LR",
           "NativeCountry"
          ],
          [
           0.23000711799389484,
           "LR",
           "NativeCountry"
          ],
          [
           0.2369154267187256,
           "LR",
           "NativeCountry"
          ],
          [
           0.21105633095788007,
           "LR",
           "NativeCountry"
          ],
          [
           0.24389446444415028,
           "LR",
           "NativeCountry"
          ],
          [
           0.2738683880945954,
           "LR",
           "NativeCountry"
          ],
          [
           0.20229871829936938,
           "LR",
           "NativeCountry"
          ],
          [
           0.061148217806644624,
           "LR",
           "NativeCountry"
          ],
          [
           0.41676756064084686,
           "LR",
           "NativeCountry"
          ],
          [
           0.1063436776240741,
           "LR",
           "NativeCountry"
          ],
          [
           0.15820389158747009,
           "LR",
           "NativeCountry"
          ],
          [
           0.16111028515022907,
           "LR",
           "NativeCountry"
          ],
          [
           0.15280550831046283,
           "LR",
           "NativeCountry"
          ],
          [
           0.1834307137185607,
           "LR",
           "NativeCountry"
          ],
          [
           0.163542833938204,
           "LR",
           "NativeCountry"
          ],
          [
           0.12657548269537866,
           "LR",
           "NativeCountry"
          ],
          [
           0.09792364950988379,
           "LR",
           "NativeCountry"
          ],
          [
           0.2788010929744622,
           "LR",
           "NativeCountry"
          ],
          [
           0.16654557373491014,
           "LR",
           "NativeCountry"
          ],
          [
           0.10919975790380512,
           "LR",
           "NativeCountry"
          ],
          [
           0.25132340442219436,
           "LR",
           "NativeCountry"
          ],
          [
           0.2538120555012071,
           "LR",
           "NativeCountry"
          ],
          [
           0.16515464011620914,
           "LR",
           "NativeCountry"
          ],
          [
           0.16507446264773637,
           "LR",
           "NativeCountry"
          ],
          [
           0.1645866402259549,
           "LR",
           "NativeCountry"
          ],
          [
           0.16080951629809231,
           "LR",
           "NativeCountry"
          ],
          [
           0.07650932740197879,
           "LR",
           "NativeCountry"
          ],
          [
           0.10762193634268719,
           "LR",
           "NativeCountry"
          ],
          [
           0.07665477142621499,
           "LR",
           "NativeCountry"
          ],
          [
           0.16964375950698413,
           "LR",
           "NativeCountry"
          ],
          [
           0.17118119487208922,
           "LR",
           "NativeCountry"
          ],
          [
           0.15818513656486033,
           "LR",
           "NativeCountry"
          ]
         ],
         "hovertemplate": "<b>%{hovertext}</b><br><br>mean_prediction=%{base:.3f}<br>prediction=%{customdata[0]:.3f}<extra></extra>",
         "hovertext": [
          "LR",
          "LR",
          "LR",
          "LR",
          "LR",
          "LR",
          "LR",
          "LR",
          "LR",
          "LR",
          "LR",
          "LR",
          "LR",
          "LR",
          "LR",
          "LR",
          "LR",
          "LR",
          "LR",
          "LR",
          "LR",
          "LR",
          "LR",
          "LR",
          "LR",
          "LR",
          "LR",
          "LR",
          "LR",
          "LR",
          "LR",
          "LR",
          "LR",
          "LR",
          "LR",
          "LR",
          "LR",
          "LR",
          "LR",
          "LR",
          "LR"
         ],
         "legendgroup": "LR",
         "marker": {
          "color": "#ae2c87",
          "pattern": {
           "shape": ""
          }
         },
         "name": "LR",
         "offsetgroup": "LR",
         "orientation": "v",
         "showlegend": false,
         "textposition": "auto",
         "type": "bar",
         "x": [
          " United-States",
          " Cuba",
          " Jamaica",
          " India",
          " ?",
          " Mexico",
          " South",
          " Puerto-Rico",
          " Honduras",
          " England",
          " Canada",
          " Germany",
          " Iran",
          " Philippines",
          " Italy",
          " Poland",
          " Columbia",
          " Cambodia",
          " Thailand",
          " Ecuador",
          " Laos",
          " Taiwan",
          " Haiti",
          " Portugal",
          " Dominican-Republic",
          " El-Salvador",
          " France",
          " Guatemala",
          " China",
          " Japan",
          " Yugoslavia",
          " Peru",
          " Outlying-US(Guam-USVI-etc)",
          " Scotland",
          " Trinadad&Tobago",
          " Greece",
          " Nicaragua",
          " Vietnam",
          " Hong",
          " Ireland",
          " Hungary"
         ],
         "xaxis": "x2",
         "y": [
          0.011103102563716466,
          0.01781401884766931,
          0.00418295674667879,
          -0.07043731602319314,
          -0.03920230593228857,
          -0.0797883696233195,
          -0.1230751390846996,
          -0.04521162827555911,
          -0.02982727270396046,
          0.002976821358763898,
          0.031832150249289176,
          0.03874045897411993,
          0.012881363213274405,
          0.045719496699544615,
          0.07569342034998974,
          0.0041237505547637165,
          -0.13702674993796105,
          0.2185925928962412,
          -0.09183129012053157,
          -0.03997107615713558,
          -0.03706468259437659,
          -0.045369459434142834,
          -0.014744254026044956,
          -0.03463213380640165,
          -0.071599485049227,
          -0.10025131823472187,
          0.08062612522985654,
          -0.03162939400969553,
          -0.08897520984080054,
          0.0531484366775887,
          0.05563708775660145,
          -0.03302032762839652,
          -0.03310050509686929,
          -0.03358832751865076,
          -0.03736545144651335,
          -0.12166564034262688,
          -0.09055303140191848,
          -0.12152019631839067,
          -0.028531208237621536,
          -0.026993772872516447,
          -0.03998983117974533
         ],
         "yaxis": "y2"
        },
        {
         "alignmentgroup": "True",
         "base": [
          0.22252298422970507,
          0.22252298422970507,
          0.22252298422970507,
          0.22252298422970507,
          0.22252298422970507,
          0.22252298422970507,
          0.22252298422970507,
          0.22252298422970507,
          0.22252298422970507
         ],
         "customdata": [
          [
           0.17590676522417786,
           "LR_l2",
           "WorkClass"
          ],
          [
           0.23293447793945035,
           "LR_l2",
           "WorkClass"
          ],
          [
           0.19682897437494543,
           "LR_l2",
           "WorkClass"
          ],
          [
           0.28272730201322605,
           "LR_l2",
           "WorkClass"
          ],
          [
           0.21619478372530954,
           "LR_l2",
           "WorkClass"
          ],
          [
           0.19013831377919896,
           "LR_l2",
           "WorkClass"
          ],
          [
           0.2554459624078931,
           "LR_l2",
           "WorkClass"
          ],
          [
           0.2228401318361439,
           "LR_l2",
           "WorkClass"
          ],
          [
           0.2236948695428186,
           "LR_l2",
           "WorkClass"
          ]
         ],
         "hovertemplate": "<b>%{hovertext}</b><br><br>mean_prediction=%{base:.3f}<br>prediction=%{customdata[0]:.3f}<extra></extra>",
         "hovertext": [
          "LR_l2",
          "LR_l2",
          "LR_l2",
          "LR_l2",
          "LR_l2",
          "LR_l2",
          "LR_l2",
          "LR_l2",
          "LR_l2"
         ],
         "legendgroup": "LR_l2",
         "marker": {
          "color": "#ffa58c",
          "pattern": {
           "shape": ""
          }
         },
         "name": "LR_l2",
         "offsetgroup": "LR_l2",
         "orientation": "v",
         "showlegend": true,
         "textposition": "auto",
         "type": "bar",
         "x": [
          " Self-emp-not-inc",
          " Private",
          " State-gov",
          " Federal-gov",
          " Local-gov",
          " ?",
          " Self-emp-inc",
          " Without-pay",
          " Never-worked"
         ],
         "xaxis": "x7",
         "y": [
          -0.046616219005527204,
          0.010411493709745284,
          -0.025694009854759642,
          0.06020431778352098,
          -0.006328200504395531,
          -0.03238467045050611,
          0.03292297817818801,
          0.00031714760643883344,
          0.0011718853131135187
         ],
         "yaxis": "y7"
        },
        {
         "alignmentgroup": "True",
         "base": [
          0.22252298422970507,
          0.22252298422970507,
          0.22252298422970507,
          0.22252298422970507,
          0.22252298422970507,
          0.22252298422970507,
          0.22252298422970507,
          0.22252298422970507,
          0.22252298422970507,
          0.22252298422970507,
          0.22252298422970507,
          0.22252298422970507,
          0.22252298422970507,
          0.22252298422970507,
          0.22252298422970507,
          0.22252298422970507
         ],
         "customdata": [
          [
           0.2352155278037742,
           "LR_l2",
           "Education"
          ],
          [
           0.21358119623145105,
           "LR_l2",
           "Education"
          ],
          [
           0.2064722596745778,
           "LR_l2",
           "Education"
          ],
          [
           0.23829747355862477,
           "LR_l2",
           "Education"
          ],
          [
           0.23295181937425255,
           "LR_l2",
           "Education"
          ],
          [
           0.2270351749734549,
           "LR_l2",
           "Education"
          ],
          [
           0.19209203288363808,
           "LR_l2",
           "Education"
          ],
          [
           0.21953428780142833,
           "LR_l2",
           "Education"
          ],
          [
           0.22583591749129936,
           "LR_l2",
           "Education"
          ],
          [
           0.24315465830048485,
           "LR_l2",
           "Education"
          ],
          [
           0.26237545624991476,
           "LR_l2",
           "Education"
          ],
          [
           0.24615019400015048,
           "LR_l2",
           "Education"
          ],
          [
           0.22465749043436914,
           "LR_l2",
           "Education"
          ],
          [
           0.22843138252492784,
           "LR_l2",
           "Education"
          ],
          [
           0.22841149733449417,
           "LR_l2",
           "Education"
          ],
          [
           0.22263931035028264,
           "LR_l2",
           "Education"
          ]
         ],
         "hovertemplate": "<b>%{hovertext}</b><br><br>mean_prediction=%{base:.3f}<br>prediction=%{customdata[0]:.3f}<extra></extra>",
         "hovertext": [
          "LR_l2",
          "LR_l2",
          "LR_l2",
          "LR_l2",
          "LR_l2",
          "LR_l2",
          "LR_l2",
          "LR_l2",
          "LR_l2",
          "LR_l2",
          "LR_l2",
          "LR_l2",
          "LR_l2",
          "LR_l2",
          "LR_l2",
          "LR_l2"
         ],
         "legendgroup": "LR_l2",
         "marker": {
          "color": "#ffa58c",
          "pattern": {
           "shape": ""
          }
         },
         "name": "LR_l2",
         "offsetgroup": "LR_l2",
         "orientation": "v",
         "showlegend": false,
         "textposition": "auto",
         "type": "bar",
         "x": [
          " Bachelors",
          " HS-grad",
          " 11th",
          " Masters",
          " 9th",
          " Some-college",
          " Assoc-acdm",
          " Assoc-voc",
          " 7th-8th",
          " Doctorate",
          " Prof-school",
          " 5th-6th",
          " 10th",
          " 1st-4th",
          " Preschool",
          " 12th"
         ],
         "xaxis": "x8",
         "y": [
          0.012692543574069126,
          -0.008941787998254014,
          -0.016050724555127266,
          0.0157744893289197,
          0.010428835144547483,
          0.004512190743749839,
          -0.030430951346066992,
          -0.0029886964282767325,
          0.003312933261594292,
          0.020631674070779787,
          0.039852472020209695,
          0.023627209770445412,
          0.0021345062046640717,
          0.005908398295222772,
          0.005888513104789106,
          0.00011632612057757563
         ],
         "yaxis": "y8"
        },
        {
         "alignmentgroup": "True",
         "base": [
          0.22252298422970507,
          0.22252298422970507,
          0.22252298422970507,
          0.22252298422970507,
          0.22252298422970507,
          0.22252298422970507,
          0.22252298422970507
         ],
         "customdata": [
          [
           0.2481293123225266,
           "LR_l2",
           "MaritalStatus"
          ],
          [
           0.13080721132226394,
           "LR_l2",
           "MaritalStatus"
          ],
          [
           0.13992797278392316,
           "LR_l2",
           "MaritalStatus"
          ],
          [
           0.10481116409605322,
           "LR_l2",
           "MaritalStatus"
          ],
          [
           0.1337919516150637,
           "LR_l2",
           "MaritalStatus"
          ],
          [
           0.27272664174447103,
           "LR_l2",
           "MaritalStatus"
          ],
          [
           0.13615580440064268,
           "LR_l2",
           "MaritalStatus"
          ]
         ],
         "hovertemplate": "<b>%{hovertext}</b><br><br>mean_prediction=%{base:.3f}<br>prediction=%{customdata[0]:.3f}<extra></extra>",
         "hovertext": [
          "LR_l2",
          "LR_l2",
          "LR_l2",
          "LR_l2",
          "LR_l2",
          "LR_l2",
          "LR_l2"
         ],
         "legendgroup": "LR_l2",
         "marker": {
          "color": "#ffa58c",
          "pattern": {
           "shape": ""
          }
         },
         "name": "LR_l2",
         "offsetgroup": "LR_l2",
         "orientation": "v",
         "showlegend": false,
         "textposition": "auto",
         "type": "bar",
         "x": [
          " Married-civ-spouse",
          " Divorced",
          " Married-spouse-absent",
          " Never-married",
          " Separated",
          " Married-AF-spouse",
          " Widowed"
         ],
         "xaxis": "x5",
         "y": [
          0.02560632809282154,
          -0.09171577290744112,
          -0.08259501144578191,
          -0.11771182013365185,
          -0.08873103261464138,
          0.050203657514765965,
          -0.08636717982906239
         ],
         "yaxis": "y5"
        },
        {
         "alignmentgroup": "True",
         "base": [
          0.22252298422970507,
          0.22252298422970507,
          0.22252298422970507,
          0.22252298422970507,
          0.22252298422970507,
          0.22252298422970507,
          0.22252298422970507,
          0.22252298422970507,
          0.22252298422970507,
          0.22252298422970507,
          0.22252298422970507,
          0.22252298422970507,
          0.22252298422970507,
          0.22252298422970507,
          0.22252298422970507
         ],
         "customdata": [
          [
           0.28707638941561553,
           "LR_l2",
           "Occupation"
          ],
          [
           0.13741593655453027,
           "LR_l2",
           "Occupation"
          ],
          [
           0.25119019849234564,
           "LR_l2",
           "Occupation"
          ],
          [
           0.12393713308804324,
           "LR_l2",
           "Occupation"
          ],
          [
           0.18534277956600215,
           "LR_l2",
           "Occupation"
          ],
          [
           0.21915273958063428,
           "LR_l2",
           "Occupation"
          ],
          [
           0.19710082665183448,
           "LR_l2",
           "Occupation"
          ],
          [
           0.18195910987094588,
           "LR_l2",
           "Occupation"
          ],
          [
           0.11418446507346075,
           "LR_l2",
           "Occupation"
          ],
          [
           0.16480599215257347,
           "LR_l2",
           "Occupation"
          ],
          [
           0.26850987520352154,
           "LR_l2",
           "Occupation"
          ],
          [
           0.16033727578107693,
           "LR_l2",
           "Occupation"
          ],
          [
           0.25286773843768134,
           "LR_l2",
           "Occupation"
          ],
          [
           0.19193850366756363,
           "LR_l2",
           "Occupation"
          ],
          [
           0.16603153577162308,
           "LR_l2",
           "Occupation"
          ]
         ],
         "hovertemplate": "<b>%{hovertext}</b><br><br>mean_prediction=%{base:.3f}<br>prediction=%{customdata[0]:.3f}<extra></extra>",
         "hovertext": [
          "LR_l2",
          "LR_l2",
          "LR_l2",
          "LR_l2",
          "LR_l2",
          "LR_l2",
          "LR_l2",
          "LR_l2",
          "LR_l2",
          "LR_l2",
          "LR_l2",
          "LR_l2",
          "LR_l2",
          "LR_l2",
          "LR_l2"
         ],
         "legendgroup": "LR_l2",
         "marker": {
          "color": "#ffa58c",
          "pattern": {
           "shape": ""
          }
         },
         "name": "LR_l2",
         "offsetgroup": "LR_l2",
         "orientation": "v",
         "showlegend": false,
         "textposition": "auto",
         "type": "bar",
         "x": [
          " Exec-managerial",
          " Handlers-cleaners",
          " Prof-specialty",
          " Other-service",
          " Adm-clerical",
          " Sales",
          " Craft-repair",
          " Transport-moving",
          " Farming-fishing",
          " Machine-op-inspct",
          " Tech-support",
          " ?",
          " Protective-serv",
          " Armed-Forces",
          " Priv-house-serv"
         ],
         "xaxis": "x6",
         "y": [
          0.06455340518591046,
          -0.0851070476751748,
          0.028667214262640572,
          -0.09858585114166182,
          -0.03718020466370292,
          -0.0033702446490707916,
          -0.025422157577870585,
          -0.04056387435875919,
          -0.10833851915624432,
          -0.0577169920771316,
          0.045986890973816474,
          -0.06218570844862814,
          0.030344754207976277,
          -0.03058448056214144,
          -0.05649144845808199
         ],
         "yaxis": "y6"
        },
        {
         "alignmentgroup": "True",
         "base": [
          0.22252298422970507,
          0.22252298422970507,
          0.22252298422970507,
          0.22252298422970507,
          0.22252298422970507,
          0.22252298422970507
         ],
         "customdata": [
          [
           0.21637792939902561,
           "LR_l2",
           "Relationship"
          ],
          [
           0.16963757345597633,
           "LR_l2",
           "Relationship"
          ],
          [
           0.36960144639878295,
           "LR_l2",
           "Relationship"
          ],
          [
           0.14635682530794736,
           "LR_l2",
           "Relationship"
          ],
          [
           0.16099816842304165,
           "LR_l2",
           "Relationship"
          ],
          [
           0.16455833271310807,
           "LR_l2",
           "Relationship"
          ]
         ],
         "hovertemplate": "<b>%{hovertext}</b><br><br>mean_prediction=%{base:.3f}<br>prediction=%{customdata[0]:.3f}<extra></extra>",
         "hovertext": [
          "LR_l2",
          "LR_l2",
          "LR_l2",
          "LR_l2",
          "LR_l2",
          "LR_l2"
         ],
         "legendgroup": "LR_l2",
         "marker": {
          "color": "#ffa58c",
          "pattern": {
           "shape": ""
          }
         },
         "name": "LR_l2",
         "offsetgroup": "LR_l2",
         "orientation": "v",
         "showlegend": false,
         "textposition": "auto",
         "type": "bar",
         "x": [
          " Husband",
          " Not-in-family",
          " Wife",
          " Own-child",
          " Unmarried",
          " Other-relative"
         ],
         "xaxis": "x3",
         "y": [
          -0.006145054830679453,
          -0.05288541077372874,
          0.14707846216907788,
          -0.07616615892175771,
          -0.06152481580666341,
          -0.05796465151659699
         ],
         "yaxis": "y3"
        },
        {
         "alignmentgroup": "True",
         "base": [
          0.22252298422970507,
          0.22252298422970507,
          0.22252298422970507,
          0.22252298422970507,
          0.22252298422970507
         ],
         "customdata": [
          [
           0.22382349859549,
           "LR_l2",
           "Race"
          ],
          [
           0.2044342426864697,
           "LR_l2",
           "Race"
          ],
          [
           0.22223973874362096,
           "LR_l2",
           "Race"
          ],
          [
           0.18750236382405341,
           "LR_l2",
           "Race"
          ],
          [
           0.18547454363574215,
           "LR_l2",
           "Race"
          ]
         ],
         "hovertemplate": "<b>%{hovertext}</b><br><br>mean_prediction=%{base:.3f}<br>prediction=%{customdata[0]:.3f}<extra></extra>",
         "hovertext": [
          "LR_l2",
          "LR_l2",
          "LR_l2",
          "LR_l2",
          "LR_l2"
         ],
         "legendgroup": "LR_l2",
         "marker": {
          "color": "#ffa58c",
          "pattern": {
           "shape": ""
          }
         },
         "name": "LR_l2",
         "offsetgroup": "LR_l2",
         "orientation": "v",
         "showlegend": false,
         "textposition": "auto",
         "type": "bar",
         "x": [
          " White",
          " Black",
          " Asian-Pac-Islander",
          " Amer-Indian-Eskimo",
          " Other"
         ],
         "xaxis": "x4",
         "y": [
          0.0013005143657849327,
          -0.018088741543235365,
          -0.00028324548608410494,
          -0.03502062040565165,
          -0.03704844059396292
         ],
         "yaxis": "y4"
        },
        {
         "alignmentgroup": "True",
         "base": [
          0.22252298422970507,
          0.22252298422970507
         ],
         "customdata": [
          [
           0.2282697436329695,
           "LR_l2",
           "Gender"
          ],
          [
           0.16711319152421886,
           "LR_l2",
           "Gender"
          ]
         ],
         "hovertemplate": "<b>%{hovertext}</b><br><br>mean_prediction=%{base:.3f}<br>prediction=%{customdata[0]:.3f}<extra></extra>",
         "hovertext": [
          "LR_l2",
          "LR_l2"
         ],
         "legendgroup": "LR_l2",
         "marker": {
          "color": "#ffa58c",
          "pattern": {
           "shape": ""
          }
         },
         "name": "LR_l2",
         "offsetgroup": "LR_l2",
         "orientation": "v",
         "showlegend": false,
         "textposition": "auto",
         "type": "bar",
         "x": [
          " Male",
          " Female"
         ],
         "xaxis": "x",
         "y": [
          0.00574675940326444,
          -0.05540979270548621
         ],
         "yaxis": "y"
        },
        {
         "alignmentgroup": "True",
         "base": [
          0.22252298422970507,
          0.22252298422970507,
          0.22252298422970507,
          0.22252298422970507,
          0.22252298422970507,
          0.22252298422970507,
          0.22252298422970507,
          0.22252298422970507,
          0.22252298422970507,
          0.22252298422970507,
          0.22252298422970507,
          0.22252298422970507,
          0.22252298422970507,
          0.22252298422970507,
          0.22252298422970507,
          0.22252298422970507,
          0.22252298422970507,
          0.22252298422970507,
          0.22252298422970507,
          0.22252298422970507,
          0.22252298422970507,
          0.22252298422970507,
          0.22252298422970507,
          0.22252298422970507,
          0.22252298422970507,
          0.22252298422970507,
          0.22252298422970507,
          0.22252298422970507,
          0.22252298422970507,
          0.22252298422970507,
          0.22252298422970507,
          0.22252298422970507,
          0.22252298422970507,
          0.22252298422970507,
          0.22252298422970507,
          0.22252298422970507,
          0.22252298422970507,
          0.22252298422970507,
          0.22252298422970507,
          0.22252298422970507,
          0.22252298422970507
         ],
         "customdata": [
          [
           0.22427400733401712,
           "LR_l2",
           "NativeCountry"
          ],
          [
           0.2090049188906148,
           "LR_l2",
           "NativeCountry"
          ],
          [
           0.2024640641854121,
           "LR_l2",
           "NativeCountry"
          ],
          [
           0.17556113307487048,
           "LR_l2",
           "NativeCountry"
          ],
          [
           0.18752573802842248,
           "LR_l2",
           "NativeCountry"
          ],
          [
           0.16808352286031272,
           "LR_l2",
           "NativeCountry"
          ],
          [
           0.14107675723368404,
           "LR_l2",
           "NativeCountry"
          ],
          [
           0.18730794011617027,
           "LR_l2",
           "NativeCountry"
          ],
          [
           0.19934716319822637,
           "LR_l2",
           "NativeCountry"
          ],
          [
           0.21043463264812062,
           "LR_l2",
           "NativeCountry"
          ],
          [
           0.2254322915854362,
           "LR_l2",
           "NativeCountry"
          ],
          [
           0.23417885857656748,
           "LR_l2",
           "NativeCountry"
          ],
          [
           0.2100103697396413,
           "LR_l2",
           "NativeCountry"
          ],
          [
           0.25302141126753763,
           "LR_l2",
           "NativeCountry"
          ],
          [
           0.24949942543001996,
           "LR_l2",
           "NativeCountry"
          ],
          [
           0.21036065605439702,
           "LR_l2",
           "NativeCountry"
          ],
          [
           0.1580068849736105,
           "LR_l2",
           "NativeCountry"
          ],
          [
           0.2840839598664721,
           "LR_l2",
           "NativeCountry"
          ],
          [
           0.18487651381142337,
           "LR_l2",
           "NativeCountry"
          ],
          [
           0.19869235802741117,
           "LR_l2",
           "NativeCountry"
          ],
          [
           0.19640749935174626,
           "LR_l2",
           "NativeCountry"
          ],
          [
           0.19509900776785916,
           "LR_l2",
           "NativeCountry"
          ],
          [
           0.20457469562897077,
           "LR_l2",
           "NativeCountry"
          ],
          [
           0.1973139424900405,
           "LR_l2",
           "NativeCountry"
          ],
          [
           0.18811497278683326,
           "LR_l2",
           "NativeCountry"
          ],
          [
           0.17354761609150257,
           "LR_l2",
           "NativeCountry"
          ],
          [
           0.243163066518046,
           "LR_l2",
           "NativeCountry"
          ],
          [
           0.19848273960160256,
           "LR_l2",
           "NativeCountry"
          ],
          [
           0.1641376024392921,
           "LR_l2",
           "NativeCountry"
          ],
          [
           0.22623255473328366,
           "LR_l2",
           "NativeCountry"
          ],
          [
           0.2198313647187312,
           "LR_l2",
           "NativeCountry"
          ],
          [
           0.1979666246073816,
           "LR_l2",
           "NativeCountry"
          ],
          [
           0.1975537103220846,
           "LR_l2",
           "NativeCountry"
          ],
          [
           0.198147468125013,
           "LR_l2",
           "NativeCountry"
          ],
          [
           0.195765317364212,
           "LR_l2",
           "NativeCountry"
          ],
          [
           0.16195487022226834,
           "LR_l2",
           "NativeCountry"
          ],
          [
           0.18398695003425214,
           "LR_l2",
           "NativeCountry"
          ],
          [
           0.16907044316303252,
           "LR_l2",
           "NativeCountry"
          ],
          [
           0.20164669736742993,
           "LR_l2",
           "NativeCountry"
          ],
          [
           0.20290564592485016,
           "LR_l2",
           "NativeCountry"
          ],
          [
           0.19514142749872002,
           "LR_l2",
           "NativeCountry"
          ]
         ],
         "hovertemplate": "<b>%{hovertext}</b><br><br>mean_prediction=%{base:.3f}<br>prediction=%{customdata[0]:.3f}<extra></extra>",
         "hovertext": [
          "LR_l2",
          "LR_l2",
          "LR_l2",
          "LR_l2",
          "LR_l2",
          "LR_l2",
          "LR_l2",
          "LR_l2",
          "LR_l2",
          "LR_l2",
          "LR_l2",
          "LR_l2",
          "LR_l2",
          "LR_l2",
          "LR_l2",
          "LR_l2",
          "LR_l2",
          "LR_l2",
          "LR_l2",
          "LR_l2",
          "LR_l2",
          "LR_l2",
          "LR_l2",
          "LR_l2",
          "LR_l2",
          "LR_l2",
          "LR_l2",
          "LR_l2",
          "LR_l2",
          "LR_l2",
          "LR_l2",
          "LR_l2",
          "LR_l2",
          "LR_l2",
          "LR_l2",
          "LR_l2",
          "LR_l2",
          "LR_l2",
          "LR_l2",
          "LR_l2",
          "LR_l2"
         ],
         "legendgroup": "LR_l2",
         "marker": {
          "color": "#ffa58c",
          "pattern": {
           "shape": ""
          }
         },
         "name": "LR_l2",
         "offsetgroup": "LR_l2",
         "orientation": "v",
         "showlegend": false,
         "textposition": "auto",
         "type": "bar",
         "x": [
          " United-States",
          " Cuba",
          " Jamaica",
          " India",
          " ?",
          " Mexico",
          " South",
          " Puerto-Rico",
          " Honduras",
          " England",
          " Canada",
          " Germany",
          " Iran",
          " Philippines",
          " Italy",
          " Poland",
          " Columbia",
          " Cambodia",
          " Thailand",
          " Ecuador",
          " Laos",
          " Taiwan",
          " Haiti",
          " Portugal",
          " Dominican-Republic",
          " El-Salvador",
          " France",
          " Guatemala",
          " China",
          " Japan",
          " Yugoslavia",
          " Peru",
          " Outlying-US(Guam-USVI-etc)",
          " Scotland",
          " Trinadad&Tobago",
          " Greece",
          " Nicaragua",
          " Vietnam",
          " Hong",
          " Ireland",
          " Hungary"
         ],
         "xaxis": "x2",
         "y": [
          0.0017510231043120494,
          -0.01351806533909028,
          -0.020058920044292966,
          -0.04696185115483459,
          -0.034997246201282584,
          -0.054439461369392345,
          -0.08144622699602103,
          -0.035215044113534794,
          -0.023175821031478694,
          -0.012088351581584444,
          0.002909307355731139,
          0.01165587434686241,
          -0.012512614490063773,
          0.030498427037832565,
          0.026976441200314893,
          -0.012162328175308046,
          -0.06451609925609456,
          0.061560975636767046,
          -0.0376464704182817,
          -0.023830626202293897,
          -0.02611548487795881,
          -0.02742397646184591,
          -0.017948288600734302,
          -0.025209041739664567,
          -0.03440801144287181,
          -0.048975368138202496,
          0.02064008228834094,
          -0.024040244628102503,
          -0.05838538179041297,
          0.003709570503578591,
          -0.0026916195109738805,
          -0.02455635962232347,
          -0.024969273907620465,
          -0.024375516104692074,
          -0.02675766686549308,
          -0.060568114007436724,
          -0.03853603419545293,
          -0.05345254106667255,
          -0.020876286862275134,
          -0.019617338304854903,
          -0.02738155673098505
         ],
         "yaxis": "y2"
        },
        {
         "alignmentgroup": "True",
         "base": [
          0.3379152902924296,
          0.3379152902924296,
          0.3379152902924296,
          0.3379152902924296,
          0.3379152902924296,
          0.3379152902924296,
          0.3379152902924296,
          0.3379152902924296,
          0.3379152902924296
         ],
         "customdata": [
          [
           0.33791529029242884,
           "DL",
           "WorkClass"
          ],
          [
           0.33791529029242884,
           "DL",
           "WorkClass"
          ],
          [
           0.33791529029242884,
           "DL",
           "WorkClass"
          ],
          [
           0.33791529029242884,
           "DL",
           "WorkClass"
          ],
          [
           0.33791529029242884,
           "DL",
           "WorkClass"
          ],
          [
           0.33791529029242884,
           "DL",
           "WorkClass"
          ],
          [
           0.33791529029242884,
           "DL",
           "WorkClass"
          ],
          [
           0.33791529029242884,
           "DL",
           "WorkClass"
          ],
          [
           0.33791529029242884,
           "DL",
           "WorkClass"
          ]
         ],
         "hovertemplate": "<b>%{hovertext}</b><br><br>mean_prediction=%{base:.3f}<br>prediction=%{customdata[0]:.3f}<extra></extra>",
         "hovertext": [
          "DL",
          "DL",
          "DL",
          "DL",
          "DL",
          "DL",
          "DL",
          "DL",
          "DL"
         ],
         "legendgroup": "DL",
         "marker": {
          "color": "#4378bf",
          "pattern": {
           "shape": ""
          }
         },
         "name": "DL",
         "offsetgroup": "DL",
         "orientation": "v",
         "showlegend": true,
         "textposition": "auto",
         "type": "bar",
         "x": [
          " Self-emp-not-inc",
          " Private",
          " State-gov",
          " Federal-gov",
          " Local-gov",
          " ?",
          " Self-emp-inc",
          " Without-pay",
          " Never-worked"
         ],
         "xaxis": "x7",
         "y": [
          -7.771561172376096e-16,
          -7.771561172376096e-16,
          -7.771561172376096e-16,
          -7.771561172376096e-16,
          -7.771561172376096e-16,
          -7.771561172376096e-16,
          -7.771561172376096e-16,
          -7.771561172376096e-16,
          -7.771561172376096e-16
         ],
         "yaxis": "y7"
        },
        {
         "alignmentgroup": "True",
         "base": [
          0.3379152902924296,
          0.3379152902924296,
          0.3379152902924296,
          0.3379152902924296,
          0.3379152902924296,
          0.3379152902924296,
          0.3379152902924296,
          0.3379152902924296,
          0.3379152902924296,
          0.3379152902924296,
          0.3379152902924296,
          0.3379152902924296,
          0.3379152902924296,
          0.3379152902924296,
          0.3379152902924296,
          0.3379152902924296
         ],
         "customdata": [
          [
           0.33791529029242884,
           "DL",
           "Education"
          ],
          [
           0.33791529029242884,
           "DL",
           "Education"
          ],
          [
           0.33791529029242884,
           "DL",
           "Education"
          ],
          [
           0.33791529029242884,
           "DL",
           "Education"
          ],
          [
           0.33791529029242884,
           "DL",
           "Education"
          ],
          [
           0.33791529029242884,
           "DL",
           "Education"
          ],
          [
           0.33791529029242884,
           "DL",
           "Education"
          ],
          [
           0.33791529029242884,
           "DL",
           "Education"
          ],
          [
           0.33791529029242884,
           "DL",
           "Education"
          ],
          [
           0.33791529029242884,
           "DL",
           "Education"
          ],
          [
           0.33791529029242884,
           "DL",
           "Education"
          ],
          [
           0.33791529029242884,
           "DL",
           "Education"
          ],
          [
           0.33791529029242884,
           "DL",
           "Education"
          ],
          [
           0.33791529029242884,
           "DL",
           "Education"
          ],
          [
           0.33791529029242884,
           "DL",
           "Education"
          ],
          [
           0.33791529029242884,
           "DL",
           "Education"
          ]
         ],
         "hovertemplate": "<b>%{hovertext}</b><br><br>mean_prediction=%{base:.3f}<br>prediction=%{customdata[0]:.3f}<extra></extra>",
         "hovertext": [
          "DL",
          "DL",
          "DL",
          "DL",
          "DL",
          "DL",
          "DL",
          "DL",
          "DL",
          "DL",
          "DL",
          "DL",
          "DL",
          "DL",
          "DL",
          "DL"
         ],
         "legendgroup": "DL",
         "marker": {
          "color": "#4378bf",
          "pattern": {
           "shape": ""
          }
         },
         "name": "DL",
         "offsetgroup": "DL",
         "orientation": "v",
         "showlegend": false,
         "textposition": "auto",
         "type": "bar",
         "x": [
          " Bachelors",
          " HS-grad",
          " 11th",
          " Masters",
          " 9th",
          " Some-college",
          " Assoc-acdm",
          " Assoc-voc",
          " 7th-8th",
          " Doctorate",
          " Prof-school",
          " 5th-6th",
          " 10th",
          " 1st-4th",
          " Preschool",
          " 12th"
         ],
         "xaxis": "x8",
         "y": [
          -7.771561172376096e-16,
          -7.771561172376096e-16,
          -7.771561172376096e-16,
          -7.771561172376096e-16,
          -7.771561172376096e-16,
          -7.771561172376096e-16,
          -7.771561172376096e-16,
          -7.771561172376096e-16,
          -7.771561172376096e-16,
          -7.771561172376096e-16,
          -7.771561172376096e-16,
          -7.771561172376096e-16,
          -7.771561172376096e-16,
          -7.771561172376096e-16,
          -7.771561172376096e-16,
          -7.771561172376096e-16
         ],
         "yaxis": "y8"
        },
        {
         "alignmentgroup": "True",
         "base": [
          0.3379152902924296,
          0.3379152902924296,
          0.3379152902924296,
          0.3379152902924296,
          0.3379152902924296,
          0.3379152902924296,
          0.3379152902924296
         ],
         "customdata": [
          [
           0.3776897298447593,
           "DL",
           "MaritalStatus"
          ],
          [
           0.2498307334072729,
           "DL",
           "MaritalStatus"
          ],
          [
           0.2498307334072729,
           "DL",
           "MaritalStatus"
          ],
          [
           0.2498307334072729,
           "DL",
           "MaritalStatus"
          ],
          [
           0.2498307334072729,
           "DL",
           "MaritalStatus"
          ],
          [
           0.2498307334072729,
           "DL",
           "MaritalStatus"
          ],
          [
           0.2498307334072729,
           "DL",
           "MaritalStatus"
          ]
         ],
         "hovertemplate": "<b>%{hovertext}</b><br><br>mean_prediction=%{base:.3f}<br>prediction=%{customdata[0]:.3f}<extra></extra>",
         "hovertext": [
          "DL",
          "DL",
          "DL",
          "DL",
          "DL",
          "DL",
          "DL"
         ],
         "legendgroup": "DL",
         "marker": {
          "color": "#4378bf",
          "pattern": {
           "shape": ""
          }
         },
         "name": "DL",
         "offsetgroup": "DL",
         "orientation": "v",
         "showlegend": false,
         "textposition": "auto",
         "type": "bar",
         "x": [
          " Married-civ-spouse",
          " Divorced",
          " Married-spouse-absent",
          " Never-married",
          " Separated",
          " Married-AF-spouse",
          " Widowed"
         ],
         "xaxis": "x5",
         "y": [
          0.03977443955232968,
          -0.0880845568851567,
          -0.0880845568851567,
          -0.0880845568851567,
          -0.0880845568851567,
          -0.0880845568851567,
          -0.0880845568851567
         ],
         "yaxis": "y5"
        },
        {
         "alignmentgroup": "True",
         "base": [
          0.3379152902924296,
          0.3379152902924296,
          0.3379152902924296,
          0.3379152902924296,
          0.3379152902924296,
          0.3379152902924296,
          0.3379152902924296,
          0.3379152902924296,
          0.3379152902924296,
          0.3379152902924296,
          0.3379152902924296,
          0.3379152902924296,
          0.3379152902924296,
          0.3379152902924296,
          0.3379152902924296
         ],
         "customdata": [
          [
           0.33791529029242884,
           "DL",
           "Occupation"
          ],
          [
           0.33791529029242884,
           "DL",
           "Occupation"
          ],
          [
           0.33791529029242884,
           "DL",
           "Occupation"
          ],
          [
           0.33791529029242884,
           "DL",
           "Occupation"
          ],
          [
           0.33791529029242884,
           "DL",
           "Occupation"
          ],
          [
           0.33791529029242884,
           "DL",
           "Occupation"
          ],
          [
           0.33791529029242884,
           "DL",
           "Occupation"
          ],
          [
           0.33791529029242884,
           "DL",
           "Occupation"
          ],
          [
           0.33791529029242884,
           "DL",
           "Occupation"
          ],
          [
           0.33791529029242884,
           "DL",
           "Occupation"
          ],
          [
           0.33791529029242884,
           "DL",
           "Occupation"
          ],
          [
           0.33791529029242884,
           "DL",
           "Occupation"
          ],
          [
           0.33791529029242884,
           "DL",
           "Occupation"
          ],
          [
           0.33791529029242884,
           "DL",
           "Occupation"
          ],
          [
           0.33791529029242884,
           "DL",
           "Occupation"
          ]
         ],
         "hovertemplate": "<b>%{hovertext}</b><br><br>mean_prediction=%{base:.3f}<br>prediction=%{customdata[0]:.3f}<extra></extra>",
         "hovertext": [
          "DL",
          "DL",
          "DL",
          "DL",
          "DL",
          "DL",
          "DL",
          "DL",
          "DL",
          "DL",
          "DL",
          "DL",
          "DL",
          "DL",
          "DL"
         ],
         "legendgroup": "DL",
         "marker": {
          "color": "#4378bf",
          "pattern": {
           "shape": ""
          }
         },
         "name": "DL",
         "offsetgroup": "DL",
         "orientation": "v",
         "showlegend": false,
         "textposition": "auto",
         "type": "bar",
         "x": [
          " Exec-managerial",
          " Handlers-cleaners",
          " Prof-specialty",
          " Other-service",
          " Adm-clerical",
          " Sales",
          " Craft-repair",
          " Transport-moving",
          " Farming-fishing",
          " Machine-op-inspct",
          " Tech-support",
          " ?",
          " Protective-serv",
          " Armed-Forces",
          " Priv-house-serv"
         ],
         "xaxis": "x6",
         "y": [
          -7.771561172376096e-16,
          -7.771561172376096e-16,
          -7.771561172376096e-16,
          -7.771561172376096e-16,
          -7.771561172376096e-16,
          -7.771561172376096e-16,
          -7.771561172376096e-16,
          -7.771561172376096e-16,
          -7.771561172376096e-16,
          -7.771561172376096e-16,
          -7.771561172376096e-16,
          -7.771561172376096e-16,
          -7.771561172376096e-16,
          -7.771561172376096e-16,
          -7.771561172376096e-16
         ],
         "yaxis": "y6"
        },
        {
         "alignmentgroup": "True",
         "base": [
          0.3379152902924296,
          0.3379152902924296,
          0.3379152902924296,
          0.3379152902924296,
          0.3379152902924296,
          0.3379152902924296
         ],
         "customdata": [
          [
           0.33791529029242884,
           "DL",
           "Relationship"
          ],
          [
           0.33791529029242884,
           "DL",
           "Relationship"
          ],
          [
           0.33791529029242884,
           "DL",
           "Relationship"
          ],
          [
           0.33791529029242884,
           "DL",
           "Relationship"
          ],
          [
           0.3369433657898299,
           "DL",
           "Relationship"
          ],
          [
           0.33791529029242884,
           "DL",
           "Relationship"
          ]
         ],
         "hovertemplate": "<b>%{hovertext}</b><br><br>mean_prediction=%{base:.3f}<br>prediction=%{customdata[0]:.3f}<extra></extra>",
         "hovertext": [
          "DL",
          "DL",
          "DL",
          "DL",
          "DL",
          "DL"
         ],
         "legendgroup": "DL",
         "marker": {
          "color": "#4378bf",
          "pattern": {
           "shape": ""
          }
         },
         "name": "DL",
         "offsetgroup": "DL",
         "orientation": "v",
         "showlegend": false,
         "textposition": "auto",
         "type": "bar",
         "x": [
          " Husband",
          " Not-in-family",
          " Wife",
          " Own-child",
          " Unmarried",
          " Other-relative"
         ],
         "xaxis": "x3",
         "y": [
          -7.771561172376096e-16,
          -7.771561172376096e-16,
          -7.771561172376096e-16,
          -7.771561172376096e-16,
          -0.000971924502599697,
          -7.771561172376096e-16
         ],
         "yaxis": "y3"
        },
        {
         "alignmentgroup": "True",
         "base": [
          0.3379152902924296,
          0.3379152902924296,
          0.3379152902924296,
          0.3379152902924296,
          0.3379152902924296
         ],
         "customdata": [
          [
           0.33791529029242884,
           "DL",
           "Race"
          ],
          [
           0.33791529029242884,
           "DL",
           "Race"
          ],
          [
           0.33791529029242884,
           "DL",
           "Race"
          ],
          [
           0.33791529029242884,
           "DL",
           "Race"
          ],
          [
           0.33791529029242884,
           "DL",
           "Race"
          ]
         ],
         "hovertemplate": "<b>%{hovertext}</b><br><br>mean_prediction=%{base:.3f}<br>prediction=%{customdata[0]:.3f}<extra></extra>",
         "hovertext": [
          "DL",
          "DL",
          "DL",
          "DL",
          "DL"
         ],
         "legendgroup": "DL",
         "marker": {
          "color": "#4378bf",
          "pattern": {
           "shape": ""
          }
         },
         "name": "DL",
         "offsetgroup": "DL",
         "orientation": "v",
         "showlegend": false,
         "textposition": "auto",
         "type": "bar",
         "x": [
          " White",
          " Black",
          " Asian-Pac-Islander",
          " Amer-Indian-Eskimo",
          " Other"
         ],
         "xaxis": "x4",
         "y": [
          -7.771561172376096e-16,
          -7.771561172376096e-16,
          -7.771561172376096e-16,
          -7.771561172376096e-16,
          -7.771561172376096e-16
         ],
         "yaxis": "y4"
        },
        {
         "alignmentgroup": "True",
         "base": [
          0.3379152902924296,
          0.3379152902924296
         ],
         "customdata": [
          [
           0.33791529029242884,
           "DL",
           "Gender"
          ],
          [
           0.33791529029242884,
           "DL",
           "Gender"
          ]
         ],
         "hovertemplate": "<b>%{hovertext}</b><br><br>mean_prediction=%{base:.3f}<br>prediction=%{customdata[0]:.3f}<extra></extra>",
         "hovertext": [
          "DL",
          "DL"
         ],
         "legendgroup": "DL",
         "marker": {
          "color": "#4378bf",
          "pattern": {
           "shape": ""
          }
         },
         "name": "DL",
         "offsetgroup": "DL",
         "orientation": "v",
         "showlegend": false,
         "textposition": "auto",
         "type": "bar",
         "x": [
          " Male",
          " Female"
         ],
         "xaxis": "x",
         "y": [
          -7.771561172376096e-16,
          -7.771561172376096e-16
         ],
         "yaxis": "y"
        },
        {
         "alignmentgroup": "True",
         "base": [
          0.3379152902924296,
          0.3379152902924296,
          0.3379152902924296,
          0.3379152902924296,
          0.3379152902924296,
          0.3379152902924296,
          0.3379152902924296,
          0.3379152902924296,
          0.3379152902924296,
          0.3379152902924296,
          0.3379152902924296,
          0.3379152902924296,
          0.3379152902924296,
          0.3379152902924296,
          0.3379152902924296,
          0.3379152902924296,
          0.3379152902924296,
          0.3379152902924296,
          0.3379152902924296,
          0.3379152902924296,
          0.3379152902924296,
          0.3379152902924296,
          0.3379152902924296,
          0.3379152902924296,
          0.3379152902924296,
          0.3379152902924296,
          0.3379152902924296,
          0.3379152902924296,
          0.3379152902924296,
          0.3379152902924296,
          0.3379152902924296,
          0.3379152902924296,
          0.3379152902924296,
          0.3379152902924296,
          0.3379152902924296,
          0.3379152902924296,
          0.3379152902924296,
          0.3379152902924296,
          0.3379152902924296,
          0.3379152902924296,
          0.3379152902924296
         ],
         "customdata": [
          [
           0.33791529029242884,
           "DL",
           "NativeCountry"
          ],
          [
           0.33791529029242884,
           "DL",
           "NativeCountry"
          ],
          [
           0.33791529029242884,
           "DL",
           "NativeCountry"
          ],
          [
           0.33791529029242884,
           "DL",
           "NativeCountry"
          ],
          [
           0.33791529029242884,
           "DL",
           "NativeCountry"
          ],
          [
           0.33791529029242884,
           "DL",
           "NativeCountry"
          ],
          [
           0.33791529029242884,
           "DL",
           "NativeCountry"
          ],
          [
           0.33791529029242884,
           "DL",
           "NativeCountry"
          ],
          [
           0.33791529029242884,
           "DL",
           "NativeCountry"
          ],
          [
           0.33791529029242884,
           "DL",
           "NativeCountry"
          ],
          [
           0.33791529029242884,
           "DL",
           "NativeCountry"
          ],
          [
           0.33791529029242884,
           "DL",
           "NativeCountry"
          ],
          [
           0.33791529029242884,
           "DL",
           "NativeCountry"
          ],
          [
           0.33791529029242884,
           "DL",
           "NativeCountry"
          ],
          [
           0.33791529029242884,
           "DL",
           "NativeCountry"
          ],
          [
           0.33791529029242884,
           "DL",
           "NativeCountry"
          ],
          [
           0.33791529029242884,
           "DL",
           "NativeCountry"
          ],
          [
           0.33791529029242884,
           "DL",
           "NativeCountry"
          ],
          [
           0.33791529029242884,
           "DL",
           "NativeCountry"
          ],
          [
           0.33791529029242884,
           "DL",
           "NativeCountry"
          ],
          [
           0.33791529029242884,
           "DL",
           "NativeCountry"
          ],
          [
           0.33791529029242884,
           "DL",
           "NativeCountry"
          ],
          [
           0.33791529029242884,
           "DL",
           "NativeCountry"
          ],
          [
           0.33791529029242884,
           "DL",
           "NativeCountry"
          ],
          [
           0.33791529029242884,
           "DL",
           "NativeCountry"
          ],
          [
           0.33791529029242884,
           "DL",
           "NativeCountry"
          ],
          [
           0.33791529029242884,
           "DL",
           "NativeCountry"
          ],
          [
           0.33791529029242884,
           "DL",
           "NativeCountry"
          ],
          [
           0.33791529029242884,
           "DL",
           "NativeCountry"
          ],
          [
           0.33791529029242884,
           "DL",
           "NativeCountry"
          ],
          [
           0.33791529029242884,
           "DL",
           "NativeCountry"
          ],
          [
           0.33791529029242884,
           "DL",
           "NativeCountry"
          ],
          [
           0.33791529029242884,
           "DL",
           "NativeCountry"
          ],
          [
           0.33791529029242884,
           "DL",
           "NativeCountry"
          ],
          [
           0.33791529029242884,
           "DL",
           "NativeCountry"
          ],
          [
           0.33791529029242884,
           "DL",
           "NativeCountry"
          ],
          [
           0.33791529029242884,
           "DL",
           "NativeCountry"
          ],
          [
           0.33791529029242884,
           "DL",
           "NativeCountry"
          ],
          [
           0.33791529029242884,
           "DL",
           "NativeCountry"
          ],
          [
           0.33791529029242884,
           "DL",
           "NativeCountry"
          ],
          [
           0.33791529029242884,
           "DL",
           "NativeCountry"
          ]
         ],
         "hovertemplate": "<b>%{hovertext}</b><br><br>mean_prediction=%{base:.3f}<br>prediction=%{customdata[0]:.3f}<extra></extra>",
         "hovertext": [
          "DL",
          "DL",
          "DL",
          "DL",
          "DL",
          "DL",
          "DL",
          "DL",
          "DL",
          "DL",
          "DL",
          "DL",
          "DL",
          "DL",
          "DL",
          "DL",
          "DL",
          "DL",
          "DL",
          "DL",
          "DL",
          "DL",
          "DL",
          "DL",
          "DL",
          "DL",
          "DL",
          "DL",
          "DL",
          "DL",
          "DL",
          "DL",
          "DL",
          "DL",
          "DL",
          "DL",
          "DL",
          "DL",
          "DL",
          "DL",
          "DL"
         ],
         "legendgroup": "DL",
         "marker": {
          "color": "#4378bf",
          "pattern": {
           "shape": ""
          }
         },
         "name": "DL",
         "offsetgroup": "DL",
         "orientation": "v",
         "showlegend": false,
         "textposition": "auto",
         "type": "bar",
         "x": [
          " United-States",
          " Cuba",
          " Jamaica",
          " India",
          " ?",
          " Mexico",
          " South",
          " Puerto-Rico",
          " Honduras",
          " England",
          " Canada",
          " Germany",
          " Iran",
          " Philippines",
          " Italy",
          " Poland",
          " Columbia",
          " Cambodia",
          " Thailand",
          " Ecuador",
          " Laos",
          " Taiwan",
          " Haiti",
          " Portugal",
          " Dominican-Republic",
          " El-Salvador",
          " France",
          " Guatemala",
          " China",
          " Japan",
          " Yugoslavia",
          " Peru",
          " Outlying-US(Guam-USVI-etc)",
          " Scotland",
          " Trinadad&Tobago",
          " Greece",
          " Nicaragua",
          " Vietnam",
          " Hong",
          " Ireland",
          " Hungary"
         ],
         "xaxis": "x2",
         "y": [
          -7.771561172376096e-16,
          -7.771561172376096e-16,
          -7.771561172376096e-16,
          -7.771561172376096e-16,
          -7.771561172376096e-16,
          -7.771561172376096e-16,
          -7.771561172376096e-16,
          -7.771561172376096e-16,
          -7.771561172376096e-16,
          -7.771561172376096e-16,
          -7.771561172376096e-16,
          -7.771561172376096e-16,
          -7.771561172376096e-16,
          -7.771561172376096e-16,
          -7.771561172376096e-16,
          -7.771561172376096e-16,
          -7.771561172376096e-16,
          -7.771561172376096e-16,
          -7.771561172376096e-16,
          -7.771561172376096e-16,
          -7.771561172376096e-16,
          -7.771561172376096e-16,
          -7.771561172376096e-16,
          -7.771561172376096e-16,
          -7.771561172376096e-16,
          -7.771561172376096e-16,
          -7.771561172376096e-16,
          -7.771561172376096e-16,
          -7.771561172376096e-16,
          -7.771561172376096e-16,
          -7.771561172376096e-16,
          -7.771561172376096e-16,
          -7.771561172376096e-16,
          -7.771561172376096e-16,
          -7.771561172376096e-16,
          -7.771561172376096e-16,
          -7.771561172376096e-16,
          -7.771561172376096e-16,
          -7.771561172376096e-16,
          -7.771561172376096e-16,
          -7.771561172376096e-16
         ],
         "yaxis": "y2"
        }
       ],
       "layout": {
        "annotations": [
         {
          "font": {
           "size": 13
          },
          "showarrow": false,
          "text": "Gender",
          "x": 0.2375,
          "xanchor": "center",
          "xref": "paper",
          "y": 0.19375,
          "yanchor": "bottom",
          "yref": "paper"
         },
         {
          "font": {
           "size": 13
          },
          "showarrow": false,
          "text": "NativeCountry",
          "x": 0.7625,
          "xanchor": "center",
          "xref": "paper",
          "y": 0.19375,
          "yanchor": "bottom",
          "yref": "paper"
         },
         {
          "font": {
           "size": 13
          },
          "showarrow": false,
          "text": "Relationship",
          "x": 0.2375,
          "xanchor": "center",
          "xref": "paper",
          "y": 0.4625,
          "yanchor": "bottom",
          "yref": "paper"
         },
         {
          "font": {
           "size": 13
          },
          "showarrow": false,
          "text": "Race",
          "x": 0.7625,
          "xanchor": "center",
          "xref": "paper",
          "y": 0.4625,
          "yanchor": "bottom",
          "yref": "paper"
         },
         {
          "font": {
           "size": 13
          },
          "showarrow": false,
          "text": "MaritalStatus",
          "x": 0.2375,
          "xanchor": "center",
          "xref": "paper",
          "y": 0.73125,
          "yanchor": "bottom",
          "yref": "paper"
         },
         {
          "font": {
           "size": 13
          },
          "showarrow": false,
          "text": "Occupation",
          "x": 0.7625,
          "xanchor": "center",
          "xref": "paper",
          "y": 0.73125,
          "yanchor": "bottom",
          "yref": "paper"
         },
         {
          "font": {
           "size": 13
          },
          "showarrow": false,
          "text": "WorkClass",
          "x": 0.2375,
          "xanchor": "center",
          "xref": "paper",
          "y": 1,
          "yanchor": "bottom",
          "yref": "paper"
         },
         {
          "font": {
           "size": 13
          },
          "showarrow": false,
          "text": "Education",
          "x": 0.7625,
          "xanchor": "center",
          "xref": "paper",
          "y": 1,
          "yanchor": "bottom",
          "yref": "paper"
         },
         {
          "font": {
           "size": 13
          },
          "showarrow": false,
          "text": "prediction",
          "textangle": -90,
          "x": -0.07,
          "xref": "paper",
          "y": 0.5,
          "yref": "paper"
         }
        ],
        "barmode": "group",
        "font": {
         "color": "#371ea3"
        },
        "height": 1509,
        "hovermode": "x unified",
        "legend": {
         "font": {
          "size": 11
         },
         "itemsizing": "constant",
         "orientation": "h",
         "title": {
          "font": {
           "size": 12
          },
          "text": "label"
         },
         "tracegroupgap": 0,
         "x": 1,
         "xanchor": "right",
         "y": 1.0198807157057654,
         "yanchor": "bottom"
        },
        "margin": {
         "b": 71,
         "r": 30,
         "t": 78
        },
        "shapes": [
         {
          "layer": "below",
          "line": {
           "color": "#371ea3",
           "dash": "dot",
           "width": 1.5
          },
          "type": "line",
          "x0": 0,
          "x1": 1,
          "xref": "x domain",
          "y0": 0.20333333333333334,
          "y1": 0.20333333333333334,
          "yref": "y"
         },
         {
          "layer": "below",
          "line": {
           "color": "#371ea3",
           "dash": "dot",
           "width": 1.5
          },
          "type": "line",
          "x0": 0,
          "x1": 1,
          "xref": "x2 domain",
          "y0": 0.20333333333333334,
          "y1": 0.20333333333333334,
          "yref": "y2"
         },
         {
          "layer": "below",
          "line": {
           "color": "#371ea3",
           "dash": "dot",
           "width": 1.5
          },
          "type": "line",
          "x0": 0,
          "x1": 1,
          "xref": "x3 domain",
          "y0": 0.20333333333333334,
          "y1": 0.20333333333333334,
          "yref": "y3"
         },
         {
          "layer": "below",
          "line": {
           "color": "#371ea3",
           "dash": "dot",
           "width": 1.5
          },
          "type": "line",
          "x0": 0,
          "x1": 1,
          "xref": "x4 domain",
          "y0": 0.20333333333333334,
          "y1": 0.20333333333333334,
          "yref": "y4"
         },
         {
          "layer": "below",
          "line": {
           "color": "#371ea3",
           "dash": "dot",
           "width": 1.5
          },
          "type": "line",
          "x0": 0,
          "x1": 1,
          "xref": "x5 domain",
          "y0": 0.20333333333333334,
          "y1": 0.20333333333333334,
          "yref": "y5"
         },
         {
          "layer": "below",
          "line": {
           "color": "#371ea3",
           "dash": "dot",
           "width": 1.5
          },
          "type": "line",
          "x0": 0,
          "x1": 1,
          "xref": "x6 domain",
          "y0": 0.20333333333333334,
          "y1": 0.20333333333333334,
          "yref": "y6"
         },
         {
          "layer": "below",
          "line": {
           "color": "#371ea3",
           "dash": "dot",
           "width": 1.5
          },
          "type": "line",
          "x0": 0,
          "x1": 1,
          "xref": "x7 domain",
          "y0": 0.20333333333333334,
          "y1": 0.20333333333333334,
          "yref": "y7"
         },
         {
          "layer": "below",
          "line": {
           "color": "#371ea3",
           "dash": "dot",
           "width": 1.5
          },
          "type": "line",
          "x0": 0,
          "x1": 1,
          "xref": "x8 domain",
          "y0": 0.20333333333333334,
          "y1": 0.20333333333333334,
          "yref": "y8"
         },
         {
          "layer": "below",
          "line": {
           "color": "#371ea3",
           "dash": "dot",
           "width": 1.5
          },
          "type": "line",
          "x0": 0,
          "x1": 1,
          "xref": "x domain",
          "y0": 0.20333333333333334,
          "y1": 0.20333333333333334,
          "yref": "y"
         },
         {
          "layer": "below",
          "line": {
           "color": "#371ea3",
           "dash": "dot",
           "width": 1.5
          },
          "type": "line",
          "x0": 0,
          "x1": 1,
          "xref": "x2 domain",
          "y0": 0.20333333333333334,
          "y1": 0.20333333333333334,
          "yref": "y2"
         },
         {
          "layer": "below",
          "line": {
           "color": "#371ea3",
           "dash": "dot",
           "width": 1.5
          },
          "type": "line",
          "x0": 0,
          "x1": 1,
          "xref": "x3 domain",
          "y0": 0.20333333333333334,
          "y1": 0.20333333333333334,
          "yref": "y3"
         },
         {
          "layer": "below",
          "line": {
           "color": "#371ea3",
           "dash": "dot",
           "width": 1.5
          },
          "type": "line",
          "x0": 0,
          "x1": 1,
          "xref": "x4 domain",
          "y0": 0.20333333333333334,
          "y1": 0.20333333333333334,
          "yref": "y4"
         },
         {
          "layer": "below",
          "line": {
           "color": "#371ea3",
           "dash": "dot",
           "width": 1.5
          },
          "type": "line",
          "x0": 0,
          "x1": 1,
          "xref": "x5 domain",
          "y0": 0.20333333333333334,
          "y1": 0.20333333333333334,
          "yref": "y5"
         },
         {
          "layer": "below",
          "line": {
           "color": "#371ea3",
           "dash": "dot",
           "width": 1.5
          },
          "type": "line",
          "x0": 0,
          "x1": 1,
          "xref": "x6 domain",
          "y0": 0.20333333333333334,
          "y1": 0.20333333333333334,
          "yref": "y6"
         },
         {
          "layer": "below",
          "line": {
           "color": "#371ea3",
           "dash": "dot",
           "width": 1.5
          },
          "type": "line",
          "x0": 0,
          "x1": 1,
          "xref": "x7 domain",
          "y0": 0.20333333333333334,
          "y1": 0.20333333333333334,
          "yref": "y7"
         },
         {
          "layer": "below",
          "line": {
           "color": "#371ea3",
           "dash": "dot",
           "width": 1.5
          },
          "type": "line",
          "x0": 0,
          "x1": 1,
          "xref": "x8 domain",
          "y0": 0.20333333333333334,
          "y1": 0.20333333333333334,
          "yref": "y8"
         },
         {
          "layer": "below",
          "line": {
           "color": "#371ea3",
           "dash": "dot",
           "width": 1.5
          },
          "type": "line",
          "x0": 0,
          "x1": 1,
          "xref": "x domain",
          "y0": 0.20333333333333334,
          "y1": 0.20333333333333334,
          "yref": "y"
         },
         {
          "layer": "below",
          "line": {
           "color": "#371ea3",
           "dash": "dot",
           "width": 1.5
          },
          "type": "line",
          "x0": 0,
          "x1": 1,
          "xref": "x2 domain",
          "y0": 0.20333333333333334,
          "y1": 0.20333333333333334,
          "yref": "y2"
         },
         {
          "layer": "below",
          "line": {
           "color": "#371ea3",
           "dash": "dot",
           "width": 1.5
          },
          "type": "line",
          "x0": 0,
          "x1": 1,
          "xref": "x3 domain",
          "y0": 0.20333333333333334,
          "y1": 0.20333333333333334,
          "yref": "y3"
         },
         {
          "layer": "below",
          "line": {
           "color": "#371ea3",
           "dash": "dot",
           "width": 1.5
          },
          "type": "line",
          "x0": 0,
          "x1": 1,
          "xref": "x4 domain",
          "y0": 0.20333333333333334,
          "y1": 0.20333333333333334,
          "yref": "y4"
         },
         {
          "layer": "below",
          "line": {
           "color": "#371ea3",
           "dash": "dot",
           "width": 1.5
          },
          "type": "line",
          "x0": 0,
          "x1": 1,
          "xref": "x5 domain",
          "y0": 0.20333333333333334,
          "y1": 0.20333333333333334,
          "yref": "y5"
         },
         {
          "layer": "below",
          "line": {
           "color": "#371ea3",
           "dash": "dot",
           "width": 1.5
          },
          "type": "line",
          "x0": 0,
          "x1": 1,
          "xref": "x6 domain",
          "y0": 0.20333333333333334,
          "y1": 0.20333333333333334,
          "yref": "y6"
         },
         {
          "layer": "below",
          "line": {
           "color": "#371ea3",
           "dash": "dot",
           "width": 1.5
          },
          "type": "line",
          "x0": 0,
          "x1": 1,
          "xref": "x7 domain",
          "y0": 0.20333333333333334,
          "y1": 0.20333333333333334,
          "yref": "y7"
         },
         {
          "layer": "below",
          "line": {
           "color": "#371ea3",
           "dash": "dot",
           "width": 1.5
          },
          "type": "line",
          "x0": 0,
          "x1": 1,
          "xref": "x8 domain",
          "y0": 0.20333333333333334,
          "y1": 0.20333333333333334,
          "yref": "y8"
         },
         {
          "layer": "below",
          "line": {
           "color": "#371ea3",
           "dash": "dot",
           "width": 1.5
          },
          "type": "line",
          "x0": 0,
          "x1": 1,
          "xref": "x domain",
          "y0": 0.20333333333333334,
          "y1": 0.20333333333333334,
          "yref": "y"
         },
         {
          "layer": "below",
          "line": {
           "color": "#371ea3",
           "dash": "dot",
           "width": 1.5
          },
          "type": "line",
          "x0": 0,
          "x1": 1,
          "xref": "x2 domain",
          "y0": 0.20333333333333334,
          "y1": 0.20333333333333334,
          "yref": "y2"
         },
         {
          "layer": "below",
          "line": {
           "color": "#371ea3",
           "dash": "dot",
           "width": 1.5
          },
          "type": "line",
          "x0": 0,
          "x1": 1,
          "xref": "x3 domain",
          "y0": 0.20333333333333334,
          "y1": 0.20333333333333334,
          "yref": "y3"
         },
         {
          "layer": "below",
          "line": {
           "color": "#371ea3",
           "dash": "dot",
           "width": 1.5
          },
          "type": "line",
          "x0": 0,
          "x1": 1,
          "xref": "x4 domain",
          "y0": 0.20333333333333334,
          "y1": 0.20333333333333334,
          "yref": "y4"
         },
         {
          "layer": "below",
          "line": {
           "color": "#371ea3",
           "dash": "dot",
           "width": 1.5
          },
          "type": "line",
          "x0": 0,
          "x1": 1,
          "xref": "x5 domain",
          "y0": 0.20333333333333334,
          "y1": 0.20333333333333334,
          "yref": "y5"
         },
         {
          "layer": "below",
          "line": {
           "color": "#371ea3",
           "dash": "dot",
           "width": 1.5
          },
          "type": "line",
          "x0": 0,
          "x1": 1,
          "xref": "x6 domain",
          "y0": 0.20333333333333334,
          "y1": 0.20333333333333334,
          "yref": "y6"
         },
         {
          "layer": "below",
          "line": {
           "color": "#371ea3",
           "dash": "dot",
           "width": 1.5
          },
          "type": "line",
          "x0": 0,
          "x1": 1,
          "xref": "x7 domain",
          "y0": 0.20333333333333334,
          "y1": 0.20333333333333334,
          "yref": "y7"
         },
         {
          "layer": "below",
          "line": {
           "color": "#371ea3",
           "dash": "dot",
           "width": 1.5
          },
          "type": "line",
          "x0": 0,
          "x1": 1,
          "xref": "x8 domain",
          "y0": 0.20333333333333334,
          "y1": 0.20333333333333334,
          "yref": "y8"
         },
         {
          "layer": "below",
          "line": {
           "color": "#371ea3",
           "dash": "dot",
           "width": 1.5
          },
          "type": "line",
          "x0": 0,
          "x1": 1,
          "xref": "x domain",
          "y0": 0.20333333333333334,
          "y1": 0.20333333333333334,
          "yref": "y"
         },
         {
          "layer": "below",
          "line": {
           "color": "#371ea3",
           "dash": "dot",
           "width": 1.5
          },
          "type": "line",
          "x0": 0,
          "x1": 1,
          "xref": "x2 domain",
          "y0": 0.20333333333333334,
          "y1": 0.20333333333333334,
          "yref": "y2"
         },
         {
          "layer": "below",
          "line": {
           "color": "#371ea3",
           "dash": "dot",
           "width": 1.5
          },
          "type": "line",
          "x0": 0,
          "x1": 1,
          "xref": "x3 domain",
          "y0": 0.20333333333333334,
          "y1": 0.20333333333333334,
          "yref": "y3"
         },
         {
          "layer": "below",
          "line": {
           "color": "#371ea3",
           "dash": "dot",
           "width": 1.5
          },
          "type": "line",
          "x0": 0,
          "x1": 1,
          "xref": "x4 domain",
          "y0": 0.20333333333333334,
          "y1": 0.20333333333333334,
          "yref": "y4"
         },
         {
          "layer": "below",
          "line": {
           "color": "#371ea3",
           "dash": "dot",
           "width": 1.5
          },
          "type": "line",
          "x0": 0,
          "x1": 1,
          "xref": "x5 domain",
          "y0": 0.20333333333333334,
          "y1": 0.20333333333333334,
          "yref": "y5"
         },
         {
          "layer": "below",
          "line": {
           "color": "#371ea3",
           "dash": "dot",
           "width": 1.5
          },
          "type": "line",
          "x0": 0,
          "x1": 1,
          "xref": "x6 domain",
          "y0": 0.20333333333333334,
          "y1": 0.20333333333333334,
          "yref": "y6"
         },
         {
          "layer": "below",
          "line": {
           "color": "#371ea3",
           "dash": "dot",
           "width": 1.5
          },
          "type": "line",
          "x0": 0,
          "x1": 1,
          "xref": "x7 domain",
          "y0": 0.20333333333333334,
          "y1": 0.20333333333333334,
          "yref": "y7"
         },
         {
          "layer": "below",
          "line": {
           "color": "#371ea3",
           "dash": "dot",
           "width": 1.5
          },
          "type": "line",
          "x0": 0,
          "x1": 1,
          "xref": "x8 domain",
          "y0": 0.20333333333333334,
          "y1": 0.20333333333333334,
          "yref": "y8"
         },
         {
          "layer": "below",
          "line": {
           "color": "#371ea3",
           "dash": "dot",
           "width": 1.5
          },
          "type": "line",
          "x0": 0,
          "x1": 1,
          "xref": "x domain",
          "y0": 0.20333333333333334,
          "y1": 0.20333333333333334,
          "yref": "y"
         },
         {
          "layer": "below",
          "line": {
           "color": "#371ea3",
           "dash": "dot",
           "width": 1.5
          },
          "type": "line",
          "x0": 0,
          "x1": 1,
          "xref": "x2 domain",
          "y0": 0.20333333333333334,
          "y1": 0.20333333333333334,
          "yref": "y2"
         },
         {
          "layer": "below",
          "line": {
           "color": "#371ea3",
           "dash": "dot",
           "width": 1.5
          },
          "type": "line",
          "x0": 0,
          "x1": 1,
          "xref": "x3 domain",
          "y0": 0.20333333333333334,
          "y1": 0.20333333333333334,
          "yref": "y3"
         },
         {
          "layer": "below",
          "line": {
           "color": "#371ea3",
           "dash": "dot",
           "width": 1.5
          },
          "type": "line",
          "x0": 0,
          "x1": 1,
          "xref": "x4 domain",
          "y0": 0.20333333333333334,
          "y1": 0.20333333333333334,
          "yref": "y4"
         },
         {
          "layer": "below",
          "line": {
           "color": "#371ea3",
           "dash": "dot",
           "width": 1.5
          },
          "type": "line",
          "x0": 0,
          "x1": 1,
          "xref": "x5 domain",
          "y0": 0.20333333333333334,
          "y1": 0.20333333333333334,
          "yref": "y5"
         },
         {
          "layer": "below",
          "line": {
           "color": "#371ea3",
           "dash": "dot",
           "width": 1.5
          },
          "type": "line",
          "x0": 0,
          "x1": 1,
          "xref": "x6 domain",
          "y0": 0.20333333333333334,
          "y1": 0.20333333333333334,
          "yref": "y6"
         },
         {
          "layer": "below",
          "line": {
           "color": "#371ea3",
           "dash": "dot",
           "width": 1.5
          },
          "type": "line",
          "x0": 0,
          "x1": 1,
          "xref": "x7 domain",
          "y0": 0.20333333333333334,
          "y1": 0.20333333333333334,
          "yref": "y7"
         },
         {
          "layer": "below",
          "line": {
           "color": "#371ea3",
           "dash": "dot",
           "width": 1.5
          },
          "type": "line",
          "x0": 0,
          "x1": 1,
          "xref": "x8 domain",
          "y0": 0.20333333333333334,
          "y1": 0.20333333333333334,
          "yref": "y8"
         },
         {
          "layer": "below",
          "line": {
           "color": "#371ea3",
           "dash": "dot",
           "width": 1.5
          },
          "type": "line",
          "x0": 0,
          "x1": 1,
          "xref": "x domain",
          "y0": 0.20333333333333334,
          "y1": 0.20333333333333334,
          "yref": "y"
         },
         {
          "layer": "below",
          "line": {
           "color": "#371ea3",
           "dash": "dot",
           "width": 1.5
          },
          "type": "line",
          "x0": 0,
          "x1": 1,
          "xref": "x2 domain",
          "y0": 0.20333333333333334,
          "y1": 0.20333333333333334,
          "yref": "y2"
         },
         {
          "layer": "below",
          "line": {
           "color": "#371ea3",
           "dash": "dot",
           "width": 1.5
          },
          "type": "line",
          "x0": 0,
          "x1": 1,
          "xref": "x3 domain",
          "y0": 0.20333333333333334,
          "y1": 0.20333333333333334,
          "yref": "y3"
         },
         {
          "layer": "below",
          "line": {
           "color": "#371ea3",
           "dash": "dot",
           "width": 1.5
          },
          "type": "line",
          "x0": 0,
          "x1": 1,
          "xref": "x4 domain",
          "y0": 0.20333333333333334,
          "y1": 0.20333333333333334,
          "yref": "y4"
         },
         {
          "layer": "below",
          "line": {
           "color": "#371ea3",
           "dash": "dot",
           "width": 1.5
          },
          "type": "line",
          "x0": 0,
          "x1": 1,
          "xref": "x5 domain",
          "y0": 0.20333333333333334,
          "y1": 0.20333333333333334,
          "yref": "y5"
         },
         {
          "layer": "below",
          "line": {
           "color": "#371ea3",
           "dash": "dot",
           "width": 1.5
          },
          "type": "line",
          "x0": 0,
          "x1": 1,
          "xref": "x6 domain",
          "y0": 0.20333333333333334,
          "y1": 0.20333333333333334,
          "yref": "y6"
         },
         {
          "layer": "below",
          "line": {
           "color": "#371ea3",
           "dash": "dot",
           "width": 1.5
          },
          "type": "line",
          "x0": 0,
          "x1": 1,
          "xref": "x7 domain",
          "y0": 0.20333333333333334,
          "y1": 0.20333333333333334,
          "yref": "y7"
         },
         {
          "layer": "below",
          "line": {
           "color": "#371ea3",
           "dash": "dot",
           "width": 1.5
          },
          "type": "line",
          "x0": 0,
          "x1": 1,
          "xref": "x8 domain",
          "y0": 0.20333333333333334,
          "y1": 0.20333333333333334,
          "yref": "y8"
         },
         {
          "layer": "below",
          "line": {
           "color": "#371ea3",
           "dash": "dot",
           "width": 1.5
          },
          "type": "line",
          "x0": 0,
          "x1": 1,
          "xref": "x domain",
          "y0": 0.20333333333333334,
          "y1": 0.20333333333333334,
          "yref": "y"
         },
         {
          "layer": "below",
          "line": {
           "color": "#371ea3",
           "dash": "dot",
           "width": 1.5
          },
          "type": "line",
          "x0": 0,
          "x1": 1,
          "xref": "x2 domain",
          "y0": 0.20333333333333334,
          "y1": 0.20333333333333334,
          "yref": "y2"
         },
         {
          "layer": "below",
          "line": {
           "color": "#371ea3",
           "dash": "dot",
           "width": 1.5
          },
          "type": "line",
          "x0": 0,
          "x1": 1,
          "xref": "x3 domain",
          "y0": 0.20333333333333334,
          "y1": 0.20333333333333334,
          "yref": "y3"
         },
         {
          "layer": "below",
          "line": {
           "color": "#371ea3",
           "dash": "dot",
           "width": 1.5
          },
          "type": "line",
          "x0": 0,
          "x1": 1,
          "xref": "x4 domain",
          "y0": 0.20333333333333334,
          "y1": 0.20333333333333334,
          "yref": "y4"
         },
         {
          "layer": "below",
          "line": {
           "color": "#371ea3",
           "dash": "dot",
           "width": 1.5
          },
          "type": "line",
          "x0": 0,
          "x1": 1,
          "xref": "x5 domain",
          "y0": 0.20333333333333334,
          "y1": 0.20333333333333334,
          "yref": "y5"
         },
         {
          "layer": "below",
          "line": {
           "color": "#371ea3",
           "dash": "dot",
           "width": 1.5
          },
          "type": "line",
          "x0": 0,
          "x1": 1,
          "xref": "x6 domain",
          "y0": 0.20333333333333334,
          "y1": 0.20333333333333334,
          "yref": "y6"
         },
         {
          "layer": "below",
          "line": {
           "color": "#371ea3",
           "dash": "dot",
           "width": 1.5
          },
          "type": "line",
          "x0": 0,
          "x1": 1,
          "xref": "x7 domain",
          "y0": 0.20333333333333334,
          "y1": 0.20333333333333334,
          "yref": "y7"
         },
         {
          "layer": "below",
          "line": {
           "color": "#371ea3",
           "dash": "dot",
           "width": 1.5
          },
          "type": "line",
          "x0": 0,
          "x1": 1,
          "xref": "x8 domain",
          "y0": 0.20333333333333334,
          "y1": 0.20333333333333334,
          "yref": "y8"
         },
         {
          "layer": "below",
          "line": {
           "color": "#371ea3",
           "dash": "dot",
           "width": 1.5
          },
          "type": "line",
          "x0": 0,
          "x1": 1,
          "xref": "x domain",
          "y0": 0.219543296782875,
          "y1": 0.219543296782875,
          "yref": "y"
         },
         {
          "layer": "below",
          "line": {
           "color": "#371ea3",
           "dash": "dot",
           "width": 1.5
          },
          "type": "line",
          "x0": 0,
          "x1": 1,
          "xref": "x2 domain",
          "y0": 0.219543296782875,
          "y1": 0.219543296782875,
          "yref": "y2"
         },
         {
          "layer": "below",
          "line": {
           "color": "#371ea3",
           "dash": "dot",
           "width": 1.5
          },
          "type": "line",
          "x0": 0,
          "x1": 1,
          "xref": "x3 domain",
          "y0": 0.219543296782875,
          "y1": 0.219543296782875,
          "yref": "y3"
         },
         {
          "layer": "below",
          "line": {
           "color": "#371ea3",
           "dash": "dot",
           "width": 1.5
          },
          "type": "line",
          "x0": 0,
          "x1": 1,
          "xref": "x4 domain",
          "y0": 0.219543296782875,
          "y1": 0.219543296782875,
          "yref": "y4"
         },
         {
          "layer": "below",
          "line": {
           "color": "#371ea3",
           "dash": "dot",
           "width": 1.5
          },
          "type": "line",
          "x0": 0,
          "x1": 1,
          "xref": "x5 domain",
          "y0": 0.219543296782875,
          "y1": 0.219543296782875,
          "yref": "y5"
         },
         {
          "layer": "below",
          "line": {
           "color": "#371ea3",
           "dash": "dot",
           "width": 1.5
          },
          "type": "line",
          "x0": 0,
          "x1": 1,
          "xref": "x6 domain",
          "y0": 0.219543296782875,
          "y1": 0.219543296782875,
          "yref": "y6"
         },
         {
          "layer": "below",
          "line": {
           "color": "#371ea3",
           "dash": "dot",
           "width": 1.5
          },
          "type": "line",
          "x0": 0,
          "x1": 1,
          "xref": "x7 domain",
          "y0": 0.219543296782875,
          "y1": 0.219543296782875,
          "yref": "y7"
         },
         {
          "layer": "below",
          "line": {
           "color": "#371ea3",
           "dash": "dot",
           "width": 1.5
          },
          "type": "line",
          "x0": 0,
          "x1": 1,
          "xref": "x8 domain",
          "y0": 0.219543296782875,
          "y1": 0.219543296782875,
          "yref": "y8"
         },
         {
          "layer": "below",
          "line": {
           "color": "#371ea3",
           "dash": "dot",
           "width": 1.5
          },
          "type": "line",
          "x0": 0,
          "x1": 1,
          "xref": "x domain",
          "y0": 0.219543296782875,
          "y1": 0.219543296782875,
          "yref": "y"
         },
         {
          "layer": "below",
          "line": {
           "color": "#371ea3",
           "dash": "dot",
           "width": 1.5
          },
          "type": "line",
          "x0": 0,
          "x1": 1,
          "xref": "x2 domain",
          "y0": 0.219543296782875,
          "y1": 0.219543296782875,
          "yref": "y2"
         },
         {
          "layer": "below",
          "line": {
           "color": "#371ea3",
           "dash": "dot",
           "width": 1.5
          },
          "type": "line",
          "x0": 0,
          "x1": 1,
          "xref": "x3 domain",
          "y0": 0.219543296782875,
          "y1": 0.219543296782875,
          "yref": "y3"
         },
         {
          "layer": "below",
          "line": {
           "color": "#371ea3",
           "dash": "dot",
           "width": 1.5
          },
          "type": "line",
          "x0": 0,
          "x1": 1,
          "xref": "x4 domain",
          "y0": 0.219543296782875,
          "y1": 0.219543296782875,
          "yref": "y4"
         },
         {
          "layer": "below",
          "line": {
           "color": "#371ea3",
           "dash": "dot",
           "width": 1.5
          },
          "type": "line",
          "x0": 0,
          "x1": 1,
          "xref": "x5 domain",
          "y0": 0.219543296782875,
          "y1": 0.219543296782875,
          "yref": "y5"
         },
         {
          "layer": "below",
          "line": {
           "color": "#371ea3",
           "dash": "dot",
           "width": 1.5
          },
          "type": "line",
          "x0": 0,
          "x1": 1,
          "xref": "x6 domain",
          "y0": 0.219543296782875,
          "y1": 0.219543296782875,
          "yref": "y6"
         },
         {
          "layer": "below",
          "line": {
           "color": "#371ea3",
           "dash": "dot",
           "width": 1.5
          },
          "type": "line",
          "x0": 0,
          "x1": 1,
          "xref": "x7 domain",
          "y0": 0.219543296782875,
          "y1": 0.219543296782875,
          "yref": "y7"
         },
         {
          "layer": "below",
          "line": {
           "color": "#371ea3",
           "dash": "dot",
           "width": 1.5
          },
          "type": "line",
          "x0": 0,
          "x1": 1,
          "xref": "x8 domain",
          "y0": 0.219543296782875,
          "y1": 0.219543296782875,
          "yref": "y8"
         },
         {
          "layer": "below",
          "line": {
           "color": "#371ea3",
           "dash": "dot",
           "width": 1.5
          },
          "type": "line",
          "x0": 0,
          "x1": 1,
          "xref": "x domain",
          "y0": 0.219543296782875,
          "y1": 0.219543296782875,
          "yref": "y"
         },
         {
          "layer": "below",
          "line": {
           "color": "#371ea3",
           "dash": "dot",
           "width": 1.5
          },
          "type": "line",
          "x0": 0,
          "x1": 1,
          "xref": "x2 domain",
          "y0": 0.219543296782875,
          "y1": 0.219543296782875,
          "yref": "y2"
         },
         {
          "layer": "below",
          "line": {
           "color": "#371ea3",
           "dash": "dot",
           "width": 1.5
          },
          "type": "line",
          "x0": 0,
          "x1": 1,
          "xref": "x3 domain",
          "y0": 0.219543296782875,
          "y1": 0.219543296782875,
          "yref": "y3"
         },
         {
          "layer": "below",
          "line": {
           "color": "#371ea3",
           "dash": "dot",
           "width": 1.5
          },
          "type": "line",
          "x0": 0,
          "x1": 1,
          "xref": "x4 domain",
          "y0": 0.219543296782875,
          "y1": 0.219543296782875,
          "yref": "y4"
         },
         {
          "layer": "below",
          "line": {
           "color": "#371ea3",
           "dash": "dot",
           "width": 1.5
          },
          "type": "line",
          "x0": 0,
          "x1": 1,
          "xref": "x5 domain",
          "y0": 0.219543296782875,
          "y1": 0.219543296782875,
          "yref": "y5"
         },
         {
          "layer": "below",
          "line": {
           "color": "#371ea3",
           "dash": "dot",
           "width": 1.5
          },
          "type": "line",
          "x0": 0,
          "x1": 1,
          "xref": "x6 domain",
          "y0": 0.219543296782875,
          "y1": 0.219543296782875,
          "yref": "y6"
         },
         {
          "layer": "below",
          "line": {
           "color": "#371ea3",
           "dash": "dot",
           "width": 1.5
          },
          "type": "line",
          "x0": 0,
          "x1": 1,
          "xref": "x7 domain",
          "y0": 0.219543296782875,
          "y1": 0.219543296782875,
          "yref": "y7"
         },
         {
          "layer": "below",
          "line": {
           "color": "#371ea3",
           "dash": "dot",
           "width": 1.5
          },
          "type": "line",
          "x0": 0,
          "x1": 1,
          "xref": "x8 domain",
          "y0": 0.219543296782875,
          "y1": 0.219543296782875,
          "yref": "y8"
         },
         {
          "layer": "below",
          "line": {
           "color": "#371ea3",
           "dash": "dot",
           "width": 1.5
          },
          "type": "line",
          "x0": 0,
          "x1": 1,
          "xref": "x domain",
          "y0": 0.219543296782875,
          "y1": 0.219543296782875,
          "yref": "y"
         },
         {
          "layer": "below",
          "line": {
           "color": "#371ea3",
           "dash": "dot",
           "width": 1.5
          },
          "type": "line",
          "x0": 0,
          "x1": 1,
          "xref": "x2 domain",
          "y0": 0.219543296782875,
          "y1": 0.219543296782875,
          "yref": "y2"
         },
         {
          "layer": "below",
          "line": {
           "color": "#371ea3",
           "dash": "dot",
           "width": 1.5
          },
          "type": "line",
          "x0": 0,
          "x1": 1,
          "xref": "x3 domain",
          "y0": 0.219543296782875,
          "y1": 0.219543296782875,
          "yref": "y3"
         },
         {
          "layer": "below",
          "line": {
           "color": "#371ea3",
           "dash": "dot",
           "width": 1.5
          },
          "type": "line",
          "x0": 0,
          "x1": 1,
          "xref": "x4 domain",
          "y0": 0.219543296782875,
          "y1": 0.219543296782875,
          "yref": "y4"
         },
         {
          "layer": "below",
          "line": {
           "color": "#371ea3",
           "dash": "dot",
           "width": 1.5
          },
          "type": "line",
          "x0": 0,
          "x1": 1,
          "xref": "x5 domain",
          "y0": 0.219543296782875,
          "y1": 0.219543296782875,
          "yref": "y5"
         },
         {
          "layer": "below",
          "line": {
           "color": "#371ea3",
           "dash": "dot",
           "width": 1.5
          },
          "type": "line",
          "x0": 0,
          "x1": 1,
          "xref": "x6 domain",
          "y0": 0.219543296782875,
          "y1": 0.219543296782875,
          "yref": "y6"
         },
         {
          "layer": "below",
          "line": {
           "color": "#371ea3",
           "dash": "dot",
           "width": 1.5
          },
          "type": "line",
          "x0": 0,
          "x1": 1,
          "xref": "x7 domain",
          "y0": 0.219543296782875,
          "y1": 0.219543296782875,
          "yref": "y7"
         },
         {
          "layer": "below",
          "line": {
           "color": "#371ea3",
           "dash": "dot",
           "width": 1.5
          },
          "type": "line",
          "x0": 0,
          "x1": 1,
          "xref": "x8 domain",
          "y0": 0.219543296782875,
          "y1": 0.219543296782875,
          "yref": "y8"
         },
         {
          "layer": "below",
          "line": {
           "color": "#371ea3",
           "dash": "dot",
           "width": 1.5
          },
          "type": "line",
          "x0": 0,
          "x1": 1,
          "xref": "x domain",
          "y0": 0.219543296782875,
          "y1": 0.219543296782875,
          "yref": "y"
         },
         {
          "layer": "below",
          "line": {
           "color": "#371ea3",
           "dash": "dot",
           "width": 1.5
          },
          "type": "line",
          "x0": 0,
          "x1": 1,
          "xref": "x2 domain",
          "y0": 0.219543296782875,
          "y1": 0.219543296782875,
          "yref": "y2"
         },
         {
          "layer": "below",
          "line": {
           "color": "#371ea3",
           "dash": "dot",
           "width": 1.5
          },
          "type": "line",
          "x0": 0,
          "x1": 1,
          "xref": "x3 domain",
          "y0": 0.219543296782875,
          "y1": 0.219543296782875,
          "yref": "y3"
         },
         {
          "layer": "below",
          "line": {
           "color": "#371ea3",
           "dash": "dot",
           "width": 1.5
          },
          "type": "line",
          "x0": 0,
          "x1": 1,
          "xref": "x4 domain",
          "y0": 0.219543296782875,
          "y1": 0.219543296782875,
          "yref": "y4"
         },
         {
          "layer": "below",
          "line": {
           "color": "#371ea3",
           "dash": "dot",
           "width": 1.5
          },
          "type": "line",
          "x0": 0,
          "x1": 1,
          "xref": "x5 domain",
          "y0": 0.219543296782875,
          "y1": 0.219543296782875,
          "yref": "y5"
         },
         {
          "layer": "below",
          "line": {
           "color": "#371ea3",
           "dash": "dot",
           "width": 1.5
          },
          "type": "line",
          "x0": 0,
          "x1": 1,
          "xref": "x6 domain",
          "y0": 0.219543296782875,
          "y1": 0.219543296782875,
          "yref": "y6"
         },
         {
          "layer": "below",
          "line": {
           "color": "#371ea3",
           "dash": "dot",
           "width": 1.5
          },
          "type": "line",
          "x0": 0,
          "x1": 1,
          "xref": "x7 domain",
          "y0": 0.219543296782875,
          "y1": 0.219543296782875,
          "yref": "y7"
         },
         {
          "layer": "below",
          "line": {
           "color": "#371ea3",
           "dash": "dot",
           "width": 1.5
          },
          "type": "line",
          "x0": 0,
          "x1": 1,
          "xref": "x8 domain",
          "y0": 0.219543296782875,
          "y1": 0.219543296782875,
          "yref": "y8"
         },
         {
          "layer": "below",
          "line": {
           "color": "#371ea3",
           "dash": "dot",
           "width": 1.5
          },
          "type": "line",
          "x0": 0,
          "x1": 1,
          "xref": "x domain",
          "y0": 0.219543296782875,
          "y1": 0.219543296782875,
          "yref": "y"
         },
         {
          "layer": "below",
          "line": {
           "color": "#371ea3",
           "dash": "dot",
           "width": 1.5
          },
          "type": "line",
          "x0": 0,
          "x1": 1,
          "xref": "x2 domain",
          "y0": 0.219543296782875,
          "y1": 0.219543296782875,
          "yref": "y2"
         },
         {
          "layer": "below",
          "line": {
           "color": "#371ea3",
           "dash": "dot",
           "width": 1.5
          },
          "type": "line",
          "x0": 0,
          "x1": 1,
          "xref": "x3 domain",
          "y0": 0.219543296782875,
          "y1": 0.219543296782875,
          "yref": "y3"
         },
         {
          "layer": "below",
          "line": {
           "color": "#371ea3",
           "dash": "dot",
           "width": 1.5
          },
          "type": "line",
          "x0": 0,
          "x1": 1,
          "xref": "x4 domain",
          "y0": 0.219543296782875,
          "y1": 0.219543296782875,
          "yref": "y4"
         },
         {
          "layer": "below",
          "line": {
           "color": "#371ea3",
           "dash": "dot",
           "width": 1.5
          },
          "type": "line",
          "x0": 0,
          "x1": 1,
          "xref": "x5 domain",
          "y0": 0.219543296782875,
          "y1": 0.219543296782875,
          "yref": "y5"
         },
         {
          "layer": "below",
          "line": {
           "color": "#371ea3",
           "dash": "dot",
           "width": 1.5
          },
          "type": "line",
          "x0": 0,
          "x1": 1,
          "xref": "x6 domain",
          "y0": 0.219543296782875,
          "y1": 0.219543296782875,
          "yref": "y6"
         },
         {
          "layer": "below",
          "line": {
           "color": "#371ea3",
           "dash": "dot",
           "width": 1.5
          },
          "type": "line",
          "x0": 0,
          "x1": 1,
          "xref": "x7 domain",
          "y0": 0.219543296782875,
          "y1": 0.219543296782875,
          "yref": "y7"
         },
         {
          "layer": "below",
          "line": {
           "color": "#371ea3",
           "dash": "dot",
           "width": 1.5
          },
          "type": "line",
          "x0": 0,
          "x1": 1,
          "xref": "x8 domain",
          "y0": 0.219543296782875,
          "y1": 0.219543296782875,
          "yref": "y8"
         },
         {
          "layer": "below",
          "line": {
           "color": "#371ea3",
           "dash": "dot",
           "width": 1.5
          },
          "type": "line",
          "x0": 0,
          "x1": 1,
          "xref": "x domain",
          "y0": 0.219543296782875,
          "y1": 0.219543296782875,
          "yref": "y"
         },
         {
          "layer": "below",
          "line": {
           "color": "#371ea3",
           "dash": "dot",
           "width": 1.5
          },
          "type": "line",
          "x0": 0,
          "x1": 1,
          "xref": "x2 domain",
          "y0": 0.219543296782875,
          "y1": 0.219543296782875,
          "yref": "y2"
         },
         {
          "layer": "below",
          "line": {
           "color": "#371ea3",
           "dash": "dot",
           "width": 1.5
          },
          "type": "line",
          "x0": 0,
          "x1": 1,
          "xref": "x3 domain",
          "y0": 0.219543296782875,
          "y1": 0.219543296782875,
          "yref": "y3"
         },
         {
          "layer": "below",
          "line": {
           "color": "#371ea3",
           "dash": "dot",
           "width": 1.5
          },
          "type": "line",
          "x0": 0,
          "x1": 1,
          "xref": "x4 domain",
          "y0": 0.219543296782875,
          "y1": 0.219543296782875,
          "yref": "y4"
         },
         {
          "layer": "below",
          "line": {
           "color": "#371ea3",
           "dash": "dot",
           "width": 1.5
          },
          "type": "line",
          "x0": 0,
          "x1": 1,
          "xref": "x5 domain",
          "y0": 0.219543296782875,
          "y1": 0.219543296782875,
          "yref": "y5"
         },
         {
          "layer": "below",
          "line": {
           "color": "#371ea3",
           "dash": "dot",
           "width": 1.5
          },
          "type": "line",
          "x0": 0,
          "x1": 1,
          "xref": "x6 domain",
          "y0": 0.219543296782875,
          "y1": 0.219543296782875,
          "yref": "y6"
         },
         {
          "layer": "below",
          "line": {
           "color": "#371ea3",
           "dash": "dot",
           "width": 1.5
          },
          "type": "line",
          "x0": 0,
          "x1": 1,
          "xref": "x7 domain",
          "y0": 0.219543296782875,
          "y1": 0.219543296782875,
          "yref": "y7"
         },
         {
          "layer": "below",
          "line": {
           "color": "#371ea3",
           "dash": "dot",
           "width": 1.5
          },
          "type": "line",
          "x0": 0,
          "x1": 1,
          "xref": "x8 domain",
          "y0": 0.219543296782875,
          "y1": 0.219543296782875,
          "yref": "y8"
         },
         {
          "layer": "below",
          "line": {
           "color": "#371ea3",
           "dash": "dot",
           "width": 1.5
          },
          "type": "line",
          "x0": 0,
          "x1": 1,
          "xref": "x domain",
          "y0": 0.219543296782875,
          "y1": 0.219543296782875,
          "yref": "y"
         },
         {
          "layer": "below",
          "line": {
           "color": "#371ea3",
           "dash": "dot",
           "width": 1.5
          },
          "type": "line",
          "x0": 0,
          "x1": 1,
          "xref": "x2 domain",
          "y0": 0.219543296782875,
          "y1": 0.219543296782875,
          "yref": "y2"
         },
         {
          "layer": "below",
          "line": {
           "color": "#371ea3",
           "dash": "dot",
           "width": 1.5
          },
          "type": "line",
          "x0": 0,
          "x1": 1,
          "xref": "x3 domain",
          "y0": 0.219543296782875,
          "y1": 0.219543296782875,
          "yref": "y3"
         },
         {
          "layer": "below",
          "line": {
           "color": "#371ea3",
           "dash": "dot",
           "width": 1.5
          },
          "type": "line",
          "x0": 0,
          "x1": 1,
          "xref": "x4 domain",
          "y0": 0.219543296782875,
          "y1": 0.219543296782875,
          "yref": "y4"
         },
         {
          "layer": "below",
          "line": {
           "color": "#371ea3",
           "dash": "dot",
           "width": 1.5
          },
          "type": "line",
          "x0": 0,
          "x1": 1,
          "xref": "x5 domain",
          "y0": 0.219543296782875,
          "y1": 0.219543296782875,
          "yref": "y5"
         },
         {
          "layer": "below",
          "line": {
           "color": "#371ea3",
           "dash": "dot",
           "width": 1.5
          },
          "type": "line",
          "x0": 0,
          "x1": 1,
          "xref": "x6 domain",
          "y0": 0.219543296782875,
          "y1": 0.219543296782875,
          "yref": "y6"
         },
         {
          "layer": "below",
          "line": {
           "color": "#371ea3",
           "dash": "dot",
           "width": 1.5
          },
          "type": "line",
          "x0": 0,
          "x1": 1,
          "xref": "x7 domain",
          "y0": 0.219543296782875,
          "y1": 0.219543296782875,
          "yref": "y7"
         },
         {
          "layer": "below",
          "line": {
           "color": "#371ea3",
           "dash": "dot",
           "width": 1.5
          },
          "type": "line",
          "x0": 0,
          "x1": 1,
          "xref": "x8 domain",
          "y0": 0.219543296782875,
          "y1": 0.219543296782875,
          "yref": "y8"
         },
         {
          "layer": "below",
          "line": {
           "color": "#371ea3",
           "dash": "dot",
           "width": 1.5
          },
          "type": "line",
          "x0": 0,
          "x1": 1,
          "xref": "x domain",
          "y0": 0.5321228333590357,
          "y1": 0.5321228333590357,
          "yref": "y"
         },
         {
          "layer": "below",
          "line": {
           "color": "#371ea3",
           "dash": "dot",
           "width": 1.5
          },
          "type": "line",
          "x0": 0,
          "x1": 1,
          "xref": "x2 domain",
          "y0": 0.5321228333590357,
          "y1": 0.5321228333590357,
          "yref": "y2"
         },
         {
          "layer": "below",
          "line": {
           "color": "#371ea3",
           "dash": "dot",
           "width": 1.5
          },
          "type": "line",
          "x0": 0,
          "x1": 1,
          "xref": "x3 domain",
          "y0": 0.5321228333590357,
          "y1": 0.5321228333590357,
          "yref": "y3"
         },
         {
          "layer": "below",
          "line": {
           "color": "#371ea3",
           "dash": "dot",
           "width": 1.5
          },
          "type": "line",
          "x0": 0,
          "x1": 1,
          "xref": "x4 domain",
          "y0": 0.5321228333590357,
          "y1": 0.5321228333590357,
          "yref": "y4"
         },
         {
          "layer": "below",
          "line": {
           "color": "#371ea3",
           "dash": "dot",
           "width": 1.5
          },
          "type": "line",
          "x0": 0,
          "x1": 1,
          "xref": "x5 domain",
          "y0": 0.5321228333590357,
          "y1": 0.5321228333590357,
          "yref": "y5"
         },
         {
          "layer": "below",
          "line": {
           "color": "#371ea3",
           "dash": "dot",
           "width": 1.5
          },
          "type": "line",
          "x0": 0,
          "x1": 1,
          "xref": "x6 domain",
          "y0": 0.5321228333590357,
          "y1": 0.5321228333590357,
          "yref": "y6"
         },
         {
          "layer": "below",
          "line": {
           "color": "#371ea3",
           "dash": "dot",
           "width": 1.5
          },
          "type": "line",
          "x0": 0,
          "x1": 1,
          "xref": "x7 domain",
          "y0": 0.5321228333590357,
          "y1": 0.5321228333590357,
          "yref": "y7"
         },
         {
          "layer": "below",
          "line": {
           "color": "#371ea3",
           "dash": "dot",
           "width": 1.5
          },
          "type": "line",
          "x0": 0,
          "x1": 1,
          "xref": "x8 domain",
          "y0": 0.5321228333590357,
          "y1": 0.5321228333590357,
          "yref": "y8"
         },
         {
          "layer": "below",
          "line": {
           "color": "#371ea3",
           "dash": "dot",
           "width": 1.5
          },
          "type": "line",
          "x0": 0,
          "x1": 1,
          "xref": "x domain",
          "y0": 0.5321228333590357,
          "y1": 0.5321228333590357,
          "yref": "y"
         },
         {
          "layer": "below",
          "line": {
           "color": "#371ea3",
           "dash": "dot",
           "width": 1.5
          },
          "type": "line",
          "x0": 0,
          "x1": 1,
          "xref": "x2 domain",
          "y0": 0.5321228333590357,
          "y1": 0.5321228333590357,
          "yref": "y2"
         },
         {
          "layer": "below",
          "line": {
           "color": "#371ea3",
           "dash": "dot",
           "width": 1.5
          },
          "type": "line",
          "x0": 0,
          "x1": 1,
          "xref": "x3 domain",
          "y0": 0.5321228333590357,
          "y1": 0.5321228333590357,
          "yref": "y3"
         },
         {
          "layer": "below",
          "line": {
           "color": "#371ea3",
           "dash": "dot",
           "width": 1.5
          },
          "type": "line",
          "x0": 0,
          "x1": 1,
          "xref": "x4 domain",
          "y0": 0.5321228333590357,
          "y1": 0.5321228333590357,
          "yref": "y4"
         },
         {
          "layer": "below",
          "line": {
           "color": "#371ea3",
           "dash": "dot",
           "width": 1.5
          },
          "type": "line",
          "x0": 0,
          "x1": 1,
          "xref": "x5 domain",
          "y0": 0.5321228333590357,
          "y1": 0.5321228333590357,
          "yref": "y5"
         },
         {
          "layer": "below",
          "line": {
           "color": "#371ea3",
           "dash": "dot",
           "width": 1.5
          },
          "type": "line",
          "x0": 0,
          "x1": 1,
          "xref": "x6 domain",
          "y0": 0.5321228333590357,
          "y1": 0.5321228333590357,
          "yref": "y6"
         },
         {
          "layer": "below",
          "line": {
           "color": "#371ea3",
           "dash": "dot",
           "width": 1.5
          },
          "type": "line",
          "x0": 0,
          "x1": 1,
          "xref": "x7 domain",
          "y0": 0.5321228333590357,
          "y1": 0.5321228333590357,
          "yref": "y7"
         },
         {
          "layer": "below",
          "line": {
           "color": "#371ea3",
           "dash": "dot",
           "width": 1.5
          },
          "type": "line",
          "x0": 0,
          "x1": 1,
          "xref": "x8 domain",
          "y0": 0.5321228333590357,
          "y1": 0.5321228333590357,
          "yref": "y8"
         },
         {
          "layer": "below",
          "line": {
           "color": "#371ea3",
           "dash": "dot",
           "width": 1.5
          },
          "type": "line",
          "x0": 0,
          "x1": 1,
          "xref": "x domain",
          "y0": 0.5321228333590357,
          "y1": 0.5321228333590357,
          "yref": "y"
         },
         {
          "layer": "below",
          "line": {
           "color": "#371ea3",
           "dash": "dot",
           "width": 1.5
          },
          "type": "line",
          "x0": 0,
          "x1": 1,
          "xref": "x2 domain",
          "y0": 0.5321228333590357,
          "y1": 0.5321228333590357,
          "yref": "y2"
         },
         {
          "layer": "below",
          "line": {
           "color": "#371ea3",
           "dash": "dot",
           "width": 1.5
          },
          "type": "line",
          "x0": 0,
          "x1": 1,
          "xref": "x3 domain",
          "y0": 0.5321228333590357,
          "y1": 0.5321228333590357,
          "yref": "y3"
         },
         {
          "layer": "below",
          "line": {
           "color": "#371ea3",
           "dash": "dot",
           "width": 1.5
          },
          "type": "line",
          "x0": 0,
          "x1": 1,
          "xref": "x4 domain",
          "y0": 0.5321228333590357,
          "y1": 0.5321228333590357,
          "yref": "y4"
         },
         {
          "layer": "below",
          "line": {
           "color": "#371ea3",
           "dash": "dot",
           "width": 1.5
          },
          "type": "line",
          "x0": 0,
          "x1": 1,
          "xref": "x5 domain",
          "y0": 0.5321228333590357,
          "y1": 0.5321228333590357,
          "yref": "y5"
         },
         {
          "layer": "below",
          "line": {
           "color": "#371ea3",
           "dash": "dot",
           "width": 1.5
          },
          "type": "line",
          "x0": 0,
          "x1": 1,
          "xref": "x6 domain",
          "y0": 0.5321228333590357,
          "y1": 0.5321228333590357,
          "yref": "y6"
         },
         {
          "layer": "below",
          "line": {
           "color": "#371ea3",
           "dash": "dot",
           "width": 1.5
          },
          "type": "line",
          "x0": 0,
          "x1": 1,
          "xref": "x7 domain",
          "y0": 0.5321228333590357,
          "y1": 0.5321228333590357,
          "yref": "y7"
         },
         {
          "layer": "below",
          "line": {
           "color": "#371ea3",
           "dash": "dot",
           "width": 1.5
          },
          "type": "line",
          "x0": 0,
          "x1": 1,
          "xref": "x8 domain",
          "y0": 0.5321228333590357,
          "y1": 0.5321228333590357,
          "yref": "y8"
         },
         {
          "layer": "below",
          "line": {
           "color": "#371ea3",
           "dash": "dot",
           "width": 1.5
          },
          "type": "line",
          "x0": 0,
          "x1": 1,
          "xref": "x domain",
          "y0": 0.5321228333590357,
          "y1": 0.5321228333590357,
          "yref": "y"
         },
         {
          "layer": "below",
          "line": {
           "color": "#371ea3",
           "dash": "dot",
           "width": 1.5
          },
          "type": "line",
          "x0": 0,
          "x1": 1,
          "xref": "x2 domain",
          "y0": 0.5321228333590357,
          "y1": 0.5321228333590357,
          "yref": "y2"
         },
         {
          "layer": "below",
          "line": {
           "color": "#371ea3",
           "dash": "dot",
           "width": 1.5
          },
          "type": "line",
          "x0": 0,
          "x1": 1,
          "xref": "x3 domain",
          "y0": 0.5321228333590357,
          "y1": 0.5321228333590357,
          "yref": "y3"
         },
         {
          "layer": "below",
          "line": {
           "color": "#371ea3",
           "dash": "dot",
           "width": 1.5
          },
          "type": "line",
          "x0": 0,
          "x1": 1,
          "xref": "x4 domain",
          "y0": 0.5321228333590357,
          "y1": 0.5321228333590357,
          "yref": "y4"
         },
         {
          "layer": "below",
          "line": {
           "color": "#371ea3",
           "dash": "dot",
           "width": 1.5
          },
          "type": "line",
          "x0": 0,
          "x1": 1,
          "xref": "x5 domain",
          "y0": 0.5321228333590357,
          "y1": 0.5321228333590357,
          "yref": "y5"
         },
         {
          "layer": "below",
          "line": {
           "color": "#371ea3",
           "dash": "dot",
           "width": 1.5
          },
          "type": "line",
          "x0": 0,
          "x1": 1,
          "xref": "x6 domain",
          "y0": 0.5321228333590357,
          "y1": 0.5321228333590357,
          "yref": "y6"
         },
         {
          "layer": "below",
          "line": {
           "color": "#371ea3",
           "dash": "dot",
           "width": 1.5
          },
          "type": "line",
          "x0": 0,
          "x1": 1,
          "xref": "x7 domain",
          "y0": 0.5321228333590357,
          "y1": 0.5321228333590357,
          "yref": "y7"
         },
         {
          "layer": "below",
          "line": {
           "color": "#371ea3",
           "dash": "dot",
           "width": 1.5
          },
          "type": "line",
          "x0": 0,
          "x1": 1,
          "xref": "x8 domain",
          "y0": 0.5321228333590357,
          "y1": 0.5321228333590357,
          "yref": "y8"
         },
         {
          "layer": "below",
          "line": {
           "color": "#371ea3",
           "dash": "dot",
           "width": 1.5
          },
          "type": "line",
          "x0": 0,
          "x1": 1,
          "xref": "x domain",
          "y0": 0.5321228333590357,
          "y1": 0.5321228333590357,
          "yref": "y"
         },
         {
          "layer": "below",
          "line": {
           "color": "#371ea3",
           "dash": "dot",
           "width": 1.5
          },
          "type": "line",
          "x0": 0,
          "x1": 1,
          "xref": "x2 domain",
          "y0": 0.5321228333590357,
          "y1": 0.5321228333590357,
          "yref": "y2"
         },
         {
          "layer": "below",
          "line": {
           "color": "#371ea3",
           "dash": "dot",
           "width": 1.5
          },
          "type": "line",
          "x0": 0,
          "x1": 1,
          "xref": "x3 domain",
          "y0": 0.5321228333590357,
          "y1": 0.5321228333590357,
          "yref": "y3"
         },
         {
          "layer": "below",
          "line": {
           "color": "#371ea3",
           "dash": "dot",
           "width": 1.5
          },
          "type": "line",
          "x0": 0,
          "x1": 1,
          "xref": "x4 domain",
          "y0": 0.5321228333590357,
          "y1": 0.5321228333590357,
          "yref": "y4"
         },
         {
          "layer": "below",
          "line": {
           "color": "#371ea3",
           "dash": "dot",
           "width": 1.5
          },
          "type": "line",
          "x0": 0,
          "x1": 1,
          "xref": "x5 domain",
          "y0": 0.5321228333590357,
          "y1": 0.5321228333590357,
          "yref": "y5"
         },
         {
          "layer": "below",
          "line": {
           "color": "#371ea3",
           "dash": "dot",
           "width": 1.5
          },
          "type": "line",
          "x0": 0,
          "x1": 1,
          "xref": "x6 domain",
          "y0": 0.5321228333590357,
          "y1": 0.5321228333590357,
          "yref": "y6"
         },
         {
          "layer": "below",
          "line": {
           "color": "#371ea3",
           "dash": "dot",
           "width": 1.5
          },
          "type": "line",
          "x0": 0,
          "x1": 1,
          "xref": "x7 domain",
          "y0": 0.5321228333590357,
          "y1": 0.5321228333590357,
          "yref": "y7"
         },
         {
          "layer": "below",
          "line": {
           "color": "#371ea3",
           "dash": "dot",
           "width": 1.5
          },
          "type": "line",
          "x0": 0,
          "x1": 1,
          "xref": "x8 domain",
          "y0": 0.5321228333590357,
          "y1": 0.5321228333590357,
          "yref": "y8"
         },
         {
          "layer": "below",
          "line": {
           "color": "#371ea3",
           "dash": "dot",
           "width": 1.5
          },
          "type": "line",
          "x0": 0,
          "x1": 1,
          "xref": "x domain",
          "y0": 0.5321228333590357,
          "y1": 0.5321228333590357,
          "yref": "y"
         },
         {
          "layer": "below",
          "line": {
           "color": "#371ea3",
           "dash": "dot",
           "width": 1.5
          },
          "type": "line",
          "x0": 0,
          "x1": 1,
          "xref": "x2 domain",
          "y0": 0.5321228333590357,
          "y1": 0.5321228333590357,
          "yref": "y2"
         },
         {
          "layer": "below",
          "line": {
           "color": "#371ea3",
           "dash": "dot",
           "width": 1.5
          },
          "type": "line",
          "x0": 0,
          "x1": 1,
          "xref": "x3 domain",
          "y0": 0.5321228333590357,
          "y1": 0.5321228333590357,
          "yref": "y3"
         },
         {
          "layer": "below",
          "line": {
           "color": "#371ea3",
           "dash": "dot",
           "width": 1.5
          },
          "type": "line",
          "x0": 0,
          "x1": 1,
          "xref": "x4 domain",
          "y0": 0.5321228333590357,
          "y1": 0.5321228333590357,
          "yref": "y4"
         },
         {
          "layer": "below",
          "line": {
           "color": "#371ea3",
           "dash": "dot",
           "width": 1.5
          },
          "type": "line",
          "x0": 0,
          "x1": 1,
          "xref": "x5 domain",
          "y0": 0.5321228333590357,
          "y1": 0.5321228333590357,
          "yref": "y5"
         },
         {
          "layer": "below",
          "line": {
           "color": "#371ea3",
           "dash": "dot",
           "width": 1.5
          },
          "type": "line",
          "x0": 0,
          "x1": 1,
          "xref": "x6 domain",
          "y0": 0.5321228333590357,
          "y1": 0.5321228333590357,
          "yref": "y6"
         },
         {
          "layer": "below",
          "line": {
           "color": "#371ea3",
           "dash": "dot",
           "width": 1.5
          },
          "type": "line",
          "x0": 0,
          "x1": 1,
          "xref": "x7 domain",
          "y0": 0.5321228333590357,
          "y1": 0.5321228333590357,
          "yref": "y7"
         },
         {
          "layer": "below",
          "line": {
           "color": "#371ea3",
           "dash": "dot",
           "width": 1.5
          },
          "type": "line",
          "x0": 0,
          "x1": 1,
          "xref": "x8 domain",
          "y0": 0.5321228333590357,
          "y1": 0.5321228333590357,
          "yref": "y8"
         },
         {
          "layer": "below",
          "line": {
           "color": "#371ea3",
           "dash": "dot",
           "width": 1.5
          },
          "type": "line",
          "x0": 0,
          "x1": 1,
          "xref": "x domain",
          "y0": 0.5321228333590357,
          "y1": 0.5321228333590357,
          "yref": "y"
         },
         {
          "layer": "below",
          "line": {
           "color": "#371ea3",
           "dash": "dot",
           "width": 1.5
          },
          "type": "line",
          "x0": 0,
          "x1": 1,
          "xref": "x2 domain",
          "y0": 0.5321228333590357,
          "y1": 0.5321228333590357,
          "yref": "y2"
         },
         {
          "layer": "below",
          "line": {
           "color": "#371ea3",
           "dash": "dot",
           "width": 1.5
          },
          "type": "line",
          "x0": 0,
          "x1": 1,
          "xref": "x3 domain",
          "y0": 0.5321228333590357,
          "y1": 0.5321228333590357,
          "yref": "y3"
         },
         {
          "layer": "below",
          "line": {
           "color": "#371ea3",
           "dash": "dot",
           "width": 1.5
          },
          "type": "line",
          "x0": 0,
          "x1": 1,
          "xref": "x4 domain",
          "y0": 0.5321228333590357,
          "y1": 0.5321228333590357,
          "yref": "y4"
         },
         {
          "layer": "below",
          "line": {
           "color": "#371ea3",
           "dash": "dot",
           "width": 1.5
          },
          "type": "line",
          "x0": 0,
          "x1": 1,
          "xref": "x5 domain",
          "y0": 0.5321228333590357,
          "y1": 0.5321228333590357,
          "yref": "y5"
         },
         {
          "layer": "below",
          "line": {
           "color": "#371ea3",
           "dash": "dot",
           "width": 1.5
          },
          "type": "line",
          "x0": 0,
          "x1": 1,
          "xref": "x6 domain",
          "y0": 0.5321228333590357,
          "y1": 0.5321228333590357,
          "yref": "y6"
         },
         {
          "layer": "below",
          "line": {
           "color": "#371ea3",
           "dash": "dot",
           "width": 1.5
          },
          "type": "line",
          "x0": 0,
          "x1": 1,
          "xref": "x7 domain",
          "y0": 0.5321228333590357,
          "y1": 0.5321228333590357,
          "yref": "y7"
         },
         {
          "layer": "below",
          "line": {
           "color": "#371ea3",
           "dash": "dot",
           "width": 1.5
          },
          "type": "line",
          "x0": 0,
          "x1": 1,
          "xref": "x8 domain",
          "y0": 0.5321228333590357,
          "y1": 0.5321228333590357,
          "yref": "y8"
         },
         {
          "layer": "below",
          "line": {
           "color": "#371ea3",
           "dash": "dot",
           "width": 1.5
          },
          "type": "line",
          "x0": 0,
          "x1": 1,
          "xref": "x domain",
          "y0": 0.5321228333590357,
          "y1": 0.5321228333590357,
          "yref": "y"
         },
         {
          "layer": "below",
          "line": {
           "color": "#371ea3",
           "dash": "dot",
           "width": 1.5
          },
          "type": "line",
          "x0": 0,
          "x1": 1,
          "xref": "x2 domain",
          "y0": 0.5321228333590357,
          "y1": 0.5321228333590357,
          "yref": "y2"
         },
         {
          "layer": "below",
          "line": {
           "color": "#371ea3",
           "dash": "dot",
           "width": 1.5
          },
          "type": "line",
          "x0": 0,
          "x1": 1,
          "xref": "x3 domain",
          "y0": 0.5321228333590357,
          "y1": 0.5321228333590357,
          "yref": "y3"
         },
         {
          "layer": "below",
          "line": {
           "color": "#371ea3",
           "dash": "dot",
           "width": 1.5
          },
          "type": "line",
          "x0": 0,
          "x1": 1,
          "xref": "x4 domain",
          "y0": 0.5321228333590357,
          "y1": 0.5321228333590357,
          "yref": "y4"
         },
         {
          "layer": "below",
          "line": {
           "color": "#371ea3",
           "dash": "dot",
           "width": 1.5
          },
          "type": "line",
          "x0": 0,
          "x1": 1,
          "xref": "x5 domain",
          "y0": 0.5321228333590357,
          "y1": 0.5321228333590357,
          "yref": "y5"
         },
         {
          "layer": "below",
          "line": {
           "color": "#371ea3",
           "dash": "dot",
           "width": 1.5
          },
          "type": "line",
          "x0": 0,
          "x1": 1,
          "xref": "x6 domain",
          "y0": 0.5321228333590357,
          "y1": 0.5321228333590357,
          "yref": "y6"
         },
         {
          "layer": "below",
          "line": {
           "color": "#371ea3",
           "dash": "dot",
           "width": 1.5
          },
          "type": "line",
          "x0": 0,
          "x1": 1,
          "xref": "x7 domain",
          "y0": 0.5321228333590357,
          "y1": 0.5321228333590357,
          "yref": "y7"
         },
         {
          "layer": "below",
          "line": {
           "color": "#371ea3",
           "dash": "dot",
           "width": 1.5
          },
          "type": "line",
          "x0": 0,
          "x1": 1,
          "xref": "x8 domain",
          "y0": 0.5321228333590357,
          "y1": 0.5321228333590357,
          "yref": "y8"
         },
         {
          "layer": "below",
          "line": {
           "color": "#371ea3",
           "dash": "dot",
           "width": 1.5
          },
          "type": "line",
          "x0": 0,
          "x1": 1,
          "xref": "x domain",
          "y0": 0.19817496774460566,
          "y1": 0.19817496774460566,
          "yref": "y"
         },
         {
          "layer": "below",
          "line": {
           "color": "#371ea3",
           "dash": "dot",
           "width": 1.5
          },
          "type": "line",
          "x0": 0,
          "x1": 1,
          "xref": "x2 domain",
          "y0": 0.19817496774460566,
          "y1": 0.19817496774460566,
          "yref": "y2"
         },
         {
          "layer": "below",
          "line": {
           "color": "#371ea3",
           "dash": "dot",
           "width": 1.5
          },
          "type": "line",
          "x0": 0,
          "x1": 1,
          "xref": "x3 domain",
          "y0": 0.19817496774460566,
          "y1": 0.19817496774460566,
          "yref": "y3"
         },
         {
          "layer": "below",
          "line": {
           "color": "#371ea3",
           "dash": "dot",
           "width": 1.5
          },
          "type": "line",
          "x0": 0,
          "x1": 1,
          "xref": "x4 domain",
          "y0": 0.19817496774460566,
          "y1": 0.19817496774460566,
          "yref": "y4"
         },
         {
          "layer": "below",
          "line": {
           "color": "#371ea3",
           "dash": "dot",
           "width": 1.5
          },
          "type": "line",
          "x0": 0,
          "x1": 1,
          "xref": "x5 domain",
          "y0": 0.19817496774460566,
          "y1": 0.19817496774460566,
          "yref": "y5"
         },
         {
          "layer": "below",
          "line": {
           "color": "#371ea3",
           "dash": "dot",
           "width": 1.5
          },
          "type": "line",
          "x0": 0,
          "x1": 1,
          "xref": "x6 domain",
          "y0": 0.19817496774460566,
          "y1": 0.19817496774460566,
          "yref": "y6"
         },
         {
          "layer": "below",
          "line": {
           "color": "#371ea3",
           "dash": "dot",
           "width": 1.5
          },
          "type": "line",
          "x0": 0,
          "x1": 1,
          "xref": "x7 domain",
          "y0": 0.19817496774460566,
          "y1": 0.19817496774460566,
          "yref": "y7"
         },
         {
          "layer": "below",
          "line": {
           "color": "#371ea3",
           "dash": "dot",
           "width": 1.5
          },
          "type": "line",
          "x0": 0,
          "x1": 1,
          "xref": "x8 domain",
          "y0": 0.19817496774460566,
          "y1": 0.19817496774460566,
          "yref": "y8"
         },
         {
          "layer": "below",
          "line": {
           "color": "#371ea3",
           "dash": "dot",
           "width": 1.5
          },
          "type": "line",
          "x0": 0,
          "x1": 1,
          "xref": "x domain",
          "y0": 0.19817496774460566,
          "y1": 0.19817496774460566,
          "yref": "y"
         },
         {
          "layer": "below",
          "line": {
           "color": "#371ea3",
           "dash": "dot",
           "width": 1.5
          },
          "type": "line",
          "x0": 0,
          "x1": 1,
          "xref": "x2 domain",
          "y0": 0.19817496774460566,
          "y1": 0.19817496774460566,
          "yref": "y2"
         },
         {
          "layer": "below",
          "line": {
           "color": "#371ea3",
           "dash": "dot",
           "width": 1.5
          },
          "type": "line",
          "x0": 0,
          "x1": 1,
          "xref": "x3 domain",
          "y0": 0.19817496774460566,
          "y1": 0.19817496774460566,
          "yref": "y3"
         },
         {
          "layer": "below",
          "line": {
           "color": "#371ea3",
           "dash": "dot",
           "width": 1.5
          },
          "type": "line",
          "x0": 0,
          "x1": 1,
          "xref": "x4 domain",
          "y0": 0.19817496774460566,
          "y1": 0.19817496774460566,
          "yref": "y4"
         },
         {
          "layer": "below",
          "line": {
           "color": "#371ea3",
           "dash": "dot",
           "width": 1.5
          },
          "type": "line",
          "x0": 0,
          "x1": 1,
          "xref": "x5 domain",
          "y0": 0.19817496774460566,
          "y1": 0.19817496774460566,
          "yref": "y5"
         },
         {
          "layer": "below",
          "line": {
           "color": "#371ea3",
           "dash": "dot",
           "width": 1.5
          },
          "type": "line",
          "x0": 0,
          "x1": 1,
          "xref": "x6 domain",
          "y0": 0.19817496774460566,
          "y1": 0.19817496774460566,
          "yref": "y6"
         },
         {
          "layer": "below",
          "line": {
           "color": "#371ea3",
           "dash": "dot",
           "width": 1.5
          },
          "type": "line",
          "x0": 0,
          "x1": 1,
          "xref": "x7 domain",
          "y0": 0.19817496774460566,
          "y1": 0.19817496774460566,
          "yref": "y7"
         },
         {
          "layer": "below",
          "line": {
           "color": "#371ea3",
           "dash": "dot",
           "width": 1.5
          },
          "type": "line",
          "x0": 0,
          "x1": 1,
          "xref": "x8 domain",
          "y0": 0.19817496774460566,
          "y1": 0.19817496774460566,
          "yref": "y8"
         },
         {
          "layer": "below",
          "line": {
           "color": "#371ea3",
           "dash": "dot",
           "width": 1.5
          },
          "type": "line",
          "x0": 0,
          "x1": 1,
          "xref": "x domain",
          "y0": 0.19817496774460566,
          "y1": 0.19817496774460566,
          "yref": "y"
         },
         {
          "layer": "below",
          "line": {
           "color": "#371ea3",
           "dash": "dot",
           "width": 1.5
          },
          "type": "line",
          "x0": 0,
          "x1": 1,
          "xref": "x2 domain",
          "y0": 0.19817496774460566,
          "y1": 0.19817496774460566,
          "yref": "y2"
         },
         {
          "layer": "below",
          "line": {
           "color": "#371ea3",
           "dash": "dot",
           "width": 1.5
          },
          "type": "line",
          "x0": 0,
          "x1": 1,
          "xref": "x3 domain",
          "y0": 0.19817496774460566,
          "y1": 0.19817496774460566,
          "yref": "y3"
         },
         {
          "layer": "below",
          "line": {
           "color": "#371ea3",
           "dash": "dot",
           "width": 1.5
          },
          "type": "line",
          "x0": 0,
          "x1": 1,
          "xref": "x4 domain",
          "y0": 0.19817496774460566,
          "y1": 0.19817496774460566,
          "yref": "y4"
         },
         {
          "layer": "below",
          "line": {
           "color": "#371ea3",
           "dash": "dot",
           "width": 1.5
          },
          "type": "line",
          "x0": 0,
          "x1": 1,
          "xref": "x5 domain",
          "y0": 0.19817496774460566,
          "y1": 0.19817496774460566,
          "yref": "y5"
         },
         {
          "layer": "below",
          "line": {
           "color": "#371ea3",
           "dash": "dot",
           "width": 1.5
          },
          "type": "line",
          "x0": 0,
          "x1": 1,
          "xref": "x6 domain",
          "y0": 0.19817496774460566,
          "y1": 0.19817496774460566,
          "yref": "y6"
         },
         {
          "layer": "below",
          "line": {
           "color": "#371ea3",
           "dash": "dot",
           "width": 1.5
          },
          "type": "line",
          "x0": 0,
          "x1": 1,
          "xref": "x7 domain",
          "y0": 0.19817496774460566,
          "y1": 0.19817496774460566,
          "yref": "y7"
         },
         {
          "layer": "below",
          "line": {
           "color": "#371ea3",
           "dash": "dot",
           "width": 1.5
          },
          "type": "line",
          "x0": 0,
          "x1": 1,
          "xref": "x8 domain",
          "y0": 0.19817496774460566,
          "y1": 0.19817496774460566,
          "yref": "y8"
         },
         {
          "layer": "below",
          "line": {
           "color": "#371ea3",
           "dash": "dot",
           "width": 1.5
          },
          "type": "line",
          "x0": 0,
          "x1": 1,
          "xref": "x domain",
          "y0": 0.19817496774460566,
          "y1": 0.19817496774460566,
          "yref": "y"
         },
         {
          "layer": "below",
          "line": {
           "color": "#371ea3",
           "dash": "dot",
           "width": 1.5
          },
          "type": "line",
          "x0": 0,
          "x1": 1,
          "xref": "x2 domain",
          "y0": 0.19817496774460566,
          "y1": 0.19817496774460566,
          "yref": "y2"
         },
         {
          "layer": "below",
          "line": {
           "color": "#371ea3",
           "dash": "dot",
           "width": 1.5
          },
          "type": "line",
          "x0": 0,
          "x1": 1,
          "xref": "x3 domain",
          "y0": 0.19817496774460566,
          "y1": 0.19817496774460566,
          "yref": "y3"
         },
         {
          "layer": "below",
          "line": {
           "color": "#371ea3",
           "dash": "dot",
           "width": 1.5
          },
          "type": "line",
          "x0": 0,
          "x1": 1,
          "xref": "x4 domain",
          "y0": 0.19817496774460566,
          "y1": 0.19817496774460566,
          "yref": "y4"
         },
         {
          "layer": "below",
          "line": {
           "color": "#371ea3",
           "dash": "dot",
           "width": 1.5
          },
          "type": "line",
          "x0": 0,
          "x1": 1,
          "xref": "x5 domain",
          "y0": 0.19817496774460566,
          "y1": 0.19817496774460566,
          "yref": "y5"
         },
         {
          "layer": "below",
          "line": {
           "color": "#371ea3",
           "dash": "dot",
           "width": 1.5
          },
          "type": "line",
          "x0": 0,
          "x1": 1,
          "xref": "x6 domain",
          "y0": 0.19817496774460566,
          "y1": 0.19817496774460566,
          "yref": "y6"
         },
         {
          "layer": "below",
          "line": {
           "color": "#371ea3",
           "dash": "dot",
           "width": 1.5
          },
          "type": "line",
          "x0": 0,
          "x1": 1,
          "xref": "x7 domain",
          "y0": 0.19817496774460566,
          "y1": 0.19817496774460566,
          "yref": "y7"
         },
         {
          "layer": "below",
          "line": {
           "color": "#371ea3",
           "dash": "dot",
           "width": 1.5
          },
          "type": "line",
          "x0": 0,
          "x1": 1,
          "xref": "x8 domain",
          "y0": 0.19817496774460566,
          "y1": 0.19817496774460566,
          "yref": "y8"
         },
         {
          "layer": "below",
          "line": {
           "color": "#371ea3",
           "dash": "dot",
           "width": 1.5
          },
          "type": "line",
          "x0": 0,
          "x1": 1,
          "xref": "x domain",
          "y0": 0.19817496774460566,
          "y1": 0.19817496774460566,
          "yref": "y"
         },
         {
          "layer": "below",
          "line": {
           "color": "#371ea3",
           "dash": "dot",
           "width": 1.5
          },
          "type": "line",
          "x0": 0,
          "x1": 1,
          "xref": "x2 domain",
          "y0": 0.19817496774460566,
          "y1": 0.19817496774460566,
          "yref": "y2"
         },
         {
          "layer": "below",
          "line": {
           "color": "#371ea3",
           "dash": "dot",
           "width": 1.5
          },
          "type": "line",
          "x0": 0,
          "x1": 1,
          "xref": "x3 domain",
          "y0": 0.19817496774460566,
          "y1": 0.19817496774460566,
          "yref": "y3"
         },
         {
          "layer": "below",
          "line": {
           "color": "#371ea3",
           "dash": "dot",
           "width": 1.5
          },
          "type": "line",
          "x0": 0,
          "x1": 1,
          "xref": "x4 domain",
          "y0": 0.19817496774460566,
          "y1": 0.19817496774460566,
          "yref": "y4"
         },
         {
          "layer": "below",
          "line": {
           "color": "#371ea3",
           "dash": "dot",
           "width": 1.5
          },
          "type": "line",
          "x0": 0,
          "x1": 1,
          "xref": "x5 domain",
          "y0": 0.19817496774460566,
          "y1": 0.19817496774460566,
          "yref": "y5"
         },
         {
          "layer": "below",
          "line": {
           "color": "#371ea3",
           "dash": "dot",
           "width": 1.5
          },
          "type": "line",
          "x0": 0,
          "x1": 1,
          "xref": "x6 domain",
          "y0": 0.19817496774460566,
          "y1": 0.19817496774460566,
          "yref": "y6"
         },
         {
          "layer": "below",
          "line": {
           "color": "#371ea3",
           "dash": "dot",
           "width": 1.5
          },
          "type": "line",
          "x0": 0,
          "x1": 1,
          "xref": "x7 domain",
          "y0": 0.19817496774460566,
          "y1": 0.19817496774460566,
          "yref": "y7"
         },
         {
          "layer": "below",
          "line": {
           "color": "#371ea3",
           "dash": "dot",
           "width": 1.5
          },
          "type": "line",
          "x0": 0,
          "x1": 1,
          "xref": "x8 domain",
          "y0": 0.19817496774460566,
          "y1": 0.19817496774460566,
          "yref": "y8"
         },
         {
          "layer": "below",
          "line": {
           "color": "#371ea3",
           "dash": "dot",
           "width": 1.5
          },
          "type": "line",
          "x0": 0,
          "x1": 1,
          "xref": "x domain",
          "y0": 0.19817496774460566,
          "y1": 0.19817496774460566,
          "yref": "y"
         },
         {
          "layer": "below",
          "line": {
           "color": "#371ea3",
           "dash": "dot",
           "width": 1.5
          },
          "type": "line",
          "x0": 0,
          "x1": 1,
          "xref": "x2 domain",
          "y0": 0.19817496774460566,
          "y1": 0.19817496774460566,
          "yref": "y2"
         },
         {
          "layer": "below",
          "line": {
           "color": "#371ea3",
           "dash": "dot",
           "width": 1.5
          },
          "type": "line",
          "x0": 0,
          "x1": 1,
          "xref": "x3 domain",
          "y0": 0.19817496774460566,
          "y1": 0.19817496774460566,
          "yref": "y3"
         },
         {
          "layer": "below",
          "line": {
           "color": "#371ea3",
           "dash": "dot",
           "width": 1.5
          },
          "type": "line",
          "x0": 0,
          "x1": 1,
          "xref": "x4 domain",
          "y0": 0.19817496774460566,
          "y1": 0.19817496774460566,
          "yref": "y4"
         },
         {
          "layer": "below",
          "line": {
           "color": "#371ea3",
           "dash": "dot",
           "width": 1.5
          },
          "type": "line",
          "x0": 0,
          "x1": 1,
          "xref": "x5 domain",
          "y0": 0.19817496774460566,
          "y1": 0.19817496774460566,
          "yref": "y5"
         },
         {
          "layer": "below",
          "line": {
           "color": "#371ea3",
           "dash": "dot",
           "width": 1.5
          },
          "type": "line",
          "x0": 0,
          "x1": 1,
          "xref": "x6 domain",
          "y0": 0.19817496774460566,
          "y1": 0.19817496774460566,
          "yref": "y6"
         },
         {
          "layer": "below",
          "line": {
           "color": "#371ea3",
           "dash": "dot",
           "width": 1.5
          },
          "type": "line",
          "x0": 0,
          "x1": 1,
          "xref": "x7 domain",
          "y0": 0.19817496774460566,
          "y1": 0.19817496774460566,
          "yref": "y7"
         },
         {
          "layer": "below",
          "line": {
           "color": "#371ea3",
           "dash": "dot",
           "width": 1.5
          },
          "type": "line",
          "x0": 0,
          "x1": 1,
          "xref": "x8 domain",
          "y0": 0.19817496774460566,
          "y1": 0.19817496774460566,
          "yref": "y8"
         },
         {
          "layer": "below",
          "line": {
           "color": "#371ea3",
           "dash": "dot",
           "width": 1.5
          },
          "type": "line",
          "x0": 0,
          "x1": 1,
          "xref": "x domain",
          "y0": 0.19817496774460566,
          "y1": 0.19817496774460566,
          "yref": "y"
         },
         {
          "layer": "below",
          "line": {
           "color": "#371ea3",
           "dash": "dot",
           "width": 1.5
          },
          "type": "line",
          "x0": 0,
          "x1": 1,
          "xref": "x2 domain",
          "y0": 0.19817496774460566,
          "y1": 0.19817496774460566,
          "yref": "y2"
         },
         {
          "layer": "below",
          "line": {
           "color": "#371ea3",
           "dash": "dot",
           "width": 1.5
          },
          "type": "line",
          "x0": 0,
          "x1": 1,
          "xref": "x3 domain",
          "y0": 0.19817496774460566,
          "y1": 0.19817496774460566,
          "yref": "y3"
         },
         {
          "layer": "below",
          "line": {
           "color": "#371ea3",
           "dash": "dot",
           "width": 1.5
          },
          "type": "line",
          "x0": 0,
          "x1": 1,
          "xref": "x4 domain",
          "y0": 0.19817496774460566,
          "y1": 0.19817496774460566,
          "yref": "y4"
         },
         {
          "layer": "below",
          "line": {
           "color": "#371ea3",
           "dash": "dot",
           "width": 1.5
          },
          "type": "line",
          "x0": 0,
          "x1": 1,
          "xref": "x5 domain",
          "y0": 0.19817496774460566,
          "y1": 0.19817496774460566,
          "yref": "y5"
         },
         {
          "layer": "below",
          "line": {
           "color": "#371ea3",
           "dash": "dot",
           "width": 1.5
          },
          "type": "line",
          "x0": 0,
          "x1": 1,
          "xref": "x6 domain",
          "y0": 0.19817496774460566,
          "y1": 0.19817496774460566,
          "yref": "y6"
         },
         {
          "layer": "below",
          "line": {
           "color": "#371ea3",
           "dash": "dot",
           "width": 1.5
          },
          "type": "line",
          "x0": 0,
          "x1": 1,
          "xref": "x7 domain",
          "y0": 0.19817496774460566,
          "y1": 0.19817496774460566,
          "yref": "y7"
         },
         {
          "layer": "below",
          "line": {
           "color": "#371ea3",
           "dash": "dot",
           "width": 1.5
          },
          "type": "line",
          "x0": 0,
          "x1": 1,
          "xref": "x8 domain",
          "y0": 0.19817496774460566,
          "y1": 0.19817496774460566,
          "yref": "y8"
         },
         {
          "layer": "below",
          "line": {
           "color": "#371ea3",
           "dash": "dot",
           "width": 1.5
          },
          "type": "line",
          "x0": 0,
          "x1": 1,
          "xref": "x domain",
          "y0": 0.19817496774460566,
          "y1": 0.19817496774460566,
          "yref": "y"
         },
         {
          "layer": "below",
          "line": {
           "color": "#371ea3",
           "dash": "dot",
           "width": 1.5
          },
          "type": "line",
          "x0": 0,
          "x1": 1,
          "xref": "x2 domain",
          "y0": 0.19817496774460566,
          "y1": 0.19817496774460566,
          "yref": "y2"
         },
         {
          "layer": "below",
          "line": {
           "color": "#371ea3",
           "dash": "dot",
           "width": 1.5
          },
          "type": "line",
          "x0": 0,
          "x1": 1,
          "xref": "x3 domain",
          "y0": 0.19817496774460566,
          "y1": 0.19817496774460566,
          "yref": "y3"
         },
         {
          "layer": "below",
          "line": {
           "color": "#371ea3",
           "dash": "dot",
           "width": 1.5
          },
          "type": "line",
          "x0": 0,
          "x1": 1,
          "xref": "x4 domain",
          "y0": 0.19817496774460566,
          "y1": 0.19817496774460566,
          "yref": "y4"
         },
         {
          "layer": "below",
          "line": {
           "color": "#371ea3",
           "dash": "dot",
           "width": 1.5
          },
          "type": "line",
          "x0": 0,
          "x1": 1,
          "xref": "x5 domain",
          "y0": 0.19817496774460566,
          "y1": 0.19817496774460566,
          "yref": "y5"
         },
         {
          "layer": "below",
          "line": {
           "color": "#371ea3",
           "dash": "dot",
           "width": 1.5
          },
          "type": "line",
          "x0": 0,
          "x1": 1,
          "xref": "x6 domain",
          "y0": 0.19817496774460566,
          "y1": 0.19817496774460566,
          "yref": "y6"
         },
         {
          "layer": "below",
          "line": {
           "color": "#371ea3",
           "dash": "dot",
           "width": 1.5
          },
          "type": "line",
          "x0": 0,
          "x1": 1,
          "xref": "x7 domain",
          "y0": 0.19817496774460566,
          "y1": 0.19817496774460566,
          "yref": "y7"
         },
         {
          "layer": "below",
          "line": {
           "color": "#371ea3",
           "dash": "dot",
           "width": 1.5
          },
          "type": "line",
          "x0": 0,
          "x1": 1,
          "xref": "x8 domain",
          "y0": 0.19817496774460566,
          "y1": 0.19817496774460566,
          "yref": "y8"
         },
         {
          "layer": "below",
          "line": {
           "color": "#371ea3",
           "dash": "dot",
           "width": 1.5
          },
          "type": "line",
          "x0": 0,
          "x1": 1,
          "xref": "x domain",
          "y0": 0.22252298422970507,
          "y1": 0.22252298422970507,
          "yref": "y"
         },
         {
          "layer": "below",
          "line": {
           "color": "#371ea3",
           "dash": "dot",
           "width": 1.5
          },
          "type": "line",
          "x0": 0,
          "x1": 1,
          "xref": "x2 domain",
          "y0": 0.22252298422970507,
          "y1": 0.22252298422970507,
          "yref": "y2"
         },
         {
          "layer": "below",
          "line": {
           "color": "#371ea3",
           "dash": "dot",
           "width": 1.5
          },
          "type": "line",
          "x0": 0,
          "x1": 1,
          "xref": "x3 domain",
          "y0": 0.22252298422970507,
          "y1": 0.22252298422970507,
          "yref": "y3"
         },
         {
          "layer": "below",
          "line": {
           "color": "#371ea3",
           "dash": "dot",
           "width": 1.5
          },
          "type": "line",
          "x0": 0,
          "x1": 1,
          "xref": "x4 domain",
          "y0": 0.22252298422970507,
          "y1": 0.22252298422970507,
          "yref": "y4"
         },
         {
          "layer": "below",
          "line": {
           "color": "#371ea3",
           "dash": "dot",
           "width": 1.5
          },
          "type": "line",
          "x0": 0,
          "x1": 1,
          "xref": "x5 domain",
          "y0": 0.22252298422970507,
          "y1": 0.22252298422970507,
          "yref": "y5"
         },
         {
          "layer": "below",
          "line": {
           "color": "#371ea3",
           "dash": "dot",
           "width": 1.5
          },
          "type": "line",
          "x0": 0,
          "x1": 1,
          "xref": "x6 domain",
          "y0": 0.22252298422970507,
          "y1": 0.22252298422970507,
          "yref": "y6"
         },
         {
          "layer": "below",
          "line": {
           "color": "#371ea3",
           "dash": "dot",
           "width": 1.5
          },
          "type": "line",
          "x0": 0,
          "x1": 1,
          "xref": "x7 domain",
          "y0": 0.22252298422970507,
          "y1": 0.22252298422970507,
          "yref": "y7"
         },
         {
          "layer": "below",
          "line": {
           "color": "#371ea3",
           "dash": "dot",
           "width": 1.5
          },
          "type": "line",
          "x0": 0,
          "x1": 1,
          "xref": "x8 domain",
          "y0": 0.22252298422970507,
          "y1": 0.22252298422970507,
          "yref": "y8"
         },
         {
          "layer": "below",
          "line": {
           "color": "#371ea3",
           "dash": "dot",
           "width": 1.5
          },
          "type": "line",
          "x0": 0,
          "x1": 1,
          "xref": "x domain",
          "y0": 0.22252298422970507,
          "y1": 0.22252298422970507,
          "yref": "y"
         },
         {
          "layer": "below",
          "line": {
           "color": "#371ea3",
           "dash": "dot",
           "width": 1.5
          },
          "type": "line",
          "x0": 0,
          "x1": 1,
          "xref": "x2 domain",
          "y0": 0.22252298422970507,
          "y1": 0.22252298422970507,
          "yref": "y2"
         },
         {
          "layer": "below",
          "line": {
           "color": "#371ea3",
           "dash": "dot",
           "width": 1.5
          },
          "type": "line",
          "x0": 0,
          "x1": 1,
          "xref": "x3 domain",
          "y0": 0.22252298422970507,
          "y1": 0.22252298422970507,
          "yref": "y3"
         },
         {
          "layer": "below",
          "line": {
           "color": "#371ea3",
           "dash": "dot",
           "width": 1.5
          },
          "type": "line",
          "x0": 0,
          "x1": 1,
          "xref": "x4 domain",
          "y0": 0.22252298422970507,
          "y1": 0.22252298422970507,
          "yref": "y4"
         },
         {
          "layer": "below",
          "line": {
           "color": "#371ea3",
           "dash": "dot",
           "width": 1.5
          },
          "type": "line",
          "x0": 0,
          "x1": 1,
          "xref": "x5 domain",
          "y0": 0.22252298422970507,
          "y1": 0.22252298422970507,
          "yref": "y5"
         },
         {
          "layer": "below",
          "line": {
           "color": "#371ea3",
           "dash": "dot",
           "width": 1.5
          },
          "type": "line",
          "x0": 0,
          "x1": 1,
          "xref": "x6 domain",
          "y0": 0.22252298422970507,
          "y1": 0.22252298422970507,
          "yref": "y6"
         },
         {
          "layer": "below",
          "line": {
           "color": "#371ea3",
           "dash": "dot",
           "width": 1.5
          },
          "type": "line",
          "x0": 0,
          "x1": 1,
          "xref": "x7 domain",
          "y0": 0.22252298422970507,
          "y1": 0.22252298422970507,
          "yref": "y7"
         },
         {
          "layer": "below",
          "line": {
           "color": "#371ea3",
           "dash": "dot",
           "width": 1.5
          },
          "type": "line",
          "x0": 0,
          "x1": 1,
          "xref": "x8 domain",
          "y0": 0.22252298422970507,
          "y1": 0.22252298422970507,
          "yref": "y8"
         },
         {
          "layer": "below",
          "line": {
           "color": "#371ea3",
           "dash": "dot",
           "width": 1.5
          },
          "type": "line",
          "x0": 0,
          "x1": 1,
          "xref": "x domain",
          "y0": 0.22252298422970507,
          "y1": 0.22252298422970507,
          "yref": "y"
         },
         {
          "layer": "below",
          "line": {
           "color": "#371ea3",
           "dash": "dot",
           "width": 1.5
          },
          "type": "line",
          "x0": 0,
          "x1": 1,
          "xref": "x2 domain",
          "y0": 0.22252298422970507,
          "y1": 0.22252298422970507,
          "yref": "y2"
         },
         {
          "layer": "below",
          "line": {
           "color": "#371ea3",
           "dash": "dot",
           "width": 1.5
          },
          "type": "line",
          "x0": 0,
          "x1": 1,
          "xref": "x3 domain",
          "y0": 0.22252298422970507,
          "y1": 0.22252298422970507,
          "yref": "y3"
         },
         {
          "layer": "below",
          "line": {
           "color": "#371ea3",
           "dash": "dot",
           "width": 1.5
          },
          "type": "line",
          "x0": 0,
          "x1": 1,
          "xref": "x4 domain",
          "y0": 0.22252298422970507,
          "y1": 0.22252298422970507,
          "yref": "y4"
         },
         {
          "layer": "below",
          "line": {
           "color": "#371ea3",
           "dash": "dot",
           "width": 1.5
          },
          "type": "line",
          "x0": 0,
          "x1": 1,
          "xref": "x5 domain",
          "y0": 0.22252298422970507,
          "y1": 0.22252298422970507,
          "yref": "y5"
         },
         {
          "layer": "below",
          "line": {
           "color": "#371ea3",
           "dash": "dot",
           "width": 1.5
          },
          "type": "line",
          "x0": 0,
          "x1": 1,
          "xref": "x6 domain",
          "y0": 0.22252298422970507,
          "y1": 0.22252298422970507,
          "yref": "y6"
         },
         {
          "layer": "below",
          "line": {
           "color": "#371ea3",
           "dash": "dot",
           "width": 1.5
          },
          "type": "line",
          "x0": 0,
          "x1": 1,
          "xref": "x7 domain",
          "y0": 0.22252298422970507,
          "y1": 0.22252298422970507,
          "yref": "y7"
         },
         {
          "layer": "below",
          "line": {
           "color": "#371ea3",
           "dash": "dot",
           "width": 1.5
          },
          "type": "line",
          "x0": 0,
          "x1": 1,
          "xref": "x8 domain",
          "y0": 0.22252298422970507,
          "y1": 0.22252298422970507,
          "yref": "y8"
         },
         {
          "layer": "below",
          "line": {
           "color": "#371ea3",
           "dash": "dot",
           "width": 1.5
          },
          "type": "line",
          "x0": 0,
          "x1": 1,
          "xref": "x domain",
          "y0": 0.22252298422970507,
          "y1": 0.22252298422970507,
          "yref": "y"
         },
         {
          "layer": "below",
          "line": {
           "color": "#371ea3",
           "dash": "dot",
           "width": 1.5
          },
          "type": "line",
          "x0": 0,
          "x1": 1,
          "xref": "x2 domain",
          "y0": 0.22252298422970507,
          "y1": 0.22252298422970507,
          "yref": "y2"
         },
         {
          "layer": "below",
          "line": {
           "color": "#371ea3",
           "dash": "dot",
           "width": 1.5
          },
          "type": "line",
          "x0": 0,
          "x1": 1,
          "xref": "x3 domain",
          "y0": 0.22252298422970507,
          "y1": 0.22252298422970507,
          "yref": "y3"
         },
         {
          "layer": "below",
          "line": {
           "color": "#371ea3",
           "dash": "dot",
           "width": 1.5
          },
          "type": "line",
          "x0": 0,
          "x1": 1,
          "xref": "x4 domain",
          "y0": 0.22252298422970507,
          "y1": 0.22252298422970507,
          "yref": "y4"
         },
         {
          "layer": "below",
          "line": {
           "color": "#371ea3",
           "dash": "dot",
           "width": 1.5
          },
          "type": "line",
          "x0": 0,
          "x1": 1,
          "xref": "x5 domain",
          "y0": 0.22252298422970507,
          "y1": 0.22252298422970507,
          "yref": "y5"
         },
         {
          "layer": "below",
          "line": {
           "color": "#371ea3",
           "dash": "dot",
           "width": 1.5
          },
          "type": "line",
          "x0": 0,
          "x1": 1,
          "xref": "x6 domain",
          "y0": 0.22252298422970507,
          "y1": 0.22252298422970507,
          "yref": "y6"
         },
         {
          "layer": "below",
          "line": {
           "color": "#371ea3",
           "dash": "dot",
           "width": 1.5
          },
          "type": "line",
          "x0": 0,
          "x1": 1,
          "xref": "x7 domain",
          "y0": 0.22252298422970507,
          "y1": 0.22252298422970507,
          "yref": "y7"
         },
         {
          "layer": "below",
          "line": {
           "color": "#371ea3",
           "dash": "dot",
           "width": 1.5
          },
          "type": "line",
          "x0": 0,
          "x1": 1,
          "xref": "x8 domain",
          "y0": 0.22252298422970507,
          "y1": 0.22252298422970507,
          "yref": "y8"
         },
         {
          "layer": "below",
          "line": {
           "color": "#371ea3",
           "dash": "dot",
           "width": 1.5
          },
          "type": "line",
          "x0": 0,
          "x1": 1,
          "xref": "x domain",
          "y0": 0.22252298422970507,
          "y1": 0.22252298422970507,
          "yref": "y"
         },
         {
          "layer": "below",
          "line": {
           "color": "#371ea3",
           "dash": "dot",
           "width": 1.5
          },
          "type": "line",
          "x0": 0,
          "x1": 1,
          "xref": "x2 domain",
          "y0": 0.22252298422970507,
          "y1": 0.22252298422970507,
          "yref": "y2"
         },
         {
          "layer": "below",
          "line": {
           "color": "#371ea3",
           "dash": "dot",
           "width": 1.5
          },
          "type": "line",
          "x0": 0,
          "x1": 1,
          "xref": "x3 domain",
          "y0": 0.22252298422970507,
          "y1": 0.22252298422970507,
          "yref": "y3"
         },
         {
          "layer": "below",
          "line": {
           "color": "#371ea3",
           "dash": "dot",
           "width": 1.5
          },
          "type": "line",
          "x0": 0,
          "x1": 1,
          "xref": "x4 domain",
          "y0": 0.22252298422970507,
          "y1": 0.22252298422970507,
          "yref": "y4"
         },
         {
          "layer": "below",
          "line": {
           "color": "#371ea3",
           "dash": "dot",
           "width": 1.5
          },
          "type": "line",
          "x0": 0,
          "x1": 1,
          "xref": "x5 domain",
          "y0": 0.22252298422970507,
          "y1": 0.22252298422970507,
          "yref": "y5"
         },
         {
          "layer": "below",
          "line": {
           "color": "#371ea3",
           "dash": "dot",
           "width": 1.5
          },
          "type": "line",
          "x0": 0,
          "x1": 1,
          "xref": "x6 domain",
          "y0": 0.22252298422970507,
          "y1": 0.22252298422970507,
          "yref": "y6"
         },
         {
          "layer": "below",
          "line": {
           "color": "#371ea3",
           "dash": "dot",
           "width": 1.5
          },
          "type": "line",
          "x0": 0,
          "x1": 1,
          "xref": "x7 domain",
          "y0": 0.22252298422970507,
          "y1": 0.22252298422970507,
          "yref": "y7"
         },
         {
          "layer": "below",
          "line": {
           "color": "#371ea3",
           "dash": "dot",
           "width": 1.5
          },
          "type": "line",
          "x0": 0,
          "x1": 1,
          "xref": "x8 domain",
          "y0": 0.22252298422970507,
          "y1": 0.22252298422970507,
          "yref": "y8"
         },
         {
          "layer": "below",
          "line": {
           "color": "#371ea3",
           "dash": "dot",
           "width": 1.5
          },
          "type": "line",
          "x0": 0,
          "x1": 1,
          "xref": "x domain",
          "y0": 0.22252298422970507,
          "y1": 0.22252298422970507,
          "yref": "y"
         },
         {
          "layer": "below",
          "line": {
           "color": "#371ea3",
           "dash": "dot",
           "width": 1.5
          },
          "type": "line",
          "x0": 0,
          "x1": 1,
          "xref": "x2 domain",
          "y0": 0.22252298422970507,
          "y1": 0.22252298422970507,
          "yref": "y2"
         },
         {
          "layer": "below",
          "line": {
           "color": "#371ea3",
           "dash": "dot",
           "width": 1.5
          },
          "type": "line",
          "x0": 0,
          "x1": 1,
          "xref": "x3 domain",
          "y0": 0.22252298422970507,
          "y1": 0.22252298422970507,
          "yref": "y3"
         },
         {
          "layer": "below",
          "line": {
           "color": "#371ea3",
           "dash": "dot",
           "width": 1.5
          },
          "type": "line",
          "x0": 0,
          "x1": 1,
          "xref": "x4 domain",
          "y0": 0.22252298422970507,
          "y1": 0.22252298422970507,
          "yref": "y4"
         },
         {
          "layer": "below",
          "line": {
           "color": "#371ea3",
           "dash": "dot",
           "width": 1.5
          },
          "type": "line",
          "x0": 0,
          "x1": 1,
          "xref": "x5 domain",
          "y0": 0.22252298422970507,
          "y1": 0.22252298422970507,
          "yref": "y5"
         },
         {
          "layer": "below",
          "line": {
           "color": "#371ea3",
           "dash": "dot",
           "width": 1.5
          },
          "type": "line",
          "x0": 0,
          "x1": 1,
          "xref": "x6 domain",
          "y0": 0.22252298422970507,
          "y1": 0.22252298422970507,
          "yref": "y6"
         },
         {
          "layer": "below",
          "line": {
           "color": "#371ea3",
           "dash": "dot",
           "width": 1.5
          },
          "type": "line",
          "x0": 0,
          "x1": 1,
          "xref": "x7 domain",
          "y0": 0.22252298422970507,
          "y1": 0.22252298422970507,
          "yref": "y7"
         },
         {
          "layer": "below",
          "line": {
           "color": "#371ea3",
           "dash": "dot",
           "width": 1.5
          },
          "type": "line",
          "x0": 0,
          "x1": 1,
          "xref": "x8 domain",
          "y0": 0.22252298422970507,
          "y1": 0.22252298422970507,
          "yref": "y8"
         },
         {
          "layer": "below",
          "line": {
           "color": "#371ea3",
           "dash": "dot",
           "width": 1.5
          },
          "type": "line",
          "x0": 0,
          "x1": 1,
          "xref": "x domain",
          "y0": 0.22252298422970507,
          "y1": 0.22252298422970507,
          "yref": "y"
         },
         {
          "layer": "below",
          "line": {
           "color": "#371ea3",
           "dash": "dot",
           "width": 1.5
          },
          "type": "line",
          "x0": 0,
          "x1": 1,
          "xref": "x2 domain",
          "y0": 0.22252298422970507,
          "y1": 0.22252298422970507,
          "yref": "y2"
         },
         {
          "layer": "below",
          "line": {
           "color": "#371ea3",
           "dash": "dot",
           "width": 1.5
          },
          "type": "line",
          "x0": 0,
          "x1": 1,
          "xref": "x3 domain",
          "y0": 0.22252298422970507,
          "y1": 0.22252298422970507,
          "yref": "y3"
         },
         {
          "layer": "below",
          "line": {
           "color": "#371ea3",
           "dash": "dot",
           "width": 1.5
          },
          "type": "line",
          "x0": 0,
          "x1": 1,
          "xref": "x4 domain",
          "y0": 0.22252298422970507,
          "y1": 0.22252298422970507,
          "yref": "y4"
         },
         {
          "layer": "below",
          "line": {
           "color": "#371ea3",
           "dash": "dot",
           "width": 1.5
          },
          "type": "line",
          "x0": 0,
          "x1": 1,
          "xref": "x5 domain",
          "y0": 0.22252298422970507,
          "y1": 0.22252298422970507,
          "yref": "y5"
         },
         {
          "layer": "below",
          "line": {
           "color": "#371ea3",
           "dash": "dot",
           "width": 1.5
          },
          "type": "line",
          "x0": 0,
          "x1": 1,
          "xref": "x6 domain",
          "y0": 0.22252298422970507,
          "y1": 0.22252298422970507,
          "yref": "y6"
         },
         {
          "layer": "below",
          "line": {
           "color": "#371ea3",
           "dash": "dot",
           "width": 1.5
          },
          "type": "line",
          "x0": 0,
          "x1": 1,
          "xref": "x7 domain",
          "y0": 0.22252298422970507,
          "y1": 0.22252298422970507,
          "yref": "y7"
         },
         {
          "layer": "below",
          "line": {
           "color": "#371ea3",
           "dash": "dot",
           "width": 1.5
          },
          "type": "line",
          "x0": 0,
          "x1": 1,
          "xref": "x8 domain",
          "y0": 0.22252298422970507,
          "y1": 0.22252298422970507,
          "yref": "y8"
         },
         {
          "layer": "below",
          "line": {
           "color": "#371ea3",
           "dash": "dot",
           "width": 1.5
          },
          "type": "line",
          "x0": 0,
          "x1": 1,
          "xref": "x domain",
          "y0": 0.22252298422970507,
          "y1": 0.22252298422970507,
          "yref": "y"
         },
         {
          "layer": "below",
          "line": {
           "color": "#371ea3",
           "dash": "dot",
           "width": 1.5
          },
          "type": "line",
          "x0": 0,
          "x1": 1,
          "xref": "x2 domain",
          "y0": 0.22252298422970507,
          "y1": 0.22252298422970507,
          "yref": "y2"
         },
         {
          "layer": "below",
          "line": {
           "color": "#371ea3",
           "dash": "dot",
           "width": 1.5
          },
          "type": "line",
          "x0": 0,
          "x1": 1,
          "xref": "x3 domain",
          "y0": 0.22252298422970507,
          "y1": 0.22252298422970507,
          "yref": "y3"
         },
         {
          "layer": "below",
          "line": {
           "color": "#371ea3",
           "dash": "dot",
           "width": 1.5
          },
          "type": "line",
          "x0": 0,
          "x1": 1,
          "xref": "x4 domain",
          "y0": 0.22252298422970507,
          "y1": 0.22252298422970507,
          "yref": "y4"
         },
         {
          "layer": "below",
          "line": {
           "color": "#371ea3",
           "dash": "dot",
           "width": 1.5
          },
          "type": "line",
          "x0": 0,
          "x1": 1,
          "xref": "x5 domain",
          "y0": 0.22252298422970507,
          "y1": 0.22252298422970507,
          "yref": "y5"
         },
         {
          "layer": "below",
          "line": {
           "color": "#371ea3",
           "dash": "dot",
           "width": 1.5
          },
          "type": "line",
          "x0": 0,
          "x1": 1,
          "xref": "x6 domain",
          "y0": 0.22252298422970507,
          "y1": 0.22252298422970507,
          "yref": "y6"
         },
         {
          "layer": "below",
          "line": {
           "color": "#371ea3",
           "dash": "dot",
           "width": 1.5
          },
          "type": "line",
          "x0": 0,
          "x1": 1,
          "xref": "x7 domain",
          "y0": 0.22252298422970507,
          "y1": 0.22252298422970507,
          "yref": "y7"
         },
         {
          "layer": "below",
          "line": {
           "color": "#371ea3",
           "dash": "dot",
           "width": 1.5
          },
          "type": "line",
          "x0": 0,
          "x1": 1,
          "xref": "x8 domain",
          "y0": 0.22252298422970507,
          "y1": 0.22252298422970507,
          "yref": "y8"
         },
         {
          "layer": "below",
          "line": {
           "color": "#371ea3",
           "dash": "dot",
           "width": 1.5
          },
          "type": "line",
          "x0": 0,
          "x1": 1,
          "xref": "x domain",
          "y0": 0.3379152902924296,
          "y1": 0.3379152902924296,
          "yref": "y"
         },
         {
          "layer": "below",
          "line": {
           "color": "#371ea3",
           "dash": "dot",
           "width": 1.5
          },
          "type": "line",
          "x0": 0,
          "x1": 1,
          "xref": "x2 domain",
          "y0": 0.3379152902924296,
          "y1": 0.3379152902924296,
          "yref": "y2"
         },
         {
          "layer": "below",
          "line": {
           "color": "#371ea3",
           "dash": "dot",
           "width": 1.5
          },
          "type": "line",
          "x0": 0,
          "x1": 1,
          "xref": "x3 domain",
          "y0": 0.3379152902924296,
          "y1": 0.3379152902924296,
          "yref": "y3"
         },
         {
          "layer": "below",
          "line": {
           "color": "#371ea3",
           "dash": "dot",
           "width": 1.5
          },
          "type": "line",
          "x0": 0,
          "x1": 1,
          "xref": "x4 domain",
          "y0": 0.3379152902924296,
          "y1": 0.3379152902924296,
          "yref": "y4"
         },
         {
          "layer": "below",
          "line": {
           "color": "#371ea3",
           "dash": "dot",
           "width": 1.5
          },
          "type": "line",
          "x0": 0,
          "x1": 1,
          "xref": "x5 domain",
          "y0": 0.3379152902924296,
          "y1": 0.3379152902924296,
          "yref": "y5"
         },
         {
          "layer": "below",
          "line": {
           "color": "#371ea3",
           "dash": "dot",
           "width": 1.5
          },
          "type": "line",
          "x0": 0,
          "x1": 1,
          "xref": "x6 domain",
          "y0": 0.3379152902924296,
          "y1": 0.3379152902924296,
          "yref": "y6"
         },
         {
          "layer": "below",
          "line": {
           "color": "#371ea3",
           "dash": "dot",
           "width": 1.5
          },
          "type": "line",
          "x0": 0,
          "x1": 1,
          "xref": "x7 domain",
          "y0": 0.3379152902924296,
          "y1": 0.3379152902924296,
          "yref": "y7"
         },
         {
          "layer": "below",
          "line": {
           "color": "#371ea3",
           "dash": "dot",
           "width": 1.5
          },
          "type": "line",
          "x0": 0,
          "x1": 1,
          "xref": "x8 domain",
          "y0": 0.3379152902924296,
          "y1": 0.3379152902924296,
          "yref": "y8"
         },
         {
          "layer": "below",
          "line": {
           "color": "#371ea3",
           "dash": "dot",
           "width": 1.5
          },
          "type": "line",
          "x0": 0,
          "x1": 1,
          "xref": "x domain",
          "y0": 0.3379152902924296,
          "y1": 0.3379152902924296,
          "yref": "y"
         },
         {
          "layer": "below",
          "line": {
           "color": "#371ea3",
           "dash": "dot",
           "width": 1.5
          },
          "type": "line",
          "x0": 0,
          "x1": 1,
          "xref": "x2 domain",
          "y0": 0.3379152902924296,
          "y1": 0.3379152902924296,
          "yref": "y2"
         },
         {
          "layer": "below",
          "line": {
           "color": "#371ea3",
           "dash": "dot",
           "width": 1.5
          },
          "type": "line",
          "x0": 0,
          "x1": 1,
          "xref": "x3 domain",
          "y0": 0.3379152902924296,
          "y1": 0.3379152902924296,
          "yref": "y3"
         },
         {
          "layer": "below",
          "line": {
           "color": "#371ea3",
           "dash": "dot",
           "width": 1.5
          },
          "type": "line",
          "x0": 0,
          "x1": 1,
          "xref": "x4 domain",
          "y0": 0.3379152902924296,
          "y1": 0.3379152902924296,
          "yref": "y4"
         },
         {
          "layer": "below",
          "line": {
           "color": "#371ea3",
           "dash": "dot",
           "width": 1.5
          },
          "type": "line",
          "x0": 0,
          "x1": 1,
          "xref": "x5 domain",
          "y0": 0.3379152902924296,
          "y1": 0.3379152902924296,
          "yref": "y5"
         },
         {
          "layer": "below",
          "line": {
           "color": "#371ea3",
           "dash": "dot",
           "width": 1.5
          },
          "type": "line",
          "x0": 0,
          "x1": 1,
          "xref": "x6 domain",
          "y0": 0.3379152902924296,
          "y1": 0.3379152902924296,
          "yref": "y6"
         },
         {
          "layer": "below",
          "line": {
           "color": "#371ea3",
           "dash": "dot",
           "width": 1.5
          },
          "type": "line",
          "x0": 0,
          "x1": 1,
          "xref": "x7 domain",
          "y0": 0.3379152902924296,
          "y1": 0.3379152902924296,
          "yref": "y7"
         },
         {
          "layer": "below",
          "line": {
           "color": "#371ea3",
           "dash": "dot",
           "width": 1.5
          },
          "type": "line",
          "x0": 0,
          "x1": 1,
          "xref": "x8 domain",
          "y0": 0.3379152902924296,
          "y1": 0.3379152902924296,
          "yref": "y8"
         },
         {
          "layer": "below",
          "line": {
           "color": "#371ea3",
           "dash": "dot",
           "width": 1.5
          },
          "type": "line",
          "x0": 0,
          "x1": 1,
          "xref": "x domain",
          "y0": 0.3379152902924296,
          "y1": 0.3379152902924296,
          "yref": "y"
         },
         {
          "layer": "below",
          "line": {
           "color": "#371ea3",
           "dash": "dot",
           "width": 1.5
          },
          "type": "line",
          "x0": 0,
          "x1": 1,
          "xref": "x2 domain",
          "y0": 0.3379152902924296,
          "y1": 0.3379152902924296,
          "yref": "y2"
         },
         {
          "layer": "below",
          "line": {
           "color": "#371ea3",
           "dash": "dot",
           "width": 1.5
          },
          "type": "line",
          "x0": 0,
          "x1": 1,
          "xref": "x3 domain",
          "y0": 0.3379152902924296,
          "y1": 0.3379152902924296,
          "yref": "y3"
         },
         {
          "layer": "below",
          "line": {
           "color": "#371ea3",
           "dash": "dot",
           "width": 1.5
          },
          "type": "line",
          "x0": 0,
          "x1": 1,
          "xref": "x4 domain",
          "y0": 0.3379152902924296,
          "y1": 0.3379152902924296,
          "yref": "y4"
         },
         {
          "layer": "below",
          "line": {
           "color": "#371ea3",
           "dash": "dot",
           "width": 1.5
          },
          "type": "line",
          "x0": 0,
          "x1": 1,
          "xref": "x5 domain",
          "y0": 0.3379152902924296,
          "y1": 0.3379152902924296,
          "yref": "y5"
         },
         {
          "layer": "below",
          "line": {
           "color": "#371ea3",
           "dash": "dot",
           "width": 1.5
          },
          "type": "line",
          "x0": 0,
          "x1": 1,
          "xref": "x6 domain",
          "y0": 0.3379152902924296,
          "y1": 0.3379152902924296,
          "yref": "y6"
         },
         {
          "layer": "below",
          "line": {
           "color": "#371ea3",
           "dash": "dot",
           "width": 1.5
          },
          "type": "line",
          "x0": 0,
          "x1": 1,
          "xref": "x7 domain",
          "y0": 0.3379152902924296,
          "y1": 0.3379152902924296,
          "yref": "y7"
         },
         {
          "layer": "below",
          "line": {
           "color": "#371ea3",
           "dash": "dot",
           "width": 1.5
          },
          "type": "line",
          "x0": 0,
          "x1": 1,
          "xref": "x8 domain",
          "y0": 0.3379152902924296,
          "y1": 0.3379152902924296,
          "yref": "y8"
         },
         {
          "layer": "below",
          "line": {
           "color": "#371ea3",
           "dash": "dot",
           "width": 1.5
          },
          "type": "line",
          "x0": 0,
          "x1": 1,
          "xref": "x domain",
          "y0": 0.3379152902924296,
          "y1": 0.3379152902924296,
          "yref": "y"
         },
         {
          "layer": "below",
          "line": {
           "color": "#371ea3",
           "dash": "dot",
           "width": 1.5
          },
          "type": "line",
          "x0": 0,
          "x1": 1,
          "xref": "x2 domain",
          "y0": 0.3379152902924296,
          "y1": 0.3379152902924296,
          "yref": "y2"
         },
         {
          "layer": "below",
          "line": {
           "color": "#371ea3",
           "dash": "dot",
           "width": 1.5
          },
          "type": "line",
          "x0": 0,
          "x1": 1,
          "xref": "x3 domain",
          "y0": 0.3379152902924296,
          "y1": 0.3379152902924296,
          "yref": "y3"
         },
         {
          "layer": "below",
          "line": {
           "color": "#371ea3",
           "dash": "dot",
           "width": 1.5
          },
          "type": "line",
          "x0": 0,
          "x1": 1,
          "xref": "x4 domain",
          "y0": 0.3379152902924296,
          "y1": 0.3379152902924296,
          "yref": "y4"
         },
         {
          "layer": "below",
          "line": {
           "color": "#371ea3",
           "dash": "dot",
           "width": 1.5
          },
          "type": "line",
          "x0": 0,
          "x1": 1,
          "xref": "x5 domain",
          "y0": 0.3379152902924296,
          "y1": 0.3379152902924296,
          "yref": "y5"
         },
         {
          "layer": "below",
          "line": {
           "color": "#371ea3",
           "dash": "dot",
           "width": 1.5
          },
          "type": "line",
          "x0": 0,
          "x1": 1,
          "xref": "x6 domain",
          "y0": 0.3379152902924296,
          "y1": 0.3379152902924296,
          "yref": "y6"
         },
         {
          "layer": "below",
          "line": {
           "color": "#371ea3",
           "dash": "dot",
           "width": 1.5
          },
          "type": "line",
          "x0": 0,
          "x1": 1,
          "xref": "x7 domain",
          "y0": 0.3379152902924296,
          "y1": 0.3379152902924296,
          "yref": "y7"
         },
         {
          "layer": "below",
          "line": {
           "color": "#371ea3",
           "dash": "dot",
           "width": 1.5
          },
          "type": "line",
          "x0": 0,
          "x1": 1,
          "xref": "x8 domain",
          "y0": 0.3379152902924296,
          "y1": 0.3379152902924296,
          "yref": "y8"
         },
         {
          "layer": "below",
          "line": {
           "color": "#371ea3",
           "dash": "dot",
           "width": 1.5
          },
          "type": "line",
          "x0": 0,
          "x1": 1,
          "xref": "x domain",
          "y0": 0.3379152902924296,
          "y1": 0.3379152902924296,
          "yref": "y"
         },
         {
          "layer": "below",
          "line": {
           "color": "#371ea3",
           "dash": "dot",
           "width": 1.5
          },
          "type": "line",
          "x0": 0,
          "x1": 1,
          "xref": "x2 domain",
          "y0": 0.3379152902924296,
          "y1": 0.3379152902924296,
          "yref": "y2"
         },
         {
          "layer": "below",
          "line": {
           "color": "#371ea3",
           "dash": "dot",
           "width": 1.5
          },
          "type": "line",
          "x0": 0,
          "x1": 1,
          "xref": "x3 domain",
          "y0": 0.3379152902924296,
          "y1": 0.3379152902924296,
          "yref": "y3"
         },
         {
          "layer": "below",
          "line": {
           "color": "#371ea3",
           "dash": "dot",
           "width": 1.5
          },
          "type": "line",
          "x0": 0,
          "x1": 1,
          "xref": "x4 domain",
          "y0": 0.3379152902924296,
          "y1": 0.3379152902924296,
          "yref": "y4"
         },
         {
          "layer": "below",
          "line": {
           "color": "#371ea3",
           "dash": "dot",
           "width": 1.5
          },
          "type": "line",
          "x0": 0,
          "x1": 1,
          "xref": "x5 domain",
          "y0": 0.3379152902924296,
          "y1": 0.3379152902924296,
          "yref": "y5"
         },
         {
          "layer": "below",
          "line": {
           "color": "#371ea3",
           "dash": "dot",
           "width": 1.5
          },
          "type": "line",
          "x0": 0,
          "x1": 1,
          "xref": "x6 domain",
          "y0": 0.3379152902924296,
          "y1": 0.3379152902924296,
          "yref": "y6"
         },
         {
          "layer": "below",
          "line": {
           "color": "#371ea3",
           "dash": "dot",
           "width": 1.5
          },
          "type": "line",
          "x0": 0,
          "x1": 1,
          "xref": "x7 domain",
          "y0": 0.3379152902924296,
          "y1": 0.3379152902924296,
          "yref": "y7"
         },
         {
          "layer": "below",
          "line": {
           "color": "#371ea3",
           "dash": "dot",
           "width": 1.5
          },
          "type": "line",
          "x0": 0,
          "x1": 1,
          "xref": "x8 domain",
          "y0": 0.3379152902924296,
          "y1": 0.3379152902924296,
          "yref": "y8"
         },
         {
          "layer": "below",
          "line": {
           "color": "#371ea3",
           "dash": "dot",
           "width": 1.5
          },
          "type": "line",
          "x0": 0,
          "x1": 1,
          "xref": "x domain",
          "y0": 0.3379152902924296,
          "y1": 0.3379152902924296,
          "yref": "y"
         },
         {
          "layer": "below",
          "line": {
           "color": "#371ea3",
           "dash": "dot",
           "width": 1.5
          },
          "type": "line",
          "x0": 0,
          "x1": 1,
          "xref": "x2 domain",
          "y0": 0.3379152902924296,
          "y1": 0.3379152902924296,
          "yref": "y2"
         },
         {
          "layer": "below",
          "line": {
           "color": "#371ea3",
           "dash": "dot",
           "width": 1.5
          },
          "type": "line",
          "x0": 0,
          "x1": 1,
          "xref": "x3 domain",
          "y0": 0.3379152902924296,
          "y1": 0.3379152902924296,
          "yref": "y3"
         },
         {
          "layer": "below",
          "line": {
           "color": "#371ea3",
           "dash": "dot",
           "width": 1.5
          },
          "type": "line",
          "x0": 0,
          "x1": 1,
          "xref": "x4 domain",
          "y0": 0.3379152902924296,
          "y1": 0.3379152902924296,
          "yref": "y4"
         },
         {
          "layer": "below",
          "line": {
           "color": "#371ea3",
           "dash": "dot",
           "width": 1.5
          },
          "type": "line",
          "x0": 0,
          "x1": 1,
          "xref": "x5 domain",
          "y0": 0.3379152902924296,
          "y1": 0.3379152902924296,
          "yref": "y5"
         },
         {
          "layer": "below",
          "line": {
           "color": "#371ea3",
           "dash": "dot",
           "width": 1.5
          },
          "type": "line",
          "x0": 0,
          "x1": 1,
          "xref": "x6 domain",
          "y0": 0.3379152902924296,
          "y1": 0.3379152902924296,
          "yref": "y6"
         },
         {
          "layer": "below",
          "line": {
           "color": "#371ea3",
           "dash": "dot",
           "width": 1.5
          },
          "type": "line",
          "x0": 0,
          "x1": 1,
          "xref": "x7 domain",
          "y0": 0.3379152902924296,
          "y1": 0.3379152902924296,
          "yref": "y7"
         },
         {
          "layer": "below",
          "line": {
           "color": "#371ea3",
           "dash": "dot",
           "width": 1.5
          },
          "type": "line",
          "x0": 0,
          "x1": 1,
          "xref": "x8 domain",
          "y0": 0.3379152902924296,
          "y1": 0.3379152902924296,
          "yref": "y8"
         },
         {
          "layer": "below",
          "line": {
           "color": "#371ea3",
           "dash": "dot",
           "width": 1.5
          },
          "type": "line",
          "x0": 0,
          "x1": 1,
          "xref": "x domain",
          "y0": 0.3379152902924296,
          "y1": 0.3379152902924296,
          "yref": "y"
         },
         {
          "layer": "below",
          "line": {
           "color": "#371ea3",
           "dash": "dot",
           "width": 1.5
          },
          "type": "line",
          "x0": 0,
          "x1": 1,
          "xref": "x2 domain",
          "y0": 0.3379152902924296,
          "y1": 0.3379152902924296,
          "yref": "y2"
         },
         {
          "layer": "below",
          "line": {
           "color": "#371ea3",
           "dash": "dot",
           "width": 1.5
          },
          "type": "line",
          "x0": 0,
          "x1": 1,
          "xref": "x3 domain",
          "y0": 0.3379152902924296,
          "y1": 0.3379152902924296,
          "yref": "y3"
         },
         {
          "layer": "below",
          "line": {
           "color": "#371ea3",
           "dash": "dot",
           "width": 1.5
          },
          "type": "line",
          "x0": 0,
          "x1": 1,
          "xref": "x4 domain",
          "y0": 0.3379152902924296,
          "y1": 0.3379152902924296,
          "yref": "y4"
         },
         {
          "layer": "below",
          "line": {
           "color": "#371ea3",
           "dash": "dot",
           "width": 1.5
          },
          "type": "line",
          "x0": 0,
          "x1": 1,
          "xref": "x5 domain",
          "y0": 0.3379152902924296,
          "y1": 0.3379152902924296,
          "yref": "y5"
         },
         {
          "layer": "below",
          "line": {
           "color": "#371ea3",
           "dash": "dot",
           "width": 1.5
          },
          "type": "line",
          "x0": 0,
          "x1": 1,
          "xref": "x6 domain",
          "y0": 0.3379152902924296,
          "y1": 0.3379152902924296,
          "yref": "y6"
         },
         {
          "layer": "below",
          "line": {
           "color": "#371ea3",
           "dash": "dot",
           "width": 1.5
          },
          "type": "line",
          "x0": 0,
          "x1": 1,
          "xref": "x7 domain",
          "y0": 0.3379152902924296,
          "y1": 0.3379152902924296,
          "yref": "y7"
         },
         {
          "layer": "below",
          "line": {
           "color": "#371ea3",
           "dash": "dot",
           "width": 1.5
          },
          "type": "line",
          "x0": 0,
          "x1": 1,
          "xref": "x8 domain",
          "y0": 0.3379152902924296,
          "y1": 0.3379152902924296,
          "yref": "y8"
         },
         {
          "layer": "below",
          "line": {
           "color": "#371ea3",
           "dash": "dot",
           "width": 1.5
          },
          "type": "line",
          "x0": 0,
          "x1": 1,
          "xref": "x domain",
          "y0": 0.3379152902924296,
          "y1": 0.3379152902924296,
          "yref": "y"
         },
         {
          "layer": "below",
          "line": {
           "color": "#371ea3",
           "dash": "dot",
           "width": 1.5
          },
          "type": "line",
          "x0": 0,
          "x1": 1,
          "xref": "x2 domain",
          "y0": 0.3379152902924296,
          "y1": 0.3379152902924296,
          "yref": "y2"
         },
         {
          "layer": "below",
          "line": {
           "color": "#371ea3",
           "dash": "dot",
           "width": 1.5
          },
          "type": "line",
          "x0": 0,
          "x1": 1,
          "xref": "x3 domain",
          "y0": 0.3379152902924296,
          "y1": 0.3379152902924296,
          "yref": "y3"
         },
         {
          "layer": "below",
          "line": {
           "color": "#371ea3",
           "dash": "dot",
           "width": 1.5
          },
          "type": "line",
          "x0": 0,
          "x1": 1,
          "xref": "x4 domain",
          "y0": 0.3379152902924296,
          "y1": 0.3379152902924296,
          "yref": "y4"
         },
         {
          "layer": "below",
          "line": {
           "color": "#371ea3",
           "dash": "dot",
           "width": 1.5
          },
          "type": "line",
          "x0": 0,
          "x1": 1,
          "xref": "x5 domain",
          "y0": 0.3379152902924296,
          "y1": 0.3379152902924296,
          "yref": "y5"
         },
         {
          "layer": "below",
          "line": {
           "color": "#371ea3",
           "dash": "dot",
           "width": 1.5
          },
          "type": "line",
          "x0": 0,
          "x1": 1,
          "xref": "x6 domain",
          "y0": 0.3379152902924296,
          "y1": 0.3379152902924296,
          "yref": "y6"
         },
         {
          "layer": "below",
          "line": {
           "color": "#371ea3",
           "dash": "dot",
           "width": 1.5
          },
          "type": "line",
          "x0": 0,
          "x1": 1,
          "xref": "x7 domain",
          "y0": 0.3379152902924296,
          "y1": 0.3379152902924296,
          "yref": "y7"
         },
         {
          "layer": "below",
          "line": {
           "color": "#371ea3",
           "dash": "dot",
           "width": 1.5
          },
          "type": "line",
          "x0": 0,
          "x1": 1,
          "xref": "x8 domain",
          "y0": 0.3379152902924296,
          "y1": 0.3379152902924296,
          "yref": "y8"
         }
        ],
        "template": {
         "data": {
          "scatter": [
           {
            "type": "scatter"
           }
          ]
         }
        },
        "title": {
         "font": {
          "size": 16
         },
         "text": "Aggregated Profiles",
         "x": 0.15
        },
        "xaxis": {
         "anchor": "y",
         "automargin": true,
         "domain": [
          0,
          0.475
         ],
         "fixedrange": true,
         "gridwidth": 2,
         "showticklabels": true,
         "tickcolor": "white",
         "ticklen": 10,
         "ticks": "outside",
         "title": {
          "text": ""
         },
         "type": "category"
        },
        "xaxis2": {
         "anchor": "y2",
         "automargin": true,
         "domain": [
          0.525,
          1
         ],
         "fixedrange": true,
         "gridwidth": 2,
         "showticklabels": true,
         "tickcolor": "white",
         "ticklen": 10,
         "ticks": "outside",
         "title": {
          "text": ""
         },
         "type": "category"
        },
        "xaxis3": {
         "anchor": "y3",
         "automargin": true,
         "domain": [
          0,
          0.475
         ],
         "fixedrange": true,
         "gridwidth": 2,
         "showticklabels": true,
         "tickcolor": "white",
         "ticklen": 10,
         "ticks": "outside",
         "title": {
          "text": ""
         },
         "type": "category"
        },
        "xaxis4": {
         "anchor": "y4",
         "automargin": true,
         "domain": [
          0.525,
          1
         ],
         "fixedrange": true,
         "gridwidth": 2,
         "showticklabels": true,
         "tickcolor": "white",
         "ticklen": 10,
         "ticks": "outside",
         "title": {
          "text": ""
         },
         "type": "category"
        },
        "xaxis5": {
         "anchor": "y5",
         "automargin": true,
         "domain": [
          0,
          0.475
         ],
         "fixedrange": true,
         "gridwidth": 2,
         "showticklabels": true,
         "tickcolor": "white",
         "ticklen": 10,
         "ticks": "outside",
         "title": {
          "text": ""
         },
         "type": "category"
        },
        "xaxis6": {
         "anchor": "y6",
         "automargin": true,
         "domain": [
          0.525,
          1
         ],
         "fixedrange": true,
         "gridwidth": 2,
         "showticklabels": true,
         "tickcolor": "white",
         "ticklen": 10,
         "ticks": "outside",
         "title": {
          "text": ""
         },
         "type": "category"
        },
        "xaxis7": {
         "anchor": "y7",
         "automargin": true,
         "domain": [
          0,
          0.475
         ],
         "fixedrange": true,
         "gridwidth": 2,
         "showticklabels": true,
         "tickcolor": "white",
         "ticklen": 10,
         "ticks": "outside",
         "title": {
          "text": ""
         },
         "type": "category"
        },
        "xaxis8": {
         "anchor": "y8",
         "automargin": true,
         "domain": [
          0.525,
          1
         ],
         "fixedrange": true,
         "gridwidth": 2,
         "showticklabels": true,
         "tickcolor": "white",
         "ticklen": 10,
         "ticks": "outside",
         "title": {
          "text": ""
         },
         "type": "category"
        },
        "yaxis": {
         "anchor": "x",
         "automargin": true,
         "domain": [
          0,
          0.19375
         ],
         "fixedrange": true,
         "gridwidth": 2,
         "range": [
          -0.09833333333333333,
          1.0816666666666666
         ],
         "tickcolor": "white",
         "ticklen": 3,
         "ticks": "outside",
         "title": {
          "text": ""
         },
         "type": "linear",
         "zeroline": false
        },
        "yaxis2": {
         "anchor": "x2",
         "automargin": true,
         "domain": [
          0,
          0.19375
         ],
         "fixedrange": true,
         "gridwidth": 2,
         "matches": "y",
         "showticklabels": false,
         "tickcolor": "white",
         "ticklen": 3,
         "ticks": "outside",
         "title": {
          "text": ""
         },
         "type": "linear",
         "zeroline": false
        },
        "yaxis3": {
         "anchor": "x3",
         "automargin": true,
         "domain": [
          0.26875,
          0.4625
         ],
         "fixedrange": true,
         "gridwidth": 2,
         "matches": "y",
         "range": [
          -0.09833333333333333,
          1.0816666666666666
         ],
         "tickcolor": "white",
         "ticklen": 3,
         "ticks": "outside",
         "title": {
          "text": ""
         },
         "type": "linear",
         "zeroline": false
        },
        "yaxis4": {
         "anchor": "x4",
         "automargin": true,
         "domain": [
          0.26875,
          0.4625
         ],
         "fixedrange": true,
         "gridwidth": 2,
         "matches": "y",
         "showticklabels": false,
         "tickcolor": "white",
         "ticklen": 3,
         "ticks": "outside",
         "title": {
          "text": ""
         },
         "type": "linear",
         "zeroline": false
        },
        "yaxis5": {
         "anchor": "x5",
         "automargin": true,
         "domain": [
          0.5375,
          0.73125
         ],
         "fixedrange": true,
         "gridwidth": 2,
         "matches": "y",
         "range": [
          -0.09833333333333333,
          1.0816666666666666
         ],
         "tickcolor": "white",
         "ticklen": 3,
         "ticks": "outside",
         "title": {
          "text": ""
         },
         "type": "linear",
         "zeroline": false
        },
        "yaxis6": {
         "anchor": "x6",
         "automargin": true,
         "domain": [
          0.5375,
          0.73125
         ],
         "fixedrange": true,
         "gridwidth": 2,
         "matches": "y",
         "showticklabels": false,
         "tickcolor": "white",
         "ticklen": 3,
         "ticks": "outside",
         "title": {
          "text": ""
         },
         "type": "linear",
         "zeroline": false
        },
        "yaxis7": {
         "anchor": "x7",
         "automargin": true,
         "domain": [
          0.80625,
          1
         ],
         "fixedrange": true,
         "gridwidth": 2,
         "matches": "y",
         "range": [
          -0.09833333333333333,
          1.0816666666666666
         ],
         "tickcolor": "white",
         "ticklen": 3,
         "ticks": "outside",
         "title": {
          "text": ""
         },
         "type": "linear",
         "zeroline": false
        },
        "yaxis8": {
         "anchor": "x8",
         "automargin": true,
         "domain": [
          0.80625,
          1
         ],
         "fixedrange": true,
         "gridwidth": 2,
         "matches": "y",
         "showticklabels": false,
         "tickcolor": "white",
         "ticklen": 3,
         "ticks": "outside",
         "title": {
          "text": ""
         },
         "type": "linear",
         "zeroline": false
        }
       }
      }
     },
     "metadata": {},
     "output_type": "display_data"
    }
   ],
   "source": [
    "pd_cart_cat.plot([pd_ebm_cat, pd_gnb_cat, pd_lr_cat, pd_lr_l2_cat, pd_dl_cat], variables=cat_feat)"
   ]
  },
  {
   "cell_type": "markdown",
   "metadata": {},
   "source": [
    "### Plot Aggregated Profiles for Continous"
   ]
  },
  {
   "cell_type": "code",
   "execution_count": 48,
   "metadata": {},
   "outputs": [
    {
     "data": {
      "application/vnd.plotly.v1+json": {
       "config": {
        "displaylogo": false,
        "modeBarButtonsToRemove": [
         "sendDataToCloud",
         "lasso2d",
         "autoScale2d",
         "select2d",
         "zoom2d",
         "pan2d",
         "zoomIn2d",
         "zoomOut2d",
         "resetScale2d",
         "toggleSpikelines",
         "hoverCompareCartesian",
         "hoverClosestCartesian"
        ],
        "plotlyServerURL": "https://plot.ly",
        "staticPlot": false,
        "toImageButtonOptions": {
         "height": null,
         "width": null
        }
       },
       "data": [
        {
         "customdata": [
          [
           0.21,
           "CART",
           "Age"
          ],
          [
           0.21,
           "CART",
           "Age"
          ],
          [
           0.21,
           "CART",
           "Age"
          ],
          [
           0.21,
           "CART",
           "Age"
          ],
          [
           0.21,
           "CART",
           "Age"
          ],
          [
           0.21,
           "CART",
           "Age"
          ],
          [
           0.21,
           "CART",
           "Age"
          ],
          [
           0.21,
           "CART",
           "Age"
          ],
          [
           0.21,
           "CART",
           "Age"
          ],
          [
           0.21,
           "CART",
           "Age"
          ],
          [
           0.21,
           "CART",
           "Age"
          ],
          [
           0.21,
           "CART",
           "Age"
          ],
          [
           0.21,
           "CART",
           "Age"
          ],
          [
           0.21,
           "CART",
           "Age"
          ],
          [
           0.21,
           "CART",
           "Age"
          ],
          [
           0.21,
           "CART",
           "Age"
          ],
          [
           0.21,
           "CART",
           "Age"
          ],
          [
           0.21,
           "CART",
           "Age"
          ],
          [
           0.21,
           "CART",
           "Age"
          ],
          [
           0.21,
           "CART",
           "Age"
          ],
          [
           0.21,
           "CART",
           "Age"
          ],
          [
           0.21,
           "CART",
           "Age"
          ],
          [
           0.21,
           "CART",
           "Age"
          ],
          [
           0.21,
           "CART",
           "Age"
          ],
          [
           0.21,
           "CART",
           "Age"
          ],
          [
           0.21,
           "CART",
           "Age"
          ],
          [
           0.21,
           "CART",
           "Age"
          ],
          [
           0.21,
           "CART",
           "Age"
          ],
          [
           0.21,
           "CART",
           "Age"
          ],
          [
           0.21,
           "CART",
           "Age"
          ],
          [
           0.21,
           "CART",
           "Age"
          ],
          [
           0.21,
           "CART",
           "Age"
          ],
          [
           0.21,
           "CART",
           "Age"
          ],
          [
           0.21,
           "CART",
           "Age"
          ],
          [
           0.21,
           "CART",
           "Age"
          ],
          [
           0.21,
           "CART",
           "Age"
          ],
          [
           0.21,
           "CART",
           "Age"
          ],
          [
           0.21,
           "CART",
           "Age"
          ],
          [
           0.21,
           "CART",
           "Age"
          ],
          [
           0.21,
           "CART",
           "Age"
          ],
          [
           0.21,
           "CART",
           "Age"
          ],
          [
           0.21,
           "CART",
           "Age"
          ],
          [
           0.21,
           "CART",
           "Age"
          ],
          [
           0.21,
           "CART",
           "Age"
          ],
          [
           0.21,
           "CART",
           "Age"
          ],
          [
           0.21,
           "CART",
           "Age"
          ],
          [
           0.21,
           "CART",
           "Age"
          ],
          [
           0.21,
           "CART",
           "Age"
          ],
          [
           0.21,
           "CART",
           "Age"
          ],
          [
           0.21,
           "CART",
           "Age"
          ],
          [
           0.21,
           "CART",
           "Age"
          ],
          [
           0.21,
           "CART",
           "Age"
          ],
          [
           0.21,
           "CART",
           "Age"
          ],
          [
           0.21,
           "CART",
           "Age"
          ],
          [
           0.21,
           "CART",
           "Age"
          ],
          [
           0.21,
           "CART",
           "Age"
          ],
          [
           0.21,
           "CART",
           "Age"
          ],
          [
           0.21,
           "CART",
           "Age"
          ],
          [
           0.21,
           "CART",
           "Age"
          ],
          [
           0.21,
           "CART",
           "Age"
          ],
          [
           0.21,
           "CART",
           "Age"
          ],
          [
           0.21,
           "CART",
           "Age"
          ],
          [
           0.21,
           "CART",
           "Age"
          ],
          [
           0.21,
           "CART",
           "Age"
          ],
          [
           0.21,
           "CART",
           "Age"
          ],
          [
           0.21,
           "CART",
           "Age"
          ],
          [
           0.21,
           "CART",
           "Age"
          ],
          [
           0.21,
           "CART",
           "Age"
          ],
          [
           0.21,
           "CART",
           "Age"
          ],
          [
           0.21,
           "CART",
           "Age"
          ],
          [
           0.21,
           "CART",
           "Age"
          ],
          [
           0.21,
           "CART",
           "Age"
          ],
          [
           0.21,
           "CART",
           "Age"
          ],
          [
           0.21,
           "CART",
           "Age"
          ],
          [
           0.21,
           "CART",
           "Age"
          ],
          [
           0.21,
           "CART",
           "Age"
          ],
          [
           0.21,
           "CART",
           "Age"
          ],
          [
           0.21,
           "CART",
           "Age"
          ],
          [
           0.21,
           "CART",
           "Age"
          ],
          [
           0.21,
           "CART",
           "Age"
          ],
          [
           0.21,
           "CART",
           "Age"
          ],
          [
           0.21,
           "CART",
           "Age"
          ],
          [
           0.21,
           "CART",
           "Age"
          ],
          [
           0.21,
           "CART",
           "Age"
          ],
          [
           0.21,
           "CART",
           "Age"
          ],
          [
           0.21,
           "CART",
           "Age"
          ],
          [
           0.21,
           "CART",
           "Age"
          ],
          [
           0.21,
           "CART",
           "Age"
          ],
          [
           0.21,
           "CART",
           "Age"
          ],
          [
           0.21,
           "CART",
           "Age"
          ],
          [
           0.21,
           "CART",
           "Age"
          ],
          [
           0.21,
           "CART",
           "Age"
          ],
          [
           0.21,
           "CART",
           "Age"
          ],
          [
           0.21,
           "CART",
           "Age"
          ],
          [
           0.21,
           "CART",
           "Age"
          ],
          [
           0.21,
           "CART",
           "Age"
          ],
          [
           0.21,
           "CART",
           "Age"
          ],
          [
           0.21,
           "CART",
           "Age"
          ],
          [
           0.21,
           "CART",
           "Age"
          ],
          [
           0.21,
           "CART",
           "Age"
          ],
          [
           0.21,
           "CART",
           "Age"
          ]
         ],
         "hovertemplate": "<b>%{hovertext}</b><br><br>prediction=%{y:.3f}<br>mean_prediction=%{customdata[0]:.3f}<extra></extra>",
         "hovertext": [
          "CART",
          "CART",
          "CART",
          "CART",
          "CART",
          "CART",
          "CART",
          "CART",
          "CART",
          "CART",
          "CART",
          "CART",
          "CART",
          "CART",
          "CART",
          "CART",
          "CART",
          "CART",
          "CART",
          "CART",
          "CART",
          "CART",
          "CART",
          "CART",
          "CART",
          "CART",
          "CART",
          "CART",
          "CART",
          "CART",
          "CART",
          "CART",
          "CART",
          "CART",
          "CART",
          "CART",
          "CART",
          "CART",
          "CART",
          "CART",
          "CART",
          "CART",
          "CART",
          "CART",
          "CART",
          "CART",
          "CART",
          "CART",
          "CART",
          "CART",
          "CART",
          "CART",
          "CART",
          "CART",
          "CART",
          "CART",
          "CART",
          "CART",
          "CART",
          "CART",
          "CART",
          "CART",
          "CART",
          "CART",
          "CART",
          "CART",
          "CART",
          "CART",
          "CART",
          "CART",
          "CART",
          "CART",
          "CART",
          "CART",
          "CART",
          "CART",
          "CART",
          "CART",
          "CART",
          "CART",
          "CART",
          "CART",
          "CART",
          "CART",
          "CART",
          "CART",
          "CART",
          "CART",
          "CART",
          "CART",
          "CART",
          "CART",
          "CART",
          "CART",
          "CART",
          "CART",
          "CART",
          "CART",
          "CART",
          "CART",
          "CART"
         ],
         "legendgroup": "CART",
         "line": {
          "color": "#8bdcbe",
          "dash": "solid",
          "width": 2
         },
         "marker": {
          "symbol": "circle"
         },
         "mode": "lines",
         "name": "CART",
         "opacity": 1,
         "orientation": "v",
         "showlegend": true,
         "type": "scatter",
         "x": [
          17,
          17.73,
          18.46,
          19.19,
          19.92,
          20.65,
          21.38,
          22.11,
          22.84,
          23.57,
          24.3,
          25.03,
          25.759999999999998,
          26.490000000000002,
          27.22,
          27.95,
          28.68,
          29.41,
          30.14,
          30.869999999999997,
          31.6,
          32.33,
          33.06,
          33.79,
          34.519999999999996,
          35.25,
          35.980000000000004,
          36.71,
          37.44,
          38.17,
          38.9,
          39.629999999999995,
          40.36,
          41.09,
          41.82,
          42.55,
          43.28,
          44.01,
          44.739999999999995,
          45.47,
          46.2,
          46.93,
          47.66,
          48.39,
          49.12,
          49.85,
          50.58,
          51.31,
          52.04,
          52.769999999999996,
          53.5,
          54.23,
          54.96,
          55.69,
          56.42,
          57.15,
          57.879999999999995,
          58.61,
          59.339999999999996,
          60.07,
          60.8,
          61.53,
          62.26,
          62.99,
          63.72,
          64.44999999999999,
          65.18,
          65.91,
          66.64,
          67.37,
          68.1,
          68.83,
          69.56,
          70.28999999999999,
          71.02,
          71.75,
          72.47999999999999,
          73.21000000000001,
          73.94,
          74.67,
          75.4,
          76.13,
          76.86,
          77.59,
          78.32,
          79.05,
          79.78,
          80.50999999999999,
          81.24,
          81.97,
          82.7,
          83.42999999999999,
          84.16,
          84.89,
          85.62,
          86.35,
          87.08,
          87.81,
          88.53999999999999,
          89.27,
          90
         ],
         "xaxis": "x5",
         "y": [
          0.15,
          0.15,
          0.15,
          0.15,
          0.15,
          0.15,
          0.15,
          0.15,
          0.15,
          0.15,
          0.15,
          0.15,
          0.15666666666666668,
          0.15666666666666668,
          0.15333333333333332,
          0.15333333333333332,
          0.16333333333333333,
          0.16333333333333333,
          0.16333333333333333,
          0.17,
          0.17333333333333334,
          0.17666666666666667,
          0.18333333333333332,
          0.18333333333333332,
          0.18333333333333332,
          0.18333333333333332,
          0.19,
          0.2,
          0.2,
          0.2,
          0.20333333333333334,
          0.21,
          0.21,
          0.21333333333333335,
          0.21333333333333335,
          0.21,
          0.21,
          0.21,
          0.22,
          0.22,
          0.22666666666666666,
          0.23,
          0.23666666666666666,
          0.23666666666666666,
          0.23,
          0.23666666666666666,
          0.23666666666666666,
          0.23666666666666666,
          0.23666666666666666,
          0.23666666666666666,
          0.23666666666666666,
          0.23333333333333334,
          0.23666666666666666,
          0.24,
          0.24,
          0.24,
          0.25,
          0.25333333333333335,
          0.25333333333333335,
          0.25333333333333335,
          0.25333333333333335,
          0.26,
          0.26,
          0.2633333333333333,
          0.26666666666666666,
          0.2733333333333333,
          0.2733333333333333,
          0.2733333333333333,
          0.26666666666666666,
          0.26,
          0.26,
          0.26,
          0.25666666666666665,
          0.2633333333333333,
          0.26666666666666666,
          0.26666666666666666,
          0.26666666666666666,
          0.26666666666666666,
          0.26666666666666666,
          0.26666666666666666,
          0.26666666666666666,
          0.26666666666666666,
          0.26666666666666666,
          0.26666666666666666,
          0.26666666666666666,
          0.26666666666666666,
          0.30666666666666664,
          0.30666666666666664,
          0.30666666666666664,
          0.30666666666666664,
          0.30666666666666664,
          0.30666666666666664,
          0.30666666666666664,
          0.30666666666666664,
          0.30666666666666664,
          0.30666666666666664,
          0.30666666666666664,
          0.30666666666666664,
          0.30666666666666664,
          0.30666666666666664,
          0.30666666666666664
         ],
         "yaxis": "y5"
        },
        {
         "customdata": [
          [
           0.21,
           "CART",
           "fnlwgt"
          ],
          [
           0.21,
           "CART",
           "fnlwgt"
          ],
          [
           0.21,
           "CART",
           "fnlwgt"
          ],
          [
           0.21,
           "CART",
           "fnlwgt"
          ],
          [
           0.21,
           "CART",
           "fnlwgt"
          ],
          [
           0.21,
           "CART",
           "fnlwgt"
          ],
          [
           0.21,
           "CART",
           "fnlwgt"
          ],
          [
           0.21,
           "CART",
           "fnlwgt"
          ],
          [
           0.21,
           "CART",
           "fnlwgt"
          ],
          [
           0.21,
           "CART",
           "fnlwgt"
          ],
          [
           0.21,
           "CART",
           "fnlwgt"
          ],
          [
           0.21,
           "CART",
           "fnlwgt"
          ],
          [
           0.21,
           "CART",
           "fnlwgt"
          ],
          [
           0.21,
           "CART",
           "fnlwgt"
          ],
          [
           0.21,
           "CART",
           "fnlwgt"
          ],
          [
           0.21,
           "CART",
           "fnlwgt"
          ],
          [
           0.21,
           "CART",
           "fnlwgt"
          ],
          [
           0.21,
           "CART",
           "fnlwgt"
          ],
          [
           0.21,
           "CART",
           "fnlwgt"
          ],
          [
           0.21,
           "CART",
           "fnlwgt"
          ],
          [
           0.21,
           "CART",
           "fnlwgt"
          ],
          [
           0.21,
           "CART",
           "fnlwgt"
          ],
          [
           0.21,
           "CART",
           "fnlwgt"
          ],
          [
           0.21,
           "CART",
           "fnlwgt"
          ],
          [
           0.21,
           "CART",
           "fnlwgt"
          ],
          [
           0.21,
           "CART",
           "fnlwgt"
          ],
          [
           0.21,
           "CART",
           "fnlwgt"
          ],
          [
           0.21,
           "CART",
           "fnlwgt"
          ],
          [
           0.21,
           "CART",
           "fnlwgt"
          ],
          [
           0.21,
           "CART",
           "fnlwgt"
          ],
          [
           0.21,
           "CART",
           "fnlwgt"
          ],
          [
           0.21,
           "CART",
           "fnlwgt"
          ],
          [
           0.21,
           "CART",
           "fnlwgt"
          ],
          [
           0.21,
           "CART",
           "fnlwgt"
          ],
          [
           0.21,
           "CART",
           "fnlwgt"
          ],
          [
           0.21,
           "CART",
           "fnlwgt"
          ],
          [
           0.21,
           "CART",
           "fnlwgt"
          ],
          [
           0.21,
           "CART",
           "fnlwgt"
          ],
          [
           0.21,
           "CART",
           "fnlwgt"
          ],
          [
           0.21,
           "CART",
           "fnlwgt"
          ],
          [
           0.21,
           "CART",
           "fnlwgt"
          ],
          [
           0.21,
           "CART",
           "fnlwgt"
          ],
          [
           0.21,
           "CART",
           "fnlwgt"
          ],
          [
           0.21,
           "CART",
           "fnlwgt"
          ],
          [
           0.21,
           "CART",
           "fnlwgt"
          ],
          [
           0.21,
           "CART",
           "fnlwgt"
          ],
          [
           0.21,
           "CART",
           "fnlwgt"
          ],
          [
           0.21,
           "CART",
           "fnlwgt"
          ],
          [
           0.21,
           "CART",
           "fnlwgt"
          ],
          [
           0.21,
           "CART",
           "fnlwgt"
          ],
          [
           0.21,
           "CART",
           "fnlwgt"
          ],
          [
           0.21,
           "CART",
           "fnlwgt"
          ],
          [
           0.21,
           "CART",
           "fnlwgt"
          ],
          [
           0.21,
           "CART",
           "fnlwgt"
          ],
          [
           0.21,
           "CART",
           "fnlwgt"
          ],
          [
           0.21,
           "CART",
           "fnlwgt"
          ],
          [
           0.21,
           "CART",
           "fnlwgt"
          ],
          [
           0.21,
           "CART",
           "fnlwgt"
          ],
          [
           0.21,
           "CART",
           "fnlwgt"
          ],
          [
           0.21,
           "CART",
           "fnlwgt"
          ],
          [
           0.21,
           "CART",
           "fnlwgt"
          ],
          [
           0.21,
           "CART",
           "fnlwgt"
          ],
          [
           0.21,
           "CART",
           "fnlwgt"
          ],
          [
           0.21,
           "CART",
           "fnlwgt"
          ],
          [
           0.21,
           "CART",
           "fnlwgt"
          ],
          [
           0.21,
           "CART",
           "fnlwgt"
          ],
          [
           0.21,
           "CART",
           "fnlwgt"
          ],
          [
           0.21,
           "CART",
           "fnlwgt"
          ],
          [
           0.21,
           "CART",
           "fnlwgt"
          ],
          [
           0.21,
           "CART",
           "fnlwgt"
          ],
          [
           0.21,
           "CART",
           "fnlwgt"
          ],
          [
           0.21,
           "CART",
           "fnlwgt"
          ],
          [
           0.21,
           "CART",
           "fnlwgt"
          ],
          [
           0.21,
           "CART",
           "fnlwgt"
          ],
          [
           0.21,
           "CART",
           "fnlwgt"
          ],
          [
           0.21,
           "CART",
           "fnlwgt"
          ],
          [
           0.21,
           "CART",
           "fnlwgt"
          ],
          [
           0.21,
           "CART",
           "fnlwgt"
          ],
          [
           0.21,
           "CART",
           "fnlwgt"
          ],
          [
           0.21,
           "CART",
           "fnlwgt"
          ],
          [
           0.21,
           "CART",
           "fnlwgt"
          ],
          [
           0.21,
           "CART",
           "fnlwgt"
          ],
          [
           0.21,
           "CART",
           "fnlwgt"
          ],
          [
           0.21,
           "CART",
           "fnlwgt"
          ],
          [
           0.21,
           "CART",
           "fnlwgt"
          ],
          [
           0.21,
           "CART",
           "fnlwgt"
          ],
          [
           0.21,
           "CART",
           "fnlwgt"
          ],
          [
           0.21,
           "CART",
           "fnlwgt"
          ],
          [
           0.21,
           "CART",
           "fnlwgt"
          ],
          [
           0.21,
           "CART",
           "fnlwgt"
          ],
          [
           0.21,
           "CART",
           "fnlwgt"
          ],
          [
           0.21,
           "CART",
           "fnlwgt"
          ],
          [
           0.21,
           "CART",
           "fnlwgt"
          ],
          [
           0.21,
           "CART",
           "fnlwgt"
          ],
          [
           0.21,
           "CART",
           "fnlwgt"
          ],
          [
           0.21,
           "CART",
           "fnlwgt"
          ],
          [
           0.21,
           "CART",
           "fnlwgt"
          ],
          [
           0.21,
           "CART",
           "fnlwgt"
          ],
          [
           0.21,
           "CART",
           "fnlwgt"
          ],
          [
           0.21,
           "CART",
           "fnlwgt"
          ],
          [
           0.21,
           "CART",
           "fnlwgt"
          ]
         ],
         "hovertemplate": "<b>%{hovertext}</b><br><br>prediction=%{y:.3f}<br>mean_prediction=%{customdata[0]:.3f}<extra></extra>",
         "hovertext": [
          "CART",
          "CART",
          "CART",
          "CART",
          "CART",
          "CART",
          "CART",
          "CART",
          "CART",
          "CART",
          "CART",
          "CART",
          "CART",
          "CART",
          "CART",
          "CART",
          "CART",
          "CART",
          "CART",
          "CART",
          "CART",
          "CART",
          "CART",
          "CART",
          "CART",
          "CART",
          "CART",
          "CART",
          "CART",
          "CART",
          "CART",
          "CART",
          "CART",
          "CART",
          "CART",
          "CART",
          "CART",
          "CART",
          "CART",
          "CART",
          "CART",
          "CART",
          "CART",
          "CART",
          "CART",
          "CART",
          "CART",
          "CART",
          "CART",
          "CART",
          "CART",
          "CART",
          "CART",
          "CART",
          "CART",
          "CART",
          "CART",
          "CART",
          "CART",
          "CART",
          "CART",
          "CART",
          "CART",
          "CART",
          "CART",
          "CART",
          "CART",
          "CART",
          "CART",
          "CART",
          "CART",
          "CART",
          "CART",
          "CART",
          "CART",
          "CART",
          "CART",
          "CART",
          "CART",
          "CART",
          "CART",
          "CART",
          "CART",
          "CART",
          "CART",
          "CART",
          "CART",
          "CART",
          "CART",
          "CART",
          "CART",
          "CART",
          "CART",
          "CART",
          "CART",
          "CART",
          "CART",
          "CART",
          "CART",
          "CART",
          "CART"
         ],
         "legendgroup": "CART",
         "line": {
          "color": "#8bdcbe",
          "dash": "solid",
          "width": 2
         },
         "marker": {
          "symbol": "circle"
         },
         "mode": "lines",
         "name": "CART",
         "opacity": 1,
         "orientation": "v",
         "showlegend": false,
         "type": "scatter",
         "x": [
          12285,
          27009.2,
          41733.4,
          56457.600000000006,
          71181.8,
          85906,
          100630.20000000001,
          115354.40000000001,
          130078.6,
          144802.80000000002,
          159527,
          174251.2,
          188975.40000000002,
          203699.6,
          218423.80000000002,
          233148,
          247872.2,
          262596.4,
          277320.60000000003,
          292044.8,
          306769,
          321493.2,
          336217.4,
          350941.60000000003,
          365665.80000000005,
          380390,
          395114.2,
          409838.4,
          424562.60000000003,
          439286.80000000005,
          454011,
          468735.2,
          483459.4,
          498183.60000000003,
          512907.80000000005,
          527632,
          542356.2000000001,
          557080.4,
          571804.6,
          586528.8,
          601253,
          615977.2000000001,
          630701.4,
          645425.6,
          660149.8,
          674874,
          689598.2000000001,
          704322.4,
          719046.6000000001,
          733770.8,
          748495,
          763219.2000000001,
          777943.4,
          792667.6000000001,
          807391.8,
          822116,
          836840.2000000001,
          851564.4,
          866288.6000000001,
          881012.8,
          895737,
          910461.2000000001,
          925185.4,
          939909.6000000001,
          954633.8,
          969358,
          984082.2000000001,
          998806.4,
          1013530.6000000001,
          1028254.8,
          1042979,
          1057703.2000000002,
          1072427.4000000001,
          1087151.6,
          1101875.8,
          1116600,
          1131324.2,
          1146048.4000000001,
          1160772.6,
          1175496.8,
          1190221,
          1204945.2,
          1219669.4000000001,
          1234393.6,
          1249117.8,
          1263842,
          1278566.2,
          1293290.4000000001,
          1308014.6,
          1322738.8,
          1337463,
          1352187.2,
          1366911.4000000001,
          1381635.6,
          1396359.8,
          1411084,
          1425808.2000000002,
          1440532.4000000001,
          1455256.6,
          1469980.8,
          1484705
         ],
         "xaxis": "x6",
         "y": [
          0.20666666666666667,
          0.18666666666666668,
          0.20666666666666667,
          0.20333333333333334,
          0.20666666666666667,
          0.21,
          0.21666666666666667,
          0.21666666666666667,
          0.21666666666666667,
          0.21,
          0.21,
          0.20666666666666667,
          0.21333333333333335,
          0.21333333333333335,
          0.22,
          0.22,
          0.22,
          0.22,
          0.22,
          0.22333333333333333,
          0.22333333333333333,
          0.22333333333333333,
          0.22,
          0.22,
          0.22333333333333333,
          0.22,
          0.22,
          0.22,
          0.22,
          0.22,
          0.22,
          0.22,
          0.22,
          0.22,
          0.22,
          0.22,
          0.22,
          0.22,
          0.22,
          0.22,
          0.22,
          0.22,
          0.22,
          0.22,
          0.22,
          0.22,
          0.22,
          0.22,
          0.22,
          0.22,
          0.22,
          0.22,
          0.22,
          0.22,
          0.22,
          0.22,
          0.22,
          0.22,
          0.22,
          0.22,
          0.22,
          0.22,
          0.22,
          0.22,
          0.22,
          0.22,
          0.22,
          0.22,
          0.22,
          0.22,
          0.22,
          0.22,
          0.22,
          0.22,
          0.22,
          0.22,
          0.22,
          0.22,
          0.22,
          0.22,
          0.22,
          0.22,
          0.22,
          0.22,
          0.22,
          0.22,
          0.22,
          0.22,
          0.22,
          0.22,
          0.22,
          0.22,
          0.22,
          0.22,
          0.22,
          0.22,
          0.22,
          0.22,
          0.22,
          0.22,
          0.22
         ],
         "yaxis": "y6"
        },
        {
         "customdata": [
          [
           0.21,
           "CART",
           "EducationNum"
          ],
          [
           0.21,
           "CART",
           "EducationNum"
          ],
          [
           0.21,
           "CART",
           "EducationNum"
          ],
          [
           0.21,
           "CART",
           "EducationNum"
          ],
          [
           0.21,
           "CART",
           "EducationNum"
          ],
          [
           0.21,
           "CART",
           "EducationNum"
          ],
          [
           0.21,
           "CART",
           "EducationNum"
          ],
          [
           0.21,
           "CART",
           "EducationNum"
          ],
          [
           0.21,
           "CART",
           "EducationNum"
          ],
          [
           0.21,
           "CART",
           "EducationNum"
          ],
          [
           0.21,
           "CART",
           "EducationNum"
          ],
          [
           0.21,
           "CART",
           "EducationNum"
          ],
          [
           0.21,
           "CART",
           "EducationNum"
          ],
          [
           0.21,
           "CART",
           "EducationNum"
          ],
          [
           0.21,
           "CART",
           "EducationNum"
          ],
          [
           0.21,
           "CART",
           "EducationNum"
          ],
          [
           0.21,
           "CART",
           "EducationNum"
          ],
          [
           0.21,
           "CART",
           "EducationNum"
          ],
          [
           0.21,
           "CART",
           "EducationNum"
          ],
          [
           0.21,
           "CART",
           "EducationNum"
          ],
          [
           0.21,
           "CART",
           "EducationNum"
          ],
          [
           0.21,
           "CART",
           "EducationNum"
          ],
          [
           0.21,
           "CART",
           "EducationNum"
          ],
          [
           0.21,
           "CART",
           "EducationNum"
          ],
          [
           0.21,
           "CART",
           "EducationNum"
          ],
          [
           0.21,
           "CART",
           "EducationNum"
          ],
          [
           0.21,
           "CART",
           "EducationNum"
          ],
          [
           0.21,
           "CART",
           "EducationNum"
          ],
          [
           0.21,
           "CART",
           "EducationNum"
          ],
          [
           0.21,
           "CART",
           "EducationNum"
          ],
          [
           0.21,
           "CART",
           "EducationNum"
          ],
          [
           0.21,
           "CART",
           "EducationNum"
          ],
          [
           0.21,
           "CART",
           "EducationNum"
          ],
          [
           0.21,
           "CART",
           "EducationNum"
          ],
          [
           0.21,
           "CART",
           "EducationNum"
          ],
          [
           0.21,
           "CART",
           "EducationNum"
          ],
          [
           0.21,
           "CART",
           "EducationNum"
          ],
          [
           0.21,
           "CART",
           "EducationNum"
          ],
          [
           0.21,
           "CART",
           "EducationNum"
          ],
          [
           0.21,
           "CART",
           "EducationNum"
          ],
          [
           0.21,
           "CART",
           "EducationNum"
          ],
          [
           0.21,
           "CART",
           "EducationNum"
          ],
          [
           0.21,
           "CART",
           "EducationNum"
          ],
          [
           0.21,
           "CART",
           "EducationNum"
          ],
          [
           0.21,
           "CART",
           "EducationNum"
          ],
          [
           0.21,
           "CART",
           "EducationNum"
          ],
          [
           0.21,
           "CART",
           "EducationNum"
          ],
          [
           0.21,
           "CART",
           "EducationNum"
          ],
          [
           0.21,
           "CART",
           "EducationNum"
          ],
          [
           0.21,
           "CART",
           "EducationNum"
          ],
          [
           0.21,
           "CART",
           "EducationNum"
          ],
          [
           0.21,
           "CART",
           "EducationNum"
          ],
          [
           0.21,
           "CART",
           "EducationNum"
          ],
          [
           0.21,
           "CART",
           "EducationNum"
          ],
          [
           0.21,
           "CART",
           "EducationNum"
          ],
          [
           0.21,
           "CART",
           "EducationNum"
          ],
          [
           0.21,
           "CART",
           "EducationNum"
          ],
          [
           0.21,
           "CART",
           "EducationNum"
          ],
          [
           0.21,
           "CART",
           "EducationNum"
          ],
          [
           0.21,
           "CART",
           "EducationNum"
          ],
          [
           0.21,
           "CART",
           "EducationNum"
          ],
          [
           0.21,
           "CART",
           "EducationNum"
          ],
          [
           0.21,
           "CART",
           "EducationNum"
          ],
          [
           0.21,
           "CART",
           "EducationNum"
          ],
          [
           0.21,
           "CART",
           "EducationNum"
          ],
          [
           0.21,
           "CART",
           "EducationNum"
          ],
          [
           0.21,
           "CART",
           "EducationNum"
          ],
          [
           0.21,
           "CART",
           "EducationNum"
          ],
          [
           0.21,
           "CART",
           "EducationNum"
          ],
          [
           0.21,
           "CART",
           "EducationNum"
          ],
          [
           0.21,
           "CART",
           "EducationNum"
          ],
          [
           0.21,
           "CART",
           "EducationNum"
          ],
          [
           0.21,
           "CART",
           "EducationNum"
          ],
          [
           0.21,
           "CART",
           "EducationNum"
          ],
          [
           0.21,
           "CART",
           "EducationNum"
          ],
          [
           0.21,
           "CART",
           "EducationNum"
          ],
          [
           0.21,
           "CART",
           "EducationNum"
          ],
          [
           0.21,
           "CART",
           "EducationNum"
          ],
          [
           0.21,
           "CART",
           "EducationNum"
          ],
          [
           0.21,
           "CART",
           "EducationNum"
          ],
          [
           0.21,
           "CART",
           "EducationNum"
          ],
          [
           0.21,
           "CART",
           "EducationNum"
          ],
          [
           0.21,
           "CART",
           "EducationNum"
          ],
          [
           0.21,
           "CART",
           "EducationNum"
          ],
          [
           0.21,
           "CART",
           "EducationNum"
          ],
          [
           0.21,
           "CART",
           "EducationNum"
          ],
          [
           0.21,
           "CART",
           "EducationNum"
          ],
          [
           0.21,
           "CART",
           "EducationNum"
          ],
          [
           0.21,
           "CART",
           "EducationNum"
          ],
          [
           0.21,
           "CART",
           "EducationNum"
          ],
          [
           0.21,
           "CART",
           "EducationNum"
          ],
          [
           0.21,
           "CART",
           "EducationNum"
          ],
          [
           0.21,
           "CART",
           "EducationNum"
          ],
          [
           0.21,
           "CART",
           "EducationNum"
          ],
          [
           0.21,
           "CART",
           "EducationNum"
          ],
          [
           0.21,
           "CART",
           "EducationNum"
          ],
          [
           0.21,
           "CART",
           "EducationNum"
          ],
          [
           0.21,
           "CART",
           "EducationNum"
          ],
          [
           0.21,
           "CART",
           "EducationNum"
          ],
          [
           0.21,
           "CART",
           "EducationNum"
          ],
          [
           0.21,
           "CART",
           "EducationNum"
          ]
         ],
         "hovertemplate": "<b>%{hovertext}</b><br><br>prediction=%{y:.3f}<br>mean_prediction=%{customdata[0]:.3f}<extra></extra>",
         "hovertext": [
          "CART",
          "CART",
          "CART",
          "CART",
          "CART",
          "CART",
          "CART",
          "CART",
          "CART",
          "CART",
          "CART",
          "CART",
          "CART",
          "CART",
          "CART",
          "CART",
          "CART",
          "CART",
          "CART",
          "CART",
          "CART",
          "CART",
          "CART",
          "CART",
          "CART",
          "CART",
          "CART",
          "CART",
          "CART",
          "CART",
          "CART",
          "CART",
          "CART",
          "CART",
          "CART",
          "CART",
          "CART",
          "CART",
          "CART",
          "CART",
          "CART",
          "CART",
          "CART",
          "CART",
          "CART",
          "CART",
          "CART",
          "CART",
          "CART",
          "CART",
          "CART",
          "CART",
          "CART",
          "CART",
          "CART",
          "CART",
          "CART",
          "CART",
          "CART",
          "CART",
          "CART",
          "CART",
          "CART",
          "CART",
          "CART",
          "CART",
          "CART",
          "CART",
          "CART",
          "CART",
          "CART",
          "CART",
          "CART",
          "CART",
          "CART",
          "CART",
          "CART",
          "CART",
          "CART",
          "CART",
          "CART",
          "CART",
          "CART",
          "CART",
          "CART",
          "CART",
          "CART",
          "CART",
          "CART",
          "CART",
          "CART",
          "CART",
          "CART",
          "CART",
          "CART",
          "CART",
          "CART",
          "CART",
          "CART",
          "CART",
          "CART"
         ],
         "legendgroup": "CART",
         "line": {
          "color": "#8bdcbe",
          "dash": "solid",
          "width": 2
         },
         "marker": {
          "symbol": "circle"
         },
         "mode": "lines",
         "name": "CART",
         "opacity": 1,
         "orientation": "v",
         "showlegend": false,
         "type": "scatter",
         "x": [
          1,
          1.15,
          1.3,
          1.45,
          1.6,
          1.75,
          1.9,
          2.05,
          2.2,
          2.3499999999999996,
          2.5,
          2.65,
          2.8,
          2.95,
          3.1,
          3.25,
          3.4,
          3.55,
          3.6999999999999997,
          3.85,
          4,
          4.15,
          4.3,
          4.449999999999999,
          4.6,
          4.75,
          4.9,
          5.05,
          5.2,
          5.35,
          5.5,
          5.6499999999999995,
          5.8,
          5.95,
          6.1,
          6.25,
          6.3999999999999995,
          6.55,
          6.7,
          6.85,
          7,
          7.1499999999999995,
          7.3,
          7.45,
          7.6,
          7.75,
          7.8999999999999995,
          8.05,
          8.2,
          8.35,
          8.5,
          8.649999999999999,
          8.8,
          8.95,
          9.1,
          9.25,
          9.4,
          9.549999999999999,
          9.7,
          9.85,
          10,
          10.15,
          10.299999999999999,
          10.45,
          10.6,
          10.75,
          10.9,
          11.049999999999999,
          11.2,
          11.35,
          11.5,
          11.65,
          11.799999999999999,
          11.95,
          12.1,
          12.25,
          12.4,
          12.549999999999999,
          12.7,
          12.85,
          13,
          13.15,
          13.299999999999999,
          13.45,
          13.6,
          13.75,
          13.9,
          14.049999999999999,
          14.2,
          14.35,
          14.5,
          14.65,
          14.799999999999999,
          14.95,
          15.1,
          15.25,
          15.399999999999999,
          15.549999999999999,
          15.7,
          15.85,
          16
         ],
         "xaxis": "x3",
         "y": [
          0.043333333333333335,
          0.043333333333333335,
          0.043333333333333335,
          0.043333333333333335,
          0.043333333333333335,
          0.043333333333333335,
          0.043333333333333335,
          0.043333333333333335,
          0.043333333333333335,
          0.043333333333333335,
          0.043333333333333335,
          0.043333333333333335,
          0.043333333333333335,
          0.043333333333333335,
          0.043333333333333335,
          0.043333333333333335,
          0.043333333333333335,
          0.043333333333333335,
          0.043333333333333335,
          0.043333333333333335,
          0.043333333333333335,
          0.043333333333333335,
          0.043333333333333335,
          0.043333333333333335,
          0.043333333333333335,
          0.043333333333333335,
          0.043333333333333335,
          0.04666666666666667,
          0.04666666666666667,
          0.04666666666666667,
          0.04666666666666667,
          0.04666666666666667,
          0.04666666666666667,
          0.04666666666666667,
          0.04666666666666667,
          0.04666666666666667,
          0.04666666666666667,
          0.043333333333333335,
          0.043333333333333335,
          0.043333333333333335,
          0.043333333333333335,
          0.043333333333333335,
          0.043333333333333335,
          0.043333333333333335,
          0.07666666666666666,
          0.07666666666666666,
          0.07666666666666666,
          0.08,
          0.08,
          0.08,
          0.1,
          0.1,
          0.1,
          0.1,
          0.1,
          0.1,
          0.1,
          0.17333333333333334,
          0.17333333333333334,
          0.17333333333333334,
          0.17333333333333334,
          0.17333333333333334,
          0.17333333333333334,
          0.17333333333333334,
          0.17666666666666667,
          0.17666666666666667,
          0.17666666666666667,
          0.17666666666666667,
          0.17666666666666667,
          0.17666666666666667,
          0.17666666666666667,
          0.18,
          0.18,
          0.18,
          0.18,
          0.18,
          0.18,
          0.37666666666666665,
          0.37666666666666665,
          0.37666666666666665,
          0.37666666666666665,
          0.37666666666666665,
          0.37666666666666665,
          0.37666666666666665,
          0.3933333333333333,
          0.3933333333333333,
          0.3933333333333333,
          0.4033333333333333,
          0.4033333333333333,
          0.4033333333333333,
          0.4033333333333333,
          0.44666666666666666,
          0.44666666666666666,
          0.44666666666666666,
          0.45,
          0.45,
          0.45,
          0.45,
          0.45,
          0.45,
          0.45
         ],
         "yaxis": "y3"
        },
        {
         "customdata": [
          [
           0.21,
           "CART",
           "CapitalGain"
          ],
          [
           0.21,
           "CART",
           "CapitalGain"
          ],
          [
           0.21,
           "CART",
           "CapitalGain"
          ],
          [
           0.21,
           "CART",
           "CapitalGain"
          ],
          [
           0.21,
           "CART",
           "CapitalGain"
          ],
          [
           0.21,
           "CART",
           "CapitalGain"
          ],
          [
           0.21,
           "CART",
           "CapitalGain"
          ],
          [
           0.21,
           "CART",
           "CapitalGain"
          ],
          [
           0.21,
           "CART",
           "CapitalGain"
          ],
          [
           0.21,
           "CART",
           "CapitalGain"
          ],
          [
           0.21,
           "CART",
           "CapitalGain"
          ],
          [
           0.21,
           "CART",
           "CapitalGain"
          ],
          [
           0.21,
           "CART",
           "CapitalGain"
          ],
          [
           0.21,
           "CART",
           "CapitalGain"
          ],
          [
           0.21,
           "CART",
           "CapitalGain"
          ],
          [
           0.21,
           "CART",
           "CapitalGain"
          ],
          [
           0.21,
           "CART",
           "CapitalGain"
          ],
          [
           0.21,
           "CART",
           "CapitalGain"
          ],
          [
           0.21,
           "CART",
           "CapitalGain"
          ],
          [
           0.21,
           "CART",
           "CapitalGain"
          ],
          [
           0.21,
           "CART",
           "CapitalGain"
          ],
          [
           0.21,
           "CART",
           "CapitalGain"
          ],
          [
           0.21,
           "CART",
           "CapitalGain"
          ],
          [
           0.21,
           "CART",
           "CapitalGain"
          ],
          [
           0.21,
           "CART",
           "CapitalGain"
          ],
          [
           0.21,
           "CART",
           "CapitalGain"
          ],
          [
           0.21,
           "CART",
           "CapitalGain"
          ],
          [
           0.21,
           "CART",
           "CapitalGain"
          ],
          [
           0.21,
           "CART",
           "CapitalGain"
          ],
          [
           0.21,
           "CART",
           "CapitalGain"
          ],
          [
           0.21,
           "CART",
           "CapitalGain"
          ],
          [
           0.21,
           "CART",
           "CapitalGain"
          ],
          [
           0.21,
           "CART",
           "CapitalGain"
          ],
          [
           0.21,
           "CART",
           "CapitalGain"
          ],
          [
           0.21,
           "CART",
           "CapitalGain"
          ],
          [
           0.21,
           "CART",
           "CapitalGain"
          ],
          [
           0.21,
           "CART",
           "CapitalGain"
          ],
          [
           0.21,
           "CART",
           "CapitalGain"
          ],
          [
           0.21,
           "CART",
           "CapitalGain"
          ],
          [
           0.21,
           "CART",
           "CapitalGain"
          ],
          [
           0.21,
           "CART",
           "CapitalGain"
          ],
          [
           0.21,
           "CART",
           "CapitalGain"
          ],
          [
           0.21,
           "CART",
           "CapitalGain"
          ],
          [
           0.21,
           "CART",
           "CapitalGain"
          ],
          [
           0.21,
           "CART",
           "CapitalGain"
          ],
          [
           0.21,
           "CART",
           "CapitalGain"
          ],
          [
           0.21,
           "CART",
           "CapitalGain"
          ],
          [
           0.21,
           "CART",
           "CapitalGain"
          ],
          [
           0.21,
           "CART",
           "CapitalGain"
          ],
          [
           0.21,
           "CART",
           "CapitalGain"
          ],
          [
           0.21,
           "CART",
           "CapitalGain"
          ],
          [
           0.21,
           "CART",
           "CapitalGain"
          ],
          [
           0.21,
           "CART",
           "CapitalGain"
          ],
          [
           0.21,
           "CART",
           "CapitalGain"
          ],
          [
           0.21,
           "CART",
           "CapitalGain"
          ],
          [
           0.21,
           "CART",
           "CapitalGain"
          ],
          [
           0.21,
           "CART",
           "CapitalGain"
          ],
          [
           0.21,
           "CART",
           "CapitalGain"
          ],
          [
           0.21,
           "CART",
           "CapitalGain"
          ],
          [
           0.21,
           "CART",
           "CapitalGain"
          ],
          [
           0.21,
           "CART",
           "CapitalGain"
          ],
          [
           0.21,
           "CART",
           "CapitalGain"
          ],
          [
           0.21,
           "CART",
           "CapitalGain"
          ],
          [
           0.21,
           "CART",
           "CapitalGain"
          ],
          [
           0.21,
           "CART",
           "CapitalGain"
          ],
          [
           0.21,
           "CART",
           "CapitalGain"
          ],
          [
           0.21,
           "CART",
           "CapitalGain"
          ],
          [
           0.21,
           "CART",
           "CapitalGain"
          ],
          [
           0.21,
           "CART",
           "CapitalGain"
          ],
          [
           0.21,
           "CART",
           "CapitalGain"
          ],
          [
           0.21,
           "CART",
           "CapitalGain"
          ],
          [
           0.21,
           "CART",
           "CapitalGain"
          ],
          [
           0.21,
           "CART",
           "CapitalGain"
          ],
          [
           0.21,
           "CART",
           "CapitalGain"
          ],
          [
           0.21,
           "CART",
           "CapitalGain"
          ],
          [
           0.21,
           "CART",
           "CapitalGain"
          ],
          [
           0.21,
           "CART",
           "CapitalGain"
          ],
          [
           0.21,
           "CART",
           "CapitalGain"
          ],
          [
           0.21,
           "CART",
           "CapitalGain"
          ],
          [
           0.21,
           "CART",
           "CapitalGain"
          ],
          [
           0.21,
           "CART",
           "CapitalGain"
          ],
          [
           0.21,
           "CART",
           "CapitalGain"
          ],
          [
           0.21,
           "CART",
           "CapitalGain"
          ],
          [
           0.21,
           "CART",
           "CapitalGain"
          ],
          [
           0.21,
           "CART",
           "CapitalGain"
          ],
          [
           0.21,
           "CART",
           "CapitalGain"
          ],
          [
           0.21,
           "CART",
           "CapitalGain"
          ],
          [
           0.21,
           "CART",
           "CapitalGain"
          ],
          [
           0.21,
           "CART",
           "CapitalGain"
          ],
          [
           0.21,
           "CART",
           "CapitalGain"
          ],
          [
           0.21,
           "CART",
           "CapitalGain"
          ],
          [
           0.21,
           "CART",
           "CapitalGain"
          ],
          [
           0.21,
           "CART",
           "CapitalGain"
          ],
          [
           0.21,
           "CART",
           "CapitalGain"
          ],
          [
           0.21,
           "CART",
           "CapitalGain"
          ],
          [
           0.21,
           "CART",
           "CapitalGain"
          ],
          [
           0.21,
           "CART",
           "CapitalGain"
          ],
          [
           0.21,
           "CART",
           "CapitalGain"
          ],
          [
           0.21,
           "CART",
           "CapitalGain"
          ],
          [
           0.21,
           "CART",
           "CapitalGain"
          ],
          [
           0.21,
           "CART",
           "CapitalGain"
          ]
         ],
         "hovertemplate": "<b>%{hovertext}</b><br><br>prediction=%{y:.3f}<br>mean_prediction=%{customdata[0]:.3f}<extra></extra>",
         "hovertext": [
          "CART",
          "CART",
          "CART",
          "CART",
          "CART",
          "CART",
          "CART",
          "CART",
          "CART",
          "CART",
          "CART",
          "CART",
          "CART",
          "CART",
          "CART",
          "CART",
          "CART",
          "CART",
          "CART",
          "CART",
          "CART",
          "CART",
          "CART",
          "CART",
          "CART",
          "CART",
          "CART",
          "CART",
          "CART",
          "CART",
          "CART",
          "CART",
          "CART",
          "CART",
          "CART",
          "CART",
          "CART",
          "CART",
          "CART",
          "CART",
          "CART",
          "CART",
          "CART",
          "CART",
          "CART",
          "CART",
          "CART",
          "CART",
          "CART",
          "CART",
          "CART",
          "CART",
          "CART",
          "CART",
          "CART",
          "CART",
          "CART",
          "CART",
          "CART",
          "CART",
          "CART",
          "CART",
          "CART",
          "CART",
          "CART",
          "CART",
          "CART",
          "CART",
          "CART",
          "CART",
          "CART",
          "CART",
          "CART",
          "CART",
          "CART",
          "CART",
          "CART",
          "CART",
          "CART",
          "CART",
          "CART",
          "CART",
          "CART",
          "CART",
          "CART",
          "CART",
          "CART",
          "CART",
          "CART",
          "CART",
          "CART",
          "CART",
          "CART",
          "CART",
          "CART",
          "CART",
          "CART",
          "CART",
          "CART",
          "CART",
          "CART"
         ],
         "legendgroup": "CART",
         "line": {
          "color": "#8bdcbe",
          "dash": "solid",
          "width": 2
         },
         "marker": {
          "symbol": "circle"
         },
         "mode": "lines",
         "name": "CART",
         "opacity": 1,
         "orientation": "v",
         "showlegend": false,
         "type": "scatter",
         "x": [
          0,
          999.99,
          1999.98,
          2999.9700000000003,
          3999.96,
          4999.95,
          5999.9400000000005,
          6999.93,
          7999.92,
          8999.91,
          9999.9,
          10999.89,
          11999.880000000001,
          12999.87,
          13999.86,
          14999.85,
          15999.84,
          16999.83,
          17999.82,
          18999.81,
          19999.8,
          20999.79,
          21999.78,
          22999.77,
          23999.760000000002,
          24999.75,
          25999.74,
          26999.73,
          27999.72,
          28999.71,
          29999.7,
          30999.69,
          31999.68,
          32999.67,
          33999.66,
          34999.65,
          35999.64,
          36999.63,
          37999.62,
          38999.61,
          39999.6,
          40999.590000000004,
          41999.58,
          42999.57,
          43999.56,
          44999.55,
          45999.54,
          46999.53,
          47999.520000000004,
          48999.51,
          49999.5,
          50999.49,
          51999.48,
          52999.47,
          53999.46,
          54999.45,
          55999.44,
          56999.43,
          57999.42,
          58999.41,
          59999.4,
          60999.39,
          61999.38,
          62999.37,
          63999.36,
          64999.35,
          65999.34,
          66999.33,
          67999.32,
          68999.31,
          69999.3,
          70999.29,
          71999.28,
          72999.27,
          73999.26,
          74999.25,
          75999.24,
          76999.23,
          77999.22,
          78999.21,
          79999.2,
          80999.19,
          81999.18000000001,
          82999.17,
          83999.16,
          84999.15,
          85999.14,
          86999.13,
          87999.12,
          88999.11,
          89999.1,
          90999.09,
          91999.08,
          92999.07,
          93999.06,
          94999.05,
          95999.04000000001,
          96999.03,
          97999.02,
          98999.01,
          99999
         ],
         "xaxis": "x4",
         "y": [
          0.17666666666666667,
          0.18,
          0.21333333333333335,
          0.29,
          0.36,
          0.43333333333333335,
          0.4666666666666667,
          0.51,
          0.5766666666666667,
          0.5633333333333334,
          0.61,
          0.61,
          0.9233333333333333,
          0.9233333333333333,
          0.9233333333333333,
          0.9233333333333333,
          0.9233333333333333,
          0.9233333333333333,
          0.9233333333333333,
          0.9233333333333333,
          0.9233333333333333,
          0.9233333333333333,
          0.9233333333333333,
          0.9233333333333333,
          0.9233333333333333,
          0.95,
          0.95,
          0.95,
          0.95,
          0.95,
          0.95,
          0.95,
          0.95,
          0.95,
          0.95,
          0.95,
          0.95,
          0.95,
          0.95,
          0.95,
          0.95,
          0.95,
          0.95,
          0.95,
          0.95,
          0.95,
          0.95,
          0.95,
          0.95,
          0.95,
          0.95,
          0.95,
          0.95,
          0.95,
          0.95,
          0.95,
          0.95,
          0.95,
          0.95,
          0.95,
          0.95,
          0.95,
          0.95,
          0.95,
          0.95,
          0.95,
          0.95,
          0.95,
          0.95,
          0.95,
          0.95,
          0.95,
          0.95,
          0.95,
          0.95,
          0.95,
          0.95,
          0.95,
          0.95,
          0.95,
          0.95,
          0.95,
          0.95,
          0.95,
          0.95,
          0.95,
          0.95,
          0.95,
          0.95,
          0.95,
          0.95,
          0.95,
          0.95,
          0.95,
          0.95,
          0.95,
          0.95,
          0.95,
          0.95,
          0.95,
          0.95
         ],
         "yaxis": "y4"
        },
        {
         "customdata": [
          [
           0.21,
           "CART",
           "CapitalLoss"
          ],
          [
           0.21,
           "CART",
           "CapitalLoss"
          ],
          [
           0.21,
           "CART",
           "CapitalLoss"
          ],
          [
           0.21,
           "CART",
           "CapitalLoss"
          ],
          [
           0.21,
           "CART",
           "CapitalLoss"
          ],
          [
           0.21,
           "CART",
           "CapitalLoss"
          ],
          [
           0.21,
           "CART",
           "CapitalLoss"
          ],
          [
           0.21,
           "CART",
           "CapitalLoss"
          ],
          [
           0.21,
           "CART",
           "CapitalLoss"
          ],
          [
           0.21,
           "CART",
           "CapitalLoss"
          ],
          [
           0.21,
           "CART",
           "CapitalLoss"
          ],
          [
           0.21,
           "CART",
           "CapitalLoss"
          ],
          [
           0.21,
           "CART",
           "CapitalLoss"
          ],
          [
           0.21,
           "CART",
           "CapitalLoss"
          ],
          [
           0.21,
           "CART",
           "CapitalLoss"
          ],
          [
           0.21,
           "CART",
           "CapitalLoss"
          ],
          [
           0.21,
           "CART",
           "CapitalLoss"
          ],
          [
           0.21,
           "CART",
           "CapitalLoss"
          ],
          [
           0.21,
           "CART",
           "CapitalLoss"
          ],
          [
           0.21,
           "CART",
           "CapitalLoss"
          ],
          [
           0.21,
           "CART",
           "CapitalLoss"
          ],
          [
           0.21,
           "CART",
           "CapitalLoss"
          ],
          [
           0.21,
           "CART",
           "CapitalLoss"
          ],
          [
           0.21,
           "CART",
           "CapitalLoss"
          ],
          [
           0.21,
           "CART",
           "CapitalLoss"
          ],
          [
           0.21,
           "CART",
           "CapitalLoss"
          ],
          [
           0.21,
           "CART",
           "CapitalLoss"
          ],
          [
           0.21,
           "CART",
           "CapitalLoss"
          ],
          [
           0.21,
           "CART",
           "CapitalLoss"
          ],
          [
           0.21,
           "CART",
           "CapitalLoss"
          ],
          [
           0.21,
           "CART",
           "CapitalLoss"
          ],
          [
           0.21,
           "CART",
           "CapitalLoss"
          ],
          [
           0.21,
           "CART",
           "CapitalLoss"
          ],
          [
           0.21,
           "CART",
           "CapitalLoss"
          ],
          [
           0.21,
           "CART",
           "CapitalLoss"
          ],
          [
           0.21,
           "CART",
           "CapitalLoss"
          ],
          [
           0.21,
           "CART",
           "CapitalLoss"
          ],
          [
           0.21,
           "CART",
           "CapitalLoss"
          ],
          [
           0.21,
           "CART",
           "CapitalLoss"
          ],
          [
           0.21,
           "CART",
           "CapitalLoss"
          ],
          [
           0.21,
           "CART",
           "CapitalLoss"
          ],
          [
           0.21,
           "CART",
           "CapitalLoss"
          ],
          [
           0.21,
           "CART",
           "CapitalLoss"
          ],
          [
           0.21,
           "CART",
           "CapitalLoss"
          ],
          [
           0.21,
           "CART",
           "CapitalLoss"
          ],
          [
           0.21,
           "CART",
           "CapitalLoss"
          ],
          [
           0.21,
           "CART",
           "CapitalLoss"
          ],
          [
           0.21,
           "CART",
           "CapitalLoss"
          ],
          [
           0.21,
           "CART",
           "CapitalLoss"
          ],
          [
           0.21,
           "CART",
           "CapitalLoss"
          ],
          [
           0.21,
           "CART",
           "CapitalLoss"
          ],
          [
           0.21,
           "CART",
           "CapitalLoss"
          ],
          [
           0.21,
           "CART",
           "CapitalLoss"
          ],
          [
           0.21,
           "CART",
           "CapitalLoss"
          ],
          [
           0.21,
           "CART",
           "CapitalLoss"
          ],
          [
           0.21,
           "CART",
           "CapitalLoss"
          ],
          [
           0.21,
           "CART",
           "CapitalLoss"
          ],
          [
           0.21,
           "CART",
           "CapitalLoss"
          ],
          [
           0.21,
           "CART",
           "CapitalLoss"
          ],
          [
           0.21,
           "CART",
           "CapitalLoss"
          ],
          [
           0.21,
           "CART",
           "CapitalLoss"
          ],
          [
           0.21,
           "CART",
           "CapitalLoss"
          ],
          [
           0.21,
           "CART",
           "CapitalLoss"
          ],
          [
           0.21,
           "CART",
           "CapitalLoss"
          ],
          [
           0.21,
           "CART",
           "CapitalLoss"
          ],
          [
           0.21,
           "CART",
           "CapitalLoss"
          ],
          [
           0.21,
           "CART",
           "CapitalLoss"
          ],
          [
           0.21,
           "CART",
           "CapitalLoss"
          ],
          [
           0.21,
           "CART",
           "CapitalLoss"
          ],
          [
           0.21,
           "CART",
           "CapitalLoss"
          ],
          [
           0.21,
           "CART",
           "CapitalLoss"
          ],
          [
           0.21,
           "CART",
           "CapitalLoss"
          ],
          [
           0.21,
           "CART",
           "CapitalLoss"
          ],
          [
           0.21,
           "CART",
           "CapitalLoss"
          ],
          [
           0.21,
           "CART",
           "CapitalLoss"
          ],
          [
           0.21,
           "CART",
           "CapitalLoss"
          ],
          [
           0.21,
           "CART",
           "CapitalLoss"
          ],
          [
           0.21,
           "CART",
           "CapitalLoss"
          ],
          [
           0.21,
           "CART",
           "CapitalLoss"
          ],
          [
           0.21,
           "CART",
           "CapitalLoss"
          ],
          [
           0.21,
           "CART",
           "CapitalLoss"
          ],
          [
           0.21,
           "CART",
           "CapitalLoss"
          ],
          [
           0.21,
           "CART",
           "CapitalLoss"
          ],
          [
           0.21,
           "CART",
           "CapitalLoss"
          ],
          [
           0.21,
           "CART",
           "CapitalLoss"
          ],
          [
           0.21,
           "CART",
           "CapitalLoss"
          ],
          [
           0.21,
           "CART",
           "CapitalLoss"
          ],
          [
           0.21,
           "CART",
           "CapitalLoss"
          ],
          [
           0.21,
           "CART",
           "CapitalLoss"
          ],
          [
           0.21,
           "CART",
           "CapitalLoss"
          ],
          [
           0.21,
           "CART",
           "CapitalLoss"
          ],
          [
           0.21,
           "CART",
           "CapitalLoss"
          ],
          [
           0.21,
           "CART",
           "CapitalLoss"
          ],
          [
           0.21,
           "CART",
           "CapitalLoss"
          ],
          [
           0.21,
           "CART",
           "CapitalLoss"
          ],
          [
           0.21,
           "CART",
           "CapitalLoss"
          ],
          [
           0.21,
           "CART",
           "CapitalLoss"
          ],
          [
           0.21,
           "CART",
           "CapitalLoss"
          ],
          [
           0.21,
           "CART",
           "CapitalLoss"
          ],
          [
           0.21,
           "CART",
           "CapitalLoss"
          ],
          [
           0.21,
           "CART",
           "CapitalLoss"
          ]
         ],
         "hovertemplate": "<b>%{hovertext}</b><br><br>prediction=%{y:.3f}<br>mean_prediction=%{customdata[0]:.3f}<extra></extra>",
         "hovertext": [
          "CART",
          "CART",
          "CART",
          "CART",
          "CART",
          "CART",
          "CART",
          "CART",
          "CART",
          "CART",
          "CART",
          "CART",
          "CART",
          "CART",
          "CART",
          "CART",
          "CART",
          "CART",
          "CART",
          "CART",
          "CART",
          "CART",
          "CART",
          "CART",
          "CART",
          "CART",
          "CART",
          "CART",
          "CART",
          "CART",
          "CART",
          "CART",
          "CART",
          "CART",
          "CART",
          "CART",
          "CART",
          "CART",
          "CART",
          "CART",
          "CART",
          "CART",
          "CART",
          "CART",
          "CART",
          "CART",
          "CART",
          "CART",
          "CART",
          "CART",
          "CART",
          "CART",
          "CART",
          "CART",
          "CART",
          "CART",
          "CART",
          "CART",
          "CART",
          "CART",
          "CART",
          "CART",
          "CART",
          "CART",
          "CART",
          "CART",
          "CART",
          "CART",
          "CART",
          "CART",
          "CART",
          "CART",
          "CART",
          "CART",
          "CART",
          "CART",
          "CART",
          "CART",
          "CART",
          "CART",
          "CART",
          "CART",
          "CART",
          "CART",
          "CART",
          "CART",
          "CART",
          "CART",
          "CART",
          "CART",
          "CART",
          "CART",
          "CART",
          "CART",
          "CART",
          "CART",
          "CART",
          "CART",
          "CART",
          "CART",
          "CART"
         ],
         "legendgroup": "CART",
         "line": {
          "color": "#8bdcbe",
          "dash": "solid",
          "width": 2
         },
         "marker": {
          "symbol": "circle"
         },
         "mode": "lines",
         "name": "CART",
         "opacity": 1,
         "orientation": "v",
         "showlegend": false,
         "type": "scatter",
         "x": [
          0,
          43.56,
          87.12,
          130.68,
          174.24,
          217.8,
          261.36,
          304.92,
          348.48,
          392.04,
          435.6,
          479.16,
          522.72,
          566.28,
          609.84,
          653.4000000000001,
          696.96,
          740.52,
          784.08,
          827.6400000000001,
          871.2,
          914.76,
          958.32,
          1001.8800000000001,
          1045.44,
          1089,
          1132.56,
          1176.1200000000001,
          1219.68,
          1263.24,
          1306.8000000000002,
          1350.3600000000001,
          1393.92,
          1437.48,
          1481.04,
          1524.6000000000001,
          1568.16,
          1611.72,
          1655.2800000000002,
          1698.8400000000001,
          1742.4,
          1785.96,
          1829.52,
          1873.0800000000002,
          1916.64,
          1960.2,
          2003.7600000000002,
          2047.3200000000002,
          2090.88,
          2134.44,
          2178,
          2221.56,
          2265.12,
          2308.6800000000003,
          2352.2400000000002,
          2395.8,
          2439.36,
          2482.92,
          2526.48,
          2570.04,
          2613.6000000000004,
          2657.1600000000003,
          2700.7200000000003,
          2744.28,
          2787.84,
          2831.4,
          2874.96,
          2918.52,
          2962.08,
          3005.6400000000003,
          3049.2000000000003,
          3092.76,
          3136.32,
          3179.88,
          3223.44,
          3267,
          3310.5600000000004,
          3354.1200000000003,
          3397.6800000000003,
          3441.2400000000002,
          3484.8,
          3528.36,
          3571.92,
          3615.48,
          3659.04,
          3702.6000000000004,
          3746.1600000000003,
          3789.7200000000003,
          3833.28,
          3876.84,
          3920.4,
          3963.96,
          4007.5200000000004,
          4051.0800000000004,
          4094.6400000000003,
          4138.2,
          4181.76,
          4225.320000000001,
          4268.88,
          4312.4400000000005,
          4356
         ],
         "xaxis": "x",
         "y": [
          0.20333333333333334,
          0.20333333333333334,
          0.20333333333333334,
          0.20333333333333334,
          0.20333333333333334,
          0.20333333333333334,
          0.20333333333333334,
          0.20333333333333334,
          0.20333333333333334,
          0.20333333333333334,
          0.20333333333333334,
          0.20333333333333334,
          0.20333333333333334,
          0.20333333333333334,
          0.20333333333333334,
          0.20333333333333334,
          0.20333333333333334,
          0.20333333333333334,
          0.21666666666666667,
          0.21666666666666667,
          0.25333333333333335,
          0.25333333333333335,
          0.29,
          0.29333333333333333,
          0.29333333333333333,
          0.29333333333333333,
          0.29333333333333333,
          0.29333333333333333,
          0.3,
          0.3,
          0.3,
          0.3,
          0.3,
          0.3,
          0.3,
          0.3,
          0.3,
          0.3,
          0.29333333333333333,
          0.29333333333333333,
          0.33666666666666667,
          0.36333333333333334,
          0.3566666666666667,
          0.3566666666666667,
          0.3566666666666667,
          0.4033333333333333,
          0.4033333333333333,
          0.4066666666666667,
          0.4066666666666667,
          0.42333333333333334,
          0.42333333333333334,
          0.42333333333333334,
          0.42333333333333334,
          0.42333333333333334,
          0.42333333333333334,
          0.42333333333333334,
          0.42333333333333334,
          0.42333333333333334,
          0.43,
          0.44,
          0.44,
          0.44,
          0.44,
          0.44,
          0.44,
          0.44,
          0.44,
          0.44,
          0.44,
          0.44,
          0.44,
          0.44,
          0.44,
          0.44,
          0.44,
          0.44,
          0.44,
          0.44,
          0.44,
          0.44,
          0.44,
          0.44,
          0.44,
          0.44,
          0.44,
          0.44,
          0.44,
          0.44,
          0.44,
          0.44,
          0.44,
          0.44,
          0.44,
          0.44,
          0.44,
          0.44,
          0.44,
          0.44,
          0.44,
          0.44,
          0.44
         ],
         "yaxis": "y"
        },
        {
         "customdata": [
          [
           0.21,
           "CART",
           "HoursPerWeek"
          ],
          [
           0.21,
           "CART",
           "HoursPerWeek"
          ],
          [
           0.21,
           "CART",
           "HoursPerWeek"
          ],
          [
           0.21,
           "CART",
           "HoursPerWeek"
          ],
          [
           0.21,
           "CART",
           "HoursPerWeek"
          ],
          [
           0.21,
           "CART",
           "HoursPerWeek"
          ],
          [
           0.21,
           "CART",
           "HoursPerWeek"
          ],
          [
           0.21,
           "CART",
           "HoursPerWeek"
          ],
          [
           0.21,
           "CART",
           "HoursPerWeek"
          ],
          [
           0.21,
           "CART",
           "HoursPerWeek"
          ],
          [
           0.21,
           "CART",
           "HoursPerWeek"
          ],
          [
           0.21,
           "CART",
           "HoursPerWeek"
          ],
          [
           0.21,
           "CART",
           "HoursPerWeek"
          ],
          [
           0.21,
           "CART",
           "HoursPerWeek"
          ],
          [
           0.21,
           "CART",
           "HoursPerWeek"
          ],
          [
           0.21,
           "CART",
           "HoursPerWeek"
          ],
          [
           0.21,
           "CART",
           "HoursPerWeek"
          ],
          [
           0.21,
           "CART",
           "HoursPerWeek"
          ],
          [
           0.21,
           "CART",
           "HoursPerWeek"
          ],
          [
           0.21,
           "CART",
           "HoursPerWeek"
          ],
          [
           0.21,
           "CART",
           "HoursPerWeek"
          ],
          [
           0.21,
           "CART",
           "HoursPerWeek"
          ],
          [
           0.21,
           "CART",
           "HoursPerWeek"
          ],
          [
           0.21,
           "CART",
           "HoursPerWeek"
          ],
          [
           0.21,
           "CART",
           "HoursPerWeek"
          ],
          [
           0.21,
           "CART",
           "HoursPerWeek"
          ],
          [
           0.21,
           "CART",
           "HoursPerWeek"
          ],
          [
           0.21,
           "CART",
           "HoursPerWeek"
          ],
          [
           0.21,
           "CART",
           "HoursPerWeek"
          ],
          [
           0.21,
           "CART",
           "HoursPerWeek"
          ],
          [
           0.21,
           "CART",
           "HoursPerWeek"
          ],
          [
           0.21,
           "CART",
           "HoursPerWeek"
          ],
          [
           0.21,
           "CART",
           "HoursPerWeek"
          ],
          [
           0.21,
           "CART",
           "HoursPerWeek"
          ],
          [
           0.21,
           "CART",
           "HoursPerWeek"
          ],
          [
           0.21,
           "CART",
           "HoursPerWeek"
          ],
          [
           0.21,
           "CART",
           "HoursPerWeek"
          ],
          [
           0.21,
           "CART",
           "HoursPerWeek"
          ],
          [
           0.21,
           "CART",
           "HoursPerWeek"
          ],
          [
           0.21,
           "CART",
           "HoursPerWeek"
          ],
          [
           0.21,
           "CART",
           "HoursPerWeek"
          ],
          [
           0.21,
           "CART",
           "HoursPerWeek"
          ],
          [
           0.21,
           "CART",
           "HoursPerWeek"
          ],
          [
           0.21,
           "CART",
           "HoursPerWeek"
          ],
          [
           0.21,
           "CART",
           "HoursPerWeek"
          ],
          [
           0.21,
           "CART",
           "HoursPerWeek"
          ],
          [
           0.21,
           "CART",
           "HoursPerWeek"
          ],
          [
           0.21,
           "CART",
           "HoursPerWeek"
          ],
          [
           0.21,
           "CART",
           "HoursPerWeek"
          ],
          [
           0.21,
           "CART",
           "HoursPerWeek"
          ],
          [
           0.21,
           "CART",
           "HoursPerWeek"
          ],
          [
           0.21,
           "CART",
           "HoursPerWeek"
          ],
          [
           0.21,
           "CART",
           "HoursPerWeek"
          ],
          [
           0.21,
           "CART",
           "HoursPerWeek"
          ],
          [
           0.21,
           "CART",
           "HoursPerWeek"
          ],
          [
           0.21,
           "CART",
           "HoursPerWeek"
          ],
          [
           0.21,
           "CART",
           "HoursPerWeek"
          ],
          [
           0.21,
           "CART",
           "HoursPerWeek"
          ],
          [
           0.21,
           "CART",
           "HoursPerWeek"
          ],
          [
           0.21,
           "CART",
           "HoursPerWeek"
          ],
          [
           0.21,
           "CART",
           "HoursPerWeek"
          ],
          [
           0.21,
           "CART",
           "HoursPerWeek"
          ],
          [
           0.21,
           "CART",
           "HoursPerWeek"
          ],
          [
           0.21,
           "CART",
           "HoursPerWeek"
          ],
          [
           0.21,
           "CART",
           "HoursPerWeek"
          ],
          [
           0.21,
           "CART",
           "HoursPerWeek"
          ],
          [
           0.21,
           "CART",
           "HoursPerWeek"
          ],
          [
           0.21,
           "CART",
           "HoursPerWeek"
          ],
          [
           0.21,
           "CART",
           "HoursPerWeek"
          ],
          [
           0.21,
           "CART",
           "HoursPerWeek"
          ],
          [
           0.21,
           "CART",
           "HoursPerWeek"
          ],
          [
           0.21,
           "CART",
           "HoursPerWeek"
          ],
          [
           0.21,
           "CART",
           "HoursPerWeek"
          ],
          [
           0.21,
           "CART",
           "HoursPerWeek"
          ],
          [
           0.21,
           "CART",
           "HoursPerWeek"
          ],
          [
           0.21,
           "CART",
           "HoursPerWeek"
          ],
          [
           0.21,
           "CART",
           "HoursPerWeek"
          ],
          [
           0.21,
           "CART",
           "HoursPerWeek"
          ],
          [
           0.21,
           "CART",
           "HoursPerWeek"
          ],
          [
           0.21,
           "CART",
           "HoursPerWeek"
          ],
          [
           0.21,
           "CART",
           "HoursPerWeek"
          ],
          [
           0.21,
           "CART",
           "HoursPerWeek"
          ],
          [
           0.21,
           "CART",
           "HoursPerWeek"
          ],
          [
           0.21,
           "CART",
           "HoursPerWeek"
          ],
          [
           0.21,
           "CART",
           "HoursPerWeek"
          ],
          [
           0.21,
           "CART",
           "HoursPerWeek"
          ],
          [
           0.21,
           "CART",
           "HoursPerWeek"
          ],
          [
           0.21,
           "CART",
           "HoursPerWeek"
          ],
          [
           0.21,
           "CART",
           "HoursPerWeek"
          ],
          [
           0.21,
           "CART",
           "HoursPerWeek"
          ],
          [
           0.21,
           "CART",
           "HoursPerWeek"
          ],
          [
           0.21,
           "CART",
           "HoursPerWeek"
          ],
          [
           0.21,
           "CART",
           "HoursPerWeek"
          ],
          [
           0.21,
           "CART",
           "HoursPerWeek"
          ],
          [
           0.21,
           "CART",
           "HoursPerWeek"
          ],
          [
           0.21,
           "CART",
           "HoursPerWeek"
          ],
          [
           0.21,
           "CART",
           "HoursPerWeek"
          ],
          [
           0.21,
           "CART",
           "HoursPerWeek"
          ],
          [
           0.21,
           "CART",
           "HoursPerWeek"
          ],
          [
           0.21,
           "CART",
           "HoursPerWeek"
          ],
          [
           0.21,
           "CART",
           "HoursPerWeek"
          ]
         ],
         "hovertemplate": "<b>%{hovertext}</b><br><br>prediction=%{y:.3f}<br>mean_prediction=%{customdata[0]:.3f}<extra></extra>",
         "hovertext": [
          "CART",
          "CART",
          "CART",
          "CART",
          "CART",
          "CART",
          "CART",
          "CART",
          "CART",
          "CART",
          "CART",
          "CART",
          "CART",
          "CART",
          "CART",
          "CART",
          "CART",
          "CART",
          "CART",
          "CART",
          "CART",
          "CART",
          "CART",
          "CART",
          "CART",
          "CART",
          "CART",
          "CART",
          "CART",
          "CART",
          "CART",
          "CART",
          "CART",
          "CART",
          "CART",
          "CART",
          "CART",
          "CART",
          "CART",
          "CART",
          "CART",
          "CART",
          "CART",
          "CART",
          "CART",
          "CART",
          "CART",
          "CART",
          "CART",
          "CART",
          "CART",
          "CART",
          "CART",
          "CART",
          "CART",
          "CART",
          "CART",
          "CART",
          "CART",
          "CART",
          "CART",
          "CART",
          "CART",
          "CART",
          "CART",
          "CART",
          "CART",
          "CART",
          "CART",
          "CART",
          "CART",
          "CART",
          "CART",
          "CART",
          "CART",
          "CART",
          "CART",
          "CART",
          "CART",
          "CART",
          "CART",
          "CART",
          "CART",
          "CART",
          "CART",
          "CART",
          "CART",
          "CART",
          "CART",
          "CART",
          "CART",
          "CART",
          "CART",
          "CART",
          "CART",
          "CART",
          "CART",
          "CART",
          "CART",
          "CART",
          "CART"
         ],
         "legendgroup": "CART",
         "line": {
          "color": "#8bdcbe",
          "dash": "solid",
          "width": 2
         },
         "marker": {
          "symbol": "circle"
         },
         "mode": "lines",
         "name": "CART",
         "opacity": 1,
         "orientation": "v",
         "showlegend": false,
         "type": "scatter",
         "x": [
          1,
          1.98,
          2.96,
          3.94,
          4.92,
          5.9,
          6.88,
          7.859999999999999,
          8.84,
          9.82,
          10.8,
          11.78,
          12.76,
          13.74,
          14.719999999999999,
          15.7,
          16.68,
          17.66,
          18.64,
          19.62,
          20.6,
          21.58,
          22.56,
          23.54,
          24.52,
          25.5,
          26.48,
          27.46,
          28.439999999999998,
          29.419999999999998,
          30.4,
          31.38,
          32.36,
          33.339999999999996,
          34.32,
          35.3,
          36.28,
          37.26,
          38.24,
          39.22,
          40.2,
          41.18,
          42.16,
          43.14,
          44.12,
          45.1,
          46.08,
          47.06,
          48.04,
          49.019999999999996,
          50,
          50.98,
          51.96,
          52.94,
          53.92,
          54.9,
          55.879999999999995,
          56.86,
          57.839999999999996,
          58.82,
          59.8,
          60.78,
          61.76,
          62.74,
          63.72,
          64.69999999999999,
          65.67999999999999,
          66.66,
          67.64,
          68.62,
          69.6,
          70.58,
          71.56,
          72.53999999999999,
          73.52,
          74.5,
          75.48,
          76.46,
          77.44,
          78.42,
          79.4,
          80.38,
          81.36,
          82.34,
          83.32,
          84.3,
          85.28,
          86.26,
          87.24,
          88.22,
          89.2,
          90.17999999999999,
          91.16,
          92.14,
          93.12,
          94.1,
          95.08,
          96.06,
          97.03999999999999,
          98.02,
          99
         ],
         "xaxis": "x2",
         "y": [
          0.15,
          0.15,
          0.10666666666666667,
          0.10666666666666667,
          0.10666666666666667,
          0.10666666666666667,
          0.10666666666666667,
          0.10666666666666667,
          0.10666666666666667,
          0.10666666666666667,
          0.10666666666666667,
          0.10666666666666667,
          0.10666666666666667,
          0.10666666666666667,
          0.10666666666666667,
          0.16666666666666666,
          0.16666666666666666,
          0.16666666666666666,
          0.16666666666666666,
          0.16666666666666666,
          0.16666666666666666,
          0.16666666666666666,
          0.16666666666666666,
          0.16666666666666666,
          0.16666666666666666,
          0.17666666666666667,
          0.17666666666666667,
          0.17666666666666667,
          0.17666666666666667,
          0.17666666666666667,
          0.17666666666666667,
          0.18333333333333332,
          0.18333333333333332,
          0.18333333333333332,
          0.18333333333333332,
          0.18666666666666668,
          0.19333333333333333,
          0.19333333333333333,
          0.19333333333333333,
          0.19666666666666666,
          0.19666666666666666,
          0.2,
          0.20666666666666667,
          0.21,
          0.21,
          0.21,
          0.23,
          0.21,
          0.21666666666666667,
          0.22,
          0.22,
          0.22,
          0.22333333333333333,
          0.23666666666666666,
          0.24,
          0.24666666666666667,
          0.26666666666666666,
          0.26666666666666666,
          0.26666666666666666,
          0.26666666666666666,
          0.26666666666666666,
          0.26666666666666666,
          0.2833333333333333,
          0.2833333333333333,
          0.2833333333333333,
          0.2966666666666667,
          0.3,
          0.30333333333333334,
          0.31666666666666665,
          0.31666666666666665,
          0.31666666666666665,
          0.31666666666666665,
          0.31666666666666665,
          0.31666666666666665,
          0.31666666666666665,
          0.31666666666666665,
          0.31666666666666665,
          0.3233333333333333,
          0.41,
          0.41,
          0.41,
          0.41333333333333333,
          0.41333333333333333,
          0.43,
          0.43,
          0.43666666666666665,
          0.43666666666666665,
          0.44,
          0.44,
          0.44,
          0.44,
          0.44,
          0.44,
          0.44,
          0.43,
          0.43,
          0.43333333333333335,
          0.43333333333333335,
          0.43333333333333335,
          0.43333333333333335,
          0.43333333333333335
         ],
         "yaxis": "y2"
        },
        {
         "customdata": [
          [
           0.1977110383909835,
           "EBM",
           "Age"
          ],
          [
           0.1977110383909835,
           "EBM",
           "Age"
          ],
          [
           0.1977110383909835,
           "EBM",
           "Age"
          ],
          [
           0.1977110383909835,
           "EBM",
           "Age"
          ],
          [
           0.1977110383909835,
           "EBM",
           "Age"
          ],
          [
           0.1977110383909835,
           "EBM",
           "Age"
          ],
          [
           0.1977110383909835,
           "EBM",
           "Age"
          ],
          [
           0.1977110383909835,
           "EBM",
           "Age"
          ],
          [
           0.1977110383909835,
           "EBM",
           "Age"
          ],
          [
           0.1977110383909835,
           "EBM",
           "Age"
          ],
          [
           0.1977110383909835,
           "EBM",
           "Age"
          ],
          [
           0.1977110383909835,
           "EBM",
           "Age"
          ],
          [
           0.1977110383909835,
           "EBM",
           "Age"
          ],
          [
           0.1977110383909835,
           "EBM",
           "Age"
          ],
          [
           0.1977110383909835,
           "EBM",
           "Age"
          ],
          [
           0.1977110383909835,
           "EBM",
           "Age"
          ],
          [
           0.1977110383909835,
           "EBM",
           "Age"
          ],
          [
           0.1977110383909835,
           "EBM",
           "Age"
          ],
          [
           0.1977110383909835,
           "EBM",
           "Age"
          ],
          [
           0.1977110383909835,
           "EBM",
           "Age"
          ],
          [
           0.1977110383909835,
           "EBM",
           "Age"
          ],
          [
           0.1977110383909835,
           "EBM",
           "Age"
          ],
          [
           0.1977110383909835,
           "EBM",
           "Age"
          ],
          [
           0.1977110383909835,
           "EBM",
           "Age"
          ],
          [
           0.1977110383909835,
           "EBM",
           "Age"
          ],
          [
           0.1977110383909835,
           "EBM",
           "Age"
          ],
          [
           0.1977110383909835,
           "EBM",
           "Age"
          ],
          [
           0.1977110383909835,
           "EBM",
           "Age"
          ],
          [
           0.1977110383909835,
           "EBM",
           "Age"
          ],
          [
           0.1977110383909835,
           "EBM",
           "Age"
          ],
          [
           0.1977110383909835,
           "EBM",
           "Age"
          ],
          [
           0.1977110383909835,
           "EBM",
           "Age"
          ],
          [
           0.1977110383909835,
           "EBM",
           "Age"
          ],
          [
           0.1977110383909835,
           "EBM",
           "Age"
          ],
          [
           0.1977110383909835,
           "EBM",
           "Age"
          ],
          [
           0.1977110383909835,
           "EBM",
           "Age"
          ],
          [
           0.1977110383909835,
           "EBM",
           "Age"
          ],
          [
           0.1977110383909835,
           "EBM",
           "Age"
          ],
          [
           0.1977110383909835,
           "EBM",
           "Age"
          ],
          [
           0.1977110383909835,
           "EBM",
           "Age"
          ],
          [
           0.1977110383909835,
           "EBM",
           "Age"
          ],
          [
           0.1977110383909835,
           "EBM",
           "Age"
          ],
          [
           0.1977110383909835,
           "EBM",
           "Age"
          ],
          [
           0.1977110383909835,
           "EBM",
           "Age"
          ],
          [
           0.1977110383909835,
           "EBM",
           "Age"
          ],
          [
           0.1977110383909835,
           "EBM",
           "Age"
          ],
          [
           0.1977110383909835,
           "EBM",
           "Age"
          ],
          [
           0.1977110383909835,
           "EBM",
           "Age"
          ],
          [
           0.1977110383909835,
           "EBM",
           "Age"
          ],
          [
           0.1977110383909835,
           "EBM",
           "Age"
          ],
          [
           0.1977110383909835,
           "EBM",
           "Age"
          ],
          [
           0.1977110383909835,
           "EBM",
           "Age"
          ],
          [
           0.1977110383909835,
           "EBM",
           "Age"
          ],
          [
           0.1977110383909835,
           "EBM",
           "Age"
          ],
          [
           0.1977110383909835,
           "EBM",
           "Age"
          ],
          [
           0.1977110383909835,
           "EBM",
           "Age"
          ],
          [
           0.1977110383909835,
           "EBM",
           "Age"
          ],
          [
           0.1977110383909835,
           "EBM",
           "Age"
          ],
          [
           0.1977110383909835,
           "EBM",
           "Age"
          ],
          [
           0.1977110383909835,
           "EBM",
           "Age"
          ],
          [
           0.1977110383909835,
           "EBM",
           "Age"
          ],
          [
           0.1977110383909835,
           "EBM",
           "Age"
          ],
          [
           0.1977110383909835,
           "EBM",
           "Age"
          ],
          [
           0.1977110383909835,
           "EBM",
           "Age"
          ],
          [
           0.1977110383909835,
           "EBM",
           "Age"
          ],
          [
           0.1977110383909835,
           "EBM",
           "Age"
          ],
          [
           0.1977110383909835,
           "EBM",
           "Age"
          ],
          [
           0.1977110383909835,
           "EBM",
           "Age"
          ],
          [
           0.1977110383909835,
           "EBM",
           "Age"
          ],
          [
           0.1977110383909835,
           "EBM",
           "Age"
          ],
          [
           0.1977110383909835,
           "EBM",
           "Age"
          ],
          [
           0.1977110383909835,
           "EBM",
           "Age"
          ],
          [
           0.1977110383909835,
           "EBM",
           "Age"
          ],
          [
           0.1977110383909835,
           "EBM",
           "Age"
          ],
          [
           0.1977110383909835,
           "EBM",
           "Age"
          ],
          [
           0.1977110383909835,
           "EBM",
           "Age"
          ],
          [
           0.1977110383909835,
           "EBM",
           "Age"
          ],
          [
           0.1977110383909835,
           "EBM",
           "Age"
          ],
          [
           0.1977110383909835,
           "EBM",
           "Age"
          ],
          [
           0.1977110383909835,
           "EBM",
           "Age"
          ],
          [
           0.1977110383909835,
           "EBM",
           "Age"
          ],
          [
           0.1977110383909835,
           "EBM",
           "Age"
          ],
          [
           0.1977110383909835,
           "EBM",
           "Age"
          ],
          [
           0.1977110383909835,
           "EBM",
           "Age"
          ],
          [
           0.1977110383909835,
           "EBM",
           "Age"
          ],
          [
           0.1977110383909835,
           "EBM",
           "Age"
          ],
          [
           0.1977110383909835,
           "EBM",
           "Age"
          ],
          [
           0.1977110383909835,
           "EBM",
           "Age"
          ],
          [
           0.1977110383909835,
           "EBM",
           "Age"
          ],
          [
           0.1977110383909835,
           "EBM",
           "Age"
          ],
          [
           0.1977110383909835,
           "EBM",
           "Age"
          ],
          [
           0.1977110383909835,
           "EBM",
           "Age"
          ],
          [
           0.1977110383909835,
           "EBM",
           "Age"
          ],
          [
           0.1977110383909835,
           "EBM",
           "Age"
          ],
          [
           0.1977110383909835,
           "EBM",
           "Age"
          ],
          [
           0.1977110383909835,
           "EBM",
           "Age"
          ],
          [
           0.1977110383909835,
           "EBM",
           "Age"
          ],
          [
           0.1977110383909835,
           "EBM",
           "Age"
          ],
          [
           0.1977110383909835,
           "EBM",
           "Age"
          ],
          [
           0.1977110383909835,
           "EBM",
           "Age"
          ],
          [
           0.1977110383909835,
           "EBM",
           "Age"
          ]
         ],
         "hovertemplate": "<b>%{hovertext}</b><br><br>prediction=%{y:.3f}<br>mean_prediction=%{customdata[0]:.3f}<extra></extra>",
         "hovertext": [
          "EBM",
          "EBM",
          "EBM",
          "EBM",
          "EBM",
          "EBM",
          "EBM",
          "EBM",
          "EBM",
          "EBM",
          "EBM",
          "EBM",
          "EBM",
          "EBM",
          "EBM",
          "EBM",
          "EBM",
          "EBM",
          "EBM",
          "EBM",
          "EBM",
          "EBM",
          "EBM",
          "EBM",
          "EBM",
          "EBM",
          "EBM",
          "EBM",
          "EBM",
          "EBM",
          "EBM",
          "EBM",
          "EBM",
          "EBM",
          "EBM",
          "EBM",
          "EBM",
          "EBM",
          "EBM",
          "EBM",
          "EBM",
          "EBM",
          "EBM",
          "EBM",
          "EBM",
          "EBM",
          "EBM",
          "EBM",
          "EBM",
          "EBM",
          "EBM",
          "EBM",
          "EBM",
          "EBM",
          "EBM",
          "EBM",
          "EBM",
          "EBM",
          "EBM",
          "EBM",
          "EBM",
          "EBM",
          "EBM",
          "EBM",
          "EBM",
          "EBM",
          "EBM",
          "EBM",
          "EBM",
          "EBM",
          "EBM",
          "EBM",
          "EBM",
          "EBM",
          "EBM",
          "EBM",
          "EBM",
          "EBM",
          "EBM",
          "EBM",
          "EBM",
          "EBM",
          "EBM",
          "EBM",
          "EBM",
          "EBM",
          "EBM",
          "EBM",
          "EBM",
          "EBM",
          "EBM",
          "EBM",
          "EBM",
          "EBM",
          "EBM",
          "EBM",
          "EBM",
          "EBM",
          "EBM",
          "EBM",
          "EBM"
         ],
         "legendgroup": "EBM",
         "line": {
          "color": "#f05a71",
          "dash": "solid",
          "width": 2
         },
         "marker": {
          "symbol": "circle"
         },
         "mode": "lines",
         "name": "EBM",
         "opacity": 1,
         "orientation": "v",
         "showlegend": true,
         "type": "scatter",
         "x": [
          17,
          17.73,
          18.46,
          19.19,
          19.92,
          20.65,
          21.38,
          22.11,
          22.84,
          23.57,
          24.3,
          25.03,
          25.759999999999998,
          26.490000000000002,
          27.22,
          27.95,
          28.68,
          29.41,
          30.14,
          30.869999999999997,
          31.6,
          32.33,
          33.06,
          33.79,
          34.519999999999996,
          35.25,
          35.980000000000004,
          36.71,
          37.44,
          38.17,
          38.9,
          39.629999999999995,
          40.36,
          41.09,
          41.82,
          42.55,
          43.28,
          44.01,
          44.739999999999995,
          45.47,
          46.2,
          46.93,
          47.66,
          48.39,
          49.12,
          49.85,
          50.58,
          51.31,
          52.04,
          52.769999999999996,
          53.5,
          54.23,
          54.96,
          55.69,
          56.42,
          57.15,
          57.879999999999995,
          58.61,
          59.339999999999996,
          60.07,
          60.8,
          61.53,
          62.26,
          62.99,
          63.72,
          64.44999999999999,
          65.18,
          65.91,
          66.64,
          67.37,
          68.1,
          68.83,
          69.56,
          70.28999999999999,
          71.02,
          71.75,
          72.47999999999999,
          73.21000000000001,
          73.94,
          74.67,
          75.4,
          76.13,
          76.86,
          77.59,
          78.32,
          79.05,
          79.78,
          80.50999999999999,
          81.24,
          81.97,
          82.7,
          83.42999999999999,
          84.16,
          84.89,
          85.62,
          86.35,
          87.08,
          87.81,
          88.53999999999999,
          89.27,
          90
         ],
         "xaxis": "x5",
         "y": [
          0.1472466293931207,
          0.1472466293931207,
          0.1472466293931207,
          0.1472466293931207,
          0.1462550737258622,
          0.1462550737258622,
          0.1462550737258622,
          0.14624155648755724,
          0.14624155648755724,
          0.14673451279885374,
          0.14673451279885374,
          0.14673451279885374,
          0.14909602598093977,
          0.14909602598093977,
          0.15315686411022747,
          0.1536813132868817,
          0.15385925426878944,
          0.15385925426878944,
          0.15455075713843383,
          0.16010457870545006,
          0.16039045743883254,
          0.16039045743883254,
          0.16535986877346112,
          0.16835127024805374,
          0.1683683838172386,
          0.1683683838172386,
          0.16977234713334144,
          0.17204990025500463,
          0.17204990025500463,
          0.17244819315289625,
          0.1783132936739996,
          0.17825070812208793,
          0.17825070812208793,
          0.1823868265001596,
          0.1831517118691737,
          0.1872031800730866,
          0.1872031800730866,
          0.18900013899437204,
          0.1930025772435238,
          0.1930025772435238,
          0.19368626494312086,
          0.19749336793908076,
          0.19906491934525677,
          0.19906491934525677,
          0.19977932052280717,
          0.2047820099610559,
          0.20652284261802784,
          0.20652284261802784,
          0.21185407314693092,
          0.21198128670010624,
          0.22072960315172363,
          0.22072960315172363,
          0.22079894319390922,
          0.2207033963878768,
          0.2207033963878768,
          0.2248622743891679,
          0.22888802452376136,
          0.22971940535595134,
          0.22971940535595134,
          0.2304800489278069,
          0.23847215729510376,
          0.24033129931883826,
          0.24033129931883826,
          0.24033129931883826,
          0.24263121409339258,
          0.24263121409339258,
          0.24345224866124293,
          0.24345224866124293,
          0.2445276552984571,
          0.2445276552984571,
          0.2445276552984571,
          0.24617322733974353,
          0.2476932083433699,
          0.2476932083433699,
          0.26164469182454014,
          0.2626417535368698,
          0.2626417535368698,
          0.2626417535368698,
          0.2626417535368698,
          0.2626417535368698,
          0.2626417535368698,
          0.2626417535368698,
          0.2626417535368698,
          0.2626417535368698,
          0.2626417535368698,
          0.3048643755080899,
          0.3048643755080899,
          0.3085411051928048,
          0.3085411051928048,
          0.3085411051928048,
          0.3085411051928048,
          0.3085411051928048,
          0.3085411051928048,
          0.3085411051928048,
          0.3085411051928048,
          0.3085411051928048,
          0.3085411051928048,
          0.3085411051928048,
          0.3085411051928048,
          0.33511236212709133,
          0.33511236212709133
         ],
         "yaxis": "y5"
        },
        {
         "customdata": [
          [
           0.1977110383909835,
           "EBM",
           "fnlwgt"
          ],
          [
           0.1977110383909835,
           "EBM",
           "fnlwgt"
          ],
          [
           0.1977110383909835,
           "EBM",
           "fnlwgt"
          ],
          [
           0.1977110383909835,
           "EBM",
           "fnlwgt"
          ],
          [
           0.1977110383909835,
           "EBM",
           "fnlwgt"
          ],
          [
           0.1977110383909835,
           "EBM",
           "fnlwgt"
          ],
          [
           0.1977110383909835,
           "EBM",
           "fnlwgt"
          ],
          [
           0.1977110383909835,
           "EBM",
           "fnlwgt"
          ],
          [
           0.1977110383909835,
           "EBM",
           "fnlwgt"
          ],
          [
           0.1977110383909835,
           "EBM",
           "fnlwgt"
          ],
          [
           0.1977110383909835,
           "EBM",
           "fnlwgt"
          ],
          [
           0.1977110383909835,
           "EBM",
           "fnlwgt"
          ],
          [
           0.1977110383909835,
           "EBM",
           "fnlwgt"
          ],
          [
           0.1977110383909835,
           "EBM",
           "fnlwgt"
          ],
          [
           0.1977110383909835,
           "EBM",
           "fnlwgt"
          ],
          [
           0.1977110383909835,
           "EBM",
           "fnlwgt"
          ],
          [
           0.1977110383909835,
           "EBM",
           "fnlwgt"
          ],
          [
           0.1977110383909835,
           "EBM",
           "fnlwgt"
          ],
          [
           0.1977110383909835,
           "EBM",
           "fnlwgt"
          ],
          [
           0.1977110383909835,
           "EBM",
           "fnlwgt"
          ],
          [
           0.1977110383909835,
           "EBM",
           "fnlwgt"
          ],
          [
           0.1977110383909835,
           "EBM",
           "fnlwgt"
          ],
          [
           0.1977110383909835,
           "EBM",
           "fnlwgt"
          ],
          [
           0.1977110383909835,
           "EBM",
           "fnlwgt"
          ],
          [
           0.1977110383909835,
           "EBM",
           "fnlwgt"
          ],
          [
           0.1977110383909835,
           "EBM",
           "fnlwgt"
          ],
          [
           0.1977110383909835,
           "EBM",
           "fnlwgt"
          ],
          [
           0.1977110383909835,
           "EBM",
           "fnlwgt"
          ],
          [
           0.1977110383909835,
           "EBM",
           "fnlwgt"
          ],
          [
           0.1977110383909835,
           "EBM",
           "fnlwgt"
          ],
          [
           0.1977110383909835,
           "EBM",
           "fnlwgt"
          ],
          [
           0.1977110383909835,
           "EBM",
           "fnlwgt"
          ],
          [
           0.1977110383909835,
           "EBM",
           "fnlwgt"
          ],
          [
           0.1977110383909835,
           "EBM",
           "fnlwgt"
          ],
          [
           0.1977110383909835,
           "EBM",
           "fnlwgt"
          ],
          [
           0.1977110383909835,
           "EBM",
           "fnlwgt"
          ],
          [
           0.1977110383909835,
           "EBM",
           "fnlwgt"
          ],
          [
           0.1977110383909835,
           "EBM",
           "fnlwgt"
          ],
          [
           0.1977110383909835,
           "EBM",
           "fnlwgt"
          ],
          [
           0.1977110383909835,
           "EBM",
           "fnlwgt"
          ],
          [
           0.1977110383909835,
           "EBM",
           "fnlwgt"
          ],
          [
           0.1977110383909835,
           "EBM",
           "fnlwgt"
          ],
          [
           0.1977110383909835,
           "EBM",
           "fnlwgt"
          ],
          [
           0.1977110383909835,
           "EBM",
           "fnlwgt"
          ],
          [
           0.1977110383909835,
           "EBM",
           "fnlwgt"
          ],
          [
           0.1977110383909835,
           "EBM",
           "fnlwgt"
          ],
          [
           0.1977110383909835,
           "EBM",
           "fnlwgt"
          ],
          [
           0.1977110383909835,
           "EBM",
           "fnlwgt"
          ],
          [
           0.1977110383909835,
           "EBM",
           "fnlwgt"
          ],
          [
           0.1977110383909835,
           "EBM",
           "fnlwgt"
          ],
          [
           0.1977110383909835,
           "EBM",
           "fnlwgt"
          ],
          [
           0.1977110383909835,
           "EBM",
           "fnlwgt"
          ],
          [
           0.1977110383909835,
           "EBM",
           "fnlwgt"
          ],
          [
           0.1977110383909835,
           "EBM",
           "fnlwgt"
          ],
          [
           0.1977110383909835,
           "EBM",
           "fnlwgt"
          ],
          [
           0.1977110383909835,
           "EBM",
           "fnlwgt"
          ],
          [
           0.1977110383909835,
           "EBM",
           "fnlwgt"
          ],
          [
           0.1977110383909835,
           "EBM",
           "fnlwgt"
          ],
          [
           0.1977110383909835,
           "EBM",
           "fnlwgt"
          ],
          [
           0.1977110383909835,
           "EBM",
           "fnlwgt"
          ],
          [
           0.1977110383909835,
           "EBM",
           "fnlwgt"
          ],
          [
           0.1977110383909835,
           "EBM",
           "fnlwgt"
          ],
          [
           0.1977110383909835,
           "EBM",
           "fnlwgt"
          ],
          [
           0.1977110383909835,
           "EBM",
           "fnlwgt"
          ],
          [
           0.1977110383909835,
           "EBM",
           "fnlwgt"
          ],
          [
           0.1977110383909835,
           "EBM",
           "fnlwgt"
          ],
          [
           0.1977110383909835,
           "EBM",
           "fnlwgt"
          ],
          [
           0.1977110383909835,
           "EBM",
           "fnlwgt"
          ],
          [
           0.1977110383909835,
           "EBM",
           "fnlwgt"
          ],
          [
           0.1977110383909835,
           "EBM",
           "fnlwgt"
          ],
          [
           0.1977110383909835,
           "EBM",
           "fnlwgt"
          ],
          [
           0.1977110383909835,
           "EBM",
           "fnlwgt"
          ],
          [
           0.1977110383909835,
           "EBM",
           "fnlwgt"
          ],
          [
           0.1977110383909835,
           "EBM",
           "fnlwgt"
          ],
          [
           0.1977110383909835,
           "EBM",
           "fnlwgt"
          ],
          [
           0.1977110383909835,
           "EBM",
           "fnlwgt"
          ],
          [
           0.1977110383909835,
           "EBM",
           "fnlwgt"
          ],
          [
           0.1977110383909835,
           "EBM",
           "fnlwgt"
          ],
          [
           0.1977110383909835,
           "EBM",
           "fnlwgt"
          ],
          [
           0.1977110383909835,
           "EBM",
           "fnlwgt"
          ],
          [
           0.1977110383909835,
           "EBM",
           "fnlwgt"
          ],
          [
           0.1977110383909835,
           "EBM",
           "fnlwgt"
          ],
          [
           0.1977110383909835,
           "EBM",
           "fnlwgt"
          ],
          [
           0.1977110383909835,
           "EBM",
           "fnlwgt"
          ],
          [
           0.1977110383909835,
           "EBM",
           "fnlwgt"
          ],
          [
           0.1977110383909835,
           "EBM",
           "fnlwgt"
          ],
          [
           0.1977110383909835,
           "EBM",
           "fnlwgt"
          ],
          [
           0.1977110383909835,
           "EBM",
           "fnlwgt"
          ],
          [
           0.1977110383909835,
           "EBM",
           "fnlwgt"
          ],
          [
           0.1977110383909835,
           "EBM",
           "fnlwgt"
          ],
          [
           0.1977110383909835,
           "EBM",
           "fnlwgt"
          ],
          [
           0.1977110383909835,
           "EBM",
           "fnlwgt"
          ],
          [
           0.1977110383909835,
           "EBM",
           "fnlwgt"
          ],
          [
           0.1977110383909835,
           "EBM",
           "fnlwgt"
          ],
          [
           0.1977110383909835,
           "EBM",
           "fnlwgt"
          ],
          [
           0.1977110383909835,
           "EBM",
           "fnlwgt"
          ],
          [
           0.1977110383909835,
           "EBM",
           "fnlwgt"
          ],
          [
           0.1977110383909835,
           "EBM",
           "fnlwgt"
          ],
          [
           0.1977110383909835,
           "EBM",
           "fnlwgt"
          ],
          [
           0.1977110383909835,
           "EBM",
           "fnlwgt"
          ],
          [
           0.1977110383909835,
           "EBM",
           "fnlwgt"
          ]
         ],
         "hovertemplate": "<b>%{hovertext}</b><br><br>prediction=%{y:.3f}<br>mean_prediction=%{customdata[0]:.3f}<extra></extra>",
         "hovertext": [
          "EBM",
          "EBM",
          "EBM",
          "EBM",
          "EBM",
          "EBM",
          "EBM",
          "EBM",
          "EBM",
          "EBM",
          "EBM",
          "EBM",
          "EBM",
          "EBM",
          "EBM",
          "EBM",
          "EBM",
          "EBM",
          "EBM",
          "EBM",
          "EBM",
          "EBM",
          "EBM",
          "EBM",
          "EBM",
          "EBM",
          "EBM",
          "EBM",
          "EBM",
          "EBM",
          "EBM",
          "EBM",
          "EBM",
          "EBM",
          "EBM",
          "EBM",
          "EBM",
          "EBM",
          "EBM",
          "EBM",
          "EBM",
          "EBM",
          "EBM",
          "EBM",
          "EBM",
          "EBM",
          "EBM",
          "EBM",
          "EBM",
          "EBM",
          "EBM",
          "EBM",
          "EBM",
          "EBM",
          "EBM",
          "EBM",
          "EBM",
          "EBM",
          "EBM",
          "EBM",
          "EBM",
          "EBM",
          "EBM",
          "EBM",
          "EBM",
          "EBM",
          "EBM",
          "EBM",
          "EBM",
          "EBM",
          "EBM",
          "EBM",
          "EBM",
          "EBM",
          "EBM",
          "EBM",
          "EBM",
          "EBM",
          "EBM",
          "EBM",
          "EBM",
          "EBM",
          "EBM",
          "EBM",
          "EBM",
          "EBM",
          "EBM",
          "EBM",
          "EBM",
          "EBM",
          "EBM",
          "EBM",
          "EBM",
          "EBM",
          "EBM",
          "EBM",
          "EBM",
          "EBM",
          "EBM",
          "EBM",
          "EBM"
         ],
         "legendgroup": "EBM",
         "line": {
          "color": "#f05a71",
          "dash": "solid",
          "width": 2
         },
         "marker": {
          "symbol": "circle"
         },
         "mode": "lines",
         "name": "EBM",
         "opacity": 1,
         "orientation": "v",
         "showlegend": false,
         "type": "scatter",
         "x": [
          12285,
          27009.2,
          41733.4,
          56457.600000000006,
          71181.8,
          85906,
          100630.20000000001,
          115354.40000000001,
          130078.6,
          144802.80000000002,
          159527,
          174251.2,
          188975.40000000002,
          203699.6,
          218423.80000000002,
          233148,
          247872.2,
          262596.4,
          277320.60000000003,
          292044.8,
          306769,
          321493.2,
          336217.4,
          350941.60000000003,
          365665.80000000005,
          380390,
          395114.2,
          409838.4,
          424562.60000000003,
          439286.80000000005,
          454011,
          468735.2,
          483459.4,
          498183.60000000003,
          512907.80000000005,
          527632,
          542356.2000000001,
          557080.4,
          571804.6,
          586528.8,
          601253,
          615977.2000000001,
          630701.4,
          645425.6,
          660149.8,
          674874,
          689598.2000000001,
          704322.4,
          719046.6000000001,
          733770.8,
          748495,
          763219.2000000001,
          777943.4,
          792667.6000000001,
          807391.8,
          822116,
          836840.2000000001,
          851564.4,
          866288.6000000001,
          881012.8,
          895737,
          910461.2000000001,
          925185.4,
          939909.6000000001,
          954633.8,
          969358,
          984082.2000000001,
          998806.4,
          1013530.6000000001,
          1028254.8,
          1042979,
          1057703.2000000002,
          1072427.4000000001,
          1087151.6,
          1101875.8,
          1116600,
          1131324.2,
          1146048.4000000001,
          1160772.6,
          1175496.8,
          1190221,
          1204945.2,
          1219669.4000000001,
          1234393.6,
          1249117.8,
          1263842,
          1278566.2,
          1293290.4000000001,
          1308014.6,
          1322738.8,
          1337463,
          1352187.2,
          1366911.4000000001,
          1381635.6,
          1396359.8,
          1411084,
          1425808.2000000002,
          1440532.4000000001,
          1455256.6,
          1469980.8,
          1484705
         ],
         "xaxis": "x6",
         "y": [
          0.186033089917564,
          0.18562534831561617,
          0.18409055394601498,
          0.18633086538643476,
          0.19315546063809758,
          0.19061241936532228,
          0.1846830566693073,
          0.19012597354283733,
          0.19650242744180954,
          0.19599313703116997,
          0.19626250826344688,
          0.1964293177904439,
          0.19595819406947695,
          0.2008191937424229,
          0.2015811021858077,
          0.19993044576970367,
          0.20250676903396383,
          0.19976074179604,
          0.20427567477677802,
          0.19898153120204937,
          0.20871943445865876,
          0.206469805457616,
          0.2041142613664581,
          0.20995505631088807,
          0.20546631974349444,
          0.2060695899771714,
          0.2060403049287475,
          0.20323635928526365,
          0.20608973081131018,
          0.20300714869456282,
          0.21242449288953413,
          0.21242449288953413,
          0.21246706842573126,
          0.21306502116401796,
          0.21306502116401796,
          0.21306502116401796,
          0.2135041341790091,
          0.2135041341790091,
          0.2135041341790091,
          0.2135041341790091,
          0.2135041341790091,
          0.2236344244364562,
          0.2236344244364562,
          0.2236344244364562,
          0.2236344244364562,
          0.2236344244364562,
          0.2236344244364562,
          0.2236344244364562,
          0.2236344244364562,
          0.2236344244364562,
          0.2236344244364562,
          0.2236344244364562,
          0.2236344244364562,
          0.2236344244364562,
          0.2236344244364562,
          0.2236344244364562,
          0.2236344244364562,
          0.2236344244364562,
          0.2236344244364562,
          0.2236344244364562,
          0.2236344244364562,
          0.2236344244364562,
          0.2236344244364562,
          0.2236344244364562,
          0.2236344244364562,
          0.2236344244364562,
          0.2236344244364562,
          0.2236344244364562,
          0.2236344244364562,
          0.2236344244364562,
          0.2236344244364562,
          0.2236344244364562,
          0.2236344244364562,
          0.2236344244364562,
          0.2236344244364562,
          0.2236344244364562,
          0.2236344244364562,
          0.2236344244364562,
          0.2236344244364562,
          0.2236344244364562,
          0.2236344244364562,
          0.2236344244364562,
          0.2236344244364562,
          0.2236344244364562,
          0.2236344244364562,
          0.2236344244364562,
          0.2236344244364562,
          0.2236344244364562,
          0.2236344244364562,
          0.2236344244364562,
          0.2236344244364562,
          0.2236344244364562,
          0.2236344244364562,
          0.2236344244364562,
          0.2236344244364562,
          0.2236344244364562,
          0.2236344244364562,
          0.2236344244364562,
          0.2236344244364562,
          0.2236344244364562,
          0.2236344244364562
         ],
         "yaxis": "y6"
        },
        {
         "customdata": [
          [
           0.1977110383909835,
           "EBM",
           "EducationNum"
          ],
          [
           0.1977110383909835,
           "EBM",
           "EducationNum"
          ],
          [
           0.1977110383909835,
           "EBM",
           "EducationNum"
          ],
          [
           0.1977110383909835,
           "EBM",
           "EducationNum"
          ],
          [
           0.1977110383909835,
           "EBM",
           "EducationNum"
          ],
          [
           0.1977110383909835,
           "EBM",
           "EducationNum"
          ],
          [
           0.1977110383909835,
           "EBM",
           "EducationNum"
          ],
          [
           0.1977110383909835,
           "EBM",
           "EducationNum"
          ],
          [
           0.1977110383909835,
           "EBM",
           "EducationNum"
          ],
          [
           0.1977110383909835,
           "EBM",
           "EducationNum"
          ],
          [
           0.1977110383909835,
           "EBM",
           "EducationNum"
          ],
          [
           0.1977110383909835,
           "EBM",
           "EducationNum"
          ],
          [
           0.1977110383909835,
           "EBM",
           "EducationNum"
          ],
          [
           0.1977110383909835,
           "EBM",
           "EducationNum"
          ],
          [
           0.1977110383909835,
           "EBM",
           "EducationNum"
          ],
          [
           0.1977110383909835,
           "EBM",
           "EducationNum"
          ],
          [
           0.1977110383909835,
           "EBM",
           "EducationNum"
          ],
          [
           0.1977110383909835,
           "EBM",
           "EducationNum"
          ],
          [
           0.1977110383909835,
           "EBM",
           "EducationNum"
          ],
          [
           0.1977110383909835,
           "EBM",
           "EducationNum"
          ],
          [
           0.1977110383909835,
           "EBM",
           "EducationNum"
          ],
          [
           0.1977110383909835,
           "EBM",
           "EducationNum"
          ],
          [
           0.1977110383909835,
           "EBM",
           "EducationNum"
          ],
          [
           0.1977110383909835,
           "EBM",
           "EducationNum"
          ],
          [
           0.1977110383909835,
           "EBM",
           "EducationNum"
          ],
          [
           0.1977110383909835,
           "EBM",
           "EducationNum"
          ],
          [
           0.1977110383909835,
           "EBM",
           "EducationNum"
          ],
          [
           0.1977110383909835,
           "EBM",
           "EducationNum"
          ],
          [
           0.1977110383909835,
           "EBM",
           "EducationNum"
          ],
          [
           0.1977110383909835,
           "EBM",
           "EducationNum"
          ],
          [
           0.1977110383909835,
           "EBM",
           "EducationNum"
          ],
          [
           0.1977110383909835,
           "EBM",
           "EducationNum"
          ],
          [
           0.1977110383909835,
           "EBM",
           "EducationNum"
          ],
          [
           0.1977110383909835,
           "EBM",
           "EducationNum"
          ],
          [
           0.1977110383909835,
           "EBM",
           "EducationNum"
          ],
          [
           0.1977110383909835,
           "EBM",
           "EducationNum"
          ],
          [
           0.1977110383909835,
           "EBM",
           "EducationNum"
          ],
          [
           0.1977110383909835,
           "EBM",
           "EducationNum"
          ],
          [
           0.1977110383909835,
           "EBM",
           "EducationNum"
          ],
          [
           0.1977110383909835,
           "EBM",
           "EducationNum"
          ],
          [
           0.1977110383909835,
           "EBM",
           "EducationNum"
          ],
          [
           0.1977110383909835,
           "EBM",
           "EducationNum"
          ],
          [
           0.1977110383909835,
           "EBM",
           "EducationNum"
          ],
          [
           0.1977110383909835,
           "EBM",
           "EducationNum"
          ],
          [
           0.1977110383909835,
           "EBM",
           "EducationNum"
          ],
          [
           0.1977110383909835,
           "EBM",
           "EducationNum"
          ],
          [
           0.1977110383909835,
           "EBM",
           "EducationNum"
          ],
          [
           0.1977110383909835,
           "EBM",
           "EducationNum"
          ],
          [
           0.1977110383909835,
           "EBM",
           "EducationNum"
          ],
          [
           0.1977110383909835,
           "EBM",
           "EducationNum"
          ],
          [
           0.1977110383909835,
           "EBM",
           "EducationNum"
          ],
          [
           0.1977110383909835,
           "EBM",
           "EducationNum"
          ],
          [
           0.1977110383909835,
           "EBM",
           "EducationNum"
          ],
          [
           0.1977110383909835,
           "EBM",
           "EducationNum"
          ],
          [
           0.1977110383909835,
           "EBM",
           "EducationNum"
          ],
          [
           0.1977110383909835,
           "EBM",
           "EducationNum"
          ],
          [
           0.1977110383909835,
           "EBM",
           "EducationNum"
          ],
          [
           0.1977110383909835,
           "EBM",
           "EducationNum"
          ],
          [
           0.1977110383909835,
           "EBM",
           "EducationNum"
          ],
          [
           0.1977110383909835,
           "EBM",
           "EducationNum"
          ],
          [
           0.1977110383909835,
           "EBM",
           "EducationNum"
          ],
          [
           0.1977110383909835,
           "EBM",
           "EducationNum"
          ],
          [
           0.1977110383909835,
           "EBM",
           "EducationNum"
          ],
          [
           0.1977110383909835,
           "EBM",
           "EducationNum"
          ],
          [
           0.1977110383909835,
           "EBM",
           "EducationNum"
          ],
          [
           0.1977110383909835,
           "EBM",
           "EducationNum"
          ],
          [
           0.1977110383909835,
           "EBM",
           "EducationNum"
          ],
          [
           0.1977110383909835,
           "EBM",
           "EducationNum"
          ],
          [
           0.1977110383909835,
           "EBM",
           "EducationNum"
          ],
          [
           0.1977110383909835,
           "EBM",
           "EducationNum"
          ],
          [
           0.1977110383909835,
           "EBM",
           "EducationNum"
          ],
          [
           0.1977110383909835,
           "EBM",
           "EducationNum"
          ],
          [
           0.1977110383909835,
           "EBM",
           "EducationNum"
          ],
          [
           0.1977110383909835,
           "EBM",
           "EducationNum"
          ],
          [
           0.1977110383909835,
           "EBM",
           "EducationNum"
          ],
          [
           0.1977110383909835,
           "EBM",
           "EducationNum"
          ],
          [
           0.1977110383909835,
           "EBM",
           "EducationNum"
          ],
          [
           0.1977110383909835,
           "EBM",
           "EducationNum"
          ],
          [
           0.1977110383909835,
           "EBM",
           "EducationNum"
          ],
          [
           0.1977110383909835,
           "EBM",
           "EducationNum"
          ],
          [
           0.1977110383909835,
           "EBM",
           "EducationNum"
          ],
          [
           0.1977110383909835,
           "EBM",
           "EducationNum"
          ],
          [
           0.1977110383909835,
           "EBM",
           "EducationNum"
          ],
          [
           0.1977110383909835,
           "EBM",
           "EducationNum"
          ],
          [
           0.1977110383909835,
           "EBM",
           "EducationNum"
          ],
          [
           0.1977110383909835,
           "EBM",
           "EducationNum"
          ],
          [
           0.1977110383909835,
           "EBM",
           "EducationNum"
          ],
          [
           0.1977110383909835,
           "EBM",
           "EducationNum"
          ],
          [
           0.1977110383909835,
           "EBM",
           "EducationNum"
          ],
          [
           0.1977110383909835,
           "EBM",
           "EducationNum"
          ],
          [
           0.1977110383909835,
           "EBM",
           "EducationNum"
          ],
          [
           0.1977110383909835,
           "EBM",
           "EducationNum"
          ],
          [
           0.1977110383909835,
           "EBM",
           "EducationNum"
          ],
          [
           0.1977110383909835,
           "EBM",
           "EducationNum"
          ],
          [
           0.1977110383909835,
           "EBM",
           "EducationNum"
          ],
          [
           0.1977110383909835,
           "EBM",
           "EducationNum"
          ],
          [
           0.1977110383909835,
           "EBM",
           "EducationNum"
          ],
          [
           0.1977110383909835,
           "EBM",
           "EducationNum"
          ],
          [
           0.1977110383909835,
           "EBM",
           "EducationNum"
          ],
          [
           0.1977110383909835,
           "EBM",
           "EducationNum"
          ],
          [
           0.1977110383909835,
           "EBM",
           "EducationNum"
          ]
         ],
         "hovertemplate": "<b>%{hovertext}</b><br><br>prediction=%{y:.3f}<br>mean_prediction=%{customdata[0]:.3f}<extra></extra>",
         "hovertext": [
          "EBM",
          "EBM",
          "EBM",
          "EBM",
          "EBM",
          "EBM",
          "EBM",
          "EBM",
          "EBM",
          "EBM",
          "EBM",
          "EBM",
          "EBM",
          "EBM",
          "EBM",
          "EBM",
          "EBM",
          "EBM",
          "EBM",
          "EBM",
          "EBM",
          "EBM",
          "EBM",
          "EBM",
          "EBM",
          "EBM",
          "EBM",
          "EBM",
          "EBM",
          "EBM",
          "EBM",
          "EBM",
          "EBM",
          "EBM",
          "EBM",
          "EBM",
          "EBM",
          "EBM",
          "EBM",
          "EBM",
          "EBM",
          "EBM",
          "EBM",
          "EBM",
          "EBM",
          "EBM",
          "EBM",
          "EBM",
          "EBM",
          "EBM",
          "EBM",
          "EBM",
          "EBM",
          "EBM",
          "EBM",
          "EBM",
          "EBM",
          "EBM",
          "EBM",
          "EBM",
          "EBM",
          "EBM",
          "EBM",
          "EBM",
          "EBM",
          "EBM",
          "EBM",
          "EBM",
          "EBM",
          "EBM",
          "EBM",
          "EBM",
          "EBM",
          "EBM",
          "EBM",
          "EBM",
          "EBM",
          "EBM",
          "EBM",
          "EBM",
          "EBM",
          "EBM",
          "EBM",
          "EBM",
          "EBM",
          "EBM",
          "EBM",
          "EBM",
          "EBM",
          "EBM",
          "EBM",
          "EBM",
          "EBM",
          "EBM",
          "EBM",
          "EBM",
          "EBM",
          "EBM",
          "EBM",
          "EBM",
          "EBM"
         ],
         "legendgroup": "EBM",
         "line": {
          "color": "#f05a71",
          "dash": "solid",
          "width": 2
         },
         "marker": {
          "symbol": "circle"
         },
         "mode": "lines",
         "name": "EBM",
         "opacity": 1,
         "orientation": "v",
         "showlegend": false,
         "type": "scatter",
         "x": [
          1,
          1.15,
          1.3,
          1.45,
          1.6,
          1.75,
          1.9,
          2.05,
          2.2,
          2.3499999999999996,
          2.5,
          2.65,
          2.8,
          2.95,
          3.1,
          3.25,
          3.4,
          3.55,
          3.6999999999999997,
          3.85,
          4,
          4.15,
          4.3,
          4.449999999999999,
          4.6,
          4.75,
          4.9,
          5.05,
          5.2,
          5.35,
          5.5,
          5.6499999999999995,
          5.8,
          5.95,
          6.1,
          6.25,
          6.3999999999999995,
          6.55,
          6.7,
          6.85,
          7,
          7.1499999999999995,
          7.3,
          7.45,
          7.6,
          7.75,
          7.8999999999999995,
          8.05,
          8.2,
          8.35,
          8.5,
          8.649999999999999,
          8.8,
          8.95,
          9.1,
          9.25,
          9.4,
          9.549999999999999,
          9.7,
          9.85,
          10,
          10.15,
          10.299999999999999,
          10.45,
          10.6,
          10.75,
          10.9,
          11.049999999999999,
          11.2,
          11.35,
          11.5,
          11.65,
          11.799999999999999,
          11.95,
          12.1,
          12.25,
          12.4,
          12.549999999999999,
          12.7,
          12.85,
          13,
          13.15,
          13.299999999999999,
          13.45,
          13.6,
          13.75,
          13.9,
          14.049999999999999,
          14.2,
          14.35,
          14.5,
          14.65,
          14.799999999999999,
          14.95,
          15.1,
          15.25,
          15.399999999999999,
          15.549999999999999,
          15.7,
          15.85,
          16
         ],
         "xaxis": "x3",
         "y": [
          0.16091774586142724,
          0.16091774586142724,
          0.16091774586142724,
          0.16091774586142724,
          0.1613330723588574,
          0.1613330723588574,
          0.1613330723588574,
          0.1613330723588574,
          0.1613330723588574,
          0.1613330723588574,
          0.1613330723588574,
          0.1613330723588574,
          0.1613330723588574,
          0.1613330723588574,
          0.1613330723588574,
          0.1613330723588574,
          0.1613330723588574,
          0.16133222460884794,
          0.16133222460884794,
          0.16133222460884794,
          0.16133222460884794,
          0.16133222460884794,
          0.16133222460884794,
          0.16133222460884794,
          0.16133222460884794,
          0.16133222460884794,
          0.16133222460884794,
          0.16133222460884794,
          0.16133222460884794,
          0.16133222460884794,
          0.16133222460884794,
          0.16133222460884794,
          0.16133222460884794,
          0.16133222460884794,
          0.16133222460884794,
          0.16133222460884794,
          0.16133222460884794,
          0.16133430021366849,
          0.16133430021366849,
          0.16133430021366849,
          0.16133430021366849,
          0.16133430021366849,
          0.16133430021366849,
          0.16133430021366849,
          0.1627747322209936,
          0.1627747322209936,
          0.1627747322209936,
          0.1627747322209936,
          0.1627747322209936,
          0.1627747322209936,
          0.1638573307920609,
          0.1638573307920609,
          0.1638573307920609,
          0.1638573307920609,
          0.1638573307920609,
          0.1638573307920609,
          0.1638573307920609,
          0.17269169944315305,
          0.17269169944315305,
          0.17269169944315305,
          0.17269169944315305,
          0.17269169944315305,
          0.17269169944315305,
          0.17269169944315305,
          0.17644421001306,
          0.17644421001306,
          0.17644421001306,
          0.17644421001306,
          0.17644421001306,
          0.17644421001306,
          0.176567758173378,
          0.176567758173378,
          0.176567758173378,
          0.176567758173378,
          0.176567758173378,
          0.176567758173378,
          0.176567758173378,
          0.21850316967926636,
          0.21850316967926636,
          0.21850316967926636,
          0.21850316967926636,
          0.21850316967926636,
          0.21850316967926636,
          0.21850316967926636,
          0.23274497954694978,
          0.23274497954694978,
          0.23274497954694978,
          0.23274497954694978,
          0.23274497954694978,
          0.23274497954694978,
          0.25510551125179465,
          0.25510551125179465,
          0.25510551125179465,
          0.25510551125179465,
          0.25510551125179465,
          0.25510551125179465,
          0.25510551125179465,
          0.255182048415558,
          0.255182048415558,
          0.255182048415558,
          0.255182048415558
         ],
         "yaxis": "y3"
        },
        {
         "customdata": [
          [
           0.1977110383909835,
           "EBM",
           "CapitalGain"
          ],
          [
           0.1977110383909835,
           "EBM",
           "CapitalGain"
          ],
          [
           0.1977110383909835,
           "EBM",
           "CapitalGain"
          ],
          [
           0.1977110383909835,
           "EBM",
           "CapitalGain"
          ],
          [
           0.1977110383909835,
           "EBM",
           "CapitalGain"
          ],
          [
           0.1977110383909835,
           "EBM",
           "CapitalGain"
          ],
          [
           0.1977110383909835,
           "EBM",
           "CapitalGain"
          ],
          [
           0.1977110383909835,
           "EBM",
           "CapitalGain"
          ],
          [
           0.1977110383909835,
           "EBM",
           "CapitalGain"
          ],
          [
           0.1977110383909835,
           "EBM",
           "CapitalGain"
          ],
          [
           0.1977110383909835,
           "EBM",
           "CapitalGain"
          ],
          [
           0.1977110383909835,
           "EBM",
           "CapitalGain"
          ],
          [
           0.1977110383909835,
           "EBM",
           "CapitalGain"
          ],
          [
           0.1977110383909835,
           "EBM",
           "CapitalGain"
          ],
          [
           0.1977110383909835,
           "EBM",
           "CapitalGain"
          ],
          [
           0.1977110383909835,
           "EBM",
           "CapitalGain"
          ],
          [
           0.1977110383909835,
           "EBM",
           "CapitalGain"
          ],
          [
           0.1977110383909835,
           "EBM",
           "CapitalGain"
          ],
          [
           0.1977110383909835,
           "EBM",
           "CapitalGain"
          ],
          [
           0.1977110383909835,
           "EBM",
           "CapitalGain"
          ],
          [
           0.1977110383909835,
           "EBM",
           "CapitalGain"
          ],
          [
           0.1977110383909835,
           "EBM",
           "CapitalGain"
          ],
          [
           0.1977110383909835,
           "EBM",
           "CapitalGain"
          ],
          [
           0.1977110383909835,
           "EBM",
           "CapitalGain"
          ],
          [
           0.1977110383909835,
           "EBM",
           "CapitalGain"
          ],
          [
           0.1977110383909835,
           "EBM",
           "CapitalGain"
          ],
          [
           0.1977110383909835,
           "EBM",
           "CapitalGain"
          ],
          [
           0.1977110383909835,
           "EBM",
           "CapitalGain"
          ],
          [
           0.1977110383909835,
           "EBM",
           "CapitalGain"
          ],
          [
           0.1977110383909835,
           "EBM",
           "CapitalGain"
          ],
          [
           0.1977110383909835,
           "EBM",
           "CapitalGain"
          ],
          [
           0.1977110383909835,
           "EBM",
           "CapitalGain"
          ],
          [
           0.1977110383909835,
           "EBM",
           "CapitalGain"
          ],
          [
           0.1977110383909835,
           "EBM",
           "CapitalGain"
          ],
          [
           0.1977110383909835,
           "EBM",
           "CapitalGain"
          ],
          [
           0.1977110383909835,
           "EBM",
           "CapitalGain"
          ],
          [
           0.1977110383909835,
           "EBM",
           "CapitalGain"
          ],
          [
           0.1977110383909835,
           "EBM",
           "CapitalGain"
          ],
          [
           0.1977110383909835,
           "EBM",
           "CapitalGain"
          ],
          [
           0.1977110383909835,
           "EBM",
           "CapitalGain"
          ],
          [
           0.1977110383909835,
           "EBM",
           "CapitalGain"
          ],
          [
           0.1977110383909835,
           "EBM",
           "CapitalGain"
          ],
          [
           0.1977110383909835,
           "EBM",
           "CapitalGain"
          ],
          [
           0.1977110383909835,
           "EBM",
           "CapitalGain"
          ],
          [
           0.1977110383909835,
           "EBM",
           "CapitalGain"
          ],
          [
           0.1977110383909835,
           "EBM",
           "CapitalGain"
          ],
          [
           0.1977110383909835,
           "EBM",
           "CapitalGain"
          ],
          [
           0.1977110383909835,
           "EBM",
           "CapitalGain"
          ],
          [
           0.1977110383909835,
           "EBM",
           "CapitalGain"
          ],
          [
           0.1977110383909835,
           "EBM",
           "CapitalGain"
          ],
          [
           0.1977110383909835,
           "EBM",
           "CapitalGain"
          ],
          [
           0.1977110383909835,
           "EBM",
           "CapitalGain"
          ],
          [
           0.1977110383909835,
           "EBM",
           "CapitalGain"
          ],
          [
           0.1977110383909835,
           "EBM",
           "CapitalGain"
          ],
          [
           0.1977110383909835,
           "EBM",
           "CapitalGain"
          ],
          [
           0.1977110383909835,
           "EBM",
           "CapitalGain"
          ],
          [
           0.1977110383909835,
           "EBM",
           "CapitalGain"
          ],
          [
           0.1977110383909835,
           "EBM",
           "CapitalGain"
          ],
          [
           0.1977110383909835,
           "EBM",
           "CapitalGain"
          ],
          [
           0.1977110383909835,
           "EBM",
           "CapitalGain"
          ],
          [
           0.1977110383909835,
           "EBM",
           "CapitalGain"
          ],
          [
           0.1977110383909835,
           "EBM",
           "CapitalGain"
          ],
          [
           0.1977110383909835,
           "EBM",
           "CapitalGain"
          ],
          [
           0.1977110383909835,
           "EBM",
           "CapitalGain"
          ],
          [
           0.1977110383909835,
           "EBM",
           "CapitalGain"
          ],
          [
           0.1977110383909835,
           "EBM",
           "CapitalGain"
          ],
          [
           0.1977110383909835,
           "EBM",
           "CapitalGain"
          ],
          [
           0.1977110383909835,
           "EBM",
           "CapitalGain"
          ],
          [
           0.1977110383909835,
           "EBM",
           "CapitalGain"
          ],
          [
           0.1977110383909835,
           "EBM",
           "CapitalGain"
          ],
          [
           0.1977110383909835,
           "EBM",
           "CapitalGain"
          ],
          [
           0.1977110383909835,
           "EBM",
           "CapitalGain"
          ],
          [
           0.1977110383909835,
           "EBM",
           "CapitalGain"
          ],
          [
           0.1977110383909835,
           "EBM",
           "CapitalGain"
          ],
          [
           0.1977110383909835,
           "EBM",
           "CapitalGain"
          ],
          [
           0.1977110383909835,
           "EBM",
           "CapitalGain"
          ],
          [
           0.1977110383909835,
           "EBM",
           "CapitalGain"
          ],
          [
           0.1977110383909835,
           "EBM",
           "CapitalGain"
          ],
          [
           0.1977110383909835,
           "EBM",
           "CapitalGain"
          ],
          [
           0.1977110383909835,
           "EBM",
           "CapitalGain"
          ],
          [
           0.1977110383909835,
           "EBM",
           "CapitalGain"
          ],
          [
           0.1977110383909835,
           "EBM",
           "CapitalGain"
          ],
          [
           0.1977110383909835,
           "EBM",
           "CapitalGain"
          ],
          [
           0.1977110383909835,
           "EBM",
           "CapitalGain"
          ],
          [
           0.1977110383909835,
           "EBM",
           "CapitalGain"
          ],
          [
           0.1977110383909835,
           "EBM",
           "CapitalGain"
          ],
          [
           0.1977110383909835,
           "EBM",
           "CapitalGain"
          ],
          [
           0.1977110383909835,
           "EBM",
           "CapitalGain"
          ],
          [
           0.1977110383909835,
           "EBM",
           "CapitalGain"
          ],
          [
           0.1977110383909835,
           "EBM",
           "CapitalGain"
          ],
          [
           0.1977110383909835,
           "EBM",
           "CapitalGain"
          ],
          [
           0.1977110383909835,
           "EBM",
           "CapitalGain"
          ],
          [
           0.1977110383909835,
           "EBM",
           "CapitalGain"
          ],
          [
           0.1977110383909835,
           "EBM",
           "CapitalGain"
          ],
          [
           0.1977110383909835,
           "EBM",
           "CapitalGain"
          ],
          [
           0.1977110383909835,
           "EBM",
           "CapitalGain"
          ],
          [
           0.1977110383909835,
           "EBM",
           "CapitalGain"
          ],
          [
           0.1977110383909835,
           "EBM",
           "CapitalGain"
          ],
          [
           0.1977110383909835,
           "EBM",
           "CapitalGain"
          ],
          [
           0.1977110383909835,
           "EBM",
           "CapitalGain"
          ],
          [
           0.1977110383909835,
           "EBM",
           "CapitalGain"
          ]
         ],
         "hovertemplate": "<b>%{hovertext}</b><br><br>prediction=%{y:.3f}<br>mean_prediction=%{customdata[0]:.3f}<extra></extra>",
         "hovertext": [
          "EBM",
          "EBM",
          "EBM",
          "EBM",
          "EBM",
          "EBM",
          "EBM",
          "EBM",
          "EBM",
          "EBM",
          "EBM",
          "EBM",
          "EBM",
          "EBM",
          "EBM",
          "EBM",
          "EBM",
          "EBM",
          "EBM",
          "EBM",
          "EBM",
          "EBM",
          "EBM",
          "EBM",
          "EBM",
          "EBM",
          "EBM",
          "EBM",
          "EBM",
          "EBM",
          "EBM",
          "EBM",
          "EBM",
          "EBM",
          "EBM",
          "EBM",
          "EBM",
          "EBM",
          "EBM",
          "EBM",
          "EBM",
          "EBM",
          "EBM",
          "EBM",
          "EBM",
          "EBM",
          "EBM",
          "EBM",
          "EBM",
          "EBM",
          "EBM",
          "EBM",
          "EBM",
          "EBM",
          "EBM",
          "EBM",
          "EBM",
          "EBM",
          "EBM",
          "EBM",
          "EBM",
          "EBM",
          "EBM",
          "EBM",
          "EBM",
          "EBM",
          "EBM",
          "EBM",
          "EBM",
          "EBM",
          "EBM",
          "EBM",
          "EBM",
          "EBM",
          "EBM",
          "EBM",
          "EBM",
          "EBM",
          "EBM",
          "EBM",
          "EBM",
          "EBM",
          "EBM",
          "EBM",
          "EBM",
          "EBM",
          "EBM",
          "EBM",
          "EBM",
          "EBM",
          "EBM",
          "EBM",
          "EBM",
          "EBM",
          "EBM",
          "EBM",
          "EBM",
          "EBM",
          "EBM",
          "EBM",
          "EBM"
         ],
         "legendgroup": "EBM",
         "line": {
          "color": "#f05a71",
          "dash": "solid",
          "width": 2
         },
         "marker": {
          "symbol": "circle"
         },
         "mode": "lines",
         "name": "EBM",
         "opacity": 1,
         "orientation": "v",
         "showlegend": false,
         "type": "scatter",
         "x": [
          0,
          999.99,
          1999.98,
          2999.9700000000003,
          3999.96,
          4999.95,
          5999.9400000000005,
          6999.93,
          7999.92,
          8999.91,
          9999.9,
          10999.89,
          11999.880000000001,
          12999.87,
          13999.86,
          14999.85,
          15999.84,
          16999.83,
          17999.82,
          18999.81,
          19999.8,
          20999.79,
          21999.78,
          22999.77,
          23999.760000000002,
          24999.75,
          25999.74,
          26999.73,
          27999.72,
          28999.71,
          29999.7,
          30999.69,
          31999.68,
          32999.67,
          33999.66,
          34999.65,
          35999.64,
          36999.63,
          37999.62,
          38999.61,
          39999.6,
          40999.590000000004,
          41999.58,
          42999.57,
          43999.56,
          44999.55,
          45999.54,
          46999.53,
          47999.520000000004,
          48999.51,
          49999.5,
          50999.49,
          51999.48,
          52999.47,
          53999.46,
          54999.45,
          55999.44,
          56999.43,
          57999.42,
          58999.41,
          59999.4,
          60999.39,
          61999.38,
          62999.37,
          63999.36,
          64999.35,
          65999.34,
          66999.33,
          67999.32,
          68999.31,
          69999.3,
          70999.29,
          71999.28,
          72999.27,
          73999.26,
          74999.25,
          75999.24,
          76999.23,
          77999.22,
          78999.21,
          79999.2,
          80999.19,
          81999.18000000001,
          82999.17,
          83999.16,
          84999.15,
          85999.14,
          86999.13,
          87999.12,
          88999.11,
          89999.1,
          90999.09,
          91999.08,
          92999.07,
          93999.06,
          94999.05,
          95999.04000000001,
          96999.03,
          97999.02,
          98999.01,
          99999
         ],
         "xaxis": "x4",
         "y": [
          0.1749718488840032,
          0.17593733628561176,
          0.20782626833738735,
          0.2539748275694642,
          0.34340425787034085,
          0.38463428346097506,
          0.39424534125105487,
          0.46555911312824805,
          0.5272169763522604,
          0.5421032197247484,
          0.5446455322338873,
          0.6188457638212821,
          0.6188457638212821,
          0.7523749638595579,
          0.7523749638595579,
          0.7523749638595579,
          0.7794076243994542,
          0.7794076243994542,
          0.7794076243994542,
          0.7794076243994542,
          0.7794076243994542,
          0.7794076243994542,
          0.846164622618194,
          0.846164622618194,
          0.846164622618194,
          0.846164622618194,
          0.846164622618194,
          0.9293356183058306,
          0.9293356183058306,
          0.9293356183058306,
          0.9293356183058306,
          0.9906075083363238,
          0.9906075083363238,
          0.9906075083363238,
          0.9906075083363238,
          0.9906075083363238,
          0.9906075083363238,
          0.9906075083363238,
          0.9906075083363238,
          0.9906075083363238,
          0.9906075083363238,
          0.9906075083363238,
          0.9906075083363238,
          0.9906075083363238,
          0.9906075083363238,
          0.9906075083363238,
          0.9906075083363238,
          0.9906075083363238,
          0.9906075083363238,
          0.9906075083363238,
          0.9906075083363238,
          0.9906075083363238,
          0.9906075083363238,
          0.9906075083363238,
          0.9906075083363238,
          0.9906075083363238,
          0.9906075083363238,
          0.9906075083363238,
          0.9906075083363238,
          0.9906075083363238,
          0.9906075083363238,
          0.9906075083363238,
          0.9906075083363238,
          0.9906075083363238,
          0.9906075083363238,
          0.9906075083363238,
          0.9906075083363238,
          0.9906075083363238,
          0.9906075083363238,
          0.9906075083363238,
          0.9906075083363238,
          0.9906075083363238,
          0.9906075083363238,
          0.9906075083363238,
          0.9906075083363238,
          0.9906075083363238,
          0.9906075083363238,
          0.9906075083363238,
          0.9906075083363238,
          0.9906075083363238,
          0.9906075083363238,
          0.9906075083363238,
          0.9906075083363238,
          0.9906075083363238,
          0.9906075083363238,
          0.9906075083363238,
          0.9906075083363238,
          0.9906075083363238,
          0.9906075083363238,
          0.9906075083363238,
          0.9906075083363238,
          0.9906075083363238,
          0.9906075083363238,
          0.9906075083363238,
          0.9906075083363238,
          0.9906075083363238,
          0.9906075083363238,
          0.9906075083363238,
          0.9906075083363238,
          0.9906075083363238,
          0.9906075083363238
         ],
         "yaxis": "y4"
        },
        {
         "customdata": [
          [
           0.1977110383909835,
           "EBM",
           "CapitalLoss"
          ],
          [
           0.1977110383909835,
           "EBM",
           "CapitalLoss"
          ],
          [
           0.1977110383909835,
           "EBM",
           "CapitalLoss"
          ],
          [
           0.1977110383909835,
           "EBM",
           "CapitalLoss"
          ],
          [
           0.1977110383909835,
           "EBM",
           "CapitalLoss"
          ],
          [
           0.1977110383909835,
           "EBM",
           "CapitalLoss"
          ],
          [
           0.1977110383909835,
           "EBM",
           "CapitalLoss"
          ],
          [
           0.1977110383909835,
           "EBM",
           "CapitalLoss"
          ],
          [
           0.1977110383909835,
           "EBM",
           "CapitalLoss"
          ],
          [
           0.1977110383909835,
           "EBM",
           "CapitalLoss"
          ],
          [
           0.1977110383909835,
           "EBM",
           "CapitalLoss"
          ],
          [
           0.1977110383909835,
           "EBM",
           "CapitalLoss"
          ],
          [
           0.1977110383909835,
           "EBM",
           "CapitalLoss"
          ],
          [
           0.1977110383909835,
           "EBM",
           "CapitalLoss"
          ],
          [
           0.1977110383909835,
           "EBM",
           "CapitalLoss"
          ],
          [
           0.1977110383909835,
           "EBM",
           "CapitalLoss"
          ],
          [
           0.1977110383909835,
           "EBM",
           "CapitalLoss"
          ],
          [
           0.1977110383909835,
           "EBM",
           "CapitalLoss"
          ],
          [
           0.1977110383909835,
           "EBM",
           "CapitalLoss"
          ],
          [
           0.1977110383909835,
           "EBM",
           "CapitalLoss"
          ],
          [
           0.1977110383909835,
           "EBM",
           "CapitalLoss"
          ],
          [
           0.1977110383909835,
           "EBM",
           "CapitalLoss"
          ],
          [
           0.1977110383909835,
           "EBM",
           "CapitalLoss"
          ],
          [
           0.1977110383909835,
           "EBM",
           "CapitalLoss"
          ],
          [
           0.1977110383909835,
           "EBM",
           "CapitalLoss"
          ],
          [
           0.1977110383909835,
           "EBM",
           "CapitalLoss"
          ],
          [
           0.1977110383909835,
           "EBM",
           "CapitalLoss"
          ],
          [
           0.1977110383909835,
           "EBM",
           "CapitalLoss"
          ],
          [
           0.1977110383909835,
           "EBM",
           "CapitalLoss"
          ],
          [
           0.1977110383909835,
           "EBM",
           "CapitalLoss"
          ],
          [
           0.1977110383909835,
           "EBM",
           "CapitalLoss"
          ],
          [
           0.1977110383909835,
           "EBM",
           "CapitalLoss"
          ],
          [
           0.1977110383909835,
           "EBM",
           "CapitalLoss"
          ],
          [
           0.1977110383909835,
           "EBM",
           "CapitalLoss"
          ],
          [
           0.1977110383909835,
           "EBM",
           "CapitalLoss"
          ],
          [
           0.1977110383909835,
           "EBM",
           "CapitalLoss"
          ],
          [
           0.1977110383909835,
           "EBM",
           "CapitalLoss"
          ],
          [
           0.1977110383909835,
           "EBM",
           "CapitalLoss"
          ],
          [
           0.1977110383909835,
           "EBM",
           "CapitalLoss"
          ],
          [
           0.1977110383909835,
           "EBM",
           "CapitalLoss"
          ],
          [
           0.1977110383909835,
           "EBM",
           "CapitalLoss"
          ],
          [
           0.1977110383909835,
           "EBM",
           "CapitalLoss"
          ],
          [
           0.1977110383909835,
           "EBM",
           "CapitalLoss"
          ],
          [
           0.1977110383909835,
           "EBM",
           "CapitalLoss"
          ],
          [
           0.1977110383909835,
           "EBM",
           "CapitalLoss"
          ],
          [
           0.1977110383909835,
           "EBM",
           "CapitalLoss"
          ],
          [
           0.1977110383909835,
           "EBM",
           "CapitalLoss"
          ],
          [
           0.1977110383909835,
           "EBM",
           "CapitalLoss"
          ],
          [
           0.1977110383909835,
           "EBM",
           "CapitalLoss"
          ],
          [
           0.1977110383909835,
           "EBM",
           "CapitalLoss"
          ],
          [
           0.1977110383909835,
           "EBM",
           "CapitalLoss"
          ],
          [
           0.1977110383909835,
           "EBM",
           "CapitalLoss"
          ],
          [
           0.1977110383909835,
           "EBM",
           "CapitalLoss"
          ],
          [
           0.1977110383909835,
           "EBM",
           "CapitalLoss"
          ],
          [
           0.1977110383909835,
           "EBM",
           "CapitalLoss"
          ],
          [
           0.1977110383909835,
           "EBM",
           "CapitalLoss"
          ],
          [
           0.1977110383909835,
           "EBM",
           "CapitalLoss"
          ],
          [
           0.1977110383909835,
           "EBM",
           "CapitalLoss"
          ],
          [
           0.1977110383909835,
           "EBM",
           "CapitalLoss"
          ],
          [
           0.1977110383909835,
           "EBM",
           "CapitalLoss"
          ],
          [
           0.1977110383909835,
           "EBM",
           "CapitalLoss"
          ],
          [
           0.1977110383909835,
           "EBM",
           "CapitalLoss"
          ],
          [
           0.1977110383909835,
           "EBM",
           "CapitalLoss"
          ],
          [
           0.1977110383909835,
           "EBM",
           "CapitalLoss"
          ],
          [
           0.1977110383909835,
           "EBM",
           "CapitalLoss"
          ],
          [
           0.1977110383909835,
           "EBM",
           "CapitalLoss"
          ],
          [
           0.1977110383909835,
           "EBM",
           "CapitalLoss"
          ],
          [
           0.1977110383909835,
           "EBM",
           "CapitalLoss"
          ],
          [
           0.1977110383909835,
           "EBM",
           "CapitalLoss"
          ],
          [
           0.1977110383909835,
           "EBM",
           "CapitalLoss"
          ],
          [
           0.1977110383909835,
           "EBM",
           "CapitalLoss"
          ],
          [
           0.1977110383909835,
           "EBM",
           "CapitalLoss"
          ],
          [
           0.1977110383909835,
           "EBM",
           "CapitalLoss"
          ],
          [
           0.1977110383909835,
           "EBM",
           "CapitalLoss"
          ],
          [
           0.1977110383909835,
           "EBM",
           "CapitalLoss"
          ],
          [
           0.1977110383909835,
           "EBM",
           "CapitalLoss"
          ],
          [
           0.1977110383909835,
           "EBM",
           "CapitalLoss"
          ],
          [
           0.1977110383909835,
           "EBM",
           "CapitalLoss"
          ],
          [
           0.1977110383909835,
           "EBM",
           "CapitalLoss"
          ],
          [
           0.1977110383909835,
           "EBM",
           "CapitalLoss"
          ],
          [
           0.1977110383909835,
           "EBM",
           "CapitalLoss"
          ],
          [
           0.1977110383909835,
           "EBM",
           "CapitalLoss"
          ],
          [
           0.1977110383909835,
           "EBM",
           "CapitalLoss"
          ],
          [
           0.1977110383909835,
           "EBM",
           "CapitalLoss"
          ],
          [
           0.1977110383909835,
           "EBM",
           "CapitalLoss"
          ],
          [
           0.1977110383909835,
           "EBM",
           "CapitalLoss"
          ],
          [
           0.1977110383909835,
           "EBM",
           "CapitalLoss"
          ],
          [
           0.1977110383909835,
           "EBM",
           "CapitalLoss"
          ],
          [
           0.1977110383909835,
           "EBM",
           "CapitalLoss"
          ],
          [
           0.1977110383909835,
           "EBM",
           "CapitalLoss"
          ],
          [
           0.1977110383909835,
           "EBM",
           "CapitalLoss"
          ],
          [
           0.1977110383909835,
           "EBM",
           "CapitalLoss"
          ],
          [
           0.1977110383909835,
           "EBM",
           "CapitalLoss"
          ],
          [
           0.1977110383909835,
           "EBM",
           "CapitalLoss"
          ],
          [
           0.1977110383909835,
           "EBM",
           "CapitalLoss"
          ],
          [
           0.1977110383909835,
           "EBM",
           "CapitalLoss"
          ],
          [
           0.1977110383909835,
           "EBM",
           "CapitalLoss"
          ],
          [
           0.1977110383909835,
           "EBM",
           "CapitalLoss"
          ],
          [
           0.1977110383909835,
           "EBM",
           "CapitalLoss"
          ],
          [
           0.1977110383909835,
           "EBM",
           "CapitalLoss"
          ],
          [
           0.1977110383909835,
           "EBM",
           "CapitalLoss"
          ]
         ],
         "hovertemplate": "<b>%{hovertext}</b><br><br>prediction=%{y:.3f}<br>mean_prediction=%{customdata[0]:.3f}<extra></extra>",
         "hovertext": [
          "EBM",
          "EBM",
          "EBM",
          "EBM",
          "EBM",
          "EBM",
          "EBM",
          "EBM",
          "EBM",
          "EBM",
          "EBM",
          "EBM",
          "EBM",
          "EBM",
          "EBM",
          "EBM",
          "EBM",
          "EBM",
          "EBM",
          "EBM",
          "EBM",
          "EBM",
          "EBM",
          "EBM",
          "EBM",
          "EBM",
          "EBM",
          "EBM",
          "EBM",
          "EBM",
          "EBM",
          "EBM",
          "EBM",
          "EBM",
          "EBM",
          "EBM",
          "EBM",
          "EBM",
          "EBM",
          "EBM",
          "EBM",
          "EBM",
          "EBM",
          "EBM",
          "EBM",
          "EBM",
          "EBM",
          "EBM",
          "EBM",
          "EBM",
          "EBM",
          "EBM",
          "EBM",
          "EBM",
          "EBM",
          "EBM",
          "EBM",
          "EBM",
          "EBM",
          "EBM",
          "EBM",
          "EBM",
          "EBM",
          "EBM",
          "EBM",
          "EBM",
          "EBM",
          "EBM",
          "EBM",
          "EBM",
          "EBM",
          "EBM",
          "EBM",
          "EBM",
          "EBM",
          "EBM",
          "EBM",
          "EBM",
          "EBM",
          "EBM",
          "EBM",
          "EBM",
          "EBM",
          "EBM",
          "EBM",
          "EBM",
          "EBM",
          "EBM",
          "EBM",
          "EBM",
          "EBM",
          "EBM",
          "EBM",
          "EBM",
          "EBM",
          "EBM",
          "EBM",
          "EBM",
          "EBM",
          "EBM",
          "EBM"
         ],
         "legendgroup": "EBM",
         "line": {
          "color": "#f05a71",
          "dash": "solid",
          "width": 2
         },
         "marker": {
          "symbol": "circle"
         },
         "mode": "lines",
         "name": "EBM",
         "opacity": 1,
         "orientation": "v",
         "showlegend": false,
         "type": "scatter",
         "x": [
          0,
          43.56,
          87.12,
          130.68,
          174.24,
          217.8,
          261.36,
          304.92,
          348.48,
          392.04,
          435.6,
          479.16,
          522.72,
          566.28,
          609.84,
          653.4000000000001,
          696.96,
          740.52,
          784.08,
          827.6400000000001,
          871.2,
          914.76,
          958.32,
          1001.8800000000001,
          1045.44,
          1089,
          1132.56,
          1176.1200000000001,
          1219.68,
          1263.24,
          1306.8000000000002,
          1350.3600000000001,
          1393.92,
          1437.48,
          1481.04,
          1524.6000000000001,
          1568.16,
          1611.72,
          1655.2800000000002,
          1698.8400000000001,
          1742.4,
          1785.96,
          1829.52,
          1873.0800000000002,
          1916.64,
          1960.2,
          2003.7600000000002,
          2047.3200000000002,
          2090.88,
          2134.44,
          2178,
          2221.56,
          2265.12,
          2308.6800000000003,
          2352.2400000000002,
          2395.8,
          2439.36,
          2482.92,
          2526.48,
          2570.04,
          2613.6000000000004,
          2657.1600000000003,
          2700.7200000000003,
          2744.28,
          2787.84,
          2831.4,
          2874.96,
          2918.52,
          2962.08,
          3005.6400000000003,
          3049.2000000000003,
          3092.76,
          3136.32,
          3179.88,
          3223.44,
          3267,
          3310.5600000000004,
          3354.1200000000003,
          3397.6800000000003,
          3441.2400000000002,
          3484.8,
          3528.36,
          3571.92,
          3615.48,
          3659.04,
          3702.6000000000004,
          3746.1600000000003,
          3789.7200000000003,
          3833.28,
          3876.84,
          3920.4,
          3963.96,
          4007.5200000000004,
          4051.0800000000004,
          4094.6400000000003,
          4138.2,
          4181.76,
          4225.320000000001,
          4268.88,
          4312.4400000000005,
          4356
         ],
         "xaxis": "x",
         "y": [
          0.18932772797394595,
          0.18932772797394595,
          0.18932772796501365,
          0.18932772796501365,
          0.18932772796501365,
          0.18932772796501365,
          0.18932772796501365,
          0.18932772796501365,
          0.18932772796501365,
          0.18932772796501365,
          0.18932772796501365,
          0.18932772796501365,
          0.18932772796501365,
          0.18932772796501365,
          0.18932772796501365,
          0.18932772796501365,
          0.18932772796501365,
          0.18932772796501365,
          0.18932772796501365,
          0.18932772796501365,
          0.18932772796501365,
          0.18932772796501365,
          0.18932772796501365,
          0.18932772796501365,
          0.26916653465817936,
          0.26916653465817936,
          0.27062455918875516,
          0.27062455918875516,
          0.27062455918875516,
          0.27062455918875516,
          0.28976434996382994,
          0.28976434996382994,
          0.28976434996382994,
          0.27046528793116686,
          0.2888507756673245,
          0.2846325337952736,
          0.28470002604862815,
          0.2894134308915541,
          0.28504391398122486,
          0.31337266297479527,
          0.3227804071128319,
          0.3235080836873694,
          0.3235080836873694,
          0.320751164863931,
          0.3350954768567637,
          0.3401627376689109,
          0.34611121974011555,
          0.3577333944461933,
          0.35752967876748415,
          0.35752967876748415,
          0.35752967876748415,
          0.3546348814879524,
          0.3546583805277086,
          0.3546583805277086,
          0.36847680446692027,
          0.3783860024609004,
          0.380739736283283,
          0.3831963158638395,
          0.3831963158638395,
          0.39229781096119337,
          0.42741567230783595,
          0.42741567230783595,
          0.42741567230783595,
          0.42741567230783595,
          0.42741567230783595,
          0.4301979019694329,
          0.4301979019694329,
          0.43784339175320647,
          0.43784339175320647,
          0.43784339175320647,
          0.43784339175320647,
          0.43784339175320647,
          0.43784339175320647,
          0.43784339175320647,
          0.43784339175320647,
          0.43784339175320647,
          0.43784339175320647,
          0.43784339175320647,
          0.43784339175320647,
          0.43784339175320647,
          0.43784339175320647,
          0.43784339175320647,
          0.43784339175320647,
          0.43784339175320647,
          0.43784339175320647,
          0.43784339175320647,
          0.43784339175320647,
          0.43784339175320647,
          0.43784339175320647,
          0.43784339175320647,
          0.43784339175320647,
          0.43784339175320647,
          0.43784339175320647,
          0.43784339175320647,
          0.43784339175320647,
          0.43784339175320647,
          0.43784339175320647,
          0.43784339175320647,
          0.43784339175320647,
          0.43784339175320647,
          0.43784339175320647
         ],
         "yaxis": "y"
        },
        {
         "customdata": [
          [
           0.1977110383909835,
           "EBM",
           "HoursPerWeek"
          ],
          [
           0.1977110383909835,
           "EBM",
           "HoursPerWeek"
          ],
          [
           0.1977110383909835,
           "EBM",
           "HoursPerWeek"
          ],
          [
           0.1977110383909835,
           "EBM",
           "HoursPerWeek"
          ],
          [
           0.1977110383909835,
           "EBM",
           "HoursPerWeek"
          ],
          [
           0.1977110383909835,
           "EBM",
           "HoursPerWeek"
          ],
          [
           0.1977110383909835,
           "EBM",
           "HoursPerWeek"
          ],
          [
           0.1977110383909835,
           "EBM",
           "HoursPerWeek"
          ],
          [
           0.1977110383909835,
           "EBM",
           "HoursPerWeek"
          ],
          [
           0.1977110383909835,
           "EBM",
           "HoursPerWeek"
          ],
          [
           0.1977110383909835,
           "EBM",
           "HoursPerWeek"
          ],
          [
           0.1977110383909835,
           "EBM",
           "HoursPerWeek"
          ],
          [
           0.1977110383909835,
           "EBM",
           "HoursPerWeek"
          ],
          [
           0.1977110383909835,
           "EBM",
           "HoursPerWeek"
          ],
          [
           0.1977110383909835,
           "EBM",
           "HoursPerWeek"
          ],
          [
           0.1977110383909835,
           "EBM",
           "HoursPerWeek"
          ],
          [
           0.1977110383909835,
           "EBM",
           "HoursPerWeek"
          ],
          [
           0.1977110383909835,
           "EBM",
           "HoursPerWeek"
          ],
          [
           0.1977110383909835,
           "EBM",
           "HoursPerWeek"
          ],
          [
           0.1977110383909835,
           "EBM",
           "HoursPerWeek"
          ],
          [
           0.1977110383909835,
           "EBM",
           "HoursPerWeek"
          ],
          [
           0.1977110383909835,
           "EBM",
           "HoursPerWeek"
          ],
          [
           0.1977110383909835,
           "EBM",
           "HoursPerWeek"
          ],
          [
           0.1977110383909835,
           "EBM",
           "HoursPerWeek"
          ],
          [
           0.1977110383909835,
           "EBM",
           "HoursPerWeek"
          ],
          [
           0.1977110383909835,
           "EBM",
           "HoursPerWeek"
          ],
          [
           0.1977110383909835,
           "EBM",
           "HoursPerWeek"
          ],
          [
           0.1977110383909835,
           "EBM",
           "HoursPerWeek"
          ],
          [
           0.1977110383909835,
           "EBM",
           "HoursPerWeek"
          ],
          [
           0.1977110383909835,
           "EBM",
           "HoursPerWeek"
          ],
          [
           0.1977110383909835,
           "EBM",
           "HoursPerWeek"
          ],
          [
           0.1977110383909835,
           "EBM",
           "HoursPerWeek"
          ],
          [
           0.1977110383909835,
           "EBM",
           "HoursPerWeek"
          ],
          [
           0.1977110383909835,
           "EBM",
           "HoursPerWeek"
          ],
          [
           0.1977110383909835,
           "EBM",
           "HoursPerWeek"
          ],
          [
           0.1977110383909835,
           "EBM",
           "HoursPerWeek"
          ],
          [
           0.1977110383909835,
           "EBM",
           "HoursPerWeek"
          ],
          [
           0.1977110383909835,
           "EBM",
           "HoursPerWeek"
          ],
          [
           0.1977110383909835,
           "EBM",
           "HoursPerWeek"
          ],
          [
           0.1977110383909835,
           "EBM",
           "HoursPerWeek"
          ],
          [
           0.1977110383909835,
           "EBM",
           "HoursPerWeek"
          ],
          [
           0.1977110383909835,
           "EBM",
           "HoursPerWeek"
          ],
          [
           0.1977110383909835,
           "EBM",
           "HoursPerWeek"
          ],
          [
           0.1977110383909835,
           "EBM",
           "HoursPerWeek"
          ],
          [
           0.1977110383909835,
           "EBM",
           "HoursPerWeek"
          ],
          [
           0.1977110383909835,
           "EBM",
           "HoursPerWeek"
          ],
          [
           0.1977110383909835,
           "EBM",
           "HoursPerWeek"
          ],
          [
           0.1977110383909835,
           "EBM",
           "HoursPerWeek"
          ],
          [
           0.1977110383909835,
           "EBM",
           "HoursPerWeek"
          ],
          [
           0.1977110383909835,
           "EBM",
           "HoursPerWeek"
          ],
          [
           0.1977110383909835,
           "EBM",
           "HoursPerWeek"
          ],
          [
           0.1977110383909835,
           "EBM",
           "HoursPerWeek"
          ],
          [
           0.1977110383909835,
           "EBM",
           "HoursPerWeek"
          ],
          [
           0.1977110383909835,
           "EBM",
           "HoursPerWeek"
          ],
          [
           0.1977110383909835,
           "EBM",
           "HoursPerWeek"
          ],
          [
           0.1977110383909835,
           "EBM",
           "HoursPerWeek"
          ],
          [
           0.1977110383909835,
           "EBM",
           "HoursPerWeek"
          ],
          [
           0.1977110383909835,
           "EBM",
           "HoursPerWeek"
          ],
          [
           0.1977110383909835,
           "EBM",
           "HoursPerWeek"
          ],
          [
           0.1977110383909835,
           "EBM",
           "HoursPerWeek"
          ],
          [
           0.1977110383909835,
           "EBM",
           "HoursPerWeek"
          ],
          [
           0.1977110383909835,
           "EBM",
           "HoursPerWeek"
          ],
          [
           0.1977110383909835,
           "EBM",
           "HoursPerWeek"
          ],
          [
           0.1977110383909835,
           "EBM",
           "HoursPerWeek"
          ],
          [
           0.1977110383909835,
           "EBM",
           "HoursPerWeek"
          ],
          [
           0.1977110383909835,
           "EBM",
           "HoursPerWeek"
          ],
          [
           0.1977110383909835,
           "EBM",
           "HoursPerWeek"
          ],
          [
           0.1977110383909835,
           "EBM",
           "HoursPerWeek"
          ],
          [
           0.1977110383909835,
           "EBM",
           "HoursPerWeek"
          ],
          [
           0.1977110383909835,
           "EBM",
           "HoursPerWeek"
          ],
          [
           0.1977110383909835,
           "EBM",
           "HoursPerWeek"
          ],
          [
           0.1977110383909835,
           "EBM",
           "HoursPerWeek"
          ],
          [
           0.1977110383909835,
           "EBM",
           "HoursPerWeek"
          ],
          [
           0.1977110383909835,
           "EBM",
           "HoursPerWeek"
          ],
          [
           0.1977110383909835,
           "EBM",
           "HoursPerWeek"
          ],
          [
           0.1977110383909835,
           "EBM",
           "HoursPerWeek"
          ],
          [
           0.1977110383909835,
           "EBM",
           "HoursPerWeek"
          ],
          [
           0.1977110383909835,
           "EBM",
           "HoursPerWeek"
          ],
          [
           0.1977110383909835,
           "EBM",
           "HoursPerWeek"
          ],
          [
           0.1977110383909835,
           "EBM",
           "HoursPerWeek"
          ],
          [
           0.1977110383909835,
           "EBM",
           "HoursPerWeek"
          ],
          [
           0.1977110383909835,
           "EBM",
           "HoursPerWeek"
          ],
          [
           0.1977110383909835,
           "EBM",
           "HoursPerWeek"
          ],
          [
           0.1977110383909835,
           "EBM",
           "HoursPerWeek"
          ],
          [
           0.1977110383909835,
           "EBM",
           "HoursPerWeek"
          ],
          [
           0.1977110383909835,
           "EBM",
           "HoursPerWeek"
          ],
          [
           0.1977110383909835,
           "EBM",
           "HoursPerWeek"
          ],
          [
           0.1977110383909835,
           "EBM",
           "HoursPerWeek"
          ],
          [
           0.1977110383909835,
           "EBM",
           "HoursPerWeek"
          ],
          [
           0.1977110383909835,
           "EBM",
           "HoursPerWeek"
          ],
          [
           0.1977110383909835,
           "EBM",
           "HoursPerWeek"
          ],
          [
           0.1977110383909835,
           "EBM",
           "HoursPerWeek"
          ],
          [
           0.1977110383909835,
           "EBM",
           "HoursPerWeek"
          ],
          [
           0.1977110383909835,
           "EBM",
           "HoursPerWeek"
          ],
          [
           0.1977110383909835,
           "EBM",
           "HoursPerWeek"
          ],
          [
           0.1977110383909835,
           "EBM",
           "HoursPerWeek"
          ],
          [
           0.1977110383909835,
           "EBM",
           "HoursPerWeek"
          ],
          [
           0.1977110383909835,
           "EBM",
           "HoursPerWeek"
          ],
          [
           0.1977110383909835,
           "EBM",
           "HoursPerWeek"
          ],
          [
           0.1977110383909835,
           "EBM",
           "HoursPerWeek"
          ],
          [
           0.1977110383909835,
           "EBM",
           "HoursPerWeek"
          ]
         ],
         "hovertemplate": "<b>%{hovertext}</b><br><br>prediction=%{y:.3f}<br>mean_prediction=%{customdata[0]:.3f}<extra></extra>",
         "hovertext": [
          "EBM",
          "EBM",
          "EBM",
          "EBM",
          "EBM",
          "EBM",
          "EBM",
          "EBM",
          "EBM",
          "EBM",
          "EBM",
          "EBM",
          "EBM",
          "EBM",
          "EBM",
          "EBM",
          "EBM",
          "EBM",
          "EBM",
          "EBM",
          "EBM",
          "EBM",
          "EBM",
          "EBM",
          "EBM",
          "EBM",
          "EBM",
          "EBM",
          "EBM",
          "EBM",
          "EBM",
          "EBM",
          "EBM",
          "EBM",
          "EBM",
          "EBM",
          "EBM",
          "EBM",
          "EBM",
          "EBM",
          "EBM",
          "EBM",
          "EBM",
          "EBM",
          "EBM",
          "EBM",
          "EBM",
          "EBM",
          "EBM",
          "EBM",
          "EBM",
          "EBM",
          "EBM",
          "EBM",
          "EBM",
          "EBM",
          "EBM",
          "EBM",
          "EBM",
          "EBM",
          "EBM",
          "EBM",
          "EBM",
          "EBM",
          "EBM",
          "EBM",
          "EBM",
          "EBM",
          "EBM",
          "EBM",
          "EBM",
          "EBM",
          "EBM",
          "EBM",
          "EBM",
          "EBM",
          "EBM",
          "EBM",
          "EBM",
          "EBM",
          "EBM",
          "EBM",
          "EBM",
          "EBM",
          "EBM",
          "EBM",
          "EBM",
          "EBM",
          "EBM",
          "EBM",
          "EBM",
          "EBM",
          "EBM",
          "EBM",
          "EBM",
          "EBM",
          "EBM",
          "EBM",
          "EBM",
          "EBM",
          "EBM"
         ],
         "legendgroup": "EBM",
         "line": {
          "color": "#f05a71",
          "dash": "solid",
          "width": 2
         },
         "marker": {
          "symbol": "circle"
         },
         "mode": "lines",
         "name": "EBM",
         "opacity": 1,
         "orientation": "v",
         "showlegend": false,
         "type": "scatter",
         "x": [
          1,
          1.98,
          2.96,
          3.94,
          4.92,
          5.9,
          6.88,
          7.859999999999999,
          8.84,
          9.82,
          10.8,
          11.78,
          12.76,
          13.74,
          14.719999999999999,
          15.7,
          16.68,
          17.66,
          18.64,
          19.62,
          20.6,
          21.58,
          22.56,
          23.54,
          24.52,
          25.5,
          26.48,
          27.46,
          28.439999999999998,
          29.419999999999998,
          30.4,
          31.38,
          32.36,
          33.339999999999996,
          34.32,
          35.3,
          36.28,
          37.26,
          38.24,
          39.22,
          40.2,
          41.18,
          42.16,
          43.14,
          44.12,
          45.1,
          46.08,
          47.06,
          48.04,
          49.019999999999996,
          50,
          50.98,
          51.96,
          52.94,
          53.92,
          54.9,
          55.879999999999995,
          56.86,
          57.839999999999996,
          58.82,
          59.8,
          60.78,
          61.76,
          62.74,
          63.72,
          64.69999999999999,
          65.67999999999999,
          66.66,
          67.64,
          68.62,
          69.6,
          70.58,
          71.56,
          72.53999999999999,
          73.52,
          74.5,
          75.48,
          76.46,
          77.44,
          78.42,
          79.4,
          80.38,
          81.36,
          82.34,
          83.32,
          84.3,
          85.28,
          86.26,
          87.24,
          88.22,
          89.2,
          90.17999999999999,
          91.16,
          92.14,
          93.12,
          94.1,
          95.08,
          96.06,
          97.03999999999999,
          98.02,
          99
         ],
         "xaxis": "x2",
         "y": [
          0.08847757278991292,
          0.08847757278991292,
          0.08847757278991292,
          0.08847757278991292,
          0.08847757278991292,
          0.09092696886037098,
          0.09092696886037098,
          0.09092696886037098,
          0.09539487244988935,
          0.09590339955271479,
          0.09587775573719157,
          0.09587775573719157,
          0.09587775573719157,
          0.09914792056125608,
          0.09941191214825264,
          0.11056995666184594,
          0.11947557671078213,
          0.1215453121999247,
          0.1215453121999247,
          0.12186470803278776,
          0.12250824861359878,
          0.12432978994060088,
          0.13043328954328648,
          0.13043328954328648,
          0.13043328949246066,
          0.13249268529484445,
          0.13249268529484445,
          0.13249268529484445,
          0.13249268529484445,
          0.13900042644374874,
          0.13905015056325493,
          0.15421783257388147,
          0.15677928962724696,
          0.16156702898856082,
          0.1616047731720083,
          0.16658073426348613,
          0.17355366858705673,
          0.1758357204076874,
          0.1758357204076874,
          0.17605809538541675,
          0.17605809538541675,
          0.18013552846248457,
          0.18223731477201763,
          0.1859472781742444,
          0.18847555361660642,
          0.1912539786262138,
          0.19213802156232054,
          0.19112592688737617,
          0.20011816098265822,
          0.20636249636708104,
          0.20847991492516976,
          0.20847991492516976,
          0.21070242055183214,
          0.21149387019747945,
          0.21120275932539642,
          0.22065304974263913,
          0.22461790676532317,
          0.2311255073857673,
          0.2311255073857673,
          0.2311255073857673,
          0.2396256236119224,
          0.23992924130392307,
          0.23881196615104833,
          0.23881196615104833,
          0.2599398103480034,
          0.2494880453446288,
          0.2549797179912305,
          0.2665838920538355,
          0.2665838920538355,
          0.2665838920538355,
          0.26840101978957204,
          0.26840101978957204,
          0.269466663197287,
          0.269466663197287,
          0.269466663197287,
          0.2753541092166581,
          0.2753541092166581,
          0.2994841735063365,
          0.2994841735063365,
          0.2994841735063365,
          0.3128154918161311,
          0.3128154918161311,
          0.3128154918161311,
          0.3128154918161311,
          0.3264970109490079,
          0.3264970109490079,
          0.34075882017613995,
          0.34419111155282706,
          0.34419111155282706,
          0.34419111155282706,
          0.34419111155282706,
          0.354127943555422,
          0.36861785921602536,
          0.36861785921602536,
          0.36861785921602536,
          0.36861785921602536,
          0.36861785921602536,
          0.36861785921602536,
          0.3739063797165834,
          0.3739063797165834,
          0.3848106192307263
         ],
         "yaxis": "y2"
        },
        {
         "customdata": [
          [
           0.6082035104246867,
           "GNB",
           "Age"
          ],
          [
           0.6082035104246867,
           "GNB",
           "Age"
          ],
          [
           0.6082035104246867,
           "GNB",
           "Age"
          ],
          [
           0.6082035104246867,
           "GNB",
           "Age"
          ],
          [
           0.6082035104246867,
           "GNB",
           "Age"
          ],
          [
           0.6082035104246867,
           "GNB",
           "Age"
          ],
          [
           0.6082035104246867,
           "GNB",
           "Age"
          ],
          [
           0.6082035104246867,
           "GNB",
           "Age"
          ],
          [
           0.6082035104246867,
           "GNB",
           "Age"
          ],
          [
           0.6082035104246867,
           "GNB",
           "Age"
          ],
          [
           0.6082035104246867,
           "GNB",
           "Age"
          ],
          [
           0.6082035104246867,
           "GNB",
           "Age"
          ],
          [
           0.6082035104246867,
           "GNB",
           "Age"
          ],
          [
           0.6082035104246867,
           "GNB",
           "Age"
          ],
          [
           0.6082035104246867,
           "GNB",
           "Age"
          ],
          [
           0.6082035104246867,
           "GNB",
           "Age"
          ],
          [
           0.6082035104246867,
           "GNB",
           "Age"
          ],
          [
           0.6082035104246867,
           "GNB",
           "Age"
          ],
          [
           0.6082035104246867,
           "GNB",
           "Age"
          ],
          [
           0.6082035104246867,
           "GNB",
           "Age"
          ],
          [
           0.6082035104246867,
           "GNB",
           "Age"
          ],
          [
           0.6082035104246867,
           "GNB",
           "Age"
          ],
          [
           0.6082035104246867,
           "GNB",
           "Age"
          ],
          [
           0.6082035104246867,
           "GNB",
           "Age"
          ],
          [
           0.6082035104246867,
           "GNB",
           "Age"
          ],
          [
           0.6082035104246867,
           "GNB",
           "Age"
          ],
          [
           0.6082035104246867,
           "GNB",
           "Age"
          ],
          [
           0.6082035104246867,
           "GNB",
           "Age"
          ],
          [
           0.6082035104246867,
           "GNB",
           "Age"
          ],
          [
           0.6082035104246867,
           "GNB",
           "Age"
          ],
          [
           0.6082035104246867,
           "GNB",
           "Age"
          ],
          [
           0.6082035104246867,
           "GNB",
           "Age"
          ],
          [
           0.6082035104246867,
           "GNB",
           "Age"
          ],
          [
           0.6082035104246867,
           "GNB",
           "Age"
          ],
          [
           0.6082035104246867,
           "GNB",
           "Age"
          ],
          [
           0.6082035104246867,
           "GNB",
           "Age"
          ],
          [
           0.6082035104246867,
           "GNB",
           "Age"
          ],
          [
           0.6082035104246867,
           "GNB",
           "Age"
          ],
          [
           0.6082035104246867,
           "GNB",
           "Age"
          ],
          [
           0.6082035104246867,
           "GNB",
           "Age"
          ],
          [
           0.6082035104246867,
           "GNB",
           "Age"
          ],
          [
           0.6082035104246867,
           "GNB",
           "Age"
          ],
          [
           0.6082035104246867,
           "GNB",
           "Age"
          ],
          [
           0.6082035104246867,
           "GNB",
           "Age"
          ],
          [
           0.6082035104246867,
           "GNB",
           "Age"
          ],
          [
           0.6082035104246867,
           "GNB",
           "Age"
          ],
          [
           0.6082035104246867,
           "GNB",
           "Age"
          ],
          [
           0.6082035104246867,
           "GNB",
           "Age"
          ],
          [
           0.6082035104246867,
           "GNB",
           "Age"
          ],
          [
           0.6082035104246867,
           "GNB",
           "Age"
          ],
          [
           0.6082035104246867,
           "GNB",
           "Age"
          ],
          [
           0.6082035104246867,
           "GNB",
           "Age"
          ],
          [
           0.6082035104246867,
           "GNB",
           "Age"
          ],
          [
           0.6082035104246867,
           "GNB",
           "Age"
          ],
          [
           0.6082035104246867,
           "GNB",
           "Age"
          ],
          [
           0.6082035104246867,
           "GNB",
           "Age"
          ],
          [
           0.6082035104246867,
           "GNB",
           "Age"
          ],
          [
           0.6082035104246867,
           "GNB",
           "Age"
          ],
          [
           0.6082035104246867,
           "GNB",
           "Age"
          ],
          [
           0.6082035104246867,
           "GNB",
           "Age"
          ],
          [
           0.6082035104246867,
           "GNB",
           "Age"
          ],
          [
           0.6082035104246867,
           "GNB",
           "Age"
          ],
          [
           0.6082035104246867,
           "GNB",
           "Age"
          ],
          [
           0.6082035104246867,
           "GNB",
           "Age"
          ],
          [
           0.6082035104246867,
           "GNB",
           "Age"
          ],
          [
           0.6082035104246867,
           "GNB",
           "Age"
          ],
          [
           0.6082035104246867,
           "GNB",
           "Age"
          ],
          [
           0.6082035104246867,
           "GNB",
           "Age"
          ],
          [
           0.6082035104246867,
           "GNB",
           "Age"
          ],
          [
           0.6082035104246867,
           "GNB",
           "Age"
          ],
          [
           0.6082035104246867,
           "GNB",
           "Age"
          ],
          [
           0.6082035104246867,
           "GNB",
           "Age"
          ],
          [
           0.6082035104246867,
           "GNB",
           "Age"
          ],
          [
           0.6082035104246867,
           "GNB",
           "Age"
          ],
          [
           0.6082035104246867,
           "GNB",
           "Age"
          ],
          [
           0.6082035104246867,
           "GNB",
           "Age"
          ],
          [
           0.6082035104246867,
           "GNB",
           "Age"
          ],
          [
           0.6082035104246867,
           "GNB",
           "Age"
          ],
          [
           0.6082035104246867,
           "GNB",
           "Age"
          ],
          [
           0.6082035104246867,
           "GNB",
           "Age"
          ],
          [
           0.6082035104246867,
           "GNB",
           "Age"
          ],
          [
           0.6082035104246867,
           "GNB",
           "Age"
          ],
          [
           0.6082035104246867,
           "GNB",
           "Age"
          ],
          [
           0.6082035104246867,
           "GNB",
           "Age"
          ],
          [
           0.6082035104246867,
           "GNB",
           "Age"
          ],
          [
           0.6082035104246867,
           "GNB",
           "Age"
          ],
          [
           0.6082035104246867,
           "GNB",
           "Age"
          ],
          [
           0.6082035104246867,
           "GNB",
           "Age"
          ],
          [
           0.6082035104246867,
           "GNB",
           "Age"
          ],
          [
           0.6082035104246867,
           "GNB",
           "Age"
          ],
          [
           0.6082035104246867,
           "GNB",
           "Age"
          ],
          [
           0.6082035104246867,
           "GNB",
           "Age"
          ],
          [
           0.6082035104246867,
           "GNB",
           "Age"
          ],
          [
           0.6082035104246867,
           "GNB",
           "Age"
          ],
          [
           0.6082035104246867,
           "GNB",
           "Age"
          ],
          [
           0.6082035104246867,
           "GNB",
           "Age"
          ],
          [
           0.6082035104246867,
           "GNB",
           "Age"
          ],
          [
           0.6082035104246867,
           "GNB",
           "Age"
          ],
          [
           0.6082035104246867,
           "GNB",
           "Age"
          ],
          [
           0.6082035104246867,
           "GNB",
           "Age"
          ],
          [
           0.6082035104246867,
           "GNB",
           "Age"
          ]
         ],
         "hovertemplate": "<b>%{hovertext}</b><br><br>prediction=%{y:.3f}<br>mean_prediction=%{customdata[0]:.3f}<extra></extra>",
         "hovertext": [
          "GNB",
          "GNB",
          "GNB",
          "GNB",
          "GNB",
          "GNB",
          "GNB",
          "GNB",
          "GNB",
          "GNB",
          "GNB",
          "GNB",
          "GNB",
          "GNB",
          "GNB",
          "GNB",
          "GNB",
          "GNB",
          "GNB",
          "GNB",
          "GNB",
          "GNB",
          "GNB",
          "GNB",
          "GNB",
          "GNB",
          "GNB",
          "GNB",
          "GNB",
          "GNB",
          "GNB",
          "GNB",
          "GNB",
          "GNB",
          "GNB",
          "GNB",
          "GNB",
          "GNB",
          "GNB",
          "GNB",
          "GNB",
          "GNB",
          "GNB",
          "GNB",
          "GNB",
          "GNB",
          "GNB",
          "GNB",
          "GNB",
          "GNB",
          "GNB",
          "GNB",
          "GNB",
          "GNB",
          "GNB",
          "GNB",
          "GNB",
          "GNB",
          "GNB",
          "GNB",
          "GNB",
          "GNB",
          "GNB",
          "GNB",
          "GNB",
          "GNB",
          "GNB",
          "GNB",
          "GNB",
          "GNB",
          "GNB",
          "GNB",
          "GNB",
          "GNB",
          "GNB",
          "GNB",
          "GNB",
          "GNB",
          "GNB",
          "GNB",
          "GNB",
          "GNB",
          "GNB",
          "GNB",
          "GNB",
          "GNB",
          "GNB",
          "GNB",
          "GNB",
          "GNB",
          "GNB",
          "GNB",
          "GNB",
          "GNB",
          "GNB",
          "GNB",
          "GNB",
          "GNB",
          "GNB",
          "GNB",
          "GNB"
         ],
         "legendgroup": "GNB",
         "line": {
          "color": "#46bac2",
          "dash": "solid",
          "width": 2
         },
         "marker": {
          "symbol": "circle"
         },
         "mode": "lines",
         "name": "GNB",
         "opacity": 1,
         "orientation": "v",
         "showlegend": true,
         "type": "scatter",
         "x": [
          17,
          17.73,
          18.46,
          19.19,
          19.92,
          20.65,
          21.38,
          22.11,
          22.84,
          23.57,
          24.3,
          25.03,
          25.759999999999998,
          26.490000000000002,
          27.22,
          27.95,
          28.68,
          29.41,
          30.14,
          30.869999999999997,
          31.6,
          32.33,
          33.06,
          33.79,
          34.519999999999996,
          35.25,
          35.980000000000004,
          36.71,
          37.44,
          38.17,
          38.9,
          39.629999999999995,
          40.36,
          41.09,
          41.82,
          42.55,
          43.28,
          44.01,
          44.739999999999995,
          45.47,
          46.2,
          46.93,
          47.66,
          48.39,
          49.12,
          49.85,
          50.58,
          51.31,
          52.04,
          52.769999999999996,
          53.5,
          54.23,
          54.96,
          55.69,
          56.42,
          57.15,
          57.879999999999995,
          58.61,
          59.339999999999996,
          60.07,
          60.8,
          61.53,
          62.26,
          62.99,
          63.72,
          64.44999999999999,
          65.18,
          65.91,
          66.64,
          67.37,
          68.1,
          68.83,
          69.56,
          70.28999999999999,
          71.02,
          71.75,
          72.47999999999999,
          73.21000000000001,
          73.94,
          74.67,
          75.4,
          76.13,
          76.86,
          77.59,
          78.32,
          79.05,
          79.78,
          80.50999999999999,
          81.24,
          81.97,
          82.7,
          83.42999999999999,
          84.16,
          84.89,
          85.62,
          86.35,
          87.08,
          87.81,
          88.53999999999999,
          89.27,
          90
         ],
         "xaxis": "x5",
         "y": [
          0.5977830094655965,
          0.5981518676283955,
          0.5985221377191983,
          0.5988933652623718,
          0.5992650734768784,
          0.5996367723062964,
          0.6000079667457947,
          0.6003781642342932,
          0.6007468809662326,
          0.6011136470564621,
          0.6014780105599896,
          0.6018395404033517,
          0.6021978283252646,
          0.6025524899512564,
          0.6029031651413995,
          0.6032495177538738,
          0.6035912349621253,
          0.603928026252107,
          0.6042596222106953,
          0.6045857731987868,
          0.6049062479843886,
          0.60522083239345,
          0.6055293280201037,
          0.6058315510239405,
          0.6061273310301626,
          0.6064165101390507,
          0.6066989420439544,
          0.6069744912518648,
          0.6072430323971282,
          0.6075044496368895,
          0.6077586361159634,
          0.6080054934888391,
          0.6082449314871545,
          0.6084768675220189,
          0.6087012263118654,
          0.60891793952794,
          0.6091269454509661,
          0.6093281886339171,
          0.6095216195671354,
          0.6097071943431894,
          0.6098848743198965,
          0.6100546257808244,
          0.6102164195933054,
          0.6103702308646289,
          0.6105160385975293,
          0.6106538253464721,
          0.610783576876503,
          0.6109052818266053,
          0.6110189313796295,
          0.6111245189408826,
          0.6112220398274969,
          0.611311490970608,
          0.6113928706323251,
          0.6114661781393527,
          0.6115314136349974,
          0.6115885778511588,
          0.6116376719017441,
          0.6116786970988002,
          0.6117116547924785,
          0.6117365462358106,
          0.6117533724750822,
          0.6117621342664631,
          0.6117628320193624,
          0.6117554657668457,
          0.611740035163275,
          0.6117165395091902,
          0.6116849778032879,
          0.6116453488211991,
          0.6115976512206096,
          0.6115418836721103,
          0.6114780450150021,
          0.6114061344371149,
          0.6113261516775507,
          0.611238097251083,
          0.6111419726928017,
          0.611037780821431,
          0.6109255260196078,
          0.6108052145292789,
          0.6106768547602656,
          0.6105404576099529,
          0.6103960367920166,
          0.6102436091720749,
          0.6100831951082034,
          0.609914818794339,
          0.6097385086047662,
          0.6095542974381442,
          0.6093622230598649,
          0.6091623284420049,
          0.6089546621007135,
          0.6087392784315858,
          0.6085162380444336,
          0.6082856080998694,
          0.6080474626512653,
          0.6078018829969026,
          0.6075489580485451,
          0.6072887847240706,
          0.607021468373239,
          0.6067471232470095,
          0.6064658730219149,
          0.6061778513917123,
          0.6058832027386681
         ],
         "yaxis": "y5"
        },
        {
         "customdata": [
          [
           0.6082035104246867,
           "GNB",
           "fnlwgt"
          ],
          [
           0.6082035104246867,
           "GNB",
           "fnlwgt"
          ],
          [
           0.6082035104246867,
           "GNB",
           "fnlwgt"
          ],
          [
           0.6082035104246867,
           "GNB",
           "fnlwgt"
          ],
          [
           0.6082035104246867,
           "GNB",
           "fnlwgt"
          ],
          [
           0.6082035104246867,
           "GNB",
           "fnlwgt"
          ],
          [
           0.6082035104246867,
           "GNB",
           "fnlwgt"
          ],
          [
           0.6082035104246867,
           "GNB",
           "fnlwgt"
          ],
          [
           0.6082035104246867,
           "GNB",
           "fnlwgt"
          ],
          [
           0.6082035104246867,
           "GNB",
           "fnlwgt"
          ],
          [
           0.6082035104246867,
           "GNB",
           "fnlwgt"
          ],
          [
           0.6082035104246867,
           "GNB",
           "fnlwgt"
          ],
          [
           0.6082035104246867,
           "GNB",
           "fnlwgt"
          ],
          [
           0.6082035104246867,
           "GNB",
           "fnlwgt"
          ],
          [
           0.6082035104246867,
           "GNB",
           "fnlwgt"
          ],
          [
           0.6082035104246867,
           "GNB",
           "fnlwgt"
          ],
          [
           0.6082035104246867,
           "GNB",
           "fnlwgt"
          ],
          [
           0.6082035104246867,
           "GNB",
           "fnlwgt"
          ],
          [
           0.6082035104246867,
           "GNB",
           "fnlwgt"
          ],
          [
           0.6082035104246867,
           "GNB",
           "fnlwgt"
          ],
          [
           0.6082035104246867,
           "GNB",
           "fnlwgt"
          ],
          [
           0.6082035104246867,
           "GNB",
           "fnlwgt"
          ],
          [
           0.6082035104246867,
           "GNB",
           "fnlwgt"
          ],
          [
           0.6082035104246867,
           "GNB",
           "fnlwgt"
          ],
          [
           0.6082035104246867,
           "GNB",
           "fnlwgt"
          ],
          [
           0.6082035104246867,
           "GNB",
           "fnlwgt"
          ],
          [
           0.6082035104246867,
           "GNB",
           "fnlwgt"
          ],
          [
           0.6082035104246867,
           "GNB",
           "fnlwgt"
          ],
          [
           0.6082035104246867,
           "GNB",
           "fnlwgt"
          ],
          [
           0.6082035104246867,
           "GNB",
           "fnlwgt"
          ],
          [
           0.6082035104246867,
           "GNB",
           "fnlwgt"
          ],
          [
           0.6082035104246867,
           "GNB",
           "fnlwgt"
          ],
          [
           0.6082035104246867,
           "GNB",
           "fnlwgt"
          ],
          [
           0.6082035104246867,
           "GNB",
           "fnlwgt"
          ],
          [
           0.6082035104246867,
           "GNB",
           "fnlwgt"
          ],
          [
           0.6082035104246867,
           "GNB",
           "fnlwgt"
          ],
          [
           0.6082035104246867,
           "GNB",
           "fnlwgt"
          ],
          [
           0.6082035104246867,
           "GNB",
           "fnlwgt"
          ],
          [
           0.6082035104246867,
           "GNB",
           "fnlwgt"
          ],
          [
           0.6082035104246867,
           "GNB",
           "fnlwgt"
          ],
          [
           0.6082035104246867,
           "GNB",
           "fnlwgt"
          ],
          [
           0.6082035104246867,
           "GNB",
           "fnlwgt"
          ],
          [
           0.6082035104246867,
           "GNB",
           "fnlwgt"
          ],
          [
           0.6082035104246867,
           "GNB",
           "fnlwgt"
          ],
          [
           0.6082035104246867,
           "GNB",
           "fnlwgt"
          ],
          [
           0.6082035104246867,
           "GNB",
           "fnlwgt"
          ],
          [
           0.6082035104246867,
           "GNB",
           "fnlwgt"
          ],
          [
           0.6082035104246867,
           "GNB",
           "fnlwgt"
          ],
          [
           0.6082035104246867,
           "GNB",
           "fnlwgt"
          ],
          [
           0.6082035104246867,
           "GNB",
           "fnlwgt"
          ],
          [
           0.6082035104246867,
           "GNB",
           "fnlwgt"
          ],
          [
           0.6082035104246867,
           "GNB",
           "fnlwgt"
          ],
          [
           0.6082035104246867,
           "GNB",
           "fnlwgt"
          ],
          [
           0.6082035104246867,
           "GNB",
           "fnlwgt"
          ],
          [
           0.6082035104246867,
           "GNB",
           "fnlwgt"
          ],
          [
           0.6082035104246867,
           "GNB",
           "fnlwgt"
          ],
          [
           0.6082035104246867,
           "GNB",
           "fnlwgt"
          ],
          [
           0.6082035104246867,
           "GNB",
           "fnlwgt"
          ],
          [
           0.6082035104246867,
           "GNB",
           "fnlwgt"
          ],
          [
           0.6082035104246867,
           "GNB",
           "fnlwgt"
          ],
          [
           0.6082035104246867,
           "GNB",
           "fnlwgt"
          ],
          [
           0.6082035104246867,
           "GNB",
           "fnlwgt"
          ],
          [
           0.6082035104246867,
           "GNB",
           "fnlwgt"
          ],
          [
           0.6082035104246867,
           "GNB",
           "fnlwgt"
          ],
          [
           0.6082035104246867,
           "GNB",
           "fnlwgt"
          ],
          [
           0.6082035104246867,
           "GNB",
           "fnlwgt"
          ],
          [
           0.6082035104246867,
           "GNB",
           "fnlwgt"
          ],
          [
           0.6082035104246867,
           "GNB",
           "fnlwgt"
          ],
          [
           0.6082035104246867,
           "GNB",
           "fnlwgt"
          ],
          [
           0.6082035104246867,
           "GNB",
           "fnlwgt"
          ],
          [
           0.6082035104246867,
           "GNB",
           "fnlwgt"
          ],
          [
           0.6082035104246867,
           "GNB",
           "fnlwgt"
          ],
          [
           0.6082035104246867,
           "GNB",
           "fnlwgt"
          ],
          [
           0.6082035104246867,
           "GNB",
           "fnlwgt"
          ],
          [
           0.6082035104246867,
           "GNB",
           "fnlwgt"
          ],
          [
           0.6082035104246867,
           "GNB",
           "fnlwgt"
          ],
          [
           0.6082035104246867,
           "GNB",
           "fnlwgt"
          ],
          [
           0.6082035104246867,
           "GNB",
           "fnlwgt"
          ],
          [
           0.6082035104246867,
           "GNB",
           "fnlwgt"
          ],
          [
           0.6082035104246867,
           "GNB",
           "fnlwgt"
          ],
          [
           0.6082035104246867,
           "GNB",
           "fnlwgt"
          ],
          [
           0.6082035104246867,
           "GNB",
           "fnlwgt"
          ],
          [
           0.6082035104246867,
           "GNB",
           "fnlwgt"
          ],
          [
           0.6082035104246867,
           "GNB",
           "fnlwgt"
          ],
          [
           0.6082035104246867,
           "GNB",
           "fnlwgt"
          ],
          [
           0.6082035104246867,
           "GNB",
           "fnlwgt"
          ],
          [
           0.6082035104246867,
           "GNB",
           "fnlwgt"
          ],
          [
           0.6082035104246867,
           "GNB",
           "fnlwgt"
          ],
          [
           0.6082035104246867,
           "GNB",
           "fnlwgt"
          ],
          [
           0.6082035104246867,
           "GNB",
           "fnlwgt"
          ],
          [
           0.6082035104246867,
           "GNB",
           "fnlwgt"
          ],
          [
           0.6082035104246867,
           "GNB",
           "fnlwgt"
          ],
          [
           0.6082035104246867,
           "GNB",
           "fnlwgt"
          ],
          [
           0.6082035104246867,
           "GNB",
           "fnlwgt"
          ],
          [
           0.6082035104246867,
           "GNB",
           "fnlwgt"
          ],
          [
           0.6082035104246867,
           "GNB",
           "fnlwgt"
          ],
          [
           0.6082035104246867,
           "GNB",
           "fnlwgt"
          ],
          [
           0.6082035104246867,
           "GNB",
           "fnlwgt"
          ],
          [
           0.6082035104246867,
           "GNB",
           "fnlwgt"
          ],
          [
           0.6082035104246867,
           "GNB",
           "fnlwgt"
          ],
          [
           0.6082035104246867,
           "GNB",
           "fnlwgt"
          ]
         ],
         "hovertemplate": "<b>%{hovertext}</b><br><br>prediction=%{y:.3f}<br>mean_prediction=%{customdata[0]:.3f}<extra></extra>",
         "hovertext": [
          "GNB",
          "GNB",
          "GNB",
          "GNB",
          "GNB",
          "GNB",
          "GNB",
          "GNB",
          "GNB",
          "GNB",
          "GNB",
          "GNB",
          "GNB",
          "GNB",
          "GNB",
          "GNB",
          "GNB",
          "GNB",
          "GNB",
          "GNB",
          "GNB",
          "GNB",
          "GNB",
          "GNB",
          "GNB",
          "GNB",
          "GNB",
          "GNB",
          "GNB",
          "GNB",
          "GNB",
          "GNB",
          "GNB",
          "GNB",
          "GNB",
          "GNB",
          "GNB",
          "GNB",
          "GNB",
          "GNB",
          "GNB",
          "GNB",
          "GNB",
          "GNB",
          "GNB",
          "GNB",
          "GNB",
          "GNB",
          "GNB",
          "GNB",
          "GNB",
          "GNB",
          "GNB",
          "GNB",
          "GNB",
          "GNB",
          "GNB",
          "GNB",
          "GNB",
          "GNB",
          "GNB",
          "GNB",
          "GNB",
          "GNB",
          "GNB",
          "GNB",
          "GNB",
          "GNB",
          "GNB",
          "GNB",
          "GNB",
          "GNB",
          "GNB",
          "GNB",
          "GNB",
          "GNB",
          "GNB",
          "GNB",
          "GNB",
          "GNB",
          "GNB",
          "GNB",
          "GNB",
          "GNB",
          "GNB",
          "GNB",
          "GNB",
          "GNB",
          "GNB",
          "GNB",
          "GNB",
          "GNB",
          "GNB",
          "GNB",
          "GNB",
          "GNB",
          "GNB",
          "GNB",
          "GNB",
          "GNB",
          "GNB"
         ],
         "legendgroup": "GNB",
         "line": {
          "color": "#46bac2",
          "dash": "solid",
          "width": 2
         },
         "marker": {
          "symbol": "circle"
         },
         "mode": "lines",
         "name": "GNB",
         "opacity": 1,
         "orientation": "v",
         "showlegend": false,
         "type": "scatter",
         "x": [
          12285,
          27009.2,
          41733.4,
          56457.600000000006,
          71181.8,
          85906,
          100630.20000000001,
          115354.40000000001,
          130078.6,
          144802.80000000002,
          159527,
          174251.2,
          188975.40000000002,
          203699.6,
          218423.80000000002,
          233148,
          247872.2,
          262596.4,
          277320.60000000003,
          292044.8,
          306769,
          321493.2,
          336217.4,
          350941.60000000003,
          365665.80000000005,
          380390,
          395114.2,
          409838.4,
          424562.60000000003,
          439286.80000000005,
          454011,
          468735.2,
          483459.4,
          498183.60000000003,
          512907.80000000005,
          527632,
          542356.2000000001,
          557080.4,
          571804.6,
          586528.8,
          601253,
          615977.2000000001,
          630701.4,
          645425.6,
          660149.8,
          674874,
          689598.2000000001,
          704322.4,
          719046.6000000001,
          733770.8,
          748495,
          763219.2000000001,
          777943.4,
          792667.6000000001,
          807391.8,
          822116,
          836840.2000000001,
          851564.4,
          866288.6000000001,
          881012.8,
          895737,
          910461.2000000001,
          925185.4,
          939909.6000000001,
          954633.8,
          969358,
          984082.2000000001,
          998806.4,
          1013530.6000000001,
          1028254.8,
          1042979,
          1057703.2000000002,
          1072427.4000000001,
          1087151.6,
          1101875.8,
          1116600,
          1131324.2,
          1146048.4000000001,
          1160772.6,
          1175496.8,
          1190221,
          1204945.2,
          1219669.4000000001,
          1234393.6,
          1249117.8,
          1263842,
          1278566.2,
          1293290.4000000001,
          1308014.6,
          1322738.8,
          1337463,
          1352187.2,
          1366911.4000000001,
          1381635.6,
          1396359.8,
          1411084,
          1425808.2000000002,
          1440532.4000000001,
          1455256.6,
          1469980.8,
          1484705
         ],
         "xaxis": "x6",
         "y": [
          0.6081781830173947,
          0.6082458352935366,
          0.6083068576629391,
          0.608361235911191,
          0.6084089577944615,
          0.6084500128975907,
          0.6084843925082211,
          0.6085120895075405,
          0.6085330982781033,
          0.6085474146291237,
          0.6085550357395445,
          0.6085559601191127,
          0.6085501875876158,
          0.6085377192723623,
          0.6085185576239134,
          0.6084927064500062,
          0.608460170967534,
          0.608420957872373,
          0.6083750754267739,
          0.608322533563947,
          0.6082633440093974,
          0.6081975204184703,
          0.608125078529469,
          0.6080460363316238,
          0.6079604142470653,
          0.607868235325856,
          0.607769525453012,
          0.6076643135663214,
          0.60755263188364,
          0.6074345161382027,
          0.6073100058203598,
          0.6071791444239903,
          0.6070419796957196,
          0.6068985638849015,
          0.6067489539921955,
          0.6065932120144201,
          0.6064314051832206,
          0.6062636061949676,
          0.6060898934291533,
          0.6059103511524525,
          0.6057250697054865,
          0.6055341456692294,
          0.605337682007902,
          0.6051357881851052,
          0.6049285802498704,
          0.6047161808892315,
          0.604498719443862,
          0.6042763318832596,
          0.6040491607369226,
          0.603817354977914,
          0.6035810698551902,
          0.6033404666710621,
          0.6030957125001554,
          0.6028469798462968,
          0.6025944462338061,
          0.6023382937298162,
          0.6020787083944172,
          0.6018158796556842,
          0.6015499996069902,
          0.6012812622244518,
          0.6010098625029211,
          0.6007359955096278,
          0.6004598553554128,
          0.6001816340844951,
          0.599901520484892,
          0.5996196988230015,
          0.5993363475074797,
          0.5990516376894671,
          0.5987657318085003,
          0.5984787820961518,
          0.5981909290527335,
          0.5979022999163383,
          0.5976130071482704,
          0.5973231469646199,
          0.597032797950467,
          0.5967420198010179,
          0.5964508522427127,
          0.5961593141968597,
          0.5958674032581146,
          0.5955750955695067,
          0.5952823461837531,
          0.594989090006136,
          0.5946952434158488,
          0.5944007066589815,
          0.5941053670957382,
          0.5938091033658162,
          0.5935117905082392,
          0.5932133060350889,
          0.5929135369129701,
          0.592612387353105,
          0.5923097872530094,
          0.5920057010729439,
          0.5917001368727098,
          0.5913931551831723,
          0.5910848773465005,
          0.5907754929334873,
          0.5904652658385436,
          0.5901545386650685,
          0.5898437350464245,
          0.5895333595999859,
          0.5892239952816195
         ],
         "yaxis": "y6"
        },
        {
         "customdata": [
          [
           0.6082035104246867,
           "GNB",
           "EducationNum"
          ],
          [
           0.6082035104246867,
           "GNB",
           "EducationNum"
          ],
          [
           0.6082035104246867,
           "GNB",
           "EducationNum"
          ],
          [
           0.6082035104246867,
           "GNB",
           "EducationNum"
          ],
          [
           0.6082035104246867,
           "GNB",
           "EducationNum"
          ],
          [
           0.6082035104246867,
           "GNB",
           "EducationNum"
          ],
          [
           0.6082035104246867,
           "GNB",
           "EducationNum"
          ],
          [
           0.6082035104246867,
           "GNB",
           "EducationNum"
          ],
          [
           0.6082035104246867,
           "GNB",
           "EducationNum"
          ],
          [
           0.6082035104246867,
           "GNB",
           "EducationNum"
          ],
          [
           0.6082035104246867,
           "GNB",
           "EducationNum"
          ],
          [
           0.6082035104246867,
           "GNB",
           "EducationNum"
          ],
          [
           0.6082035104246867,
           "GNB",
           "EducationNum"
          ],
          [
           0.6082035104246867,
           "GNB",
           "EducationNum"
          ],
          [
           0.6082035104246867,
           "GNB",
           "EducationNum"
          ],
          [
           0.6082035104246867,
           "GNB",
           "EducationNum"
          ],
          [
           0.6082035104246867,
           "GNB",
           "EducationNum"
          ],
          [
           0.6082035104246867,
           "GNB",
           "EducationNum"
          ],
          [
           0.6082035104246867,
           "GNB",
           "EducationNum"
          ],
          [
           0.6082035104246867,
           "GNB",
           "EducationNum"
          ],
          [
           0.6082035104246867,
           "GNB",
           "EducationNum"
          ],
          [
           0.6082035104246867,
           "GNB",
           "EducationNum"
          ],
          [
           0.6082035104246867,
           "GNB",
           "EducationNum"
          ],
          [
           0.6082035104246867,
           "GNB",
           "EducationNum"
          ],
          [
           0.6082035104246867,
           "GNB",
           "EducationNum"
          ],
          [
           0.6082035104246867,
           "GNB",
           "EducationNum"
          ],
          [
           0.6082035104246867,
           "GNB",
           "EducationNum"
          ],
          [
           0.6082035104246867,
           "GNB",
           "EducationNum"
          ],
          [
           0.6082035104246867,
           "GNB",
           "EducationNum"
          ],
          [
           0.6082035104246867,
           "GNB",
           "EducationNum"
          ],
          [
           0.6082035104246867,
           "GNB",
           "EducationNum"
          ],
          [
           0.6082035104246867,
           "GNB",
           "EducationNum"
          ],
          [
           0.6082035104246867,
           "GNB",
           "EducationNum"
          ],
          [
           0.6082035104246867,
           "GNB",
           "EducationNum"
          ],
          [
           0.6082035104246867,
           "GNB",
           "EducationNum"
          ],
          [
           0.6082035104246867,
           "GNB",
           "EducationNum"
          ],
          [
           0.6082035104246867,
           "GNB",
           "EducationNum"
          ],
          [
           0.6082035104246867,
           "GNB",
           "EducationNum"
          ],
          [
           0.6082035104246867,
           "GNB",
           "EducationNum"
          ],
          [
           0.6082035104246867,
           "GNB",
           "EducationNum"
          ],
          [
           0.6082035104246867,
           "GNB",
           "EducationNum"
          ],
          [
           0.6082035104246867,
           "GNB",
           "EducationNum"
          ],
          [
           0.6082035104246867,
           "GNB",
           "EducationNum"
          ],
          [
           0.6082035104246867,
           "GNB",
           "EducationNum"
          ],
          [
           0.6082035104246867,
           "GNB",
           "EducationNum"
          ],
          [
           0.6082035104246867,
           "GNB",
           "EducationNum"
          ],
          [
           0.6082035104246867,
           "GNB",
           "EducationNum"
          ],
          [
           0.6082035104246867,
           "GNB",
           "EducationNum"
          ],
          [
           0.6082035104246867,
           "GNB",
           "EducationNum"
          ],
          [
           0.6082035104246867,
           "GNB",
           "EducationNum"
          ],
          [
           0.6082035104246867,
           "GNB",
           "EducationNum"
          ],
          [
           0.6082035104246867,
           "GNB",
           "EducationNum"
          ],
          [
           0.6082035104246867,
           "GNB",
           "EducationNum"
          ],
          [
           0.6082035104246867,
           "GNB",
           "EducationNum"
          ],
          [
           0.6082035104246867,
           "GNB",
           "EducationNum"
          ],
          [
           0.6082035104246867,
           "GNB",
           "EducationNum"
          ],
          [
           0.6082035104246867,
           "GNB",
           "EducationNum"
          ],
          [
           0.6082035104246867,
           "GNB",
           "EducationNum"
          ],
          [
           0.6082035104246867,
           "GNB",
           "EducationNum"
          ],
          [
           0.6082035104246867,
           "GNB",
           "EducationNum"
          ],
          [
           0.6082035104246867,
           "GNB",
           "EducationNum"
          ],
          [
           0.6082035104246867,
           "GNB",
           "EducationNum"
          ],
          [
           0.6082035104246867,
           "GNB",
           "EducationNum"
          ],
          [
           0.6082035104246867,
           "GNB",
           "EducationNum"
          ],
          [
           0.6082035104246867,
           "GNB",
           "EducationNum"
          ],
          [
           0.6082035104246867,
           "GNB",
           "EducationNum"
          ],
          [
           0.6082035104246867,
           "GNB",
           "EducationNum"
          ],
          [
           0.6082035104246867,
           "GNB",
           "EducationNum"
          ],
          [
           0.6082035104246867,
           "GNB",
           "EducationNum"
          ],
          [
           0.6082035104246867,
           "GNB",
           "EducationNum"
          ],
          [
           0.6082035104246867,
           "GNB",
           "EducationNum"
          ],
          [
           0.6082035104246867,
           "GNB",
           "EducationNum"
          ],
          [
           0.6082035104246867,
           "GNB",
           "EducationNum"
          ],
          [
           0.6082035104246867,
           "GNB",
           "EducationNum"
          ],
          [
           0.6082035104246867,
           "GNB",
           "EducationNum"
          ],
          [
           0.6082035104246867,
           "GNB",
           "EducationNum"
          ],
          [
           0.6082035104246867,
           "GNB",
           "EducationNum"
          ],
          [
           0.6082035104246867,
           "GNB",
           "EducationNum"
          ],
          [
           0.6082035104246867,
           "GNB",
           "EducationNum"
          ],
          [
           0.6082035104246867,
           "GNB",
           "EducationNum"
          ],
          [
           0.6082035104246867,
           "GNB",
           "EducationNum"
          ],
          [
           0.6082035104246867,
           "GNB",
           "EducationNum"
          ],
          [
           0.6082035104246867,
           "GNB",
           "EducationNum"
          ],
          [
           0.6082035104246867,
           "GNB",
           "EducationNum"
          ],
          [
           0.6082035104246867,
           "GNB",
           "EducationNum"
          ],
          [
           0.6082035104246867,
           "GNB",
           "EducationNum"
          ],
          [
           0.6082035104246867,
           "GNB",
           "EducationNum"
          ],
          [
           0.6082035104246867,
           "GNB",
           "EducationNum"
          ],
          [
           0.6082035104246867,
           "GNB",
           "EducationNum"
          ],
          [
           0.6082035104246867,
           "GNB",
           "EducationNum"
          ],
          [
           0.6082035104246867,
           "GNB",
           "EducationNum"
          ],
          [
           0.6082035104246867,
           "GNB",
           "EducationNum"
          ],
          [
           0.6082035104246867,
           "GNB",
           "EducationNum"
          ],
          [
           0.6082035104246867,
           "GNB",
           "EducationNum"
          ],
          [
           0.6082035104246867,
           "GNB",
           "EducationNum"
          ],
          [
           0.6082035104246867,
           "GNB",
           "EducationNum"
          ],
          [
           0.6082035104246867,
           "GNB",
           "EducationNum"
          ],
          [
           0.6082035104246867,
           "GNB",
           "EducationNum"
          ],
          [
           0.6082035104246867,
           "GNB",
           "EducationNum"
          ],
          [
           0.6082035104246867,
           "GNB",
           "EducationNum"
          ],
          [
           0.6082035104246867,
           "GNB",
           "EducationNum"
          ]
         ],
         "hovertemplate": "<b>%{hovertext}</b><br><br>prediction=%{y:.3f}<br>mean_prediction=%{customdata[0]:.3f}<extra></extra>",
         "hovertext": [
          "GNB",
          "GNB",
          "GNB",
          "GNB",
          "GNB",
          "GNB",
          "GNB",
          "GNB",
          "GNB",
          "GNB",
          "GNB",
          "GNB",
          "GNB",
          "GNB",
          "GNB",
          "GNB",
          "GNB",
          "GNB",
          "GNB",
          "GNB",
          "GNB",
          "GNB",
          "GNB",
          "GNB",
          "GNB",
          "GNB",
          "GNB",
          "GNB",
          "GNB",
          "GNB",
          "GNB",
          "GNB",
          "GNB",
          "GNB",
          "GNB",
          "GNB",
          "GNB",
          "GNB",
          "GNB",
          "GNB",
          "GNB",
          "GNB",
          "GNB",
          "GNB",
          "GNB",
          "GNB",
          "GNB",
          "GNB",
          "GNB",
          "GNB",
          "GNB",
          "GNB",
          "GNB",
          "GNB",
          "GNB",
          "GNB",
          "GNB",
          "GNB",
          "GNB",
          "GNB",
          "GNB",
          "GNB",
          "GNB",
          "GNB",
          "GNB",
          "GNB",
          "GNB",
          "GNB",
          "GNB",
          "GNB",
          "GNB",
          "GNB",
          "GNB",
          "GNB",
          "GNB",
          "GNB",
          "GNB",
          "GNB",
          "GNB",
          "GNB",
          "GNB",
          "GNB",
          "GNB",
          "GNB",
          "GNB",
          "GNB",
          "GNB",
          "GNB",
          "GNB",
          "GNB",
          "GNB",
          "GNB",
          "GNB",
          "GNB",
          "GNB",
          "GNB",
          "GNB",
          "GNB",
          "GNB",
          "GNB",
          "GNB"
         ],
         "legendgroup": "GNB",
         "line": {
          "color": "#46bac2",
          "dash": "solid",
          "width": 2
         },
         "marker": {
          "symbol": "circle"
         },
         "mode": "lines",
         "name": "GNB",
         "opacity": 1,
         "orientation": "v",
         "showlegend": false,
         "type": "scatter",
         "x": [
          1,
          1.15,
          1.3,
          1.45,
          1.6,
          1.75,
          1.9,
          2.05,
          2.2,
          2.3499999999999996,
          2.5,
          2.65,
          2.8,
          2.95,
          3.1,
          3.25,
          3.4,
          3.55,
          3.6999999999999997,
          3.85,
          4,
          4.15,
          4.3,
          4.449999999999999,
          4.6,
          4.75,
          4.9,
          5.05,
          5.2,
          5.35,
          5.5,
          5.6499999999999995,
          5.8,
          5.95,
          6.1,
          6.25,
          6.3999999999999995,
          6.55,
          6.7,
          6.85,
          7,
          7.1499999999999995,
          7.3,
          7.45,
          7.6,
          7.75,
          7.8999999999999995,
          8.05,
          8.2,
          8.35,
          8.5,
          8.649999999999999,
          8.8,
          8.95,
          9.1,
          9.25,
          9.4,
          9.549999999999999,
          9.7,
          9.85,
          10,
          10.15,
          10.299999999999999,
          10.45,
          10.6,
          10.75,
          10.9,
          11.049999999999999,
          11.2,
          11.35,
          11.5,
          11.65,
          11.799999999999999,
          11.95,
          12.1,
          12.25,
          12.4,
          12.549999999999999,
          12.7,
          12.85,
          13,
          13.15,
          13.299999999999999,
          13.45,
          13.6,
          13.75,
          13.9,
          14.049999999999999,
          14.2,
          14.35,
          14.5,
          14.65,
          14.799999999999999,
          14.95,
          15.1,
          15.25,
          15.399999999999999,
          15.549999999999999,
          15.7,
          15.85,
          16
         ],
         "xaxis": "x3",
         "y": [
          0.5808170866741995,
          0.5811268304690184,
          0.581425341913359,
          0.5817133932504687,
          0.5819918492825679,
          0.5822617489583953,
          0.5825243600125015,
          0.5827811974914053,
          0.5830340050415546,
          0.5832847044168697,
          0.5835353228687155,
          0.5837879098525872,
          0.5840444543002847,
          0.5843068121839412,
          0.584576651741379,
          0.5848554208563431,
          0.5851443379019068,
          0.5854444040991638,
          0.5857564324739741,
          0.5860810862750138,
          0.586418918697259,
          0.5867704062067995,
          0.5871359696430101,
          0.5875159801964348,
          0.5879107506862907,
          0.5883205155739506,
          0.5887454052451898,
          0.5891854209250827,
          0.589640416114512,
          0.5901100888940759,
          0.5905939872557627,
          0.5910915272915443,
          0.5916020220439872,
          0.5921247174286266,
          0.5926588310152016,
          0.5932035895707568,
          0.5937582619500411,
          0.594322184922436,
          0.5948947806020418,
          0.5954755651043334,
          0.5960641487787435,
          0.5966602288372292,
          0.5972635754554283,
          0.5978740125403575,
          0.5984913944144131,
          0.5991155797167673,
          0.5997464038952185,
          0.6003836517469125,
          0.6010270315335271,
          0.6016761522026134,
          0.6023305051515468,
          0.6029894517489641,
          0.603652217478996,
          0.6043178931202399,
          0.6049854428605904,
          0.6056537187407535,
          0.6063214803753575,
          0.6069874185731182,
          0.6076501812997084,
          0.6083084004082319,
          0.6089607176884833,
          0.6096058090249195,
          0.6102424057609053,
          0.6108693126975179,
          0.6114854224684719,
          0.6120897262986422,
          0.6126813213552004,
          0.6132594150329987,
          0.613823326585141,
          0.6143724865276842,
          0.6149064342291083,
          0.6154248140552434,
          0.6159273703911903,
          0.6164139418123078,
          0.6168844546320251,
          0.6173389160173707,
          0.6177774068338056,
          0.6182000743579246,
          0.6186071249781158,
          0.6189988169875088,
          0.6193754535592322,
          0.6197373759801524,
          0.6200849572056868,
          0.6204185957848437,
          0.620738710191736,
          0.6210457335877259,
          0.6213401090274782,
          0.6216222851127385,
          0.6218927120897789,
          0.6221518383801278,
          0.6224001075293458,
          0.6226379555550471,
          0.622865808672858,
          0.6230840813773904,
          0.623293174854296,
          0.6234934756990032,
          0.6236853549175636,
          0.6238691671851609,
          0.6240452503381326,
          0.6242139250758092,
          0.6243754948490788
         ],
         "yaxis": "y3"
        },
        {
         "customdata": [
          [
           0.6082035104246867,
           "GNB",
           "CapitalGain"
          ],
          [
           0.6082035104246867,
           "GNB",
           "CapitalGain"
          ],
          [
           0.6082035104246867,
           "GNB",
           "CapitalGain"
          ],
          [
           0.6082035104246867,
           "GNB",
           "CapitalGain"
          ],
          [
           0.6082035104246867,
           "GNB",
           "CapitalGain"
          ],
          [
           0.6082035104246867,
           "GNB",
           "CapitalGain"
          ],
          [
           0.6082035104246867,
           "GNB",
           "CapitalGain"
          ],
          [
           0.6082035104246867,
           "GNB",
           "CapitalGain"
          ],
          [
           0.6082035104246867,
           "GNB",
           "CapitalGain"
          ],
          [
           0.6082035104246867,
           "GNB",
           "CapitalGain"
          ],
          [
           0.6082035104246867,
           "GNB",
           "CapitalGain"
          ],
          [
           0.6082035104246867,
           "GNB",
           "CapitalGain"
          ],
          [
           0.6082035104246867,
           "GNB",
           "CapitalGain"
          ],
          [
           0.6082035104246867,
           "GNB",
           "CapitalGain"
          ],
          [
           0.6082035104246867,
           "GNB",
           "CapitalGain"
          ],
          [
           0.6082035104246867,
           "GNB",
           "CapitalGain"
          ],
          [
           0.6082035104246867,
           "GNB",
           "CapitalGain"
          ],
          [
           0.6082035104246867,
           "GNB",
           "CapitalGain"
          ],
          [
           0.6082035104246867,
           "GNB",
           "CapitalGain"
          ],
          [
           0.6082035104246867,
           "GNB",
           "CapitalGain"
          ],
          [
           0.6082035104246867,
           "GNB",
           "CapitalGain"
          ],
          [
           0.6082035104246867,
           "GNB",
           "CapitalGain"
          ],
          [
           0.6082035104246867,
           "GNB",
           "CapitalGain"
          ],
          [
           0.6082035104246867,
           "GNB",
           "CapitalGain"
          ],
          [
           0.6082035104246867,
           "GNB",
           "CapitalGain"
          ],
          [
           0.6082035104246867,
           "GNB",
           "CapitalGain"
          ],
          [
           0.6082035104246867,
           "GNB",
           "CapitalGain"
          ],
          [
           0.6082035104246867,
           "GNB",
           "CapitalGain"
          ],
          [
           0.6082035104246867,
           "GNB",
           "CapitalGain"
          ],
          [
           0.6082035104246867,
           "GNB",
           "CapitalGain"
          ],
          [
           0.6082035104246867,
           "GNB",
           "CapitalGain"
          ],
          [
           0.6082035104246867,
           "GNB",
           "CapitalGain"
          ],
          [
           0.6082035104246867,
           "GNB",
           "CapitalGain"
          ],
          [
           0.6082035104246867,
           "GNB",
           "CapitalGain"
          ],
          [
           0.6082035104246867,
           "GNB",
           "CapitalGain"
          ],
          [
           0.6082035104246867,
           "GNB",
           "CapitalGain"
          ],
          [
           0.6082035104246867,
           "GNB",
           "CapitalGain"
          ],
          [
           0.6082035104246867,
           "GNB",
           "CapitalGain"
          ],
          [
           0.6082035104246867,
           "GNB",
           "CapitalGain"
          ],
          [
           0.6082035104246867,
           "GNB",
           "CapitalGain"
          ],
          [
           0.6082035104246867,
           "GNB",
           "CapitalGain"
          ],
          [
           0.6082035104246867,
           "GNB",
           "CapitalGain"
          ],
          [
           0.6082035104246867,
           "GNB",
           "CapitalGain"
          ],
          [
           0.6082035104246867,
           "GNB",
           "CapitalGain"
          ],
          [
           0.6082035104246867,
           "GNB",
           "CapitalGain"
          ],
          [
           0.6082035104246867,
           "GNB",
           "CapitalGain"
          ],
          [
           0.6082035104246867,
           "GNB",
           "CapitalGain"
          ],
          [
           0.6082035104246867,
           "GNB",
           "CapitalGain"
          ],
          [
           0.6082035104246867,
           "GNB",
           "CapitalGain"
          ],
          [
           0.6082035104246867,
           "GNB",
           "CapitalGain"
          ],
          [
           0.6082035104246867,
           "GNB",
           "CapitalGain"
          ],
          [
           0.6082035104246867,
           "GNB",
           "CapitalGain"
          ],
          [
           0.6082035104246867,
           "GNB",
           "CapitalGain"
          ],
          [
           0.6082035104246867,
           "GNB",
           "CapitalGain"
          ],
          [
           0.6082035104246867,
           "GNB",
           "CapitalGain"
          ],
          [
           0.6082035104246867,
           "GNB",
           "CapitalGain"
          ],
          [
           0.6082035104246867,
           "GNB",
           "CapitalGain"
          ],
          [
           0.6082035104246867,
           "GNB",
           "CapitalGain"
          ],
          [
           0.6082035104246867,
           "GNB",
           "CapitalGain"
          ],
          [
           0.6082035104246867,
           "GNB",
           "CapitalGain"
          ],
          [
           0.6082035104246867,
           "GNB",
           "CapitalGain"
          ],
          [
           0.6082035104246867,
           "GNB",
           "CapitalGain"
          ],
          [
           0.6082035104246867,
           "GNB",
           "CapitalGain"
          ],
          [
           0.6082035104246867,
           "GNB",
           "CapitalGain"
          ],
          [
           0.6082035104246867,
           "GNB",
           "CapitalGain"
          ],
          [
           0.6082035104246867,
           "GNB",
           "CapitalGain"
          ],
          [
           0.6082035104246867,
           "GNB",
           "CapitalGain"
          ],
          [
           0.6082035104246867,
           "GNB",
           "CapitalGain"
          ],
          [
           0.6082035104246867,
           "GNB",
           "CapitalGain"
          ],
          [
           0.6082035104246867,
           "GNB",
           "CapitalGain"
          ],
          [
           0.6082035104246867,
           "GNB",
           "CapitalGain"
          ],
          [
           0.6082035104246867,
           "GNB",
           "CapitalGain"
          ],
          [
           0.6082035104246867,
           "GNB",
           "CapitalGain"
          ],
          [
           0.6082035104246867,
           "GNB",
           "CapitalGain"
          ],
          [
           0.6082035104246867,
           "GNB",
           "CapitalGain"
          ],
          [
           0.6082035104246867,
           "GNB",
           "CapitalGain"
          ],
          [
           0.6082035104246867,
           "GNB",
           "CapitalGain"
          ],
          [
           0.6082035104246867,
           "GNB",
           "CapitalGain"
          ],
          [
           0.6082035104246867,
           "GNB",
           "CapitalGain"
          ],
          [
           0.6082035104246867,
           "GNB",
           "CapitalGain"
          ],
          [
           0.6082035104246867,
           "GNB",
           "CapitalGain"
          ],
          [
           0.6082035104246867,
           "GNB",
           "CapitalGain"
          ],
          [
           0.6082035104246867,
           "GNB",
           "CapitalGain"
          ],
          [
           0.6082035104246867,
           "GNB",
           "CapitalGain"
          ],
          [
           0.6082035104246867,
           "GNB",
           "CapitalGain"
          ],
          [
           0.6082035104246867,
           "GNB",
           "CapitalGain"
          ],
          [
           0.6082035104246867,
           "GNB",
           "CapitalGain"
          ],
          [
           0.6082035104246867,
           "GNB",
           "CapitalGain"
          ],
          [
           0.6082035104246867,
           "GNB",
           "CapitalGain"
          ],
          [
           0.6082035104246867,
           "GNB",
           "CapitalGain"
          ],
          [
           0.6082035104246867,
           "GNB",
           "CapitalGain"
          ],
          [
           0.6082035104246867,
           "GNB",
           "CapitalGain"
          ],
          [
           0.6082035104246867,
           "GNB",
           "CapitalGain"
          ],
          [
           0.6082035104246867,
           "GNB",
           "CapitalGain"
          ],
          [
           0.6082035104246867,
           "GNB",
           "CapitalGain"
          ],
          [
           0.6082035104246867,
           "GNB",
           "CapitalGain"
          ],
          [
           0.6082035104246867,
           "GNB",
           "CapitalGain"
          ],
          [
           0.6082035104246867,
           "GNB",
           "CapitalGain"
          ],
          [
           0.6082035104246867,
           "GNB",
           "CapitalGain"
          ],
          [
           0.6082035104246867,
           "GNB",
           "CapitalGain"
          ],
          [
           0.6082035104246867,
           "GNB",
           "CapitalGain"
          ]
         ],
         "hovertemplate": "<b>%{hovertext}</b><br><br>prediction=%{y:.3f}<br>mean_prediction=%{customdata[0]:.3f}<extra></extra>",
         "hovertext": [
          "GNB",
          "GNB",
          "GNB",
          "GNB",
          "GNB",
          "GNB",
          "GNB",
          "GNB",
          "GNB",
          "GNB",
          "GNB",
          "GNB",
          "GNB",
          "GNB",
          "GNB",
          "GNB",
          "GNB",
          "GNB",
          "GNB",
          "GNB",
          "GNB",
          "GNB",
          "GNB",
          "GNB",
          "GNB",
          "GNB",
          "GNB",
          "GNB",
          "GNB",
          "GNB",
          "GNB",
          "GNB",
          "GNB",
          "GNB",
          "GNB",
          "GNB",
          "GNB",
          "GNB",
          "GNB",
          "GNB",
          "GNB",
          "GNB",
          "GNB",
          "GNB",
          "GNB",
          "GNB",
          "GNB",
          "GNB",
          "GNB",
          "GNB",
          "GNB",
          "GNB",
          "GNB",
          "GNB",
          "GNB",
          "GNB",
          "GNB",
          "GNB",
          "GNB",
          "GNB",
          "GNB",
          "GNB",
          "GNB",
          "GNB",
          "GNB",
          "GNB",
          "GNB",
          "GNB",
          "GNB",
          "GNB",
          "GNB",
          "GNB",
          "GNB",
          "GNB",
          "GNB",
          "GNB",
          "GNB",
          "GNB",
          "GNB",
          "GNB",
          "GNB",
          "GNB",
          "GNB",
          "GNB",
          "GNB",
          "GNB",
          "GNB",
          "GNB",
          "GNB",
          "GNB",
          "GNB",
          "GNB",
          "GNB",
          "GNB",
          "GNB",
          "GNB",
          "GNB",
          "GNB",
          "GNB",
          "GNB",
          "GNB"
         ],
         "legendgroup": "GNB",
         "line": {
          "color": "#46bac2",
          "dash": "solid",
          "width": 2
         },
         "marker": {
          "symbol": "circle"
         },
         "mode": "lines",
         "name": "GNB",
         "opacity": 1,
         "orientation": "v",
         "showlegend": false,
         "type": "scatter",
         "x": [
          0,
          999.99,
          1999.98,
          2999.9700000000003,
          3999.96,
          4999.95,
          5999.9400000000005,
          6999.93,
          7999.92,
          8999.91,
          9999.9,
          10999.89,
          11999.880000000001,
          12999.87,
          13999.86,
          14999.85,
          15999.84,
          16999.83,
          17999.82,
          18999.81,
          19999.8,
          20999.79,
          21999.78,
          22999.77,
          23999.760000000002,
          24999.75,
          25999.74,
          26999.73,
          27999.72,
          28999.71,
          29999.7,
          30999.69,
          31999.68,
          32999.67,
          33999.66,
          34999.65,
          35999.64,
          36999.63,
          37999.62,
          38999.61,
          39999.6,
          40999.590000000004,
          41999.58,
          42999.57,
          43999.56,
          44999.55,
          45999.54,
          46999.53,
          47999.520000000004,
          48999.51,
          49999.5,
          50999.49,
          51999.48,
          52999.47,
          53999.46,
          54999.45,
          55999.44,
          56999.43,
          57999.42,
          58999.41,
          59999.4,
          60999.39,
          61999.38,
          62999.37,
          63999.36,
          64999.35,
          65999.34,
          66999.33,
          67999.32,
          68999.31,
          69999.3,
          70999.29,
          71999.28,
          72999.27,
          73999.26,
          74999.25,
          75999.24,
          76999.23,
          77999.22,
          78999.21,
          79999.2,
          80999.19,
          81999.18000000001,
          82999.17,
          83999.16,
          84999.15,
          85999.14,
          86999.13,
          87999.12,
          88999.11,
          89999.1,
          90999.09,
          91999.08,
          92999.07,
          93999.06,
          94999.05,
          95999.04000000001,
          96999.03,
          97999.02,
          98999.01,
          99999
         ],
         "xaxis": "x4",
         "y": [
          0.5974365339288439,
          0.6023870826416655,
          0.6155987483583684,
          0.6303111926636643,
          0.6518423579112175,
          0.6632793095528142,
          0.6712792662596692,
          0.6833379362459105,
          0.703033574362091,
          0.7099974686034567,
          0.7274311406310031,
          0.7398519314501132,
          0.7497166278616082,
          0.7642084377532354,
          0.8166548159458448,
          0.8498796461118112,
          0.8649600145654645,
          0.8738571235980601,
          0.9091674909381392,
          0.9115952465519712,
          0.916666663007522,
          0.9200000473279484,
          0.9233598493051928,
          0.9270307930623054,
          0.9431580157562204,
          0.9433333333333334,
          0.9433333333333334,
          0.9433333333333334,
          0.9433333333333334,
          0.9433333333333334,
          0.9433333333333334,
          0.9433333333333334,
          0.9466667868761971,
          0.9566666666666672,
          0.9633333330567773,
          0.9633341516231397,
          0.9691898804410451,
          0.9733333326886722,
          0.9733333333333334,
          0.9733333333333334,
          0.9733333333333358,
          0.9766666666666667,
          0.9766666666666667,
          0.9766666666666667,
          0.9766666666666667,
          0.9766666666666667,
          0.98,
          0.98,
          0.98,
          0.98,
          0.98,
          0.98,
          0.98,
          0.98,
          0.98,
          0.9833333333333333,
          0.9833333333333333,
          0.9833333333333333,
          0.9833333333333333,
          0.9833333333333333,
          0.9833333333333333,
          0.99,
          0.99,
          0.99,
          0.9933323105651843,
          0.9933333333333333,
          0.9933333333333333,
          0.9933333333333333,
          0.9933333333333333,
          0.9933333333333333,
          0.9933333333333333,
          0.9933333333333333,
          0.9933333333333333,
          0.9933333333333333,
          0.9933333333333333,
          0.9933333333333333,
          0.9933333333333333,
          0.9933333333333333,
          0.9933333333333333,
          0.9933333333333333,
          0.9933333333333333,
          0.9933333333333333,
          0.9933333333333333,
          0.9933333333333333,
          0.9933333333333333,
          0.9933333333333333,
          0.9933333333333333,
          0.9933333333333333,
          0.9933333333333333,
          0.9933333333333333,
          0.9933333333333333,
          0.9933333333333333,
          0.9933333333333333,
          0.9933333333333333,
          0.9933333333333333,
          0.9933333333333333,
          0.9933333333333333,
          0.9933333333333333,
          0.9933333333333333,
          0.9933333333333333,
          0.9933333333333333
         ],
         "yaxis": "y4"
        },
        {
         "customdata": [
          [
           0.6082035104246867,
           "GNB",
           "CapitalLoss"
          ],
          [
           0.6082035104246867,
           "GNB",
           "CapitalLoss"
          ],
          [
           0.6082035104246867,
           "GNB",
           "CapitalLoss"
          ],
          [
           0.6082035104246867,
           "GNB",
           "CapitalLoss"
          ],
          [
           0.6082035104246867,
           "GNB",
           "CapitalLoss"
          ],
          [
           0.6082035104246867,
           "GNB",
           "CapitalLoss"
          ],
          [
           0.6082035104246867,
           "GNB",
           "CapitalLoss"
          ],
          [
           0.6082035104246867,
           "GNB",
           "CapitalLoss"
          ],
          [
           0.6082035104246867,
           "GNB",
           "CapitalLoss"
          ],
          [
           0.6082035104246867,
           "GNB",
           "CapitalLoss"
          ],
          [
           0.6082035104246867,
           "GNB",
           "CapitalLoss"
          ],
          [
           0.6082035104246867,
           "GNB",
           "CapitalLoss"
          ],
          [
           0.6082035104246867,
           "GNB",
           "CapitalLoss"
          ],
          [
           0.6082035104246867,
           "GNB",
           "CapitalLoss"
          ],
          [
           0.6082035104246867,
           "GNB",
           "CapitalLoss"
          ],
          [
           0.6082035104246867,
           "GNB",
           "CapitalLoss"
          ],
          [
           0.6082035104246867,
           "GNB",
           "CapitalLoss"
          ],
          [
           0.6082035104246867,
           "GNB",
           "CapitalLoss"
          ],
          [
           0.6082035104246867,
           "GNB",
           "CapitalLoss"
          ],
          [
           0.6082035104246867,
           "GNB",
           "CapitalLoss"
          ],
          [
           0.6082035104246867,
           "GNB",
           "CapitalLoss"
          ],
          [
           0.6082035104246867,
           "GNB",
           "CapitalLoss"
          ],
          [
           0.6082035104246867,
           "GNB",
           "CapitalLoss"
          ],
          [
           0.6082035104246867,
           "GNB",
           "CapitalLoss"
          ],
          [
           0.6082035104246867,
           "GNB",
           "CapitalLoss"
          ],
          [
           0.6082035104246867,
           "GNB",
           "CapitalLoss"
          ],
          [
           0.6082035104246867,
           "GNB",
           "CapitalLoss"
          ],
          [
           0.6082035104246867,
           "GNB",
           "CapitalLoss"
          ],
          [
           0.6082035104246867,
           "GNB",
           "CapitalLoss"
          ],
          [
           0.6082035104246867,
           "GNB",
           "CapitalLoss"
          ],
          [
           0.6082035104246867,
           "GNB",
           "CapitalLoss"
          ],
          [
           0.6082035104246867,
           "GNB",
           "CapitalLoss"
          ],
          [
           0.6082035104246867,
           "GNB",
           "CapitalLoss"
          ],
          [
           0.6082035104246867,
           "GNB",
           "CapitalLoss"
          ],
          [
           0.6082035104246867,
           "GNB",
           "CapitalLoss"
          ],
          [
           0.6082035104246867,
           "GNB",
           "CapitalLoss"
          ],
          [
           0.6082035104246867,
           "GNB",
           "CapitalLoss"
          ],
          [
           0.6082035104246867,
           "GNB",
           "CapitalLoss"
          ],
          [
           0.6082035104246867,
           "GNB",
           "CapitalLoss"
          ],
          [
           0.6082035104246867,
           "GNB",
           "CapitalLoss"
          ],
          [
           0.6082035104246867,
           "GNB",
           "CapitalLoss"
          ],
          [
           0.6082035104246867,
           "GNB",
           "CapitalLoss"
          ],
          [
           0.6082035104246867,
           "GNB",
           "CapitalLoss"
          ],
          [
           0.6082035104246867,
           "GNB",
           "CapitalLoss"
          ],
          [
           0.6082035104246867,
           "GNB",
           "CapitalLoss"
          ],
          [
           0.6082035104246867,
           "GNB",
           "CapitalLoss"
          ],
          [
           0.6082035104246867,
           "GNB",
           "CapitalLoss"
          ],
          [
           0.6082035104246867,
           "GNB",
           "CapitalLoss"
          ],
          [
           0.6082035104246867,
           "GNB",
           "CapitalLoss"
          ],
          [
           0.6082035104246867,
           "GNB",
           "CapitalLoss"
          ],
          [
           0.6082035104246867,
           "GNB",
           "CapitalLoss"
          ],
          [
           0.6082035104246867,
           "GNB",
           "CapitalLoss"
          ],
          [
           0.6082035104246867,
           "GNB",
           "CapitalLoss"
          ],
          [
           0.6082035104246867,
           "GNB",
           "CapitalLoss"
          ],
          [
           0.6082035104246867,
           "GNB",
           "CapitalLoss"
          ],
          [
           0.6082035104246867,
           "GNB",
           "CapitalLoss"
          ],
          [
           0.6082035104246867,
           "GNB",
           "CapitalLoss"
          ],
          [
           0.6082035104246867,
           "GNB",
           "CapitalLoss"
          ],
          [
           0.6082035104246867,
           "GNB",
           "CapitalLoss"
          ],
          [
           0.6082035104246867,
           "GNB",
           "CapitalLoss"
          ],
          [
           0.6082035104246867,
           "GNB",
           "CapitalLoss"
          ],
          [
           0.6082035104246867,
           "GNB",
           "CapitalLoss"
          ],
          [
           0.6082035104246867,
           "GNB",
           "CapitalLoss"
          ],
          [
           0.6082035104246867,
           "GNB",
           "CapitalLoss"
          ],
          [
           0.6082035104246867,
           "GNB",
           "CapitalLoss"
          ],
          [
           0.6082035104246867,
           "GNB",
           "CapitalLoss"
          ],
          [
           0.6082035104246867,
           "GNB",
           "CapitalLoss"
          ],
          [
           0.6082035104246867,
           "GNB",
           "CapitalLoss"
          ],
          [
           0.6082035104246867,
           "GNB",
           "CapitalLoss"
          ],
          [
           0.6082035104246867,
           "GNB",
           "CapitalLoss"
          ],
          [
           0.6082035104246867,
           "GNB",
           "CapitalLoss"
          ],
          [
           0.6082035104246867,
           "GNB",
           "CapitalLoss"
          ],
          [
           0.6082035104246867,
           "GNB",
           "CapitalLoss"
          ],
          [
           0.6082035104246867,
           "GNB",
           "CapitalLoss"
          ],
          [
           0.6082035104246867,
           "GNB",
           "CapitalLoss"
          ],
          [
           0.6082035104246867,
           "GNB",
           "CapitalLoss"
          ],
          [
           0.6082035104246867,
           "GNB",
           "CapitalLoss"
          ],
          [
           0.6082035104246867,
           "GNB",
           "CapitalLoss"
          ],
          [
           0.6082035104246867,
           "GNB",
           "CapitalLoss"
          ],
          [
           0.6082035104246867,
           "GNB",
           "CapitalLoss"
          ],
          [
           0.6082035104246867,
           "GNB",
           "CapitalLoss"
          ],
          [
           0.6082035104246867,
           "GNB",
           "CapitalLoss"
          ],
          [
           0.6082035104246867,
           "GNB",
           "CapitalLoss"
          ],
          [
           0.6082035104246867,
           "GNB",
           "CapitalLoss"
          ],
          [
           0.6082035104246867,
           "GNB",
           "CapitalLoss"
          ],
          [
           0.6082035104246867,
           "GNB",
           "CapitalLoss"
          ],
          [
           0.6082035104246867,
           "GNB",
           "CapitalLoss"
          ],
          [
           0.6082035104246867,
           "GNB",
           "CapitalLoss"
          ],
          [
           0.6082035104246867,
           "GNB",
           "CapitalLoss"
          ],
          [
           0.6082035104246867,
           "GNB",
           "CapitalLoss"
          ],
          [
           0.6082035104246867,
           "GNB",
           "CapitalLoss"
          ],
          [
           0.6082035104246867,
           "GNB",
           "CapitalLoss"
          ],
          [
           0.6082035104246867,
           "GNB",
           "CapitalLoss"
          ],
          [
           0.6082035104246867,
           "GNB",
           "CapitalLoss"
          ],
          [
           0.6082035104246867,
           "GNB",
           "CapitalLoss"
          ],
          [
           0.6082035104246867,
           "GNB",
           "CapitalLoss"
          ],
          [
           0.6082035104246867,
           "GNB",
           "CapitalLoss"
          ],
          [
           0.6082035104246867,
           "GNB",
           "CapitalLoss"
          ],
          [
           0.6082035104246867,
           "GNB",
           "CapitalLoss"
          ],
          [
           0.6082035104246867,
           "GNB",
           "CapitalLoss"
          ],
          [
           0.6082035104246867,
           "GNB",
           "CapitalLoss"
          ]
         ],
         "hovertemplate": "<b>%{hovertext}</b><br><br>prediction=%{y:.3f}<br>mean_prediction=%{customdata[0]:.3f}<extra></extra>",
         "hovertext": [
          "GNB",
          "GNB",
          "GNB",
          "GNB",
          "GNB",
          "GNB",
          "GNB",
          "GNB",
          "GNB",
          "GNB",
          "GNB",
          "GNB",
          "GNB",
          "GNB",
          "GNB",
          "GNB",
          "GNB",
          "GNB",
          "GNB",
          "GNB",
          "GNB",
          "GNB",
          "GNB",
          "GNB",
          "GNB",
          "GNB",
          "GNB",
          "GNB",
          "GNB",
          "GNB",
          "GNB",
          "GNB",
          "GNB",
          "GNB",
          "GNB",
          "GNB",
          "GNB",
          "GNB",
          "GNB",
          "GNB",
          "GNB",
          "GNB",
          "GNB",
          "GNB",
          "GNB",
          "GNB",
          "GNB",
          "GNB",
          "GNB",
          "GNB",
          "GNB",
          "GNB",
          "GNB",
          "GNB",
          "GNB",
          "GNB",
          "GNB",
          "GNB",
          "GNB",
          "GNB",
          "GNB",
          "GNB",
          "GNB",
          "GNB",
          "GNB",
          "GNB",
          "GNB",
          "GNB",
          "GNB",
          "GNB",
          "GNB",
          "GNB",
          "GNB",
          "GNB",
          "GNB",
          "GNB",
          "GNB",
          "GNB",
          "GNB",
          "GNB",
          "GNB",
          "GNB",
          "GNB",
          "GNB",
          "GNB",
          "GNB",
          "GNB",
          "GNB",
          "GNB",
          "GNB",
          "GNB",
          "GNB",
          "GNB",
          "GNB",
          "GNB",
          "GNB",
          "GNB",
          "GNB",
          "GNB",
          "GNB",
          "GNB"
         ],
         "legendgroup": "GNB",
         "line": {
          "color": "#46bac2",
          "dash": "solid",
          "width": 2
         },
         "marker": {
          "symbol": "circle"
         },
         "mode": "lines",
         "name": "GNB",
         "opacity": 1,
         "orientation": "v",
         "showlegend": false,
         "type": "scatter",
         "x": [
          0,
          43.56,
          87.12,
          130.68,
          174.24,
          217.8,
          261.36,
          304.92,
          348.48,
          392.04,
          435.6,
          479.16,
          522.72,
          566.28,
          609.84,
          653.4000000000001,
          696.96,
          740.52,
          784.08,
          827.6400000000001,
          871.2,
          914.76,
          958.32,
          1001.8800000000001,
          1045.44,
          1089,
          1132.56,
          1176.1200000000001,
          1219.68,
          1263.24,
          1306.8000000000002,
          1350.3600000000001,
          1393.92,
          1437.48,
          1481.04,
          1524.6000000000001,
          1568.16,
          1611.72,
          1655.2800000000002,
          1698.8400000000001,
          1742.4,
          1785.96,
          1829.52,
          1873.0800000000002,
          1916.64,
          1960.2,
          2003.7600000000002,
          2047.3200000000002,
          2090.88,
          2134.44,
          2178,
          2221.56,
          2265.12,
          2308.6800000000003,
          2352.2400000000002,
          2395.8,
          2439.36,
          2482.92,
          2526.48,
          2570.04,
          2613.6000000000004,
          2657.1600000000003,
          2700.7200000000003,
          2744.28,
          2787.84,
          2831.4,
          2874.96,
          2918.52,
          2962.08,
          3005.6400000000003,
          3049.2000000000003,
          3092.76,
          3136.32,
          3179.88,
          3223.44,
          3267,
          3310.5600000000004,
          3354.1200000000003,
          3397.6800000000003,
          3441.2400000000002,
          3484.8,
          3528.36,
          3571.92,
          3615.48,
          3659.04,
          3702.6000000000004,
          3746.1600000000003,
          3789.7200000000003,
          3833.28,
          3876.84,
          3920.4,
          3963.96,
          4007.5200000000004,
          4051.0800000000004,
          4094.6400000000003,
          4138.2,
          4181.76,
          4225.320000000001,
          4268.88,
          4312.4400000000005,
          4356
         ],
         "xaxis": "x",
         "y": [
          0.6078482659250593,
          0.6079051767498104,
          0.6080622397832015,
          0.6083195698377146,
          0.6086771907673504,
          0.6091347907698216,
          0.6096913741625785,
          0.6103448128197745,
          0.6110913179254672,
          0.6119248812191507,
          0.612836770834835,
          0.6138151986085745,
          0.6148452853630973,
          0.6159094250169498,
          0.616988098398837,
          0.6180611568956609,
          0.619109627582876,
          0.620118149383108,
          0.6210780631928803,
          0.6219907301198437,
          0.622869842250692,
          0.6237407622939578,
          0.6246350606531998,
          0.6255802278693968,
          0.6265884072431325,
          0.6276521834847176,
          0.6287544007689394,
          0.6298880828400281,
          0.6310695175887052,
          0.632330537617912,
          0.6336978492549299,
          0.6351818795344604,
          0.636784584245033,
          0.6385132924893481,
          0.6403802414482572,
          0.6423798679675671,
          0.6444639503902166,
          0.6465637018050566,
          0.6486446966926785,
          0.6506960102070093,
          0.652682860572197,
          0.6545489373644034,
          0.6562306743285704,
          0.6576509381580783,
          0.6587318253964369,
          0.659474720583612,
          0.6600155321091588,
          0.6605812601062027,
          0.6614347762719689,
          0.6627856846844375,
          0.6646269445245887,
          0.6666308591313262,
          0.6682594074534604,
          0.6692341935853583,
          0.6697017696488976,
          0.6699101376083997,
          0.6700306322009627,
          0.6701845274946419,
          0.6705205938507303,
          0.6712489074591653,
          0.6724646336626773,
          0.6739628876513905,
          0.6754906778853939,
          0.6769005065566626,
          0.6783548631507812,
          0.6799167483011859,
          0.6814428103050203,
          0.6827205240815942,
          0.6837291902454521,
          0.6848279266305154,
          0.6858572599851637,
          0.6864281625260517,
          0.6867094323552417,
          0.6870738782391542,
          0.6880150991462314,
          0.6899177166752255,
          0.692196843106815,
          0.6941796223967098,
          0.6959515232788585,
          0.6975763278889434,
          0.6994879140766956,
          0.7019495250283537,
          0.7053953186682941,
          0.7083471043223672,
          0.7095798340965067,
          0.7099120157252564,
          0.7100072518155568,
          0.710123310325903,
          0.7105457928622053,
          0.7116546892315484,
          0.7127820790253486,
          0.7132115302354578,
          0.7133110697829146,
          0.7133366725229592,
          0.7133748196725032,
          0.7135592326517224,
          0.7143567638192306,
          0.7161997844697112,
          0.7184861665913191,
          0.7208062960258299,
          0.722641893370896
         ],
         "yaxis": "y"
        },
        {
         "customdata": [
          [
           0.6082035104246867,
           "GNB",
           "HoursPerWeek"
          ],
          [
           0.6082035104246867,
           "GNB",
           "HoursPerWeek"
          ],
          [
           0.6082035104246867,
           "GNB",
           "HoursPerWeek"
          ],
          [
           0.6082035104246867,
           "GNB",
           "HoursPerWeek"
          ],
          [
           0.6082035104246867,
           "GNB",
           "HoursPerWeek"
          ],
          [
           0.6082035104246867,
           "GNB",
           "HoursPerWeek"
          ],
          [
           0.6082035104246867,
           "GNB",
           "HoursPerWeek"
          ],
          [
           0.6082035104246867,
           "GNB",
           "HoursPerWeek"
          ],
          [
           0.6082035104246867,
           "GNB",
           "HoursPerWeek"
          ],
          [
           0.6082035104246867,
           "GNB",
           "HoursPerWeek"
          ],
          [
           0.6082035104246867,
           "GNB",
           "HoursPerWeek"
          ],
          [
           0.6082035104246867,
           "GNB",
           "HoursPerWeek"
          ],
          [
           0.6082035104246867,
           "GNB",
           "HoursPerWeek"
          ],
          [
           0.6082035104246867,
           "GNB",
           "HoursPerWeek"
          ],
          [
           0.6082035104246867,
           "GNB",
           "HoursPerWeek"
          ],
          [
           0.6082035104246867,
           "GNB",
           "HoursPerWeek"
          ],
          [
           0.6082035104246867,
           "GNB",
           "HoursPerWeek"
          ],
          [
           0.6082035104246867,
           "GNB",
           "HoursPerWeek"
          ],
          [
           0.6082035104246867,
           "GNB",
           "HoursPerWeek"
          ],
          [
           0.6082035104246867,
           "GNB",
           "HoursPerWeek"
          ],
          [
           0.6082035104246867,
           "GNB",
           "HoursPerWeek"
          ],
          [
           0.6082035104246867,
           "GNB",
           "HoursPerWeek"
          ],
          [
           0.6082035104246867,
           "GNB",
           "HoursPerWeek"
          ],
          [
           0.6082035104246867,
           "GNB",
           "HoursPerWeek"
          ],
          [
           0.6082035104246867,
           "GNB",
           "HoursPerWeek"
          ],
          [
           0.6082035104246867,
           "GNB",
           "HoursPerWeek"
          ],
          [
           0.6082035104246867,
           "GNB",
           "HoursPerWeek"
          ],
          [
           0.6082035104246867,
           "GNB",
           "HoursPerWeek"
          ],
          [
           0.6082035104246867,
           "GNB",
           "HoursPerWeek"
          ],
          [
           0.6082035104246867,
           "GNB",
           "HoursPerWeek"
          ],
          [
           0.6082035104246867,
           "GNB",
           "HoursPerWeek"
          ],
          [
           0.6082035104246867,
           "GNB",
           "HoursPerWeek"
          ],
          [
           0.6082035104246867,
           "GNB",
           "HoursPerWeek"
          ],
          [
           0.6082035104246867,
           "GNB",
           "HoursPerWeek"
          ],
          [
           0.6082035104246867,
           "GNB",
           "HoursPerWeek"
          ],
          [
           0.6082035104246867,
           "GNB",
           "HoursPerWeek"
          ],
          [
           0.6082035104246867,
           "GNB",
           "HoursPerWeek"
          ],
          [
           0.6082035104246867,
           "GNB",
           "HoursPerWeek"
          ],
          [
           0.6082035104246867,
           "GNB",
           "HoursPerWeek"
          ],
          [
           0.6082035104246867,
           "GNB",
           "HoursPerWeek"
          ],
          [
           0.6082035104246867,
           "GNB",
           "HoursPerWeek"
          ],
          [
           0.6082035104246867,
           "GNB",
           "HoursPerWeek"
          ],
          [
           0.6082035104246867,
           "GNB",
           "HoursPerWeek"
          ],
          [
           0.6082035104246867,
           "GNB",
           "HoursPerWeek"
          ],
          [
           0.6082035104246867,
           "GNB",
           "HoursPerWeek"
          ],
          [
           0.6082035104246867,
           "GNB",
           "HoursPerWeek"
          ],
          [
           0.6082035104246867,
           "GNB",
           "HoursPerWeek"
          ],
          [
           0.6082035104246867,
           "GNB",
           "HoursPerWeek"
          ],
          [
           0.6082035104246867,
           "GNB",
           "HoursPerWeek"
          ],
          [
           0.6082035104246867,
           "GNB",
           "HoursPerWeek"
          ],
          [
           0.6082035104246867,
           "GNB",
           "HoursPerWeek"
          ],
          [
           0.6082035104246867,
           "GNB",
           "HoursPerWeek"
          ],
          [
           0.6082035104246867,
           "GNB",
           "HoursPerWeek"
          ],
          [
           0.6082035104246867,
           "GNB",
           "HoursPerWeek"
          ],
          [
           0.6082035104246867,
           "GNB",
           "HoursPerWeek"
          ],
          [
           0.6082035104246867,
           "GNB",
           "HoursPerWeek"
          ],
          [
           0.6082035104246867,
           "GNB",
           "HoursPerWeek"
          ],
          [
           0.6082035104246867,
           "GNB",
           "HoursPerWeek"
          ],
          [
           0.6082035104246867,
           "GNB",
           "HoursPerWeek"
          ],
          [
           0.6082035104246867,
           "GNB",
           "HoursPerWeek"
          ],
          [
           0.6082035104246867,
           "GNB",
           "HoursPerWeek"
          ],
          [
           0.6082035104246867,
           "GNB",
           "HoursPerWeek"
          ],
          [
           0.6082035104246867,
           "GNB",
           "HoursPerWeek"
          ],
          [
           0.6082035104246867,
           "GNB",
           "HoursPerWeek"
          ],
          [
           0.6082035104246867,
           "GNB",
           "HoursPerWeek"
          ],
          [
           0.6082035104246867,
           "GNB",
           "HoursPerWeek"
          ],
          [
           0.6082035104246867,
           "GNB",
           "HoursPerWeek"
          ],
          [
           0.6082035104246867,
           "GNB",
           "HoursPerWeek"
          ],
          [
           0.6082035104246867,
           "GNB",
           "HoursPerWeek"
          ],
          [
           0.6082035104246867,
           "GNB",
           "HoursPerWeek"
          ],
          [
           0.6082035104246867,
           "GNB",
           "HoursPerWeek"
          ],
          [
           0.6082035104246867,
           "GNB",
           "HoursPerWeek"
          ],
          [
           0.6082035104246867,
           "GNB",
           "HoursPerWeek"
          ],
          [
           0.6082035104246867,
           "GNB",
           "HoursPerWeek"
          ],
          [
           0.6082035104246867,
           "GNB",
           "HoursPerWeek"
          ],
          [
           0.6082035104246867,
           "GNB",
           "HoursPerWeek"
          ],
          [
           0.6082035104246867,
           "GNB",
           "HoursPerWeek"
          ],
          [
           0.6082035104246867,
           "GNB",
           "HoursPerWeek"
          ],
          [
           0.6082035104246867,
           "GNB",
           "HoursPerWeek"
          ],
          [
           0.6082035104246867,
           "GNB",
           "HoursPerWeek"
          ],
          [
           0.6082035104246867,
           "GNB",
           "HoursPerWeek"
          ],
          [
           0.6082035104246867,
           "GNB",
           "HoursPerWeek"
          ],
          [
           0.6082035104246867,
           "GNB",
           "HoursPerWeek"
          ],
          [
           0.6082035104246867,
           "GNB",
           "HoursPerWeek"
          ],
          [
           0.6082035104246867,
           "GNB",
           "HoursPerWeek"
          ],
          [
           0.6082035104246867,
           "GNB",
           "HoursPerWeek"
          ],
          [
           0.6082035104246867,
           "GNB",
           "HoursPerWeek"
          ],
          [
           0.6082035104246867,
           "GNB",
           "HoursPerWeek"
          ],
          [
           0.6082035104246867,
           "GNB",
           "HoursPerWeek"
          ],
          [
           0.6082035104246867,
           "GNB",
           "HoursPerWeek"
          ],
          [
           0.6082035104246867,
           "GNB",
           "HoursPerWeek"
          ],
          [
           0.6082035104246867,
           "GNB",
           "HoursPerWeek"
          ],
          [
           0.6082035104246867,
           "GNB",
           "HoursPerWeek"
          ],
          [
           0.6082035104246867,
           "GNB",
           "HoursPerWeek"
          ],
          [
           0.6082035104246867,
           "GNB",
           "HoursPerWeek"
          ],
          [
           0.6082035104246867,
           "GNB",
           "HoursPerWeek"
          ],
          [
           0.6082035104246867,
           "GNB",
           "HoursPerWeek"
          ],
          [
           0.6082035104246867,
           "GNB",
           "HoursPerWeek"
          ],
          [
           0.6082035104246867,
           "GNB",
           "HoursPerWeek"
          ],
          [
           0.6082035104246867,
           "GNB",
           "HoursPerWeek"
          ],
          [
           0.6082035104246867,
           "GNB",
           "HoursPerWeek"
          ]
         ],
         "hovertemplate": "<b>%{hovertext}</b><br><br>prediction=%{y:.3f}<br>mean_prediction=%{customdata[0]:.3f}<extra></extra>",
         "hovertext": [
          "GNB",
          "GNB",
          "GNB",
          "GNB",
          "GNB",
          "GNB",
          "GNB",
          "GNB",
          "GNB",
          "GNB",
          "GNB",
          "GNB",
          "GNB",
          "GNB",
          "GNB",
          "GNB",
          "GNB",
          "GNB",
          "GNB",
          "GNB",
          "GNB",
          "GNB",
          "GNB",
          "GNB",
          "GNB",
          "GNB",
          "GNB",
          "GNB",
          "GNB",
          "GNB",
          "GNB",
          "GNB",
          "GNB",
          "GNB",
          "GNB",
          "GNB",
          "GNB",
          "GNB",
          "GNB",
          "GNB",
          "GNB",
          "GNB",
          "GNB",
          "GNB",
          "GNB",
          "GNB",
          "GNB",
          "GNB",
          "GNB",
          "GNB",
          "GNB",
          "GNB",
          "GNB",
          "GNB",
          "GNB",
          "GNB",
          "GNB",
          "GNB",
          "GNB",
          "GNB",
          "GNB",
          "GNB",
          "GNB",
          "GNB",
          "GNB",
          "GNB",
          "GNB",
          "GNB",
          "GNB",
          "GNB",
          "GNB",
          "GNB",
          "GNB",
          "GNB",
          "GNB",
          "GNB",
          "GNB",
          "GNB",
          "GNB",
          "GNB",
          "GNB",
          "GNB",
          "GNB",
          "GNB",
          "GNB",
          "GNB",
          "GNB",
          "GNB",
          "GNB",
          "GNB",
          "GNB",
          "GNB",
          "GNB",
          "GNB",
          "GNB",
          "GNB",
          "GNB",
          "GNB",
          "GNB",
          "GNB",
          "GNB"
         ],
         "legendgroup": "GNB",
         "line": {
          "color": "#46bac2",
          "dash": "solid",
          "width": 2
         },
         "marker": {
          "symbol": "circle"
         },
         "mode": "lines",
         "name": "GNB",
         "opacity": 1,
         "orientation": "v",
         "showlegend": false,
         "type": "scatter",
         "x": [
          1,
          1.98,
          2.96,
          3.94,
          4.92,
          5.9,
          6.88,
          7.859999999999999,
          8.84,
          9.82,
          10.8,
          11.78,
          12.76,
          13.74,
          14.719999999999999,
          15.7,
          16.68,
          17.66,
          18.64,
          19.62,
          20.6,
          21.58,
          22.56,
          23.54,
          24.52,
          25.5,
          26.48,
          27.46,
          28.439999999999998,
          29.419999999999998,
          30.4,
          31.38,
          32.36,
          33.339999999999996,
          34.32,
          35.3,
          36.28,
          37.26,
          38.24,
          39.22,
          40.2,
          41.18,
          42.16,
          43.14,
          44.12,
          45.1,
          46.08,
          47.06,
          48.04,
          49.019999999999996,
          50,
          50.98,
          51.96,
          52.94,
          53.92,
          54.9,
          55.879999999999995,
          56.86,
          57.839999999999996,
          58.82,
          59.8,
          60.78,
          61.76,
          62.74,
          63.72,
          64.69999999999999,
          65.67999999999999,
          66.66,
          67.64,
          68.62,
          69.6,
          70.58,
          71.56,
          72.53999999999999,
          73.52,
          74.5,
          75.48,
          76.46,
          77.44,
          78.42,
          79.4,
          80.38,
          81.36,
          82.34,
          83.32,
          84.3,
          85.28,
          86.26,
          87.24,
          88.22,
          89.2,
          90.17999999999999,
          91.16,
          92.14,
          93.12,
          94.1,
          95.08,
          96.06,
          97.03999999999999,
          98.02,
          99
         ],
         "xaxis": "x2",
         "y": [
          0.5976972406549182,
          0.5978511769430243,
          0.598008179456805,
          0.5981683154766114,
          0.5983316529449163,
          0.5984982604377274,
          0.5986682071324467,
          0.598841562770431,
          0.5990183976122135,
          0.5991987823830721,
          0.5993827882063677,
          0.5995704865218152,
          0.5997619489856519,
          0.5999572473494568,
          0.6001564533142811,
          0.6003596383566584,
          0.6005668735230729,
          0.6007782291895655,
          0.6009937747833324,
          0.6012135784634561,
          0.6014377067583261,
          0.6016662241578077,
          0.6018991926588666,
          0.6021366712641193,
          0.6023787154336515,
          0.6026253764914518,
          0.6028767009888834,
          0.6031327300288115,
          0.6033934985552268,
          0.6036590346144945,
          0.6039293585956458,
          0.6042044824583765,
          0.6044844089586213,
          0.6047691308826473,
          0.6050586303015507,
          0.605352877858763,
          0.6056518321036737,
          0.6059554388846696,
          0.6062636308147856,
          0.6065763268226755,
          0.6068934318007659,
          0.6072148363612121,
          0.6075404167086486,
          0.60787003463671,
          0.608203537652968,
          0.6085407592342754,
          0.6088815192116511,
          0.6092256242808269,
          0.6095728686315092,
          0.6099230346854289,
          0.6102758939304231,
          0.6106312078352866,
          0.61098872882805,
          0.6113482013187993,
          0.6117093627472592,
          0.6120719446351977,
          0.6124356736243359,
          0.6128002724818922,
          0.6131654610581343,
          0.6135309571833265,
          0.6138964774951471,
          0.6142617381918754,
          0.6146264557112797,
          0.6149903473399263,
          0.6153531317624207,
          0.6157145295645902,
          0.6160742637086417,
          0.61643206000158,
          0.6167876475805213,
          0.6171407594397318,
          0.6174911330241887,
          0.6178385109130843,
          0.618182641613991,
          0.6185232804844184,
          0.6188601907923189,
          0.6191931449209965,
          0.6195219257169821,
          0.6198463279721427,
          0.6201661600238604,
          0.620481245449878,
          0.6207914248277263,
          0.6210965575228008,
          0.6213965234644045,
          0.6216912248656639,
          0.6219805878412695,
          0.6222645638765578,
          0.6225431311025891,
          0.6228162953344457,
          0.6230840908338792,
          0.6233465807624867,
          0.6236038572975576,
          0.6238560413893682,
          0.6241032821457718,
          0.6243457558372111,
          0.62458366452256,
          0.6248172343033391,
          0.6250467132207282,
          0.6252723688163564,
          0.625494485384061,
          0.6257133609457192,
          0.6259293039898594
         ],
         "yaxis": "y2"
        },
        {
         "customdata": [
          [
           0.1896646289633693,
           "LR",
           "Age"
          ],
          [
           0.1896646289633693,
           "LR",
           "Age"
          ],
          [
           0.1896646289633693,
           "LR",
           "Age"
          ],
          [
           0.1896646289633693,
           "LR",
           "Age"
          ],
          [
           0.1896646289633693,
           "LR",
           "Age"
          ],
          [
           0.1896646289633693,
           "LR",
           "Age"
          ],
          [
           0.1896646289633693,
           "LR",
           "Age"
          ],
          [
           0.1896646289633693,
           "LR",
           "Age"
          ],
          [
           0.1896646289633693,
           "LR",
           "Age"
          ],
          [
           0.1896646289633693,
           "LR",
           "Age"
          ],
          [
           0.1896646289633693,
           "LR",
           "Age"
          ],
          [
           0.1896646289633693,
           "LR",
           "Age"
          ],
          [
           0.1896646289633693,
           "LR",
           "Age"
          ],
          [
           0.1896646289633693,
           "LR",
           "Age"
          ],
          [
           0.1896646289633693,
           "LR",
           "Age"
          ],
          [
           0.1896646289633693,
           "LR",
           "Age"
          ],
          [
           0.1896646289633693,
           "LR",
           "Age"
          ],
          [
           0.1896646289633693,
           "LR",
           "Age"
          ],
          [
           0.1896646289633693,
           "LR",
           "Age"
          ],
          [
           0.1896646289633693,
           "LR",
           "Age"
          ],
          [
           0.1896646289633693,
           "LR",
           "Age"
          ],
          [
           0.1896646289633693,
           "LR",
           "Age"
          ],
          [
           0.1896646289633693,
           "LR",
           "Age"
          ],
          [
           0.1896646289633693,
           "LR",
           "Age"
          ],
          [
           0.1896646289633693,
           "LR",
           "Age"
          ],
          [
           0.1896646289633693,
           "LR",
           "Age"
          ],
          [
           0.1896646289633693,
           "LR",
           "Age"
          ],
          [
           0.1896646289633693,
           "LR",
           "Age"
          ],
          [
           0.1896646289633693,
           "LR",
           "Age"
          ],
          [
           0.1896646289633693,
           "LR",
           "Age"
          ],
          [
           0.1896646289633693,
           "LR",
           "Age"
          ],
          [
           0.1896646289633693,
           "LR",
           "Age"
          ],
          [
           0.1896646289633693,
           "LR",
           "Age"
          ],
          [
           0.1896646289633693,
           "LR",
           "Age"
          ],
          [
           0.1896646289633693,
           "LR",
           "Age"
          ],
          [
           0.1896646289633693,
           "LR",
           "Age"
          ],
          [
           0.1896646289633693,
           "LR",
           "Age"
          ],
          [
           0.1896646289633693,
           "LR",
           "Age"
          ],
          [
           0.1896646289633693,
           "LR",
           "Age"
          ],
          [
           0.1896646289633693,
           "LR",
           "Age"
          ],
          [
           0.1896646289633693,
           "LR",
           "Age"
          ],
          [
           0.1896646289633693,
           "LR",
           "Age"
          ],
          [
           0.1896646289633693,
           "LR",
           "Age"
          ],
          [
           0.1896646289633693,
           "LR",
           "Age"
          ],
          [
           0.1896646289633693,
           "LR",
           "Age"
          ],
          [
           0.1896646289633693,
           "LR",
           "Age"
          ],
          [
           0.1896646289633693,
           "LR",
           "Age"
          ],
          [
           0.1896646289633693,
           "LR",
           "Age"
          ],
          [
           0.1896646289633693,
           "LR",
           "Age"
          ],
          [
           0.1896646289633693,
           "LR",
           "Age"
          ],
          [
           0.1896646289633693,
           "LR",
           "Age"
          ],
          [
           0.1896646289633693,
           "LR",
           "Age"
          ],
          [
           0.1896646289633693,
           "LR",
           "Age"
          ],
          [
           0.1896646289633693,
           "LR",
           "Age"
          ],
          [
           0.1896646289633693,
           "LR",
           "Age"
          ],
          [
           0.1896646289633693,
           "LR",
           "Age"
          ],
          [
           0.1896646289633693,
           "LR",
           "Age"
          ],
          [
           0.1896646289633693,
           "LR",
           "Age"
          ],
          [
           0.1896646289633693,
           "LR",
           "Age"
          ],
          [
           0.1896646289633693,
           "LR",
           "Age"
          ],
          [
           0.1896646289633693,
           "LR",
           "Age"
          ],
          [
           0.1896646289633693,
           "LR",
           "Age"
          ],
          [
           0.1896646289633693,
           "LR",
           "Age"
          ],
          [
           0.1896646289633693,
           "LR",
           "Age"
          ],
          [
           0.1896646289633693,
           "LR",
           "Age"
          ],
          [
           0.1896646289633693,
           "LR",
           "Age"
          ],
          [
           0.1896646289633693,
           "LR",
           "Age"
          ],
          [
           0.1896646289633693,
           "LR",
           "Age"
          ],
          [
           0.1896646289633693,
           "LR",
           "Age"
          ],
          [
           0.1896646289633693,
           "LR",
           "Age"
          ],
          [
           0.1896646289633693,
           "LR",
           "Age"
          ],
          [
           0.1896646289633693,
           "LR",
           "Age"
          ],
          [
           0.1896646289633693,
           "LR",
           "Age"
          ],
          [
           0.1896646289633693,
           "LR",
           "Age"
          ],
          [
           0.1896646289633693,
           "LR",
           "Age"
          ],
          [
           0.1896646289633693,
           "LR",
           "Age"
          ],
          [
           0.1896646289633693,
           "LR",
           "Age"
          ],
          [
           0.1896646289633693,
           "LR",
           "Age"
          ],
          [
           0.1896646289633693,
           "LR",
           "Age"
          ],
          [
           0.1896646289633693,
           "LR",
           "Age"
          ],
          [
           0.1896646289633693,
           "LR",
           "Age"
          ],
          [
           0.1896646289633693,
           "LR",
           "Age"
          ],
          [
           0.1896646289633693,
           "LR",
           "Age"
          ],
          [
           0.1896646289633693,
           "LR",
           "Age"
          ],
          [
           0.1896646289633693,
           "LR",
           "Age"
          ],
          [
           0.1896646289633693,
           "LR",
           "Age"
          ],
          [
           0.1896646289633693,
           "LR",
           "Age"
          ],
          [
           0.1896646289633693,
           "LR",
           "Age"
          ],
          [
           0.1896646289633693,
           "LR",
           "Age"
          ],
          [
           0.1896646289633693,
           "LR",
           "Age"
          ],
          [
           0.1896646289633693,
           "LR",
           "Age"
          ],
          [
           0.1896646289633693,
           "LR",
           "Age"
          ],
          [
           0.1896646289633693,
           "LR",
           "Age"
          ],
          [
           0.1896646289633693,
           "LR",
           "Age"
          ],
          [
           0.1896646289633693,
           "LR",
           "Age"
          ],
          [
           0.1896646289633693,
           "LR",
           "Age"
          ],
          [
           0.1896646289633693,
           "LR",
           "Age"
          ],
          [
           0.1896646289633693,
           "LR",
           "Age"
          ],
          [
           0.1896646289633693,
           "LR",
           "Age"
          ],
          [
           0.1896646289633693,
           "LR",
           "Age"
          ],
          [
           0.1896646289633693,
           "LR",
           "Age"
          ]
         ],
         "hovertemplate": "<b>%{hovertext}</b><br><br>prediction=%{y:.3f}<br>mean_prediction=%{customdata[0]:.3f}<extra></extra>",
         "hovertext": [
          "LR",
          "LR",
          "LR",
          "LR",
          "LR",
          "LR",
          "LR",
          "LR",
          "LR",
          "LR",
          "LR",
          "LR",
          "LR",
          "LR",
          "LR",
          "LR",
          "LR",
          "LR",
          "LR",
          "LR",
          "LR",
          "LR",
          "LR",
          "LR",
          "LR",
          "LR",
          "LR",
          "LR",
          "LR",
          "LR",
          "LR",
          "LR",
          "LR",
          "LR",
          "LR",
          "LR",
          "LR",
          "LR",
          "LR",
          "LR",
          "LR",
          "LR",
          "LR",
          "LR",
          "LR",
          "LR",
          "LR",
          "LR",
          "LR",
          "LR",
          "LR",
          "LR",
          "LR",
          "LR",
          "LR",
          "LR",
          "LR",
          "LR",
          "LR",
          "LR",
          "LR",
          "LR",
          "LR",
          "LR",
          "LR",
          "LR",
          "LR",
          "LR",
          "LR",
          "LR",
          "LR",
          "LR",
          "LR",
          "LR",
          "LR",
          "LR",
          "LR",
          "LR",
          "LR",
          "LR",
          "LR",
          "LR",
          "LR",
          "LR",
          "LR",
          "LR",
          "LR",
          "LR",
          "LR",
          "LR",
          "LR",
          "LR",
          "LR",
          "LR",
          "LR",
          "LR",
          "LR",
          "LR",
          "LR",
          "LR",
          "LR"
         ],
         "legendgroup": "LR",
         "line": {
          "color": "#ae2c87",
          "dash": "solid",
          "width": 2
         },
         "marker": {
          "symbol": "circle"
         },
         "mode": "lines",
         "name": "LR",
         "opacity": 1,
         "orientation": "v",
         "showlegend": true,
         "type": "scatter",
         "x": [
          17,
          17.73,
          18.46,
          19.19,
          19.92,
          20.65,
          21.38,
          22.11,
          22.84,
          23.57,
          24.3,
          25.03,
          25.759999999999998,
          26.490000000000002,
          27.22,
          27.95,
          28.68,
          29.41,
          30.14,
          30.869999999999997,
          31.6,
          32.33,
          33.06,
          33.79,
          34.519999999999996,
          35.25,
          35.980000000000004,
          36.71,
          37.44,
          38.17,
          38.9,
          39.629999999999995,
          40.36,
          41.09,
          41.82,
          42.55,
          43.28,
          44.01,
          44.739999999999995,
          45.47,
          46.2,
          46.93,
          47.66,
          48.39,
          49.12,
          49.85,
          50.58,
          51.31,
          52.04,
          52.769999999999996,
          53.5,
          54.23,
          54.96,
          55.69,
          56.42,
          57.15,
          57.879999999999995,
          58.61,
          59.339999999999996,
          60.07,
          60.8,
          61.53,
          62.26,
          62.99,
          63.72,
          64.44999999999999,
          65.18,
          65.91,
          66.64,
          67.37,
          68.1,
          68.83,
          69.56,
          70.28999999999999,
          71.02,
          71.75,
          72.47999999999999,
          73.21000000000001,
          73.94,
          74.67,
          75.4,
          76.13,
          76.86,
          77.59,
          78.32,
          79.05,
          79.78,
          80.50999999999999,
          81.24,
          81.97,
          82.7,
          83.42999999999999,
          84.16,
          84.89,
          85.62,
          86.35,
          87.08,
          87.81,
          88.53999999999999,
          89.27,
          90
         ],
         "xaxis": "x5",
         "y": [
          0.10199628257738136,
          0.10505318164540386,
          0.1079710816001311,
          0.11072299006390561,
          0.11325602182417036,
          0.11554685922216512,
          0.11760540085871152,
          0.11947423850199951,
          0.12129897616893243,
          0.12326651996862961,
          0.12543927466009774,
          0.12775158569200057,
          0.1301002473583999,
          0.13237118456710883,
          0.1344468933181596,
          0.136324177096989,
          0.13825128616899585,
          0.14057859054815489,
          0.14337995056537836,
          0.1463816823247059,
          0.14931230478681304,
          0.15200742239677606,
          0.15428852098680468,
          0.156080215598211,
          0.1575006743285995,
          0.15867079654734464,
          0.15965345417648694,
          0.1606140401892285,
          0.16184903090114627,
          0.16363156911640497,
          0.1659992080171316,
          0.16862717347123088,
          0.1710047751780998,
          0.1728932538026643,
          0.17441950523436126,
          0.17576613874440888,
          0.17710946495537894,
          0.17877541001012734,
          0.181165114035143,
          0.18442396427305308,
          0.18820746617995782,
          0.1918883975599197,
          0.1950410771252548,
          0.19771603500410168,
          0.2002394866168749,
          0.2028833450455503,
          0.20569814684679025,
          0.20852801275365568,
          0.21122683667599942,
          0.21389107845998442,
          0.21694849450273396,
          0.22088584520758545,
          0.22576509080344725,
          0.23099520275240232,
          0.2357172714874869,
          0.23956889268386086,
          0.24277401998171663,
          0.24556201373134337,
          0.24792585492067612,
          0.24992652471487858,
          0.2519030094263295,
          0.2542867242278159,
          0.25740295911033656,
          0.2613634976171666,
          0.26589772244200005,
          0.27041522314598737,
          0.27447829764701603,
          0.27811075568371424,
          0.2815385429112381,
          0.2848093937428746,
          0.2878029718223608,
          0.2905210881975963,
          0.29313903878711,
          0.2957680698796617,
          0.29832707297213445,
          0.3006255383989615,
          0.30257152747602695,
          0.30433337940814614,
          0.3061627777270076,
          0.3080886861275626,
          0.3100181429427172,
          0.31205640386417277,
          0.3144248680592602,
          0.31720470967587144,
          0.3202969615327571,
          0.3235041303095462,
          0.3266462086773991,
          0.3297544261587359,
          0.33316708070159745,
          0.33726842304002586,
          0.34197812844111297,
          0.3466502719767678,
          0.35062778466876554,
          0.3537360413574633,
          0.3562388040988269,
          0.3585635569841989,
          0.3609779139798811,
          0.36334867771515883,
          0.3654181906429382,
          0.3672652400153255,
          0.36927117512602603
         ],
         "yaxis": "y5"
        },
        {
         "customdata": [
          [
           0.1896646289633693,
           "LR",
           "fnlwgt"
          ],
          [
           0.1896646289633693,
           "LR",
           "fnlwgt"
          ],
          [
           0.1896646289633693,
           "LR",
           "fnlwgt"
          ],
          [
           0.1896646289633693,
           "LR",
           "fnlwgt"
          ],
          [
           0.1896646289633693,
           "LR",
           "fnlwgt"
          ],
          [
           0.1896646289633693,
           "LR",
           "fnlwgt"
          ],
          [
           0.1896646289633693,
           "LR",
           "fnlwgt"
          ],
          [
           0.1896646289633693,
           "LR",
           "fnlwgt"
          ],
          [
           0.1896646289633693,
           "LR",
           "fnlwgt"
          ],
          [
           0.1896646289633693,
           "LR",
           "fnlwgt"
          ],
          [
           0.1896646289633693,
           "LR",
           "fnlwgt"
          ],
          [
           0.1896646289633693,
           "LR",
           "fnlwgt"
          ],
          [
           0.1896646289633693,
           "LR",
           "fnlwgt"
          ],
          [
           0.1896646289633693,
           "LR",
           "fnlwgt"
          ],
          [
           0.1896646289633693,
           "LR",
           "fnlwgt"
          ],
          [
           0.1896646289633693,
           "LR",
           "fnlwgt"
          ],
          [
           0.1896646289633693,
           "LR",
           "fnlwgt"
          ],
          [
           0.1896646289633693,
           "LR",
           "fnlwgt"
          ],
          [
           0.1896646289633693,
           "LR",
           "fnlwgt"
          ],
          [
           0.1896646289633693,
           "LR",
           "fnlwgt"
          ],
          [
           0.1896646289633693,
           "LR",
           "fnlwgt"
          ],
          [
           0.1896646289633693,
           "LR",
           "fnlwgt"
          ],
          [
           0.1896646289633693,
           "LR",
           "fnlwgt"
          ],
          [
           0.1896646289633693,
           "LR",
           "fnlwgt"
          ],
          [
           0.1896646289633693,
           "LR",
           "fnlwgt"
          ],
          [
           0.1896646289633693,
           "LR",
           "fnlwgt"
          ],
          [
           0.1896646289633693,
           "LR",
           "fnlwgt"
          ],
          [
           0.1896646289633693,
           "LR",
           "fnlwgt"
          ],
          [
           0.1896646289633693,
           "LR",
           "fnlwgt"
          ],
          [
           0.1896646289633693,
           "LR",
           "fnlwgt"
          ],
          [
           0.1896646289633693,
           "LR",
           "fnlwgt"
          ],
          [
           0.1896646289633693,
           "LR",
           "fnlwgt"
          ],
          [
           0.1896646289633693,
           "LR",
           "fnlwgt"
          ],
          [
           0.1896646289633693,
           "LR",
           "fnlwgt"
          ],
          [
           0.1896646289633693,
           "LR",
           "fnlwgt"
          ],
          [
           0.1896646289633693,
           "LR",
           "fnlwgt"
          ],
          [
           0.1896646289633693,
           "LR",
           "fnlwgt"
          ],
          [
           0.1896646289633693,
           "LR",
           "fnlwgt"
          ],
          [
           0.1896646289633693,
           "LR",
           "fnlwgt"
          ],
          [
           0.1896646289633693,
           "LR",
           "fnlwgt"
          ],
          [
           0.1896646289633693,
           "LR",
           "fnlwgt"
          ],
          [
           0.1896646289633693,
           "LR",
           "fnlwgt"
          ],
          [
           0.1896646289633693,
           "LR",
           "fnlwgt"
          ],
          [
           0.1896646289633693,
           "LR",
           "fnlwgt"
          ],
          [
           0.1896646289633693,
           "LR",
           "fnlwgt"
          ],
          [
           0.1896646289633693,
           "LR",
           "fnlwgt"
          ],
          [
           0.1896646289633693,
           "LR",
           "fnlwgt"
          ],
          [
           0.1896646289633693,
           "LR",
           "fnlwgt"
          ],
          [
           0.1896646289633693,
           "LR",
           "fnlwgt"
          ],
          [
           0.1896646289633693,
           "LR",
           "fnlwgt"
          ],
          [
           0.1896646289633693,
           "LR",
           "fnlwgt"
          ],
          [
           0.1896646289633693,
           "LR",
           "fnlwgt"
          ],
          [
           0.1896646289633693,
           "LR",
           "fnlwgt"
          ],
          [
           0.1896646289633693,
           "LR",
           "fnlwgt"
          ],
          [
           0.1896646289633693,
           "LR",
           "fnlwgt"
          ],
          [
           0.1896646289633693,
           "LR",
           "fnlwgt"
          ],
          [
           0.1896646289633693,
           "LR",
           "fnlwgt"
          ],
          [
           0.1896646289633693,
           "LR",
           "fnlwgt"
          ],
          [
           0.1896646289633693,
           "LR",
           "fnlwgt"
          ],
          [
           0.1896646289633693,
           "LR",
           "fnlwgt"
          ],
          [
           0.1896646289633693,
           "LR",
           "fnlwgt"
          ],
          [
           0.1896646289633693,
           "LR",
           "fnlwgt"
          ],
          [
           0.1896646289633693,
           "LR",
           "fnlwgt"
          ],
          [
           0.1896646289633693,
           "LR",
           "fnlwgt"
          ],
          [
           0.1896646289633693,
           "LR",
           "fnlwgt"
          ],
          [
           0.1896646289633693,
           "LR",
           "fnlwgt"
          ],
          [
           0.1896646289633693,
           "LR",
           "fnlwgt"
          ],
          [
           0.1896646289633693,
           "LR",
           "fnlwgt"
          ],
          [
           0.1896646289633693,
           "LR",
           "fnlwgt"
          ],
          [
           0.1896646289633693,
           "LR",
           "fnlwgt"
          ],
          [
           0.1896646289633693,
           "LR",
           "fnlwgt"
          ],
          [
           0.1896646289633693,
           "LR",
           "fnlwgt"
          ],
          [
           0.1896646289633693,
           "LR",
           "fnlwgt"
          ],
          [
           0.1896646289633693,
           "LR",
           "fnlwgt"
          ],
          [
           0.1896646289633693,
           "LR",
           "fnlwgt"
          ],
          [
           0.1896646289633693,
           "LR",
           "fnlwgt"
          ],
          [
           0.1896646289633693,
           "LR",
           "fnlwgt"
          ],
          [
           0.1896646289633693,
           "LR",
           "fnlwgt"
          ],
          [
           0.1896646289633693,
           "LR",
           "fnlwgt"
          ],
          [
           0.1896646289633693,
           "LR",
           "fnlwgt"
          ],
          [
           0.1896646289633693,
           "LR",
           "fnlwgt"
          ],
          [
           0.1896646289633693,
           "LR",
           "fnlwgt"
          ],
          [
           0.1896646289633693,
           "LR",
           "fnlwgt"
          ],
          [
           0.1896646289633693,
           "LR",
           "fnlwgt"
          ],
          [
           0.1896646289633693,
           "LR",
           "fnlwgt"
          ],
          [
           0.1896646289633693,
           "LR",
           "fnlwgt"
          ],
          [
           0.1896646289633693,
           "LR",
           "fnlwgt"
          ],
          [
           0.1896646289633693,
           "LR",
           "fnlwgt"
          ],
          [
           0.1896646289633693,
           "LR",
           "fnlwgt"
          ],
          [
           0.1896646289633693,
           "LR",
           "fnlwgt"
          ],
          [
           0.1896646289633693,
           "LR",
           "fnlwgt"
          ],
          [
           0.1896646289633693,
           "LR",
           "fnlwgt"
          ],
          [
           0.1896646289633693,
           "LR",
           "fnlwgt"
          ],
          [
           0.1896646289633693,
           "LR",
           "fnlwgt"
          ],
          [
           0.1896646289633693,
           "LR",
           "fnlwgt"
          ],
          [
           0.1896646289633693,
           "LR",
           "fnlwgt"
          ],
          [
           0.1896646289633693,
           "LR",
           "fnlwgt"
          ],
          [
           0.1896646289633693,
           "LR",
           "fnlwgt"
          ],
          [
           0.1896646289633693,
           "LR",
           "fnlwgt"
          ],
          [
           0.1896646289633693,
           "LR",
           "fnlwgt"
          ],
          [
           0.1896646289633693,
           "LR",
           "fnlwgt"
          ]
         ],
         "hovertemplate": "<b>%{hovertext}</b><br><br>prediction=%{y:.3f}<br>mean_prediction=%{customdata[0]:.3f}<extra></extra>",
         "hovertext": [
          "LR",
          "LR",
          "LR",
          "LR",
          "LR",
          "LR",
          "LR",
          "LR",
          "LR",
          "LR",
          "LR",
          "LR",
          "LR",
          "LR",
          "LR",
          "LR",
          "LR",
          "LR",
          "LR",
          "LR",
          "LR",
          "LR",
          "LR",
          "LR",
          "LR",
          "LR",
          "LR",
          "LR",
          "LR",
          "LR",
          "LR",
          "LR",
          "LR",
          "LR",
          "LR",
          "LR",
          "LR",
          "LR",
          "LR",
          "LR",
          "LR",
          "LR",
          "LR",
          "LR",
          "LR",
          "LR",
          "LR",
          "LR",
          "LR",
          "LR",
          "LR",
          "LR",
          "LR",
          "LR",
          "LR",
          "LR",
          "LR",
          "LR",
          "LR",
          "LR",
          "LR",
          "LR",
          "LR",
          "LR",
          "LR",
          "LR",
          "LR",
          "LR",
          "LR",
          "LR",
          "LR",
          "LR",
          "LR",
          "LR",
          "LR",
          "LR",
          "LR",
          "LR",
          "LR",
          "LR",
          "LR",
          "LR",
          "LR",
          "LR",
          "LR",
          "LR",
          "LR",
          "LR",
          "LR",
          "LR",
          "LR",
          "LR",
          "LR",
          "LR",
          "LR",
          "LR",
          "LR",
          "LR",
          "LR",
          "LR",
          "LR"
         ],
         "legendgroup": "LR",
         "line": {
          "color": "#ae2c87",
          "dash": "solid",
          "width": 2
         },
         "marker": {
          "symbol": "circle"
         },
         "mode": "lines",
         "name": "LR",
         "opacity": 1,
         "orientation": "v",
         "showlegend": false,
         "type": "scatter",
         "x": [
          12285,
          27009.2,
          41733.4,
          56457.600000000006,
          71181.8,
          85906,
          100630.20000000001,
          115354.40000000001,
          130078.6,
          144802.80000000002,
          159527,
          174251.2,
          188975.40000000002,
          203699.6,
          218423.80000000002,
          233148,
          247872.2,
          262596.4,
          277320.60000000003,
          292044.8,
          306769,
          321493.2,
          336217.4,
          350941.60000000003,
          365665.80000000005,
          380390,
          395114.2,
          409838.4,
          424562.60000000003,
          439286.80000000005,
          454011,
          468735.2,
          483459.4,
          498183.60000000003,
          512907.80000000005,
          527632,
          542356.2000000001,
          557080.4,
          571804.6,
          586528.8,
          601253,
          615977.2000000001,
          630701.4,
          645425.6,
          660149.8,
          674874,
          689598.2000000001,
          704322.4,
          719046.6000000001,
          733770.8,
          748495,
          763219.2000000001,
          777943.4,
          792667.6000000001,
          807391.8,
          822116,
          836840.2000000001,
          851564.4,
          866288.6000000001,
          881012.8,
          895737,
          910461.2000000001,
          925185.4,
          939909.6000000001,
          954633.8,
          969358,
          984082.2000000001,
          998806.4,
          1013530.6000000001,
          1028254.8,
          1042979,
          1057703.2000000002,
          1072427.4000000001,
          1087151.6,
          1101875.8,
          1116600,
          1131324.2,
          1146048.4000000001,
          1160772.6,
          1175496.8,
          1190221,
          1204945.2,
          1219669.4000000001,
          1234393.6,
          1249117.8,
          1263842,
          1278566.2,
          1293290.4000000001,
          1308014.6,
          1322738.8,
          1337463,
          1352187.2,
          1366911.4000000001,
          1381635.6,
          1396359.8,
          1411084,
          1425808.2000000002,
          1440532.4000000001,
          1455256.6,
          1469980.8,
          1484705
         ],
         "xaxis": "x6",
         "y": [
          0.17203880516023962,
          0.1732388733241397,
          0.17475016141563074,
          0.17658429688168883,
          0.1786860211449044,
          0.18094246337322878,
          0.18321768168264388,
          0.1853951071453149,
          0.18740629525053532,
          0.18923642864592882,
          0.19091223949437863,
          0.19248464607183358,
          0.194013531754984,
          0.19555312404893987,
          0.19713551627934997,
          0.19875631228820456,
          0.20037031374142825,
          0.20190432463136085,
          0.20328664254328704,
          0.20447882833303366,
          0.20549057908062476,
          0.2063718692140869,
          0.20719198553507848,
          0.2080181449386331,
          0.20890173660963987,
          0.20987547962340458,
          0.2109586912989678,
          0.21216155408375528,
          0.21348211411156376,
          0.21490119317653608,
          0.2163849496120415,
          0.21789661065024607,
          0.21940900784949036,
          0.22090780029642615,
          0.22238300697161922,
          0.22381789405217073,
          0.22518685182342105,
          0.2264637040871093,
          0.2276328927054585,
          0.22869744208670995,
          0.2296808753323592,
          0.23062048928909482,
          0.23155344439824038,
          0.23250397267269554,
          0.23347986778403484,
          0.2344781820325955,
          0.23549402842326558,
          0.23652733454026048,
          0.23758365261150152,
          0.23866692031917394,
          0.23976969063593287,
          0.24087144550683387,
          0.24194830542924506,
          0.24298536224259257,
          0.24398047223217958,
          0.24493831795014978,
          0.24586347791123653,
          0.24675871736460323,
          0.2476262187145547,
          0.24846965338282131,
          0.24929969101326652,
          0.2501417796878303,
          0.2510385799807545,
          0.25204302073551355,
          0.253207118395396,
          0.25457369250667844,
          0.25617032316842187,
          0.25799878884230565,
          0.2600212259461824,
          0.26215751450714353,
          0.26430466837148436,
          0.26636893258725264,
          0.26829047884671325,
          0.2700507492439731,
          0.27166693294071736,
          0.27318045932794077,
          0.27464120683005644,
          0.27608992129101606,
          0.27754800546851577,
          0.27902150841911516,
          0.28051170277417914,
          0.2820168431477905,
          0.28352163575830475,
          0.2849884448014794,
          0.2863656833965847,
          0.2876128181200562,
          0.28872489858129946,
          0.2897393161773144,
          0.2907223418403709,
          0.2917454661510468,
          0.29286366952666115,
          0.2941060216587264,
          0.295484875293267,
          0.29701790943128625,
          0.2987433860783751,
          0.3007102268425454,
          0.3029443550171184,
          0.30541393006775347,
          0.30801932170706436,
          0.3106159642817186,
          0.31305781452673603
         ],
         "yaxis": "y6"
        },
        {
         "customdata": [
          [
           0.1896646289633693,
           "LR",
           "EducationNum"
          ],
          [
           0.1896646289633693,
           "LR",
           "EducationNum"
          ],
          [
           0.1896646289633693,
           "LR",
           "EducationNum"
          ],
          [
           0.1896646289633693,
           "LR",
           "EducationNum"
          ],
          [
           0.1896646289633693,
           "LR",
           "EducationNum"
          ],
          [
           0.1896646289633693,
           "LR",
           "EducationNum"
          ],
          [
           0.1896646289633693,
           "LR",
           "EducationNum"
          ],
          [
           0.1896646289633693,
           "LR",
           "EducationNum"
          ],
          [
           0.1896646289633693,
           "LR",
           "EducationNum"
          ],
          [
           0.1896646289633693,
           "LR",
           "EducationNum"
          ],
          [
           0.1896646289633693,
           "LR",
           "EducationNum"
          ],
          [
           0.1896646289633693,
           "LR",
           "EducationNum"
          ],
          [
           0.1896646289633693,
           "LR",
           "EducationNum"
          ],
          [
           0.1896646289633693,
           "LR",
           "EducationNum"
          ],
          [
           0.1896646289633693,
           "LR",
           "EducationNum"
          ],
          [
           0.1896646289633693,
           "LR",
           "EducationNum"
          ],
          [
           0.1896646289633693,
           "LR",
           "EducationNum"
          ],
          [
           0.1896646289633693,
           "LR",
           "EducationNum"
          ],
          [
           0.1896646289633693,
           "LR",
           "EducationNum"
          ],
          [
           0.1896646289633693,
           "LR",
           "EducationNum"
          ],
          [
           0.1896646289633693,
           "LR",
           "EducationNum"
          ],
          [
           0.1896646289633693,
           "LR",
           "EducationNum"
          ],
          [
           0.1896646289633693,
           "LR",
           "EducationNum"
          ],
          [
           0.1896646289633693,
           "LR",
           "EducationNum"
          ],
          [
           0.1896646289633693,
           "LR",
           "EducationNum"
          ],
          [
           0.1896646289633693,
           "LR",
           "EducationNum"
          ],
          [
           0.1896646289633693,
           "LR",
           "EducationNum"
          ],
          [
           0.1896646289633693,
           "LR",
           "EducationNum"
          ],
          [
           0.1896646289633693,
           "LR",
           "EducationNum"
          ],
          [
           0.1896646289633693,
           "LR",
           "EducationNum"
          ],
          [
           0.1896646289633693,
           "LR",
           "EducationNum"
          ],
          [
           0.1896646289633693,
           "LR",
           "EducationNum"
          ],
          [
           0.1896646289633693,
           "LR",
           "EducationNum"
          ],
          [
           0.1896646289633693,
           "LR",
           "EducationNum"
          ],
          [
           0.1896646289633693,
           "LR",
           "EducationNum"
          ],
          [
           0.1896646289633693,
           "LR",
           "EducationNum"
          ],
          [
           0.1896646289633693,
           "LR",
           "EducationNum"
          ],
          [
           0.1896646289633693,
           "LR",
           "EducationNum"
          ],
          [
           0.1896646289633693,
           "LR",
           "EducationNum"
          ],
          [
           0.1896646289633693,
           "LR",
           "EducationNum"
          ],
          [
           0.1896646289633693,
           "LR",
           "EducationNum"
          ],
          [
           0.1896646289633693,
           "LR",
           "EducationNum"
          ],
          [
           0.1896646289633693,
           "LR",
           "EducationNum"
          ],
          [
           0.1896646289633693,
           "LR",
           "EducationNum"
          ],
          [
           0.1896646289633693,
           "LR",
           "EducationNum"
          ],
          [
           0.1896646289633693,
           "LR",
           "EducationNum"
          ],
          [
           0.1896646289633693,
           "LR",
           "EducationNum"
          ],
          [
           0.1896646289633693,
           "LR",
           "EducationNum"
          ],
          [
           0.1896646289633693,
           "LR",
           "EducationNum"
          ],
          [
           0.1896646289633693,
           "LR",
           "EducationNum"
          ],
          [
           0.1896646289633693,
           "LR",
           "EducationNum"
          ],
          [
           0.1896646289633693,
           "LR",
           "EducationNum"
          ],
          [
           0.1896646289633693,
           "LR",
           "EducationNum"
          ],
          [
           0.1896646289633693,
           "LR",
           "EducationNum"
          ],
          [
           0.1896646289633693,
           "LR",
           "EducationNum"
          ],
          [
           0.1896646289633693,
           "LR",
           "EducationNum"
          ],
          [
           0.1896646289633693,
           "LR",
           "EducationNum"
          ],
          [
           0.1896646289633693,
           "LR",
           "EducationNum"
          ],
          [
           0.1896646289633693,
           "LR",
           "EducationNum"
          ],
          [
           0.1896646289633693,
           "LR",
           "EducationNum"
          ],
          [
           0.1896646289633693,
           "LR",
           "EducationNum"
          ],
          [
           0.1896646289633693,
           "LR",
           "EducationNum"
          ],
          [
           0.1896646289633693,
           "LR",
           "EducationNum"
          ],
          [
           0.1896646289633693,
           "LR",
           "EducationNum"
          ],
          [
           0.1896646289633693,
           "LR",
           "EducationNum"
          ],
          [
           0.1896646289633693,
           "LR",
           "EducationNum"
          ],
          [
           0.1896646289633693,
           "LR",
           "EducationNum"
          ],
          [
           0.1896646289633693,
           "LR",
           "EducationNum"
          ],
          [
           0.1896646289633693,
           "LR",
           "EducationNum"
          ],
          [
           0.1896646289633693,
           "LR",
           "EducationNum"
          ],
          [
           0.1896646289633693,
           "LR",
           "EducationNum"
          ],
          [
           0.1896646289633693,
           "LR",
           "EducationNum"
          ],
          [
           0.1896646289633693,
           "LR",
           "EducationNum"
          ],
          [
           0.1896646289633693,
           "LR",
           "EducationNum"
          ],
          [
           0.1896646289633693,
           "LR",
           "EducationNum"
          ],
          [
           0.1896646289633693,
           "LR",
           "EducationNum"
          ],
          [
           0.1896646289633693,
           "LR",
           "EducationNum"
          ],
          [
           0.1896646289633693,
           "LR",
           "EducationNum"
          ],
          [
           0.1896646289633693,
           "LR",
           "EducationNum"
          ],
          [
           0.1896646289633693,
           "LR",
           "EducationNum"
          ],
          [
           0.1896646289633693,
           "LR",
           "EducationNum"
          ],
          [
           0.1896646289633693,
           "LR",
           "EducationNum"
          ],
          [
           0.1896646289633693,
           "LR",
           "EducationNum"
          ],
          [
           0.1896646289633693,
           "LR",
           "EducationNum"
          ],
          [
           0.1896646289633693,
           "LR",
           "EducationNum"
          ],
          [
           0.1896646289633693,
           "LR",
           "EducationNum"
          ],
          [
           0.1896646289633693,
           "LR",
           "EducationNum"
          ],
          [
           0.1896646289633693,
           "LR",
           "EducationNum"
          ],
          [
           0.1896646289633693,
           "LR",
           "EducationNum"
          ],
          [
           0.1896646289633693,
           "LR",
           "EducationNum"
          ],
          [
           0.1896646289633693,
           "LR",
           "EducationNum"
          ],
          [
           0.1896646289633693,
           "LR",
           "EducationNum"
          ],
          [
           0.1896646289633693,
           "LR",
           "EducationNum"
          ],
          [
           0.1896646289633693,
           "LR",
           "EducationNum"
          ],
          [
           0.1896646289633693,
           "LR",
           "EducationNum"
          ],
          [
           0.1896646289633693,
           "LR",
           "EducationNum"
          ],
          [
           0.1896646289633693,
           "LR",
           "EducationNum"
          ],
          [
           0.1896646289633693,
           "LR",
           "EducationNum"
          ],
          [
           0.1896646289633693,
           "LR",
           "EducationNum"
          ],
          [
           0.1896646289633693,
           "LR",
           "EducationNum"
          ],
          [
           0.1896646289633693,
           "LR",
           "EducationNum"
          ]
         ],
         "hovertemplate": "<b>%{hovertext}</b><br><br>prediction=%{y:.3f}<br>mean_prediction=%{customdata[0]:.3f}<extra></extra>",
         "hovertext": [
          "LR",
          "LR",
          "LR",
          "LR",
          "LR",
          "LR",
          "LR",
          "LR",
          "LR",
          "LR",
          "LR",
          "LR",
          "LR",
          "LR",
          "LR",
          "LR",
          "LR",
          "LR",
          "LR",
          "LR",
          "LR",
          "LR",
          "LR",
          "LR",
          "LR",
          "LR",
          "LR",
          "LR",
          "LR",
          "LR",
          "LR",
          "LR",
          "LR",
          "LR",
          "LR",
          "LR",
          "LR",
          "LR",
          "LR",
          "LR",
          "LR",
          "LR",
          "LR",
          "LR",
          "LR",
          "LR",
          "LR",
          "LR",
          "LR",
          "LR",
          "LR",
          "LR",
          "LR",
          "LR",
          "LR",
          "LR",
          "LR",
          "LR",
          "LR",
          "LR",
          "LR",
          "LR",
          "LR",
          "LR",
          "LR",
          "LR",
          "LR",
          "LR",
          "LR",
          "LR",
          "LR",
          "LR",
          "LR",
          "LR",
          "LR",
          "LR",
          "LR",
          "LR",
          "LR",
          "LR",
          "LR",
          "LR",
          "LR",
          "LR",
          "LR",
          "LR",
          "LR",
          "LR",
          "LR",
          "LR",
          "LR",
          "LR",
          "LR",
          "LR",
          "LR",
          "LR",
          "LR",
          "LR",
          "LR",
          "LR",
          "LR"
         ],
         "legendgroup": "LR",
         "line": {
          "color": "#ae2c87",
          "dash": "solid",
          "width": 2
         },
         "marker": {
          "symbol": "circle"
         },
         "mode": "lines",
         "name": "LR",
         "opacity": 1,
         "orientation": "v",
         "showlegend": false,
         "type": "scatter",
         "x": [
          1,
          1.15,
          1.3,
          1.45,
          1.6,
          1.75,
          1.9,
          2.05,
          2.2,
          2.3499999999999996,
          2.5,
          2.65,
          2.8,
          2.95,
          3.1,
          3.25,
          3.4,
          3.55,
          3.6999999999999997,
          3.85,
          4,
          4.15,
          4.3,
          4.449999999999999,
          4.6,
          4.75,
          4.9,
          5.05,
          5.2,
          5.35,
          5.5,
          5.6499999999999995,
          5.8,
          5.95,
          6.1,
          6.25,
          6.3999999999999995,
          6.55,
          6.7,
          6.85,
          7,
          7.1499999999999995,
          7.3,
          7.45,
          7.6,
          7.75,
          7.8999999999999995,
          8.05,
          8.2,
          8.35,
          8.5,
          8.649999999999999,
          8.8,
          8.95,
          9.1,
          9.25,
          9.4,
          9.549999999999999,
          9.7,
          9.85,
          10,
          10.15,
          10.299999999999999,
          10.45,
          10.6,
          10.75,
          10.9,
          11.049999999999999,
          11.2,
          11.35,
          11.5,
          11.65,
          11.799999999999999,
          11.95,
          12.1,
          12.25,
          12.4,
          12.549999999999999,
          12.7,
          12.85,
          13,
          13.15,
          13.299999999999999,
          13.45,
          13.6,
          13.75,
          13.9,
          14.049999999999999,
          14.2,
          14.35,
          14.5,
          14.65,
          14.799999999999999,
          14.95,
          15.1,
          15.25,
          15.399999999999999,
          15.549999999999999,
          15.7,
          15.85,
          16
         ],
         "xaxis": "x3",
         "y": [
          0.030830091269974432,
          0.03214326448009117,
          0.03302908108381728,
          0.03330172543017147,
          0.03347925260330106,
          0.03403785733494457,
          0.03531103562887814,
          0.03629285113387539,
          0.036590830321437645,
          0.036652424265299605,
          0.036664032322730196,
          0.03666618079130463,
          0.0366665771061477,
          0.036666650195929025,
          0.03666666383400196,
          0.036666667247202266,
          0.03666667275592803,
          0.03666670024450625,
          0.03666684892944306,
          0.03666765528408433,
          0.03667202327556034,
          0.03669552450848504,
          0.03681749960330166,
          0.03734952271421065,
          0.03862347199667404,
          0.039710940563139334,
          0.04044625090553585,
          0.042281514621926364,
          0.046124056831050954,
          0.04896729031472772,
          0.0499488066349183,
          0.05069408420612381,
          0.05202076224028743,
          0.05304808899581557,
          0.05363157662678045,
          0.05467010322478861,
          0.055968883842670854,
          0.05659732680373673,
          0.05708075367334973,
          0.05830503491805323,
          0.06031196847159374,
          0.06260158139067269,
          0.06535279996906004,
          0.06954559840399395,
          0.07510869196237019,
          0.08034504644056305,
          0.08274852092522694,
          0.08379668860887418,
          0.08583789334458804,
          0.09047032829395651,
          0.09652910212434324,
          0.10123525366082294,
          0.10438376847361942,
          0.10728186654914043,
          0.11100208846446608,
          0.1161139323669754,
          0.120866951968838,
          0.12415272776677791,
          0.12778948792489522,
          0.13319423384739362,
          0.14074306178524315,
          0.15194951692482497,
          0.16392903343120444,
          0.17455521636998025,
          0.18469935427783435,
          0.19378726429059365,
          0.20172772019613908,
          0.2070352884948022,
          0.21177374454059766,
          0.21727038535815,
          0.22203521123990488,
          0.22707142143744663,
          0.23270586675167707,
          0.23726570448067444,
          0.24015955273989126,
          0.24312632844582258,
          0.24861336383039737,
          0.2584315325064281,
          0.2685832806318617,
          0.2768797994319847,
          0.2858680518042994,
          0.29557792452286463,
          0.3037111250084562,
          0.31096807252019176,
          0.3184130255470138,
          0.32522119294023333,
          0.3307748936953376,
          0.3347438609299556,
          0.34002041017396295,
          0.3483400061222418,
          0.3579896075516869,
          0.3648852346152183,
          0.37080545773493623,
          0.3775407147081749,
          0.3851752940525444,
          0.39238631281303094,
          0.3987045061645675,
          0.4047204388623079,
          0.40906241559219914,
          0.41279427712236116,
          0.4171933365510843
         ],
         "yaxis": "y3"
        },
        {
         "customdata": [
          [
           0.1896646289633693,
           "LR",
           "CapitalGain"
          ],
          [
           0.1896646289633693,
           "LR",
           "CapitalGain"
          ],
          [
           0.1896646289633693,
           "LR",
           "CapitalGain"
          ],
          [
           0.1896646289633693,
           "LR",
           "CapitalGain"
          ],
          [
           0.1896646289633693,
           "LR",
           "CapitalGain"
          ],
          [
           0.1896646289633693,
           "LR",
           "CapitalGain"
          ],
          [
           0.1896646289633693,
           "LR",
           "CapitalGain"
          ],
          [
           0.1896646289633693,
           "LR",
           "CapitalGain"
          ],
          [
           0.1896646289633693,
           "LR",
           "CapitalGain"
          ],
          [
           0.1896646289633693,
           "LR",
           "CapitalGain"
          ],
          [
           0.1896646289633693,
           "LR",
           "CapitalGain"
          ],
          [
           0.1896646289633693,
           "LR",
           "CapitalGain"
          ],
          [
           0.1896646289633693,
           "LR",
           "CapitalGain"
          ],
          [
           0.1896646289633693,
           "LR",
           "CapitalGain"
          ],
          [
           0.1896646289633693,
           "LR",
           "CapitalGain"
          ],
          [
           0.1896646289633693,
           "LR",
           "CapitalGain"
          ],
          [
           0.1896646289633693,
           "LR",
           "CapitalGain"
          ],
          [
           0.1896646289633693,
           "LR",
           "CapitalGain"
          ],
          [
           0.1896646289633693,
           "LR",
           "CapitalGain"
          ],
          [
           0.1896646289633693,
           "LR",
           "CapitalGain"
          ],
          [
           0.1896646289633693,
           "LR",
           "CapitalGain"
          ],
          [
           0.1896646289633693,
           "LR",
           "CapitalGain"
          ],
          [
           0.1896646289633693,
           "LR",
           "CapitalGain"
          ],
          [
           0.1896646289633693,
           "LR",
           "CapitalGain"
          ],
          [
           0.1896646289633693,
           "LR",
           "CapitalGain"
          ],
          [
           0.1896646289633693,
           "LR",
           "CapitalGain"
          ],
          [
           0.1896646289633693,
           "LR",
           "CapitalGain"
          ],
          [
           0.1896646289633693,
           "LR",
           "CapitalGain"
          ],
          [
           0.1896646289633693,
           "LR",
           "CapitalGain"
          ],
          [
           0.1896646289633693,
           "LR",
           "CapitalGain"
          ],
          [
           0.1896646289633693,
           "LR",
           "CapitalGain"
          ],
          [
           0.1896646289633693,
           "LR",
           "CapitalGain"
          ],
          [
           0.1896646289633693,
           "LR",
           "CapitalGain"
          ],
          [
           0.1896646289633693,
           "LR",
           "CapitalGain"
          ],
          [
           0.1896646289633693,
           "LR",
           "CapitalGain"
          ],
          [
           0.1896646289633693,
           "LR",
           "CapitalGain"
          ],
          [
           0.1896646289633693,
           "LR",
           "CapitalGain"
          ],
          [
           0.1896646289633693,
           "LR",
           "CapitalGain"
          ],
          [
           0.1896646289633693,
           "LR",
           "CapitalGain"
          ],
          [
           0.1896646289633693,
           "LR",
           "CapitalGain"
          ],
          [
           0.1896646289633693,
           "LR",
           "CapitalGain"
          ],
          [
           0.1896646289633693,
           "LR",
           "CapitalGain"
          ],
          [
           0.1896646289633693,
           "LR",
           "CapitalGain"
          ],
          [
           0.1896646289633693,
           "LR",
           "CapitalGain"
          ],
          [
           0.1896646289633693,
           "LR",
           "CapitalGain"
          ],
          [
           0.1896646289633693,
           "LR",
           "CapitalGain"
          ],
          [
           0.1896646289633693,
           "LR",
           "CapitalGain"
          ],
          [
           0.1896646289633693,
           "LR",
           "CapitalGain"
          ],
          [
           0.1896646289633693,
           "LR",
           "CapitalGain"
          ],
          [
           0.1896646289633693,
           "LR",
           "CapitalGain"
          ],
          [
           0.1896646289633693,
           "LR",
           "CapitalGain"
          ],
          [
           0.1896646289633693,
           "LR",
           "CapitalGain"
          ],
          [
           0.1896646289633693,
           "LR",
           "CapitalGain"
          ],
          [
           0.1896646289633693,
           "LR",
           "CapitalGain"
          ],
          [
           0.1896646289633693,
           "LR",
           "CapitalGain"
          ],
          [
           0.1896646289633693,
           "LR",
           "CapitalGain"
          ],
          [
           0.1896646289633693,
           "LR",
           "CapitalGain"
          ],
          [
           0.1896646289633693,
           "LR",
           "CapitalGain"
          ],
          [
           0.1896646289633693,
           "LR",
           "CapitalGain"
          ],
          [
           0.1896646289633693,
           "LR",
           "CapitalGain"
          ],
          [
           0.1896646289633693,
           "LR",
           "CapitalGain"
          ],
          [
           0.1896646289633693,
           "LR",
           "CapitalGain"
          ],
          [
           0.1896646289633693,
           "LR",
           "CapitalGain"
          ],
          [
           0.1896646289633693,
           "LR",
           "CapitalGain"
          ],
          [
           0.1896646289633693,
           "LR",
           "CapitalGain"
          ],
          [
           0.1896646289633693,
           "LR",
           "CapitalGain"
          ],
          [
           0.1896646289633693,
           "LR",
           "CapitalGain"
          ],
          [
           0.1896646289633693,
           "LR",
           "CapitalGain"
          ],
          [
           0.1896646289633693,
           "LR",
           "CapitalGain"
          ],
          [
           0.1896646289633693,
           "LR",
           "CapitalGain"
          ],
          [
           0.1896646289633693,
           "LR",
           "CapitalGain"
          ],
          [
           0.1896646289633693,
           "LR",
           "CapitalGain"
          ],
          [
           0.1896646289633693,
           "LR",
           "CapitalGain"
          ],
          [
           0.1896646289633693,
           "LR",
           "CapitalGain"
          ],
          [
           0.1896646289633693,
           "LR",
           "CapitalGain"
          ],
          [
           0.1896646289633693,
           "LR",
           "CapitalGain"
          ],
          [
           0.1896646289633693,
           "LR",
           "CapitalGain"
          ],
          [
           0.1896646289633693,
           "LR",
           "CapitalGain"
          ],
          [
           0.1896646289633693,
           "LR",
           "CapitalGain"
          ],
          [
           0.1896646289633693,
           "LR",
           "CapitalGain"
          ],
          [
           0.1896646289633693,
           "LR",
           "CapitalGain"
          ],
          [
           0.1896646289633693,
           "LR",
           "CapitalGain"
          ],
          [
           0.1896646289633693,
           "LR",
           "CapitalGain"
          ],
          [
           0.1896646289633693,
           "LR",
           "CapitalGain"
          ],
          [
           0.1896646289633693,
           "LR",
           "CapitalGain"
          ],
          [
           0.1896646289633693,
           "LR",
           "CapitalGain"
          ],
          [
           0.1896646289633693,
           "LR",
           "CapitalGain"
          ],
          [
           0.1896646289633693,
           "LR",
           "CapitalGain"
          ],
          [
           0.1896646289633693,
           "LR",
           "CapitalGain"
          ],
          [
           0.1896646289633693,
           "LR",
           "CapitalGain"
          ],
          [
           0.1896646289633693,
           "LR",
           "CapitalGain"
          ],
          [
           0.1896646289633693,
           "LR",
           "CapitalGain"
          ],
          [
           0.1896646289633693,
           "LR",
           "CapitalGain"
          ],
          [
           0.1896646289633693,
           "LR",
           "CapitalGain"
          ],
          [
           0.1896646289633693,
           "LR",
           "CapitalGain"
          ],
          [
           0.1896646289633693,
           "LR",
           "CapitalGain"
          ],
          [
           0.1896646289633693,
           "LR",
           "CapitalGain"
          ],
          [
           0.1896646289633693,
           "LR",
           "CapitalGain"
          ],
          [
           0.1896646289633693,
           "LR",
           "CapitalGain"
          ],
          [
           0.1896646289633693,
           "LR",
           "CapitalGain"
          ],
          [
           0.1896646289633693,
           "LR",
           "CapitalGain"
          ]
         ],
         "hovertemplate": "<b>%{hovertext}</b><br><br>prediction=%{y:.3f}<br>mean_prediction=%{customdata[0]:.3f}<extra></extra>",
         "hovertext": [
          "LR",
          "LR",
          "LR",
          "LR",
          "LR",
          "LR",
          "LR",
          "LR",
          "LR",
          "LR",
          "LR",
          "LR",
          "LR",
          "LR",
          "LR",
          "LR",
          "LR",
          "LR",
          "LR",
          "LR",
          "LR",
          "LR",
          "LR",
          "LR",
          "LR",
          "LR",
          "LR",
          "LR",
          "LR",
          "LR",
          "LR",
          "LR",
          "LR",
          "LR",
          "LR",
          "LR",
          "LR",
          "LR",
          "LR",
          "LR",
          "LR",
          "LR",
          "LR",
          "LR",
          "LR",
          "LR",
          "LR",
          "LR",
          "LR",
          "LR",
          "LR",
          "LR",
          "LR",
          "LR",
          "LR",
          "LR",
          "LR",
          "LR",
          "LR",
          "LR",
          "LR",
          "LR",
          "LR",
          "LR",
          "LR",
          "LR",
          "LR",
          "LR",
          "LR",
          "LR",
          "LR",
          "LR",
          "LR",
          "LR",
          "LR",
          "LR",
          "LR",
          "LR",
          "LR",
          "LR",
          "LR",
          "LR",
          "LR",
          "LR",
          "LR",
          "LR",
          "LR",
          "LR",
          "LR",
          "LR",
          "LR",
          "LR",
          "LR",
          "LR",
          "LR",
          "LR",
          "LR",
          "LR",
          "LR",
          "LR",
          "LR"
         ],
         "legendgroup": "LR",
         "line": {
          "color": "#ae2c87",
          "dash": "solid",
          "width": 2
         },
         "marker": {
          "symbol": "circle"
         },
         "mode": "lines",
         "name": "LR",
         "opacity": 1,
         "orientation": "v",
         "showlegend": false,
         "type": "scatter",
         "x": [
          0,
          999.99,
          1999.98,
          2999.9700000000003,
          3999.96,
          4999.95,
          5999.9400000000005,
          6999.93,
          7999.92,
          8999.91,
          9999.9,
          10999.89,
          11999.880000000001,
          12999.87,
          13999.86,
          14999.85,
          15999.84,
          16999.83,
          17999.82,
          18999.81,
          19999.8,
          20999.79,
          21999.78,
          22999.77,
          23999.760000000002,
          24999.75,
          25999.74,
          26999.73,
          27999.72,
          28999.71,
          29999.7,
          30999.69,
          31999.68,
          32999.67,
          33999.66,
          34999.65,
          35999.64,
          36999.63,
          37999.62,
          38999.61,
          39999.6,
          40999.590000000004,
          41999.58,
          42999.57,
          43999.56,
          44999.55,
          45999.54,
          46999.53,
          47999.520000000004,
          48999.51,
          49999.5,
          50999.49,
          51999.48,
          52999.47,
          53999.46,
          54999.45,
          55999.44,
          56999.43,
          57999.42,
          58999.41,
          59999.4,
          60999.39,
          61999.38,
          62999.37,
          63999.36,
          64999.35,
          65999.34,
          66999.33,
          67999.32,
          68999.31,
          69999.3,
          70999.29,
          71999.28,
          72999.27,
          73999.26,
          74999.25,
          75999.24,
          76999.23,
          77999.22,
          78999.21,
          79999.2,
          80999.19,
          81999.18000000001,
          82999.17,
          83999.16,
          84999.15,
          85999.14,
          86999.13,
          87999.12,
          88999.11,
          89999.1,
          90999.09,
          91999.08,
          92999.07,
          93999.06,
          94999.05,
          95999.04000000001,
          96999.03,
          97999.02,
          98999.01,
          99999
         ],
         "xaxis": "x4",
         "y": [
          0.14831195293923274,
          0.19082292737180037,
          0.24078966549598135,
          0.2877433216338463,
          0.35305953345482305,
          0.4165729421384127,
          0.45333211264467876,
          0.48274844967522396,
          0.5237336744325766,
          0.5570146487247666,
          0.5884745777425828,
          0.6268822526992753,
          0.6769984276045704,
          0.715386535016938,
          0.7677370074852193,
          0.8029561871336115,
          0.8248434510545687,
          0.8552825891723609,
          0.8898431248118294,
          0.924353709794987,
          0.9541619836763117,
          0.9735479720149961,
          0.9885380606624684,
          0.9900132924706507,
          0.9933324455566485,
          0.9957151866694209,
          0.9999761573888781,
          0.999999999974122,
          1,
          1,
          1,
          1,
          1,
          1,
          1,
          1,
          1,
          1,
          1,
          1,
          1,
          1,
          1,
          1,
          1,
          1,
          1,
          1,
          1,
          1,
          1,
          1,
          1,
          1,
          1,
          1,
          1,
          1,
          1,
          1,
          1,
          1,
          1,
          1,
          1,
          1,
          1,
          1,
          1,
          1,
          1,
          1,
          1,
          1,
          1,
          1,
          1,
          1,
          1,
          1,
          1,
          1,
          1,
          1,
          1,
          1,
          1,
          1,
          1,
          1,
          1,
          1,
          1,
          1,
          1,
          1,
          1,
          1,
          1,
          1,
          1
         ],
         "yaxis": "y4"
        },
        {
         "customdata": [
          [
           0.1896646289633693,
           "LR",
           "CapitalLoss"
          ],
          [
           0.1896646289633693,
           "LR",
           "CapitalLoss"
          ],
          [
           0.1896646289633693,
           "LR",
           "CapitalLoss"
          ],
          [
           0.1896646289633693,
           "LR",
           "CapitalLoss"
          ],
          [
           0.1896646289633693,
           "LR",
           "CapitalLoss"
          ],
          [
           0.1896646289633693,
           "LR",
           "CapitalLoss"
          ],
          [
           0.1896646289633693,
           "LR",
           "CapitalLoss"
          ],
          [
           0.1896646289633693,
           "LR",
           "CapitalLoss"
          ],
          [
           0.1896646289633693,
           "LR",
           "CapitalLoss"
          ],
          [
           0.1896646289633693,
           "LR",
           "CapitalLoss"
          ],
          [
           0.1896646289633693,
           "LR",
           "CapitalLoss"
          ],
          [
           0.1896646289633693,
           "LR",
           "CapitalLoss"
          ],
          [
           0.1896646289633693,
           "LR",
           "CapitalLoss"
          ],
          [
           0.1896646289633693,
           "LR",
           "CapitalLoss"
          ],
          [
           0.1896646289633693,
           "LR",
           "CapitalLoss"
          ],
          [
           0.1896646289633693,
           "LR",
           "CapitalLoss"
          ],
          [
           0.1896646289633693,
           "LR",
           "CapitalLoss"
          ],
          [
           0.1896646289633693,
           "LR",
           "CapitalLoss"
          ],
          [
           0.1896646289633693,
           "LR",
           "CapitalLoss"
          ],
          [
           0.1896646289633693,
           "LR",
           "CapitalLoss"
          ],
          [
           0.1896646289633693,
           "LR",
           "CapitalLoss"
          ],
          [
           0.1896646289633693,
           "LR",
           "CapitalLoss"
          ],
          [
           0.1896646289633693,
           "LR",
           "CapitalLoss"
          ],
          [
           0.1896646289633693,
           "LR",
           "CapitalLoss"
          ],
          [
           0.1896646289633693,
           "LR",
           "CapitalLoss"
          ],
          [
           0.1896646289633693,
           "LR",
           "CapitalLoss"
          ],
          [
           0.1896646289633693,
           "LR",
           "CapitalLoss"
          ],
          [
           0.1896646289633693,
           "LR",
           "CapitalLoss"
          ],
          [
           0.1896646289633693,
           "LR",
           "CapitalLoss"
          ],
          [
           0.1896646289633693,
           "LR",
           "CapitalLoss"
          ],
          [
           0.1896646289633693,
           "LR",
           "CapitalLoss"
          ],
          [
           0.1896646289633693,
           "LR",
           "CapitalLoss"
          ],
          [
           0.1896646289633693,
           "LR",
           "CapitalLoss"
          ],
          [
           0.1896646289633693,
           "LR",
           "CapitalLoss"
          ],
          [
           0.1896646289633693,
           "LR",
           "CapitalLoss"
          ],
          [
           0.1896646289633693,
           "LR",
           "CapitalLoss"
          ],
          [
           0.1896646289633693,
           "LR",
           "CapitalLoss"
          ],
          [
           0.1896646289633693,
           "LR",
           "CapitalLoss"
          ],
          [
           0.1896646289633693,
           "LR",
           "CapitalLoss"
          ],
          [
           0.1896646289633693,
           "LR",
           "CapitalLoss"
          ],
          [
           0.1896646289633693,
           "LR",
           "CapitalLoss"
          ],
          [
           0.1896646289633693,
           "LR",
           "CapitalLoss"
          ],
          [
           0.1896646289633693,
           "LR",
           "CapitalLoss"
          ],
          [
           0.1896646289633693,
           "LR",
           "CapitalLoss"
          ],
          [
           0.1896646289633693,
           "LR",
           "CapitalLoss"
          ],
          [
           0.1896646289633693,
           "LR",
           "CapitalLoss"
          ],
          [
           0.1896646289633693,
           "LR",
           "CapitalLoss"
          ],
          [
           0.1896646289633693,
           "LR",
           "CapitalLoss"
          ],
          [
           0.1896646289633693,
           "LR",
           "CapitalLoss"
          ],
          [
           0.1896646289633693,
           "LR",
           "CapitalLoss"
          ],
          [
           0.1896646289633693,
           "LR",
           "CapitalLoss"
          ],
          [
           0.1896646289633693,
           "LR",
           "CapitalLoss"
          ],
          [
           0.1896646289633693,
           "LR",
           "CapitalLoss"
          ],
          [
           0.1896646289633693,
           "LR",
           "CapitalLoss"
          ],
          [
           0.1896646289633693,
           "LR",
           "CapitalLoss"
          ],
          [
           0.1896646289633693,
           "LR",
           "CapitalLoss"
          ],
          [
           0.1896646289633693,
           "LR",
           "CapitalLoss"
          ],
          [
           0.1896646289633693,
           "LR",
           "CapitalLoss"
          ],
          [
           0.1896646289633693,
           "LR",
           "CapitalLoss"
          ],
          [
           0.1896646289633693,
           "LR",
           "CapitalLoss"
          ],
          [
           0.1896646289633693,
           "LR",
           "CapitalLoss"
          ],
          [
           0.1896646289633693,
           "LR",
           "CapitalLoss"
          ],
          [
           0.1896646289633693,
           "LR",
           "CapitalLoss"
          ],
          [
           0.1896646289633693,
           "LR",
           "CapitalLoss"
          ],
          [
           0.1896646289633693,
           "LR",
           "CapitalLoss"
          ],
          [
           0.1896646289633693,
           "LR",
           "CapitalLoss"
          ],
          [
           0.1896646289633693,
           "LR",
           "CapitalLoss"
          ],
          [
           0.1896646289633693,
           "LR",
           "CapitalLoss"
          ],
          [
           0.1896646289633693,
           "LR",
           "CapitalLoss"
          ],
          [
           0.1896646289633693,
           "LR",
           "CapitalLoss"
          ],
          [
           0.1896646289633693,
           "LR",
           "CapitalLoss"
          ],
          [
           0.1896646289633693,
           "LR",
           "CapitalLoss"
          ],
          [
           0.1896646289633693,
           "LR",
           "CapitalLoss"
          ],
          [
           0.1896646289633693,
           "LR",
           "CapitalLoss"
          ],
          [
           0.1896646289633693,
           "LR",
           "CapitalLoss"
          ],
          [
           0.1896646289633693,
           "LR",
           "CapitalLoss"
          ],
          [
           0.1896646289633693,
           "LR",
           "CapitalLoss"
          ],
          [
           0.1896646289633693,
           "LR",
           "CapitalLoss"
          ],
          [
           0.1896646289633693,
           "LR",
           "CapitalLoss"
          ],
          [
           0.1896646289633693,
           "LR",
           "CapitalLoss"
          ],
          [
           0.1896646289633693,
           "LR",
           "CapitalLoss"
          ],
          [
           0.1896646289633693,
           "LR",
           "CapitalLoss"
          ],
          [
           0.1896646289633693,
           "LR",
           "CapitalLoss"
          ],
          [
           0.1896646289633693,
           "LR",
           "CapitalLoss"
          ],
          [
           0.1896646289633693,
           "LR",
           "CapitalLoss"
          ],
          [
           0.1896646289633693,
           "LR",
           "CapitalLoss"
          ],
          [
           0.1896646289633693,
           "LR",
           "CapitalLoss"
          ],
          [
           0.1896646289633693,
           "LR",
           "CapitalLoss"
          ],
          [
           0.1896646289633693,
           "LR",
           "CapitalLoss"
          ],
          [
           0.1896646289633693,
           "LR",
           "CapitalLoss"
          ],
          [
           0.1896646289633693,
           "LR",
           "CapitalLoss"
          ],
          [
           0.1896646289633693,
           "LR",
           "CapitalLoss"
          ],
          [
           0.1896646289633693,
           "LR",
           "CapitalLoss"
          ],
          [
           0.1896646289633693,
           "LR",
           "CapitalLoss"
          ],
          [
           0.1896646289633693,
           "LR",
           "CapitalLoss"
          ],
          [
           0.1896646289633693,
           "LR",
           "CapitalLoss"
          ],
          [
           0.1896646289633693,
           "LR",
           "CapitalLoss"
          ],
          [
           0.1896646289633693,
           "LR",
           "CapitalLoss"
          ],
          [
           0.1896646289633693,
           "LR",
           "CapitalLoss"
          ],
          [
           0.1896646289633693,
           "LR",
           "CapitalLoss"
          ],
          [
           0.1896646289633693,
           "LR",
           "CapitalLoss"
          ]
         ],
         "hovertemplate": "<b>%{hovertext}</b><br><br>prediction=%{y:.3f}<br>mean_prediction=%{customdata[0]:.3f}<extra></extra>",
         "hovertext": [
          "LR",
          "LR",
          "LR",
          "LR",
          "LR",
          "LR",
          "LR",
          "LR",
          "LR",
          "LR",
          "LR",
          "LR",
          "LR",
          "LR",
          "LR",
          "LR",
          "LR",
          "LR",
          "LR",
          "LR",
          "LR",
          "LR",
          "LR",
          "LR",
          "LR",
          "LR",
          "LR",
          "LR",
          "LR",
          "LR",
          "LR",
          "LR",
          "LR",
          "LR",
          "LR",
          "LR",
          "LR",
          "LR",
          "LR",
          "LR",
          "LR",
          "LR",
          "LR",
          "LR",
          "LR",
          "LR",
          "LR",
          "LR",
          "LR",
          "LR",
          "LR",
          "LR",
          "LR",
          "LR",
          "LR",
          "LR",
          "LR",
          "LR",
          "LR",
          "LR",
          "LR",
          "LR",
          "LR",
          "LR",
          "LR",
          "LR",
          "LR",
          "LR",
          "LR",
          "LR",
          "LR",
          "LR",
          "LR",
          "LR",
          "LR",
          "LR",
          "LR",
          "LR",
          "LR",
          "LR",
          "LR",
          "LR",
          "LR",
          "LR",
          "LR",
          "LR",
          "LR",
          "LR",
          "LR",
          "LR",
          "LR",
          "LR",
          "LR",
          "LR",
          "LR",
          "LR",
          "LR",
          "LR",
          "LR",
          "LR",
          "LR"
         ],
         "legendgroup": "LR",
         "line": {
          "color": "#ae2c87",
          "dash": "solid",
          "width": 2
         },
         "marker": {
          "symbol": "circle"
         },
         "mode": "lines",
         "name": "LR",
         "opacity": 1,
         "orientation": "v",
         "showlegend": false,
         "type": "scatter",
         "x": [
          0,
          43.56,
          87.12,
          130.68,
          174.24,
          217.8,
          261.36,
          304.92,
          348.48,
          392.04,
          435.6,
          479.16,
          522.72,
          566.28,
          609.84,
          653.4000000000001,
          696.96,
          740.52,
          784.08,
          827.6400000000001,
          871.2,
          914.76,
          958.32,
          1001.8800000000001,
          1045.44,
          1089,
          1132.56,
          1176.1200000000001,
          1219.68,
          1263.24,
          1306.8000000000002,
          1350.3600000000001,
          1393.92,
          1437.48,
          1481.04,
          1524.6000000000001,
          1568.16,
          1611.72,
          1655.2800000000002,
          1698.8400000000001,
          1742.4,
          1785.96,
          1829.52,
          1873.0800000000002,
          1916.64,
          1960.2,
          2003.7600000000002,
          2047.3200000000002,
          2090.88,
          2134.44,
          2178,
          2221.56,
          2265.12,
          2308.6800000000003,
          2352.2400000000002,
          2395.8,
          2439.36,
          2482.92,
          2526.48,
          2570.04,
          2613.6000000000004,
          2657.1600000000003,
          2700.7200000000003,
          2744.28,
          2787.84,
          2831.4,
          2874.96,
          2918.52,
          2962.08,
          3005.6400000000003,
          3049.2000000000003,
          3092.76,
          3136.32,
          3179.88,
          3223.44,
          3267,
          3310.5600000000004,
          3354.1200000000003,
          3397.6800000000003,
          3441.2400000000002,
          3484.8,
          3528.36,
          3571.92,
          3615.48,
          3659.04,
          3702.6000000000004,
          3746.1600000000003,
          3789.7200000000003,
          3833.28,
          3876.84,
          3920.4,
          3963.96,
          4007.5200000000004,
          4051.0800000000004,
          4094.6400000000003,
          4138.2,
          4181.76,
          4225.320000000001,
          4268.88,
          4312.4400000000005,
          4356
         ],
         "xaxis": "x",
         "y": [
          0.16632157053149862,
          0.1706058554698096,
          0.17560441933635865,
          0.1805569565785082,
          0.18493166544344064,
          0.1885569500661363,
          0.19169028785060702,
          0.1944980789989946,
          0.19734269007722022,
          0.20002477359967677,
          0.20274267007452798,
          0.20587910270117235,
          0.2091662431796551,
          0.21277822545864203,
          0.21724992799541915,
          0.2217317218068123,
          0.2258359383245113,
          0.2301806063199657,
          0.23435233138707243,
          0.23826545636232282,
          0.24279952449143574,
          0.24805765027782878,
          0.2537269232252314,
          0.26007183237139664,
          0.2663571840747009,
          0.27123738327983504,
          0.27439275238075644,
          0.2763174840180898,
          0.27802597076417196,
          0.2807402700252933,
          0.28483180481623815,
          0.28994306919846013,
          0.29575095460066514,
          0.30145839320851175,
          0.30608806850818077,
          0.3103493111845238,
          0.315598982080827,
          0.322295553585438,
          0.3297721595629162,
          0.33743464253144523,
          0.3450885120871391,
          0.35170854235548993,
          0.3566455651252498,
          0.36052753341901433,
          0.3636152159321248,
          0.36576495363139605,
          0.3674362357489425,
          0.3696996364552084,
          0.37308299914168347,
          0.3772947918685115,
          0.38230790035928136,
          0.3877558305606751,
          0.39293518322332854,
          0.39769474892297263,
          0.4023765295839775,
          0.40751995910266314,
          0.4132723453868252,
          0.41828136839428465,
          0.42178437545300684,
          0.4243212537999992,
          0.42643376620491025,
          0.4286717673516869,
          0.4315304526420771,
          0.43469126901211164,
          0.43762816634182705,
          0.43992526925293834,
          0.4424157447194682,
          0.44658301606137446,
          0.45232174420532734,
          0.4575395217190561,
          0.4608949991053917,
          0.46256370195867635,
          0.4633823230826255,
          0.46426077977825675,
          0.46609326869977374,
          0.4695274039243081,
          0.47425431176856553,
          0.47890956929032913,
          0.4828507137416551,
          0.4865672499087438,
          0.4900672827460797,
          0.4928689712176413,
          0.4956214090930582,
          0.499689375135405,
          0.5050615924759313,
          0.5109779746032506,
          0.5171118509235337,
          0.5222219875806311,
          0.525103956203381,
          0.5263735476669494,
          0.527227144663279,
          0.5286238666423881,
          0.5309873368044467,
          0.5337336544287314,
          0.5364679005112692,
          0.5392658013976234,
          0.5419194998674686,
          0.5442561605587467,
          0.5467717500844631,
          0.5501441869352562,
          0.555020855552786
         ],
         "yaxis": "y"
        },
        {
         "customdata": [
          [
           0.1896646289633693,
           "LR",
           "HoursPerWeek"
          ],
          [
           0.1896646289633693,
           "LR",
           "HoursPerWeek"
          ],
          [
           0.1896646289633693,
           "LR",
           "HoursPerWeek"
          ],
          [
           0.1896646289633693,
           "LR",
           "HoursPerWeek"
          ],
          [
           0.1896646289633693,
           "LR",
           "HoursPerWeek"
          ],
          [
           0.1896646289633693,
           "LR",
           "HoursPerWeek"
          ],
          [
           0.1896646289633693,
           "LR",
           "HoursPerWeek"
          ],
          [
           0.1896646289633693,
           "LR",
           "HoursPerWeek"
          ],
          [
           0.1896646289633693,
           "LR",
           "HoursPerWeek"
          ],
          [
           0.1896646289633693,
           "LR",
           "HoursPerWeek"
          ],
          [
           0.1896646289633693,
           "LR",
           "HoursPerWeek"
          ],
          [
           0.1896646289633693,
           "LR",
           "HoursPerWeek"
          ],
          [
           0.1896646289633693,
           "LR",
           "HoursPerWeek"
          ],
          [
           0.1896646289633693,
           "LR",
           "HoursPerWeek"
          ],
          [
           0.1896646289633693,
           "LR",
           "HoursPerWeek"
          ],
          [
           0.1896646289633693,
           "LR",
           "HoursPerWeek"
          ],
          [
           0.1896646289633693,
           "LR",
           "HoursPerWeek"
          ],
          [
           0.1896646289633693,
           "LR",
           "HoursPerWeek"
          ],
          [
           0.1896646289633693,
           "LR",
           "HoursPerWeek"
          ],
          [
           0.1896646289633693,
           "LR",
           "HoursPerWeek"
          ],
          [
           0.1896646289633693,
           "LR",
           "HoursPerWeek"
          ],
          [
           0.1896646289633693,
           "LR",
           "HoursPerWeek"
          ],
          [
           0.1896646289633693,
           "LR",
           "HoursPerWeek"
          ],
          [
           0.1896646289633693,
           "LR",
           "HoursPerWeek"
          ],
          [
           0.1896646289633693,
           "LR",
           "HoursPerWeek"
          ],
          [
           0.1896646289633693,
           "LR",
           "HoursPerWeek"
          ],
          [
           0.1896646289633693,
           "LR",
           "HoursPerWeek"
          ],
          [
           0.1896646289633693,
           "LR",
           "HoursPerWeek"
          ],
          [
           0.1896646289633693,
           "LR",
           "HoursPerWeek"
          ],
          [
           0.1896646289633693,
           "LR",
           "HoursPerWeek"
          ],
          [
           0.1896646289633693,
           "LR",
           "HoursPerWeek"
          ],
          [
           0.1896646289633693,
           "LR",
           "HoursPerWeek"
          ],
          [
           0.1896646289633693,
           "LR",
           "HoursPerWeek"
          ],
          [
           0.1896646289633693,
           "LR",
           "HoursPerWeek"
          ],
          [
           0.1896646289633693,
           "LR",
           "HoursPerWeek"
          ],
          [
           0.1896646289633693,
           "LR",
           "HoursPerWeek"
          ],
          [
           0.1896646289633693,
           "LR",
           "HoursPerWeek"
          ],
          [
           0.1896646289633693,
           "LR",
           "HoursPerWeek"
          ],
          [
           0.1896646289633693,
           "LR",
           "HoursPerWeek"
          ],
          [
           0.1896646289633693,
           "LR",
           "HoursPerWeek"
          ],
          [
           0.1896646289633693,
           "LR",
           "HoursPerWeek"
          ],
          [
           0.1896646289633693,
           "LR",
           "HoursPerWeek"
          ],
          [
           0.1896646289633693,
           "LR",
           "HoursPerWeek"
          ],
          [
           0.1896646289633693,
           "LR",
           "HoursPerWeek"
          ],
          [
           0.1896646289633693,
           "LR",
           "HoursPerWeek"
          ],
          [
           0.1896646289633693,
           "LR",
           "HoursPerWeek"
          ],
          [
           0.1896646289633693,
           "LR",
           "HoursPerWeek"
          ],
          [
           0.1896646289633693,
           "LR",
           "HoursPerWeek"
          ],
          [
           0.1896646289633693,
           "LR",
           "HoursPerWeek"
          ],
          [
           0.1896646289633693,
           "LR",
           "HoursPerWeek"
          ],
          [
           0.1896646289633693,
           "LR",
           "HoursPerWeek"
          ],
          [
           0.1896646289633693,
           "LR",
           "HoursPerWeek"
          ],
          [
           0.1896646289633693,
           "LR",
           "HoursPerWeek"
          ],
          [
           0.1896646289633693,
           "LR",
           "HoursPerWeek"
          ],
          [
           0.1896646289633693,
           "LR",
           "HoursPerWeek"
          ],
          [
           0.1896646289633693,
           "LR",
           "HoursPerWeek"
          ],
          [
           0.1896646289633693,
           "LR",
           "HoursPerWeek"
          ],
          [
           0.1896646289633693,
           "LR",
           "HoursPerWeek"
          ],
          [
           0.1896646289633693,
           "LR",
           "HoursPerWeek"
          ],
          [
           0.1896646289633693,
           "LR",
           "HoursPerWeek"
          ],
          [
           0.1896646289633693,
           "LR",
           "HoursPerWeek"
          ],
          [
           0.1896646289633693,
           "LR",
           "HoursPerWeek"
          ],
          [
           0.1896646289633693,
           "LR",
           "HoursPerWeek"
          ],
          [
           0.1896646289633693,
           "LR",
           "HoursPerWeek"
          ],
          [
           0.1896646289633693,
           "LR",
           "HoursPerWeek"
          ],
          [
           0.1896646289633693,
           "LR",
           "HoursPerWeek"
          ],
          [
           0.1896646289633693,
           "LR",
           "HoursPerWeek"
          ],
          [
           0.1896646289633693,
           "LR",
           "HoursPerWeek"
          ],
          [
           0.1896646289633693,
           "LR",
           "HoursPerWeek"
          ],
          [
           0.1896646289633693,
           "LR",
           "HoursPerWeek"
          ],
          [
           0.1896646289633693,
           "LR",
           "HoursPerWeek"
          ],
          [
           0.1896646289633693,
           "LR",
           "HoursPerWeek"
          ],
          [
           0.1896646289633693,
           "LR",
           "HoursPerWeek"
          ],
          [
           0.1896646289633693,
           "LR",
           "HoursPerWeek"
          ],
          [
           0.1896646289633693,
           "LR",
           "HoursPerWeek"
          ],
          [
           0.1896646289633693,
           "LR",
           "HoursPerWeek"
          ],
          [
           0.1896646289633693,
           "LR",
           "HoursPerWeek"
          ],
          [
           0.1896646289633693,
           "LR",
           "HoursPerWeek"
          ],
          [
           0.1896646289633693,
           "LR",
           "HoursPerWeek"
          ],
          [
           0.1896646289633693,
           "LR",
           "HoursPerWeek"
          ],
          [
           0.1896646289633693,
           "LR",
           "HoursPerWeek"
          ],
          [
           0.1896646289633693,
           "LR",
           "HoursPerWeek"
          ],
          [
           0.1896646289633693,
           "LR",
           "HoursPerWeek"
          ],
          [
           0.1896646289633693,
           "LR",
           "HoursPerWeek"
          ],
          [
           0.1896646289633693,
           "LR",
           "HoursPerWeek"
          ],
          [
           0.1896646289633693,
           "LR",
           "HoursPerWeek"
          ],
          [
           0.1896646289633693,
           "LR",
           "HoursPerWeek"
          ],
          [
           0.1896646289633693,
           "LR",
           "HoursPerWeek"
          ],
          [
           0.1896646289633693,
           "LR",
           "HoursPerWeek"
          ],
          [
           0.1896646289633693,
           "LR",
           "HoursPerWeek"
          ],
          [
           0.1896646289633693,
           "LR",
           "HoursPerWeek"
          ],
          [
           0.1896646289633693,
           "LR",
           "HoursPerWeek"
          ],
          [
           0.1896646289633693,
           "LR",
           "HoursPerWeek"
          ],
          [
           0.1896646289633693,
           "LR",
           "HoursPerWeek"
          ],
          [
           0.1896646289633693,
           "LR",
           "HoursPerWeek"
          ],
          [
           0.1896646289633693,
           "LR",
           "HoursPerWeek"
          ],
          [
           0.1896646289633693,
           "LR",
           "HoursPerWeek"
          ],
          [
           0.1896646289633693,
           "LR",
           "HoursPerWeek"
          ],
          [
           0.1896646289633693,
           "LR",
           "HoursPerWeek"
          ],
          [
           0.1896646289633693,
           "LR",
           "HoursPerWeek"
          ],
          [
           0.1896646289633693,
           "LR",
           "HoursPerWeek"
          ]
         ],
         "hovertemplate": "<b>%{hovertext}</b><br><br>prediction=%{y:.3f}<br>mean_prediction=%{customdata[0]:.3f}<extra></extra>",
         "hovertext": [
          "LR",
          "LR",
          "LR",
          "LR",
          "LR",
          "LR",
          "LR",
          "LR",
          "LR",
          "LR",
          "LR",
          "LR",
          "LR",
          "LR",
          "LR",
          "LR",
          "LR",
          "LR",
          "LR",
          "LR",
          "LR",
          "LR",
          "LR",
          "LR",
          "LR",
          "LR",
          "LR",
          "LR",
          "LR",
          "LR",
          "LR",
          "LR",
          "LR",
          "LR",
          "LR",
          "LR",
          "LR",
          "LR",
          "LR",
          "LR",
          "LR",
          "LR",
          "LR",
          "LR",
          "LR",
          "LR",
          "LR",
          "LR",
          "LR",
          "LR",
          "LR",
          "LR",
          "LR",
          "LR",
          "LR",
          "LR",
          "LR",
          "LR",
          "LR",
          "LR",
          "LR",
          "LR",
          "LR",
          "LR",
          "LR",
          "LR",
          "LR",
          "LR",
          "LR",
          "LR",
          "LR",
          "LR",
          "LR",
          "LR",
          "LR",
          "LR",
          "LR",
          "LR",
          "LR",
          "LR",
          "LR",
          "LR",
          "LR",
          "LR",
          "LR",
          "LR",
          "LR",
          "LR",
          "LR",
          "LR",
          "LR",
          "LR",
          "LR",
          "LR",
          "LR",
          "LR",
          "LR",
          "LR",
          "LR",
          "LR",
          "LR"
         ],
         "legendgroup": "LR",
         "line": {
          "color": "#ae2c87",
          "dash": "solid",
          "width": 2
         },
         "marker": {
          "symbol": "circle"
         },
         "mode": "lines",
         "name": "LR",
         "opacity": 1,
         "orientation": "v",
         "showlegend": false,
         "type": "scatter",
         "x": [
          1,
          1.98,
          2.96,
          3.94,
          4.92,
          5.9,
          6.88,
          7.859999999999999,
          8.84,
          9.82,
          10.8,
          11.78,
          12.76,
          13.74,
          14.719999999999999,
          15.7,
          16.68,
          17.66,
          18.64,
          19.62,
          20.6,
          21.58,
          22.56,
          23.54,
          24.52,
          25.5,
          26.48,
          27.46,
          28.439999999999998,
          29.419999999999998,
          30.4,
          31.38,
          32.36,
          33.339999999999996,
          34.32,
          35.3,
          36.28,
          37.26,
          38.24,
          39.22,
          40.2,
          41.18,
          42.16,
          43.14,
          44.12,
          45.1,
          46.08,
          47.06,
          48.04,
          49.019999999999996,
          50,
          50.98,
          51.96,
          52.94,
          53.92,
          54.9,
          55.879999999999995,
          56.86,
          57.839999999999996,
          58.82,
          59.8,
          60.78,
          61.76,
          62.74,
          63.72,
          64.69999999999999,
          65.67999999999999,
          66.66,
          67.64,
          68.62,
          69.6,
          70.58,
          71.56,
          72.53999999999999,
          73.52,
          74.5,
          75.48,
          76.46,
          77.44,
          78.42,
          79.4,
          80.38,
          81.36,
          82.34,
          83.32,
          84.3,
          85.28,
          86.26,
          87.24,
          88.22,
          89.2,
          90.17999999999999,
          91.16,
          92.14,
          93.12,
          94.1,
          95.08,
          96.06,
          97.03999999999999,
          98.02,
          99
         ],
         "xaxis": "x2",
         "y": [
          0.05565657166827973,
          0.056671353231572304,
          0.05783083548611911,
          0.059787506105443845,
          0.06300108605192495,
          0.06754680009805454,
          0.07192046429087841,
          0.0752801366415872,
          0.07793406275125447,
          0.07986108455783099,
          0.08158961788615315,
          0.08366902338274172,
          0.086226012421352,
          0.08944049461483211,
          0.09334947146563044,
          0.09787209826388202,
          0.10238574619675088,
          0.10549163513732757,
          0.1075743047917238,
          0.10991713686920596,
          0.11262023605309555,
          0.11490545710683575,
          0.11646487599504801,
          0.11792659035627114,
          0.12017891071690452,
          0.12318424489689467,
          0.12623142437503393,
          0.12902865561363924,
          0.13182248541901737,
          0.13488406900294905,
          0.13790749686665593,
          0.1406940257554219,
          0.14293790442239462,
          0.14512676767543503,
          0.14824315407563834,
          0.1518559579774817,
          0.1553330975853172,
          0.15912844926600686,
          0.1629554238710512,
          0.1661521391501867,
          0.16908146375243735,
          0.172616043828751,
          0.1767180426345484,
          0.1807169110019362,
          0.18428892872402403,
          0.1875724154769267,
          0.1905389453047162,
          0.19381454330387218,
          0.19740699795299488,
          0.20047413081258306,
          0.2036236113497399,
          0.20697988002151455,
          0.20958976441943644,
          0.2118435518640407,
          0.214534420302948,
          0.2176419530221043,
          0.22151421382465922,
          0.22597711520380695,
          0.22990873829894157,
          0.23304538955981735,
          0.23528902461919837,
          0.23672492670059497,
          0.23835150027474636,
          0.24156954876707962,
          0.2469298108226442,
          0.25326133918906224,
          0.25863148629697413,
          0.2624586774373263,
          0.2660108093897092,
          0.2709194165126892,
          0.2778523133231168,
          0.28681735794451635,
          0.29582035292373654,
          0.3024992308309833,
          0.30782910066975744,
          0.3131732845384272,
          0.31854651063035805,
          0.32370588216483276,
          0.32856831810877296,
          0.33301204228157455,
          0.3373400965334963,
          0.34235031552637124,
          0.3487089161234885,
          0.3557217501728997,
          0.36174324043352596,
          0.3663816040322247,
          0.3705157865683606,
          0.37476079625955455,
          0.379248930380153,
          0.3840399788876116,
          0.38961423292536923,
          0.39669090826039183,
          0.40477768102698186,
          0.4124594015201077,
          0.41949930406111413,
          0.42627005748921726,
          0.4315804726268002,
          0.4347851663368838,
          0.43665303002859207,
          0.4383844997185479,
          0.4406161019747774
         ],
         "yaxis": "y2"
        },
        {
         "customdata": [
          [
           0.18655541453604665,
           "LR_l2",
           "Age"
          ],
          [
           0.18655541453604665,
           "LR_l2",
           "Age"
          ],
          [
           0.18655541453604665,
           "LR_l2",
           "Age"
          ],
          [
           0.18655541453604665,
           "LR_l2",
           "Age"
          ],
          [
           0.18655541453604665,
           "LR_l2",
           "Age"
          ],
          [
           0.18655541453604665,
           "LR_l2",
           "Age"
          ],
          [
           0.18655541453604665,
           "LR_l2",
           "Age"
          ],
          [
           0.18655541453604665,
           "LR_l2",
           "Age"
          ],
          [
           0.18655541453604665,
           "LR_l2",
           "Age"
          ],
          [
           0.18655541453604665,
           "LR_l2",
           "Age"
          ],
          [
           0.18655541453604665,
           "LR_l2",
           "Age"
          ],
          [
           0.18655541453604665,
           "LR_l2",
           "Age"
          ],
          [
           0.18655541453604665,
           "LR_l2",
           "Age"
          ],
          [
           0.18655541453604665,
           "LR_l2",
           "Age"
          ],
          [
           0.18655541453604665,
           "LR_l2",
           "Age"
          ],
          [
           0.18655541453604665,
           "LR_l2",
           "Age"
          ],
          [
           0.18655541453604665,
           "LR_l2",
           "Age"
          ],
          [
           0.18655541453604665,
           "LR_l2",
           "Age"
          ],
          [
           0.18655541453604665,
           "LR_l2",
           "Age"
          ],
          [
           0.18655541453604665,
           "LR_l2",
           "Age"
          ],
          [
           0.18655541453604665,
           "LR_l2",
           "Age"
          ],
          [
           0.18655541453604665,
           "LR_l2",
           "Age"
          ],
          [
           0.18655541453604665,
           "LR_l2",
           "Age"
          ],
          [
           0.18655541453604665,
           "LR_l2",
           "Age"
          ],
          [
           0.18655541453604665,
           "LR_l2",
           "Age"
          ],
          [
           0.18655541453604665,
           "LR_l2",
           "Age"
          ],
          [
           0.18655541453604665,
           "LR_l2",
           "Age"
          ],
          [
           0.18655541453604665,
           "LR_l2",
           "Age"
          ],
          [
           0.18655541453604665,
           "LR_l2",
           "Age"
          ],
          [
           0.18655541453604665,
           "LR_l2",
           "Age"
          ],
          [
           0.18655541453604665,
           "LR_l2",
           "Age"
          ],
          [
           0.18655541453604665,
           "LR_l2",
           "Age"
          ],
          [
           0.18655541453604665,
           "LR_l2",
           "Age"
          ],
          [
           0.18655541453604665,
           "LR_l2",
           "Age"
          ],
          [
           0.18655541453604665,
           "LR_l2",
           "Age"
          ],
          [
           0.18655541453604665,
           "LR_l2",
           "Age"
          ],
          [
           0.18655541453604665,
           "LR_l2",
           "Age"
          ],
          [
           0.18655541453604665,
           "LR_l2",
           "Age"
          ],
          [
           0.18655541453604665,
           "LR_l2",
           "Age"
          ],
          [
           0.18655541453604665,
           "LR_l2",
           "Age"
          ],
          [
           0.18655541453604665,
           "LR_l2",
           "Age"
          ],
          [
           0.18655541453604665,
           "LR_l2",
           "Age"
          ],
          [
           0.18655541453604665,
           "LR_l2",
           "Age"
          ],
          [
           0.18655541453604665,
           "LR_l2",
           "Age"
          ],
          [
           0.18655541453604665,
           "LR_l2",
           "Age"
          ],
          [
           0.18655541453604665,
           "LR_l2",
           "Age"
          ],
          [
           0.18655541453604665,
           "LR_l2",
           "Age"
          ],
          [
           0.18655541453604665,
           "LR_l2",
           "Age"
          ],
          [
           0.18655541453604665,
           "LR_l2",
           "Age"
          ],
          [
           0.18655541453604665,
           "LR_l2",
           "Age"
          ],
          [
           0.18655541453604665,
           "LR_l2",
           "Age"
          ],
          [
           0.18655541453604665,
           "LR_l2",
           "Age"
          ],
          [
           0.18655541453604665,
           "LR_l2",
           "Age"
          ],
          [
           0.18655541453604665,
           "LR_l2",
           "Age"
          ],
          [
           0.18655541453604665,
           "LR_l2",
           "Age"
          ],
          [
           0.18655541453604665,
           "LR_l2",
           "Age"
          ],
          [
           0.18655541453604665,
           "LR_l2",
           "Age"
          ],
          [
           0.18655541453604665,
           "LR_l2",
           "Age"
          ],
          [
           0.18655541453604665,
           "LR_l2",
           "Age"
          ],
          [
           0.18655541453604665,
           "LR_l2",
           "Age"
          ],
          [
           0.18655541453604665,
           "LR_l2",
           "Age"
          ],
          [
           0.18655541453604665,
           "LR_l2",
           "Age"
          ],
          [
           0.18655541453604665,
           "LR_l2",
           "Age"
          ],
          [
           0.18655541453604665,
           "LR_l2",
           "Age"
          ],
          [
           0.18655541453604665,
           "LR_l2",
           "Age"
          ],
          [
           0.18655541453604665,
           "LR_l2",
           "Age"
          ],
          [
           0.18655541453604665,
           "LR_l2",
           "Age"
          ],
          [
           0.18655541453604665,
           "LR_l2",
           "Age"
          ],
          [
           0.18655541453604665,
           "LR_l2",
           "Age"
          ],
          [
           0.18655541453604665,
           "LR_l2",
           "Age"
          ],
          [
           0.18655541453604665,
           "LR_l2",
           "Age"
          ],
          [
           0.18655541453604665,
           "LR_l2",
           "Age"
          ],
          [
           0.18655541453604665,
           "LR_l2",
           "Age"
          ],
          [
           0.18655541453604665,
           "LR_l2",
           "Age"
          ],
          [
           0.18655541453604665,
           "LR_l2",
           "Age"
          ],
          [
           0.18655541453604665,
           "LR_l2",
           "Age"
          ],
          [
           0.18655541453604665,
           "LR_l2",
           "Age"
          ],
          [
           0.18655541453604665,
           "LR_l2",
           "Age"
          ],
          [
           0.18655541453604665,
           "LR_l2",
           "Age"
          ],
          [
           0.18655541453604665,
           "LR_l2",
           "Age"
          ],
          [
           0.18655541453604665,
           "LR_l2",
           "Age"
          ],
          [
           0.18655541453604665,
           "LR_l2",
           "Age"
          ],
          [
           0.18655541453604665,
           "LR_l2",
           "Age"
          ],
          [
           0.18655541453604665,
           "LR_l2",
           "Age"
          ],
          [
           0.18655541453604665,
           "LR_l2",
           "Age"
          ],
          [
           0.18655541453604665,
           "LR_l2",
           "Age"
          ],
          [
           0.18655541453604665,
           "LR_l2",
           "Age"
          ],
          [
           0.18655541453604665,
           "LR_l2",
           "Age"
          ],
          [
           0.18655541453604665,
           "LR_l2",
           "Age"
          ],
          [
           0.18655541453604665,
           "LR_l2",
           "Age"
          ],
          [
           0.18655541453604665,
           "LR_l2",
           "Age"
          ],
          [
           0.18655541453604665,
           "LR_l2",
           "Age"
          ],
          [
           0.18655541453604665,
           "LR_l2",
           "Age"
          ],
          [
           0.18655541453604665,
           "LR_l2",
           "Age"
          ],
          [
           0.18655541453604665,
           "LR_l2",
           "Age"
          ],
          [
           0.18655541453604665,
           "LR_l2",
           "Age"
          ],
          [
           0.18655541453604665,
           "LR_l2",
           "Age"
          ],
          [
           0.18655541453604665,
           "LR_l2",
           "Age"
          ],
          [
           0.18655541453604665,
           "LR_l2",
           "Age"
          ],
          [
           0.18655541453604665,
           "LR_l2",
           "Age"
          ],
          [
           0.18655541453604665,
           "LR_l2",
           "Age"
          ]
         ],
         "hovertemplate": "<b>%{hovertext}</b><br><br>prediction=%{y:.3f}<br>mean_prediction=%{customdata[0]:.3f}<extra></extra>",
         "hovertext": [
          "LR_l2",
          "LR_l2",
          "LR_l2",
          "LR_l2",
          "LR_l2",
          "LR_l2",
          "LR_l2",
          "LR_l2",
          "LR_l2",
          "LR_l2",
          "LR_l2",
          "LR_l2",
          "LR_l2",
          "LR_l2",
          "LR_l2",
          "LR_l2",
          "LR_l2",
          "LR_l2",
          "LR_l2",
          "LR_l2",
          "LR_l2",
          "LR_l2",
          "LR_l2",
          "LR_l2",
          "LR_l2",
          "LR_l2",
          "LR_l2",
          "LR_l2",
          "LR_l2",
          "LR_l2",
          "LR_l2",
          "LR_l2",
          "LR_l2",
          "LR_l2",
          "LR_l2",
          "LR_l2",
          "LR_l2",
          "LR_l2",
          "LR_l2",
          "LR_l2",
          "LR_l2",
          "LR_l2",
          "LR_l2",
          "LR_l2",
          "LR_l2",
          "LR_l2",
          "LR_l2",
          "LR_l2",
          "LR_l2",
          "LR_l2",
          "LR_l2",
          "LR_l2",
          "LR_l2",
          "LR_l2",
          "LR_l2",
          "LR_l2",
          "LR_l2",
          "LR_l2",
          "LR_l2",
          "LR_l2",
          "LR_l2",
          "LR_l2",
          "LR_l2",
          "LR_l2",
          "LR_l2",
          "LR_l2",
          "LR_l2",
          "LR_l2",
          "LR_l2",
          "LR_l2",
          "LR_l2",
          "LR_l2",
          "LR_l2",
          "LR_l2",
          "LR_l2",
          "LR_l2",
          "LR_l2",
          "LR_l2",
          "LR_l2",
          "LR_l2",
          "LR_l2",
          "LR_l2",
          "LR_l2",
          "LR_l2",
          "LR_l2",
          "LR_l2",
          "LR_l2",
          "LR_l2",
          "LR_l2",
          "LR_l2",
          "LR_l2",
          "LR_l2",
          "LR_l2",
          "LR_l2",
          "LR_l2",
          "LR_l2",
          "LR_l2",
          "LR_l2",
          "LR_l2",
          "LR_l2",
          "LR_l2"
         ],
         "legendgroup": "LR_l2",
         "line": {
          "color": "#ffa58c",
          "dash": "solid",
          "width": 2
         },
         "marker": {
          "symbol": "circle"
         },
         "mode": "lines",
         "name": "LR_l2",
         "opacity": 1,
         "orientation": "v",
         "showlegend": true,
         "type": "scatter",
         "x": [
          17,
          17.73,
          18.46,
          19.19,
          19.92,
          20.65,
          21.38,
          22.11,
          22.84,
          23.57,
          24.3,
          25.03,
          25.759999999999998,
          26.490000000000002,
          27.22,
          27.95,
          28.68,
          29.41,
          30.14,
          30.869999999999997,
          31.6,
          32.33,
          33.06,
          33.79,
          34.519999999999996,
          35.25,
          35.980000000000004,
          36.71,
          37.44,
          38.17,
          38.9,
          39.629999999999995,
          40.36,
          41.09,
          41.82,
          42.55,
          43.28,
          44.01,
          44.739999999999995,
          45.47,
          46.2,
          46.93,
          47.66,
          48.39,
          49.12,
          49.85,
          50.58,
          51.31,
          52.04,
          52.769999999999996,
          53.5,
          54.23,
          54.96,
          55.69,
          56.42,
          57.15,
          57.879999999999995,
          58.61,
          59.339999999999996,
          60.07,
          60.8,
          61.53,
          62.26,
          62.99,
          63.72,
          64.44999999999999,
          65.18,
          65.91,
          66.64,
          67.37,
          68.1,
          68.83,
          69.56,
          70.28999999999999,
          71.02,
          71.75,
          72.47999999999999,
          73.21000000000001,
          73.94,
          74.67,
          75.4,
          76.13,
          76.86,
          77.59,
          78.32,
          79.05,
          79.78,
          80.50999999999999,
          81.24,
          81.97,
          82.7,
          83.42999999999999,
          84.16,
          84.89,
          85.62,
          86.35,
          87.08,
          87.81,
          88.53999999999999,
          89.27,
          90
         ],
         "xaxis": "x5",
         "y": [
          0.12067772385471519,
          0.12250509752299008,
          0.12432842233918989,
          0.12614742822891703,
          0.12796202705501764,
          0.12977227373442168,
          0.1315783246212359,
          0.13338039699285345,
          0.13517873280939283,
          0.13697356898248064,
          0.13876511537515376,
          0.1405535408415215,
          0.14233896693995318,
          0.14412146858413846,
          0.145901080820604,
          0.14767781105788716,
          0.14945165629613938,
          0.15122262508133563,
          0.1529907639256196,
          0.15475618773698976,
          0.1565191133949976,
          0.15827989506322102,
          0.16003905925573544,
          0.16179733720069348,
          0.1635556917825716,
          0.16531533637130832,
          0.16707774318666935,
          0.1688446394737281,
          0.17061799061243885,
          0.17239997025654735,
          0.17419291859061808,
          0.1759992907101464,
          0.17782159788626234,
          0.17966234501428738,
          0.1815239678317324,
          0.1834087735203183,
          0.18531888809639774,
          0.18725621358127298,
          0.18922239737388463,
          0.1912188155702349,
          0.19324657122591413,
          0.1953065077674134,
          0.19739923694173198,
          0.1995251798673936,
          0.20168461893803202,
          0.20387775757587778,
          0.20610478420245096,
          0.20836593636845221,
          0.21066156084456047,
          0.21299216567871107,
          0.21535846079222035,
          0.21776138458376912,
          0.22020211515142735,
          0.22268206600206653,
          0.22520286734671524,
          0.2277663351343026,
          0.23037443073536237,
          0.23302921457647566,
          0.23573279702489364,
          0.23848728946550504,
          0.24129475788030935,
          0.24415718044591994,
          0.2470764098309525,
          0.2500541401186444,
          0.25309187769428854,
          0.2561909150835662,
          0.2593523066323248,
          0.26257684507162,
          0.2658650383741057,
          0.26921708681499407,
          0.27263286072262677,
          0.27611187995373804,
          0.2796532965751848,
          0.2832558825115986,
          0.2869180239864688,
          0.29063772443225055,
          0.2944126171928837,
          0.2982399888335443,
          0.30211681326562145,
          0.3060397962500461,
          0.3100054292108553,
          0.3140100507097009,
          0.31804991342137207,
          0.3221212540198426,
          0.3262203630414796,
          0.3303436515516514,
          0.33448771133059774,
          0.3386493653529508,
          0.34282570560407744,
          0.34701411578497443,
          0.3512122772084049,
          0.35541815714760194,
          0.35962997999174673,
          0.36384618268634306,
          0.3680653569760197,
          0.3722861818153989,
          0.37650734989141055,
          0.38072749246851656,
          0.38494510672993293,
          0.389158489482711,
          0.393365680586449
         ],
         "yaxis": "y5"
        },
        {
         "customdata": [
          [
           0.18655541453604665,
           "LR_l2",
           "fnlwgt"
          ],
          [
           0.18655541453604665,
           "LR_l2",
           "fnlwgt"
          ],
          [
           0.18655541453604665,
           "LR_l2",
           "fnlwgt"
          ],
          [
           0.18655541453604665,
           "LR_l2",
           "fnlwgt"
          ],
          [
           0.18655541453604665,
           "LR_l2",
           "fnlwgt"
          ],
          [
           0.18655541453604665,
           "LR_l2",
           "fnlwgt"
          ],
          [
           0.18655541453604665,
           "LR_l2",
           "fnlwgt"
          ],
          [
           0.18655541453604665,
           "LR_l2",
           "fnlwgt"
          ],
          [
           0.18655541453604665,
           "LR_l2",
           "fnlwgt"
          ],
          [
           0.18655541453604665,
           "LR_l2",
           "fnlwgt"
          ],
          [
           0.18655541453604665,
           "LR_l2",
           "fnlwgt"
          ],
          [
           0.18655541453604665,
           "LR_l2",
           "fnlwgt"
          ],
          [
           0.18655541453604665,
           "LR_l2",
           "fnlwgt"
          ],
          [
           0.18655541453604665,
           "LR_l2",
           "fnlwgt"
          ],
          [
           0.18655541453604665,
           "LR_l2",
           "fnlwgt"
          ],
          [
           0.18655541453604665,
           "LR_l2",
           "fnlwgt"
          ],
          [
           0.18655541453604665,
           "LR_l2",
           "fnlwgt"
          ],
          [
           0.18655541453604665,
           "LR_l2",
           "fnlwgt"
          ],
          [
           0.18655541453604665,
           "LR_l2",
           "fnlwgt"
          ],
          [
           0.18655541453604665,
           "LR_l2",
           "fnlwgt"
          ],
          [
           0.18655541453604665,
           "LR_l2",
           "fnlwgt"
          ],
          [
           0.18655541453604665,
           "LR_l2",
           "fnlwgt"
          ],
          [
           0.18655541453604665,
           "LR_l2",
           "fnlwgt"
          ],
          [
           0.18655541453604665,
           "LR_l2",
           "fnlwgt"
          ],
          [
           0.18655541453604665,
           "LR_l2",
           "fnlwgt"
          ],
          [
           0.18655541453604665,
           "LR_l2",
           "fnlwgt"
          ],
          [
           0.18655541453604665,
           "LR_l2",
           "fnlwgt"
          ],
          [
           0.18655541453604665,
           "LR_l2",
           "fnlwgt"
          ],
          [
           0.18655541453604665,
           "LR_l2",
           "fnlwgt"
          ],
          [
           0.18655541453604665,
           "LR_l2",
           "fnlwgt"
          ],
          [
           0.18655541453604665,
           "LR_l2",
           "fnlwgt"
          ],
          [
           0.18655541453604665,
           "LR_l2",
           "fnlwgt"
          ],
          [
           0.18655541453604665,
           "LR_l2",
           "fnlwgt"
          ],
          [
           0.18655541453604665,
           "LR_l2",
           "fnlwgt"
          ],
          [
           0.18655541453604665,
           "LR_l2",
           "fnlwgt"
          ],
          [
           0.18655541453604665,
           "LR_l2",
           "fnlwgt"
          ],
          [
           0.18655541453604665,
           "LR_l2",
           "fnlwgt"
          ],
          [
           0.18655541453604665,
           "LR_l2",
           "fnlwgt"
          ],
          [
           0.18655541453604665,
           "LR_l2",
           "fnlwgt"
          ],
          [
           0.18655541453604665,
           "LR_l2",
           "fnlwgt"
          ],
          [
           0.18655541453604665,
           "LR_l2",
           "fnlwgt"
          ],
          [
           0.18655541453604665,
           "LR_l2",
           "fnlwgt"
          ],
          [
           0.18655541453604665,
           "LR_l2",
           "fnlwgt"
          ],
          [
           0.18655541453604665,
           "LR_l2",
           "fnlwgt"
          ],
          [
           0.18655541453604665,
           "LR_l2",
           "fnlwgt"
          ],
          [
           0.18655541453604665,
           "LR_l2",
           "fnlwgt"
          ],
          [
           0.18655541453604665,
           "LR_l2",
           "fnlwgt"
          ],
          [
           0.18655541453604665,
           "LR_l2",
           "fnlwgt"
          ],
          [
           0.18655541453604665,
           "LR_l2",
           "fnlwgt"
          ],
          [
           0.18655541453604665,
           "LR_l2",
           "fnlwgt"
          ],
          [
           0.18655541453604665,
           "LR_l2",
           "fnlwgt"
          ],
          [
           0.18655541453604665,
           "LR_l2",
           "fnlwgt"
          ],
          [
           0.18655541453604665,
           "LR_l2",
           "fnlwgt"
          ],
          [
           0.18655541453604665,
           "LR_l2",
           "fnlwgt"
          ],
          [
           0.18655541453604665,
           "LR_l2",
           "fnlwgt"
          ],
          [
           0.18655541453604665,
           "LR_l2",
           "fnlwgt"
          ],
          [
           0.18655541453604665,
           "LR_l2",
           "fnlwgt"
          ],
          [
           0.18655541453604665,
           "LR_l2",
           "fnlwgt"
          ],
          [
           0.18655541453604665,
           "LR_l2",
           "fnlwgt"
          ],
          [
           0.18655541453604665,
           "LR_l2",
           "fnlwgt"
          ],
          [
           0.18655541453604665,
           "LR_l2",
           "fnlwgt"
          ],
          [
           0.18655541453604665,
           "LR_l2",
           "fnlwgt"
          ],
          [
           0.18655541453604665,
           "LR_l2",
           "fnlwgt"
          ],
          [
           0.18655541453604665,
           "LR_l2",
           "fnlwgt"
          ],
          [
           0.18655541453604665,
           "LR_l2",
           "fnlwgt"
          ],
          [
           0.18655541453604665,
           "LR_l2",
           "fnlwgt"
          ],
          [
           0.18655541453604665,
           "LR_l2",
           "fnlwgt"
          ],
          [
           0.18655541453604665,
           "LR_l2",
           "fnlwgt"
          ],
          [
           0.18655541453604665,
           "LR_l2",
           "fnlwgt"
          ],
          [
           0.18655541453604665,
           "LR_l2",
           "fnlwgt"
          ],
          [
           0.18655541453604665,
           "LR_l2",
           "fnlwgt"
          ],
          [
           0.18655541453604665,
           "LR_l2",
           "fnlwgt"
          ],
          [
           0.18655541453604665,
           "LR_l2",
           "fnlwgt"
          ],
          [
           0.18655541453604665,
           "LR_l2",
           "fnlwgt"
          ],
          [
           0.18655541453604665,
           "LR_l2",
           "fnlwgt"
          ],
          [
           0.18655541453604665,
           "LR_l2",
           "fnlwgt"
          ],
          [
           0.18655541453604665,
           "LR_l2",
           "fnlwgt"
          ],
          [
           0.18655541453604665,
           "LR_l2",
           "fnlwgt"
          ],
          [
           0.18655541453604665,
           "LR_l2",
           "fnlwgt"
          ],
          [
           0.18655541453604665,
           "LR_l2",
           "fnlwgt"
          ],
          [
           0.18655541453604665,
           "LR_l2",
           "fnlwgt"
          ],
          [
           0.18655541453604665,
           "LR_l2",
           "fnlwgt"
          ],
          [
           0.18655541453604665,
           "LR_l2",
           "fnlwgt"
          ],
          [
           0.18655541453604665,
           "LR_l2",
           "fnlwgt"
          ],
          [
           0.18655541453604665,
           "LR_l2",
           "fnlwgt"
          ],
          [
           0.18655541453604665,
           "LR_l2",
           "fnlwgt"
          ],
          [
           0.18655541453604665,
           "LR_l2",
           "fnlwgt"
          ],
          [
           0.18655541453604665,
           "LR_l2",
           "fnlwgt"
          ],
          [
           0.18655541453604665,
           "LR_l2",
           "fnlwgt"
          ],
          [
           0.18655541453604665,
           "LR_l2",
           "fnlwgt"
          ],
          [
           0.18655541453604665,
           "LR_l2",
           "fnlwgt"
          ],
          [
           0.18655541453604665,
           "LR_l2",
           "fnlwgt"
          ],
          [
           0.18655541453604665,
           "LR_l2",
           "fnlwgt"
          ],
          [
           0.18655541453604665,
           "LR_l2",
           "fnlwgt"
          ],
          [
           0.18655541453604665,
           "LR_l2",
           "fnlwgt"
          ],
          [
           0.18655541453604665,
           "LR_l2",
           "fnlwgt"
          ],
          [
           0.18655541453604665,
           "LR_l2",
           "fnlwgt"
          ],
          [
           0.18655541453604665,
           "LR_l2",
           "fnlwgt"
          ],
          [
           0.18655541453604665,
           "LR_l2",
           "fnlwgt"
          ],
          [
           0.18655541453604665,
           "LR_l2",
           "fnlwgt"
          ],
          [
           0.18655541453604665,
           "LR_l2",
           "fnlwgt"
          ]
         ],
         "hovertemplate": "<b>%{hovertext}</b><br><br>prediction=%{y:.3f}<br>mean_prediction=%{customdata[0]:.3f}<extra></extra>",
         "hovertext": [
          "LR_l2",
          "LR_l2",
          "LR_l2",
          "LR_l2",
          "LR_l2",
          "LR_l2",
          "LR_l2",
          "LR_l2",
          "LR_l2",
          "LR_l2",
          "LR_l2",
          "LR_l2",
          "LR_l2",
          "LR_l2",
          "LR_l2",
          "LR_l2",
          "LR_l2",
          "LR_l2",
          "LR_l2",
          "LR_l2",
          "LR_l2",
          "LR_l2",
          "LR_l2",
          "LR_l2",
          "LR_l2",
          "LR_l2",
          "LR_l2",
          "LR_l2",
          "LR_l2",
          "LR_l2",
          "LR_l2",
          "LR_l2",
          "LR_l2",
          "LR_l2",
          "LR_l2",
          "LR_l2",
          "LR_l2",
          "LR_l2",
          "LR_l2",
          "LR_l2",
          "LR_l2",
          "LR_l2",
          "LR_l2",
          "LR_l2",
          "LR_l2",
          "LR_l2",
          "LR_l2",
          "LR_l2",
          "LR_l2",
          "LR_l2",
          "LR_l2",
          "LR_l2",
          "LR_l2",
          "LR_l2",
          "LR_l2",
          "LR_l2",
          "LR_l2",
          "LR_l2",
          "LR_l2",
          "LR_l2",
          "LR_l2",
          "LR_l2",
          "LR_l2",
          "LR_l2",
          "LR_l2",
          "LR_l2",
          "LR_l2",
          "LR_l2",
          "LR_l2",
          "LR_l2",
          "LR_l2",
          "LR_l2",
          "LR_l2",
          "LR_l2",
          "LR_l2",
          "LR_l2",
          "LR_l2",
          "LR_l2",
          "LR_l2",
          "LR_l2",
          "LR_l2",
          "LR_l2",
          "LR_l2",
          "LR_l2",
          "LR_l2",
          "LR_l2",
          "LR_l2",
          "LR_l2",
          "LR_l2",
          "LR_l2",
          "LR_l2",
          "LR_l2",
          "LR_l2",
          "LR_l2",
          "LR_l2",
          "LR_l2",
          "LR_l2",
          "LR_l2",
          "LR_l2",
          "LR_l2",
          "LR_l2"
         ],
         "legendgroup": "LR_l2",
         "line": {
          "color": "#ffa58c",
          "dash": "solid",
          "width": 2
         },
         "marker": {
          "symbol": "circle"
         },
         "mode": "lines",
         "name": "LR_l2",
         "opacity": 1,
         "orientation": "v",
         "showlegend": false,
         "type": "scatter",
         "x": [
          12285,
          27009.2,
          41733.4,
          56457.600000000006,
          71181.8,
          85906,
          100630.20000000001,
          115354.40000000001,
          130078.6,
          144802.80000000002,
          159527,
          174251.2,
          188975.40000000002,
          203699.6,
          218423.80000000002,
          233148,
          247872.2,
          262596.4,
          277320.60000000003,
          292044.8,
          306769,
          321493.2,
          336217.4,
          350941.60000000003,
          365665.80000000005,
          380390,
          395114.2,
          409838.4,
          424562.60000000003,
          439286.80000000005,
          454011,
          468735.2,
          483459.4,
          498183.60000000003,
          512907.80000000005,
          527632,
          542356.2000000001,
          557080.4,
          571804.6,
          586528.8,
          601253,
          615977.2000000001,
          630701.4,
          645425.6,
          660149.8,
          674874,
          689598.2000000001,
          704322.4,
          719046.6000000001,
          733770.8,
          748495,
          763219.2000000001,
          777943.4,
          792667.6000000001,
          807391.8,
          822116,
          836840.2000000001,
          851564.4,
          866288.6000000001,
          881012.8,
          895737,
          910461.2000000001,
          925185.4,
          939909.6000000001,
          954633.8,
          969358,
          984082.2000000001,
          998806.4,
          1013530.6000000001,
          1028254.8,
          1042979,
          1057703.2000000002,
          1072427.4000000001,
          1087151.6,
          1101875.8,
          1116600,
          1131324.2,
          1146048.4000000001,
          1160772.6,
          1175496.8,
          1190221,
          1204945.2,
          1219669.4000000001,
          1234393.6,
          1249117.8,
          1263842,
          1278566.2,
          1293290.4000000001,
          1308014.6,
          1322738.8,
          1337463,
          1352187.2,
          1366911.4000000001,
          1381635.6,
          1396359.8,
          1411084,
          1425808.2000000002,
          1440532.4000000001,
          1455256.6,
          1469980.8,
          1484705
         ],
         "xaxis": "x6",
         "y": [
          0.1746568307929469,
          0.17581179278391793,
          0.1769646636492904,
          0.17811578189769273,
          0.17926553179377666,
          0.18041434101898035,
          0.18156267772748694,
          0.1827110470044057,
          0.18385998674873905,
          0.18501006302010964,
          0.18616186490488532,
          0.18731599897357737,
          0.18847308341650432,
          0.18963374195801277,
          0.190798597660364,
          0.19196826673613993,
          0.19314335249219539,
          0.19432443952842723,
          0.19551208831074468,
          0.1967068302295969,
          0.1979091632434323,
          0.1991195481909226,
          0.2003384058372673,
          0.2015661146991582,
          0.20280300967091117,
          0.20404938145182816,
          0.20530547675301697,
          0.20657149924161053,
          0.2078476111624228,
          0.20913393556223242,
          0.21043055903057317,
          0.21173753486338767,
          0.2130548865521904,
          0.21438261150130045,
          0.21572068487886667,
          0.21706906351329863,
          0.21842768975472532,
          0.2197964952305829,
          0.22117540443473657,
          0.22256433810009985,
          0.22396321631502067,
          0.22537196135339088,
          0.22679050019723168,
          0.22821876673828512,
          0.22965670365185498,
          0.2311042639418588,
          0.23256141216088466,
          0.23402812531314973,
          0.23550439345180546,
          0.23699021998516623,
          0.23848562170928617,
          0.2399906285869354,
          0.24150528329545765,
          0.2430296405681896,
          0.24456376635601246,
          0.24610773683707043,
          0.24766163730361243,
          0.24922556095515735,
          0.25079960762666015,
          0.25238388247900106,
          0.2539784946769324,
          0.25558355607665306,
          0.2571991799415629,
          0.25882547970065745,
          0.2604625677596876,
          0.2621105543708883,
          0.2637695465630432,
          0.2654396471301667,
          0.26712095367437205,
          0.2688135576967369,
          0.2705175437292855,
          0.2722329885016049,
          0.27395996013705765,
          0.2756985173758946,
          0.2774487088256132,
          0.27921057224236184,
          0.28098413385076515,
          0.2827694077128934,
          0.28456639515992793,
          0.28637508430209,
          0.2881954496333984,
          0.29002745174766853,
          0.29187103718082275,
          0.2937261383921038,
          0.29559267389333366,
          0.2974705485311435,
          0.29935965392242475,
          0.3012598690383954,
          0.3031710609279704,
          0.3050930855668233,
          0.30702578881486065,
          0.3089690074619477,
          0.31092257033969906,
          0.31288629947598545,
          0.3148600112684582,
          0.3168435176537612,
          0.31883662725007983,
          0.32083914645217293,
          0.32285088045996446,
          0.3248716342241107,
          0.32690121329468685
         ],
         "yaxis": "y6"
        },
        {
         "customdata": [
          [
           0.18655541453604665,
           "LR_l2",
           "EducationNum"
          ],
          [
           0.18655541453604665,
           "LR_l2",
           "EducationNum"
          ],
          [
           0.18655541453604665,
           "LR_l2",
           "EducationNum"
          ],
          [
           0.18655541453604665,
           "LR_l2",
           "EducationNum"
          ],
          [
           0.18655541453604665,
           "LR_l2",
           "EducationNum"
          ],
          [
           0.18655541453604665,
           "LR_l2",
           "EducationNum"
          ],
          [
           0.18655541453604665,
           "LR_l2",
           "EducationNum"
          ],
          [
           0.18655541453604665,
           "LR_l2",
           "EducationNum"
          ],
          [
           0.18655541453604665,
           "LR_l2",
           "EducationNum"
          ],
          [
           0.18655541453604665,
           "LR_l2",
           "EducationNum"
          ],
          [
           0.18655541453604665,
           "LR_l2",
           "EducationNum"
          ],
          [
           0.18655541453604665,
           "LR_l2",
           "EducationNum"
          ],
          [
           0.18655541453604665,
           "LR_l2",
           "EducationNum"
          ],
          [
           0.18655541453604665,
           "LR_l2",
           "EducationNum"
          ],
          [
           0.18655541453604665,
           "LR_l2",
           "EducationNum"
          ],
          [
           0.18655541453604665,
           "LR_l2",
           "EducationNum"
          ],
          [
           0.18655541453604665,
           "LR_l2",
           "EducationNum"
          ],
          [
           0.18655541453604665,
           "LR_l2",
           "EducationNum"
          ],
          [
           0.18655541453604665,
           "LR_l2",
           "EducationNum"
          ],
          [
           0.18655541453604665,
           "LR_l2",
           "EducationNum"
          ],
          [
           0.18655541453604665,
           "LR_l2",
           "EducationNum"
          ],
          [
           0.18655541453604665,
           "LR_l2",
           "EducationNum"
          ],
          [
           0.18655541453604665,
           "LR_l2",
           "EducationNum"
          ],
          [
           0.18655541453604665,
           "LR_l2",
           "EducationNum"
          ],
          [
           0.18655541453604665,
           "LR_l2",
           "EducationNum"
          ],
          [
           0.18655541453604665,
           "LR_l2",
           "EducationNum"
          ],
          [
           0.18655541453604665,
           "LR_l2",
           "EducationNum"
          ],
          [
           0.18655541453604665,
           "LR_l2",
           "EducationNum"
          ],
          [
           0.18655541453604665,
           "LR_l2",
           "EducationNum"
          ],
          [
           0.18655541453604665,
           "LR_l2",
           "EducationNum"
          ],
          [
           0.18655541453604665,
           "LR_l2",
           "EducationNum"
          ],
          [
           0.18655541453604665,
           "LR_l2",
           "EducationNum"
          ],
          [
           0.18655541453604665,
           "LR_l2",
           "EducationNum"
          ],
          [
           0.18655541453604665,
           "LR_l2",
           "EducationNum"
          ],
          [
           0.18655541453604665,
           "LR_l2",
           "EducationNum"
          ],
          [
           0.18655541453604665,
           "LR_l2",
           "EducationNum"
          ],
          [
           0.18655541453604665,
           "LR_l2",
           "EducationNum"
          ],
          [
           0.18655541453604665,
           "LR_l2",
           "EducationNum"
          ],
          [
           0.18655541453604665,
           "LR_l2",
           "EducationNum"
          ],
          [
           0.18655541453604665,
           "LR_l2",
           "EducationNum"
          ],
          [
           0.18655541453604665,
           "LR_l2",
           "EducationNum"
          ],
          [
           0.18655541453604665,
           "LR_l2",
           "EducationNum"
          ],
          [
           0.18655541453604665,
           "LR_l2",
           "EducationNum"
          ],
          [
           0.18655541453604665,
           "LR_l2",
           "EducationNum"
          ],
          [
           0.18655541453604665,
           "LR_l2",
           "EducationNum"
          ],
          [
           0.18655541453604665,
           "LR_l2",
           "EducationNum"
          ],
          [
           0.18655541453604665,
           "LR_l2",
           "EducationNum"
          ],
          [
           0.18655541453604665,
           "LR_l2",
           "EducationNum"
          ],
          [
           0.18655541453604665,
           "LR_l2",
           "EducationNum"
          ],
          [
           0.18655541453604665,
           "LR_l2",
           "EducationNum"
          ],
          [
           0.18655541453604665,
           "LR_l2",
           "EducationNum"
          ],
          [
           0.18655541453604665,
           "LR_l2",
           "EducationNum"
          ],
          [
           0.18655541453604665,
           "LR_l2",
           "EducationNum"
          ],
          [
           0.18655541453604665,
           "LR_l2",
           "EducationNum"
          ],
          [
           0.18655541453604665,
           "LR_l2",
           "EducationNum"
          ],
          [
           0.18655541453604665,
           "LR_l2",
           "EducationNum"
          ],
          [
           0.18655541453604665,
           "LR_l2",
           "EducationNum"
          ],
          [
           0.18655541453604665,
           "LR_l2",
           "EducationNum"
          ],
          [
           0.18655541453604665,
           "LR_l2",
           "EducationNum"
          ],
          [
           0.18655541453604665,
           "LR_l2",
           "EducationNum"
          ],
          [
           0.18655541453604665,
           "LR_l2",
           "EducationNum"
          ],
          [
           0.18655541453604665,
           "LR_l2",
           "EducationNum"
          ],
          [
           0.18655541453604665,
           "LR_l2",
           "EducationNum"
          ],
          [
           0.18655541453604665,
           "LR_l2",
           "EducationNum"
          ],
          [
           0.18655541453604665,
           "LR_l2",
           "EducationNum"
          ],
          [
           0.18655541453604665,
           "LR_l2",
           "EducationNum"
          ],
          [
           0.18655541453604665,
           "LR_l2",
           "EducationNum"
          ],
          [
           0.18655541453604665,
           "LR_l2",
           "EducationNum"
          ],
          [
           0.18655541453604665,
           "LR_l2",
           "EducationNum"
          ],
          [
           0.18655541453604665,
           "LR_l2",
           "EducationNum"
          ],
          [
           0.18655541453604665,
           "LR_l2",
           "EducationNum"
          ],
          [
           0.18655541453604665,
           "LR_l2",
           "EducationNum"
          ],
          [
           0.18655541453604665,
           "LR_l2",
           "EducationNum"
          ],
          [
           0.18655541453604665,
           "LR_l2",
           "EducationNum"
          ],
          [
           0.18655541453604665,
           "LR_l2",
           "EducationNum"
          ],
          [
           0.18655541453604665,
           "LR_l2",
           "EducationNum"
          ],
          [
           0.18655541453604665,
           "LR_l2",
           "EducationNum"
          ],
          [
           0.18655541453604665,
           "LR_l2",
           "EducationNum"
          ],
          [
           0.18655541453604665,
           "LR_l2",
           "EducationNum"
          ],
          [
           0.18655541453604665,
           "LR_l2",
           "EducationNum"
          ],
          [
           0.18655541453604665,
           "LR_l2",
           "EducationNum"
          ],
          [
           0.18655541453604665,
           "LR_l2",
           "EducationNum"
          ],
          [
           0.18655541453604665,
           "LR_l2",
           "EducationNum"
          ],
          [
           0.18655541453604665,
           "LR_l2",
           "EducationNum"
          ],
          [
           0.18655541453604665,
           "LR_l2",
           "EducationNum"
          ],
          [
           0.18655541453604665,
           "LR_l2",
           "EducationNum"
          ],
          [
           0.18655541453604665,
           "LR_l2",
           "EducationNum"
          ],
          [
           0.18655541453604665,
           "LR_l2",
           "EducationNum"
          ],
          [
           0.18655541453604665,
           "LR_l2",
           "EducationNum"
          ],
          [
           0.18655541453604665,
           "LR_l2",
           "EducationNum"
          ],
          [
           0.18655541453604665,
           "LR_l2",
           "EducationNum"
          ],
          [
           0.18655541453604665,
           "LR_l2",
           "EducationNum"
          ],
          [
           0.18655541453604665,
           "LR_l2",
           "EducationNum"
          ],
          [
           0.18655541453604665,
           "LR_l2",
           "EducationNum"
          ],
          [
           0.18655541453604665,
           "LR_l2",
           "EducationNum"
          ],
          [
           0.18655541453604665,
           "LR_l2",
           "EducationNum"
          ],
          [
           0.18655541453604665,
           "LR_l2",
           "EducationNum"
          ],
          [
           0.18655541453604665,
           "LR_l2",
           "EducationNum"
          ],
          [
           0.18655541453604665,
           "LR_l2",
           "EducationNum"
          ],
          [
           0.18655541453604665,
           "LR_l2",
           "EducationNum"
          ],
          [
           0.18655541453604665,
           "LR_l2",
           "EducationNum"
          ]
         ],
         "hovertemplate": "<b>%{hovertext}</b><br><br>prediction=%{y:.3f}<br>mean_prediction=%{customdata[0]:.3f}<extra></extra>",
         "hovertext": [
          "LR_l2",
          "LR_l2",
          "LR_l2",
          "LR_l2",
          "LR_l2",
          "LR_l2",
          "LR_l2",
          "LR_l2",
          "LR_l2",
          "LR_l2",
          "LR_l2",
          "LR_l2",
          "LR_l2",
          "LR_l2",
          "LR_l2",
          "LR_l2",
          "LR_l2",
          "LR_l2",
          "LR_l2",
          "LR_l2",
          "LR_l2",
          "LR_l2",
          "LR_l2",
          "LR_l2",
          "LR_l2",
          "LR_l2",
          "LR_l2",
          "LR_l2",
          "LR_l2",
          "LR_l2",
          "LR_l2",
          "LR_l2",
          "LR_l2",
          "LR_l2",
          "LR_l2",
          "LR_l2",
          "LR_l2",
          "LR_l2",
          "LR_l2",
          "LR_l2",
          "LR_l2",
          "LR_l2",
          "LR_l2",
          "LR_l2",
          "LR_l2",
          "LR_l2",
          "LR_l2",
          "LR_l2",
          "LR_l2",
          "LR_l2",
          "LR_l2",
          "LR_l2",
          "LR_l2",
          "LR_l2",
          "LR_l2",
          "LR_l2",
          "LR_l2",
          "LR_l2",
          "LR_l2",
          "LR_l2",
          "LR_l2",
          "LR_l2",
          "LR_l2",
          "LR_l2",
          "LR_l2",
          "LR_l2",
          "LR_l2",
          "LR_l2",
          "LR_l2",
          "LR_l2",
          "LR_l2",
          "LR_l2",
          "LR_l2",
          "LR_l2",
          "LR_l2",
          "LR_l2",
          "LR_l2",
          "LR_l2",
          "LR_l2",
          "LR_l2",
          "LR_l2",
          "LR_l2",
          "LR_l2",
          "LR_l2",
          "LR_l2",
          "LR_l2",
          "LR_l2",
          "LR_l2",
          "LR_l2",
          "LR_l2",
          "LR_l2",
          "LR_l2",
          "LR_l2",
          "LR_l2",
          "LR_l2",
          "LR_l2",
          "LR_l2",
          "LR_l2",
          "LR_l2",
          "LR_l2",
          "LR_l2"
         ],
         "legendgroup": "LR_l2",
         "line": {
          "color": "#ffa58c",
          "dash": "solid",
          "width": 2
         },
         "marker": {
          "symbol": "circle"
         },
         "mode": "lines",
         "name": "LR_l2",
         "opacity": 1,
         "orientation": "v",
         "showlegend": false,
         "type": "scatter",
         "x": [
          1,
          1.15,
          1.3,
          1.45,
          1.6,
          1.75,
          1.9,
          2.05,
          2.2,
          2.3499999999999996,
          2.5,
          2.65,
          2.8,
          2.95,
          3.1,
          3.25,
          3.4,
          3.55,
          3.6999999999999997,
          3.85,
          4,
          4.15,
          4.3,
          4.449999999999999,
          4.6,
          4.75,
          4.9,
          5.05,
          5.2,
          5.35,
          5.5,
          5.6499999999999995,
          5.8,
          5.95,
          6.1,
          6.25,
          6.3999999999999995,
          6.55,
          6.7,
          6.85,
          7,
          7.1499999999999995,
          7.3,
          7.45,
          7.6,
          7.75,
          7.8999999999999995,
          8.05,
          8.2,
          8.35,
          8.5,
          8.649999999999999,
          8.8,
          8.95,
          9.1,
          9.25,
          9.4,
          9.549999999999999,
          9.7,
          9.85,
          10,
          10.15,
          10.299999999999999,
          10.45,
          10.6,
          10.75,
          10.9,
          11.049999999999999,
          11.2,
          11.35,
          11.5,
          11.65,
          11.799999999999999,
          11.95,
          12.1,
          12.25,
          12.4,
          12.549999999999999,
          12.7,
          12.85,
          13,
          13.15,
          13.299999999999999,
          13.45,
          13.6,
          13.75,
          13.9,
          14.049999999999999,
          14.2,
          14.35,
          14.5,
          14.65,
          14.799999999999999,
          14.95,
          15.1,
          15.25,
          15.399999999999999,
          15.549999999999999,
          15.7,
          15.85,
          16
         ],
         "xaxis": "x3",
         "y": [
          0.011748095556723334,
          0.012125119488348525,
          0.012555417658051307,
          0.013036928710097788,
          0.013565211575849712,
          0.014134142439108816,
          0.014737085934782707,
          0.01536827334552917,
          0.016024020994373864,
          0.016703471383639267,
          0.01740871950707236,
          0.01814440487707266,
          0.018916997310481312,
          0.019734020212021336,
          0.020603356283429432,
          0.021532647257297123,
          0.02252872194556743,
          0.023597007191064116,
          0.024740961101143648,
          0.025961640760105365,
          0.02725752076937774,
          0.028624616338788537,
          0.03005688073797677,
          0.031546786875502386,
          0.033085983428969935,
          0.03466592959730617,
          0.0362784439128192,
          0.03791613880141395,
          0.03957274541934721,
          0.04124335815860976,
          0.04292463938498453,
          0.04461501189215612,
          0.046314824853162385,
          0.04802642992956374,
          0.049754091006098414,
          0.051503702412076025,
          0.053282386154592395,
          0.05509811893915887,
          0.05695955432376586,
          0.05887615325272621,
          0.06085865522094887,
          0.06291984217461102,
          0.06507546608214652,
          0.06734512425676376,
          0.06975280312087809,
          0.0723268224366916,
          0.07509902337444362,
          0.07810322620276224,
          0.08137316903948456,
          0.08494025857404969,
          0.08883148034887935,
          0.09306774420484908,
          0.09766283045304015,
          0.10262299441252253,
          0.10794717537643933,
          0.11362761669480771,
          0.11965056499441439,
          0.1259966827202206,
          0.13264097961307195,
          0.13955242468909154,
          0.14669376452135188,
          0.15402221223732607,
          0.1614914531385816,
          0.16905490996632178,
          0.17666966740945703,
          0.18430013547915933,
          0.19192055773884817,
          0.1995157810340229,
          0.2070801509361195,
          0.21461487018769035,
          0.22212458841854574,
          0.229614271654415,
          0.23708735502412703,
          0.24454569705368698,
          0.25199105137406924,
          0.25942703214867047,
          0.2668602930718598,
          0.27430002812819215,
          0.28175572213247124,
          0.289233898452711,
          0.2967350574596864,
          0.30425193833223985,
          0.3117697687652763,
          0.31926851046123156,
          0.3267264947808682,
          0.33412446299812976,
          0.3414489875385509,
          0.3486945362380819,
          0.35586390616070135,
          0.36296720196685944,
          0.37001982405202,
          0.3770400224572154,
          0.3840465001666255,
          0.39105638050518465,
          0.39808365636223375,
          0.40513807294086296,
          0.41222430223217776,
          0.41934126622164636,
          0.42648155319521486,
          0.4336310089236356,
          0.44076869130760504
         ],
         "yaxis": "y3"
        },
        {
         "customdata": [
          [
           0.18655541453604665,
           "LR_l2",
           "CapitalGain"
          ],
          [
           0.18655541453604665,
           "LR_l2",
           "CapitalGain"
          ],
          [
           0.18655541453604665,
           "LR_l2",
           "CapitalGain"
          ],
          [
           0.18655541453604665,
           "LR_l2",
           "CapitalGain"
          ],
          [
           0.18655541453604665,
           "LR_l2",
           "CapitalGain"
          ],
          [
           0.18655541453604665,
           "LR_l2",
           "CapitalGain"
          ],
          [
           0.18655541453604665,
           "LR_l2",
           "CapitalGain"
          ],
          [
           0.18655541453604665,
           "LR_l2",
           "CapitalGain"
          ],
          [
           0.18655541453604665,
           "LR_l2",
           "CapitalGain"
          ],
          [
           0.18655541453604665,
           "LR_l2",
           "CapitalGain"
          ],
          [
           0.18655541453604665,
           "LR_l2",
           "CapitalGain"
          ],
          [
           0.18655541453604665,
           "LR_l2",
           "CapitalGain"
          ],
          [
           0.18655541453604665,
           "LR_l2",
           "CapitalGain"
          ],
          [
           0.18655541453604665,
           "LR_l2",
           "CapitalGain"
          ],
          [
           0.18655541453604665,
           "LR_l2",
           "CapitalGain"
          ],
          [
           0.18655541453604665,
           "LR_l2",
           "CapitalGain"
          ],
          [
           0.18655541453604665,
           "LR_l2",
           "CapitalGain"
          ],
          [
           0.18655541453604665,
           "LR_l2",
           "CapitalGain"
          ],
          [
           0.18655541453604665,
           "LR_l2",
           "CapitalGain"
          ],
          [
           0.18655541453604665,
           "LR_l2",
           "CapitalGain"
          ],
          [
           0.18655541453604665,
           "LR_l2",
           "CapitalGain"
          ],
          [
           0.18655541453604665,
           "LR_l2",
           "CapitalGain"
          ],
          [
           0.18655541453604665,
           "LR_l2",
           "CapitalGain"
          ],
          [
           0.18655541453604665,
           "LR_l2",
           "CapitalGain"
          ],
          [
           0.18655541453604665,
           "LR_l2",
           "CapitalGain"
          ],
          [
           0.18655541453604665,
           "LR_l2",
           "CapitalGain"
          ],
          [
           0.18655541453604665,
           "LR_l2",
           "CapitalGain"
          ],
          [
           0.18655541453604665,
           "LR_l2",
           "CapitalGain"
          ],
          [
           0.18655541453604665,
           "LR_l2",
           "CapitalGain"
          ],
          [
           0.18655541453604665,
           "LR_l2",
           "CapitalGain"
          ],
          [
           0.18655541453604665,
           "LR_l2",
           "CapitalGain"
          ],
          [
           0.18655541453604665,
           "LR_l2",
           "CapitalGain"
          ],
          [
           0.18655541453604665,
           "LR_l2",
           "CapitalGain"
          ],
          [
           0.18655541453604665,
           "LR_l2",
           "CapitalGain"
          ],
          [
           0.18655541453604665,
           "LR_l2",
           "CapitalGain"
          ],
          [
           0.18655541453604665,
           "LR_l2",
           "CapitalGain"
          ],
          [
           0.18655541453604665,
           "LR_l2",
           "CapitalGain"
          ],
          [
           0.18655541453604665,
           "LR_l2",
           "CapitalGain"
          ],
          [
           0.18655541453604665,
           "LR_l2",
           "CapitalGain"
          ],
          [
           0.18655541453604665,
           "LR_l2",
           "CapitalGain"
          ],
          [
           0.18655541453604665,
           "LR_l2",
           "CapitalGain"
          ],
          [
           0.18655541453604665,
           "LR_l2",
           "CapitalGain"
          ],
          [
           0.18655541453604665,
           "LR_l2",
           "CapitalGain"
          ],
          [
           0.18655541453604665,
           "LR_l2",
           "CapitalGain"
          ],
          [
           0.18655541453604665,
           "LR_l2",
           "CapitalGain"
          ],
          [
           0.18655541453604665,
           "LR_l2",
           "CapitalGain"
          ],
          [
           0.18655541453604665,
           "LR_l2",
           "CapitalGain"
          ],
          [
           0.18655541453604665,
           "LR_l2",
           "CapitalGain"
          ],
          [
           0.18655541453604665,
           "LR_l2",
           "CapitalGain"
          ],
          [
           0.18655541453604665,
           "LR_l2",
           "CapitalGain"
          ],
          [
           0.18655541453604665,
           "LR_l2",
           "CapitalGain"
          ],
          [
           0.18655541453604665,
           "LR_l2",
           "CapitalGain"
          ],
          [
           0.18655541453604665,
           "LR_l2",
           "CapitalGain"
          ],
          [
           0.18655541453604665,
           "LR_l2",
           "CapitalGain"
          ],
          [
           0.18655541453604665,
           "LR_l2",
           "CapitalGain"
          ],
          [
           0.18655541453604665,
           "LR_l2",
           "CapitalGain"
          ],
          [
           0.18655541453604665,
           "LR_l2",
           "CapitalGain"
          ],
          [
           0.18655541453604665,
           "LR_l2",
           "CapitalGain"
          ],
          [
           0.18655541453604665,
           "LR_l2",
           "CapitalGain"
          ],
          [
           0.18655541453604665,
           "LR_l2",
           "CapitalGain"
          ],
          [
           0.18655541453604665,
           "LR_l2",
           "CapitalGain"
          ],
          [
           0.18655541453604665,
           "LR_l2",
           "CapitalGain"
          ],
          [
           0.18655541453604665,
           "LR_l2",
           "CapitalGain"
          ],
          [
           0.18655541453604665,
           "LR_l2",
           "CapitalGain"
          ],
          [
           0.18655541453604665,
           "LR_l2",
           "CapitalGain"
          ],
          [
           0.18655541453604665,
           "LR_l2",
           "CapitalGain"
          ],
          [
           0.18655541453604665,
           "LR_l2",
           "CapitalGain"
          ],
          [
           0.18655541453604665,
           "LR_l2",
           "CapitalGain"
          ],
          [
           0.18655541453604665,
           "LR_l2",
           "CapitalGain"
          ],
          [
           0.18655541453604665,
           "LR_l2",
           "CapitalGain"
          ],
          [
           0.18655541453604665,
           "LR_l2",
           "CapitalGain"
          ],
          [
           0.18655541453604665,
           "LR_l2",
           "CapitalGain"
          ],
          [
           0.18655541453604665,
           "LR_l2",
           "CapitalGain"
          ],
          [
           0.18655541453604665,
           "LR_l2",
           "CapitalGain"
          ],
          [
           0.18655541453604665,
           "LR_l2",
           "CapitalGain"
          ],
          [
           0.18655541453604665,
           "LR_l2",
           "CapitalGain"
          ],
          [
           0.18655541453604665,
           "LR_l2",
           "CapitalGain"
          ],
          [
           0.18655541453604665,
           "LR_l2",
           "CapitalGain"
          ],
          [
           0.18655541453604665,
           "LR_l2",
           "CapitalGain"
          ],
          [
           0.18655541453604665,
           "LR_l2",
           "CapitalGain"
          ],
          [
           0.18655541453604665,
           "LR_l2",
           "CapitalGain"
          ],
          [
           0.18655541453604665,
           "LR_l2",
           "CapitalGain"
          ],
          [
           0.18655541453604665,
           "LR_l2",
           "CapitalGain"
          ],
          [
           0.18655541453604665,
           "LR_l2",
           "CapitalGain"
          ],
          [
           0.18655541453604665,
           "LR_l2",
           "CapitalGain"
          ],
          [
           0.18655541453604665,
           "LR_l2",
           "CapitalGain"
          ],
          [
           0.18655541453604665,
           "LR_l2",
           "CapitalGain"
          ],
          [
           0.18655541453604665,
           "LR_l2",
           "CapitalGain"
          ],
          [
           0.18655541453604665,
           "LR_l2",
           "CapitalGain"
          ],
          [
           0.18655541453604665,
           "LR_l2",
           "CapitalGain"
          ],
          [
           0.18655541453604665,
           "LR_l2",
           "CapitalGain"
          ],
          [
           0.18655541453604665,
           "LR_l2",
           "CapitalGain"
          ],
          [
           0.18655541453604665,
           "LR_l2",
           "CapitalGain"
          ],
          [
           0.18655541453604665,
           "LR_l2",
           "CapitalGain"
          ],
          [
           0.18655541453604665,
           "LR_l2",
           "CapitalGain"
          ],
          [
           0.18655541453604665,
           "LR_l2",
           "CapitalGain"
          ],
          [
           0.18655541453604665,
           "LR_l2",
           "CapitalGain"
          ],
          [
           0.18655541453604665,
           "LR_l2",
           "CapitalGain"
          ],
          [
           0.18655541453604665,
           "LR_l2",
           "CapitalGain"
          ],
          [
           0.18655541453604665,
           "LR_l2",
           "CapitalGain"
          ],
          [
           0.18655541453604665,
           "LR_l2",
           "CapitalGain"
          ]
         ],
         "hovertemplate": "<b>%{hovertext}</b><br><br>prediction=%{y:.3f}<br>mean_prediction=%{customdata[0]:.3f}<extra></extra>",
         "hovertext": [
          "LR_l2",
          "LR_l2",
          "LR_l2",
          "LR_l2",
          "LR_l2",
          "LR_l2",
          "LR_l2",
          "LR_l2",
          "LR_l2",
          "LR_l2",
          "LR_l2",
          "LR_l2",
          "LR_l2",
          "LR_l2",
          "LR_l2",
          "LR_l2",
          "LR_l2",
          "LR_l2",
          "LR_l2",
          "LR_l2",
          "LR_l2",
          "LR_l2",
          "LR_l2",
          "LR_l2",
          "LR_l2",
          "LR_l2",
          "LR_l2",
          "LR_l2",
          "LR_l2",
          "LR_l2",
          "LR_l2",
          "LR_l2",
          "LR_l2",
          "LR_l2",
          "LR_l2",
          "LR_l2",
          "LR_l2",
          "LR_l2",
          "LR_l2",
          "LR_l2",
          "LR_l2",
          "LR_l2",
          "LR_l2",
          "LR_l2",
          "LR_l2",
          "LR_l2",
          "LR_l2",
          "LR_l2",
          "LR_l2",
          "LR_l2",
          "LR_l2",
          "LR_l2",
          "LR_l2",
          "LR_l2",
          "LR_l2",
          "LR_l2",
          "LR_l2",
          "LR_l2",
          "LR_l2",
          "LR_l2",
          "LR_l2",
          "LR_l2",
          "LR_l2",
          "LR_l2",
          "LR_l2",
          "LR_l2",
          "LR_l2",
          "LR_l2",
          "LR_l2",
          "LR_l2",
          "LR_l2",
          "LR_l2",
          "LR_l2",
          "LR_l2",
          "LR_l2",
          "LR_l2",
          "LR_l2",
          "LR_l2",
          "LR_l2",
          "LR_l2",
          "LR_l2",
          "LR_l2",
          "LR_l2",
          "LR_l2",
          "LR_l2",
          "LR_l2",
          "LR_l2",
          "LR_l2",
          "LR_l2",
          "LR_l2",
          "LR_l2",
          "LR_l2",
          "LR_l2",
          "LR_l2",
          "LR_l2",
          "LR_l2",
          "LR_l2",
          "LR_l2",
          "LR_l2",
          "LR_l2",
          "LR_l2"
         ],
         "legendgroup": "LR_l2",
         "line": {
          "color": "#ffa58c",
          "dash": "solid",
          "width": 2
         },
         "marker": {
          "symbol": "circle"
         },
         "mode": "lines",
         "name": "LR_l2",
         "opacity": 1,
         "orientation": "v",
         "showlegend": false,
         "type": "scatter",
         "x": [
          0,
          999.99,
          1999.98,
          2999.9700000000003,
          3999.96,
          4999.95,
          5999.9400000000005,
          6999.93,
          7999.92,
          8999.91,
          9999.9,
          10999.89,
          11999.880000000001,
          12999.87,
          13999.86,
          14999.85,
          15999.84,
          16999.83,
          17999.82,
          18999.81,
          19999.8,
          20999.79,
          21999.78,
          22999.77,
          23999.760000000002,
          24999.75,
          25999.74,
          26999.73,
          27999.72,
          28999.71,
          29999.7,
          30999.69,
          31999.68,
          32999.67,
          33999.66,
          34999.65,
          35999.64,
          36999.63,
          37999.62,
          38999.61,
          39999.6,
          40999.590000000004,
          41999.58,
          42999.57,
          43999.56,
          44999.55,
          45999.54,
          46999.53,
          47999.520000000004,
          48999.51,
          49999.5,
          50999.49,
          51999.48,
          52999.47,
          53999.46,
          54999.45,
          55999.44,
          56999.43,
          57999.42,
          58999.41,
          59999.4,
          60999.39,
          61999.38,
          62999.37,
          63999.36,
          64999.35,
          65999.34,
          66999.33,
          67999.32,
          68999.31,
          69999.3,
          70999.29,
          71999.28,
          72999.27,
          73999.26,
          74999.25,
          75999.24,
          76999.23,
          77999.22,
          78999.21,
          79999.2,
          80999.19,
          81999.18000000001,
          82999.17,
          83999.16,
          84999.15,
          85999.14,
          86999.13,
          87999.12,
          88999.11,
          89999.1,
          90999.09,
          91999.08,
          92999.07,
          93999.06,
          94999.05,
          95999.04000000001,
          96999.03,
          97999.02,
          98999.01,
          99999
         ],
         "xaxis": "x4",
         "y": [
          0.1544492772684009,
          0.19221769617581025,
          0.2364358447901267,
          0.292501871929706,
          0.35572369241508384,
          0.4179883828836004,
          0.47657910712298845,
          0.5216385319586011,
          0.5572761932698449,
          0.5888680023048939,
          0.6206208833132608,
          0.6646215117815206,
          0.7177286820283894,
          0.7759020744051265,
          0.832122639898865,
          0.8703616946383136,
          0.8994085497421448,
          0.9227603272461176,
          0.9423216770732697,
          0.9572787870125075,
          0.9691359682023407,
          0.981699561190051,
          0.9925101531297313,
          0.9968613730267545,
          0.9989847828430986,
          0.9998082638637217,
          0.9999701124532571,
          0.9999955013263271,
          0.9999993265108378,
          0.9999998992549363,
          0.9999999849317052,
          0.9999999977462977,
          0.999999999662924,
          0.9999999999495852,
          0.9999999999924597,
          0.9999999999988722,
          0.9999999999998314,
          0.9999999999999748,
          0.9999999999999962,
          0.9999999999999994,
          1,
          1,
          1,
          1,
          1,
          1,
          1,
          1,
          1,
          1,
          1,
          1,
          1,
          1,
          1,
          1,
          1,
          1,
          1,
          1,
          1,
          1,
          1,
          1,
          1,
          1,
          1,
          1,
          1,
          1,
          1,
          1,
          1,
          1,
          1,
          1,
          1,
          1,
          1,
          1,
          1,
          1,
          1,
          1,
          1,
          1,
          1,
          1,
          1,
          1,
          1,
          1,
          1,
          1,
          1,
          1,
          1,
          1,
          1,
          1,
          1
         ],
         "yaxis": "y4"
        },
        {
         "customdata": [
          [
           0.18655541453604665,
           "LR_l2",
           "CapitalLoss"
          ],
          [
           0.18655541453604665,
           "LR_l2",
           "CapitalLoss"
          ],
          [
           0.18655541453604665,
           "LR_l2",
           "CapitalLoss"
          ],
          [
           0.18655541453604665,
           "LR_l2",
           "CapitalLoss"
          ],
          [
           0.18655541453604665,
           "LR_l2",
           "CapitalLoss"
          ],
          [
           0.18655541453604665,
           "LR_l2",
           "CapitalLoss"
          ],
          [
           0.18655541453604665,
           "LR_l2",
           "CapitalLoss"
          ],
          [
           0.18655541453604665,
           "LR_l2",
           "CapitalLoss"
          ],
          [
           0.18655541453604665,
           "LR_l2",
           "CapitalLoss"
          ],
          [
           0.18655541453604665,
           "LR_l2",
           "CapitalLoss"
          ],
          [
           0.18655541453604665,
           "LR_l2",
           "CapitalLoss"
          ],
          [
           0.18655541453604665,
           "LR_l2",
           "CapitalLoss"
          ],
          [
           0.18655541453604665,
           "LR_l2",
           "CapitalLoss"
          ],
          [
           0.18655541453604665,
           "LR_l2",
           "CapitalLoss"
          ],
          [
           0.18655541453604665,
           "LR_l2",
           "CapitalLoss"
          ],
          [
           0.18655541453604665,
           "LR_l2",
           "CapitalLoss"
          ],
          [
           0.18655541453604665,
           "LR_l2",
           "CapitalLoss"
          ],
          [
           0.18655541453604665,
           "LR_l2",
           "CapitalLoss"
          ],
          [
           0.18655541453604665,
           "LR_l2",
           "CapitalLoss"
          ],
          [
           0.18655541453604665,
           "LR_l2",
           "CapitalLoss"
          ],
          [
           0.18655541453604665,
           "LR_l2",
           "CapitalLoss"
          ],
          [
           0.18655541453604665,
           "LR_l2",
           "CapitalLoss"
          ],
          [
           0.18655541453604665,
           "LR_l2",
           "CapitalLoss"
          ],
          [
           0.18655541453604665,
           "LR_l2",
           "CapitalLoss"
          ],
          [
           0.18655541453604665,
           "LR_l2",
           "CapitalLoss"
          ],
          [
           0.18655541453604665,
           "LR_l2",
           "CapitalLoss"
          ],
          [
           0.18655541453604665,
           "LR_l2",
           "CapitalLoss"
          ],
          [
           0.18655541453604665,
           "LR_l2",
           "CapitalLoss"
          ],
          [
           0.18655541453604665,
           "LR_l2",
           "CapitalLoss"
          ],
          [
           0.18655541453604665,
           "LR_l2",
           "CapitalLoss"
          ],
          [
           0.18655541453604665,
           "LR_l2",
           "CapitalLoss"
          ],
          [
           0.18655541453604665,
           "LR_l2",
           "CapitalLoss"
          ],
          [
           0.18655541453604665,
           "LR_l2",
           "CapitalLoss"
          ],
          [
           0.18655541453604665,
           "LR_l2",
           "CapitalLoss"
          ],
          [
           0.18655541453604665,
           "LR_l2",
           "CapitalLoss"
          ],
          [
           0.18655541453604665,
           "LR_l2",
           "CapitalLoss"
          ],
          [
           0.18655541453604665,
           "LR_l2",
           "CapitalLoss"
          ],
          [
           0.18655541453604665,
           "LR_l2",
           "CapitalLoss"
          ],
          [
           0.18655541453604665,
           "LR_l2",
           "CapitalLoss"
          ],
          [
           0.18655541453604665,
           "LR_l2",
           "CapitalLoss"
          ],
          [
           0.18655541453604665,
           "LR_l2",
           "CapitalLoss"
          ],
          [
           0.18655541453604665,
           "LR_l2",
           "CapitalLoss"
          ],
          [
           0.18655541453604665,
           "LR_l2",
           "CapitalLoss"
          ],
          [
           0.18655541453604665,
           "LR_l2",
           "CapitalLoss"
          ],
          [
           0.18655541453604665,
           "LR_l2",
           "CapitalLoss"
          ],
          [
           0.18655541453604665,
           "LR_l2",
           "CapitalLoss"
          ],
          [
           0.18655541453604665,
           "LR_l2",
           "CapitalLoss"
          ],
          [
           0.18655541453604665,
           "LR_l2",
           "CapitalLoss"
          ],
          [
           0.18655541453604665,
           "LR_l2",
           "CapitalLoss"
          ],
          [
           0.18655541453604665,
           "LR_l2",
           "CapitalLoss"
          ],
          [
           0.18655541453604665,
           "LR_l2",
           "CapitalLoss"
          ],
          [
           0.18655541453604665,
           "LR_l2",
           "CapitalLoss"
          ],
          [
           0.18655541453604665,
           "LR_l2",
           "CapitalLoss"
          ],
          [
           0.18655541453604665,
           "LR_l2",
           "CapitalLoss"
          ],
          [
           0.18655541453604665,
           "LR_l2",
           "CapitalLoss"
          ],
          [
           0.18655541453604665,
           "LR_l2",
           "CapitalLoss"
          ],
          [
           0.18655541453604665,
           "LR_l2",
           "CapitalLoss"
          ],
          [
           0.18655541453604665,
           "LR_l2",
           "CapitalLoss"
          ],
          [
           0.18655541453604665,
           "LR_l2",
           "CapitalLoss"
          ],
          [
           0.18655541453604665,
           "LR_l2",
           "CapitalLoss"
          ],
          [
           0.18655541453604665,
           "LR_l2",
           "CapitalLoss"
          ],
          [
           0.18655541453604665,
           "LR_l2",
           "CapitalLoss"
          ],
          [
           0.18655541453604665,
           "LR_l2",
           "CapitalLoss"
          ],
          [
           0.18655541453604665,
           "LR_l2",
           "CapitalLoss"
          ],
          [
           0.18655541453604665,
           "LR_l2",
           "CapitalLoss"
          ],
          [
           0.18655541453604665,
           "LR_l2",
           "CapitalLoss"
          ],
          [
           0.18655541453604665,
           "LR_l2",
           "CapitalLoss"
          ],
          [
           0.18655541453604665,
           "LR_l2",
           "CapitalLoss"
          ],
          [
           0.18655541453604665,
           "LR_l2",
           "CapitalLoss"
          ],
          [
           0.18655541453604665,
           "LR_l2",
           "CapitalLoss"
          ],
          [
           0.18655541453604665,
           "LR_l2",
           "CapitalLoss"
          ],
          [
           0.18655541453604665,
           "LR_l2",
           "CapitalLoss"
          ],
          [
           0.18655541453604665,
           "LR_l2",
           "CapitalLoss"
          ],
          [
           0.18655541453604665,
           "LR_l2",
           "CapitalLoss"
          ],
          [
           0.18655541453604665,
           "LR_l2",
           "CapitalLoss"
          ],
          [
           0.18655541453604665,
           "LR_l2",
           "CapitalLoss"
          ],
          [
           0.18655541453604665,
           "LR_l2",
           "CapitalLoss"
          ],
          [
           0.18655541453604665,
           "LR_l2",
           "CapitalLoss"
          ],
          [
           0.18655541453604665,
           "LR_l2",
           "CapitalLoss"
          ],
          [
           0.18655541453604665,
           "LR_l2",
           "CapitalLoss"
          ],
          [
           0.18655541453604665,
           "LR_l2",
           "CapitalLoss"
          ],
          [
           0.18655541453604665,
           "LR_l2",
           "CapitalLoss"
          ],
          [
           0.18655541453604665,
           "LR_l2",
           "CapitalLoss"
          ],
          [
           0.18655541453604665,
           "LR_l2",
           "CapitalLoss"
          ],
          [
           0.18655541453604665,
           "LR_l2",
           "CapitalLoss"
          ],
          [
           0.18655541453604665,
           "LR_l2",
           "CapitalLoss"
          ],
          [
           0.18655541453604665,
           "LR_l2",
           "CapitalLoss"
          ],
          [
           0.18655541453604665,
           "LR_l2",
           "CapitalLoss"
          ],
          [
           0.18655541453604665,
           "LR_l2",
           "CapitalLoss"
          ],
          [
           0.18655541453604665,
           "LR_l2",
           "CapitalLoss"
          ],
          [
           0.18655541453604665,
           "LR_l2",
           "CapitalLoss"
          ],
          [
           0.18655541453604665,
           "LR_l2",
           "CapitalLoss"
          ],
          [
           0.18655541453604665,
           "LR_l2",
           "CapitalLoss"
          ],
          [
           0.18655541453604665,
           "LR_l2",
           "CapitalLoss"
          ],
          [
           0.18655541453604665,
           "LR_l2",
           "CapitalLoss"
          ],
          [
           0.18655541453604665,
           "LR_l2",
           "CapitalLoss"
          ],
          [
           0.18655541453604665,
           "LR_l2",
           "CapitalLoss"
          ],
          [
           0.18655541453604665,
           "LR_l2",
           "CapitalLoss"
          ],
          [
           0.18655541453604665,
           "LR_l2",
           "CapitalLoss"
          ],
          [
           0.18655541453604665,
           "LR_l2",
           "CapitalLoss"
          ],
          [
           0.18655541453604665,
           "LR_l2",
           "CapitalLoss"
          ]
         ],
         "hovertemplate": "<b>%{hovertext}</b><br><br>prediction=%{y:.3f}<br>mean_prediction=%{customdata[0]:.3f}<extra></extra>",
         "hovertext": [
          "LR_l2",
          "LR_l2",
          "LR_l2",
          "LR_l2",
          "LR_l2",
          "LR_l2",
          "LR_l2",
          "LR_l2",
          "LR_l2",
          "LR_l2",
          "LR_l2",
          "LR_l2",
          "LR_l2",
          "LR_l2",
          "LR_l2",
          "LR_l2",
          "LR_l2",
          "LR_l2",
          "LR_l2",
          "LR_l2",
          "LR_l2",
          "LR_l2",
          "LR_l2",
          "LR_l2",
          "LR_l2",
          "LR_l2",
          "LR_l2",
          "LR_l2",
          "LR_l2",
          "LR_l2",
          "LR_l2",
          "LR_l2",
          "LR_l2",
          "LR_l2",
          "LR_l2",
          "LR_l2",
          "LR_l2",
          "LR_l2",
          "LR_l2",
          "LR_l2",
          "LR_l2",
          "LR_l2",
          "LR_l2",
          "LR_l2",
          "LR_l2",
          "LR_l2",
          "LR_l2",
          "LR_l2",
          "LR_l2",
          "LR_l2",
          "LR_l2",
          "LR_l2",
          "LR_l2",
          "LR_l2",
          "LR_l2",
          "LR_l2",
          "LR_l2",
          "LR_l2",
          "LR_l2",
          "LR_l2",
          "LR_l2",
          "LR_l2",
          "LR_l2",
          "LR_l2",
          "LR_l2",
          "LR_l2",
          "LR_l2",
          "LR_l2",
          "LR_l2",
          "LR_l2",
          "LR_l2",
          "LR_l2",
          "LR_l2",
          "LR_l2",
          "LR_l2",
          "LR_l2",
          "LR_l2",
          "LR_l2",
          "LR_l2",
          "LR_l2",
          "LR_l2",
          "LR_l2",
          "LR_l2",
          "LR_l2",
          "LR_l2",
          "LR_l2",
          "LR_l2",
          "LR_l2",
          "LR_l2",
          "LR_l2",
          "LR_l2",
          "LR_l2",
          "LR_l2",
          "LR_l2",
          "LR_l2",
          "LR_l2",
          "LR_l2",
          "LR_l2",
          "LR_l2",
          "LR_l2",
          "LR_l2"
         ],
         "legendgroup": "LR_l2",
         "line": {
          "color": "#ffa58c",
          "dash": "solid",
          "width": 2
         },
         "marker": {
          "symbol": "circle"
         },
         "mode": "lines",
         "name": "LR_l2",
         "opacity": 1,
         "orientation": "v",
         "showlegend": false,
         "type": "scatter",
         "x": [
          0,
          43.56,
          87.12,
          130.68,
          174.24,
          217.8,
          261.36,
          304.92,
          348.48,
          392.04,
          435.6,
          479.16,
          522.72,
          566.28,
          609.84,
          653.4000000000001,
          696.96,
          740.52,
          784.08,
          827.6400000000001,
          871.2,
          914.76,
          958.32,
          1001.8800000000001,
          1045.44,
          1089,
          1132.56,
          1176.1200000000001,
          1219.68,
          1263.24,
          1306.8000000000002,
          1350.3600000000001,
          1393.92,
          1437.48,
          1481.04,
          1524.6000000000001,
          1568.16,
          1611.72,
          1655.2800000000002,
          1698.8400000000001,
          1742.4,
          1785.96,
          1829.52,
          1873.0800000000002,
          1916.64,
          1960.2,
          2003.7600000000002,
          2047.3200000000002,
          2090.88,
          2134.44,
          2178,
          2221.56,
          2265.12,
          2308.6800000000003,
          2352.2400000000002,
          2395.8,
          2439.36,
          2482.92,
          2526.48,
          2570.04,
          2613.6000000000004,
          2657.1600000000003,
          2700.7200000000003,
          2744.28,
          2787.84,
          2831.4,
          2874.96,
          2918.52,
          2962.08,
          3005.6400000000003,
          3049.2000000000003,
          3092.76,
          3136.32,
          3179.88,
          3223.44,
          3267,
          3310.5600000000004,
          3354.1200000000003,
          3397.6800000000003,
          3441.2400000000002,
          3484.8,
          3528.36,
          3571.92,
          3615.48,
          3659.04,
          3702.6000000000004,
          3746.1600000000003,
          3789.7200000000003,
          3833.28,
          3876.84,
          3920.4,
          3963.96,
          4007.5200000000004,
          4051.0800000000004,
          4094.6400000000003,
          4138.2,
          4181.76,
          4225.320000000001,
          4268.88,
          4312.4400000000005,
          4356
         ],
         "xaxis": "x",
         "y": [
          0.1770721831626078,
          0.1799534460514811,
          0.18286267250014013,
          0.18580815241585474,
          0.18879746290985414,
          0.19183696432462705,
          0.19493139193530465,
          0.19808360588854856,
          0.20129454891711304,
          0.20456343732093318,
          0.2078881787993158,
          0.2112659757799006,
          0.2146940411812049,
          0.21817033199651012,
          0.22169420039655394,
          0.22526687422071898,
          0.22889170567215725,
          0.23257416163442338,
          0.23632156339681548,
          0.24014261245801202,
          0.2440467611010096,
          0.24804350248501772,
          0.2521416651992852,
          0.2563487989880465,
          0.26067072727183305,
          0.26511131525627957,
          0.26967246210739093,
          0.2743542806892325,
          0.27915539172154674,
          0.28407324297349784,
          0.28910437398253275,
          0.29424457939140053,
          0.29948896799786745,
          0.3048319550353058,
          0.3102672488613146,
          0.31578789318907535,
          0.32138640368175986,
          0.3270550021577936,
          0.3327859159774469,
          0.338571686729316,
          0.3444054280965459,
          0.35028098730328144,
          0.35619299103949503,
          0.3621367855039205,
          0.36810830219910806,
          0.37410389056904253,
          0.3801201537736836,
          0.3861538070248744,
          0.3922015543777031,
          0.39825995734972147,
          0.4043252556422778,
          0.4103931034629648,
          0.41645820709004394,
          0.42251388635082987,
          0.4285516236886846,
          0.43456069460042773,
          0.44052797929305987,
          0.44643803200150245,
          0.45227343696150984,
          0.45801542326077177,
          0.463644662928446,
          0.46914215215376687,
          0.4744900796947124,
          0.4796726138457403,
          0.48467657632134215,
          0.48949200237179386,
          0.4941125997031865,
          0.49853611114117163,
          0.5027645636971849,
          0.5068043624472393,
          0.5106661748800674,
          0.5143645585890501,
          0.5179173126494487,
          0.5213445734602967,
          0.5246677180566722,
          0.527908171237307,
          0.5310862302154018,
          0.5342200193885289,
          0.5373246697983741,
          0.5404117873975478,
          0.5434892375594395,
          0.5465612370586131,
          0.5496287149505651,
          0.5526898844157563,
          0.5557409600787161,
          0.5587769581483706,
          0.5617925261714964,
          0.5647827600942085,
          0.5677439737180913,
          0.5706743866773425,
          0.5735746926168603,
          0.576448464003403,
          0.5793023505205753,
          0.5821460394453688,
          0.5849919696395613,
          0.5878548215059929,
          0.5907508355757968,
          0.5936970339877172,
          0.5967104263837424,
          0.5998072736425099,
          0.6030024629178341
         ],
         "yaxis": "y"
        },
        {
         "customdata": [
          [
           0.18655541453604665,
           "LR_l2",
           "HoursPerWeek"
          ],
          [
           0.18655541453604665,
           "LR_l2",
           "HoursPerWeek"
          ],
          [
           0.18655541453604665,
           "LR_l2",
           "HoursPerWeek"
          ],
          [
           0.18655541453604665,
           "LR_l2",
           "HoursPerWeek"
          ],
          [
           0.18655541453604665,
           "LR_l2",
           "HoursPerWeek"
          ],
          [
           0.18655541453604665,
           "LR_l2",
           "HoursPerWeek"
          ],
          [
           0.18655541453604665,
           "LR_l2",
           "HoursPerWeek"
          ],
          [
           0.18655541453604665,
           "LR_l2",
           "HoursPerWeek"
          ],
          [
           0.18655541453604665,
           "LR_l2",
           "HoursPerWeek"
          ],
          [
           0.18655541453604665,
           "LR_l2",
           "HoursPerWeek"
          ],
          [
           0.18655541453604665,
           "LR_l2",
           "HoursPerWeek"
          ],
          [
           0.18655541453604665,
           "LR_l2",
           "HoursPerWeek"
          ],
          [
           0.18655541453604665,
           "LR_l2",
           "HoursPerWeek"
          ],
          [
           0.18655541453604665,
           "LR_l2",
           "HoursPerWeek"
          ],
          [
           0.18655541453604665,
           "LR_l2",
           "HoursPerWeek"
          ],
          [
           0.18655541453604665,
           "LR_l2",
           "HoursPerWeek"
          ],
          [
           0.18655541453604665,
           "LR_l2",
           "HoursPerWeek"
          ],
          [
           0.18655541453604665,
           "LR_l2",
           "HoursPerWeek"
          ],
          [
           0.18655541453604665,
           "LR_l2",
           "HoursPerWeek"
          ],
          [
           0.18655541453604665,
           "LR_l2",
           "HoursPerWeek"
          ],
          [
           0.18655541453604665,
           "LR_l2",
           "HoursPerWeek"
          ],
          [
           0.18655541453604665,
           "LR_l2",
           "HoursPerWeek"
          ],
          [
           0.18655541453604665,
           "LR_l2",
           "HoursPerWeek"
          ],
          [
           0.18655541453604665,
           "LR_l2",
           "HoursPerWeek"
          ],
          [
           0.18655541453604665,
           "LR_l2",
           "HoursPerWeek"
          ],
          [
           0.18655541453604665,
           "LR_l2",
           "HoursPerWeek"
          ],
          [
           0.18655541453604665,
           "LR_l2",
           "HoursPerWeek"
          ],
          [
           0.18655541453604665,
           "LR_l2",
           "HoursPerWeek"
          ],
          [
           0.18655541453604665,
           "LR_l2",
           "HoursPerWeek"
          ],
          [
           0.18655541453604665,
           "LR_l2",
           "HoursPerWeek"
          ],
          [
           0.18655541453604665,
           "LR_l2",
           "HoursPerWeek"
          ],
          [
           0.18655541453604665,
           "LR_l2",
           "HoursPerWeek"
          ],
          [
           0.18655541453604665,
           "LR_l2",
           "HoursPerWeek"
          ],
          [
           0.18655541453604665,
           "LR_l2",
           "HoursPerWeek"
          ],
          [
           0.18655541453604665,
           "LR_l2",
           "HoursPerWeek"
          ],
          [
           0.18655541453604665,
           "LR_l2",
           "HoursPerWeek"
          ],
          [
           0.18655541453604665,
           "LR_l2",
           "HoursPerWeek"
          ],
          [
           0.18655541453604665,
           "LR_l2",
           "HoursPerWeek"
          ],
          [
           0.18655541453604665,
           "LR_l2",
           "HoursPerWeek"
          ],
          [
           0.18655541453604665,
           "LR_l2",
           "HoursPerWeek"
          ],
          [
           0.18655541453604665,
           "LR_l2",
           "HoursPerWeek"
          ],
          [
           0.18655541453604665,
           "LR_l2",
           "HoursPerWeek"
          ],
          [
           0.18655541453604665,
           "LR_l2",
           "HoursPerWeek"
          ],
          [
           0.18655541453604665,
           "LR_l2",
           "HoursPerWeek"
          ],
          [
           0.18655541453604665,
           "LR_l2",
           "HoursPerWeek"
          ],
          [
           0.18655541453604665,
           "LR_l2",
           "HoursPerWeek"
          ],
          [
           0.18655541453604665,
           "LR_l2",
           "HoursPerWeek"
          ],
          [
           0.18655541453604665,
           "LR_l2",
           "HoursPerWeek"
          ],
          [
           0.18655541453604665,
           "LR_l2",
           "HoursPerWeek"
          ],
          [
           0.18655541453604665,
           "LR_l2",
           "HoursPerWeek"
          ],
          [
           0.18655541453604665,
           "LR_l2",
           "HoursPerWeek"
          ],
          [
           0.18655541453604665,
           "LR_l2",
           "HoursPerWeek"
          ],
          [
           0.18655541453604665,
           "LR_l2",
           "HoursPerWeek"
          ],
          [
           0.18655541453604665,
           "LR_l2",
           "HoursPerWeek"
          ],
          [
           0.18655541453604665,
           "LR_l2",
           "HoursPerWeek"
          ],
          [
           0.18655541453604665,
           "LR_l2",
           "HoursPerWeek"
          ],
          [
           0.18655541453604665,
           "LR_l2",
           "HoursPerWeek"
          ],
          [
           0.18655541453604665,
           "LR_l2",
           "HoursPerWeek"
          ],
          [
           0.18655541453604665,
           "LR_l2",
           "HoursPerWeek"
          ],
          [
           0.18655541453604665,
           "LR_l2",
           "HoursPerWeek"
          ],
          [
           0.18655541453604665,
           "LR_l2",
           "HoursPerWeek"
          ],
          [
           0.18655541453604665,
           "LR_l2",
           "HoursPerWeek"
          ],
          [
           0.18655541453604665,
           "LR_l2",
           "HoursPerWeek"
          ],
          [
           0.18655541453604665,
           "LR_l2",
           "HoursPerWeek"
          ],
          [
           0.18655541453604665,
           "LR_l2",
           "HoursPerWeek"
          ],
          [
           0.18655541453604665,
           "LR_l2",
           "HoursPerWeek"
          ],
          [
           0.18655541453604665,
           "LR_l2",
           "HoursPerWeek"
          ],
          [
           0.18655541453604665,
           "LR_l2",
           "HoursPerWeek"
          ],
          [
           0.18655541453604665,
           "LR_l2",
           "HoursPerWeek"
          ],
          [
           0.18655541453604665,
           "LR_l2",
           "HoursPerWeek"
          ],
          [
           0.18655541453604665,
           "LR_l2",
           "HoursPerWeek"
          ],
          [
           0.18655541453604665,
           "LR_l2",
           "HoursPerWeek"
          ],
          [
           0.18655541453604665,
           "LR_l2",
           "HoursPerWeek"
          ],
          [
           0.18655541453604665,
           "LR_l2",
           "HoursPerWeek"
          ],
          [
           0.18655541453604665,
           "LR_l2",
           "HoursPerWeek"
          ],
          [
           0.18655541453604665,
           "LR_l2",
           "HoursPerWeek"
          ],
          [
           0.18655541453604665,
           "LR_l2",
           "HoursPerWeek"
          ],
          [
           0.18655541453604665,
           "LR_l2",
           "HoursPerWeek"
          ],
          [
           0.18655541453604665,
           "LR_l2",
           "HoursPerWeek"
          ],
          [
           0.18655541453604665,
           "LR_l2",
           "HoursPerWeek"
          ],
          [
           0.18655541453604665,
           "LR_l2",
           "HoursPerWeek"
          ],
          [
           0.18655541453604665,
           "LR_l2",
           "HoursPerWeek"
          ],
          [
           0.18655541453604665,
           "LR_l2",
           "HoursPerWeek"
          ],
          [
           0.18655541453604665,
           "LR_l2",
           "HoursPerWeek"
          ],
          [
           0.18655541453604665,
           "LR_l2",
           "HoursPerWeek"
          ],
          [
           0.18655541453604665,
           "LR_l2",
           "HoursPerWeek"
          ],
          [
           0.18655541453604665,
           "LR_l2",
           "HoursPerWeek"
          ],
          [
           0.18655541453604665,
           "LR_l2",
           "HoursPerWeek"
          ],
          [
           0.18655541453604665,
           "LR_l2",
           "HoursPerWeek"
          ],
          [
           0.18655541453604665,
           "LR_l2",
           "HoursPerWeek"
          ],
          [
           0.18655541453604665,
           "LR_l2",
           "HoursPerWeek"
          ],
          [
           0.18655541453604665,
           "LR_l2",
           "HoursPerWeek"
          ],
          [
           0.18655541453604665,
           "LR_l2",
           "HoursPerWeek"
          ],
          [
           0.18655541453604665,
           "LR_l2",
           "HoursPerWeek"
          ],
          [
           0.18655541453604665,
           "LR_l2",
           "HoursPerWeek"
          ],
          [
           0.18655541453604665,
           "LR_l2",
           "HoursPerWeek"
          ],
          [
           0.18655541453604665,
           "LR_l2",
           "HoursPerWeek"
          ],
          [
           0.18655541453604665,
           "LR_l2",
           "HoursPerWeek"
          ],
          [
           0.18655541453604665,
           "LR_l2",
           "HoursPerWeek"
          ],
          [
           0.18655541453604665,
           "LR_l2",
           "HoursPerWeek"
          ],
          [
           0.18655541453604665,
           "LR_l2",
           "HoursPerWeek"
          ]
         ],
         "hovertemplate": "<b>%{hovertext}</b><br><br>prediction=%{y:.3f}<br>mean_prediction=%{customdata[0]:.3f}<extra></extra>",
         "hovertext": [
          "LR_l2",
          "LR_l2",
          "LR_l2",
          "LR_l2",
          "LR_l2",
          "LR_l2",
          "LR_l2",
          "LR_l2",
          "LR_l2",
          "LR_l2",
          "LR_l2",
          "LR_l2",
          "LR_l2",
          "LR_l2",
          "LR_l2",
          "LR_l2",
          "LR_l2",
          "LR_l2",
          "LR_l2",
          "LR_l2",
          "LR_l2",
          "LR_l2",
          "LR_l2",
          "LR_l2",
          "LR_l2",
          "LR_l2",
          "LR_l2",
          "LR_l2",
          "LR_l2",
          "LR_l2",
          "LR_l2",
          "LR_l2",
          "LR_l2",
          "LR_l2",
          "LR_l2",
          "LR_l2",
          "LR_l2",
          "LR_l2",
          "LR_l2",
          "LR_l2",
          "LR_l2",
          "LR_l2",
          "LR_l2",
          "LR_l2",
          "LR_l2",
          "LR_l2",
          "LR_l2",
          "LR_l2",
          "LR_l2",
          "LR_l2",
          "LR_l2",
          "LR_l2",
          "LR_l2",
          "LR_l2",
          "LR_l2",
          "LR_l2",
          "LR_l2",
          "LR_l2",
          "LR_l2",
          "LR_l2",
          "LR_l2",
          "LR_l2",
          "LR_l2",
          "LR_l2",
          "LR_l2",
          "LR_l2",
          "LR_l2",
          "LR_l2",
          "LR_l2",
          "LR_l2",
          "LR_l2",
          "LR_l2",
          "LR_l2",
          "LR_l2",
          "LR_l2",
          "LR_l2",
          "LR_l2",
          "LR_l2",
          "LR_l2",
          "LR_l2",
          "LR_l2",
          "LR_l2",
          "LR_l2",
          "LR_l2",
          "LR_l2",
          "LR_l2",
          "LR_l2",
          "LR_l2",
          "LR_l2",
          "LR_l2",
          "LR_l2",
          "LR_l2",
          "LR_l2",
          "LR_l2",
          "LR_l2",
          "LR_l2",
          "LR_l2",
          "LR_l2",
          "LR_l2",
          "LR_l2",
          "LR_l2"
         ],
         "legendgroup": "LR_l2",
         "line": {
          "color": "#ffa58c",
          "dash": "solid",
          "width": 2
         },
         "marker": {
          "symbol": "circle"
         },
         "mode": "lines",
         "name": "LR_l2",
         "opacity": 1,
         "orientation": "v",
         "showlegend": false,
         "type": "scatter",
         "x": [
          1,
          1.98,
          2.96,
          3.94,
          4.92,
          5.9,
          6.88,
          7.859999999999999,
          8.84,
          9.82,
          10.8,
          11.78,
          12.76,
          13.74,
          14.719999999999999,
          15.7,
          16.68,
          17.66,
          18.64,
          19.62,
          20.6,
          21.58,
          22.56,
          23.54,
          24.52,
          25.5,
          26.48,
          27.46,
          28.439999999999998,
          29.419999999999998,
          30.4,
          31.38,
          32.36,
          33.339999999999996,
          34.32,
          35.3,
          36.28,
          37.26,
          38.24,
          39.22,
          40.2,
          41.18,
          42.16,
          43.14,
          44.12,
          45.1,
          46.08,
          47.06,
          48.04,
          49.019999999999996,
          50,
          50.98,
          51.96,
          52.94,
          53.92,
          54.9,
          55.879999999999995,
          56.86,
          57.839999999999996,
          58.82,
          59.8,
          60.78,
          61.76,
          62.74,
          63.72,
          64.69999999999999,
          65.67999999999999,
          66.66,
          67.64,
          68.62,
          69.6,
          70.58,
          71.56,
          72.53999999999999,
          73.52,
          74.5,
          75.48,
          76.46,
          77.44,
          78.42,
          79.4,
          80.38,
          81.36,
          82.34,
          83.32,
          84.3,
          85.28,
          86.26,
          87.24,
          88.22,
          89.2,
          90.17999999999999,
          91.16,
          92.14,
          93.12,
          94.1,
          95.08,
          96.06,
          97.03999999999999,
          98.02,
          99
         ],
         "xaxis": "x2",
         "y": [
          0.05862001715048047,
          0.06034380624709397,
          0.06210294788904169,
          0.06389892533207954,
          0.06573413275036626,
          0.06761170527043099,
          0.06953521924043736,
          0.07150829328870113,
          0.07353414800098534,
          0.075615197702882,
          0.077752746000162,
          0.079946837542549,
          0.08219628784431543,
          0.08449887973327427,
          0.08685168722216927,
          0.08925147038331364,
          0.09169507986701199,
          0.09417981622589627,
          0.09670370461971249,
          0.09926566565573428,
          0.10186558273314443,
          0.10450428008503644,
          0.10718343077561895,
          0.10990541101964255,
          0.11267311046689481,
          0.11548970255740423,
          0.11835837792896212,
          0.1212820474675483,
          0.12426302824297022,
          0.12730273324076266,
          0.13040139300961165,
          0.13355784279412727,
          0.13676941054709657,
          0.1400319370144089,
          0.14333994709556172,
          0.1466869722784852,
          0.15006600030982392,
          0.1534700056277841,
          0.15689249802787636,
          0.16032802176043423,
          0.16377254460621452,
          0.16722369554219496,
          0.1706808367075018,
          0.1741449843610385,
          0.17761861702412993,
          0.18110542083249356,
          0.18461001990203507,
          0.18813772587953934,
          0.19169432215688212,
          0.19528588140419026,
          0.19891860465792038,
          0.2025986672712082,
          0.2063320602088785,
          0.2101244222624155,
          0.21398086778310269,
          0.21790582372206502,
          0.22190289736708388,
          0.22597480066884032,
          0.23012335775517556,
          0.2343496193222486,
          0.23865410123676284,
          0.24303715385598484,
          0.2474994509751892,
          0.2520425612605833,
          0.2566695324681397,
          0.2613853872438949,
          0.2661974109159909,
          0.2711151185478259,
          0.27614982696740803,
          0.2813138239237171,
          0.2866192072013285,
          0.2920765414174073,
          0.2976935291478515,
          0.3034739017161085,
          0.3094166993738736,
          0.31551603848041165,
          0.32176137265307775,
          0.32813816899853226,
          0.33462886064844566,
          0.3412139148785864,
          0.34787287113985904,
          0.35458524330743474,
          0.36133122842072124,
          0.36809220557772976,
          0.37485103588985347,
          0.3815921873228362,
          0.38830171125745333,
          0.3949670960989266,
          0.4015770214033934,
          0.4081210364177142,
          0.4145891914204377,
          0.42097165965559963,
          0.4272584005713968,
          0.4334389265065685,
          0.4395022369185406,
          0.4454369692493431,
          0.4512317815130573,
          0.456875935126441,
          0.46236000117722587,
          0.46767658474204743,
          0.4728209600284816
         ],
         "yaxis": "y2"
        },
        {
         "customdata": [
          [
           0.3372831647923483,
           "DL",
           "Age"
          ],
          [
           0.3372831647923483,
           "DL",
           "Age"
          ],
          [
           0.3372831647923483,
           "DL",
           "Age"
          ],
          [
           0.3372831647923483,
           "DL",
           "Age"
          ],
          [
           0.3372831647923483,
           "DL",
           "Age"
          ],
          [
           0.3372831647923483,
           "DL",
           "Age"
          ],
          [
           0.3372831647923483,
           "DL",
           "Age"
          ],
          [
           0.3372831647923483,
           "DL",
           "Age"
          ],
          [
           0.3372831647923483,
           "DL",
           "Age"
          ],
          [
           0.3372831647923483,
           "DL",
           "Age"
          ],
          [
           0.3372831647923483,
           "DL",
           "Age"
          ],
          [
           0.3372831647923483,
           "DL",
           "Age"
          ],
          [
           0.3372831647923483,
           "DL",
           "Age"
          ],
          [
           0.3372831647923483,
           "DL",
           "Age"
          ],
          [
           0.3372831647923483,
           "DL",
           "Age"
          ],
          [
           0.3372831647923483,
           "DL",
           "Age"
          ],
          [
           0.3372831647923483,
           "DL",
           "Age"
          ],
          [
           0.3372831647923483,
           "DL",
           "Age"
          ],
          [
           0.3372831647923483,
           "DL",
           "Age"
          ],
          [
           0.3372831647923483,
           "DL",
           "Age"
          ],
          [
           0.3372831647923483,
           "DL",
           "Age"
          ],
          [
           0.3372831647923483,
           "DL",
           "Age"
          ],
          [
           0.3372831647923483,
           "DL",
           "Age"
          ],
          [
           0.3372831647923483,
           "DL",
           "Age"
          ],
          [
           0.3372831647923483,
           "DL",
           "Age"
          ],
          [
           0.3372831647923483,
           "DL",
           "Age"
          ],
          [
           0.3372831647923483,
           "DL",
           "Age"
          ],
          [
           0.3372831647923483,
           "DL",
           "Age"
          ],
          [
           0.3372831647923483,
           "DL",
           "Age"
          ],
          [
           0.3372831647923483,
           "DL",
           "Age"
          ],
          [
           0.3372831647923483,
           "DL",
           "Age"
          ],
          [
           0.3372831647923483,
           "DL",
           "Age"
          ],
          [
           0.3372831647923483,
           "DL",
           "Age"
          ],
          [
           0.3372831647923483,
           "DL",
           "Age"
          ],
          [
           0.3372831647923483,
           "DL",
           "Age"
          ],
          [
           0.3372831647923483,
           "DL",
           "Age"
          ],
          [
           0.3372831647923483,
           "DL",
           "Age"
          ],
          [
           0.3372831647923483,
           "DL",
           "Age"
          ],
          [
           0.3372831647923483,
           "DL",
           "Age"
          ],
          [
           0.3372831647923483,
           "DL",
           "Age"
          ],
          [
           0.3372831647923483,
           "DL",
           "Age"
          ],
          [
           0.3372831647923483,
           "DL",
           "Age"
          ],
          [
           0.3372831647923483,
           "DL",
           "Age"
          ],
          [
           0.3372831647923483,
           "DL",
           "Age"
          ],
          [
           0.3372831647923483,
           "DL",
           "Age"
          ],
          [
           0.3372831647923483,
           "DL",
           "Age"
          ],
          [
           0.3372831647923483,
           "DL",
           "Age"
          ],
          [
           0.3372831647923483,
           "DL",
           "Age"
          ],
          [
           0.3372831647923483,
           "DL",
           "Age"
          ],
          [
           0.3372831647923483,
           "DL",
           "Age"
          ],
          [
           0.3372831647923483,
           "DL",
           "Age"
          ],
          [
           0.3372831647923483,
           "DL",
           "Age"
          ],
          [
           0.3372831647923483,
           "DL",
           "Age"
          ],
          [
           0.3372831647923483,
           "DL",
           "Age"
          ],
          [
           0.3372831647923483,
           "DL",
           "Age"
          ],
          [
           0.3372831647923483,
           "DL",
           "Age"
          ],
          [
           0.3372831647923483,
           "DL",
           "Age"
          ],
          [
           0.3372831647923483,
           "DL",
           "Age"
          ],
          [
           0.3372831647923483,
           "DL",
           "Age"
          ],
          [
           0.3372831647923483,
           "DL",
           "Age"
          ],
          [
           0.3372831647923483,
           "DL",
           "Age"
          ],
          [
           0.3372831647923483,
           "DL",
           "Age"
          ],
          [
           0.3372831647923483,
           "DL",
           "Age"
          ],
          [
           0.3372831647923483,
           "DL",
           "Age"
          ],
          [
           0.3372831647923483,
           "DL",
           "Age"
          ],
          [
           0.3372831647923483,
           "DL",
           "Age"
          ],
          [
           0.3372831647923483,
           "DL",
           "Age"
          ],
          [
           0.3372831647923483,
           "DL",
           "Age"
          ],
          [
           0.3372831647923483,
           "DL",
           "Age"
          ],
          [
           0.3372831647923483,
           "DL",
           "Age"
          ],
          [
           0.3372831647923483,
           "DL",
           "Age"
          ],
          [
           0.3372831647923483,
           "DL",
           "Age"
          ],
          [
           0.3372831647923483,
           "DL",
           "Age"
          ],
          [
           0.3372831647923483,
           "DL",
           "Age"
          ],
          [
           0.3372831647923483,
           "DL",
           "Age"
          ],
          [
           0.3372831647923483,
           "DL",
           "Age"
          ],
          [
           0.3372831647923483,
           "DL",
           "Age"
          ],
          [
           0.3372831647923483,
           "DL",
           "Age"
          ],
          [
           0.3372831647923483,
           "DL",
           "Age"
          ],
          [
           0.3372831647923483,
           "DL",
           "Age"
          ],
          [
           0.3372831647923483,
           "DL",
           "Age"
          ],
          [
           0.3372831647923483,
           "DL",
           "Age"
          ],
          [
           0.3372831647923483,
           "DL",
           "Age"
          ],
          [
           0.3372831647923483,
           "DL",
           "Age"
          ],
          [
           0.3372831647923483,
           "DL",
           "Age"
          ],
          [
           0.3372831647923483,
           "DL",
           "Age"
          ],
          [
           0.3372831647923483,
           "DL",
           "Age"
          ],
          [
           0.3372831647923483,
           "DL",
           "Age"
          ],
          [
           0.3372831647923483,
           "DL",
           "Age"
          ],
          [
           0.3372831647923483,
           "DL",
           "Age"
          ],
          [
           0.3372831647923483,
           "DL",
           "Age"
          ],
          [
           0.3372831647923483,
           "DL",
           "Age"
          ],
          [
           0.3372831647923483,
           "DL",
           "Age"
          ],
          [
           0.3372831647923483,
           "DL",
           "Age"
          ],
          [
           0.3372831647923483,
           "DL",
           "Age"
          ],
          [
           0.3372831647923483,
           "DL",
           "Age"
          ],
          [
           0.3372831647923483,
           "DL",
           "Age"
          ],
          [
           0.3372831647923483,
           "DL",
           "Age"
          ],
          [
           0.3372831647923483,
           "DL",
           "Age"
          ],
          [
           0.3372831647923483,
           "DL",
           "Age"
          ],
          [
           0.3372831647923483,
           "DL",
           "Age"
          ]
         ],
         "hovertemplate": "<b>%{hovertext}</b><br><br>prediction=%{y:.3f}<br>mean_prediction=%{customdata[0]:.3f}<extra></extra>",
         "hovertext": [
          "DL",
          "DL",
          "DL",
          "DL",
          "DL",
          "DL",
          "DL",
          "DL",
          "DL",
          "DL",
          "DL",
          "DL",
          "DL",
          "DL",
          "DL",
          "DL",
          "DL",
          "DL",
          "DL",
          "DL",
          "DL",
          "DL",
          "DL",
          "DL",
          "DL",
          "DL",
          "DL",
          "DL",
          "DL",
          "DL",
          "DL",
          "DL",
          "DL",
          "DL",
          "DL",
          "DL",
          "DL",
          "DL",
          "DL",
          "DL",
          "DL",
          "DL",
          "DL",
          "DL",
          "DL",
          "DL",
          "DL",
          "DL",
          "DL",
          "DL",
          "DL",
          "DL",
          "DL",
          "DL",
          "DL",
          "DL",
          "DL",
          "DL",
          "DL",
          "DL",
          "DL",
          "DL",
          "DL",
          "DL",
          "DL",
          "DL",
          "DL",
          "DL",
          "DL",
          "DL",
          "DL",
          "DL",
          "DL",
          "DL",
          "DL",
          "DL",
          "DL",
          "DL",
          "DL",
          "DL",
          "DL",
          "DL",
          "DL",
          "DL",
          "DL",
          "DL",
          "DL",
          "DL",
          "DL",
          "DL",
          "DL",
          "DL",
          "DL",
          "DL",
          "DL",
          "DL",
          "DL",
          "DL",
          "DL",
          "DL",
          "DL"
         ],
         "legendgroup": "DL",
         "line": {
          "color": "#4378bf",
          "dash": "solid",
          "width": 2
         },
         "marker": {
          "symbol": "circle"
         },
         "mode": "lines",
         "name": "DL",
         "opacity": 1,
         "orientation": "v",
         "showlegend": true,
         "type": "scatter",
         "x": [
          17,
          17.73,
          18.46,
          19.19,
          19.92,
          20.65,
          21.38,
          22.11,
          22.84,
          23.57,
          24.3,
          25.03,
          25.759999999999998,
          26.490000000000002,
          27.22,
          27.95,
          28.68,
          29.41,
          30.14,
          30.869999999999997,
          31.6,
          32.33,
          33.06,
          33.79,
          34.519999999999996,
          35.25,
          35.980000000000004,
          36.71,
          37.44,
          38.17,
          38.9,
          39.629999999999995,
          40.36,
          41.09,
          41.82,
          42.55,
          43.28,
          44.01,
          44.739999999999995,
          45.47,
          46.2,
          46.93,
          47.66,
          48.39,
          49.12,
          49.85,
          50.58,
          51.31,
          52.04,
          52.769999999999996,
          53.5,
          54.23,
          54.96,
          55.69,
          56.42,
          57.15,
          57.879999999999995,
          58.61,
          59.339999999999996,
          60.07,
          60.8,
          61.53,
          62.26,
          62.99,
          63.72,
          64.44999999999999,
          65.18,
          65.91,
          66.64,
          67.37,
          68.1,
          68.83,
          69.56,
          70.28999999999999,
          71.02,
          71.75,
          72.47999999999999,
          73.21000000000001,
          73.94,
          74.67,
          75.4,
          76.13,
          76.86,
          77.59,
          78.32,
          79.05,
          79.78,
          80.50999999999999,
          81.24,
          81.97,
          82.7,
          83.42999999999999,
          84.16,
          84.89,
          85.62,
          86.35,
          87.08,
          87.81,
          88.53999999999999,
          89.27,
          90
         ],
         "xaxis": "x5",
         "y": [
          0.3372831647923477,
          0.3372831647923477,
          0.3372831647923477,
          0.3372831647923477,
          0.3372831647923477,
          0.3372831647923477,
          0.3372831647923477,
          0.3372831647923477,
          0.3372831647923477,
          0.3372831647923477,
          0.3372831647923477,
          0.3372831647923477,
          0.3372831647923477,
          0.3372831647923477,
          0.3372831647923477,
          0.3372831647923477,
          0.3372831647923477,
          0.3372831647923477,
          0.3372831647923477,
          0.3372831647923477,
          0.3372831647923477,
          0.3372831647923477,
          0.3372831647923477,
          0.3372831647923477,
          0.3372831647923477,
          0.3372831647923477,
          0.3372831647923477,
          0.3372831647923477,
          0.3372831647923477,
          0.3372831647923477,
          0.3372831647923477,
          0.3372831647923477,
          0.3372831647923477,
          0.3372831647923477,
          0.3372831647923477,
          0.3372831647923477,
          0.3372831647923477,
          0.3372831647923477,
          0.3372831647923477,
          0.3372831647923477,
          0.3372831647923477,
          0.3372831647923477,
          0.3372831647923477,
          0.3372831647923477,
          0.3372831647923477,
          0.3372831647923477,
          0.3372831647923477,
          0.3372831647923477,
          0.3372831647923477,
          0.3372831647923477,
          0.3372831647923477,
          0.3372831647923477,
          0.3372831647923477,
          0.3372831647923477,
          0.3372831647923477,
          0.3372831647923477,
          0.3372831647923477,
          0.3372831647923477,
          0.3372831647923477,
          0.3372831647923477,
          0.3372831647923477,
          0.3372831647923477,
          0.3372831647923477,
          0.3372831647923477,
          0.3372831647923477,
          0.3372831647923477,
          0.3372831647923477,
          0.3372831647923477,
          0.3372831647923477,
          0.3372831647923477,
          0.3372831647923477,
          0.3372831647923477,
          0.3372831647923477,
          0.3372831647923477,
          0.3372831647923477,
          0.3372831647923477,
          0.3372831647923477,
          0.3372831647923477,
          0.3372831647923477,
          0.3372831647923477,
          0.3372831647923477,
          0.3372831647923477,
          0.3372831647923477,
          0.3372831647923477,
          0.3372831647923477,
          0.3372831647923477,
          0.3372831647923477,
          0.3372831647923477,
          0.3372831647923477,
          0.3372831647923477,
          0.3372831647923477,
          0.3372831647923477,
          0.3372831647923477,
          0.3372831647923477,
          0.3372831647923477,
          0.3372831647923477,
          0.3372831647923477,
          0.3372831647923477,
          0.3372831647923477,
          0.3372831647923477,
          0.3372831647923477
         ],
         "yaxis": "y5"
        },
        {
         "customdata": [
          [
           0.3372831647923483,
           "DL",
           "fnlwgt"
          ],
          [
           0.3372831647923483,
           "DL",
           "fnlwgt"
          ],
          [
           0.3372831647923483,
           "DL",
           "fnlwgt"
          ],
          [
           0.3372831647923483,
           "DL",
           "fnlwgt"
          ],
          [
           0.3372831647923483,
           "DL",
           "fnlwgt"
          ],
          [
           0.3372831647923483,
           "DL",
           "fnlwgt"
          ],
          [
           0.3372831647923483,
           "DL",
           "fnlwgt"
          ],
          [
           0.3372831647923483,
           "DL",
           "fnlwgt"
          ],
          [
           0.3372831647923483,
           "DL",
           "fnlwgt"
          ],
          [
           0.3372831647923483,
           "DL",
           "fnlwgt"
          ],
          [
           0.3372831647923483,
           "DL",
           "fnlwgt"
          ],
          [
           0.3372831647923483,
           "DL",
           "fnlwgt"
          ],
          [
           0.3372831647923483,
           "DL",
           "fnlwgt"
          ],
          [
           0.3372831647923483,
           "DL",
           "fnlwgt"
          ],
          [
           0.3372831647923483,
           "DL",
           "fnlwgt"
          ],
          [
           0.3372831647923483,
           "DL",
           "fnlwgt"
          ],
          [
           0.3372831647923483,
           "DL",
           "fnlwgt"
          ],
          [
           0.3372831647923483,
           "DL",
           "fnlwgt"
          ],
          [
           0.3372831647923483,
           "DL",
           "fnlwgt"
          ],
          [
           0.3372831647923483,
           "DL",
           "fnlwgt"
          ],
          [
           0.3372831647923483,
           "DL",
           "fnlwgt"
          ],
          [
           0.3372831647923483,
           "DL",
           "fnlwgt"
          ],
          [
           0.3372831647923483,
           "DL",
           "fnlwgt"
          ],
          [
           0.3372831647923483,
           "DL",
           "fnlwgt"
          ],
          [
           0.3372831647923483,
           "DL",
           "fnlwgt"
          ],
          [
           0.3372831647923483,
           "DL",
           "fnlwgt"
          ],
          [
           0.3372831647923483,
           "DL",
           "fnlwgt"
          ],
          [
           0.3372831647923483,
           "DL",
           "fnlwgt"
          ],
          [
           0.3372831647923483,
           "DL",
           "fnlwgt"
          ],
          [
           0.3372831647923483,
           "DL",
           "fnlwgt"
          ],
          [
           0.3372831647923483,
           "DL",
           "fnlwgt"
          ],
          [
           0.3372831647923483,
           "DL",
           "fnlwgt"
          ],
          [
           0.3372831647923483,
           "DL",
           "fnlwgt"
          ],
          [
           0.3372831647923483,
           "DL",
           "fnlwgt"
          ],
          [
           0.3372831647923483,
           "DL",
           "fnlwgt"
          ],
          [
           0.3372831647923483,
           "DL",
           "fnlwgt"
          ],
          [
           0.3372831647923483,
           "DL",
           "fnlwgt"
          ],
          [
           0.3372831647923483,
           "DL",
           "fnlwgt"
          ],
          [
           0.3372831647923483,
           "DL",
           "fnlwgt"
          ],
          [
           0.3372831647923483,
           "DL",
           "fnlwgt"
          ],
          [
           0.3372831647923483,
           "DL",
           "fnlwgt"
          ],
          [
           0.3372831647923483,
           "DL",
           "fnlwgt"
          ],
          [
           0.3372831647923483,
           "DL",
           "fnlwgt"
          ],
          [
           0.3372831647923483,
           "DL",
           "fnlwgt"
          ],
          [
           0.3372831647923483,
           "DL",
           "fnlwgt"
          ],
          [
           0.3372831647923483,
           "DL",
           "fnlwgt"
          ],
          [
           0.3372831647923483,
           "DL",
           "fnlwgt"
          ],
          [
           0.3372831647923483,
           "DL",
           "fnlwgt"
          ],
          [
           0.3372831647923483,
           "DL",
           "fnlwgt"
          ],
          [
           0.3372831647923483,
           "DL",
           "fnlwgt"
          ],
          [
           0.3372831647923483,
           "DL",
           "fnlwgt"
          ],
          [
           0.3372831647923483,
           "DL",
           "fnlwgt"
          ],
          [
           0.3372831647923483,
           "DL",
           "fnlwgt"
          ],
          [
           0.3372831647923483,
           "DL",
           "fnlwgt"
          ],
          [
           0.3372831647923483,
           "DL",
           "fnlwgt"
          ],
          [
           0.3372831647923483,
           "DL",
           "fnlwgt"
          ],
          [
           0.3372831647923483,
           "DL",
           "fnlwgt"
          ],
          [
           0.3372831647923483,
           "DL",
           "fnlwgt"
          ],
          [
           0.3372831647923483,
           "DL",
           "fnlwgt"
          ],
          [
           0.3372831647923483,
           "DL",
           "fnlwgt"
          ],
          [
           0.3372831647923483,
           "DL",
           "fnlwgt"
          ],
          [
           0.3372831647923483,
           "DL",
           "fnlwgt"
          ],
          [
           0.3372831647923483,
           "DL",
           "fnlwgt"
          ],
          [
           0.3372831647923483,
           "DL",
           "fnlwgt"
          ],
          [
           0.3372831647923483,
           "DL",
           "fnlwgt"
          ],
          [
           0.3372831647923483,
           "DL",
           "fnlwgt"
          ],
          [
           0.3372831647923483,
           "DL",
           "fnlwgt"
          ],
          [
           0.3372831647923483,
           "DL",
           "fnlwgt"
          ],
          [
           0.3372831647923483,
           "DL",
           "fnlwgt"
          ],
          [
           0.3372831647923483,
           "DL",
           "fnlwgt"
          ],
          [
           0.3372831647923483,
           "DL",
           "fnlwgt"
          ],
          [
           0.3372831647923483,
           "DL",
           "fnlwgt"
          ],
          [
           0.3372831647923483,
           "DL",
           "fnlwgt"
          ],
          [
           0.3372831647923483,
           "DL",
           "fnlwgt"
          ],
          [
           0.3372831647923483,
           "DL",
           "fnlwgt"
          ],
          [
           0.3372831647923483,
           "DL",
           "fnlwgt"
          ],
          [
           0.3372831647923483,
           "DL",
           "fnlwgt"
          ],
          [
           0.3372831647923483,
           "DL",
           "fnlwgt"
          ],
          [
           0.3372831647923483,
           "DL",
           "fnlwgt"
          ],
          [
           0.3372831647923483,
           "DL",
           "fnlwgt"
          ],
          [
           0.3372831647923483,
           "DL",
           "fnlwgt"
          ],
          [
           0.3372831647923483,
           "DL",
           "fnlwgt"
          ],
          [
           0.3372831647923483,
           "DL",
           "fnlwgt"
          ],
          [
           0.3372831647923483,
           "DL",
           "fnlwgt"
          ],
          [
           0.3372831647923483,
           "DL",
           "fnlwgt"
          ],
          [
           0.3372831647923483,
           "DL",
           "fnlwgt"
          ],
          [
           0.3372831647923483,
           "DL",
           "fnlwgt"
          ],
          [
           0.3372831647923483,
           "DL",
           "fnlwgt"
          ],
          [
           0.3372831647923483,
           "DL",
           "fnlwgt"
          ],
          [
           0.3372831647923483,
           "DL",
           "fnlwgt"
          ],
          [
           0.3372831647923483,
           "DL",
           "fnlwgt"
          ],
          [
           0.3372831647923483,
           "DL",
           "fnlwgt"
          ],
          [
           0.3372831647923483,
           "DL",
           "fnlwgt"
          ],
          [
           0.3372831647923483,
           "DL",
           "fnlwgt"
          ],
          [
           0.3372831647923483,
           "DL",
           "fnlwgt"
          ],
          [
           0.3372831647923483,
           "DL",
           "fnlwgt"
          ],
          [
           0.3372831647923483,
           "DL",
           "fnlwgt"
          ],
          [
           0.3372831647923483,
           "DL",
           "fnlwgt"
          ],
          [
           0.3372831647923483,
           "DL",
           "fnlwgt"
          ],
          [
           0.3372831647923483,
           "DL",
           "fnlwgt"
          ],
          [
           0.3372831647923483,
           "DL",
           "fnlwgt"
          ]
         ],
         "hovertemplate": "<b>%{hovertext}</b><br><br>prediction=%{y:.3f}<br>mean_prediction=%{customdata[0]:.3f}<extra></extra>",
         "hovertext": [
          "DL",
          "DL",
          "DL",
          "DL",
          "DL",
          "DL",
          "DL",
          "DL",
          "DL",
          "DL",
          "DL",
          "DL",
          "DL",
          "DL",
          "DL",
          "DL",
          "DL",
          "DL",
          "DL",
          "DL",
          "DL",
          "DL",
          "DL",
          "DL",
          "DL",
          "DL",
          "DL",
          "DL",
          "DL",
          "DL",
          "DL",
          "DL",
          "DL",
          "DL",
          "DL",
          "DL",
          "DL",
          "DL",
          "DL",
          "DL",
          "DL",
          "DL",
          "DL",
          "DL",
          "DL",
          "DL",
          "DL",
          "DL",
          "DL",
          "DL",
          "DL",
          "DL",
          "DL",
          "DL",
          "DL",
          "DL",
          "DL",
          "DL",
          "DL",
          "DL",
          "DL",
          "DL",
          "DL",
          "DL",
          "DL",
          "DL",
          "DL",
          "DL",
          "DL",
          "DL",
          "DL",
          "DL",
          "DL",
          "DL",
          "DL",
          "DL",
          "DL",
          "DL",
          "DL",
          "DL",
          "DL",
          "DL",
          "DL",
          "DL",
          "DL",
          "DL",
          "DL",
          "DL",
          "DL",
          "DL",
          "DL",
          "DL",
          "DL",
          "DL",
          "DL",
          "DL",
          "DL",
          "DL",
          "DL",
          "DL",
          "DL"
         ],
         "legendgroup": "DL",
         "line": {
          "color": "#4378bf",
          "dash": "solid",
          "width": 2
         },
         "marker": {
          "symbol": "circle"
         },
         "mode": "lines",
         "name": "DL",
         "opacity": 1,
         "orientation": "v",
         "showlegend": false,
         "type": "scatter",
         "x": [
          12285,
          27009.2,
          41733.4,
          56457.600000000006,
          71181.8,
          85906,
          100630.20000000001,
          115354.40000000001,
          130078.6,
          144802.80000000002,
          159527,
          174251.2,
          188975.40000000002,
          203699.6,
          218423.80000000002,
          233148,
          247872.2,
          262596.4,
          277320.60000000003,
          292044.8,
          306769,
          321493.2,
          336217.4,
          350941.60000000003,
          365665.80000000005,
          380390,
          395114.2,
          409838.4,
          424562.60000000003,
          439286.80000000005,
          454011,
          468735.2,
          483459.4,
          498183.60000000003,
          512907.80000000005,
          527632,
          542356.2000000001,
          557080.4,
          571804.6,
          586528.8,
          601253,
          615977.2000000001,
          630701.4,
          645425.6,
          660149.8,
          674874,
          689598.2000000001,
          704322.4,
          719046.6000000001,
          733770.8,
          748495,
          763219.2000000001,
          777943.4,
          792667.6000000001,
          807391.8,
          822116,
          836840.2000000001,
          851564.4,
          866288.6000000001,
          881012.8,
          895737,
          910461.2000000001,
          925185.4,
          939909.6000000001,
          954633.8,
          969358,
          984082.2000000001,
          998806.4,
          1013530.6000000001,
          1028254.8,
          1042979,
          1057703.2000000002,
          1072427.4000000001,
          1087151.6,
          1101875.8,
          1116600,
          1131324.2,
          1146048.4000000001,
          1160772.6,
          1175496.8,
          1190221,
          1204945.2,
          1219669.4000000001,
          1234393.6,
          1249117.8,
          1263842,
          1278566.2,
          1293290.4000000001,
          1308014.6,
          1322738.8,
          1337463,
          1352187.2,
          1366911.4000000001,
          1381635.6,
          1396359.8,
          1411084,
          1425808.2000000002,
          1440532.4000000001,
          1455256.6,
          1469980.8,
          1484705
         ],
         "xaxis": "x6",
         "y": [
          0.3372831647923477,
          0.3372831647923477,
          0.3372831647923477,
          0.3372831647923477,
          0.3372831647923477,
          0.3372831647923477,
          0.3372831647923477,
          0.3372831647923477,
          0.3372831647923477,
          0.3372831647923477,
          0.3372831647923477,
          0.3372831647923477,
          0.3372831647923477,
          0.3372831647923477,
          0.3372831647923477,
          0.3372831647923477,
          0.3372831647923477,
          0.3372831647923477,
          0.3372831647923477,
          0.3372831647923477,
          0.3372831647923477,
          0.3372831647923477,
          0.3372831647923477,
          0.3372831647923477,
          0.3372831647923477,
          0.3372831647923477,
          0.3372831647923477,
          0.3372831647923477,
          0.3372831647923477,
          0.3372831647923477,
          0.3372831647923477,
          0.3372831647923477,
          0.3372831647923477,
          0.3372831647923477,
          0.3372831647923477,
          0.3372831647923477,
          0.3372831647923477,
          0.3372831647923477,
          0.3372831647923477,
          0.3372831647923477,
          0.3372831647923477,
          0.3372831647923477,
          0.3372831647923477,
          0.3372831647923477,
          0.3372831647923477,
          0.3372831647923477,
          0.3372831647923477,
          0.3372831647923477,
          0.3372831647923477,
          0.3372831647923477,
          0.3372831647923477,
          0.3372831647923477,
          0.3372831647923477,
          0.3372831647923477,
          0.3372831647923477,
          0.3372831647923477,
          0.3372831647923477,
          0.3372831647923477,
          0.3372831647923477,
          0.3372831647923477,
          0.3372831647923477,
          0.3372831647923477,
          0.3372831647923477,
          0.3372831647923477,
          0.3372831647923477,
          0.3372831647923477,
          0.3372831647923477,
          0.3372831647923477,
          0.3372831647923477,
          0.3372831647923477,
          0.3372831647923477,
          0.3372831647923477,
          0.3372831647923477,
          0.3372831647923477,
          0.3372831647923477,
          0.3372831647923477,
          0.3372831647923477,
          0.3372831647923477,
          0.3372831647923477,
          0.3372831647923477,
          0.3372831647923477,
          0.3372831647923477,
          0.3372831647923477,
          0.3372831647923477,
          0.3372831647923477,
          0.3372831647923477,
          0.3372831647923477,
          0.3372831647923477,
          0.3372831647923477,
          0.3372831647923477,
          0.3372831647923477,
          0.3372831647923477,
          0.3372831647923477,
          0.3372831647923477,
          0.3372831647923477,
          0.3372831647923477,
          0.3372831647923477,
          0.3372831647923477,
          0.3372831647923477,
          0.3372831647923477,
          0.3372831647923477
         ],
         "yaxis": "y6"
        },
        {
         "customdata": [
          [
           0.3372831647923483,
           "DL",
           "EducationNum"
          ],
          [
           0.3372831647923483,
           "DL",
           "EducationNum"
          ],
          [
           0.3372831647923483,
           "DL",
           "EducationNum"
          ],
          [
           0.3372831647923483,
           "DL",
           "EducationNum"
          ],
          [
           0.3372831647923483,
           "DL",
           "EducationNum"
          ],
          [
           0.3372831647923483,
           "DL",
           "EducationNum"
          ],
          [
           0.3372831647923483,
           "DL",
           "EducationNum"
          ],
          [
           0.3372831647923483,
           "DL",
           "EducationNum"
          ],
          [
           0.3372831647923483,
           "DL",
           "EducationNum"
          ],
          [
           0.3372831647923483,
           "DL",
           "EducationNum"
          ],
          [
           0.3372831647923483,
           "DL",
           "EducationNum"
          ],
          [
           0.3372831647923483,
           "DL",
           "EducationNum"
          ],
          [
           0.3372831647923483,
           "DL",
           "EducationNum"
          ],
          [
           0.3372831647923483,
           "DL",
           "EducationNum"
          ],
          [
           0.3372831647923483,
           "DL",
           "EducationNum"
          ],
          [
           0.3372831647923483,
           "DL",
           "EducationNum"
          ],
          [
           0.3372831647923483,
           "DL",
           "EducationNum"
          ],
          [
           0.3372831647923483,
           "DL",
           "EducationNum"
          ],
          [
           0.3372831647923483,
           "DL",
           "EducationNum"
          ],
          [
           0.3372831647923483,
           "DL",
           "EducationNum"
          ],
          [
           0.3372831647923483,
           "DL",
           "EducationNum"
          ],
          [
           0.3372831647923483,
           "DL",
           "EducationNum"
          ],
          [
           0.3372831647923483,
           "DL",
           "EducationNum"
          ],
          [
           0.3372831647923483,
           "DL",
           "EducationNum"
          ],
          [
           0.3372831647923483,
           "DL",
           "EducationNum"
          ],
          [
           0.3372831647923483,
           "DL",
           "EducationNum"
          ],
          [
           0.3372831647923483,
           "DL",
           "EducationNum"
          ],
          [
           0.3372831647923483,
           "DL",
           "EducationNum"
          ],
          [
           0.3372831647923483,
           "DL",
           "EducationNum"
          ],
          [
           0.3372831647923483,
           "DL",
           "EducationNum"
          ],
          [
           0.3372831647923483,
           "DL",
           "EducationNum"
          ],
          [
           0.3372831647923483,
           "DL",
           "EducationNum"
          ],
          [
           0.3372831647923483,
           "DL",
           "EducationNum"
          ],
          [
           0.3372831647923483,
           "DL",
           "EducationNum"
          ],
          [
           0.3372831647923483,
           "DL",
           "EducationNum"
          ],
          [
           0.3372831647923483,
           "DL",
           "EducationNum"
          ],
          [
           0.3372831647923483,
           "DL",
           "EducationNum"
          ],
          [
           0.3372831647923483,
           "DL",
           "EducationNum"
          ],
          [
           0.3372831647923483,
           "DL",
           "EducationNum"
          ],
          [
           0.3372831647923483,
           "DL",
           "EducationNum"
          ],
          [
           0.3372831647923483,
           "DL",
           "EducationNum"
          ],
          [
           0.3372831647923483,
           "DL",
           "EducationNum"
          ],
          [
           0.3372831647923483,
           "DL",
           "EducationNum"
          ],
          [
           0.3372831647923483,
           "DL",
           "EducationNum"
          ],
          [
           0.3372831647923483,
           "DL",
           "EducationNum"
          ],
          [
           0.3372831647923483,
           "DL",
           "EducationNum"
          ],
          [
           0.3372831647923483,
           "DL",
           "EducationNum"
          ],
          [
           0.3372831647923483,
           "DL",
           "EducationNum"
          ],
          [
           0.3372831647923483,
           "DL",
           "EducationNum"
          ],
          [
           0.3372831647923483,
           "DL",
           "EducationNum"
          ],
          [
           0.3372831647923483,
           "DL",
           "EducationNum"
          ],
          [
           0.3372831647923483,
           "DL",
           "EducationNum"
          ],
          [
           0.3372831647923483,
           "DL",
           "EducationNum"
          ],
          [
           0.3372831647923483,
           "DL",
           "EducationNum"
          ],
          [
           0.3372831647923483,
           "DL",
           "EducationNum"
          ],
          [
           0.3372831647923483,
           "DL",
           "EducationNum"
          ],
          [
           0.3372831647923483,
           "DL",
           "EducationNum"
          ],
          [
           0.3372831647923483,
           "DL",
           "EducationNum"
          ],
          [
           0.3372831647923483,
           "DL",
           "EducationNum"
          ],
          [
           0.3372831647923483,
           "DL",
           "EducationNum"
          ],
          [
           0.3372831647923483,
           "DL",
           "EducationNum"
          ],
          [
           0.3372831647923483,
           "DL",
           "EducationNum"
          ],
          [
           0.3372831647923483,
           "DL",
           "EducationNum"
          ],
          [
           0.3372831647923483,
           "DL",
           "EducationNum"
          ],
          [
           0.3372831647923483,
           "DL",
           "EducationNum"
          ],
          [
           0.3372831647923483,
           "DL",
           "EducationNum"
          ],
          [
           0.3372831647923483,
           "DL",
           "EducationNum"
          ],
          [
           0.3372831647923483,
           "DL",
           "EducationNum"
          ],
          [
           0.3372831647923483,
           "DL",
           "EducationNum"
          ],
          [
           0.3372831647923483,
           "DL",
           "EducationNum"
          ],
          [
           0.3372831647923483,
           "DL",
           "EducationNum"
          ],
          [
           0.3372831647923483,
           "DL",
           "EducationNum"
          ],
          [
           0.3372831647923483,
           "DL",
           "EducationNum"
          ],
          [
           0.3372831647923483,
           "DL",
           "EducationNum"
          ],
          [
           0.3372831647923483,
           "DL",
           "EducationNum"
          ],
          [
           0.3372831647923483,
           "DL",
           "EducationNum"
          ],
          [
           0.3372831647923483,
           "DL",
           "EducationNum"
          ],
          [
           0.3372831647923483,
           "DL",
           "EducationNum"
          ],
          [
           0.3372831647923483,
           "DL",
           "EducationNum"
          ],
          [
           0.3372831647923483,
           "DL",
           "EducationNum"
          ],
          [
           0.3372831647923483,
           "DL",
           "EducationNum"
          ],
          [
           0.3372831647923483,
           "DL",
           "EducationNum"
          ],
          [
           0.3372831647923483,
           "DL",
           "EducationNum"
          ],
          [
           0.3372831647923483,
           "DL",
           "EducationNum"
          ],
          [
           0.3372831647923483,
           "DL",
           "EducationNum"
          ],
          [
           0.3372831647923483,
           "DL",
           "EducationNum"
          ],
          [
           0.3372831647923483,
           "DL",
           "EducationNum"
          ],
          [
           0.3372831647923483,
           "DL",
           "EducationNum"
          ],
          [
           0.3372831647923483,
           "DL",
           "EducationNum"
          ],
          [
           0.3372831647923483,
           "DL",
           "EducationNum"
          ],
          [
           0.3372831647923483,
           "DL",
           "EducationNum"
          ],
          [
           0.3372831647923483,
           "DL",
           "EducationNum"
          ],
          [
           0.3372831647923483,
           "DL",
           "EducationNum"
          ],
          [
           0.3372831647923483,
           "DL",
           "EducationNum"
          ],
          [
           0.3372831647923483,
           "DL",
           "EducationNum"
          ],
          [
           0.3372831647923483,
           "DL",
           "EducationNum"
          ],
          [
           0.3372831647923483,
           "DL",
           "EducationNum"
          ],
          [
           0.3372831647923483,
           "DL",
           "EducationNum"
          ],
          [
           0.3372831647923483,
           "DL",
           "EducationNum"
          ],
          [
           0.3372831647923483,
           "DL",
           "EducationNum"
          ],
          [
           0.3372831647923483,
           "DL",
           "EducationNum"
          ]
         ],
         "hovertemplate": "<b>%{hovertext}</b><br><br>prediction=%{y:.3f}<br>mean_prediction=%{customdata[0]:.3f}<extra></extra>",
         "hovertext": [
          "DL",
          "DL",
          "DL",
          "DL",
          "DL",
          "DL",
          "DL",
          "DL",
          "DL",
          "DL",
          "DL",
          "DL",
          "DL",
          "DL",
          "DL",
          "DL",
          "DL",
          "DL",
          "DL",
          "DL",
          "DL",
          "DL",
          "DL",
          "DL",
          "DL",
          "DL",
          "DL",
          "DL",
          "DL",
          "DL",
          "DL",
          "DL",
          "DL",
          "DL",
          "DL",
          "DL",
          "DL",
          "DL",
          "DL",
          "DL",
          "DL",
          "DL",
          "DL",
          "DL",
          "DL",
          "DL",
          "DL",
          "DL",
          "DL",
          "DL",
          "DL",
          "DL",
          "DL",
          "DL",
          "DL",
          "DL",
          "DL",
          "DL",
          "DL",
          "DL",
          "DL",
          "DL",
          "DL",
          "DL",
          "DL",
          "DL",
          "DL",
          "DL",
          "DL",
          "DL",
          "DL",
          "DL",
          "DL",
          "DL",
          "DL",
          "DL",
          "DL",
          "DL",
          "DL",
          "DL",
          "DL",
          "DL",
          "DL",
          "DL",
          "DL",
          "DL",
          "DL",
          "DL",
          "DL",
          "DL",
          "DL",
          "DL",
          "DL",
          "DL",
          "DL",
          "DL",
          "DL",
          "DL",
          "DL",
          "DL",
          "DL"
         ],
         "legendgroup": "DL",
         "line": {
          "color": "#4378bf",
          "dash": "solid",
          "width": 2
         },
         "marker": {
          "symbol": "circle"
         },
         "mode": "lines",
         "name": "DL",
         "opacity": 1,
         "orientation": "v",
         "showlegend": false,
         "type": "scatter",
         "x": [
          1,
          1.15,
          1.3,
          1.45,
          1.6,
          1.75,
          1.9,
          2.05,
          2.2,
          2.3499999999999996,
          2.5,
          2.65,
          2.8,
          2.95,
          3.1,
          3.25,
          3.4,
          3.55,
          3.6999999999999997,
          3.85,
          4,
          4.15,
          4.3,
          4.449999999999999,
          4.6,
          4.75,
          4.9,
          5.05,
          5.2,
          5.35,
          5.5,
          5.6499999999999995,
          5.8,
          5.95,
          6.1,
          6.25,
          6.3999999999999995,
          6.55,
          6.7,
          6.85,
          7,
          7.1499999999999995,
          7.3,
          7.45,
          7.6,
          7.75,
          7.8999999999999995,
          8.05,
          8.2,
          8.35,
          8.5,
          8.649999999999999,
          8.8,
          8.95,
          9.1,
          9.25,
          9.4,
          9.549999999999999,
          9.7,
          9.85,
          10,
          10.15,
          10.299999999999999,
          10.45,
          10.6,
          10.75,
          10.9,
          11.049999999999999,
          11.2,
          11.35,
          11.5,
          11.65,
          11.799999999999999,
          11.95,
          12.1,
          12.25,
          12.4,
          12.549999999999999,
          12.7,
          12.85,
          13,
          13.15,
          13.299999999999999,
          13.45,
          13.6,
          13.75,
          13.9,
          14.049999999999999,
          14.2,
          14.35,
          14.5,
          14.65,
          14.799999999999999,
          14.95,
          15.1,
          15.25,
          15.399999999999999,
          15.549999999999999,
          15.7,
          15.85,
          16
         ],
         "xaxis": "x3",
         "y": [
          0.2682121487692312,
          0.2682121487692312,
          0.2682121487692312,
          0.2682121487692312,
          0.2682121487692312,
          0.2682121487692312,
          0.2682121487692312,
          0.2682121487692312,
          0.2682121487692312,
          0.2682121487692312,
          0.2682121487692312,
          0.2682121487692312,
          0.2682121487692312,
          0.2682121487692312,
          0.2682121487692312,
          0.2682121487692312,
          0.2682121487692312,
          0.2682121487692312,
          0.2682121487692312,
          0.2682121487692312,
          0.2682121487692312,
          0.2682121487692312,
          0.2682121487692312,
          0.2682121487692312,
          0.2682121487692312,
          0.2682121487692312,
          0.2682121487692312,
          0.2682121487692312,
          0.2682121487692312,
          0.2682121487692312,
          0.2682121487692312,
          0.2682121487692312,
          0.2682121487692312,
          0.2682121487692312,
          0.2682121487692312,
          0.2682121487692312,
          0.2682121487692312,
          0.2682121487692312,
          0.2682121487692312,
          0.2682121487692312,
          0.2682121487692312,
          0.2682121487692312,
          0.2682121487692312,
          0.2682121487692312,
          0.2682121487692312,
          0.2682121487692312,
          0.2682121487692312,
          0.2682121487692312,
          0.2682121487692312,
          0.2682121487692312,
          0.2682121487692312,
          0.2682121487692312,
          0.2682121487692312,
          0.2682121487692312,
          0.2682121487692312,
          0.2682121487692312,
          0.2682121487692312,
          0.2682121487692312,
          0.2682121487692312,
          0.2682121487692312,
          0.2682121487692312,
          0.2682121487692312,
          0.2682121487692312,
          0.2682121487692312,
          0.2682121487692312,
          0.2682121487692312,
          0.2682121487692312,
          0.2682121487692312,
          0.2682121487692312,
          0.2682121487692312,
          0.2682121487692312,
          0.2682121487692312,
          0.2682121487692312,
          0.2682121487692312,
          0.2682121487692312,
          0.2682121487692312,
          0.2682121487692312,
          0.5110740267121581,
          0.5110740267121581,
          0.5110740267121581,
          0.5110740267121581,
          0.5110740267121581,
          0.5110740267121581,
          0.5110740267121581,
          0.5110740267121581,
          0.5110740267121581,
          0.5110740267121581,
          0.5110740267121581,
          0.5110740267121581,
          0.5110740267121581,
          0.5110740267121581,
          0.5110740267121581,
          0.5110740267121581,
          0.5110740267121581,
          0.5110740267121581,
          0.5110740267121581,
          0.5110740267121581,
          0.5110740267121581,
          0.5110740267121581,
          0.5110740267121581,
          0.5110740267121581
         ],
         "yaxis": "y3"
        },
        {
         "customdata": [
          [
           0.3372831647923483,
           "DL",
           "CapitalGain"
          ],
          [
           0.3372831647923483,
           "DL",
           "CapitalGain"
          ],
          [
           0.3372831647923483,
           "DL",
           "CapitalGain"
          ],
          [
           0.3372831647923483,
           "DL",
           "CapitalGain"
          ],
          [
           0.3372831647923483,
           "DL",
           "CapitalGain"
          ],
          [
           0.3372831647923483,
           "DL",
           "CapitalGain"
          ],
          [
           0.3372831647923483,
           "DL",
           "CapitalGain"
          ],
          [
           0.3372831647923483,
           "DL",
           "CapitalGain"
          ],
          [
           0.3372831647923483,
           "DL",
           "CapitalGain"
          ],
          [
           0.3372831647923483,
           "DL",
           "CapitalGain"
          ],
          [
           0.3372831647923483,
           "DL",
           "CapitalGain"
          ],
          [
           0.3372831647923483,
           "DL",
           "CapitalGain"
          ],
          [
           0.3372831647923483,
           "DL",
           "CapitalGain"
          ],
          [
           0.3372831647923483,
           "DL",
           "CapitalGain"
          ],
          [
           0.3372831647923483,
           "DL",
           "CapitalGain"
          ],
          [
           0.3372831647923483,
           "DL",
           "CapitalGain"
          ],
          [
           0.3372831647923483,
           "DL",
           "CapitalGain"
          ],
          [
           0.3372831647923483,
           "DL",
           "CapitalGain"
          ],
          [
           0.3372831647923483,
           "DL",
           "CapitalGain"
          ],
          [
           0.3372831647923483,
           "DL",
           "CapitalGain"
          ],
          [
           0.3372831647923483,
           "DL",
           "CapitalGain"
          ],
          [
           0.3372831647923483,
           "DL",
           "CapitalGain"
          ],
          [
           0.3372831647923483,
           "DL",
           "CapitalGain"
          ],
          [
           0.3372831647923483,
           "DL",
           "CapitalGain"
          ],
          [
           0.3372831647923483,
           "DL",
           "CapitalGain"
          ],
          [
           0.3372831647923483,
           "DL",
           "CapitalGain"
          ],
          [
           0.3372831647923483,
           "DL",
           "CapitalGain"
          ],
          [
           0.3372831647923483,
           "DL",
           "CapitalGain"
          ],
          [
           0.3372831647923483,
           "DL",
           "CapitalGain"
          ],
          [
           0.3372831647923483,
           "DL",
           "CapitalGain"
          ],
          [
           0.3372831647923483,
           "DL",
           "CapitalGain"
          ],
          [
           0.3372831647923483,
           "DL",
           "CapitalGain"
          ],
          [
           0.3372831647923483,
           "DL",
           "CapitalGain"
          ],
          [
           0.3372831647923483,
           "DL",
           "CapitalGain"
          ],
          [
           0.3372831647923483,
           "DL",
           "CapitalGain"
          ],
          [
           0.3372831647923483,
           "DL",
           "CapitalGain"
          ],
          [
           0.3372831647923483,
           "DL",
           "CapitalGain"
          ],
          [
           0.3372831647923483,
           "DL",
           "CapitalGain"
          ],
          [
           0.3372831647923483,
           "DL",
           "CapitalGain"
          ],
          [
           0.3372831647923483,
           "DL",
           "CapitalGain"
          ],
          [
           0.3372831647923483,
           "DL",
           "CapitalGain"
          ],
          [
           0.3372831647923483,
           "DL",
           "CapitalGain"
          ],
          [
           0.3372831647923483,
           "DL",
           "CapitalGain"
          ],
          [
           0.3372831647923483,
           "DL",
           "CapitalGain"
          ],
          [
           0.3372831647923483,
           "DL",
           "CapitalGain"
          ],
          [
           0.3372831647923483,
           "DL",
           "CapitalGain"
          ],
          [
           0.3372831647923483,
           "DL",
           "CapitalGain"
          ],
          [
           0.3372831647923483,
           "DL",
           "CapitalGain"
          ],
          [
           0.3372831647923483,
           "DL",
           "CapitalGain"
          ],
          [
           0.3372831647923483,
           "DL",
           "CapitalGain"
          ],
          [
           0.3372831647923483,
           "DL",
           "CapitalGain"
          ],
          [
           0.3372831647923483,
           "DL",
           "CapitalGain"
          ],
          [
           0.3372831647923483,
           "DL",
           "CapitalGain"
          ],
          [
           0.3372831647923483,
           "DL",
           "CapitalGain"
          ],
          [
           0.3372831647923483,
           "DL",
           "CapitalGain"
          ],
          [
           0.3372831647923483,
           "DL",
           "CapitalGain"
          ],
          [
           0.3372831647923483,
           "DL",
           "CapitalGain"
          ],
          [
           0.3372831647923483,
           "DL",
           "CapitalGain"
          ],
          [
           0.3372831647923483,
           "DL",
           "CapitalGain"
          ],
          [
           0.3372831647923483,
           "DL",
           "CapitalGain"
          ],
          [
           0.3372831647923483,
           "DL",
           "CapitalGain"
          ],
          [
           0.3372831647923483,
           "DL",
           "CapitalGain"
          ],
          [
           0.3372831647923483,
           "DL",
           "CapitalGain"
          ],
          [
           0.3372831647923483,
           "DL",
           "CapitalGain"
          ],
          [
           0.3372831647923483,
           "DL",
           "CapitalGain"
          ],
          [
           0.3372831647923483,
           "DL",
           "CapitalGain"
          ],
          [
           0.3372831647923483,
           "DL",
           "CapitalGain"
          ],
          [
           0.3372831647923483,
           "DL",
           "CapitalGain"
          ],
          [
           0.3372831647923483,
           "DL",
           "CapitalGain"
          ],
          [
           0.3372831647923483,
           "DL",
           "CapitalGain"
          ],
          [
           0.3372831647923483,
           "DL",
           "CapitalGain"
          ],
          [
           0.3372831647923483,
           "DL",
           "CapitalGain"
          ],
          [
           0.3372831647923483,
           "DL",
           "CapitalGain"
          ],
          [
           0.3372831647923483,
           "DL",
           "CapitalGain"
          ],
          [
           0.3372831647923483,
           "DL",
           "CapitalGain"
          ],
          [
           0.3372831647923483,
           "DL",
           "CapitalGain"
          ],
          [
           0.3372831647923483,
           "DL",
           "CapitalGain"
          ],
          [
           0.3372831647923483,
           "DL",
           "CapitalGain"
          ],
          [
           0.3372831647923483,
           "DL",
           "CapitalGain"
          ],
          [
           0.3372831647923483,
           "DL",
           "CapitalGain"
          ],
          [
           0.3372831647923483,
           "DL",
           "CapitalGain"
          ],
          [
           0.3372831647923483,
           "DL",
           "CapitalGain"
          ],
          [
           0.3372831647923483,
           "DL",
           "CapitalGain"
          ],
          [
           0.3372831647923483,
           "DL",
           "CapitalGain"
          ],
          [
           0.3372831647923483,
           "DL",
           "CapitalGain"
          ],
          [
           0.3372831647923483,
           "DL",
           "CapitalGain"
          ],
          [
           0.3372831647923483,
           "DL",
           "CapitalGain"
          ],
          [
           0.3372831647923483,
           "DL",
           "CapitalGain"
          ],
          [
           0.3372831647923483,
           "DL",
           "CapitalGain"
          ],
          [
           0.3372831647923483,
           "DL",
           "CapitalGain"
          ],
          [
           0.3372831647923483,
           "DL",
           "CapitalGain"
          ],
          [
           0.3372831647923483,
           "DL",
           "CapitalGain"
          ],
          [
           0.3372831647923483,
           "DL",
           "CapitalGain"
          ],
          [
           0.3372831647923483,
           "DL",
           "CapitalGain"
          ],
          [
           0.3372831647923483,
           "DL",
           "CapitalGain"
          ],
          [
           0.3372831647923483,
           "DL",
           "CapitalGain"
          ],
          [
           0.3372831647923483,
           "DL",
           "CapitalGain"
          ],
          [
           0.3372831647923483,
           "DL",
           "CapitalGain"
          ],
          [
           0.3372831647923483,
           "DL",
           "CapitalGain"
          ],
          [
           0.3372831647923483,
           "DL",
           "CapitalGain"
          ],
          [
           0.3372831647923483,
           "DL",
           "CapitalGain"
          ]
         ],
         "hovertemplate": "<b>%{hovertext}</b><br><br>prediction=%{y:.3f}<br>mean_prediction=%{customdata[0]:.3f}<extra></extra>",
         "hovertext": [
          "DL",
          "DL",
          "DL",
          "DL",
          "DL",
          "DL",
          "DL",
          "DL",
          "DL",
          "DL",
          "DL",
          "DL",
          "DL",
          "DL",
          "DL",
          "DL",
          "DL",
          "DL",
          "DL",
          "DL",
          "DL",
          "DL",
          "DL",
          "DL",
          "DL",
          "DL",
          "DL",
          "DL",
          "DL",
          "DL",
          "DL",
          "DL",
          "DL",
          "DL",
          "DL",
          "DL",
          "DL",
          "DL",
          "DL",
          "DL",
          "DL",
          "DL",
          "DL",
          "DL",
          "DL",
          "DL",
          "DL",
          "DL",
          "DL",
          "DL",
          "DL",
          "DL",
          "DL",
          "DL",
          "DL",
          "DL",
          "DL",
          "DL",
          "DL",
          "DL",
          "DL",
          "DL",
          "DL",
          "DL",
          "DL",
          "DL",
          "DL",
          "DL",
          "DL",
          "DL",
          "DL",
          "DL",
          "DL",
          "DL",
          "DL",
          "DL",
          "DL",
          "DL",
          "DL",
          "DL",
          "DL",
          "DL",
          "DL",
          "DL",
          "DL",
          "DL",
          "DL",
          "DL",
          "DL",
          "DL",
          "DL",
          "DL",
          "DL",
          "DL",
          "DL",
          "DL",
          "DL",
          "DL",
          "DL",
          "DL",
          "DL"
         ],
         "legendgroup": "DL",
         "line": {
          "color": "#4378bf",
          "dash": "solid",
          "width": 2
         },
         "marker": {
          "symbol": "circle"
         },
         "mode": "lines",
         "name": "DL",
         "opacity": 1,
         "orientation": "v",
         "showlegend": false,
         "type": "scatter",
         "x": [
          0,
          999.99,
          1999.98,
          2999.9700000000003,
          3999.96,
          4999.95,
          5999.9400000000005,
          6999.93,
          7999.92,
          8999.91,
          9999.9,
          10999.89,
          11999.880000000001,
          12999.87,
          13999.86,
          14999.85,
          15999.84,
          16999.83,
          17999.82,
          18999.81,
          19999.8,
          20999.79,
          21999.78,
          22999.77,
          23999.760000000002,
          24999.75,
          25999.74,
          26999.73,
          27999.72,
          28999.71,
          29999.7,
          30999.69,
          31999.68,
          32999.67,
          33999.66,
          34999.65,
          35999.64,
          36999.63,
          37999.62,
          38999.61,
          39999.6,
          40999.590000000004,
          41999.58,
          42999.57,
          43999.56,
          44999.55,
          45999.54,
          46999.53,
          47999.520000000004,
          48999.51,
          49999.5,
          50999.49,
          51999.48,
          52999.47,
          53999.46,
          54999.45,
          55999.44,
          56999.43,
          57999.42,
          58999.41,
          59999.4,
          60999.39,
          61999.38,
          62999.37,
          63999.36,
          64999.35,
          65999.34,
          66999.33,
          67999.32,
          68999.31,
          69999.3,
          70999.29,
          71999.28,
          72999.27,
          73999.26,
          74999.25,
          75999.24,
          76999.23,
          77999.22,
          78999.21,
          79999.2,
          80999.19,
          81999.18000000001,
          82999.17,
          83999.16,
          84999.15,
          85999.14,
          86999.13,
          87999.12,
          88999.11,
          89999.1,
          90999.09,
          91999.08,
          92999.07,
          93999.06,
          94999.05,
          95999.04000000001,
          96999.03,
          97999.02,
          98999.01,
          99999
         ],
         "xaxis": "x4",
         "y": [
          0.30008327954067243,
          0.30008327954067243,
          0.30008327954067243,
          0.30008327954067243,
          0.5097561898273424,
          0.8698624136234268,
          0.8774939476729698,
          0.8803032052113225,
          0.8803032052113225,
          0.8803032052113225,
          0.8803032052113225,
          0.8803032052113225,
          0.8803032052113225,
          0.8803032052113225,
          0.8803032052113225,
          0.8803032052113225,
          0.8803032052113225,
          0.8803032052113225,
          0.8803032052113225,
          0.8803032052113225,
          0.8803032052113225,
          0.8803032052113225,
          0.8803032052113225,
          0.8803032052113225,
          0.8803032052113225,
          0.8803032052113225,
          0.8803032052113225,
          0.8803032052113225,
          0.8803032052113225,
          0.8803032052113225,
          0.8803032052113225,
          0.8803032052113225,
          0.8803032052113225,
          0.8803032052113225,
          0.8803032052113225,
          0.8803032052113225,
          0.8803032052113225,
          0.8803032052113225,
          0.8803032052113225,
          0.8803032052113225,
          0.8803032052113225,
          0.8803032052113225,
          0.8803032052113225,
          0.8803032052113225,
          0.8803032052113225,
          0.8803032052113225,
          0.8803032052113225,
          0.8803032052113225,
          0.8803032052113225,
          0.8803032052113225,
          0.8803032052113225,
          0.8803032052113225,
          0.8803032052113225,
          0.8803032052113225,
          0.8803032052113225,
          0.8803032052113225,
          0.8803032052113225,
          0.8803032052113225,
          0.8803032052113225,
          0.8803032052113225,
          0.8803032052113225,
          0.8803032052113225,
          0.8803032052113225,
          0.8803032052113225,
          0.8803032052113225,
          0.8803032052113225,
          0.8803032052113225,
          0.8803032052113225,
          0.8803032052113225,
          0.8803032052113225,
          0.8803032052113225,
          0.8803032052113225,
          0.8803032052113225,
          0.8803032052113225,
          0.8803032052113225,
          0.8803032052113225,
          0.8803032052113225,
          0.8803032052113225,
          0.8803032052113225,
          0.8803032052113225,
          0.8803032052113225,
          0.8803032052113225,
          0.8803032052113225,
          0.8803032052113225,
          0.8803032052113225,
          0.8803032052113225,
          0.8803032052113225,
          0.8803032052113225,
          0.8803032052113225,
          0.8803032052113225,
          0.8803032052113225,
          0.8803032052113225,
          0.8803032052113225,
          0.8803032052113225,
          0.8803032052113225,
          0.8803032052113225,
          0.8803032052113225,
          0.8803032052113225,
          0.8803032052113225,
          0.8803032052113225,
          0.8803032052113225
         ],
         "yaxis": "y4"
        },
        {
         "customdata": [
          [
           0.3372831647923483,
           "DL",
           "CapitalLoss"
          ],
          [
           0.3372831647923483,
           "DL",
           "CapitalLoss"
          ],
          [
           0.3372831647923483,
           "DL",
           "CapitalLoss"
          ],
          [
           0.3372831647923483,
           "DL",
           "CapitalLoss"
          ],
          [
           0.3372831647923483,
           "DL",
           "CapitalLoss"
          ],
          [
           0.3372831647923483,
           "DL",
           "CapitalLoss"
          ],
          [
           0.3372831647923483,
           "DL",
           "CapitalLoss"
          ],
          [
           0.3372831647923483,
           "DL",
           "CapitalLoss"
          ],
          [
           0.3372831647923483,
           "DL",
           "CapitalLoss"
          ],
          [
           0.3372831647923483,
           "DL",
           "CapitalLoss"
          ],
          [
           0.3372831647923483,
           "DL",
           "CapitalLoss"
          ],
          [
           0.3372831647923483,
           "DL",
           "CapitalLoss"
          ],
          [
           0.3372831647923483,
           "DL",
           "CapitalLoss"
          ],
          [
           0.3372831647923483,
           "DL",
           "CapitalLoss"
          ],
          [
           0.3372831647923483,
           "DL",
           "CapitalLoss"
          ],
          [
           0.3372831647923483,
           "DL",
           "CapitalLoss"
          ],
          [
           0.3372831647923483,
           "DL",
           "CapitalLoss"
          ],
          [
           0.3372831647923483,
           "DL",
           "CapitalLoss"
          ],
          [
           0.3372831647923483,
           "DL",
           "CapitalLoss"
          ],
          [
           0.3372831647923483,
           "DL",
           "CapitalLoss"
          ],
          [
           0.3372831647923483,
           "DL",
           "CapitalLoss"
          ],
          [
           0.3372831647923483,
           "DL",
           "CapitalLoss"
          ],
          [
           0.3372831647923483,
           "DL",
           "CapitalLoss"
          ],
          [
           0.3372831647923483,
           "DL",
           "CapitalLoss"
          ],
          [
           0.3372831647923483,
           "DL",
           "CapitalLoss"
          ],
          [
           0.3372831647923483,
           "DL",
           "CapitalLoss"
          ],
          [
           0.3372831647923483,
           "DL",
           "CapitalLoss"
          ],
          [
           0.3372831647923483,
           "DL",
           "CapitalLoss"
          ],
          [
           0.3372831647923483,
           "DL",
           "CapitalLoss"
          ],
          [
           0.3372831647923483,
           "DL",
           "CapitalLoss"
          ],
          [
           0.3372831647923483,
           "DL",
           "CapitalLoss"
          ],
          [
           0.3372831647923483,
           "DL",
           "CapitalLoss"
          ],
          [
           0.3372831647923483,
           "DL",
           "CapitalLoss"
          ],
          [
           0.3372831647923483,
           "DL",
           "CapitalLoss"
          ],
          [
           0.3372831647923483,
           "DL",
           "CapitalLoss"
          ],
          [
           0.3372831647923483,
           "DL",
           "CapitalLoss"
          ],
          [
           0.3372831647923483,
           "DL",
           "CapitalLoss"
          ],
          [
           0.3372831647923483,
           "DL",
           "CapitalLoss"
          ],
          [
           0.3372831647923483,
           "DL",
           "CapitalLoss"
          ],
          [
           0.3372831647923483,
           "DL",
           "CapitalLoss"
          ],
          [
           0.3372831647923483,
           "DL",
           "CapitalLoss"
          ],
          [
           0.3372831647923483,
           "DL",
           "CapitalLoss"
          ],
          [
           0.3372831647923483,
           "DL",
           "CapitalLoss"
          ],
          [
           0.3372831647923483,
           "DL",
           "CapitalLoss"
          ],
          [
           0.3372831647923483,
           "DL",
           "CapitalLoss"
          ],
          [
           0.3372831647923483,
           "DL",
           "CapitalLoss"
          ],
          [
           0.3372831647923483,
           "DL",
           "CapitalLoss"
          ],
          [
           0.3372831647923483,
           "DL",
           "CapitalLoss"
          ],
          [
           0.3372831647923483,
           "DL",
           "CapitalLoss"
          ],
          [
           0.3372831647923483,
           "DL",
           "CapitalLoss"
          ],
          [
           0.3372831647923483,
           "DL",
           "CapitalLoss"
          ],
          [
           0.3372831647923483,
           "DL",
           "CapitalLoss"
          ],
          [
           0.3372831647923483,
           "DL",
           "CapitalLoss"
          ],
          [
           0.3372831647923483,
           "DL",
           "CapitalLoss"
          ],
          [
           0.3372831647923483,
           "DL",
           "CapitalLoss"
          ],
          [
           0.3372831647923483,
           "DL",
           "CapitalLoss"
          ],
          [
           0.3372831647923483,
           "DL",
           "CapitalLoss"
          ],
          [
           0.3372831647923483,
           "DL",
           "CapitalLoss"
          ],
          [
           0.3372831647923483,
           "DL",
           "CapitalLoss"
          ],
          [
           0.3372831647923483,
           "DL",
           "CapitalLoss"
          ],
          [
           0.3372831647923483,
           "DL",
           "CapitalLoss"
          ],
          [
           0.3372831647923483,
           "DL",
           "CapitalLoss"
          ],
          [
           0.3372831647923483,
           "DL",
           "CapitalLoss"
          ],
          [
           0.3372831647923483,
           "DL",
           "CapitalLoss"
          ],
          [
           0.3372831647923483,
           "DL",
           "CapitalLoss"
          ],
          [
           0.3372831647923483,
           "DL",
           "CapitalLoss"
          ],
          [
           0.3372831647923483,
           "DL",
           "CapitalLoss"
          ],
          [
           0.3372831647923483,
           "DL",
           "CapitalLoss"
          ],
          [
           0.3372831647923483,
           "DL",
           "CapitalLoss"
          ],
          [
           0.3372831647923483,
           "DL",
           "CapitalLoss"
          ],
          [
           0.3372831647923483,
           "DL",
           "CapitalLoss"
          ],
          [
           0.3372831647923483,
           "DL",
           "CapitalLoss"
          ],
          [
           0.3372831647923483,
           "DL",
           "CapitalLoss"
          ],
          [
           0.3372831647923483,
           "DL",
           "CapitalLoss"
          ],
          [
           0.3372831647923483,
           "DL",
           "CapitalLoss"
          ],
          [
           0.3372831647923483,
           "DL",
           "CapitalLoss"
          ],
          [
           0.3372831647923483,
           "DL",
           "CapitalLoss"
          ],
          [
           0.3372831647923483,
           "DL",
           "CapitalLoss"
          ],
          [
           0.3372831647923483,
           "DL",
           "CapitalLoss"
          ],
          [
           0.3372831647923483,
           "DL",
           "CapitalLoss"
          ],
          [
           0.3372831647923483,
           "DL",
           "CapitalLoss"
          ],
          [
           0.3372831647923483,
           "DL",
           "CapitalLoss"
          ],
          [
           0.3372831647923483,
           "DL",
           "CapitalLoss"
          ],
          [
           0.3372831647923483,
           "DL",
           "CapitalLoss"
          ],
          [
           0.3372831647923483,
           "DL",
           "CapitalLoss"
          ],
          [
           0.3372831647923483,
           "DL",
           "CapitalLoss"
          ],
          [
           0.3372831647923483,
           "DL",
           "CapitalLoss"
          ],
          [
           0.3372831647923483,
           "DL",
           "CapitalLoss"
          ],
          [
           0.3372831647923483,
           "DL",
           "CapitalLoss"
          ],
          [
           0.3372831647923483,
           "DL",
           "CapitalLoss"
          ],
          [
           0.3372831647923483,
           "DL",
           "CapitalLoss"
          ],
          [
           0.3372831647923483,
           "DL",
           "CapitalLoss"
          ],
          [
           0.3372831647923483,
           "DL",
           "CapitalLoss"
          ],
          [
           0.3372831647923483,
           "DL",
           "CapitalLoss"
          ],
          [
           0.3372831647923483,
           "DL",
           "CapitalLoss"
          ],
          [
           0.3372831647923483,
           "DL",
           "CapitalLoss"
          ],
          [
           0.3372831647923483,
           "DL",
           "CapitalLoss"
          ],
          [
           0.3372831647923483,
           "DL",
           "CapitalLoss"
          ],
          [
           0.3372831647923483,
           "DL",
           "CapitalLoss"
          ],
          [
           0.3372831647923483,
           "DL",
           "CapitalLoss"
          ],
          [
           0.3372831647923483,
           "DL",
           "CapitalLoss"
          ]
         ],
         "hovertemplate": "<b>%{hovertext}</b><br><br>prediction=%{y:.3f}<br>mean_prediction=%{customdata[0]:.3f}<extra></extra>",
         "hovertext": [
          "DL",
          "DL",
          "DL",
          "DL",
          "DL",
          "DL",
          "DL",
          "DL",
          "DL",
          "DL",
          "DL",
          "DL",
          "DL",
          "DL",
          "DL",
          "DL",
          "DL",
          "DL",
          "DL",
          "DL",
          "DL",
          "DL",
          "DL",
          "DL",
          "DL",
          "DL",
          "DL",
          "DL",
          "DL",
          "DL",
          "DL",
          "DL",
          "DL",
          "DL",
          "DL",
          "DL",
          "DL",
          "DL",
          "DL",
          "DL",
          "DL",
          "DL",
          "DL",
          "DL",
          "DL",
          "DL",
          "DL",
          "DL",
          "DL",
          "DL",
          "DL",
          "DL",
          "DL",
          "DL",
          "DL",
          "DL",
          "DL",
          "DL",
          "DL",
          "DL",
          "DL",
          "DL",
          "DL",
          "DL",
          "DL",
          "DL",
          "DL",
          "DL",
          "DL",
          "DL",
          "DL",
          "DL",
          "DL",
          "DL",
          "DL",
          "DL",
          "DL",
          "DL",
          "DL",
          "DL",
          "DL",
          "DL",
          "DL",
          "DL",
          "DL",
          "DL",
          "DL",
          "DL",
          "DL",
          "DL",
          "DL",
          "DL",
          "DL",
          "DL",
          "DL",
          "DL",
          "DL",
          "DL",
          "DL",
          "DL",
          "DL"
         ],
         "legendgroup": "DL",
         "line": {
          "color": "#4378bf",
          "dash": "solid",
          "width": 2
         },
         "marker": {
          "symbol": "circle"
         },
         "mode": "lines",
         "name": "DL",
         "opacity": 1,
         "orientation": "v",
         "showlegend": false,
         "type": "scatter",
         "x": [
          0,
          43.56,
          87.12,
          130.68,
          174.24,
          217.8,
          261.36,
          304.92,
          348.48,
          392.04,
          435.6,
          479.16,
          522.72,
          566.28,
          609.84,
          653.4000000000001,
          696.96,
          740.52,
          784.08,
          827.6400000000001,
          871.2,
          914.76,
          958.32,
          1001.8800000000001,
          1045.44,
          1089,
          1132.56,
          1176.1200000000001,
          1219.68,
          1263.24,
          1306.8000000000002,
          1350.3600000000001,
          1393.92,
          1437.48,
          1481.04,
          1524.6000000000001,
          1568.16,
          1611.72,
          1655.2800000000002,
          1698.8400000000001,
          1742.4,
          1785.96,
          1829.52,
          1873.0800000000002,
          1916.64,
          1960.2,
          2003.7600000000002,
          2047.3200000000002,
          2090.88,
          2134.44,
          2178,
          2221.56,
          2265.12,
          2308.6800000000003,
          2352.2400000000002,
          2395.8,
          2439.36,
          2482.92,
          2526.48,
          2570.04,
          2613.6000000000004,
          2657.1600000000003,
          2700.7200000000003,
          2744.28,
          2787.84,
          2831.4,
          2874.96,
          2918.52,
          2962.08,
          3005.6400000000003,
          3049.2000000000003,
          3092.76,
          3136.32,
          3179.88,
          3223.44,
          3267,
          3310.5600000000004,
          3354.1200000000003,
          3397.6800000000003,
          3441.2400000000002,
          3484.8,
          3528.36,
          3571.92,
          3615.48,
          3659.04,
          3702.6000000000004,
          3746.1600000000003,
          3789.7200000000003,
          3833.28,
          3876.84,
          3920.4,
          3963.96,
          4007.5200000000004,
          4051.0800000000004,
          4094.6400000000003,
          4138.2,
          4181.76,
          4225.320000000001,
          4268.88,
          4312.4400000000005,
          4356
         ],
         "xaxis": "x",
         "y": [
          0.33142726175440923,
          0.33142726175440923,
          0.33142726175440923,
          0.33142726175440923,
          0.33142726175440923,
          0.33142726175440923,
          0.33142726175440923,
          0.33142726175440923,
          0.33142726175440923,
          0.33142726175440923,
          0.33142726175440923,
          0.33142726175440923,
          0.33142726175440923,
          0.33142726175440923,
          0.33142726175440923,
          0.33142726175440923,
          0.33142726175440923,
          0.33142726175440923,
          0.33142726175440923,
          0.33142726175440923,
          0.33142726175440923,
          0.33142726175440923,
          0.33142726175440923,
          0.33142726175440923,
          0.33142726175440923,
          0.33142726175440923,
          0.33142726175440923,
          0.33142726175440923,
          0.33142726175440923,
          0.33142726175440923,
          0.33142726175440923,
          0.33142726175440923,
          0.33142726175440923,
          0.33142726175440923,
          0.33142726175440923,
          0.33142726175440923,
          0.33142726175440923,
          0.33142726175440923,
          0.33142726175440923,
          0.33142726175440923,
          0.57503282813265,
          0.57503282813265,
          0.57503282813265,
          0.57503282813265,
          0.57503282813265,
          0.57503282813265,
          0.57503282813265,
          0.57503282813265,
          0.57503282813265,
          0.57503282813265,
          0.57503282813265,
          0.57503282813265,
          0.57503282813265,
          0.57503282813265,
          0.57503282813265,
          0.57503282813265,
          0.57503282813265,
          0.57503282813265,
          0.57503282813265,
          0.57503282813265,
          0.57503282813265,
          0.57503282813265,
          0.57503282813265,
          0.57503282813265,
          0.57503282813265,
          0.57503282813265,
          0.57503282813265,
          0.57503282813265,
          0.57503282813265,
          0.57503282813265,
          0.57503282813265,
          0.57503282813265,
          0.57503282813265,
          0.57503282813265,
          0.57503282813265,
          0.57503282813265,
          0.57503282813265,
          0.57503282813265,
          0.57503282813265,
          0.57503282813265,
          0.57503282813265,
          0.57503282813265,
          0.57503282813265,
          0.57503282813265,
          0.57503282813265,
          0.57503282813265,
          0.57503282813265,
          0.57503282813265,
          0.57503282813265,
          0.57503282813265,
          0.57503282813265,
          0.57503282813265,
          0.57503282813265,
          0.57503282813265,
          0.57503282813265,
          0.57503282813265,
          0.57503282813265,
          0.57503282813265,
          0.57503282813265,
          0.57503282813265,
          0.57503282813265
         ],
         "yaxis": "y"
        },
        {
         "customdata": [
          [
           0.3372831647923483,
           "DL",
           "HoursPerWeek"
          ],
          [
           0.3372831647923483,
           "DL",
           "HoursPerWeek"
          ],
          [
           0.3372831647923483,
           "DL",
           "HoursPerWeek"
          ],
          [
           0.3372831647923483,
           "DL",
           "HoursPerWeek"
          ],
          [
           0.3372831647923483,
           "DL",
           "HoursPerWeek"
          ],
          [
           0.3372831647923483,
           "DL",
           "HoursPerWeek"
          ],
          [
           0.3372831647923483,
           "DL",
           "HoursPerWeek"
          ],
          [
           0.3372831647923483,
           "DL",
           "HoursPerWeek"
          ],
          [
           0.3372831647923483,
           "DL",
           "HoursPerWeek"
          ],
          [
           0.3372831647923483,
           "DL",
           "HoursPerWeek"
          ],
          [
           0.3372831647923483,
           "DL",
           "HoursPerWeek"
          ],
          [
           0.3372831647923483,
           "DL",
           "HoursPerWeek"
          ],
          [
           0.3372831647923483,
           "DL",
           "HoursPerWeek"
          ],
          [
           0.3372831647923483,
           "DL",
           "HoursPerWeek"
          ],
          [
           0.3372831647923483,
           "DL",
           "HoursPerWeek"
          ],
          [
           0.3372831647923483,
           "DL",
           "HoursPerWeek"
          ],
          [
           0.3372831647923483,
           "DL",
           "HoursPerWeek"
          ],
          [
           0.3372831647923483,
           "DL",
           "HoursPerWeek"
          ],
          [
           0.3372831647923483,
           "DL",
           "HoursPerWeek"
          ],
          [
           0.3372831647923483,
           "DL",
           "HoursPerWeek"
          ],
          [
           0.3372831647923483,
           "DL",
           "HoursPerWeek"
          ],
          [
           0.3372831647923483,
           "DL",
           "HoursPerWeek"
          ],
          [
           0.3372831647923483,
           "DL",
           "HoursPerWeek"
          ],
          [
           0.3372831647923483,
           "DL",
           "HoursPerWeek"
          ],
          [
           0.3372831647923483,
           "DL",
           "HoursPerWeek"
          ],
          [
           0.3372831647923483,
           "DL",
           "HoursPerWeek"
          ],
          [
           0.3372831647923483,
           "DL",
           "HoursPerWeek"
          ],
          [
           0.3372831647923483,
           "DL",
           "HoursPerWeek"
          ],
          [
           0.3372831647923483,
           "DL",
           "HoursPerWeek"
          ],
          [
           0.3372831647923483,
           "DL",
           "HoursPerWeek"
          ],
          [
           0.3372831647923483,
           "DL",
           "HoursPerWeek"
          ],
          [
           0.3372831647923483,
           "DL",
           "HoursPerWeek"
          ],
          [
           0.3372831647923483,
           "DL",
           "HoursPerWeek"
          ],
          [
           0.3372831647923483,
           "DL",
           "HoursPerWeek"
          ],
          [
           0.3372831647923483,
           "DL",
           "HoursPerWeek"
          ],
          [
           0.3372831647923483,
           "DL",
           "HoursPerWeek"
          ],
          [
           0.3372831647923483,
           "DL",
           "HoursPerWeek"
          ],
          [
           0.3372831647923483,
           "DL",
           "HoursPerWeek"
          ],
          [
           0.3372831647923483,
           "DL",
           "HoursPerWeek"
          ],
          [
           0.3372831647923483,
           "DL",
           "HoursPerWeek"
          ],
          [
           0.3372831647923483,
           "DL",
           "HoursPerWeek"
          ],
          [
           0.3372831647923483,
           "DL",
           "HoursPerWeek"
          ],
          [
           0.3372831647923483,
           "DL",
           "HoursPerWeek"
          ],
          [
           0.3372831647923483,
           "DL",
           "HoursPerWeek"
          ],
          [
           0.3372831647923483,
           "DL",
           "HoursPerWeek"
          ],
          [
           0.3372831647923483,
           "DL",
           "HoursPerWeek"
          ],
          [
           0.3372831647923483,
           "DL",
           "HoursPerWeek"
          ],
          [
           0.3372831647923483,
           "DL",
           "HoursPerWeek"
          ],
          [
           0.3372831647923483,
           "DL",
           "HoursPerWeek"
          ],
          [
           0.3372831647923483,
           "DL",
           "HoursPerWeek"
          ],
          [
           0.3372831647923483,
           "DL",
           "HoursPerWeek"
          ],
          [
           0.3372831647923483,
           "DL",
           "HoursPerWeek"
          ],
          [
           0.3372831647923483,
           "DL",
           "HoursPerWeek"
          ],
          [
           0.3372831647923483,
           "DL",
           "HoursPerWeek"
          ],
          [
           0.3372831647923483,
           "DL",
           "HoursPerWeek"
          ],
          [
           0.3372831647923483,
           "DL",
           "HoursPerWeek"
          ],
          [
           0.3372831647923483,
           "DL",
           "HoursPerWeek"
          ],
          [
           0.3372831647923483,
           "DL",
           "HoursPerWeek"
          ],
          [
           0.3372831647923483,
           "DL",
           "HoursPerWeek"
          ],
          [
           0.3372831647923483,
           "DL",
           "HoursPerWeek"
          ],
          [
           0.3372831647923483,
           "DL",
           "HoursPerWeek"
          ],
          [
           0.3372831647923483,
           "DL",
           "HoursPerWeek"
          ],
          [
           0.3372831647923483,
           "DL",
           "HoursPerWeek"
          ],
          [
           0.3372831647923483,
           "DL",
           "HoursPerWeek"
          ],
          [
           0.3372831647923483,
           "DL",
           "HoursPerWeek"
          ],
          [
           0.3372831647923483,
           "DL",
           "HoursPerWeek"
          ],
          [
           0.3372831647923483,
           "DL",
           "HoursPerWeek"
          ],
          [
           0.3372831647923483,
           "DL",
           "HoursPerWeek"
          ],
          [
           0.3372831647923483,
           "DL",
           "HoursPerWeek"
          ],
          [
           0.3372831647923483,
           "DL",
           "HoursPerWeek"
          ],
          [
           0.3372831647923483,
           "DL",
           "HoursPerWeek"
          ],
          [
           0.3372831647923483,
           "DL",
           "HoursPerWeek"
          ],
          [
           0.3372831647923483,
           "DL",
           "HoursPerWeek"
          ],
          [
           0.3372831647923483,
           "DL",
           "HoursPerWeek"
          ],
          [
           0.3372831647923483,
           "DL",
           "HoursPerWeek"
          ],
          [
           0.3372831647923483,
           "DL",
           "HoursPerWeek"
          ],
          [
           0.3372831647923483,
           "DL",
           "HoursPerWeek"
          ],
          [
           0.3372831647923483,
           "DL",
           "HoursPerWeek"
          ],
          [
           0.3372831647923483,
           "DL",
           "HoursPerWeek"
          ],
          [
           0.3372831647923483,
           "DL",
           "HoursPerWeek"
          ],
          [
           0.3372831647923483,
           "DL",
           "HoursPerWeek"
          ],
          [
           0.3372831647923483,
           "DL",
           "HoursPerWeek"
          ],
          [
           0.3372831647923483,
           "DL",
           "HoursPerWeek"
          ],
          [
           0.3372831647923483,
           "DL",
           "HoursPerWeek"
          ],
          [
           0.3372831647923483,
           "DL",
           "HoursPerWeek"
          ],
          [
           0.3372831647923483,
           "DL",
           "HoursPerWeek"
          ],
          [
           0.3372831647923483,
           "DL",
           "HoursPerWeek"
          ],
          [
           0.3372831647923483,
           "DL",
           "HoursPerWeek"
          ],
          [
           0.3372831647923483,
           "DL",
           "HoursPerWeek"
          ],
          [
           0.3372831647923483,
           "DL",
           "HoursPerWeek"
          ],
          [
           0.3372831647923483,
           "DL",
           "HoursPerWeek"
          ],
          [
           0.3372831647923483,
           "DL",
           "HoursPerWeek"
          ],
          [
           0.3372831647923483,
           "DL",
           "HoursPerWeek"
          ],
          [
           0.3372831647923483,
           "DL",
           "HoursPerWeek"
          ],
          [
           0.3372831647923483,
           "DL",
           "HoursPerWeek"
          ],
          [
           0.3372831647923483,
           "DL",
           "HoursPerWeek"
          ],
          [
           0.3372831647923483,
           "DL",
           "HoursPerWeek"
          ],
          [
           0.3372831647923483,
           "DL",
           "HoursPerWeek"
          ],
          [
           0.3372831647923483,
           "DL",
           "HoursPerWeek"
          ],
          [
           0.3372831647923483,
           "DL",
           "HoursPerWeek"
          ],
          [
           0.3372831647923483,
           "DL",
           "HoursPerWeek"
          ]
         ],
         "hovertemplate": "<b>%{hovertext}</b><br><br>prediction=%{y:.3f}<br>mean_prediction=%{customdata[0]:.3f}<extra></extra>",
         "hovertext": [
          "DL",
          "DL",
          "DL",
          "DL",
          "DL",
          "DL",
          "DL",
          "DL",
          "DL",
          "DL",
          "DL",
          "DL",
          "DL",
          "DL",
          "DL",
          "DL",
          "DL",
          "DL",
          "DL",
          "DL",
          "DL",
          "DL",
          "DL",
          "DL",
          "DL",
          "DL",
          "DL",
          "DL",
          "DL",
          "DL",
          "DL",
          "DL",
          "DL",
          "DL",
          "DL",
          "DL",
          "DL",
          "DL",
          "DL",
          "DL",
          "DL",
          "DL",
          "DL",
          "DL",
          "DL",
          "DL",
          "DL",
          "DL",
          "DL",
          "DL",
          "DL",
          "DL",
          "DL",
          "DL",
          "DL",
          "DL",
          "DL",
          "DL",
          "DL",
          "DL",
          "DL",
          "DL",
          "DL",
          "DL",
          "DL",
          "DL",
          "DL",
          "DL",
          "DL",
          "DL",
          "DL",
          "DL",
          "DL",
          "DL",
          "DL",
          "DL",
          "DL",
          "DL",
          "DL",
          "DL",
          "DL",
          "DL",
          "DL",
          "DL",
          "DL",
          "DL",
          "DL",
          "DL",
          "DL",
          "DL",
          "DL",
          "DL",
          "DL",
          "DL",
          "DL",
          "DL",
          "DL",
          "DL",
          "DL",
          "DL",
          "DL"
         ],
         "legendgroup": "DL",
         "line": {
          "color": "#4378bf",
          "dash": "solid",
          "width": 2
         },
         "marker": {
          "symbol": "circle"
         },
         "mode": "lines",
         "name": "DL",
         "opacity": 1,
         "orientation": "v",
         "showlegend": false,
         "type": "scatter",
         "x": [
          1,
          1.98,
          2.96,
          3.94,
          4.92,
          5.9,
          6.88,
          7.859999999999999,
          8.84,
          9.82,
          10.8,
          11.78,
          12.76,
          13.74,
          14.719999999999999,
          15.7,
          16.68,
          17.66,
          18.64,
          19.62,
          20.6,
          21.58,
          22.56,
          23.54,
          24.52,
          25.5,
          26.48,
          27.46,
          28.439999999999998,
          29.419999999999998,
          30.4,
          31.38,
          32.36,
          33.339999999999996,
          34.32,
          35.3,
          36.28,
          37.26,
          38.24,
          39.22,
          40.2,
          41.18,
          42.16,
          43.14,
          44.12,
          45.1,
          46.08,
          47.06,
          48.04,
          49.019999999999996,
          50,
          50.98,
          51.96,
          52.94,
          53.92,
          54.9,
          55.879999999999995,
          56.86,
          57.839999999999996,
          58.82,
          59.8,
          60.78,
          61.76,
          62.74,
          63.72,
          64.69999999999999,
          65.67999999999999,
          66.66,
          67.64,
          68.62,
          69.6,
          70.58,
          71.56,
          72.53999999999999,
          73.52,
          74.5,
          75.48,
          76.46,
          77.44,
          78.42,
          79.4,
          80.38,
          81.36,
          82.34,
          83.32,
          84.3,
          85.28,
          86.26,
          87.24,
          88.22,
          89.2,
          90.17999999999999,
          91.16,
          92.14,
          93.12,
          94.1,
          95.08,
          96.06,
          97.03999999999999,
          98.02,
          99
         ],
         "xaxis": "x2",
         "y": [
          0.2881966817828555,
          0.2881966817828555,
          0.2881966817828555,
          0.2881966817828555,
          0.2881966817828555,
          0.2881966817828555,
          0.2881966817828555,
          0.2881966817828555,
          0.2881966817828555,
          0.2881966817828555,
          0.2881966817828555,
          0.2881966817828555,
          0.2881966817828555,
          0.2881966817828555,
          0.2881966817828555,
          0.2881966817828555,
          0.2881966817828555,
          0.2881966817828555,
          0.2881966817828555,
          0.2881966817828555,
          0.2881966817828555,
          0.2881966817828555,
          0.2881966817828555,
          0.2881966817828555,
          0.2881966817828555,
          0.2881966817828555,
          0.2881966817828555,
          0.2881966817828555,
          0.2881966817828555,
          0.2881966817828555,
          0.2881966817828555,
          0.33973748894282235,
          0.33973748894282235,
          0.33973748894282235,
          0.33973748894282235,
          0.33973748894282235,
          0.33973748894282235,
          0.33973748894282235,
          0.33973748894282235,
          0.33973748894282235,
          0.33973748894282235,
          0.33973748894282235,
          0.33973748894282235,
          0.33973748894282235,
          0.33973748894282235,
          0.33973748894282235,
          0.33973748894282235,
          0.33973748894282235,
          0.33973748894282235,
          0.33973748894282235,
          0.33973748894282235,
          0.33973748894282235,
          0.33973748894282235,
          0.33973748894282235,
          0.33973748894282235,
          0.33973748894282235,
          0.33973748894282235,
          0.33973748894282235,
          0.33973748894282235,
          0.33973748894282235,
          0.33973748894282235,
          0.33973748894282235,
          0.33973748894282235,
          0.33973748894282235,
          0.33973748894282235,
          0.33973748894282235,
          0.33973748894282235,
          0.33973748894282235,
          0.33973748894282235,
          0.33973748894282235,
          0.33973748894282235,
          0.33973748894282235,
          0.33973748894282235,
          0.33973748894282235,
          0.33973748894282235,
          0.33973748894282235,
          0.33973748894282235,
          0.33973748894282235,
          0.33973748894282235,
          0.33973748894282235,
          0.33973748894282235,
          0.33973748894282235,
          0.33973748894282235,
          0.33973748894282235,
          0.33973748894282235,
          0.33973748894282235,
          0.33973748894282235,
          0.33973748894282235,
          0.33973748894282235,
          0.33973748894282235,
          0.33973748894282235,
          0.33973748894282235,
          0.33973748894282235,
          0.33973748894282235,
          0.33973748894282235,
          0.33973748894282235,
          0.33973748894282235,
          0.33973748894282235,
          0.33973748894282235,
          0.33973748894282235,
          0.33973748894282235
         ],
         "yaxis": "y2"
        }
       ],
       "layout": {
        "annotations": [
         {
          "font": {
           "size": 13
          },
          "showarrow": false,
          "text": "CapitalLoss",
          "x": 0.2375,
          "xanchor": "center",
          "xref": "paper",
          "y": 0.26666666666666666,
          "yanchor": "bottom",
          "yref": "paper"
         },
         {
          "font": {
           "size": 13
          },
          "showarrow": false,
          "text": "HoursPerWeek",
          "x": 0.7625,
          "xanchor": "center",
          "xref": "paper",
          "y": 0.26666666666666666,
          "yanchor": "bottom",
          "yref": "paper"
         },
         {
          "font": {
           "size": 13
          },
          "showarrow": false,
          "text": "EducationNum",
          "x": 0.2375,
          "xanchor": "center",
          "xref": "paper",
          "y": 0.6333333333333333,
          "yanchor": "bottom",
          "yref": "paper"
         },
         {
          "font": {
           "size": 13
          },
          "showarrow": false,
          "text": "CapitalGain",
          "x": 0.7625,
          "xanchor": "center",
          "xref": "paper",
          "y": 0.6333333333333333,
          "yanchor": "bottom",
          "yref": "paper"
         },
         {
          "font": {
           "size": 13
          },
          "showarrow": false,
          "text": "Age",
          "x": 0.2375,
          "xanchor": "center",
          "xref": "paper",
          "y": 1,
          "yanchor": "bottom",
          "yref": "paper"
         },
         {
          "font": {
           "size": 13
          },
          "showarrow": false,
          "text": "fnlwgt",
          "x": 0.7625,
          "xanchor": "center",
          "xref": "paper",
          "y": 1,
          "yanchor": "bottom",
          "yref": "paper"
         },
         {
          "font": {
           "size": 13
          },
          "showarrow": false,
          "text": "prediction",
          "textangle": -90,
          "x": -0.07,
          "xref": "paper",
          "y": 0.5,
          "yref": "paper"
         }
        ],
        "font": {
         "color": "#371ea3"
        },
        "height": 1169,
        "hovermode": "x unified",
        "legend": {
         "font": {
          "size": 11
         },
         "itemsizing": "constant",
         "orientation": "h",
         "title": {
          "font": {
           "size": 12
          },
          "text": "label"
         },
         "tracegroupgap": 0,
         "x": 1,
         "xanchor": "right",
         "y": 1.0256629597946962,
         "yanchor": "bottom"
        },
        "margin": {
         "b": 71,
         "r": 30,
         "t": 78
        },
        "template": {
         "data": {
          "scatter": [
           {
            "type": "scatter"
           }
          ]
         }
        },
        "title": {
         "font": {
          "size": 16
         },
         "text": "Aggregated Profiles",
         "x": 0.15
        },
        "xaxis": {
         "anchor": "y",
         "automargin": true,
         "domain": [
          0,
          0.475
         ],
         "fixedrange": true,
         "gridwidth": 2,
         "showticklabels": true,
         "tickcolor": "white",
         "ticklen": 3,
         "ticks": "outside",
         "title": {
          "text": ""
         },
         "type": "linear",
         "zeroline": false
        },
        "xaxis2": {
         "anchor": "y2",
         "automargin": true,
         "domain": [
          0.525,
          1
         ],
         "fixedrange": true,
         "gridwidth": 2,
         "showticklabels": true,
         "tickcolor": "white",
         "ticklen": 3,
         "ticks": "outside",
         "title": {
          "text": ""
         },
         "type": "linear",
         "zeroline": false
        },
        "xaxis3": {
         "anchor": "y3",
         "automargin": true,
         "domain": [
          0,
          0.475
         ],
         "fixedrange": true,
         "gridwidth": 2,
         "showticklabels": true,
         "tickcolor": "white",
         "ticklen": 3,
         "ticks": "outside",
         "title": {
          "text": ""
         },
         "type": "linear",
         "zeroline": false
        },
        "xaxis4": {
         "anchor": "y4",
         "automargin": true,
         "domain": [
          0.525,
          1
         ],
         "fixedrange": true,
         "gridwidth": 2,
         "showticklabels": true,
         "tickcolor": "white",
         "ticklen": 3,
         "ticks": "outside",
         "title": {
          "text": ""
         },
         "type": "linear",
         "zeroline": false
        },
        "xaxis5": {
         "anchor": "y5",
         "automargin": true,
         "domain": [
          0,
          0.475
         ],
         "fixedrange": true,
         "gridwidth": 2,
         "showticklabels": true,
         "tickcolor": "white",
         "ticklen": 3,
         "ticks": "outside",
         "title": {
          "text": ""
         },
         "type": "linear",
         "zeroline": false
        },
        "xaxis6": {
         "anchor": "y6",
         "automargin": true,
         "domain": [
          0.525,
          1
         ],
         "fixedrange": true,
         "gridwidth": 2,
         "showticklabels": true,
         "tickcolor": "white",
         "ticklen": 3,
         "ticks": "outside",
         "title": {
          "text": ""
         },
         "type": "linear",
         "zeroline": false
        },
        "yaxis": {
         "anchor": "x",
         "automargin": true,
         "domain": [
          0,
          0.26666666666666666
         ],
         "fixedrange": true,
         "gridwidth": 2,
         "range": [
          -0.08707709488760434,
          1.0988251904443276
         ],
         "tickcolor": "white",
         "ticklen": 3,
         "ticks": "outside",
         "title": {
          "text": ""
         },
         "type": "linear",
         "zeroline": false
        },
        "yaxis2": {
         "anchor": "x2",
         "automargin": true,
         "domain": [
          0,
          0.26666666666666666
         ],
         "fixedrange": true,
         "gridwidth": 2,
         "matches": "y",
         "showticklabels": false,
         "tickcolor": "white",
         "ticklen": 3,
         "ticks": "outside",
         "title": {
          "text": ""
         },
         "type": "linear",
         "zeroline": false
        },
        "yaxis3": {
         "anchor": "x3",
         "automargin": true,
         "domain": [
          0.36666666666666664,
          0.6333333333333333
         ],
         "fixedrange": true,
         "gridwidth": 2,
         "matches": "y",
         "range": [
          -0.08707709488760434,
          1.0988251904443276
         ],
         "tickcolor": "white",
         "ticklen": 3,
         "ticks": "outside",
         "title": {
          "text": ""
         },
         "type": "linear",
         "zeroline": false
        },
        "yaxis4": {
         "anchor": "x4",
         "automargin": true,
         "domain": [
          0.36666666666666664,
          0.6333333333333333
         ],
         "fixedrange": true,
         "gridwidth": 2,
         "matches": "y",
         "showticklabels": false,
         "tickcolor": "white",
         "ticklen": 3,
         "ticks": "outside",
         "title": {
          "text": ""
         },
         "type": "linear",
         "zeroline": false
        },
        "yaxis5": {
         "anchor": "x5",
         "automargin": true,
         "domain": [
          0.7333333333333333,
          1
         ],
         "fixedrange": true,
         "gridwidth": 2,
         "matches": "y",
         "range": [
          -0.08707709488760434,
          1.0988251904443276
         ],
         "tickcolor": "white",
         "ticklen": 3,
         "ticks": "outside",
         "title": {
          "text": ""
         },
         "type": "linear",
         "zeroline": false
        },
        "yaxis6": {
         "anchor": "x6",
         "automargin": true,
         "domain": [
          0.7333333333333333,
          1
         ],
         "fixedrange": true,
         "gridwidth": 2,
         "matches": "y",
         "showticklabels": false,
         "tickcolor": "white",
         "ticklen": 3,
         "ticks": "outside",
         "title": {
          "text": ""
         },
         "type": "linear",
         "zeroline": false
        }
       }
      }
     },
     "metadata": {},
     "output_type": "display_data"
    }
   ],
   "source": [
    "pd_cart.plot([pd_ebm, pd_gnb, pd_lr, pd_lr_l2, pd_dl], variables=cont_feat)"
   ]
  },
  {
   "cell_type": "markdown",
   "metadata": {},
   "source": [
    "### FEATURES ANALYSIS"
   ]
  },
  {
   "cell_type": "code",
   "execution_count": 49,
   "metadata": {},
   "outputs": [],
   "source": [
    "import pandas as pd\n",
    "import numpy as np\n",
    "\n",
    "def calc(feat_gen, feat_comp):\n",
    "    return np.abs(np.subtract(feat_gen[\"_yhat_\"], feat_comp[\"_yhat_\"])).sum()\n",
    "\n",
    "def select_feat_result_cont(feat_name):\n",
    "    feat_cart = pd_cart.result[pd_cart.result[\"_vname_\"] == feat_name]\n",
    "    feat_ebm = pd_ebm.result[pd_ebm.result[\"_vname_\"] == feat_name]\n",
    "    feat_lr = pd_lr.result[pd_lr.result[\"_vname_\"] == feat_name]\n",
    "    feat_gnb = pd_gnb.result[pd_gnb.result[\"_vname_\"] == feat_name]\n",
    "    feat_lr_l2 = pd_lr_l2.result[pd_lr_l2.result[\"_vname_\"] == feat_name]\n",
    "    feat_dl = pd_dl.result[pd_dl.result[\"_vname_\"] == feat_name]\n",
    "    \n",
    "    #define generator clf\n",
    "    gen_res = feat_lr\n",
    "\n",
    "    cart_res = calc(gen_res, feat_cart)\n",
    "    ebm_res = calc(gen_res, feat_ebm)\n",
    "    lr_res = calc(gen_res, feat_lr)\n",
    "    gnb_res = calc(gen_res, feat_gnb)\n",
    "    lr_l2_res = calc(gen_res, feat_lr_l2)\n",
    "    dl_res = calc(gen_res, feat_dl)\n",
    "\n",
    "    dict_result = {\n",
    "        \"Param\": feat_name,\n",
    "        \"CART\": cart_res,\n",
    "        \"EBM\": ebm_res,\n",
    "        \"LR\": lr_res,\n",
    "        \"GNB\": gnb_res,\n",
    "        \"LR_l2\": lr_l2_res,\n",
    "        \"DL\": dl_res\n",
    "    }\n",
    "\n",
    "    return dict_result\n",
    "\n",
    "def select_feat_result_cat(feat_name):\n",
    "    feat_cart = pd_cart_cat.result[pd_cart_cat.result[\"_vname_\"] == feat_name]\n",
    "    feat_ebm = pd_ebm_cat.result[pd_ebm_cat.result[\"_vname_\"] == feat_name]\n",
    "    feat_lr = pd_lr_cat.result[pd_lr_cat.result[\"_vname_\"] == feat_name]\n",
    "    feat_gnb = pd_gnb_cat.result[pd_gnb_cat.result[\"_vname_\"] == feat_name]\n",
    "    feat_lr_l2 = pd_lr_l2_cat.result[pd_lr_l2_cat.result[\"_vname_\"] == feat_name]\n",
    "    feat_dl = pd_dl_cat.result[pd_dl_cat.result[\"_vname_\"] == feat_name]\n",
    "    \n",
    "    #define generator clf\n",
    "    gen_res = feat_lr\n",
    "\n",
    "    cart_res = calc(gen_res, feat_cart)\n",
    "    ebm_res = calc(gen_res, feat_ebm)\n",
    "    lr_res = calc(gen_res, feat_lr)\n",
    "    gnb_res = calc(gen_res, feat_gnb)\n",
    "    lr_l2_res = calc(gen_res, feat_lr_l2)\n",
    "    dl_res = calc(gen_res, feat_dl)\n",
    "\n",
    "    dict_result = {\n",
    "        \"Param\": feat_name,\n",
    "        \"CART\": cart_res,\n",
    "        \"EBM\": ebm_res,\n",
    "        \"LR\": lr_res,\n",
    "        \"GNB\": gnb_res,\n",
    "        \"LR_l2\": lr_l2_res,\n",
    "        \"DL\": dl_res\n",
    "    }\n",
    "\n",
    "    return dict_result"
   ]
  },
  {
   "cell_type": "code",
   "execution_count": 50,
   "metadata": {},
   "outputs": [
    {
     "name": "stdout",
     "output_type": "stream",
     "text": [
      "              Param      CART       EBM   LR        GNB     LR_l2         DL\n",
      "Param           Age  3.033694  2.389306  0.0  38.387240  0.967065  11.501161\n",
      "CART            Age  3.033694  2.389306  0.0  38.387240  0.967065  11.501161\n",
      "EBM             Age  3.033694  2.389306  0.0  38.387240  0.967065  11.501161\n",
      "LR              Age  3.033694  2.389306  0.0  38.387240  0.967065  11.501161\n",
      "GNB             Age  3.033694  2.389306  0.0  38.387240  0.967065  11.501161\n",
      "LR_l2           Age  3.033694  2.389306  0.0  38.387240  0.967065  11.501161\n",
      "DL              Age  3.033694  2.389306  0.0  38.387240  0.967065  11.501161\n",
      "Param        fnlwgt  3.436862  2.876485  0.0  36.448062  0.662200   9.722533\n",
      "CART         fnlwgt  3.436862  2.876485  0.0  36.448062  0.662200   9.722533\n",
      "EBM          fnlwgt  3.436862  2.876485  0.0  36.448062  0.662200   9.722533\n",
      "LR           fnlwgt  3.436862  2.876485  0.0  36.448062  0.662200   9.722533\n",
      "GNB          fnlwgt  3.436862  2.876485  0.0  36.448062  0.662200   9.722533\n",
      "LR_l2        fnlwgt  3.436862  2.876485  0.0  36.448062  0.662200   9.722533\n",
      "DL           fnlwgt  3.436862  2.876485  0.0  36.448062  0.662200   9.722533\n",
      "Param  EducationNum  2.849413  9.378336  0.0  45.535819  0.976478  17.578218\n",
      "CART   EducationNum  2.849413  9.378336  0.0  45.535819  0.976478  17.578218\n",
      "EBM    EducationNum  2.849413  9.378336  0.0  45.535819  0.976478  17.578218\n",
      "LR     EducationNum  2.849413  9.378336  0.0  45.535819  0.976478  17.578218\n",
      "GNB    EducationNum  2.849413  9.378336  0.0  45.535819  0.976478  17.578218\n",
      "LR_l2  EducationNum  2.849413  9.378336  0.0  45.535819  0.976478  17.578218\n",
      "DL     EducationNum  2.849413  9.378336  0.0  45.535819  0.976478  17.578218\n",
      "Param   CapitalGain  5.240762  2.879963  0.0   5.077002  0.722328  13.272407\n",
      "CART    CapitalGain  5.240762  2.879963  0.0   5.077002  0.722328  13.272407\n",
      "EBM     CapitalGain  5.240762  2.879963  0.0   5.077002  0.722328  13.272407\n",
      "LR      CapitalGain  5.240762  2.879963  0.0   5.077002  0.722328  13.272407\n",
      "GNB     CapitalGain  5.240762  2.879963  0.0   5.077002  0.722328  13.272407\n",
      "LR_l2   CapitalGain  5.240762  2.879963  0.0   5.077002  0.722328  13.272407\n",
      "DL      CapitalGain  5.240762  2.879963  0.0   5.077002  0.722328  13.272407\n",
      "Param   CapitalLoss  3.298123  3.728363  0.0  29.276198  2.552214  10.746868\n",
      "CART    CapitalLoss  3.298123  3.728363  0.0  29.276198  2.552214  10.746868\n",
      "EBM     CapitalLoss  3.298123  3.728363  0.0  29.276198  2.552214  10.746868\n",
      "LR      CapitalLoss  3.298123  3.728363  0.0  29.276198  2.552214  10.746868\n",
      "GNB     CapitalLoss  3.298123  3.728363  0.0  29.276198  2.552214  10.746868\n",
      "LR_l2   CapitalLoss  3.298123  3.728363  0.0  29.276198  2.552214  10.746868\n",
      "DL      CapitalLoss  3.298123  3.728363  0.0  29.276198  2.552214  10.746868\n",
      "Param  HoursPerWeek  3.826795  1.912412  0.0  39.467870  0.874692  12.717239\n",
      "CART   HoursPerWeek  3.826795  1.912412  0.0  39.467870  0.874692  12.717239\n",
      "EBM    HoursPerWeek  3.826795  1.912412  0.0  39.467870  0.874692  12.717239\n",
      "LR     HoursPerWeek  3.826795  1.912412  0.0  39.467870  0.874692  12.717239\n",
      "GNB    HoursPerWeek  3.826795  1.912412  0.0  39.467870  0.874692  12.717239\n",
      "LR_l2  HoursPerWeek  3.826795  1.912412  0.0  39.467870  0.874692  12.717239\n",
      "DL     HoursPerWeek  3.826795  1.912412  0.0  39.467870  0.874692  12.717239\n",
      "               Param      CART       EBM   LR        GNB     LR_l2        DL\n",
      "Param      WorkClass  0.166557  0.617718  0.0   2.902849  0.295740  1.340266\n",
      "CART       WorkClass  0.166557  0.617718  0.0   2.902849  0.295740  1.340266\n",
      "EBM        WorkClass  0.166557  0.617718  0.0   2.902849  0.295740  1.340266\n",
      "LR         WorkClass  0.166557  0.617718  0.0   2.902849  0.295740  1.340266\n",
      "GNB        WorkClass  0.166557  0.617718  0.0   2.902849  0.295740  1.340266\n",
      "LR_l2      WorkClass  0.166557  0.617718  0.0   2.902849  0.295740  1.340266\n",
      "DL         WorkClass  0.166557  0.617718  0.0   2.902849  0.295740  1.340266\n",
      "Param      Education  0.333047  1.682124  0.0   4.849802  0.330334  2.072717\n",
      "CART       Education  0.333047  1.682124  0.0   4.849802  0.330334  2.072717\n",
      "EBM        Education  0.333047  1.682124  0.0   4.849802  0.330334  2.072717\n",
      "LR         Education  0.333047  1.682124  0.0   4.849802  0.330334  2.072717\n",
      "GNB        Education  0.333047  1.682124  0.0   4.849802  0.330334  2.072717\n",
      "LR_l2      Education  0.333047  1.682124  0.0   4.849802  0.330334  2.072717\n",
      "DL         Education  0.333047  1.682124  0.0   4.849802  0.330334  2.072717\n",
      "Param  MaritalStatus  0.267655  0.183769  0.0   1.892164  0.466983  1.180191\n",
      "CART   MaritalStatus  0.267655  0.183769  0.0   1.892164  0.466983  1.180191\n",
      "EBM    MaritalStatus  0.267655  0.183769  0.0   1.892164  0.466983  1.180191\n",
      "LR     MaritalStatus  0.267655  0.183769  0.0   1.892164  0.466983  1.180191\n",
      "GNB    MaritalStatus  0.267655  0.183769  0.0   1.892164  0.466983  1.180191\n",
      "LR_l2  MaritalStatus  0.267655  0.183769  0.0   1.892164  0.466983  1.180191\n",
      "DL     MaritalStatus  0.267655  0.183769  0.0   1.892164  0.466983  1.180191\n",
      "Param     Occupation  0.451343  0.606971  0.0   4.405491  0.588055  2.754934\n",
      "CART      Occupation  0.451343  0.606971  0.0   4.405491  0.588055  2.754934\n",
      "EBM       Occupation  0.451343  0.606971  0.0   4.405491  0.588055  2.754934\n",
      "LR        Occupation  0.451343  0.606971  0.0   4.405491  0.588055  2.754934\n",
      "GNB       Occupation  0.451343  0.606971  0.0   4.405491  0.588055  2.754934\n",
      "LR_l2     Occupation  0.451343  0.606971  0.0   4.405491  0.588055  2.754934\n",
      "DL        Occupation  0.451343  0.606971  0.0   4.405491  0.588055  2.754934\n",
      "Param   Relationship  0.248553  0.210974  0.0   1.648571  0.224320  0.942575\n",
      "CART    Relationship  0.248553  0.210974  0.0   1.648571  0.224320  0.942575\n",
      "EBM     Relationship  0.248553  0.210974  0.0   1.648571  0.224320  0.942575\n",
      "LR      Relationship  0.248553  0.210974  0.0   1.648571  0.224320  0.942575\n",
      "GNB     Relationship  0.248553  0.210974  0.0   1.648571  0.224320  0.942575\n",
      "LR_l2   Relationship  0.248553  0.210974  0.0   1.648571  0.224320  0.942575\n",
      "DL      Relationship  0.248553  0.210974  0.0   1.648571  0.224320  0.942575\n",
      "Param           Race  0.157661  0.168678  0.0   1.217766  0.171135  0.837237\n",
      "CART            Race  0.157661  0.168678  0.0   1.217766  0.171135  0.837237\n",
      "EBM             Race  0.157661  0.168678  0.0   1.217766  0.171135  0.837237\n",
      "LR              Race  0.157661  0.168678  0.0   1.217766  0.171135  0.837237\n",
      "GNB             Race  0.157661  0.168678  0.0   1.217766  0.171135  0.837237\n",
      "LR_l2           Race  0.157661  0.168678  0.0   1.217766  0.171135  0.837237\n",
      "DL              Race  0.157661  0.168678  0.0   1.217766  0.171135  0.837237\n",
      "Param         Gender  0.075608  0.080275  0.0   0.728195  0.064713  0.345161\n",
      "CART          Gender  0.075608  0.080275  0.0   0.728195  0.064713  0.345161\n",
      "EBM           Gender  0.075608  0.080275  0.0   0.728195  0.064713  0.345161\n",
      "LR            Gender  0.075608  0.080275  0.0   0.728195  0.064713  0.345161\n",
      "GNB           Gender  0.075608  0.080275  0.0   0.728195  0.064713  0.345161\n",
      "LR_l2         Gender  0.075608  0.080275  0.0   0.728195  0.064713  0.345161\n",
      "DL            Gender  0.075608  0.080275  0.0   0.728195  0.064713  0.345161\n",
      "Param  NativeCountry  1.982467  1.346434  0.0  12.528754  1.627214  6.880951\n",
      "CART   NativeCountry  1.982467  1.346434  0.0  12.528754  1.627214  6.880951\n",
      "EBM    NativeCountry  1.982467  1.346434  0.0  12.528754  1.627214  6.880951\n",
      "LR     NativeCountry  1.982467  1.346434  0.0  12.528754  1.627214  6.880951\n",
      "GNB    NativeCountry  1.982467  1.346434  0.0  12.528754  1.627214  6.880951\n",
      "LR_l2  NativeCountry  1.982467  1.346434  0.0  12.528754  1.627214  6.880951\n",
      "DL     NativeCountry  1.982467  1.346434  0.0  12.528754  1.627214  6.880951\n"
     ]
    }
   ],
   "source": [
    "#**Continous results**\n",
    "cont_results = []\n",
    "for param in cont_feat:\n",
    "    param_result = select_feat_result_cont(param)\n",
    "    param_result = pd.DataFrame(param_result, index =list(param_result.keys()))\n",
    "    cont_results.append(param_result)\n",
    "cont_final_res = pd.concat(cont_results)\n",
    "print(cont_final_res)\n",
    "\n",
    "#Categorical results\n",
    "cat_results = []\n",
    "for param in cat_feat:\n",
    "    param_result = select_feat_result_cat(param)\n",
    "    param_result = pd.DataFrame(param_result, index =list(param_result.keys()))\n",
    "    cat_results.append(param_result)\n",
    "cat_final_res = pd.concat(cat_results)\n",
    "print(cat_final_res)\n",
    "pd.concat([cont_final_res, cat_final_res]).to_csv(f\"../worst-case_results/{dataset}_{clf_name}.csv\",index=False)"
   ]
  }
 ],
 "metadata": {
  "interpreter": {
   "hash": "54107a2a0eb6a0b2996cb7a94c16d9283b5dc7f969a30a8a01f6dbe77c679ea9"
  },
  "kernelspec": {
   "display_name": "Python 3.9.7 ('mainenv')",
   "language": "python",
   "name": "python3"
  },
  "language_info": {
   "codemirror_mode": {
    "name": "ipython",
    "version": 3
   },
   "file_extension": ".py",
   "mimetype": "text/x-python",
   "name": "python",
   "nbconvert_exporter": "python",
   "pygments_lexer": "ipython3",
   "version": "3.9.7"
  },
  "orig_nbformat": 4
 },
 "nbformat": 4,
 "nbformat_minor": 2
}
