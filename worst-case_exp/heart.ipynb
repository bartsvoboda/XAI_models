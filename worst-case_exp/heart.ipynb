{
 "cells": [
  {
   "cell_type": "code",
   "execution_count": 79,
   "metadata": {},
   "outputs": [],
   "source": [
    "import dalex as dx\n",
    "from sklearn.tree import DecisionTreeClassifier\n",
    "from interpret.glassbox import ExplainableBoostingClassifier\n",
    "from interpret.glassbox import DecisionListClassifier\n",
    "from sklearn.linear_model import LogisticRegression\n",
    "from sklearn.naive_bayes import GaussianNB\n",
    "\n",
    "\n",
    "clfs = {\n",
    "    \"CART\": DecisionTreeClassifier(random_state=1234),\n",
    "    \"EBM\": ExplainableBoostingClassifier(),\n",
    "    \"LR_l2\": LogisticRegression(penalty=\"l2\",random_state=1234),\n",
    "    \"GNB\": GaussianNB(),\n",
    "    \"LR\": LogisticRegression(penalty=\"none\", random_state=1234),\n",
    "    \"DL\": DecisionListClassifier(random_state=1234) \n",
    "}\n",
    "\n",
    "dataset = 'heart'"
   ]
  },
  {
   "cell_type": "code",
   "execution_count": 80,
   "metadata": {},
   "outputs": [],
   "source": [
    "import worstcase_helper\n",
    "import importlib\n",
    "importlib.reload(worstcase_helper)\n",
    "\n",
    "preprocess, X, y = worstcase_helper.load_dataset_with_preprocess(\"CART\", dataset)"
   ]
  },
  {
   "cell_type": "code",
   "execution_count": 81,
   "metadata": {},
   "outputs": [
    {
     "data": {
      "text/plain": [
       "ColumnTransformer(transformers=[('onehotencoder',\n",
       "                                 OneHotEncoder(handle_unknown='ignore',\n",
       "                                               sparse=False),\n",
       "                                 ['Sex', 'cp', 'Place']),\n",
       "                                ('standardscaler', StandardScaler(),\n",
       "                                 ['Age', 'trestbps', 'chol', 'fbs', 'restecg',\n",
       "                                  'thalach', 'exang', 'oldpeak'])])"
      ]
     },
     "execution_count": 81,
     "metadata": {},
     "output_type": "execute_result"
    }
   ],
   "source": [
    "preprocess"
   ]
  },
  {
   "cell_type": "markdown",
   "metadata": {},
   "source": [
    "## Make Pipelines"
   ]
  },
  {
   "cell_type": "code",
   "execution_count": 82,
   "metadata": {},
   "outputs": [],
   "source": [
    "from sklearn.pipeline import make_pipeline\n",
    "def make_pipeline_clf(clf_name):\n",
    "    clf = make_pipeline(\n",
    "        preprocess,\n",
    "        clfs[clf_name]\n",
    "    )\n",
    "    return clf"
   ]
  },
  {
   "cell_type": "code",
   "execution_count": 83,
   "metadata": {},
   "outputs": [
    {
     "name": "stderr",
     "output_type": "stream",
     "text": [
      "/home/bart/anaconda3/envs/mainenv/lib/python3.9/site-packages/sklearn/utils/validation.py:993: DataConversionWarning:\n",
      "\n",
      "A column-vector y was passed when a 1d array was expected. Please change the shape of y to (n_samples, ), for example using ravel().\n",
      "\n",
      "/home/bart/anaconda3/envs/mainenv/lib/python3.9/site-packages/sklearn/utils/validation.py:993: DataConversionWarning:\n",
      "\n",
      "A column-vector y was passed when a 1d array was expected. Please change the shape of y to (n_samples, ), for example using ravel().\n",
      "\n",
      "/home/bart/anaconda3/envs/mainenv/lib/python3.9/site-packages/sklearn/utils/validation.py:993: DataConversionWarning:\n",
      "\n",
      "A column-vector y was passed when a 1d array was expected. Please change the shape of y to (n_samples, ), for example using ravel().\n",
      "\n"
     ]
    },
    {
     "data": {
      "text/plain": [
       "Pipeline(steps=[('columntransformer',\n",
       "                 ColumnTransformer(transformers=[('onehotencoder',\n",
       "                                                  OneHotEncoder(handle_unknown='ignore',\n",
       "                                                                sparse=False),\n",
       "                                                  ['Sex', 'cp', 'Place']),\n",
       "                                                 ('standardscaler',\n",
       "                                                  StandardScaler(),\n",
       "                                                  ['Age', 'trestbps', 'chol',\n",
       "                                                   'fbs', 'restecg', 'thalach',\n",
       "                                                   'exang', 'oldpeak'])])),\n",
       "                ('decisionlistclassifier',\n",
       "                 <interpret.glassbox.skoperules.DecisionListClassifier object at 0x7f16d4a64df0>)])"
      ]
     },
     "execution_count": 83,
     "metadata": {},
     "output_type": "execute_result"
    }
   ],
   "source": [
    "clf_cart = make_pipeline_clf(\"CART\")\n",
    "clf_cart.fit(X, y)\n",
    "\n",
    "clf_ebm = make_pipeline_clf(\"EBM\")\n",
    "clf_ebm.fit(X, y)\n",
    "\n",
    "clf_lr_l2 = make_pipeline_clf(\"LR_l2\")\n",
    "clf_lr_l2.fit(X, y)\n",
    "\n",
    "clf_gnb = make_pipeline_clf(\"GNB\")\n",
    "clf_gnb.fit(X, y)\n",
    "\n",
    "clf_lr = make_pipeline_clf(\"LR\")\n",
    "clf_lr.fit(X, y)\n",
    "\n",
    "clf_dl = make_pipeline_clf(\"DL\")\n",
    "clf_dl.fit(X, y)"
   ]
  },
  {
   "cell_type": "markdown",
   "metadata": {},
   "source": [
    "## Add Explainers"
   ]
  },
  {
   "cell_type": "code",
   "execution_count": 84,
   "metadata": {},
   "outputs": [
    {
     "name": "stdout",
     "output_type": "stream",
     "text": [
      "Preparation of a new explainer is initiated\n",
      "\n",
      "  -> data              : 457 rows 11 cols\n",
      "  -> target variable   : Parameter 'y' was a pandas.DataFrame. Converted to a numpy.ndarray.\n",
      "  -> target variable   : 457 values\n",
      "  -> model_class       : sklearn.tree._classes.DecisionTreeClassifier (default)\n",
      "  -> label             : CART\n",
      "  -> predict function  : <function yhat_proba_default at 0x7f16e2023dc0> will be used (default)\n",
      "  -> predict function  : Accepts only pandas.DataFrame, numpy.ndarray causes problems.\n",
      "  -> predicted values  : min = 0.0, mean = 0.46, max = 1.0\n",
      "  -> model type        : classification will be used (default)\n",
      "  -> residual function : difference between y and yhat (default)\n",
      "  -> residuals         : min = 0.0, mean = 0.0, max = 0.0\n",
      "  -> model_info        : package sklearn\n",
      "\n",
      "A new explainer has been created!\n",
      "Preparation of a new explainer is initiated\n",
      "\n",
      "  -> data              : 457 rows 11 cols\n",
      "  -> target variable   : Parameter 'y' was a pandas.DataFrame. Converted to a numpy.ndarray.\n",
      "  -> target variable   : 457 values\n",
      "  -> model_class       : interpret.glassbox.ebm.ebm.ExplainableBoostingClassifier (default)\n",
      "  -> label             : EBM\n",
      "  -> predict function  : <function yhat_proba_default at 0x7f16e2023dc0> will be used (default)\n",
      "  -> predict function  : Accepts only pandas.DataFrame, numpy.ndarray causes problems.\n",
      "  -> predicted values  : min = 0.0191, mean = 0.457, max = 0.977\n",
      "  -> model type        : classification will be used (default)\n",
      "  -> residual function : difference between y and yhat (default)\n",
      "  -> residuals         : min = -0.908, mean = 0.00202, max = 0.913\n",
      "  -> model_info        : package sklearn\n",
      "\n",
      "A new explainer has been created!\n",
      "Preparation of a new explainer is initiated\n",
      "\n",
      "  -> data              : 457 rows 11 cols\n",
      "  -> target variable   : Parameter 'y' was a pandas.DataFrame. Converted to a numpy.ndarray.\n",
      "  -> target variable   : 457 values\n",
      "  -> model_class       : sklearn.linear_model._logistic.LogisticRegression (default)\n",
      "  -> label             : LR_l2\n",
      "  -> predict function  : <function yhat_proba_default at 0x7f16e2023dc0> will be used (default)\n",
      "  -> predict function  : Accepts only pandas.DataFrame, numpy.ndarray causes problems.\n",
      "  -> predicted values  : min = 0.0228, mean = 0.46, max = 0.982\n",
      "  -> model type        : classification will be used (default)\n",
      "  -> residual function : difference between y and yhat (default)\n",
      "  -> residuals         : min = -0.982, mean = -3.86e-06, max = 0.937\n",
      "  -> model_info        : package sklearn\n",
      "\n",
      "A new explainer has been created!\n",
      "Preparation of a new explainer is initiated\n",
      "\n",
      "  -> data              : 457 rows 11 cols\n",
      "  -> target variable   : Parameter 'y' was a pandas.DataFrame. Converted to a numpy.ndarray.\n",
      "  -> target variable   : 457 values\n",
      "  -> model_class       : sklearn.naive_bayes.GaussianNB (default)\n",
      "  -> label             : GNB\n",
      "  -> predict function  : <function yhat_proba_default at 0x7f16e2023dc0> will be used (default)\n",
      "  -> predict function  : Accepts only pandas.DataFrame, numpy.ndarray causes problems.\n",
      "  -> predicted values  : min = 1.5e-09, mean = 0.48, max = 1.0\n",
      "  -> model type        : classification will be used (default)\n",
      "  -> residual function : difference between y and yhat (default)\n",
      "  -> residuals         : min = -1.0, mean = -0.0204, max = 1.0\n",
      "  -> model_info        : package sklearn\n",
      "\n",
      "A new explainer has been created!\n",
      "Preparation of a new explainer is initiated\n",
      "\n",
      "  -> data              : 457 rows 11 cols\n",
      "  -> target variable   : Parameter 'y' was a pandas.DataFrame. Converted to a numpy.ndarray.\n",
      "  -> target variable   : 457 values\n",
      "  -> model_class       : sklearn.linear_model._logistic.LogisticRegression (default)\n",
      "  -> label             : LR\n",
      "  -> predict function  : <function yhat_proba_default at 0x7f16e2023dc0> will be used (default)\n",
      "  -> predict function  : Accepts only pandas.DataFrame, numpy.ndarray causes problems.\n",
      "  -> predicted values  : min = 0.0178, mean = 0.46, max = 0.988\n",
      "  -> model type        : classification will be used (default)\n",
      "  -> residual function : difference between y and yhat (default)\n",
      "  -> residuals         : min = -0.987, mean = -2.83e-07, max = 0.948\n",
      "  -> model_info        : package sklearn\n",
      "\n",
      "A new explainer has been created!\n",
      "Preparation of a new explainer is initiated\n",
      "\n",
      "  -> data              : 457 rows 11 cols\n",
      "  -> target variable   : Parameter 'y' was a pandas.DataFrame. Converted to a numpy.ndarray.\n",
      "  -> target variable   : 457 values\n",
      "  -> model_class       : interpret.glassbox.skoperules.DecisionListClassifier (default)\n",
      "  -> label             : DL\n",
      "  -> predict function  : <function yhat_proba_default at 0x7f16e2023dc0> will be used (default)\n",
      "  -> predict function  : Accepts only pandas.DataFrame, numpy.ndarray causes problems.\n",
      "  -> predicted values  : min = 0.46, mean = 0.628, max = 1.0\n",
      "  -> model type        : classification will be used (default)\n",
      "  -> residual function : difference between y and yhat (default)\n",
      "  -> residuals         : min = -1.0, mean = -0.169, max = 0.54\n",
      "  -> model_info        : package sklearn\n",
      "\n",
      "A new explainer has been created!\n"
     ]
    }
   ],
   "source": [
    "clf_cart_exp = dx.Explainer(clf_cart, X, y, label=\"CART\")\n",
    "clf_ebm_exp = dx.Explainer(clf_ebm, X, y, label=\"EBM\")\n",
    "clf_lr_l2_exp = dx.Explainer(clf_lr_l2, X, y, label=\"LR_l2\")\n",
    "clf_gnb_exp = dx.Explainer(clf_gnb, X, y, label=\"GNB\")\n",
    "clf_lr_exp = dx.Explainer(clf_lr, X, y, label=\"LR\")\n",
    "clf_dl_exp = dx.Explainer(clf_dl, X, y, label=\"DL\")"
   ]
  },
  {
   "cell_type": "markdown",
   "metadata": {},
   "source": [
    "## Model partial dependence profiles"
   ]
  },
  {
   "cell_type": "code",
   "execution_count": 85,
   "metadata": {},
   "outputs": [],
   "source": [
    "cat_feat = ['Sex', 'cp', 'Place']\n",
    "cont_feat = ['Age', 'trestbps', 'chol',\n",
    "             'fbs', 'restecg', 'thalach',\n",
    "             'exang', 'oldpeak']"
   ]
  },
  {
   "cell_type": "code",
   "execution_count": 86,
   "metadata": {},
   "outputs": [
    {
     "name": "stderr",
     "output_type": "stream",
     "text": [
      "Calculating ceteris paribus: 100%|██████████| 1/1 [00:00<00:00, 11.87it/s]\n"
     ]
    }
   ],
   "source": [
    "#categorical pd profiles\n",
    "pd_cart_cat = clf_cart_exp.model_profile(variable_type=\"categorical\", variables=[\"Sex\"])\n",
    "\n",
    "# pd_ebm_cat = clf_ebm_exp.model_profile(variables= cat_feat,\n",
    "#                                          variable_type=\"categorical\")\n",
    "\n",
    "# pd_lr_l2_cat = clf_lr_l2_exp.model_profile(variables= cat_feat,\n",
    "#                                          variable_type=\"categorical\")\n",
    "\n",
    "# pd_gnb_cat = clf_gnb_exp.model_profile(variables= cat_feat,\n",
    "#                                          variable_type=\"categorical\")\n",
    "\n",
    "# pd_lr_cat = clf_lr_exp.model_profile(variables= cat_feat,\n",
    "#                                          variable_type=\"categorical\")\n",
    "\n",
    "# pd_dl_cat = clf_dl_exp.model_profile(variables= cat_feat,\n",
    "#                                          variable_type=\"categorical\")\n"
   ]
  },
  {
   "cell_type": "code",
   "execution_count": 87,
   "metadata": {},
   "outputs": [
    {
     "name": "stderr",
     "output_type": "stream",
     "text": [
      "Calculating ceteris paribus: 100%|██████████| 8/8 [00:00<00:00,  9.83it/s]\n",
      "Calculating ceteris paribus: 100%|██████████| 8/8 [00:08<00:00,  1.03s/it]\n",
      "Calculating ceteris paribus: 100%|██████████| 8/8 [00:00<00:00, 10.22it/s]\n",
      "Calculating ceteris paribus: 100%|██████████| 8/8 [00:00<00:00, 14.03it/s]\n",
      "Calculating ceteris paribus: 100%|██████████| 8/8 [00:00<00:00, 14.67it/s]\n",
      "Calculating ceteris paribus: 100%|██████████| 8/8 [00:01<00:00,  4.29it/s]\n"
     ]
    }
   ],
   "source": [
    "#continous pd profiles\n",
    "pd_cart = clf_cart_exp.model_profile(variables= cont_feat)\n",
    "\n",
    "pd_ebm = clf_ebm_exp.model_profile(variables= cont_feat)\n",
    "\n",
    "pd_lr_l2 = clf_lr_l2_exp.model_profile(variables= cont_feat)\n",
    "\n",
    "pd_gnb = clf_gnb_exp.model_profile(variables= cont_feat)\n",
    "\n",
    "pd_lr = clf_lr_exp.model_profile(variables= cont_feat)\n",
    "\n",
    "pd_dl = clf_dl_exp.model_profile(variables= cont_feat)"
   ]
  },
  {
   "cell_type": "markdown",
   "metadata": {},
   "source": [
    "### Plot Aggregated Profiles for Categorical"
   ]
  },
  {
   "cell_type": "code",
   "execution_count": 88,
   "metadata": {},
   "outputs": [
    {
     "data": {
      "application/vnd.plotly.v1+json": {
       "config": {
        "displaylogo": false,
        "modeBarButtonsToRemove": [
         "sendDataToCloud",
         "lasso2d",
         "autoScale2d",
         "select2d",
         "zoom2d",
         "pan2d",
         "zoomIn2d",
         "zoomOut2d",
         "resetScale2d",
         "toggleSpikelines",
         "hoverCompareCartesian",
         "hoverClosestCartesian"
        ],
        "plotlyServerURL": "https://plot.ly",
        "staticPlot": false,
        "toImageButtonOptions": {
         "height": null,
         "width": null
        }
       },
       "data": [
        {
         "alignmentgroup": "True",
         "base": [
          0.48333333333333334,
          0.48333333333333334,
          0.48333333333333334,
          0.48333333333333334,
          0.48333333333333334,
          0.48333333333333334,
          0.48333333333333334,
          0.48333333333333334,
          0.48333333333333334,
          0.48333333333333334,
          0.48333333333333334,
          0.48333333333333334,
          0.48333333333333334,
          0.48333333333333334,
          0.48333333333333334,
          0.48333333333333334,
          0.48333333333333334,
          0.48333333333333334,
          0.48333333333333334,
          0.48333333333333334,
          0.48333333333333334,
          0.48333333333333334,
          0.48333333333333334,
          0.48333333333333334,
          0.48333333333333334,
          0.48333333333333334,
          0.48333333333333334,
          0.48333333333333334,
          0.48333333333333334,
          0.48333333333333334,
          0.48333333333333334,
          0.48333333333333334,
          0.48333333333333334,
          0.48333333333333334,
          0.48333333333333334,
          0.48333333333333334,
          0.48333333333333334,
          0.48333333333333334,
          0.48333333333333334,
          0.48333333333333334,
          0.48333333333333334,
          0.48333333333333334,
          0.48333333333333334,
          0.48333333333333334,
          0.48333333333333334,
          0.48333333333333334,
          0.48333333333333334,
          0.48333333333333334,
          0.48333333333333334,
          0.48333333333333334,
          0.48333333333333334,
          0.48333333333333334,
          0.48333333333333334,
          0.48333333333333334,
          0.48333333333333334,
          0.48333333333333334,
          0.48333333333333334,
          0.48333333333333334,
          0.48333333333333334,
          0.48333333333333334,
          0.48333333333333334,
          0.48333333333333334,
          0.48333333333333334,
          0.48333333333333334,
          0.48333333333333334,
          0.48333333333333334,
          0.48333333333333334,
          0.48333333333333334,
          0.48333333333333334,
          0.48333333333333334,
          0.48333333333333334,
          0.48333333333333334,
          0.48333333333333334,
          0.48333333333333334,
          0.48333333333333334,
          0.48333333333333334,
          0.48333333333333334,
          0.48333333333333334,
          0.48333333333333334,
          0.48333333333333334,
          0.48333333333333334,
          0.48333333333333334,
          0.48333333333333334,
          0.48333333333333334,
          0.48333333333333334,
          0.48333333333333334,
          0.48333333333333334,
          0.48333333333333334,
          0.48333333333333334,
          0.48333333333333334,
          0.48333333333333334,
          0.48333333333333334,
          0.48333333333333334,
          0.48333333333333334,
          0.48333333333333334,
          0.48333333333333334,
          0.48333333333333334,
          0.48333333333333334,
          0.48333333333333334,
          0.48333333333333334,
          0.48333333333333334
         ],
         "customdata": [
          [
           0.38666666666666666,
           "CART",
           "Sex"
          ],
          [
           0.4866666666666667,
           "CART",
           "Sex"
          ],
          [
           0.4866666666666667,
           "CART",
           "Sex"
          ],
          [
           0.4866666666666667,
           "CART",
           "Sex"
          ],
          [
           0.4866666666666667,
           "CART",
           "Sex"
          ],
          [
           0.4866666666666667,
           "CART",
           "Sex"
          ],
          [
           0.4866666666666667,
           "CART",
           "Sex"
          ],
          [
           0.4866666666666667,
           "CART",
           "Sex"
          ],
          [
           0.4866666666666667,
           "CART",
           "Sex"
          ],
          [
           0.4866666666666667,
           "CART",
           "Sex"
          ],
          [
           0.4866666666666667,
           "CART",
           "Sex"
          ],
          [
           0.4866666666666667,
           "CART",
           "Sex"
          ],
          [
           0.4866666666666667,
           "CART",
           "Sex"
          ],
          [
           0.4866666666666667,
           "CART",
           "Sex"
          ],
          [
           0.4866666666666667,
           "CART",
           "Sex"
          ],
          [
           0.4866666666666667,
           "CART",
           "Sex"
          ],
          [
           0.4866666666666667,
           "CART",
           "Sex"
          ],
          [
           0.4866666666666667,
           "CART",
           "Sex"
          ],
          [
           0.4866666666666667,
           "CART",
           "Sex"
          ],
          [
           0.4866666666666667,
           "CART",
           "Sex"
          ],
          [
           0.4866666666666667,
           "CART",
           "Sex"
          ],
          [
           0.4866666666666667,
           "CART",
           "Sex"
          ],
          [
           0.4866666666666667,
           "CART",
           "Sex"
          ],
          [
           0.4866666666666667,
           "CART",
           "Sex"
          ],
          [
           0.4866666666666667,
           "CART",
           "Sex"
          ],
          [
           0.4866666666666667,
           "CART",
           "Sex"
          ],
          [
           0.4866666666666667,
           "CART",
           "Sex"
          ],
          [
           0.4866666666666667,
           "CART",
           "Sex"
          ],
          [
           0.4866666666666667,
           "CART",
           "Sex"
          ],
          [
           0.4866666666666667,
           "CART",
           "Sex"
          ],
          [
           0.4866666666666667,
           "CART",
           "Sex"
          ],
          [
           0.4866666666666667,
           "CART",
           "Sex"
          ],
          [
           0.4866666666666667,
           "CART",
           "Sex"
          ],
          [
           0.4866666666666667,
           "CART",
           "Sex"
          ],
          [
           0.4866666666666667,
           "CART",
           "Sex"
          ],
          [
           0.4866666666666667,
           "CART",
           "Sex"
          ],
          [
           0.4866666666666667,
           "CART",
           "Sex"
          ],
          [
           0.4866666666666667,
           "CART",
           "Sex"
          ],
          [
           0.4866666666666667,
           "CART",
           "Sex"
          ],
          [
           0.4866666666666667,
           "CART",
           "Sex"
          ],
          [
           0.4866666666666667,
           "CART",
           "Sex"
          ],
          [
           0.4866666666666667,
           "CART",
           "Sex"
          ],
          [
           0.4866666666666667,
           "CART",
           "Sex"
          ],
          [
           0.4866666666666667,
           "CART",
           "Sex"
          ],
          [
           0.4866666666666667,
           "CART",
           "Sex"
          ],
          [
           0.4866666666666667,
           "CART",
           "Sex"
          ],
          [
           0.4866666666666667,
           "CART",
           "Sex"
          ],
          [
           0.4866666666666667,
           "CART",
           "Sex"
          ],
          [
           0.4866666666666667,
           "CART",
           "Sex"
          ],
          [
           0.4866666666666667,
           "CART",
           "Sex"
          ],
          [
           0.4866666666666667,
           "CART",
           "Sex"
          ],
          [
           0.4866666666666667,
           "CART",
           "Sex"
          ],
          [
           0.4866666666666667,
           "CART",
           "Sex"
          ],
          [
           0.4866666666666667,
           "CART",
           "Sex"
          ],
          [
           0.4866666666666667,
           "CART",
           "Sex"
          ],
          [
           0.4866666666666667,
           "CART",
           "Sex"
          ],
          [
           0.4866666666666667,
           "CART",
           "Sex"
          ],
          [
           0.4866666666666667,
           "CART",
           "Sex"
          ],
          [
           0.4866666666666667,
           "CART",
           "Sex"
          ],
          [
           0.4866666666666667,
           "CART",
           "Sex"
          ],
          [
           0.4866666666666667,
           "CART",
           "Sex"
          ],
          [
           0.4866666666666667,
           "CART",
           "Sex"
          ],
          [
           0.4866666666666667,
           "CART",
           "Sex"
          ],
          [
           0.4866666666666667,
           "CART",
           "Sex"
          ],
          [
           0.4866666666666667,
           "CART",
           "Sex"
          ],
          [
           0.4866666666666667,
           "CART",
           "Sex"
          ],
          [
           0.4866666666666667,
           "CART",
           "Sex"
          ],
          [
           0.4866666666666667,
           "CART",
           "Sex"
          ],
          [
           0.4866666666666667,
           "CART",
           "Sex"
          ],
          [
           0.4866666666666667,
           "CART",
           "Sex"
          ],
          [
           0.4866666666666667,
           "CART",
           "Sex"
          ],
          [
           0.4866666666666667,
           "CART",
           "Sex"
          ],
          [
           0.4866666666666667,
           "CART",
           "Sex"
          ],
          [
           0.4866666666666667,
           "CART",
           "Sex"
          ],
          [
           0.4866666666666667,
           "CART",
           "Sex"
          ],
          [
           0.4866666666666667,
           "CART",
           "Sex"
          ],
          [
           0.4866666666666667,
           "CART",
           "Sex"
          ],
          [
           0.4866666666666667,
           "CART",
           "Sex"
          ],
          [
           0.4866666666666667,
           "CART",
           "Sex"
          ],
          [
           0.4866666666666667,
           "CART",
           "Sex"
          ],
          [
           0.4866666666666667,
           "CART",
           "Sex"
          ],
          [
           0.4866666666666667,
           "CART",
           "Sex"
          ],
          [
           0.4866666666666667,
           "CART",
           "Sex"
          ],
          [
           0.4866666666666667,
           "CART",
           "Sex"
          ],
          [
           0.4866666666666667,
           "CART",
           "Sex"
          ],
          [
           0.4866666666666667,
           "CART",
           "Sex"
          ],
          [
           0.4866666666666667,
           "CART",
           "Sex"
          ],
          [
           0.4866666666666667,
           "CART",
           "Sex"
          ],
          [
           0.4866666666666667,
           "CART",
           "Sex"
          ],
          [
           0.4866666666666667,
           "CART",
           "Sex"
          ],
          [
           0.4866666666666667,
           "CART",
           "Sex"
          ],
          [
           0.4866666666666667,
           "CART",
           "Sex"
          ],
          [
           0.4866666666666667,
           "CART",
           "Sex"
          ],
          [
           0.4866666666666667,
           "CART",
           "Sex"
          ],
          [
           0.4866666666666667,
           "CART",
           "Sex"
          ],
          [
           0.4866666666666667,
           "CART",
           "Sex"
          ],
          [
           0.4866666666666667,
           "CART",
           "Sex"
          ],
          [
           0.4866666666666667,
           "CART",
           "Sex"
          ],
          [
           0.4866666666666667,
           "CART",
           "Sex"
          ],
          [
           0.4866666666666667,
           "CART",
           "Sex"
          ],
          [
           0.4866666666666667,
           "CART",
           "Sex"
          ]
         ],
         "hovertemplate": "<b>%{hovertext}</b><br><br>mean_prediction=%{base:.3f}<br>prediction=%{customdata[0]:.3f}<extra></extra>",
         "hovertext": [
          "CART",
          "CART",
          "CART",
          "CART",
          "CART",
          "CART",
          "CART",
          "CART",
          "CART",
          "CART",
          "CART",
          "CART",
          "CART",
          "CART",
          "CART",
          "CART",
          "CART",
          "CART",
          "CART",
          "CART",
          "CART",
          "CART",
          "CART",
          "CART",
          "CART",
          "CART",
          "CART",
          "CART",
          "CART",
          "CART",
          "CART",
          "CART",
          "CART",
          "CART",
          "CART",
          "CART",
          "CART",
          "CART",
          "CART",
          "CART",
          "CART",
          "CART",
          "CART",
          "CART",
          "CART",
          "CART",
          "CART",
          "CART",
          "CART",
          "CART",
          "CART",
          "CART",
          "CART",
          "CART",
          "CART",
          "CART",
          "CART",
          "CART",
          "CART",
          "CART",
          "CART",
          "CART",
          "CART",
          "CART",
          "CART",
          "CART",
          "CART",
          "CART",
          "CART",
          "CART",
          "CART",
          "CART",
          "CART",
          "CART",
          "CART",
          "CART",
          "CART",
          "CART",
          "CART",
          "CART",
          "CART",
          "CART",
          "CART",
          "CART",
          "CART",
          "CART",
          "CART",
          "CART",
          "CART",
          "CART",
          "CART",
          "CART",
          "CART",
          "CART",
          "CART",
          "CART",
          "CART",
          "CART",
          "CART",
          "CART",
          "CART"
         ],
         "legendgroup": "CART",
         "marker": {
          "color": "#46bac2",
          "pattern": {
           "shape": ""
          }
         },
         "name": "CART",
         "offsetgroup": "CART",
         "orientation": "v",
         "showlegend": true,
         "textposition": "auto",
         "type": "bar",
         "x": [
          "0.0",
          "0.01",
          "0.02",
          "0.03",
          "0.04",
          "0.05",
          "0.06",
          "0.07",
          "0.08",
          "0.09",
          "0.1",
          "0.11",
          "0.12",
          "0.13",
          "0.14",
          "0.15",
          "0.16",
          "0.17",
          "0.18",
          "0.19",
          "0.2",
          "0.21",
          "0.22",
          "0.23",
          "0.24",
          "0.25",
          "0.26",
          "0.27",
          "0.28",
          "0.29",
          "0.3",
          "0.31",
          "0.32",
          "0.33",
          "0.34",
          "0.35000000000000003",
          "0.36",
          "0.37",
          "0.38",
          "0.39",
          "0.4",
          "0.41000000000000003",
          "0.42",
          "0.43",
          "0.44",
          "0.45",
          "0.46",
          "0.47000000000000003",
          "0.48",
          "0.49",
          "0.5",
          "0.51",
          "0.52",
          "0.53",
          "0.54",
          "0.55",
          "0.56",
          "0.5700000000000001",
          "0.58",
          "0.59",
          "0.6",
          "0.61",
          "0.62",
          "0.63",
          "0.64",
          "0.65",
          "0.66",
          "0.67",
          "0.68",
          "0.6900000000000001",
          "0.7000000000000001",
          "0.71",
          "0.72",
          "0.73",
          "0.74",
          "0.75",
          "0.76",
          "0.77",
          "0.78",
          "0.79",
          "0.8",
          "0.81",
          "0.8200000000000001",
          "0.8300000000000001",
          "0.84",
          "0.85",
          "0.86",
          "0.87",
          "0.88",
          "0.89",
          "0.9",
          "0.91",
          "0.92",
          "0.93",
          "0.9400000000000001",
          "0.9500000000000001",
          "0.96",
          "0.97",
          "0.98",
          "0.99",
          "1.0"
         ],
         "xaxis": "x",
         "y": [
          -0.09666666666666668,
          0.003333333333333355,
          0.003333333333333355,
          0.003333333333333355,
          0.003333333333333355,
          0.003333333333333355,
          0.003333333333333355,
          0.003333333333333355,
          0.003333333333333355,
          0.003333333333333355,
          0.003333333333333355,
          0.003333333333333355,
          0.003333333333333355,
          0.003333333333333355,
          0.003333333333333355,
          0.003333333333333355,
          0.003333333333333355,
          0.003333333333333355,
          0.003333333333333355,
          0.003333333333333355,
          0.003333333333333355,
          0.003333333333333355,
          0.003333333333333355,
          0.003333333333333355,
          0.003333333333333355,
          0.003333333333333355,
          0.003333333333333355,
          0.003333333333333355,
          0.003333333333333355,
          0.003333333333333355,
          0.003333333333333355,
          0.003333333333333355,
          0.003333333333333355,
          0.003333333333333355,
          0.003333333333333355,
          0.003333333333333355,
          0.003333333333333355,
          0.003333333333333355,
          0.003333333333333355,
          0.003333333333333355,
          0.003333333333333355,
          0.003333333333333355,
          0.003333333333333355,
          0.003333333333333355,
          0.003333333333333355,
          0.003333333333333355,
          0.003333333333333355,
          0.003333333333333355,
          0.003333333333333355,
          0.003333333333333355,
          0.003333333333333355,
          0.003333333333333355,
          0.003333333333333355,
          0.003333333333333355,
          0.003333333333333355,
          0.003333333333333355,
          0.003333333333333355,
          0.003333333333333355,
          0.003333333333333355,
          0.003333333333333355,
          0.003333333333333355,
          0.003333333333333355,
          0.003333333333333355,
          0.003333333333333355,
          0.003333333333333355,
          0.003333333333333355,
          0.003333333333333355,
          0.003333333333333355,
          0.003333333333333355,
          0.003333333333333355,
          0.003333333333333355,
          0.003333333333333355,
          0.003333333333333355,
          0.003333333333333355,
          0.003333333333333355,
          0.003333333333333355,
          0.003333333333333355,
          0.003333333333333355,
          0.003333333333333355,
          0.003333333333333355,
          0.003333333333333355,
          0.003333333333333355,
          0.003333333333333355,
          0.003333333333333355,
          0.003333333333333355,
          0.003333333333333355,
          0.003333333333333355,
          0.003333333333333355,
          0.003333333333333355,
          0.003333333333333355,
          0.003333333333333355,
          0.003333333333333355,
          0.003333333333333355,
          0.003333333333333355,
          0.003333333333333355,
          0.003333333333333355,
          0.003333333333333355,
          0.003333333333333355,
          0.003333333333333355,
          0.003333333333333355,
          0.003333333333333355
         ],
         "yaxis": "y"
        }
       ],
       "layout": {
        "annotations": [
         {
          "font": {
           "size": 13
          },
          "showarrow": false,
          "text": "Sex",
          "x": 0.5,
          "xanchor": "center",
          "xref": "paper",
          "y": 1,
          "yanchor": "bottom",
          "yref": "paper"
         },
         {
          "font": {
           "size": 13
          },
          "showarrow": false,
          "text": "prediction",
          "textangle": -90,
          "x": -0.07,
          "xref": "paper",
          "y": 0.5,
          "yref": "paper"
         }
        ],
        "barmode": "group",
        "font": {
         "color": "#371ea3"
        },
        "height": 489,
        "hovermode": "x unified",
        "legend": {
         "font": {
          "size": 11
         },
         "itemsizing": "constant",
         "orientation": "h",
         "title": {
          "font": {
           "size": 12
          },
          "text": "label"
         },
         "tracegroupgap": 0,
         "x": 1,
         "xanchor": "right",
         "y": 1.0613496932515338,
         "yanchor": "bottom"
        },
        "margin": {
         "b": 71,
         "r": 30,
         "t": 78
        },
        "shapes": [
         {
          "layer": "below",
          "line": {
           "color": "#371ea3",
           "dash": "dot",
           "width": 1.5
          },
          "type": "line",
          "x0": 0,
          "x1": 1,
          "xref": "x domain",
          "y0": 0.48333333333333334,
          "y1": 0.48333333333333334,
          "yref": "y"
         }
        ],
        "template": {
         "data": {
          "scatter": [
           {
            "type": "scatter"
           }
          ]
         }
        },
        "title": {
         "font": {
          "size": 16
         },
         "text": "Aggregated Profiles",
         "x": 0.15
        },
        "xaxis": {
         "anchor": "y",
         "automargin": true,
         "domain": [
          0,
          1
         ],
         "fixedrange": true,
         "gridwidth": 2,
         "showticklabels": true,
         "tickcolor": "white",
         "ticklen": 10,
         "ticks": "outside",
         "title": {
          "text": ""
         },
         "type": "category"
        },
        "yaxis": {
         "anchor": "x",
         "automargin": true,
         "domain": [
          0,
          1
         ],
         "fixedrange": true,
         "gridwidth": 2,
         "range": [
          0.37666666666666665,
          0.4966666666666667
         ],
         "tickcolor": "white",
         "ticklen": 3,
         "ticks": "outside",
         "title": {
          "text": ""
         },
         "type": "linear",
         "zeroline": false
        }
       }
      }
     },
     "metadata": {},
     "output_type": "display_data"
    }
   ],
   "source": [
    "pd_cart_cat.plot(variables=[\"Sex\"])"
   ]
  },
  {
   "cell_type": "code",
   "execution_count": 89,
   "metadata": {},
   "outputs": [
    {
     "ename": "TypeError",
     "evalue": "plot() got an unexpected keyword argument 'variable_type'",
     "output_type": "error",
     "traceback": [
      "\u001b[0;31m---------------------------------------------------------------------------\u001b[0m",
      "\u001b[0;31mTypeError\u001b[0m                                 Traceback (most recent call last)",
      "\u001b[0;32m/tmp/ipykernel_20955/2536385797.py\u001b[0m in \u001b[0;36m<module>\u001b[0;34m\u001b[0m\n\u001b[0;32m----> 1\u001b[0;31m \u001b[0mpd_cart_cat\u001b[0m\u001b[0;34m.\u001b[0m\u001b[0mplot\u001b[0m\u001b[0;34m(\u001b[0m\u001b[0mvariable_type\u001b[0m\u001b[0;34m=\u001b[0m\u001b[0;34m\"categorical\"\u001b[0m\u001b[0;34m,\u001b[0m\u001b[0mvariables\u001b[0m\u001b[0;34m=\u001b[0m\u001b[0;34m[\u001b[0m\u001b[0;34m'Sex'\u001b[0m\u001b[0;34m]\u001b[0m\u001b[0;34m)\u001b[0m\u001b[0;34m\u001b[0m\u001b[0;34m\u001b[0m\u001b[0m\n\u001b[0m",
      "\u001b[0;31mTypeError\u001b[0m: plot() got an unexpected keyword argument 'variable_type'"
     ]
    }
   ],
   "source": [
    "pd_cart_cat.plot(variable_type=\"categorical\",variables=['Sex'])"
   ]
  },
  {
   "cell_type": "markdown",
   "metadata": {},
   "source": [
    "### Plot Aggregated Profiles for Continous"
   ]
  },
  {
   "cell_type": "code",
   "execution_count": null,
   "metadata": {},
   "outputs": [],
   "source": [
    "pd_cart"
   ]
  }
 ],
 "metadata": {
  "interpreter": {
   "hash": "54107a2a0eb6a0b2996cb7a94c16d9283b5dc7f969a30a8a01f6dbe77c679ea9"
  },
  "kernelspec": {
   "display_name": "Python 3.9.7 ('mainenv')",
   "language": "python",
   "name": "python3"
  },
  "language_info": {
   "codemirror_mode": {
    "name": "ipython",
    "version": 3
   },
   "file_extension": ".py",
   "mimetype": "text/x-python",
   "name": "python",
   "nbconvert_exporter": "python",
   "pygments_lexer": "ipython3",
   "version": "3.9.7"
  },
  "orig_nbformat": 4
 },
 "nbformat": 4,
 "nbformat_minor": 2
}
