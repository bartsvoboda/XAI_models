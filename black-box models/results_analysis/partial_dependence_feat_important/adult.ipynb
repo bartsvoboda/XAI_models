{
 "cells": [
  {
   "cell_type": "code",
   "execution_count": 9,
   "metadata": {},
   "outputs": [
    {
     "ename": "ModuleNotFoundError",
     "evalue": "No module named 'cuml'",
     "output_type": "error",
     "traceback": [
      "\u001b[0;31m---------------------------------------------------------------------------\u001b[0m",
      "\u001b[0;31mModuleNotFoundError\u001b[0m                       Traceback (most recent call last)",
      "\u001b[0;32m/tmp/ipykernel_18150/2463972903.py\u001b[0m in \u001b[0;36m<module>\u001b[0;34m\u001b[0m\n\u001b[1;32m     50\u001b[0m \u001b[0;31m# clf_cat = make_pipeline_clf(\"CAT\")\u001b[0m\u001b[0;34m\u001b[0m\u001b[0;34m\u001b[0m\u001b[0m\n\u001b[1;32m     51\u001b[0m \u001b[0;31m# clf_cat.fit(X, y)\u001b[0m\u001b[0;34m\u001b[0m\u001b[0;34m\u001b[0m\u001b[0m\n\u001b[0;32m---> 52\u001b[0;31m \u001b[0mclf_ada\u001b[0m \u001b[0;34m=\u001b[0m \u001b[0mpk\u001b[0m\u001b[0;34m.\u001b[0m\u001b[0mload\u001b[0m\u001b[0;34m(\u001b[0m\u001b[0mopen\u001b[0m\u001b[0;34m(\u001b[0m\u001b[0;34mf\"./models/{dataset}_ada\"\u001b[0m\u001b[0;34m,\u001b[0m \u001b[0;34m'rb'\u001b[0m\u001b[0;34m)\u001b[0m\u001b[0;34m)\u001b[0m\u001b[0;34m\u001b[0m\u001b[0;34m\u001b[0m\u001b[0m\n\u001b[0m\u001b[1;32m     53\u001b[0m \u001b[0;31m# clf_ada = make_pipeline_clf(\"ADA\")\u001b[0m\u001b[0;34m\u001b[0m\u001b[0;34m\u001b[0m\u001b[0m\n\u001b[1;32m     54\u001b[0m \u001b[0;31m# clf_ada.fit(X, y)\u001b[0m\u001b[0;34m\u001b[0m\u001b[0;34m\u001b[0m\u001b[0m\n",
      "\u001b[0;31mModuleNotFoundError\u001b[0m: No module named 'cuml'"
     ]
    }
   ],
   "source": [
    "from sklearn.ensemble import RandomForestClassifier\n",
    "from sklearn.tree import DecisionTreeClassifier\n",
    "from catboost import CatBoostClassifier\n",
    "from xgboost import XGBClassifier\n",
    "\n",
    "#Support vector machines \n",
    "from sklearn.svm import SVC\n",
    "from sklearn.ensemble import AdaBoostClassifier\n",
    "from sklearn.ensemble import BaggingClassifier\n",
    "\n",
    "\n",
    "clfs = {\n",
    "    \"CART\": DecisionTreeClassifier(random_state=1234),\n",
    "    \"RNF\": RandomForestClassifier(random_state=1234),\n",
    "    \"XGB\": XGBClassifier(use_label_encoder=False),\n",
    "    \"CAT\": CatBoostClassifier(random_state=1234),\n",
    "    \"ADA\": AdaBoostClassifier(SVC(random_state=1234, kernel='rbf', probability=True)),\n",
    "    \"BAG\": BaggingClassifier(SVC(random_state=1234, kernel='rbf', probability=True))\n",
    "}\n",
    "\n",
    "import dalex as dx\n",
    "import pickle as pk\n",
    "\n",
    "dataset = 'adult'\n",
    "\n",
    "import worstcase_helper\n",
    "import importlib\n",
    "importlib.reload(worstcase_helper)\n",
    "\n",
    "preprocess, X, y = worstcase_helper.load_dataset_with_preprocess(dataset)\n",
    "\n",
    "from sklearn.pipeline import make_pipeline\n",
    "def make_pipeline_clf(clf_name):\n",
    "    clf = make_pipeline(\n",
    "        preprocess,\n",
    "        clfs[clf_name]\n",
    "    )\n",
    "    return clf\n",
    "\n",
    "clf_cart = pk.load(open(f\"./models/{dataset}_cart\", 'rb'))\n",
    "# clf_cart.fit(X, y)\n",
    "\n",
    "clf_rnf = pk.load(open(f\"./models/{dataset}_rnf\", 'rb'))\n",
    "# clf_rnf = make_pipeline_clf(\"RNF\")\n",
    "# clf_rnf.fit(X, y)\n",
    "clf_xgb = pk.load(open(f\"./models/{dataset}_xgb\", 'rb'))\n",
    "# clf_xgb = make_pipeline_clf(\"XGB\")\n",
    "# clf_xgb.fit(X, y)\n",
    "clf_cat = pk.load(open(f\"./models/{dataset}_cat\", 'rb'))\n",
    "# clf_cat = make_pipeline_clf(\"CAT\")\n",
    "# clf_cat.fit(X, y)\n",
    "clf_ada = pk.load(open(f\"./models/{dataset}_ada\", 'rb'))\n",
    "# clf_ada = make_pipeline_clf(\"ADA\")\n",
    "# clf_ada.fit(X, y)\n",
    "clf_bag = pk.load(open(f\"./models/{dataset}_bag\", 'rb'))\n",
    "# clf_bag = make_pipeline_clf(\"BAG\")\n",
    "# clf_bag.fit(X, y)\n",
    "\n",
    "clf_cart_exp = dx.Explainer(clf_cart, X, y, label=\"CART\")\n",
    "clf_ebm_exp = dx.Explainer(clf_rnf, X, y, label=\"RNF\")\n",
    "clf_lr_l2_exp = dx.Explainer(clf_xgb, X, y, label=\"XGB\")\n",
    "clf_gnb_exp = dx.Explainer(clf_cat, X, y, label=\"CAT\")\n",
    "clf_lr_exp = dx.Explainer(clf_ada, X, y, label=\"ADA\")\n",
    "clf_dl_exp = dx.Explainer(clf_bag, X, y, label=\"BAG\")\n",
    "\n"
   ]
  },
  {
   "cell_type": "code",
   "execution_count": null,
   "metadata": {},
   "outputs": [],
   "source": [
    "cat_feat = ['WorkClass', 'Education', 'MaritalStatus',\n",
    "                                  'Occupation', 'Relationship', 'Race',\n",
    "                                  'Gender', 'NativeCountry']\n",
    "cont_feat = ['Age', 'fnlwgt', 'EducationNum',\n",
    "                                  'CapitalGain', 'CapitalLoss',\n",
    "                                  'HoursPerWeek']"
   ]
  },
  {
   "cell_type": "code",
   "execution_count": null,
   "metadata": {},
   "outputs": [],
   "source": [
    "#categorical pd profiles\n",
    "pd_cart_cat = clf_cart_exp.model_profile(variable_type=\"categorical\", variables=cat_feat)\n",
    "\n",
    "pd_ebm_cat = clf_ebm_exp.model_profile(variables= cat_feat,\n",
    "                                         variable_type=\"categorical\")\n",
    "\n",
    "pd_lr_l2_cat = clf_lr_l2_exp.model_profile(variables= cat_feat,\n",
    "                                         variable_type=\"categorical\")\n",
    "\n",
    "pd_gnb_cat = clf_gnb_exp.model_profile(variables= cat_feat,\n",
    "                                         variable_type=\"categorical\")\n",
    "\n",
    "pd_lr_cat = clf_lr_exp.model_profile(variables= cat_feat,\n",
    "                                         variable_type=\"categorical\")\n",
    "\n",
    "pd_dl_cat = clf_dl_exp.model_profile(variables= cat_feat,\n",
    "                                         variable_type=\"categorical\")\n",
    "\n",
    "#continous pd profiles\n",
    "pd_cart = clf_cart_exp.model_profile(variables= cont_feat)\n",
    "\n",
    "pd_ebm = clf_ebm_exp.model_profile(variables= cont_feat)\n",
    "\n",
    "pd_lr_l2 = clf_lr_l2_exp.model_profile(variables= cont_feat)\n",
    "\n",
    "pd_gnb = clf_gnb_exp.model_profile(variables= cont_feat)\n",
    "\n",
    "pd_lr = clf_lr_exp.model_profile(variables= cont_feat)\n",
    "\n",
    "pd_dl = clf_dl_exp.model_profile(variables= cont_feat)"
   ]
  }
 ],
 "metadata": {
  "interpreter": {
   "hash": "54107a2a0eb6a0b2996cb7a94c16d9283b5dc7f969a30a8a01f6dbe77c679ea9"
  },
  "kernelspec": {
   "display_name": "Python 3.9.7 ('mainenv')",
   "language": "python",
   "name": "python3"
  },
  "language_info": {
   "codemirror_mode": {
    "name": "ipython",
    "version": 3
   },
   "file_extension": ".py",
   "mimetype": "text/x-python",
   "name": "python",
   "nbconvert_exporter": "python",
   "pygments_lexer": "ipython3",
   "version": "3.9.7"
  },
  "orig_nbformat": 4
 },
 "nbformat": 4,
 "nbformat_minor": 2
}
