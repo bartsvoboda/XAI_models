{
 "cells": [
  {
   "cell_type": "code",
   "execution_count": 1,
   "metadata": {},
   "outputs": [],
   "source": [
    "import numpy as np"
   ]
  },
  {
   "cell_type": "code",
   "execution_count": 9,
   "metadata": {},
   "outputs": [],
   "source": [
    "from sklearn.tree import DecisionTreeClassifier\n",
    "from interpret.glassbox import ExplainableBoostingClassifier\n",
    "from interpret.glassbox import DecisionListClassifier\n",
    "from sklearn.linear_model import LogisticRegression\n",
    "from sklearn.naive_bayes import GaussianNB\n",
    "\n",
    "\n",
    "clfs = {\n",
    "    \"CART\": DecisionTreeClassifier(random_state=1234),\n",
    "    \"EBM\": ExplainableBoostingClassifier(),\n",
    "    \"LR\": LogisticRegression(random_state=1234),\n",
    "    \"GNB\": GaussianNB(),\n",
    "    \"DL\": DecisionListClassifier(random_state=1234)\n",
    "    \n",
    "}"
   ]
  },
  {
   "cell_type": "code",
   "execution_count": 3,
   "metadata": {},
   "outputs": [
    {
     "name": "stdout",
     "output_type": "stream",
     "text": [
      "\n",
      "Scores:\n",
      " (5, 11, 10)\n"
     ]
    }
   ],
   "source": [
    "results = np.load('test_results/auc/auc_results.npy')\n",
    "print(\"\\nScores:\\n\", results.shape)"
   ]
  },
  {
   "cell_type": "code",
   "execution_count": 4,
   "metadata": {},
   "outputs": [
    {
     "name": "stdout",
     "output_type": "stream",
     "text": [
      "\n",
      "Mean results:\n",
      " [[0.93055088 0.95912893 0.95713197 0.92571745 0.92121602]\n",
      " [0.76560313 0.82247063 0.80306682 0.74701086 0.51868132]\n",
      " [0.68984422 0.72551118 0.58374287 0.65885828 0.67644476]\n",
      " [0.68979695 0.64459081 0.61833333 0.70959596 0.5       ]\n",
      " [0.55964083 0.54397788 0.54037836 0.57965632 0.58248116]\n",
      " [0.66897205 0.7113218  0.71082914 0.71373305 0.72512858]\n",
      " [0.61519013 0.66566033 0.67338044 0.6697739  0.50309524]\n",
      " [0.68904082 0.77068027 0.7837619  0.77835374 0.7462381 ]\n",
      " [0.54330156 0.50563318 0.50232776 0.64755341 0.50684868]\n",
      " [0.57333082 0.65364844 0.66281159 0.66257785 0.51253968]\n",
      " [0.56879518 0.59993574 0.50007108 0.5506782  0.56451635]]\n"
     ]
    }
   ],
   "source": [
    "mean_results = np.mean(results, axis=2).T\n",
    "print(\"\\nMean results:\\n\", mean_results)"
   ]
  },
  {
   "cell_type": "code",
   "execution_count": 5,
   "metadata": {},
   "outputs": [
    {
     "name": "stdout",
     "output_type": "stream",
     "text": [
      "\n",
      "Ranks:\n",
      " [[3. 5. 4. 2. 1.]\n",
      " [3. 5. 4. 2. 1.]\n",
      " [4. 5. 1. 2. 3.]\n",
      " [4. 3. 2. 5. 1.]\n",
      " [3. 2. 1. 4. 5.]\n",
      " [1. 3. 2. 4. 5.]\n",
      " [2. 3. 5. 4. 1.]\n",
      " [1. 3. 5. 4. 2.]\n",
      " [4. 2. 1. 5. 3.]\n",
      " [2. 3. 5. 4. 1.]\n",
      " [4. 5. 1. 2. 3.]]\n"
     ]
    }
   ],
   "source": [
    "from scipy.stats import rankdata\n",
    "ranks = []\n",
    "for mr in mean_results:\n",
    "    ranks.append(rankdata(mr).tolist())\n",
    "ranks = np.array(ranks)\n",
    "print(\"\\nRanks:\\n\", ranks)"
   ]
  },
  {
   "cell_type": "code",
   "execution_count": 7,
   "metadata": {},
   "outputs": [
    {
     "data": {
      "text/plain": [
       "array([2.81818182, 3.54545455, 2.81818182, 3.45454545, 2.36363636])"
      ]
     },
     "execution_count": 7,
     "metadata": {},
     "output_type": "execute_result"
    }
   ],
   "source": [
    "mean_ranks = np.mean(ranks, axis=0)\n",
    "mean_ranks"
   ]
  },
  {
   "cell_type": "markdown",
   "metadata": {},
   "source": [
    "## Wilcoxon's rank statistical test"
   ]
  },
  {
   "cell_type": "code",
   "execution_count": 10,
   "metadata": {},
   "outputs": [],
   "source": [
    "from scipy.stats import ranksums\n",
    "\n",
    "alfa = .05\n",
    "w_statistic = np.zeros((len(clfs), len(clfs)))\n",
    "p_value = np.zeros((len(clfs), len(clfs)))\n",
    "\n",
    "for i in range(len(clfs)):\n",
    "    for j in range(len(clfs)):\n",
    "        w_statistic[i, j], p_value[i, j] = ranksums(ranks.T[i], ranks.T[j])"
   ]
  },
  {
   "cell_type": "code",
   "execution_count": 12,
   "metadata": {},
   "outputs": [
    {
     "name": "stdout",
     "output_type": "stream",
     "text": [
      "\n",
      "w-statistic:\n",
      "         CART    EBM     LR    GNB    DL\n",
      "----  ------  -----  -----  -----  ----\n",
      "CART    0.00  -1.12  -0.03  -1.21  0.92\n",
      "EBM     1.12   0.00   1.15   0.23  1.84\n",
      "LR      0.03  -1.15   0.00  -0.89  0.56\n",
      "GNB     1.21  -0.23   0.89   0.00  1.74\n",
      "DL     -0.92  -1.84  -0.56  -1.74  0.00 \n",
      "\n",
      "p-value:\n",
      "         CART    EBM    LR    GNB    DL\n",
      "----  ------  -----  ----  -----  ----\n",
      "CART    1.00   0.26  0.97   0.22  0.36\n",
      "EBM     0.26   1.00  0.25   0.82  0.07\n",
      "LR      0.97   0.25  1.00   0.38  0.58\n",
      "GNB     0.22   0.82  0.38   1.00  0.08\n",
      "DL      0.36   0.07  0.58   0.08  1.00\n"
     ]
    }
   ],
   "source": [
    "from tabulate import tabulate\n",
    "\n",
    "headers = list(clfs.keys())\n",
    "names_column = np.expand_dims(np.array(list(clfs.keys())), axis=1)\n",
    "w_statistic_table = np.concatenate((names_column, w_statistic), axis=1)\n",
    "w_statistic_table = tabulate(w_statistic_table, headers, floatfmt=\".2f\")\n",
    "p_value_table = np.concatenate((names_column, p_value), axis=1)\n",
    "p_value_table = tabulate(p_value_table, headers, floatfmt=\".2f\")\n",
    "print(\"\\nw-statistic:\\n\", w_statistic_table, \"\\n\\np-value:\\n\", p_value_table)"
   ]
  },
  {
   "cell_type": "code",
   "execution_count": 13,
   "metadata": {},
   "outputs": [
    {
     "name": "stdout",
     "output_type": "stream",
     "text": [
      "\n",
      "Advantage:\n",
      "         CART    EBM    LR    GNB    DL\n",
      "----  ------  -----  ----  -----  ----\n",
      "CART       0      0     0      0     1\n",
      "EBM        1      0     1      1     1\n",
      "LR         1      0     0      0     1\n",
      "GNB        1      0     1      0     1\n",
      "DL         0      0     0      0     0\n"
     ]
    }
   ],
   "source": [
    "advantage = np.zeros((len(clfs), len(clfs)))\n",
    "advantage[w_statistic > 0] = 1\n",
    "advantage_table = tabulate(np.concatenate(\n",
    "    (names_column, advantage), axis=1), headers)\n",
    "print(\"\\nAdvantage:\\n\", advantage_table)"
   ]
  },
  {
   "cell_type": "code",
   "execution_count": 14,
   "metadata": {},
   "outputs": [
    {
     "name": "stdout",
     "output_type": "stream",
     "text": [
      "\n",
      "Statistical significance (alpha = 0.05):\n",
      "         CART    EBM    LR    GNB    DL\n",
      "----  ------  -----  ----  -----  ----\n",
      "CART       0      0     0      0     0\n",
      "EBM        0      0     0      0     0\n",
      "LR         0      0     0      0     0\n",
      "GNB        0      0     0      0     0\n",
      "DL         0      0     0      0     0\n"
     ]
    }
   ],
   "source": [
    "significance = np.zeros((len(clfs), len(clfs)))\n",
    "significance[p_value <= alfa] = 1\n",
    "significance_table = tabulate(np.concatenate(\n",
    "    (names_column, significance), axis=1), headers)\n",
    "print(\"\\nStatistical significance (alpha = 0.05):\\n\", significance_table)"
   ]
  }
 ],
 "metadata": {
  "interpreter": {
   "hash": "54107a2a0eb6a0b2996cb7a94c16d9283b5dc7f969a30a8a01f6dbe77c679ea9"
  },
  "kernelspec": {
   "display_name": "Python 3.9.7 ('mainenv')",
   "language": "python",
   "name": "python3"
  },
  "language_info": {
   "codemirror_mode": {
    "name": "ipython",
    "version": 3
   },
   "file_extension": ".py",
   "mimetype": "text/x-python",
   "name": "python",
   "nbconvert_exporter": "python",
   "pygments_lexer": "ipython3",
   "version": "3.9.7"
  },
  "orig_nbformat": 4
 },
 "nbformat": 4,
 "nbformat_minor": 2
}
