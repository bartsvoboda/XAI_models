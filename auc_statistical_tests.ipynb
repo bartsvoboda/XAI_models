{
 "cells": [
  {
   "cell_type": "code",
   "execution_count": 1,
   "metadata": {},
   "outputs": [],
   "source": [
    "import numpy as np"
   ]
  },
  {
   "cell_type": "code",
   "execution_count": 2,
   "metadata": {},
   "outputs": [],
   "source": [
    "from sklearn.tree import DecisionTreeClassifier\n",
    "from interpret.glassbox import ExplainableBoostingClassifier\n",
    "from interpret.glassbox import DecisionListClassifier\n",
    "from sklearn.linear_model import LogisticRegression\n",
    "from sklearn.naive_bayes import GaussianNB\n",
    "\n",
    "\n",
    "clfs = {\n",
    "    \"CART\": DecisionTreeClassifier(random_state=1234),\n",
    "    \"EBM\": ExplainableBoostingClassifier(),\n",
    "    \"LR_l2\": LogisticRegression(penalty=\"l2\",random_state=1234),\n",
    "    \"GNB\": GaussianNB(),\n",
    "    \"LR\": LogisticRegression(penalty=\"none\", random_state=1234),\n",
    "    \"DL\": DecisionListClassifier(random_state=1234)\n",
    "    \n",
    "}"
   ]
  },
  {
   "cell_type": "code",
   "execution_count": 3,
   "metadata": {},
   "outputs": [
    {
     "name": "stdout",
     "output_type": "stream",
     "text": [
      "\n",
      "Scores:\n",
      " (6, 12, 10)\n"
     ]
    }
   ],
   "source": [
    "results = np.load('test_results/auc/auc_results.npy')\n",
    "print(\"\\nScores:\\n\", results.shape)"
   ]
  },
  {
   "cell_type": "code",
   "execution_count": 4,
   "metadata": {},
   "outputs": [
    {
     "name": "stdout",
     "output_type": "stream",
     "text": [
      "\n",
      "Mean results:\n",
      " [[0.91590909 0.96071068 0.97088023 0.9257684  0.95712843 0.92681457]\n",
      " [0.79       0.83428571 0.82833333 0.74809524 0.84047619 0.53690476]\n",
      " [0.69006276 0.7251629  0.58751781 0.6596794  0.58788254 0.67504435]\n",
      " [0.68771429 0.6        0.81697959 0.71297959 0.82441837 0.5       ]\n",
      " [0.55984991 0.54702253 0.54285565 0.58393634 0.54285565 0.5825487 ]\n",
      " [0.67851567 0.70537037 0.73139316 0.72405983 0.72939316 0.72859544]\n",
      " [0.61985507 0.66160455 0.67374741 0.67024845 0.67516563 0.5       ]\n",
      " [0.72135714 0.7732381  0.78621429 0.78084524 0.7885119  0.719     ]\n",
      " [0.55456369 0.50206135 0.50227457 0.6607268  0.50227457 0.5006786 ]\n",
      " [0.5637361  0.64820474 0.68368772 0.66743485 0.67732153 0.50555556]\n",
      " [0.57079358 0.60341323 0.50053125 0.55200018 0.50053125 0.57345865]\n",
      " [0.80469075 0.88084428 0.87087986 0.69917077 0.86689381 0.87017515]]\n"
     ]
    }
   ],
   "source": [
    "mean_results = np.mean(results, axis=2).T\n",
    "print(\"\\nMean results:\\n\", mean_results)"
   ]
  },
  {
   "cell_type": "code",
   "execution_count": 5,
   "metadata": {},
   "outputs": [
    {
     "name": "stdout",
     "output_type": "stream",
     "text": [
      "\n",
      "Ranks:\n",
      " [[1.  5.  6.  2.  4.  3. ]\n",
      " [3.  5.  4.  2.  6.  1. ]\n",
      " [5.  6.  1.  3.  2.  4. ]\n",
      " [3.  2.  5.  4.  6.  1. ]\n",
      " [4.  3.  1.5 6.  1.5 5. ]\n",
      " [1.  2.  6.  3.  5.  4. ]\n",
      " [2.  3.  5.  4.  6.  1. ]\n",
      " [2.  3.  5.  4.  6.  1. ]\n",
      " [5.  2.  3.5 6.  3.5 1. ]\n",
      " [2.  3.  6.  4.  5.  1. ]\n",
      " [4.  6.  1.5 3.  1.5 5. ]\n",
      " [2.  6.  5.  1.  3.  4. ]]\n"
     ]
    }
   ],
   "source": [
    "from scipy.stats import rankdata\n",
    "ranks = []\n",
    "for mr in mean_results:\n",
    "    ranks.append(rankdata(mr).tolist())\n",
    "ranks = np.array(ranks)\n",
    "print(\"\\nRanks:\\n\", ranks)"
   ]
  },
  {
   "cell_type": "code",
   "execution_count": 6,
   "metadata": {},
   "outputs": [
    {
     "data": {
      "text/plain": [
       "array([2.83333333, 3.83333333, 4.125     , 3.5       , 4.125     ,\n",
       "       2.58333333])"
      ]
     },
     "execution_count": 6,
     "metadata": {},
     "output_type": "execute_result"
    }
   ],
   "source": [
    "mean_ranks = np.mean(ranks, axis=0)\n",
    "mean_ranks"
   ]
  },
  {
   "cell_type": "markdown",
   "metadata": {},
   "source": [
    "## Wilcoxon's rank statistical test"
   ]
  },
  {
   "cell_type": "code",
   "execution_count": 7,
   "metadata": {},
   "outputs": [],
   "source": [
    "from scipy.stats import ranksums\n",
    "\n",
    "alfa = .05\n",
    "w_statistic = np.zeros((len(clfs), len(clfs)))\n",
    "p_value = np.zeros((len(clfs), len(clfs)))\n",
    "\n",
    "for i in range(len(clfs)):\n",
    "    for j in range(len(clfs)):\n",
    "        w_statistic[i, j], p_value[i, j] = ranksums(ranks.T[i], ranks.T[j])"
   ]
  },
  {
   "cell_type": "code",
   "execution_count": 8,
   "metadata": {},
   "outputs": [
    {
     "name": "stdout",
     "output_type": "stream",
     "text": [
      "\n",
      "w-statistic:\n",
      "          CART    EBM    LR_l2    GNB     LR    DL\n",
      "-----  ------  -----  -------  -----  -----  ----\n",
      "CART     0.00  -1.50    -1.73  -1.04  -1.73  0.58\n",
      "EBM      1.50   0.00    -0.32   0.29  -0.38  1.73\n",
      "LR_l2    1.73   0.32     0.00   1.01  -0.12  2.22\n",
      "GNB      1.04  -0.29    -1.01   0.00  -0.84  1.18\n",
      "LR       1.73   0.38     0.12   0.84   0.00  2.19\n",
      "DL      -0.58  -1.73    -2.22  -1.18  -2.19  0.00 \n",
      "\n",
      "p-value:\n",
      "          CART    EBM    LR_l2    GNB    LR    DL\n",
      "-----  ------  -----  -------  -----  ----  ----\n",
      "CART     1.00   0.13     0.08   0.30  0.08  0.56\n",
      "EBM      0.13   1.00     0.75   0.77  0.71  0.08\n",
      "LR_l2    0.08   0.75     1.00   0.31  0.91  0.03\n",
      "GNB      0.30   0.77     0.31   1.00  0.40  0.24\n",
      "LR       0.08   0.71     0.91   0.40  1.00  0.03\n",
      "DL       0.56   0.08     0.03   0.24  0.03  1.00\n"
     ]
    }
   ],
   "source": [
    "from tabulate import tabulate\n",
    "\n",
    "headers = list(clfs.keys())\n",
    "names_column = np.expand_dims(np.array(list(clfs.keys())), axis=1)\n",
    "w_statistic_table = np.concatenate((names_column, w_statistic), axis=1)\n",
    "w_statistic_table = tabulate(w_statistic_table, headers, floatfmt=\".2f\")\n",
    "p_value_table = np.concatenate((names_column, p_value), axis=1)\n",
    "p_value_table = tabulate(p_value_table, headers, floatfmt=\".2f\")\n",
    "print(\"\\nw-statistic:\\n\", w_statistic_table, \"\\n\\np-value:\\n\", p_value_table)"
   ]
  },
  {
   "cell_type": "code",
   "execution_count": 9,
   "metadata": {},
   "outputs": [
    {
     "name": "stdout",
     "output_type": "stream",
     "text": [
      "\n",
      "Advantage:\n",
      "          CART    EBM    LR_l2    GNB    LR    DL\n",
      "-----  ------  -----  -------  -----  ----  ----\n",
      "CART        0      0        0      0     0     1\n",
      "EBM         1      0        0      1     0     1\n",
      "LR_l2       1      1        0      1     0     1\n",
      "GNB         1      0        0      0     0     1\n",
      "LR          1      1        1      1     0     1\n",
      "DL          0      0        0      0     0     0\n"
     ]
    }
   ],
   "source": [
    "advantage = np.zeros((len(clfs), len(clfs)))\n",
    "advantage[w_statistic > 0] = 1\n",
    "advantage_table = tabulate(np.concatenate(\n",
    "    (names_column, advantage), axis=1), headers)\n",
    "print(\"\\nAdvantage:\\n\", advantage_table)"
   ]
  },
  {
   "cell_type": "code",
   "execution_count": 10,
   "metadata": {},
   "outputs": [
    {
     "name": "stdout",
     "output_type": "stream",
     "text": [
      "\n",
      "Statistical significance (alpha = 0.05):\n",
      "          CART    EBM    LR_l2    GNB    LR    DL\n",
      "-----  ------  -----  -------  -----  ----  ----\n",
      "CART        0      0        0      0     0     0\n",
      "EBM         0      0        0      0     0     0\n",
      "LR_l2       0      0        0      0     0     1\n",
      "GNB         0      0        0      0     0     0\n",
      "LR          0      0        0      0     0     1\n",
      "DL          0      0        1      0     1     0\n"
     ]
    }
   ],
   "source": [
    "significance = np.zeros((len(clfs), len(clfs)))\n",
    "significance[p_value <= alfa] = 1\n",
    "significance_table = tabulate(np.concatenate(\n",
    "    (names_column, significance), axis=1), headers)\n",
    "print(\"\\nStatistical significance (alpha = 0.05):\\n\", significance_table)"
   ]
  },
  {
   "cell_type": "code",
   "execution_count": 12,
   "metadata": {},
   "outputs": [
    {
     "name": "stdout",
     "output_type": "stream",
     "text": [
      "Statistically significantly better:\n",
      "          CART    EBM    LR_l2    GNB    LR    DL\n",
      "-----  ------  -----  -------  -----  ----  ----\n",
      "CART        0      0        0      0     0     0\n",
      "EBM         0      0        0      0     0     0\n",
      "LR_l2       0      0        0      0     0     1\n",
      "GNB         0      0        0      0     0     0\n",
      "LR          0      0        0      0     0     1\n",
      "DL          0      0        0      0     0     0\n"
     ]
    }
   ],
   "source": [
    "stat_better = significance * advantage\n",
    "stat_better_table = tabulate(np.concatenate(\n",
    "    (names_column, stat_better), axis=1), headers)\n",
    "print(\"Statistically significantly better:\\n\", stat_better_table)"
   ]
  }
 ],
 "metadata": {
  "interpreter": {
   "hash": "54107a2a0eb6a0b2996cb7a94c16d9283b5dc7f969a30a8a01f6dbe77c679ea9"
  },
  "kernelspec": {
   "display_name": "Python 3.9.7 ('mainenv')",
   "language": "python",
   "name": "python3"
  },
  "language_info": {
   "codemirror_mode": {
    "name": "ipython",
    "version": 3
   },
   "file_extension": ".py",
   "mimetype": "text/x-python",
   "name": "python",
   "nbconvert_exporter": "python",
   "pygments_lexer": "ipython3",
   "version": "3.9.7"
  },
  "orig_nbformat": 4
 },
 "nbformat": 4,
 "nbformat_minor": 2
}
