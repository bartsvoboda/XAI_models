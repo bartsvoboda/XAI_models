{
 "cells": [
  {
   "cell_type": "code",
   "execution_count": 21,
   "metadata": {},
   "outputs": [],
   "source": [
    "import numpy as np"
   ]
  },
  {
   "cell_type": "code",
   "execution_count": 22,
   "metadata": {},
   "outputs": [],
   "source": [
    "from sklearn.tree import DecisionTreeClassifier\n",
    "from interpret.glassbox import ExplainableBoostingClassifier\n",
    "from interpret.glassbox import DecisionListClassifier\n",
    "from sklearn.linear_model import LogisticRegression\n",
    "from sklearn.naive_bayes import GaussianNB\n",
    "\n",
    "\n",
    "clfs = {\n",
    "    \"CART\": DecisionTreeClassifier(random_state=1234),\n",
    "    \"EBM\": ExplainableBoostingClassifier(),\n",
    "    \"LR_l2\": LogisticRegression(penalty=\"l2\",random_state=1234),\n",
    "    \"GNB\": GaussianNB(),\n",
    "    \"LR\": LogisticRegression(penalty=\"none\", random_state=1234),\n",
    "    \"DL\": DecisionListClassifier(random_state=1234)\n",
    "    \n",
    "}"
   ]
  },
  {
   "cell_type": "code",
   "execution_count": 23,
   "metadata": {},
   "outputs": [
    {
     "name": "stdout",
     "output_type": "stream",
     "text": [
      "\n",
      "Scores:\n",
      " (6, 1, 10)\n"
     ]
    }
   ],
   "source": [
    "results = np.load('test_results/auc/auc_results.npy')\n",
    "print(\"\\nScores:\\n\", results.shape)"
   ]
  },
  {
   "cell_type": "code",
   "execution_count": 24,
   "metadata": {},
   "outputs": [
    {
     "name": "stdout",
     "output_type": "stream",
     "text": [
      "\n",
      "Mean results:\n",
      " [[0.75215491 0.79416286 0.76732973 0.69672895 0.76745251 0.73260328]]\n"
     ]
    }
   ],
   "source": [
    "mean_results = np.mean(results, axis=2).T\n",
    "print(\"\\nMean results:\\n\", mean_results)"
   ]
  },
  {
   "cell_type": "code",
   "execution_count": 25,
   "metadata": {},
   "outputs": [
    {
     "name": "stdout",
     "output_type": "stream",
     "text": [
      "\n",
      "Ranks:\n",
      " [[3. 6. 4. 1. 5. 2.]]\n"
     ]
    }
   ],
   "source": [
    "from scipy.stats import rankdata\n",
    "ranks = []\n",
    "for mr in mean_results:\n",
    "    ranks.append(rankdata(mr).tolist())\n",
    "ranks = np.array(ranks)\n",
    "print(\"\\nRanks:\\n\", ranks)"
   ]
  },
  {
   "cell_type": "code",
   "execution_count": 26,
   "metadata": {},
   "outputs": [
    {
     "data": {
      "text/plain": [
       "array([3., 6., 4., 1., 5., 2.])"
      ]
     },
     "execution_count": 26,
     "metadata": {},
     "output_type": "execute_result"
    }
   ],
   "source": [
    "mean_ranks = np.mean(ranks, axis=0)\n",
    "mean_ranks"
   ]
  },
  {
   "cell_type": "markdown",
   "metadata": {},
   "source": [
    "## Wilcoxon's rank statistical test"
   ]
  },
  {
   "cell_type": "code",
   "execution_count": 27,
   "metadata": {},
   "outputs": [],
   "source": [
    "from scipy.stats import ranksums\n",
    "\n",
    "alfa = .05\n",
    "w_statistic = np.zeros((len(clfs), len(clfs)))\n",
    "p_value = np.zeros((len(clfs), len(clfs)))\n",
    "\n",
    "for i in range(len(clfs)):\n",
    "    for j in range(len(clfs)):\n",
    "        w_statistic[i, j], p_value[i, j] = ranksums(ranks.T[i], ranks.T[j])"
   ]
  },
  {
   "cell_type": "code",
   "execution_count": 28,
   "metadata": {},
   "outputs": [
    {
     "name": "stdout",
     "output_type": "stream",
     "text": [
      "\n",
      "w-statistic:\n",
      "          CART    EBM    LR_l2    GNB     LR     DL\n",
      "-----  ------  -----  -------  -----  -----  -----\n",
      "CART     0.00  -1.00    -1.00   1.00  -1.00   1.00\n",
      "EBM      1.00   0.00     1.00   1.00   1.00   1.00\n",
      "LR_l2    1.00  -1.00     0.00   1.00  -1.00   1.00\n",
      "GNB     -1.00  -1.00    -1.00   0.00  -1.00  -1.00\n",
      "LR       1.00  -1.00     1.00   1.00   0.00   1.00\n",
      "DL      -1.00  -1.00    -1.00   1.00  -1.00   0.00 \n",
      "\n",
      "p-value:\n",
      "          CART    EBM    LR_l2    GNB    LR    DL\n",
      "-----  ------  -----  -------  -----  ----  ----\n",
      "CART     1.00   0.32     0.32   0.32  0.32  0.32\n",
      "EBM      0.32   1.00     0.32   0.32  0.32  0.32\n",
      "LR_l2    0.32   0.32     1.00   0.32  0.32  0.32\n",
      "GNB      0.32   0.32     0.32   1.00  0.32  0.32\n",
      "LR       0.32   0.32     0.32   0.32  1.00  0.32\n",
      "DL       0.32   0.32     0.32   0.32  0.32  1.00\n"
     ]
    }
   ],
   "source": [
    "from tabulate import tabulate\n",
    "\n",
    "headers = list(clfs.keys())\n",
    "names_column = np.expand_dims(np.array(list(clfs.keys())), axis=1)\n",
    "w_statistic_table = np.concatenate((names_column, w_statistic), axis=1)\n",
    "w_statistic_table = tabulate(w_statistic_table, headers, floatfmt=\".2f\")\n",
    "p_value_table = np.concatenate((names_column, p_value), axis=1)\n",
    "p_value_table = tabulate(p_value_table, headers, floatfmt=\".2f\")\n",
    "print(\"\\nw-statistic:\\n\", w_statistic_table, \"\\n\\np-value:\\n\", p_value_table)"
   ]
  },
  {
   "cell_type": "code",
   "execution_count": 29,
   "metadata": {},
   "outputs": [
    {
     "name": "stdout",
     "output_type": "stream",
     "text": [
      "\n",
      "Advantage:\n",
      "          CART    EBM    LR_l2    GNB    LR    DL\n",
      "-----  ------  -----  -------  -----  ----  ----\n",
      "CART        0      0        0      1     0     1\n",
      "EBM         1      0        1      1     1     1\n",
      "LR_l2       1      0        0      1     0     1\n",
      "GNB         0      0        0      0     0     0\n",
      "LR          1      0        1      1     0     1\n",
      "DL          0      0        0      1     0     0\n"
     ]
    }
   ],
   "source": [
    "advantage = np.zeros((len(clfs), len(clfs)))\n",
    "advantage[w_statistic > 0] = 1\n",
    "advantage_table = tabulate(np.concatenate(\n",
    "    (names_column, advantage), axis=1), headers)\n",
    "print(\"\\nAdvantage:\\n\", advantage_table)"
   ]
  },
  {
   "cell_type": "code",
   "execution_count": 30,
   "metadata": {},
   "outputs": [
    {
     "name": "stdout",
     "output_type": "stream",
     "text": [
      "\n",
      "Statistical significance (alpha = 0.05):\n",
      "          CART    EBM    LR_l2    GNB    LR    DL\n",
      "-----  ------  -----  -------  -----  ----  ----\n",
      "CART        0      0        0      0     0     0\n",
      "EBM         0      0        0      0     0     0\n",
      "LR_l2       0      0        0      0     0     0\n",
      "GNB         0      0        0      0     0     0\n",
      "LR          0      0        0      0     0     0\n",
      "DL          0      0        0      0     0     0\n"
     ]
    }
   ],
   "source": [
    "significance = np.zeros((len(clfs), len(clfs)))\n",
    "significance[p_value <= alfa] = 1\n",
    "significance_table = tabulate(np.concatenate(\n",
    "    (names_column, significance), axis=1), headers)\n",
    "print(\"\\nStatistical significance (alpha = 0.05):\\n\", significance_table)"
   ]
  }
 ],
 "metadata": {
  "interpreter": {
   "hash": "54107a2a0eb6a0b2996cb7a94c16d9283b5dc7f969a30a8a01f6dbe77c679ea9"
  },
  "kernelspec": {
   "display_name": "Python 3.9.7 ('mainenv')",
   "language": "python",
   "name": "python3"
  },
  "language_info": {
   "codemirror_mode": {
    "name": "ipython",
    "version": 3
   },
   "file_extension": ".py",
   "mimetype": "text/x-python",
   "name": "python",
   "nbconvert_exporter": "python",
   "pygments_lexer": "ipython3",
   "version": "3.9.7"
  },
  "orig_nbformat": 4
 },
 "nbformat": 4,
 "nbformat_minor": 2
}
