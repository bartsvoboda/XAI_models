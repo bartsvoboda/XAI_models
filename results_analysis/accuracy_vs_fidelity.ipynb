{
 "cells": [
  {
   "cell_type": "code",
   "execution_count": 21,
   "metadata": {},
   "outputs": [],
   "source": [
    "clfs = [\"CART\", \"EBM\", \"LR_l2\", \"GNB\", \"LR\", \"DL\"]\n",
    "dataset_names = ['breast', 'campus', 'churn', 'climate',\n",
    "            'compas', 'diabetes', 'german', 'heart',\n",
    "            'adult', 'student', 'bank', 'credit']\n",
    "\n",
    "dataset_names_cart = ['breast', 'churn', 'compas', 'diabetes',\n",
    "                      'heart', 'adult', 'bank', 'credit']"
   ]
  },
  {
   "cell_type": "code",
   "execution_count": 2,
   "metadata": {},
   "outputs": [],
   "source": [
    "import numpy as np\n",
    "import pandas as pd"
   ]
  },
  {
   "cell_type": "code",
   "execution_count": 22,
   "metadata": {},
   "outputs": [],
   "source": [
    "clf_n = 5\n",
    "dataset_n = 12\n",
    "dataset_dl_n = 8"
   ]
  },
  {
   "cell_type": "markdown",
   "metadata": {},
   "source": [
    "### CART generator"
   ]
  },
  {
   "cell_type": "code",
   "execution_count": 18,
   "metadata": {},
   "outputs": [],
   "source": [
    "clf_names_cart = [\"EBM\", \"LR_l2\", \"GNB\", \"LR\", \"DL\"] "
   ]
  },
  {
   "cell_type": "code",
   "execution_count": 5,
   "metadata": {},
   "outputs": [
    {
     "name": "stdout",
     "output_type": "stream",
     "text": [
      "\n",
      "Scores:\n",
      " (5, 12, 10)\n",
      "\n",
      "Mean results:\n",
      " [[0.96071068 0.97088023 0.9257684  0.95712843 0.92681457]\n",
      " [0.83428571 0.82833333 0.74809524 0.84047619 0.53690476]\n",
      " [0.7251629  0.58751781 0.6596794  0.58788254 0.67504435]\n",
      " [0.6        0.81697959 0.71297959 0.82441837 0.5       ]\n",
      " [0.86368026 0.68169285 0.73417893 0.68169285 0.7919974 ]\n",
      " [0.70537037 0.73139316 0.72405983 0.72939316 0.72859544]\n",
      " [0.66160455 0.67374741 0.67024845 0.67516563 0.5       ]\n",
      " [0.7732381  0.78621429 0.78084524 0.7885119  0.719     ]\n",
      " [0.79438539 0.76725923 0.69613415 0.76725443 0.73287384]\n",
      " [0.64820474 0.68368772 0.66743485 0.67732153 0.50555556]\n",
      " [0.70005165 0.66000264 0.70265968 0.6602862  0.68188161]\n",
      " [0.88084428 0.87087986 0.69917077 0.86689381 0.87017515]]\n",
      "\n",
      "Ranks:\n",
      " [[4.  5.  1.  3.  2. ]\n",
      " [4.  3.  2.  5.  1. ]\n",
      " [5.  1.  3.  2.  4. ]\n",
      " [2.  4.  3.  5.  1. ]\n",
      " [5.  1.5 3.  1.5 4. ]\n",
      " [1.  5.  2.  4.  3. ]\n",
      " [2.  4.  3.  5.  1. ]\n",
      " [2.  4.  3.  5.  1. ]\n",
      " [5.  4.  1.  3.  2. ]\n",
      " [2.  5.  3.  4.  1. ]\n",
      " [4.  1.  5.  2.  3. ]\n",
      " [5.  4.  1.  2.  3. ]]\n"
     ]
    },
    {
     "data": {
      "text/plain": [
       "array([3.41666667, 3.45833333, 2.5       , 3.45833333, 2.16666667])"
      ]
     },
     "execution_count": 5,
     "metadata": {},
     "output_type": "execute_result"
    }
   ],
   "source": [
    "results_cart = np.load(f'../test_results/acc_fidelity_res/auc_results_{clfs[0]}.npy')\n",
    "print(\"\\nScores:\\n\", results_cart.shape)\n",
    "\n",
    "mean_results_cart = np.mean(results_cart, axis=2).T\n",
    "print(\"\\nMean results:\\n\", mean_results_cart)\n",
    "\n",
    "from scipy.stats import rankdata\n",
    "ranks_cart = []\n",
    "for mr in mean_results_cart:\n",
    "    ranks_cart.append(rankdata(mr).tolist())\n",
    "ranks_cart = np.array(ranks_cart)\n",
    "print(\"\\nRanks:\\n\", ranks_cart)\n",
    "\n",
    "mean_ranks_cart = np.mean(ranks_cart, axis=0)\n",
    "mean_ranks_cart"
   ]
  },
  {
   "cell_type": "code",
   "execution_count": 19,
   "metadata": {},
   "outputs": [
    {
     "data": {
      "text/html": [
       "<div>\n",
       "<style scoped>\n",
       "    .dataframe tbody tr th:only-of-type {\n",
       "        vertical-align: middle;\n",
       "    }\n",
       "\n",
       "    .dataframe tbody tr th {\n",
       "        vertical-align: top;\n",
       "    }\n",
       "\n",
       "    .dataframe thead th {\n",
       "        text-align: right;\n",
       "    }\n",
       "</style>\n",
       "<table border=\"1\" class=\"dataframe\">\n",
       "  <thead>\n",
       "    <tr style=\"text-align: right;\">\n",
       "      <th></th>\n",
       "      <th>EBM</th>\n",
       "      <th>LR_l2</th>\n",
       "      <th>GNB</th>\n",
       "      <th>LR</th>\n",
       "      <th>DL</th>\n",
       "    </tr>\n",
       "  </thead>\n",
       "  <tbody>\n",
       "    <tr>\n",
       "      <th>0</th>\n",
       "      <td>3.416667</td>\n",
       "      <td>3.458333</td>\n",
       "      <td>2.5</td>\n",
       "      <td>3.458333</td>\n",
       "      <td>2.166667</td>\n",
       "    </tr>\n",
       "  </tbody>\n",
       "</table>\n",
       "</div>"
      ],
      "text/plain": [
       "        EBM     LR_l2  GNB        LR        DL\n",
       "0  3.416667  3.458333  2.5  3.458333  2.166667"
      ]
     },
     "execution_count": 19,
     "metadata": {},
     "output_type": "execute_result"
    }
   ],
   "source": [
    "pd.DataFrame(mean_ranks_cart, index=clf_names_cart).T"
   ]
  },
  {
   "cell_type": "markdown",
   "metadata": {},
   "source": [
    "#### bias and variance "
   ]
  },
  {
   "cell_type": "code",
   "execution_count": 63,
   "metadata": {},
   "outputs": [],
   "source": [
    "# get bias and variance accross all datasets and clfs\n",
    "results_bias_cart = []\n",
    "for clf_name in clf_names_cart:\n",
    "    res_df = pd.read_csv(f\"../test_results/acc_fidelity_res/CART/{clf_name}.csv\")\n",
    "    results_bias_cart.append(res_df)\n",
    "\n",
    "\n",
    "final_results_bias_cart = np.zeros(shape=(clf_n, dataset_n))\n",
    "final_results_var_cart = np.zeros(shape=(clf_n, dataset_n))\n",
    "\n",
    "for clf_id, clf_name in enumerate(clf_names_cart):\n",
    "    for dataset_id, dataset_name in enumerate(dataset_names):\n",
    "        res_df_cart = results_bias_cart[clf_id]\n",
    "        res_dataset_df = res_df_cart[res_df_cart[\"dataset_name\"] == dataset_name]\n",
    "        final_results_bias_cart[clf_id, dataset_id] = res_dataset_df.describe().iloc[1][1]\n",
    "        final_results_var_cart[clf_id, dataset_id] = res_dataset_df.describe().iloc[1][2]  \n",
    "        "
   ]
  },
  {
   "cell_type": "code",
   "execution_count": 72,
   "metadata": {},
   "outputs": [
    {
     "data": {
      "text/plain": [
       "array([0.44870269, 0.35641515, 0.26757809, 0.09066251, 0.30725562,\n",
       "       0.38477855, 0.31368805, 0.44884313, 0.33096236, 0.36642416,\n",
       "       0.16654259, 0.46953688])"
      ]
     },
     "execution_count": 72,
     "metadata": {},
     "output_type": "execute_result"
    }
   ],
   "source": [
    "final_results_bias_cart[0]"
   ]
  },
  {
   "cell_type": "code",
   "execution_count": 73,
   "metadata": {},
   "outputs": [
    {
     "data": {
      "text/plain": [
       "array([0.45814728, 0.38469155, 0.2410139 , 0.11473658, 0.28740577,\n",
       "       0.40832612, 0.33764565, 0.46066253, 0.33609287, 0.38469185,\n",
       "       0.16183654, 0.47224216])"
      ]
     },
     "execution_count": 73,
     "metadata": {},
     "output_type": "execute_result"
    }
   ],
   "source": [
    "final_results_bias_cart[1]"
   ]
  },
  {
   "cell_type": "code",
   "execution_count": 74,
   "metadata": {},
   "outputs": [
    {
     "data": {
      "text/plain": [
       "array([0.45900662, 0.34324827, 0.27983168, 0.1001361 , 0.31799261,\n",
       "       0.41302759, 0.43292795, 0.46979646, 0.59954392, 0.40313231,\n",
       "       0.22055441, 0.40398407])"
      ]
     },
     "execution_count": 74,
     "metadata": {},
     "output_type": "execute_result"
    }
   ],
   "source": [
    "final_results_bias_cart[2]"
   ]
  },
  {
   "cell_type": "code",
   "execution_count": 75,
   "metadata": {},
   "outputs": [
    {
     "data": {
      "text/plain": [
       "array([0.4502288 , 0.37520127, 0.2412035 , 0.13262281, 0.28727723,\n",
       "       0.40881426, 0.33691729, 0.45775216, 0.33593103, 0.37588182,\n",
       "       0.16199617, 0.45707239])"
      ]
     },
     "execution_count": 75,
     "metadata": {},
     "output_type": "execute_result"
    }
   ],
   "source": [
    "final_results_bias_cart[3]"
   ]
  },
  {
   "cell_type": "code",
   "execution_count": 76,
   "metadata": {},
   "outputs": [
    {
     "data": {
      "text/plain": [
       "array([0.45819379, 0.30781562, 0.26443163, 0.08517983, 0.3060735 ,\n",
       "       0.40266402, 0.29976729, 0.44458341, 0.32492219, 0.44603573,\n",
       "       0.17044358, 0.49006575])"
      ]
     },
     "execution_count": 76,
     "metadata": {},
     "output_type": "execute_result"
    }
   ],
   "source": [
    "final_results_bias_cart[4]"
   ]
  },
  {
   "cell_type": "code",
   "execution_count": 64,
   "metadata": {},
   "outputs": [
    {
     "name": "stdout",
     "output_type": "stream",
     "text": [
      "\n",
      "Ranks:\n",
      " [[5 3 1 4 2]\n",
      " [3 1 4 2 5]\n",
      " [2 5 1 4 3]\n",
      " [4 2 3 1 5]\n",
      " [2 4 1 5 3]\n",
      " [5 3 1 2 4]\n",
      " [4 2 1 3 5]\n",
      " [4 2 1 3 5]\n",
      " [4 2 1 3 5]\n",
      " [5 3 2 4 1]\n",
      " [3 5 1 4 2]\n",
      " [3 2 5 4 1]]\n"
     ]
    },
    {
     "data": {
      "text/plain": [
       "array([3.66666667, 2.83333333, 1.83333333, 3.25      , 3.41666667])"
      ]
     },
     "execution_count": 64,
     "metadata": {},
     "output_type": "execute_result"
    }
   ],
   "source": [
    "pd.DataFrame(final_results_bias_cart.T)\n",
    "\n",
    "ranks_bias_cart = []\n",
    "for mr in final_results_bias_cart.T:\n",
    "    ranks_bias_cart.append(rankdata(mr).tolist())\n",
    "ranks_bias_cart = np.array(ranks_bias_cart)\n",
    "ranks_bias_cart = len(ranks_bias_cart[0])+1 - ranks_bias_cart.astype(int)\n",
    "print(\"\\nRanks:\\n\", ranks_bias_cart)\n",
    "\n",
    "mean_ranks_bias_cart = np.mean(ranks_bias_cart, axis=0)\n",
    "mean_ranks_bias_cart\n"
   ]
  },
  {
   "cell_type": "code",
   "execution_count": 77,
   "metadata": {},
   "outputs": [
    {
     "data": {
      "text/plain": [
       "array([-0.25      ,  0.625     ,  0.66666667,  0.20833333, -1.25      ])"
      ]
     },
     "execution_count": 77,
     "metadata": {},
     "output_type": "execute_result"
    }
   ],
   "source": [
    "np.subtract(mean_ranks_cart, mean_ranks_bias_cart)"
   ]
  },
  {
   "cell_type": "code",
   "execution_count": 78,
   "metadata": {},
   "outputs": [],
   "source": [
    "final_acc_bias_cart = np.array([ 0      ,  0.625     ,  0.66666667,  0.20833333, 0])"
   ]
  },
  {
   "cell_type": "code",
   "execution_count": 79,
   "metadata": {},
   "outputs": [
    {
     "data": {
      "text/html": [
       "<div>\n",
       "<style scoped>\n",
       "    .dataframe tbody tr th:only-of-type {\n",
       "        vertical-align: middle;\n",
       "    }\n",
       "\n",
       "    .dataframe tbody tr th {\n",
       "        vertical-align: top;\n",
       "    }\n",
       "\n",
       "    .dataframe thead th {\n",
       "        text-align: right;\n",
       "    }\n",
       "</style>\n",
       "<table border=\"1\" class=\"dataframe\">\n",
       "  <thead>\n",
       "    <tr style=\"text-align: right;\">\n",
       "      <th></th>\n",
       "      <th>EBM</th>\n",
       "      <th>LR_l2</th>\n",
       "      <th>GNB</th>\n",
       "      <th>LR</th>\n",
       "      <th>DL</th>\n",
       "    </tr>\n",
       "  </thead>\n",
       "  <tbody>\n",
       "    <tr>\n",
       "      <th>0</th>\n",
       "      <td>0.0</td>\n",
       "      <td>0.625</td>\n",
       "      <td>0.666667</td>\n",
       "      <td>0.208333</td>\n",
       "      <td>0.0</td>\n",
       "    </tr>\n",
       "  </tbody>\n",
       "</table>\n",
       "</div>"
      ],
      "text/plain": [
       "   EBM  LR_l2       GNB        LR   DL\n",
       "0  0.0  0.625  0.666667  0.208333  0.0"
      ]
     },
     "execution_count": 79,
     "metadata": {},
     "output_type": "execute_result"
    }
   ],
   "source": [
    "pd.DataFrame(final_acc_bias_cart, index=clf_names_cart).T"
   ]
  }
 ],
 "metadata": {
  "interpreter": {
   "hash": "54107a2a0eb6a0b2996cb7a94c16d9283b5dc7f969a30a8a01f6dbe77c679ea9"
  },
  "kernelspec": {
   "display_name": "Python 3.9.7 ('mainenv')",
   "language": "python",
   "name": "python3"
  },
  "language_info": {
   "codemirror_mode": {
    "name": "ipython",
    "version": 3
   },
   "file_extension": ".py",
   "mimetype": "text/x-python",
   "name": "python",
   "nbconvert_exporter": "python",
   "pygments_lexer": "ipython3",
   "version": "3.9.7"
  },
  "orig_nbformat": 4
 },
 "nbformat": 4,
 "nbformat_minor": 2
}
