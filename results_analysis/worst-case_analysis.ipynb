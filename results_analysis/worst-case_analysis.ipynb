{
 "cells": [
  {
   "cell_type": "code",
   "execution_count": 1,
   "metadata": {},
   "outputs": [],
   "source": [
    "clf_names = [\"CART\", \"EBM\", \"GNB\", \"LR\", \"LR_l2\", \"DL\"]\n",
    "dataset_names = ['breast', 'campus', 'churn', 'climate',\n",
    "            'compas', 'diabetes', 'german', 'heart',\n",
    "            'adult', 'student', 'bank', 'credit']"
   ]
  },
  {
   "cell_type": "code",
   "execution_count": 2,
   "metadata": {},
   "outputs": [],
   "source": [
    "import pandas as pd \n",
    "import numpy as np"
   ]
  },
  {
   "cell_type": "code",
   "execution_count": 3,
   "metadata": {},
   "outputs": [],
   "source": [
    "def scale_values(worst, best, value):\n",
    "    y = [0, 100]\n",
    "    x = [worst, best]\n",
    "    coeffs = np.polyfit(x, y, 1)\n",
    "    return coeffs[0]*value + coeffs[1]"
   ]
  },
  {
   "cell_type": "markdown",
   "metadata": {},
   "source": [
    "### CART GENERATOR"
   ]
  },
  {
   "cell_type": "code",
   "execution_count": 4,
   "metadata": {},
   "outputs": [],
   "source": [
    "clf_list_cart = [\"EBM\", \"GNB\", \"LR\", \"LR_l2\", \"DL\"]\n",
    "clf_n = len(clf_list_cart)\n",
    "dataset_n = len(dataset_names)\n",
    "cart_results = np.zeros(shape=(dataset_n, clf_n))\n",
    "cart_scaled_results = np.zeros(shape=(dataset_n, clf_n))\n",
    "\n",
    "clf_name_gen = \"CART\"\n",
    "\n",
    "for data_id, dataset in enumerate(dataset_names):\n",
    "    result_df = pd.read_csv(f\"../worst-case_results/{dataset}_{clf_name_gen}.csv\")\n",
    "    result_df = result_df.drop(clf_name_gen, axis=1)\n",
    "\n",
    "    result_df = result_df.groupby(by=\"Param\").mean()\n",
    "\n",
    "    for clf_id, clf_name in enumerate(clf_list_cart):\n",
    "        cart_results[data_id, clf_id] = result_df[clf_name].sum()\n",
    "    \n",
    "    \n",
    "    best = cart_results[data_id].min()\n",
    "    worst = cart_results[data_id].max()\n",
    "\n",
    "    for i in range(len(cart_results[data_id])):\n",
    "        value = np.abs(np.round(scale_values(worst, best, value=cart_results[data_id][i]), decimals=2))\n",
    "        cart_scaled_results[data_id, i] = value\n",
    "        "
   ]
  },
  {
   "cell_type": "code",
   "execution_count": 5,
   "metadata": {},
   "outputs": [
    {
     "data": {
      "text/plain": [
       "array([[100.  ,  57.92,  39.2 ,  74.33,   0.  ],\n",
       "       [100.  ,  83.76,  88.58,  91.03,   0.  ],\n",
       "       [100.  ,  45.08,   5.78,   0.  ,  49.08],\n",
       "       [ 97.26, 100.  ,  90.91,  95.67,   0.  ],\n",
       "       [100.  ,   0.  ,  88.9 ,  88.79,  31.9 ],\n",
       "       [ 92.68,   0.  , 100.  ,  86.8 ,  17.4 ],\n",
       "       [100.  ,  13.5 ,  82.91,  87.06,   0.  ],\n",
       "       [100.  ,  69.23,  95.67,  97.5 ,   0.  ],\n",
       "       [100.  ,   0.  ,  87.91,  88.1 ,  81.87],\n",
       "       [100.  ,  64.54,  97.03,  98.67,   0.  ],\n",
       "       [100.  ,   0.  ,  72.46,  72.85,  98.45],\n",
       "       [100.  ,   0.  ,  50.61,  51.98,  26.76]])"
      ]
     },
     "execution_count": 5,
     "metadata": {},
     "output_type": "execute_result"
    }
   ],
   "source": [
    "cart_scaled_results"
   ]
  },
  {
   "cell_type": "markdown",
   "metadata": {},
   "source": [
    "### EBM GENERATOR"
   ]
  },
  {
   "cell_type": "code",
   "execution_count": 6,
   "metadata": {},
   "outputs": [],
   "source": [
    "clf_list_ebm = [\"CART\", \"GNB\", \"LR\", \"LR_l2\", \"DL\"]\n",
    "clf_n = len(clf_list_cart)\n",
    "dataset_n = len(dataset_names)\n",
    "ebm_results = np.zeros(shape=(dataset_n, clf_n))\n",
    "ebm_scaled_results = np.zeros(shape=(dataset_n, clf_n))\n",
    "\n",
    "clf_name_gen = \"EBM\"\n",
    "\n",
    "for data_id, dataset in enumerate(dataset_names):\n",
    "    result_df = pd.read_csv(f\"../worst-case_results/{dataset}_{clf_name_gen}.csv\")\n",
    "    result_df = result_df.drop(clf_name_gen, axis=1)\n",
    "\n",
    "    result_df = result_df.groupby(by=\"Param\").mean()\n",
    "\n",
    "    for clf_id, clf_name in enumerate(clf_list_ebm):\n",
    "        ebm_results[data_id, clf_id] = result_df[clf_name].sum()\n",
    "    \n",
    "    \n",
    "    best = ebm_results[data_id].min()\n",
    "    worst = ebm_results[data_id].max()\n",
    "\n",
    "    for i in range(len(ebm_results[data_id])):\n",
    "        value = np.abs(np.round(scale_values(worst, best, value=ebm_results[data_id][i]), decimals=2))\n",
    "        ebm_scaled_results[data_id, i] = value\n",
    "        "
   ]
  },
  {
   "cell_type": "code",
   "execution_count": 7,
   "metadata": {},
   "outputs": [
    {
     "data": {
      "text/plain": [
       "array([[100.  ,  67.07,  47.54,  89.5 ,   0.  ],\n",
       "       [ 98.56,  97.69,  97.31, 100.  ,   0.  ],\n",
       "       [100.  ,  65.8 ,   2.38,   0.  ,  60.58],\n",
       "       [ 98.32,  89.49, 100.  ,  94.31,   0.  ],\n",
       "       [ 94.34,   0.  ,  95.49, 100.  ,  19.35],\n",
       "       [100.  ,  46.  ,  80.59,  84.09,   0.  ],\n",
       "       [ 92.48,   0.  , 100.  ,  94.75,  62.68],\n",
       "       [ 98.05,  99.43, 100.  ,  96.82,   0.  ],\n",
       "       [100.  ,   0.  ,  94.15,  92.31,  72.7 ],\n",
       "       [ 97.77, 100.  ,  97.65,  98.65,   0.  ],\n",
       "       [ 99.24,   0.  ,  96.12,  96.87, 100.  ],\n",
       "       [100.  ,  11.46,  73.37,  68.58,   0.  ]])"
      ]
     },
     "execution_count": 7,
     "metadata": {},
     "output_type": "execute_result"
    }
   ],
   "source": [
    "ebm_scaled_results"
   ]
  },
  {
   "cell_type": "markdown",
   "metadata": {},
   "source": [
    "### GNB GENERATOR"
   ]
  },
  {
   "cell_type": "code",
   "execution_count": 8,
   "metadata": {},
   "outputs": [],
   "source": [
    "clf_list_gnb = [\"CART\", \"EBM\", \"LR\", \"LR_l2\", \"DL\"]\n",
    "clf_n = len(clf_list_cart)\n",
    "dataset_n = len(dataset_names)\n",
    "gnb_results = np.zeros(shape=(dataset_n, clf_n))\n",
    "gnb_scaled_results = np.zeros(shape=(dataset_n, clf_n))\n",
    "\n",
    "clf_name_gen = \"GNB\"\n",
    "\n",
    "for data_id, dataset in enumerate(dataset_names):\n",
    "    result_df = pd.read_csv(f\"../worst-case_results/{dataset}_{clf_name_gen}.csv\")\n",
    "    result_df = result_df.drop(clf_name_gen, axis=1)\n",
    "\n",
    "    result_df = result_df.groupby(by=\"Param\").mean()\n",
    "\n",
    "    for clf_id, clf_name in enumerate(clf_list_gnb):\n",
    "        gnb_results[data_id, clf_id] = result_df[clf_name].sum()\n",
    "    \n",
    "    \n",
    "    best = gnb_results[data_id].min()\n",
    "    worst = gnb_results[data_id].max()\n",
    "\n",
    "    for i in range(len(gnb_results[data_id])):\n",
    "        value = np.abs(np.round(scale_values(worst, best, value=gnb_results[data_id][i]), decimals=2))\n",
    "        gnb_scaled_results[data_id, i] = value"
   ]
  },
  {
   "cell_type": "code",
   "execution_count": 9,
   "metadata": {},
   "outputs": [
    {
     "data": {
      "text/plain": [
       "array([[ 82.4 ,  79.27, 100.  ,  89.79,   0.  ],\n",
       "       [  0.  ,   6.48,  10.53,   8.68, 100.  ],\n",
       "       [ 55.38,  91.94, 100.  ,  98.18,   0.  ],\n",
       "       [ 97.79,  99.44,  57.96, 100.  ,   0.  ],\n",
       "       [ 87.43,  77.93, 100.  ,  82.62,   0.  ],\n",
       "       [100.  ,  82.18,  69.89,  73.62,   0.  ],\n",
       "       [ 93.56,  85.63, 100.  ,  97.76,   0.  ],\n",
       "       [ 87.7 , 100.  ,  85.86,  92.11,   0.  ],\n",
       "       [  0.  ,  25.54,  30.44,  30.83, 100.  ],\n",
       "       [ 76.39,  74.71,  86.49, 100.  ,   0.  ],\n",
       "       [100.  ,  83.19,  97.2 ,  94.32,   0.  ],\n",
       "       [ 64.81,   7.08, 100.  ,  76.74,   0.  ]])"
      ]
     },
     "execution_count": 9,
     "metadata": {},
     "output_type": "execute_result"
    }
   ],
   "source": [
    "gnb_scaled_results"
   ]
  },
  {
   "cell_type": "markdown",
   "metadata": {},
   "source": [
    "### DL GENERATOR"
   ]
  },
  {
   "cell_type": "code",
   "execution_count": 10,
   "metadata": {},
   "outputs": [],
   "source": [
    "clf_list_dl = [\"CART\", \"EBM\", \"LR\", \"LR_l2\", \"GNB\"]\n",
    "clf_n = len(clf_list_cart)\n",
    "dataset_n = len(dataset_names)\n",
    "dl_results = np.zeros(shape=(dataset_n, clf_n))\n",
    "dl_scaled_results = np.zeros(shape=(dataset_n, clf_n))\n",
    "\n",
    "clf_name_gen = \"DL\"\n",
    "\n",
    "for data_id, dataset in enumerate(dataset_names):\n",
    "    result_df = pd.read_csv(f\"../worst-case_results/{dataset}_{clf_name_gen}.csv\")\n",
    "    result_df = result_df.drop(clf_name_gen, axis=1)\n",
    "\n",
    "    result_df = result_df.groupby(by=\"Param\").mean()\n",
    "\n",
    "    for clf_id, clf_name in enumerate(clf_list_dl):\n",
    "        dl_results[data_id, clf_id] = result_df[clf_name].sum()\n",
    "    \n",
    "    \n",
    "    best = dl_results[data_id].min()\n",
    "    worst = dl_results[data_id].max()\n",
    "\n",
    "    for i in range(len(dl_results[data_id])):\n",
    "        value = np.abs(np.round(scale_values(worst, best, value=dl_results[data_id][i]), decimals=2))\n",
    "        dl_scaled_results[data_id, i] = value"
   ]
  },
  {
   "cell_type": "code",
   "execution_count": 11,
   "metadata": {},
   "outputs": [
    {
     "data": {
      "text/plain": [
       "array([[  0.  , 100.  ,  44.53,  60.65,  52.56],\n",
       "       [ 92.74, 100.  ,  87.61,  99.66,   0.  ],\n",
       "       [ 83.72, 100.  ,   0.  ,  74.18,  72.37],\n",
       "       [100.  ,   0.  ,  81.07,  79.41,  87.34],\n",
       "       [  2.85, 100.  ,  45.44,  45.63,   0.  ],\n",
       "       [ 62.8 ,   0.  ,  64.42, 100.  ,  54.41],\n",
       "       [ 96.49, 100.  ,  92.03,  99.95,   0.  ],\n",
       "       [ 75.82, 100.  ,  72.94,  76.42,   0.  ],\n",
       "       [100.  ,  95.17,  68.88,  73.13,   0.  ],\n",
       "       [ 93.9 ,  20.58,  88.67, 100.  ,   0.  ],\n",
       "       [ 93.06,  95.53, 100.  ,  95.66,   0.  ],\n",
       "       [  0.  ,  16.13,  73.76, 100.  ,   6.81]])"
      ]
     },
     "execution_count": 11,
     "metadata": {},
     "output_type": "execute_result"
    }
   ],
   "source": [
    "dl_scaled_results"
   ]
  },
  {
   "cell_type": "markdown",
   "metadata": {},
   "source": [
    "### LR_l2 GENERATOR"
   ]
  },
  {
   "cell_type": "code",
   "execution_count": 12,
   "metadata": {},
   "outputs": [],
   "source": [
    "clf_list_lr_l2 = [\"CART\", \"EBM\", \"LR\", \"DL\", \"GNB\"]\n",
    "clf_n = len(clf_list_cart)\n",
    "dataset_n = len(dataset_names)\n",
    "lr_l2_results = np.zeros(shape=(dataset_n, clf_n))\n",
    "lr_l2_scaled_results = np.zeros(shape=(dataset_n, clf_n))\n",
    "\n",
    "clf_name_gen = \"LR_l2\"\n",
    "\n",
    "for data_id, dataset in enumerate(dataset_names):\n",
    "    result_df = pd.read_csv(f\"../worst-case_results/{dataset}_{clf_name_gen}.csv\")\n",
    "    result_df = result_df.drop(clf_name_gen, axis=1)\n",
    "\n",
    "    result_df = result_df.groupby(by=\"Param\").mean()\n",
    "\n",
    "    for clf_id, clf_name in enumerate(clf_list_lr_l2):\n",
    "        lr_l2_results[data_id, clf_id] = result_df[clf_name].sum()\n",
    "    \n",
    "    \n",
    "    best = lr_l2_results[data_id].min()\n",
    "    worst = lr_l2_results[data_id].max()\n",
    "\n",
    "    for i in range(len(lr_l2_results[data_id])):\n",
    "        value = np.abs(np.round(scale_values(worst, best, value=lr_l2_results[data_id][i]), decimals=2))\n",
    "        lr_l2_scaled_results[data_id, i] = value"
   ]
  },
  {
   "cell_type": "code",
   "execution_count": 13,
   "metadata": {},
   "outputs": [
    {
     "data": {
      "text/plain": [
       "array([[ 80.06,  88.84, 100.  ,   0.  ,  72.2 ],\n",
       "       [ 67.96,  85.5 , 100.  ,   0.  ,  78.04],\n",
       "       [ 90.59, 100.  ,  83.09,  31.66,   0.  ],\n",
       "       [ 92.51,  95.26,  94.83,   0.  , 100.  ],\n",
       "       [ 91.22,  91.79, 100.  ,  69.33,   0.  ],\n",
       "       [ 77.49,  81.56, 100.  ,   0.  ,  40.44],\n",
       "       [ 76.92,  96.65, 100.  ,   1.58,   0.  ],\n",
       "       [ 88.31,  94.88, 100.  ,   0.  ,  88.54],\n",
       "       [ 91.94,  90.16, 100.  ,  48.18,   0.  ],\n",
       "       [ 91.47,  98.07, 100.  ,   0.  ,  82.5 ],\n",
       "       [ 89.51,  83.46, 100.  ,  63.87,   0.  ],\n",
       "       [ 42.96,  43.15, 100.  ,   0.  ,  75.71]])"
      ]
     },
     "execution_count": 13,
     "metadata": {},
     "output_type": "execute_result"
    }
   ],
   "source": [
    "lr_l2_scaled_results"
   ]
  },
  {
   "cell_type": "markdown",
   "metadata": {},
   "source": [
    "### LR GENERATOR"
   ]
  },
  {
   "cell_type": "code",
   "execution_count": 14,
   "metadata": {},
   "outputs": [],
   "source": [
    "clf_list_lr = [\"CART\", \"EBM\", \"LR_l2\", \"DL\", \"GNB\"]\n",
    "clf_n = len(clf_list_cart)\n",
    "dataset_n = len(dataset_names)\n",
    "lr_results = np.zeros(shape=(dataset_n, clf_n))\n",
    "lr_scaled_results = np.zeros(shape=(dataset_n, clf_n))\n",
    "\n",
    "clf_name_gen = \"LR\"\n",
    "\n",
    "for data_id, dataset in enumerate(dataset_names):\n",
    "    result_df = pd.read_csv(f\"../worst-case_results/{dataset}_{clf_name_gen}.csv\")\n",
    "    result_df = result_df.drop(clf_name_gen, axis=1)\n",
    "\n",
    "    result_df = result_df.groupby(by=\"Param\").mean()\n",
    "\n",
    "    for clf_id, clf_name in enumerate(clf_list_lr):\n",
    "        lr_results[data_id, clf_id] = result_df[clf_name].sum()\n",
    "    \n",
    "    \n",
    "    best = lr_results[data_id].min()\n",
    "    worst = lr_results[data_id].max()\n",
    "\n",
    "    for i in range(len(lr_results[data_id])):\n",
    "        value = np.abs(np.round(scale_values(worst, best, value=lr_results[data_id][i]), decimals=2))\n",
    "        lr_scaled_results[data_id, i] = value"
   ]
  },
  {
   "cell_type": "code",
   "execution_count": 15,
   "metadata": {},
   "outputs": [
    {
     "data": {
      "text/plain": [
       "array([[ 74.77,  83.56, 100.  ,   0.  ,  89.22],\n",
       "       [ 71.99,  83.03, 100.  ,   0.  ,  71.82],\n",
       "       [ 99.91, 100.  ,  92.63,   0.  ,  26.46],\n",
       "       [ 85.11,  90.01, 100.  ,   0.  ,  98.61],\n",
       "       [ 93.01,  95.09, 100.  ,  71.55,   0.  ],\n",
       "       [ 83.02,  84.33, 100.  ,   0.  ,  45.  ],\n",
       "       [ 86.78,  99.25, 100.  ,  35.68,   0.  ],\n",
       "       [ 95.7 ,  98.26,  93.79,   0.  , 100.  ],\n",
       "       [ 93.06,  91.8 , 100.  ,  61.95,   0.  ],\n",
       "       [ 89.8 , 100.  ,  94.  ,   0.  ,  86.96],\n",
       "       [ 88.76,  97.92, 100.  ,  82.96,   0.  ],\n",
       "       [ 71.5 ,  46.56, 100.  ,   0.  ,  77.67]])"
      ]
     },
     "execution_count": 15,
     "metadata": {},
     "output_type": "execute_result"
    }
   ],
   "source": [
    "lr_scaled_results"
   ]
  },
  {
   "cell_type": "markdown",
   "metadata": {},
   "source": [
    "### CART Results"
   ]
  },
  {
   "cell_type": "code",
   "execution_count": 16,
   "metadata": {},
   "outputs": [],
   "source": [
    "cart_1 = ebm_scaled_results[:,0]\n",
    "cart_2 = gnb_scaled_results[:,0]\n",
    "cart_3 = dl_scaled_results[:,0]\n",
    "cart_4 = lr_l2_scaled_results[:,0]\n",
    "cart_5 = lr_scaled_results[:, 0]\n",
    "cart_list = [cart_1, cart_2, cart_3, cart_4, cart_5]\n",
    "cart_fin = pd.DataFrame(cart_list).T.mean(axis=1)"
   ]
  },
  {
   "cell_type": "code",
   "execution_count": 17,
   "metadata": {},
   "outputs": [
    {
     "data": {
      "text/plain": [
       "0     67.446\n",
       "1     66.250\n",
       "2     85.920\n",
       "3     94.746\n",
       "4     73.770\n",
       "5     84.662\n",
       "6     89.246\n",
       "7     89.116\n",
       "8     77.000\n",
       "9     89.866\n",
       "10    94.114\n",
       "11    55.854\n",
       "dtype: float64"
      ]
     },
     "execution_count": 17,
     "metadata": {},
     "output_type": "execute_result"
    }
   ],
   "source": [
    "cart_fin"
   ]
  },
  {
   "cell_type": "code",
   "execution_count": 18,
   "metadata": {},
   "outputs": [
    {
     "data": {
      "text/plain": [
       "80.66583333333334"
      ]
     },
     "execution_count": 18,
     "metadata": {},
     "output_type": "execute_result"
    }
   ],
   "source": [
    "cart_fin.mean()"
   ]
  },
  {
   "cell_type": "code",
   "execution_count": 19,
   "metadata": {},
   "outputs": [],
   "source": [
    "gnb_1 = ebm_scaled_results[:,1]\n",
    "gnb_2 = dl_scaled_results[:,4]\n",
    "gnb_3 = lr_l2_scaled_results[:,4]\n",
    "gnb_4 = lr_scaled_results[:,4]\n",
    "gnb_5 = cart_scaled_results[:,1]\n",
    "gnb_list = [gnb_1, gnb_2, gnb_3, gnb_4, gnb_5]\n",
    "gnb_fin = pd.DataFrame(gnb_list).T.mean(axis=1)"
   ]
  },
  {
   "cell_type": "code",
   "execution_count": 20,
   "metadata": {},
   "outputs": [
    {
     "data": {
      "text/plain": [
       "0     67.794\n",
       "1     66.262\n",
       "2     41.942\n",
       "3     95.088\n",
       "4      0.000\n",
       "5     37.170\n",
       "6      2.700\n",
       "7     71.440\n",
       "8      0.000\n",
       "9     66.800\n",
       "10     0.000\n",
       "11    34.330\n",
       "dtype: float64"
      ]
     },
     "execution_count": 20,
     "metadata": {},
     "output_type": "execute_result"
    }
   ],
   "source": [
    "gnb_fin"
   ]
  },
  {
   "cell_type": "code",
   "execution_count": 21,
   "metadata": {},
   "outputs": [
    {
     "data": {
      "text/plain": [
       "40.29383333333333"
      ]
     },
     "execution_count": 21,
     "metadata": {},
     "output_type": "execute_result"
    }
   ],
   "source": [
    "gnb_fin.mean()"
   ]
  },
  {
   "cell_type": "code",
   "execution_count": 22,
   "metadata": {},
   "outputs": [],
   "source": [
    "lr_1 = ebm_scaled_results[:,2]\n",
    "lr_2 = gnb_scaled_results[:,2]\n",
    "lr_3 = dl_scaled_results[:, 2]\n",
    "lr_4 = lr_l2_scaled_results[:,2]\n",
    "lr_5 = cart_scaled_results[:,2]\n",
    "lr_list = [lr_1, lr_2, lr_3, lr_4, lr_5]\n",
    "lr_fin = pd.DataFrame(lr_list).T.mean(axis=1)"
   ]
  },
  {
   "cell_type": "code",
   "execution_count": 23,
   "metadata": {},
   "outputs": [
    {
     "data": {
      "text/plain": [
       "0     66.254\n",
       "1     76.806\n",
       "2     38.250\n",
       "3     84.954\n",
       "4     85.966\n",
       "5     82.980\n",
       "6     94.988\n",
       "7     90.894\n",
       "8     76.276\n",
       "9     93.968\n",
       "10    93.156\n",
       "11    79.548\n",
       "dtype: float64"
      ]
     },
     "execution_count": 23,
     "metadata": {},
     "output_type": "execute_result"
    }
   ],
   "source": [
    "lr_fin"
   ]
  },
  {
   "cell_type": "code",
   "execution_count": 24,
   "metadata": {},
   "outputs": [
    {
     "data": {
      "text/plain": [
       "80.33666666666666"
      ]
     },
     "execution_count": 24,
     "metadata": {},
     "output_type": "execute_result"
    }
   ],
   "source": [
    "lr_fin.mean()"
   ]
  },
  {
   "cell_type": "code",
   "execution_count": 25,
   "metadata": {},
   "outputs": [],
   "source": [
    "lr_l2_1 = ebm_scaled_results[:, 3]\n",
    "lr_l2_2 = gnb_scaled_results[:, 3]\n",
    "lr_l2_3 = dl_scaled_results[:, 3]\n",
    "lr_l2_4 = cart_scaled_results[:,3]\n",
    "lr_l2_5 = lr_scaled_results[:, 2]\n",
    "lr_l2_list = [lr_l2_1, lr_l2_2, lr_l2_3, lr_l2_4, lr_l2_5]\n",
    "lr_l2_fin = pd.DataFrame(lr_l2_list).T.mean(axis=1)"
   ]
  },
  {
   "cell_type": "code",
   "execution_count": 26,
   "metadata": {},
   "outputs": [
    {
     "data": {
      "text/plain": [
       "0     82.854\n",
       "1     79.874\n",
       "2     52.998\n",
       "3     93.878\n",
       "4     83.408\n",
       "5     88.902\n",
       "6     95.904\n",
       "7     91.328\n",
       "8     76.874\n",
       "9     98.264\n",
       "10    91.940\n",
       "11    79.460\n",
       "dtype: float64"
      ]
     },
     "execution_count": 26,
     "metadata": {},
     "output_type": "execute_result"
    }
   ],
   "source": [
    "lr_l2_fin"
   ]
  },
  {
   "cell_type": "code",
   "execution_count": 27,
   "metadata": {},
   "outputs": [
    {
     "data": {
      "text/plain": [
       "84.64033333333334"
      ]
     },
     "execution_count": 27,
     "metadata": {},
     "output_type": "execute_result"
    }
   ],
   "source": [
    "lr_l2_fin.mean()"
   ]
  },
  {
   "cell_type": "code",
   "execution_count": 28,
   "metadata": {},
   "outputs": [],
   "source": [
    "dl_1 = ebm_scaled_results[:, 4]\n",
    "dl_2 = gnb_scaled_results[:, 4]\n",
    "dl_3 = lr_l2_scaled_results[:, 3]\n",
    "dl_4 = cart_scaled_results[:, 4]\n",
    "dl_5 = lr_scaled_results[:, 3]\n",
    "dl_list = [dl_1, dl_2, dl_3, dl_4, dl_5]\n",
    "dl_fin = pd.DataFrame(dl_list).T.mean(axis=1)"
   ]
  },
  {
   "cell_type": "code",
   "execution_count": 29,
   "metadata": {},
   "outputs": [
    {
     "data": {
      "text/plain": [
       "0      0.000\n",
       "1     20.000\n",
       "2     28.264\n",
       "3      0.000\n",
       "4     38.426\n",
       "5      3.480\n",
       "6     19.988\n",
       "7      0.000\n",
       "8     72.940\n",
       "9      0.000\n",
       "10    69.056\n",
       "11     5.352\n",
       "dtype: float64"
      ]
     },
     "execution_count": 29,
     "metadata": {},
     "output_type": "execute_result"
    }
   ],
   "source": [
    "dl_fin"
   ]
  },
  {
   "cell_type": "code",
   "execution_count": 30,
   "metadata": {},
   "outputs": [
    {
     "data": {
      "text/plain": [
       "21.45883333333333"
      ]
     },
     "execution_count": 30,
     "metadata": {},
     "output_type": "execute_result"
    }
   ],
   "source": [
    "dl_fin.mean()"
   ]
  },
  {
   "cell_type": "code",
   "execution_count": 31,
   "metadata": {},
   "outputs": [],
   "source": [
    "ebm_1 = gnb_scaled_results[:, 1]\n",
    "ebm_2 = dl_scaled_results[:, 1]\n",
    "ebm_3 = lr_l2_scaled_results[:,1]\n",
    "ebm_4 = cart_scaled_results[:,0]\n",
    "ebm_5 = lr_scaled_results[:, 1]\n",
    "ebm_list = [ebm_1, ebm_2, ebm_3, ebm_4, ebm_5]\n",
    "ebm_fin = pd.DataFrame(ebm_list).T.mean(axis=1)"
   ]
  },
  {
   "cell_type": "code",
   "execution_count": 32,
   "metadata": {},
   "outputs": [
    {
     "data": {
      "text/plain": [
       "0     90.334\n",
       "1     75.002\n",
       "2     98.388\n",
       "3     76.394\n",
       "4     92.962\n",
       "5     68.150\n",
       "6     96.306\n",
       "7     98.628\n",
       "8     80.534\n",
       "9     78.672\n",
       "10    92.020\n",
       "11    42.584\n",
       "dtype: float64"
      ]
     },
     "execution_count": 32,
     "metadata": {},
     "output_type": "execute_result"
    }
   ],
   "source": [
    "ebm_fin"
   ]
  },
  {
   "cell_type": "code",
   "execution_count": 33,
   "metadata": {},
   "outputs": [
    {
     "data": {
      "text/plain": [
       "82.49783333333335"
      ]
     },
     "execution_count": 33,
     "metadata": {},
     "output_type": "execute_result"
    }
   ],
   "source": [
    "ebm_fin.mean()"
   ]
  },
  {
   "cell_type": "code",
   "execution_count": 46,
   "metadata": {},
   "outputs": [],
   "source": [
    "clfs = [\"CART\", \"EBM\", \"GNB\",\"LR\", \"LR_l2\", \"DL\"]"
   ]
  },
  {
   "cell_type": "code",
   "execution_count": 51,
   "metadata": {},
   "outputs": [],
   "source": [
    "from scipy.stats import rankdata\n",
    "\n",
    "def wilcoxon_test(mean_results):\n",
    "    # mean_results = np.mean(results, axis=2).T\n",
    "    print(\"\\nMean results:\\n\", mean_results)\n",
    "\n",
    "    ranks = []\n",
    "    for mr in mean_results:\n",
    "        ranks.append(rankdata(mr).tolist())\n",
    "    ranks = np.array(ranks)\n",
    "    ranks = len(ranks[0])+1 - ranks.astype(int)\n",
    "    print(\"\\nRanks:\\n\", ranks)\n",
    "\n",
    "    mean_ranks = np.mean(ranks, axis=0)\n",
    "    print(mean_ranks)\n",
    "\n",
    "    from scipy.stats import ranksums\n",
    "\n",
    "    alfa = .05\n",
    "    w_statistic = np.zeros((len(clfs), len(clfs)))\n",
    "    p_value = np.zeros((len(clfs), len(clfs)))\n",
    "\n",
    "    for i in range(len(clfs)):\n",
    "        for j in range(len(clfs)):\n",
    "            w_statistic[i, j], p_value[i, j] = ranksums(ranks.T[i], ranks.T[j])\n",
    "    \n",
    "    from tabulate import tabulate\n",
    "\n",
    "    headers = clfs\n",
    "    names_column = np.expand_dims((np.array(clfs)), axis=1)\n",
    "    w_statistic_table = np.concatenate((names_column, w_statistic), axis=1)\n",
    "    w_statistic_table = tabulate(w_statistic_table, headers, floatfmt=\".2f\")\n",
    "    p_value_table = np.concatenate((names_column, p_value), axis=1)\n",
    "    p_value_table = tabulate(p_value_table, headers, floatfmt=\".2f\")\n",
    "    print(\"\\nw-statistic:\\n\", w_statistic_table, \"\\n\\np-value:\\n\", p_value_table)\n",
    "    \n",
    "    advantage = np.zeros((len(clfs), len(clfs)))\n",
    "    advantage[w_statistic > 0] = 1\n",
    "    advantage_table = tabulate(np.concatenate(\n",
    "        (names_column, advantage), axis=1), headers)\n",
    "    print(\"\\nAdvantage:\\n\", advantage_table)\n",
    "\n",
    "    significance = np.zeros((len(clfs), len(clfs)))\n",
    "    significance[p_value <= alfa] = 1\n",
    "    significance_table = tabulate(np.concatenate(\n",
    "        (names_column, significance), axis=1), headers)\n",
    "    print(\"\\nStatistical significance (alpha = 0.05):\\n\", significance_table)\n",
    "\n",
    "    stat_better = significance * advantage\n",
    "    stat_better_table = tabulate(np.concatenate(\n",
    "        (names_column, stat_better), axis=1), headers)\n",
    "    print(\"Statistically significantly better:\\n\", stat_better_table)"
   ]
  },
  {
   "cell_type": "code",
   "execution_count": 52,
   "metadata": {},
   "outputs": [
    {
     "data": {
      "text/html": [
       "<div>\n",
       "<style scoped>\n",
       "    .dataframe tbody tr th:only-of-type {\n",
       "        vertical-align: middle;\n",
       "    }\n",
       "\n",
       "    .dataframe tbody tr th {\n",
       "        vertical-align: top;\n",
       "    }\n",
       "\n",
       "    .dataframe thead th {\n",
       "        text-align: right;\n",
       "    }\n",
       "</style>\n",
       "<table border=\"1\" class=\"dataframe\">\n",
       "  <thead>\n",
       "    <tr style=\"text-align: right;\">\n",
       "      <th></th>\n",
       "      <th>0</th>\n",
       "      <th>1</th>\n",
       "      <th>2</th>\n",
       "      <th>3</th>\n",
       "      <th>4</th>\n",
       "      <th>5</th>\n",
       "    </tr>\n",
       "  </thead>\n",
       "  <tbody>\n",
       "    <tr>\n",
       "      <th>0</th>\n",
       "      <td>90.334</td>\n",
       "      <td>67.446</td>\n",
       "      <td>66.254</td>\n",
       "      <td>82.854</td>\n",
       "      <td>67.794</td>\n",
       "      <td>0.000</td>\n",
       "    </tr>\n",
       "    <tr>\n",
       "      <th>1</th>\n",
       "      <td>75.002</td>\n",
       "      <td>66.250</td>\n",
       "      <td>76.806</td>\n",
       "      <td>79.874</td>\n",
       "      <td>66.262</td>\n",
       "      <td>20.000</td>\n",
       "    </tr>\n",
       "    <tr>\n",
       "      <th>2</th>\n",
       "      <td>98.388</td>\n",
       "      <td>85.920</td>\n",
       "      <td>38.250</td>\n",
       "      <td>52.998</td>\n",
       "      <td>41.942</td>\n",
       "      <td>28.264</td>\n",
       "    </tr>\n",
       "    <tr>\n",
       "      <th>3</th>\n",
       "      <td>76.394</td>\n",
       "      <td>94.746</td>\n",
       "      <td>84.954</td>\n",
       "      <td>93.878</td>\n",
       "      <td>95.088</td>\n",
       "      <td>0.000</td>\n",
       "    </tr>\n",
       "    <tr>\n",
       "      <th>4</th>\n",
       "      <td>92.962</td>\n",
       "      <td>73.770</td>\n",
       "      <td>85.966</td>\n",
       "      <td>83.408</td>\n",
       "      <td>0.000</td>\n",
       "      <td>38.426</td>\n",
       "    </tr>\n",
       "    <tr>\n",
       "      <th>5</th>\n",
       "      <td>68.150</td>\n",
       "      <td>84.662</td>\n",
       "      <td>82.980</td>\n",
       "      <td>88.902</td>\n",
       "      <td>37.170</td>\n",
       "      <td>3.480</td>\n",
       "    </tr>\n",
       "    <tr>\n",
       "      <th>6</th>\n",
       "      <td>96.306</td>\n",
       "      <td>89.246</td>\n",
       "      <td>94.988</td>\n",
       "      <td>95.904</td>\n",
       "      <td>2.700</td>\n",
       "      <td>19.988</td>\n",
       "    </tr>\n",
       "    <tr>\n",
       "      <th>7</th>\n",
       "      <td>98.628</td>\n",
       "      <td>89.116</td>\n",
       "      <td>90.894</td>\n",
       "      <td>91.328</td>\n",
       "      <td>71.440</td>\n",
       "      <td>0.000</td>\n",
       "    </tr>\n",
       "    <tr>\n",
       "      <th>8</th>\n",
       "      <td>80.534</td>\n",
       "      <td>77.000</td>\n",
       "      <td>76.276</td>\n",
       "      <td>76.874</td>\n",
       "      <td>0.000</td>\n",
       "      <td>72.940</td>\n",
       "    </tr>\n",
       "    <tr>\n",
       "      <th>9</th>\n",
       "      <td>78.672</td>\n",
       "      <td>89.866</td>\n",
       "      <td>93.968</td>\n",
       "      <td>98.264</td>\n",
       "      <td>66.800</td>\n",
       "      <td>0.000</td>\n",
       "    </tr>\n",
       "    <tr>\n",
       "      <th>10</th>\n",
       "      <td>92.020</td>\n",
       "      <td>94.114</td>\n",
       "      <td>93.156</td>\n",
       "      <td>91.940</td>\n",
       "      <td>0.000</td>\n",
       "      <td>69.056</td>\n",
       "    </tr>\n",
       "    <tr>\n",
       "      <th>11</th>\n",
       "      <td>42.584</td>\n",
       "      <td>55.854</td>\n",
       "      <td>79.548</td>\n",
       "      <td>79.460</td>\n",
       "      <td>34.330</td>\n",
       "      <td>5.352</td>\n",
       "    </tr>\n",
       "  </tbody>\n",
       "</table>\n",
       "</div>"
      ],
      "text/plain": [
       "         0       1       2       3       4       5\n",
       "0   90.334  67.446  66.254  82.854  67.794   0.000\n",
       "1   75.002  66.250  76.806  79.874  66.262  20.000\n",
       "2   98.388  85.920  38.250  52.998  41.942  28.264\n",
       "3   76.394  94.746  84.954  93.878  95.088   0.000\n",
       "4   92.962  73.770  85.966  83.408   0.000  38.426\n",
       "5   68.150  84.662  82.980  88.902  37.170   3.480\n",
       "6   96.306  89.246  94.988  95.904   2.700  19.988\n",
       "7   98.628  89.116  90.894  91.328  71.440   0.000\n",
       "8   80.534  77.000  76.276  76.874   0.000  72.940\n",
       "9   78.672  89.866  93.968  98.264  66.800   0.000\n",
       "10  92.020  94.114  93.156  91.940   0.000  69.056\n",
       "11  42.584  55.854  79.548  79.460  34.330   5.352"
      ]
     },
     "execution_count": 52,
     "metadata": {},
     "output_type": "execute_result"
    }
   ],
   "source": [
    "results_wilcox= pd.DataFrame([ebm_fin, cart_fin, lr_fin, lr_l2_fin, gnb_fin, dl_fin]).T\n",
    "results_wilcox"
   ]
  },
  {
   "cell_type": "code",
   "execution_count": 53,
   "metadata": {},
   "outputs": [
    {
     "name": "stdout",
     "output_type": "stream",
     "text": [
      "\n",
      "Mean results:\n",
      " [[90.334 67.446 66.254 82.854 67.794  0.   ]\n",
      " [75.002 66.25  76.806 79.874 66.262 20.   ]\n",
      " [98.388 85.92  38.25  52.998 41.942 28.264]\n",
      " [76.394 94.746 84.954 93.878 95.088  0.   ]\n",
      " [92.962 73.77  85.966 83.408  0.    38.426]\n",
      " [68.15  84.662 82.98  88.902 37.17   3.48 ]\n",
      " [96.306 89.246 94.988 95.904  2.7   19.988]\n",
      " [98.628 89.116 90.894 91.328 71.44   0.   ]\n",
      " [80.534 77.    76.276 76.874  0.    72.94 ]\n",
      " [78.672 89.866 93.968 98.264 66.8    0.   ]\n",
      " [92.02  94.114 93.156 91.94   0.    69.056]\n",
      " [42.584 55.854 79.548 79.46  34.33   5.352]]\n",
      "\n",
      "Ranks:\n",
      " [[1 4 5 2 3 6]\n",
      " [3 5 2 1 4 6]\n",
      " [1 2 5 3 4 6]\n",
      " [5 2 4 3 1 6]\n",
      " [1 4 2 3 6 5]\n",
      " [4 2 3 1 5 6]\n",
      " [1 4 3 2 6 5]\n",
      " [1 4 3 2 5 6]\n",
      " [1 2 4 3 6 5]\n",
      " [4 3 2 1 5 6]\n",
      " [3 1 2 4 6 5]\n",
      " [4 3 1 2 5 6]]\n",
      "[2.41666667 3.         3.         2.25       4.66666667 5.66666667]\n",
      "\n",
      "w-statistic:\n",
      "          CART    EBM    GNB    LR    LR_l2     DL\n",
      "-----  ------  -----  -----  ----  -------  -----\n",
      "CART     0.00  -1.07  -1.04  0.09    -2.94  -4.04\n",
      "EBM      1.07   0.00   0.03  1.47    -2.68  -4.04\n",
      "GNB      1.04  -0.03   0.00  1.36    -2.60  -3.93\n",
      "LR      -0.09  -1.47  -1.36  0.00    -3.32  -4.16\n",
      "LR_l2    2.94   2.68   2.60  3.32     0.00  -1.85\n",
      "DL       4.04   4.04   3.93  4.16     1.85   0.00 \n",
      "\n",
      "p-value:\n",
      "          CART    EBM    GNB    LR    LR_l2    DL\n",
      "-----  ------  -----  -----  ----  -------  ----\n",
      "CART     1.00   0.29   0.30  0.93     0.00  0.00\n",
      "EBM      0.29   1.00   0.98  0.14     0.01  0.00\n",
      "GNB      0.30   0.98   1.00  0.17     0.01  0.00\n",
      "LR       0.93   0.14   0.17  1.00     0.00  0.00\n",
      "LR_l2    0.00   0.01   0.01  0.00     1.00  0.06\n",
      "DL       0.00   0.00   0.00  0.00     0.06  1.00\n",
      "\n",
      "Advantage:\n",
      "          CART    EBM    GNB    LR    LR_l2    DL\n",
      "-----  ------  -----  -----  ----  -------  ----\n",
      "CART        0      0      0     1        0     0\n",
      "EBM         1      0      1     1        0     0\n",
      "GNB         1      0      0     1        0     0\n",
      "LR          0      0      0     0        0     0\n",
      "LR_l2       1      1      1     1        0     0\n",
      "DL          1      1      1     1        1     0\n",
      "\n",
      "Statistical significance (alpha = 0.05):\n",
      "          CART    EBM    GNB    LR    LR_l2    DL\n",
      "-----  ------  -----  -----  ----  -------  ----\n",
      "CART        0      0      0     0        1     1\n",
      "EBM         0      0      0     0        1     1\n",
      "GNB         0      0      0     0        1     1\n",
      "LR          0      0      0     0        1     1\n",
      "LR_l2       1      1      1     1        0     0\n",
      "DL          1      1      1     1        0     0\n",
      "Statistically significantly better:\n",
      "          CART    EBM    GNB    LR    LR_l2    DL\n",
      "-----  ------  -----  -----  ----  -------  ----\n",
      "CART        0      0      0     0        0     0\n",
      "EBM         0      0      0     0        0     0\n",
      "GNB         0      0      0     0        0     0\n",
      "LR          0      0      0     0        0     0\n",
      "LR_l2       1      1      1     1        0     0\n",
      "DL          1      1      1     1        0     0\n"
     ]
    }
   ],
   "source": [
    "wilcoxon_test(np.array(results_wilcox))"
   ]
  },
  {
   "cell_type": "code",
   "execution_count": null,
   "metadata": {},
   "outputs": [],
   "source": []
  }
 ],
 "metadata": {
  "interpreter": {
   "hash": "54107a2a0eb6a0b2996cb7a94c16d9283b5dc7f969a30a8a01f6dbe77c679ea9"
  },
  "kernelspec": {
   "display_name": "Python 3.9.7 ('mainenv')",
   "language": "python",
   "name": "python3"
  },
  "language_info": {
   "codemirror_mode": {
    "name": "ipython",
    "version": 3
   },
   "file_extension": ".py",
   "mimetype": "text/x-python",
   "name": "python",
   "nbconvert_exporter": "python",
   "pygments_lexer": "ipython3",
   "version": "3.9.7"
  },
  "orig_nbformat": 4
 },
 "nbformat": 4,
 "nbformat_minor": 2
}
