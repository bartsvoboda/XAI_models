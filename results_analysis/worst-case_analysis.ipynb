{
 "cells": [
  {
   "cell_type": "code",
   "execution_count": 1,
   "metadata": {},
   "outputs": [],
   "source": [
    "clf_names = [\"CART\", \"EBM\", \"GNB\", \"LR\", \"LR_l2\", \"DL\"]\n",
    "dataset_names = ['breast', 'campus', 'churn', 'climate',\n",
    "            'compas', 'diabetes', 'german', 'heart',\n",
    "            'adult', 'student', 'bank', 'credit']"
   ]
  },
  {
   "cell_type": "code",
   "execution_count": 57,
   "metadata": {},
   "outputs": [],
   "source": [
    "import pandas as pd \n",
    "import numpy as np"
   ]
  },
  {
   "cell_type": "markdown",
   "metadata": {},
   "source": [
    "## CART GENERATOR"
   ]
  },
  {
   "cell_type": "code",
   "execution_count": 87,
   "metadata": {},
   "outputs": [],
   "source": [
    "def scale_values(worst, best, value):\n",
    "    y = [0, 100]\n",
    "    x = [worst, best]\n",
    "    coeffs = np.polyfit(x, y, 1)\n",
    "    return coeffs[0]*value + coeffs[1]"
   ]
  },
  {
   "cell_type": "code",
   "execution_count": 102,
   "metadata": {},
   "outputs": [],
   "source": [
    "clf_list_cart = [\"EBM\", \"GNB\", \"LR\", \"LR_l2\", \"DL\"]\n",
    "clf_n = len(clf_list_cart)\n",
    "dataset_n = len(dataset_names)\n",
    "cart_results = np.zeros(shape=(dataset_n, clf_n))\n",
    "cart_scaled_results = np.zeros(shape=(dataset_n, clf_n))\n",
    "\n",
    "clf_name_gen = \"CART\"\n",
    "\n",
    "for data_id, dataset in enumerate(dataset_names):\n",
    "    result_df = pd.read_csv(f\"../worst-case_results/{dataset}_{clf_name_gen}.csv\")\n",
    "    result_df = result_df.drop(clf_name_gen, axis=1)\n",
    "\n",
    "    result_df = result_df.groupby(by=\"Param\").mean()\n",
    "\n",
    "    for clf_id, clf_name in enumerate(clf_list_cart):\n",
    "        cart_results[data_id, clf_id] = result_df[clf_name].sum()\n",
    "    \n",
    "    \n",
    "    best = cart_results[data_id].min()\n",
    "    worst = cart_results[data_id].max()\n",
    "\n",
    "    for i in range(len(cart_results[data_id])):\n",
    "        value = np.abs(np.round(scale_values(worst, best, value=cart_results[data_id][i]), decimals=2))\n",
    "        cart_scaled_results[data_id, i] = value\n",
    "        "
   ]
  },
  {
   "cell_type": "code",
   "execution_count": 103,
   "metadata": {},
   "outputs": [
    {
     "data": {
      "text/plain": [
       "array([[100.  ,  57.92,  39.2 ,  74.33,   0.  ],\n",
       "       [100.  ,  83.76,  88.58,  91.03,   0.  ],\n",
       "       [100.  ,  45.08,   5.78,   0.  ,  49.08],\n",
       "       [ 97.26, 100.  ,  90.91,  95.67,   0.  ],\n",
       "       [100.  ,   0.  ,  88.9 ,  88.79,  31.9 ],\n",
       "       [ 92.68,   0.  , 100.  ,  86.8 ,  17.4 ],\n",
       "       [100.  ,  13.5 ,  82.91,  87.06,   0.  ],\n",
       "       [100.  ,  69.23,  95.67,  97.5 ,   0.  ],\n",
       "       [100.  ,   0.  ,  87.91,  88.1 ,  81.87],\n",
       "       [100.  ,  64.54,  97.03,  98.67,   0.  ],\n",
       "       [100.  ,   0.  ,  72.46,  72.85,  98.45],\n",
       "       [100.  ,   0.  ,  50.61,  51.98,  26.76]])"
      ]
     },
     "execution_count": 103,
     "metadata": {},
     "output_type": "execute_result"
    }
   ],
   "source": [
    "cart_scaled_results"
   ]
  },
  {
   "cell_type": "code",
   "execution_count": 95,
   "metadata": {},
   "outputs": [
    {
     "data": {
      "text/plain": [
       "array([[ 0.00000000e+00,  0.00000000e+00,  0.00000000e+00,\n",
       "         0.00000000e+00, -2.84217094e-14],\n",
       "       [ 0.00000000e+00,  0.00000000e+00,  0.00000000e+00,\n",
       "         0.00000000e+00, -2.84217094e-14],\n",
       "       [ 0.00000000e+00,  0.00000000e+00,  0.00000000e+00,\n",
       "         0.00000000e+00,  4.90792561e+01],\n",
       "       [ 0.00000000e+00,  0.00000000e+00,  0.00000000e+00,\n",
       "         0.00000000e+00, -2.84217094e-14],\n",
       "       [ 0.00000000e+00,  0.00000000e+00,  0.00000000e+00,\n",
       "         0.00000000e+00,  3.18982496e+01],\n",
       "       [ 0.00000000e+00,  0.00000000e+00,  0.00000000e+00,\n",
       "         0.00000000e+00,  1.73977009e+01],\n",
       "       [ 0.00000000e+00,  0.00000000e+00,  0.00000000e+00,\n",
       "         0.00000000e+00, -4.26325641e-14],\n",
       "       [ 0.00000000e+00,  0.00000000e+00,  0.00000000e+00,\n",
       "         0.00000000e+00,  2.84217094e-14],\n",
       "       [ 0.00000000e+00,  0.00000000e+00,  0.00000000e+00,\n",
       "         0.00000000e+00,  8.18690213e+01],\n",
       "       [ 0.00000000e+00,  0.00000000e+00,  0.00000000e+00,\n",
       "         0.00000000e+00, -1.42108547e-14],\n",
       "       [ 0.00000000e+00,  0.00000000e+00,  0.00000000e+00,\n",
       "         0.00000000e+00,  9.84519205e+01],\n",
       "       [ 0.00000000e+00,  0.00000000e+00,  0.00000000e+00,\n",
       "         0.00000000e+00,  2.67565223e+01]])"
      ]
     },
     "execution_count": 95,
     "metadata": {},
     "output_type": "execute_result"
    }
   ],
   "source": [
    "cart_scaled_results"
   ]
  },
  {
   "cell_type": "code",
   "execution_count": 90,
   "metadata": {},
   "outputs": [
    {
     "data": {
      "text/plain": [
       "62.64075517152763"
      ]
     },
     "execution_count": 90,
     "metadata": {},
     "output_type": "execute_result"
    }
   ],
   "source": [
    "cart_results[0].min()"
   ]
  },
  {
   "cell_type": "code",
   "execution_count": 77,
   "metadata": {},
   "outputs": [
    {
     "data": {
      "text/plain": [
       "62.64075517152763"
      ]
     },
     "execution_count": 77,
     "metadata": {},
     "output_type": "execute_result"
    }
   ],
   "source": [
    "cart_results[0].min()"
   ]
  },
  {
   "cell_type": "code",
   "execution_count": 3,
   "metadata": {},
   "outputs": [
    {
     "data": {
      "text/html": [
       "<div>\n",
       "<style scoped>\n",
       "    .dataframe tbody tr th:only-of-type {\n",
       "        vertical-align: middle;\n",
       "    }\n",
       "\n",
       "    .dataframe tbody tr th {\n",
       "        vertical-align: top;\n",
       "    }\n",
       "\n",
       "    .dataframe thead th {\n",
       "        text-align: right;\n",
       "    }\n",
       "</style>\n",
       "<table border=\"1\" class=\"dataframe\">\n",
       "  <thead>\n",
       "    <tr style=\"text-align: right;\">\n",
       "      <th></th>\n",
       "      <th>Param</th>\n",
       "      <th>CART</th>\n",
       "      <th>EBM</th>\n",
       "      <th>LR</th>\n",
       "      <th>GNB</th>\n",
       "      <th>LR_l2</th>\n",
       "      <th>DL</th>\n",
       "    </tr>\n",
       "  </thead>\n",
       "  <tbody>\n",
       "    <tr>\n",
       "      <th>0</th>\n",
       "      <td>radius_mean</td>\n",
       "      <td>0.0</td>\n",
       "      <td>0.195020</td>\n",
       "      <td>9.422959</td>\n",
       "      <td>9.349021</td>\n",
       "      <td>4.883782</td>\n",
       "      <td>24.688340</td>\n",
       "    </tr>\n",
       "    <tr>\n",
       "      <th>1</th>\n",
       "      <td>radius_mean</td>\n",
       "      <td>0.0</td>\n",
       "      <td>0.195020</td>\n",
       "      <td>9.422959</td>\n",
       "      <td>9.349021</td>\n",
       "      <td>4.883782</td>\n",
       "      <td>24.688340</td>\n",
       "    </tr>\n",
       "    <tr>\n",
       "      <th>2</th>\n",
       "      <td>radius_mean</td>\n",
       "      <td>0.0</td>\n",
       "      <td>0.195020</td>\n",
       "      <td>9.422959</td>\n",
       "      <td>9.349021</td>\n",
       "      <td>4.883782</td>\n",
       "      <td>24.688340</td>\n",
       "    </tr>\n",
       "    <tr>\n",
       "      <th>3</th>\n",
       "      <td>radius_mean</td>\n",
       "      <td>0.0</td>\n",
       "      <td>0.195020</td>\n",
       "      <td>9.422959</td>\n",
       "      <td>9.349021</td>\n",
       "      <td>4.883782</td>\n",
       "      <td>24.688340</td>\n",
       "    </tr>\n",
       "    <tr>\n",
       "      <th>4</th>\n",
       "      <td>radius_mean</td>\n",
       "      <td>0.0</td>\n",
       "      <td>0.195020</td>\n",
       "      <td>9.422959</td>\n",
       "      <td>9.349021</td>\n",
       "      <td>4.883782</td>\n",
       "      <td>24.688340</td>\n",
       "    </tr>\n",
       "    <tr>\n",
       "      <th>...</th>\n",
       "      <td>...</td>\n",
       "      <td>...</td>\n",
       "      <td>...</td>\n",
       "      <td>...</td>\n",
       "      <td>...</td>\n",
       "      <td>...</td>\n",
       "      <td>...</td>\n",
       "    </tr>\n",
       "    <tr>\n",
       "      <th>205</th>\n",
       "      <td>fractal_dimension_worst</td>\n",
       "      <td>0.0</td>\n",
       "      <td>1.120746</td>\n",
       "      <td>35.767341</td>\n",
       "      <td>7.600761</td>\n",
       "      <td>8.722950</td>\n",
       "      <td>24.789462</td>\n",
       "    </tr>\n",
       "    <tr>\n",
       "      <th>206</th>\n",
       "      <td>fractal_dimension_worst</td>\n",
       "      <td>0.0</td>\n",
       "      <td>1.120746</td>\n",
       "      <td>35.767341</td>\n",
       "      <td>7.600761</td>\n",
       "      <td>8.722950</td>\n",
       "      <td>24.789462</td>\n",
       "    </tr>\n",
       "    <tr>\n",
       "      <th>207</th>\n",
       "      <td>fractal_dimension_worst</td>\n",
       "      <td>0.0</td>\n",
       "      <td>1.120746</td>\n",
       "      <td>35.767341</td>\n",
       "      <td>7.600761</td>\n",
       "      <td>8.722950</td>\n",
       "      <td>24.789462</td>\n",
       "    </tr>\n",
       "    <tr>\n",
       "      <th>208</th>\n",
       "      <td>fractal_dimension_worst</td>\n",
       "      <td>0.0</td>\n",
       "      <td>1.120746</td>\n",
       "      <td>35.767341</td>\n",
       "      <td>7.600761</td>\n",
       "      <td>8.722950</td>\n",
       "      <td>24.789462</td>\n",
       "    </tr>\n",
       "    <tr>\n",
       "      <th>209</th>\n",
       "      <td>fractal_dimension_worst</td>\n",
       "      <td>0.0</td>\n",
       "      <td>1.120746</td>\n",
       "      <td>35.767341</td>\n",
       "      <td>7.600761</td>\n",
       "      <td>8.722950</td>\n",
       "      <td>24.789462</td>\n",
       "    </tr>\n",
       "  </tbody>\n",
       "</table>\n",
       "<p>210 rows × 7 columns</p>\n",
       "</div>"
      ],
      "text/plain": [
       "                       Param  CART       EBM         LR       GNB     LR_l2  \\\n",
       "0                radius_mean   0.0  0.195020   9.422959  9.349021  4.883782   \n",
       "1                radius_mean   0.0  0.195020   9.422959  9.349021  4.883782   \n",
       "2                radius_mean   0.0  0.195020   9.422959  9.349021  4.883782   \n",
       "3                radius_mean   0.0  0.195020   9.422959  9.349021  4.883782   \n",
       "4                radius_mean   0.0  0.195020   9.422959  9.349021  4.883782   \n",
       "..                       ...   ...       ...        ...       ...       ...   \n",
       "205  fractal_dimension_worst   0.0  1.120746  35.767341  7.600761  8.722950   \n",
       "206  fractal_dimension_worst   0.0  1.120746  35.767341  7.600761  8.722950   \n",
       "207  fractal_dimension_worst   0.0  1.120746  35.767341  7.600761  8.722950   \n",
       "208  fractal_dimension_worst   0.0  1.120746  35.767341  7.600761  8.722950   \n",
       "209  fractal_dimension_worst   0.0  1.120746  35.767341  7.600761  8.722950   \n",
       "\n",
       "            DL  \n",
       "0    24.688340  \n",
       "1    24.688340  \n",
       "2    24.688340  \n",
       "3    24.688340  \n",
       "4    24.688340  \n",
       "..         ...  \n",
       "205  24.789462  \n",
       "206  24.789462  \n",
       "207  24.789462  \n",
       "208  24.789462  \n",
       "209  24.789462  \n",
       "\n",
       "[210 rows x 7 columns]"
      ]
     },
     "execution_count": 3,
     "metadata": {},
     "output_type": "execute_result"
    }
   ],
   "source": [
    "#breast dataset \n",
    "data_breast_CART = pd.read_csv(\"../worst-case_results/breast_CART.csv\")\n",
    "data_breast_CART"
   ]
  },
  {
   "cell_type": "code",
   "execution_count": 13,
   "metadata": {},
   "outputs": [],
   "source": [
    "data_breast_CART= data_breast_CART.groupby(by=\"Param\").mean()"
   ]
  },
  {
   "cell_type": "code",
   "execution_count": 14,
   "metadata": {},
   "outputs": [
    {
     "data": {
      "text/html": [
       "<div>\n",
       "<style scoped>\n",
       "    .dataframe tbody tr th:only-of-type {\n",
       "        vertical-align: middle;\n",
       "    }\n",
       "\n",
       "    .dataframe tbody tr th {\n",
       "        vertical-align: top;\n",
       "    }\n",
       "\n",
       "    .dataframe thead th {\n",
       "        text-align: right;\n",
       "    }\n",
       "</style>\n",
       "<table border=\"1\" class=\"dataframe\">\n",
       "  <thead>\n",
       "    <tr style=\"text-align: right;\">\n",
       "      <th></th>\n",
       "      <th>CART</th>\n",
       "      <th>EBM</th>\n",
       "      <th>LR</th>\n",
       "      <th>GNB</th>\n",
       "      <th>LR_l2</th>\n",
       "      <th>DL</th>\n",
       "    </tr>\n",
       "    <tr>\n",
       "      <th>Param</th>\n",
       "      <th></th>\n",
       "      <th></th>\n",
       "      <th></th>\n",
       "      <th></th>\n",
       "      <th></th>\n",
       "      <th></th>\n",
       "    </tr>\n",
       "  </thead>\n",
       "  <tbody>\n",
       "    <tr>\n",
       "      <th>area_mean</th>\n",
       "      <td>0.0</td>\n",
       "      <td>0.772576</td>\n",
       "      <td>8.404504</td>\n",
       "      <td>29.044750</td>\n",
       "      <td>6.591166</td>\n",
       "      <td>24.688340</td>\n",
       "    </tr>\n",
       "    <tr>\n",
       "      <th>area_se</th>\n",
       "      <td>0.0</td>\n",
       "      <td>3.983296</td>\n",
       "      <td>48.495681</td>\n",
       "      <td>49.886755</td>\n",
       "      <td>25.871133</td>\n",
       "      <td>27.213261</td>\n",
       "    </tr>\n",
       "    <tr>\n",
       "      <th>area_worst</th>\n",
       "      <td>0.0</td>\n",
       "      <td>1.593617</td>\n",
       "      <td>43.835454</td>\n",
       "      <td>38.229475</td>\n",
       "      <td>14.022897</td>\n",
       "      <td>55.130190</td>\n",
       "    </tr>\n",
       "    <tr>\n",
       "      <th>compactness_mean</th>\n",
       "      <td>0.0</td>\n",
       "      <td>0.301277</td>\n",
       "      <td>11.695050</td>\n",
       "      <td>6.061822</td>\n",
       "      <td>2.729369</td>\n",
       "      <td>24.901674</td>\n",
       "    </tr>\n",
       "    <tr>\n",
       "      <th>compactness_se</th>\n",
       "      <td>0.0</td>\n",
       "      <td>0.103929</td>\n",
       "      <td>28.131728</td>\n",
       "      <td>3.025329</td>\n",
       "      <td>3.274163</td>\n",
       "      <td>24.787583</td>\n",
       "    </tr>\n",
       "    <tr>\n",
       "      <th>compactness_worst</th>\n",
       "      <td>0.0</td>\n",
       "      <td>0.310255</td>\n",
       "      <td>2.070140</td>\n",
       "      <td>10.456759</td>\n",
       "      <td>3.596867</td>\n",
       "      <td>24.688340</td>\n",
       "    </tr>\n",
       "    <tr>\n",
       "      <th>concave points_mean</th>\n",
       "      <td>0.0</td>\n",
       "      <td>0.444918</td>\n",
       "      <td>15.603792</td>\n",
       "      <td>19.533878</td>\n",
       "      <td>9.291577</td>\n",
       "      <td>34.433076</td>\n",
       "    </tr>\n",
       "    <tr>\n",
       "      <th>concave points_se</th>\n",
       "      <td>0.0</td>\n",
       "      <td>0.111134</td>\n",
       "      <td>39.080843</td>\n",
       "      <td>2.564935</td>\n",
       "      <td>6.145560</td>\n",
       "      <td>24.688340</td>\n",
       "    </tr>\n",
       "    <tr>\n",
       "      <th>concave points_worst</th>\n",
       "      <td>0.0</td>\n",
       "      <td>10.276343</td>\n",
       "      <td>12.290484</td>\n",
       "      <td>7.142884</td>\n",
       "      <td>7.232682</td>\n",
       "      <td>38.453412</td>\n",
       "    </tr>\n",
       "    <tr>\n",
       "      <th>concavity_mean</th>\n",
       "      <td>0.0</td>\n",
       "      <td>0.424166</td>\n",
       "      <td>38.801399</td>\n",
       "      <td>9.326985</td>\n",
       "      <td>9.088397</td>\n",
       "      <td>24.585143</td>\n",
       "    </tr>\n",
       "    <tr>\n",
       "      <th>concavity_se</th>\n",
       "      <td>0.0</td>\n",
       "      <td>0.413740</td>\n",
       "      <td>20.736722</td>\n",
       "      <td>5.536654</td>\n",
       "      <td>2.383535</td>\n",
       "      <td>24.552247</td>\n",
       "    </tr>\n",
       "    <tr>\n",
       "      <th>concavity_worst</th>\n",
       "      <td>0.0</td>\n",
       "      <td>3.979193</td>\n",
       "      <td>14.567222</td>\n",
       "      <td>7.266017</td>\n",
       "      <td>11.471262</td>\n",
       "      <td>26.702111</td>\n",
       "    </tr>\n",
       "    <tr>\n",
       "      <th>fractal_dimension_mean</th>\n",
       "      <td>0.0</td>\n",
       "      <td>0.080694</td>\n",
       "      <td>4.655149</td>\n",
       "      <td>1.844793</td>\n",
       "      <td>2.560574</td>\n",
       "      <td>24.688340</td>\n",
       "    </tr>\n",
       "    <tr>\n",
       "      <th>fractal_dimension_se</th>\n",
       "      <td>0.0</td>\n",
       "      <td>0.310008</td>\n",
       "      <td>21.684962</td>\n",
       "      <td>3.409047</td>\n",
       "      <td>4.902401</td>\n",
       "      <td>24.811114</td>\n",
       "    </tr>\n",
       "    <tr>\n",
       "      <th>fractal_dimension_worst</th>\n",
       "      <td>0.0</td>\n",
       "      <td>1.120746</td>\n",
       "      <td>35.767341</td>\n",
       "      <td>7.600761</td>\n",
       "      <td>8.722950</td>\n",
       "      <td>24.789462</td>\n",
       "    </tr>\n",
       "    <tr>\n",
       "      <th>perimeter_mean</th>\n",
       "      <td>0.0</td>\n",
       "      <td>0.794737</td>\n",
       "      <td>6.132566</td>\n",
       "      <td>10.880101</td>\n",
       "      <td>4.865063</td>\n",
       "      <td>24.688340</td>\n",
       "    </tr>\n",
       "    <tr>\n",
       "      <th>perimeter_se</th>\n",
       "      <td>0.0</td>\n",
       "      <td>0.311196</td>\n",
       "      <td>13.956921</td>\n",
       "      <td>43.061434</td>\n",
       "      <td>16.379189</td>\n",
       "      <td>24.690753</td>\n",
       "    </tr>\n",
       "    <tr>\n",
       "      <th>perimeter_worst</th>\n",
       "      <td>0.0</td>\n",
       "      <td>1.547904</td>\n",
       "      <td>24.573527</td>\n",
       "      <td>21.513893</td>\n",
       "      <td>8.276958</td>\n",
       "      <td>32.106187</td>\n",
       "    </tr>\n",
       "    <tr>\n",
       "      <th>radius_mean</th>\n",
       "      <td>0.0</td>\n",
       "      <td>0.195020</td>\n",
       "      <td>9.422959</td>\n",
       "      <td>9.349021</td>\n",
       "      <td>4.883782</td>\n",
       "      <td>24.688340</td>\n",
       "    </tr>\n",
       "    <tr>\n",
       "      <th>radius_se</th>\n",
       "      <td>0.0</td>\n",
       "      <td>0.445012</td>\n",
       "      <td>40.342155</td>\n",
       "      <td>40.797099</td>\n",
       "      <td>30.233591</td>\n",
       "      <td>24.688340</td>\n",
       "    </tr>\n",
       "    <tr>\n",
       "      <th>radius_worst</th>\n",
       "      <td>0.0</td>\n",
       "      <td>24.020153</td>\n",
       "      <td>11.514619</td>\n",
       "      <td>17.346394</td>\n",
       "      <td>16.754221</td>\n",
       "      <td>19.089655</td>\n",
       "    </tr>\n",
       "    <tr>\n",
       "      <th>smoothness_mean</th>\n",
       "      <td>0.0</td>\n",
       "      <td>0.803180</td>\n",
       "      <td>10.528609</td>\n",
       "      <td>1.382744</td>\n",
       "      <td>3.630929</td>\n",
       "      <td>24.422056</td>\n",
       "    </tr>\n",
       "    <tr>\n",
       "      <th>smoothness_se</th>\n",
       "      <td>0.0</td>\n",
       "      <td>0.358429</td>\n",
       "      <td>4.240238</td>\n",
       "      <td>1.496088</td>\n",
       "      <td>6.916538</td>\n",
       "      <td>25.025007</td>\n",
       "    </tr>\n",
       "    <tr>\n",
       "      <th>smoothness_worst</th>\n",
       "      <td>0.0</td>\n",
       "      <td>4.247307</td>\n",
       "      <td>6.015503</td>\n",
       "      <td>5.935087</td>\n",
       "      <td>9.158468</td>\n",
       "      <td>28.590395</td>\n",
       "    </tr>\n",
       "    <tr>\n",
       "      <th>symmetry_mean</th>\n",
       "      <td>0.0</td>\n",
       "      <td>0.278813</td>\n",
       "      <td>3.268921</td>\n",
       "      <td>2.256384</td>\n",
       "      <td>3.616361</td>\n",
       "      <td>24.771952</td>\n",
       "    </tr>\n",
       "    <tr>\n",
       "      <th>symmetry_se</th>\n",
       "      <td>0.0</td>\n",
       "      <td>0.296436</td>\n",
       "      <td>3.337404</td>\n",
       "      <td>4.684619</td>\n",
       "      <td>2.008985</td>\n",
       "      <td>24.688340</td>\n",
       "    </tr>\n",
       "    <tr>\n",
       "      <th>symmetry_worst</th>\n",
       "      <td>0.0</td>\n",
       "      <td>0.895531</td>\n",
       "      <td>18.027261</td>\n",
       "      <td>8.874873</td>\n",
       "      <td>11.944116</td>\n",
       "      <td>24.825007</td>\n",
       "    </tr>\n",
       "    <tr>\n",
       "      <th>texture_mean</th>\n",
       "      <td>0.0</td>\n",
       "      <td>0.412761</td>\n",
       "      <td>2.421144</td>\n",
       "      <td>2.207118</td>\n",
       "      <td>4.897744</td>\n",
       "      <td>24.827772</td>\n",
       "    </tr>\n",
       "    <tr>\n",
       "      <th>texture_se</th>\n",
       "      <td>0.0</td>\n",
       "      <td>0.167062</td>\n",
       "      <td>3.870246</td>\n",
       "      <td>1.311749</td>\n",
       "      <td>2.251284</td>\n",
       "      <td>24.688340</td>\n",
       "    </tr>\n",
       "    <tr>\n",
       "      <th>texture_worst</th>\n",
       "      <td>0.0</td>\n",
       "      <td>3.641323</td>\n",
       "      <td>12.361007</td>\n",
       "      <td>4.231511</td>\n",
       "      <td>10.256224</td>\n",
       "      <td>27.102519</td>\n",
       "    </tr>\n",
       "  </tbody>\n",
       "</table>\n",
       "</div>"
      ],
      "text/plain": [
       "                         CART        EBM         LR        GNB      LR_l2  \\\n",
       "Param                                                                       \n",
       "area_mean                 0.0   0.772576   8.404504  29.044750   6.591166   \n",
       "area_se                   0.0   3.983296  48.495681  49.886755  25.871133   \n",
       "area_worst                0.0   1.593617  43.835454  38.229475  14.022897   \n",
       "compactness_mean          0.0   0.301277  11.695050   6.061822   2.729369   \n",
       "compactness_se            0.0   0.103929  28.131728   3.025329   3.274163   \n",
       "compactness_worst         0.0   0.310255   2.070140  10.456759   3.596867   \n",
       "concave points_mean       0.0   0.444918  15.603792  19.533878   9.291577   \n",
       "concave points_se         0.0   0.111134  39.080843   2.564935   6.145560   \n",
       "concave points_worst      0.0  10.276343  12.290484   7.142884   7.232682   \n",
       "concavity_mean            0.0   0.424166  38.801399   9.326985   9.088397   \n",
       "concavity_se              0.0   0.413740  20.736722   5.536654   2.383535   \n",
       "concavity_worst           0.0   3.979193  14.567222   7.266017  11.471262   \n",
       "fractal_dimension_mean    0.0   0.080694   4.655149   1.844793   2.560574   \n",
       "fractal_dimension_se      0.0   0.310008  21.684962   3.409047   4.902401   \n",
       "fractal_dimension_worst   0.0   1.120746  35.767341   7.600761   8.722950   \n",
       "perimeter_mean            0.0   0.794737   6.132566  10.880101   4.865063   \n",
       "perimeter_se              0.0   0.311196  13.956921  43.061434  16.379189   \n",
       "perimeter_worst           0.0   1.547904  24.573527  21.513893   8.276958   \n",
       "radius_mean               0.0   0.195020   9.422959   9.349021   4.883782   \n",
       "radius_se                 0.0   0.445012  40.342155  40.797099  30.233591   \n",
       "radius_worst              0.0  24.020153  11.514619  17.346394  16.754221   \n",
       "smoothness_mean           0.0   0.803180  10.528609   1.382744   3.630929   \n",
       "smoothness_se             0.0   0.358429   4.240238   1.496088   6.916538   \n",
       "smoothness_worst          0.0   4.247307   6.015503   5.935087   9.158468   \n",
       "symmetry_mean             0.0   0.278813   3.268921   2.256384   3.616361   \n",
       "symmetry_se               0.0   0.296436   3.337404   4.684619   2.008985   \n",
       "symmetry_worst            0.0   0.895531  18.027261   8.874873  11.944116   \n",
       "texture_mean              0.0   0.412761   2.421144   2.207118   4.897744   \n",
       "texture_se                0.0   0.167062   3.870246   1.311749   2.251284   \n",
       "texture_worst             0.0   3.641323  12.361007   4.231511  10.256224   \n",
       "\n",
       "                                DL  \n",
       "Param                               \n",
       "area_mean                24.688340  \n",
       "area_se                  27.213261  \n",
       "area_worst               55.130190  \n",
       "compactness_mean         24.901674  \n",
       "compactness_se           24.787583  \n",
       "compactness_worst        24.688340  \n",
       "concave points_mean      34.433076  \n",
       "concave points_se        24.688340  \n",
       "concave points_worst     38.453412  \n",
       "concavity_mean           24.585143  \n",
       "concavity_se             24.552247  \n",
       "concavity_worst          26.702111  \n",
       "fractal_dimension_mean   24.688340  \n",
       "fractal_dimension_se     24.811114  \n",
       "fractal_dimension_worst  24.789462  \n",
       "perimeter_mean           24.688340  \n",
       "perimeter_se             24.690753  \n",
       "perimeter_worst          32.106187  \n",
       "radius_mean              24.688340  \n",
       "radius_se                24.688340  \n",
       "radius_worst             19.089655  \n",
       "smoothness_mean          24.422056  \n",
       "smoothness_se            25.025007  \n",
       "smoothness_worst         28.590395  \n",
       "symmetry_mean            24.771952  \n",
       "symmetry_se              24.688340  \n",
       "symmetry_worst           24.825007  \n",
       "texture_mean             24.827772  \n",
       "texture_se               24.688340  \n",
       "texture_worst            27.102519  "
      ]
     },
     "execution_count": 14,
     "metadata": {},
     "output_type": "execute_result"
    }
   ],
   "source": [
    "data_breast_CART"
   ]
  },
  {
   "cell_type": "code",
   "execution_count": 16,
   "metadata": {},
   "outputs": [
    {
     "data": {
      "text/plain": [
       "62.64075517152763"
      ]
     },
     "execution_count": 16,
     "metadata": {},
     "output_type": "execute_result"
    }
   ],
   "source": [
    "data_breast_CART[\"EBM\"].sum()"
   ]
  },
  {
   "cell_type": "code",
   "execution_count": 17,
   "metadata": {},
   "outputs": [
    {
     "data": {
      "text/plain": [
       "515.8335524653005"
      ]
     },
     "execution_count": 17,
     "metadata": {},
     "output_type": "execute_result"
    }
   ],
   "source": [
    "data_breast_CART[\"LR\"].sum()"
   ]
  },
  {
   "cell_type": "code",
   "execution_count": 18,
   "metadata": {},
   "outputs": [
    {
     "data": {
      "text/plain": [
       "253.95798819980158"
      ]
     },
     "execution_count": 18,
     "metadata": {},
     "output_type": "execute_result"
    }
   ],
   "source": [
    "data_breast_CART[\"LR_l2\"].sum()"
   ]
  },
  {
   "cell_type": "code",
   "execution_count": 19,
   "metadata": {},
   "outputs": [
    {
     "data": {
      "text/plain": [
       "376.2589558962798"
      ]
     },
     "execution_count": 19,
     "metadata": {},
     "output_type": "execute_result"
    }
   ],
   "source": [
    "data_breast_CART[\"GNB\"].sum()"
   ]
  },
  {
   "cell_type": "code",
   "execution_count": 20,
   "metadata": {},
   "outputs": [
    {
     "data": {
      "text/plain": [
       "808.0056410478002"
      ]
     },
     "execution_count": 20,
     "metadata": {},
     "output_type": "execute_result"
    }
   ],
   "source": [
    "data_breast_CART[\"DL\"].sum()"
   ]
  },
  {
   "cell_type": "code",
   "execution_count": 21,
   "metadata": {},
   "outputs": [],
   "source": [
    "best = data_breast_CART[\"EBM\"].sum()\n",
    "worst = data_breast_CART[\"DL\"].sum()"
   ]
  },
  {
   "cell_type": "code",
   "execution_count": 46,
   "metadata": {},
   "outputs": [
    {
     "data": {
      "text/plain": [
       "62.64075517152763"
      ]
     },
     "execution_count": 46,
     "metadata": {},
     "output_type": "execute_result"
    }
   ],
   "source": [
    "best"
   ]
  },
  {
   "cell_type": "code",
   "execution_count": 47,
   "metadata": {},
   "outputs": [
    {
     "data": {
      "text/plain": [
       "808.0056410478002"
      ]
     },
     "execution_count": 47,
     "metadata": {},
     "output_type": "execute_result"
    }
   ],
   "source": [
    "worst"
   ]
  },
  {
   "cell_type": "code",
   "execution_count": 51,
   "metadata": {},
   "outputs": [],
   "source": [
    "y = [0, 100]\n",
    "x = [worst, best]\n",
    "coeffs = np.polyfit(x, y, 1)"
   ]
  },
  {
   "cell_type": "code",
   "execution_count": 52,
   "metadata": {},
   "outputs": [
    {
     "data": {
      "text/plain": [
       "array([ -0.13416248, 108.40403893])"
      ]
     },
     "execution_count": 52,
     "metadata": {},
     "output_type": "execute_result"
    }
   ],
   "source": [
    "coeffs"
   ]
  },
  {
   "cell_type": "code",
   "execution_count": 53,
   "metadata": {},
   "outputs": [],
   "source": [
    "a = coeffs[0]\n",
    "b = coeffs[1]"
   ]
  },
  {
   "cell_type": "code",
   "execution_count": 58,
   "metadata": {},
   "outputs": [],
   "source": [
    "def scale_values(worst, best, value):\n",
    "    y = [0, 100]\n",
    "    x = [worst, best]\n",
    "    coeffs = np.polyfit(x, y, 1)\n",
    "    return coeffs[0]*value + coeffs[1]"
   ]
  },
  {
   "cell_type": "code",
   "execution_count": 59,
   "metadata": {},
   "outputs": [
    {
     "data": {
      "text/plain": [
       "39.19853136615279"
      ]
     },
     "execution_count": 59,
     "metadata": {},
     "output_type": "execute_result"
    }
   ],
   "source": [
    "scale_values(worst, best, value=data_breast_CART[\"LR\"].sum())"
   ]
  }
 ],
 "metadata": {
  "interpreter": {
   "hash": "54107a2a0eb6a0b2996cb7a94c16d9283b5dc7f969a30a8a01f6dbe77c679ea9"
  },
  "kernelspec": {
   "display_name": "Python 3.9.7 ('mainenv')",
   "language": "python",
   "name": "python3"
  },
  "language_info": {
   "codemirror_mode": {
    "name": "ipython",
    "version": 3
   },
   "file_extension": ".py",
   "mimetype": "text/x-python",
   "name": "python",
   "nbconvert_exporter": "python",
   "pygments_lexer": "ipython3",
   "version": "3.9.7"
  },
  "orig_nbformat": 4
 },
 "nbformat": 4,
 "nbformat_minor": 2
}
